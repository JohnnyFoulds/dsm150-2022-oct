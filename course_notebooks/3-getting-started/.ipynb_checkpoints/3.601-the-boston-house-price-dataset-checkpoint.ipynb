{
 "cells": [
  {
   "cell_type": "markdown",
   "metadata": {
    "slideshow": {
     "slide_type": "slide"
    }
   },
   "source": [
    "The IMDB and Reuters (and MNIST) problems are examples of classification\n",
    "\n",
    "Decide a particular class from a finite number of possibilities\n",
    "\n",
    "They are discrete problems"
   ]
  },
  {
   "cell_type": "markdown",
   "metadata": {
    "slideshow": {
     "slide_type": "notes"
    }
   },
   "source": [
    "The IMDB and Reuters (and MNIST) problems are examples of single label classification: decide a particular class from a finite number of possibilities. They are 'discrete' problems."
   ]
  },
  {
   "cell_type": "markdown",
   "metadata": {
    "slideshow": {
     "slide_type": "slide"
    }
   },
   "source": [
    "**Regression** problems, on the other hand, are continuous\n",
    "\n",
    "E.g. Predicting tomorrow's temperature, the time to run a marathon or... "
   ]
  },
  {
   "cell_type": "markdown",
   "metadata": {
    "slideshow": {
     "slide_type": "notes"
    }
   },
   "source": [
    "**Regression** problems, on the other hand, are continuous. For example, Predicting tomorrow's temperature, the time to run a marathon or... "
   ]
  },
  {
   "cell_type": "markdown",
   "metadata": {
    "slideshow": {
     "slide_type": "slide"
    }
   },
   "source": [
    "1970s house prices in a Boston suburb "
   ]
  },
  {
   "cell_type": "markdown",
   "metadata": {
    "slideshow": {
     "slide_type": "notes"
    }
   },
   "source": [
    "1970s house prices in a Boston suburb. The problem is continuous because houses can have (almost) any price - house price is (essentially) a continuous variable."
   ]
  },
  {
   "cell_type": "markdown",
   "metadata": {
    "slideshow": {
     "slide_type": "slide"
    }
   },
   "source": [
    "The Boston housing dataset\n",
    "\n",
    "The aim is the prediction of the median house price on the basis of knowledge of local property tax, crime rate, rooms per dwelling, accesibility to highways and nine other features"
   ]
  },
  {
   "cell_type": "markdown",
   "metadata": {
    "slideshow": {
     "slide_type": "notes"
    }
   },
   "source": [
    "\n",
    "The aim, for the Boston housing dataset, is the prediction of the median house price on the basis of knowledge of local property tax, crime rate, rooms per dwelling, accesibility to highways and nine other features."
   ]
  },
  {
   "cell_type": "markdown",
   "metadata": {
    "slideshow": {
     "slide_type": "slide"
    }
   },
   "source": [
    "There are only 506 data samples, split into 404 training and 102 test \n",
    "\n",
    "Furthermore, each feature has a different scale\n",
    "\n",
    "Some features are values in $[0, 1]$, some in $[1, 12]$, some in $[0, 100]$"
   ]
  },
  {
   "cell_type": "markdown",
   "metadata": {
    "slideshow": {
     "slide_type": "notes"
    }
   },
   "source": [
    "There are only 506 data samples, split into 404 training and 102 test and furthermore, each feature has a different scale. Some features are values in $[0, 1]$, some in $[1, 12]$, some in $[0, 100]$."
   ]
  },
  {
   "cell_type": "code",
   "execution_count": null,
   "metadata": {
    "slideshow": {
     "slide_type": "slide"
    }
   },
   "outputs": [],
   "source": [
    "from tensorflow.keras.datasets import boston_housing\n",
    "\n",
    "(train_data, train_targets), (test_data, test_targets) = boston_housing.load_data()\n",
    "print(train_data.shape, test_data.shape)"
   ]
  },
  {
   "cell_type": "markdown",
   "metadata": {
    "slideshow": {
     "slide_type": "notes"
    }
   },
   "source": [
    "There are 404 and 102 samples in training and test sets, and each label has 13 numerical features"
   ]
  },
  {
   "cell_type": "code",
   "execution_count": null,
   "metadata": {
    "slideshow": {
     "slide_type": "slide"
    }
   },
   "outputs": [],
   "source": [
    "print(train_data[0])"
   ]
  },
  {
   "cell_type": "markdown",
   "metadata": {
    "slideshow": {
     "slide_type": "notes"
    }
   },
   "source": [
    "The first sample."
   ]
  },
  {
   "cell_type": "code",
   "execution_count": null,
   "metadata": {
    "slideshow": {
     "slide_type": "slide"
    }
   },
   "outputs": [],
   "source": [
    "train_targets[:10] # in 1000's"
   ]
  },
  {
   "cell_type": "markdown",
   "metadata": {
    "slideshow": {
     "slide_type": "notes"
    }
   },
   "source": [
    "The targets of the first ten samples in thousands of dollars."
   ]
  },
  {
   "cell_type": "code",
   "execution_count": null,
   "metadata": {
    "slideshow": {
     "slide_type": "slide"
    }
   },
   "outputs": [],
   "source": [
    "for row in range(10):\n",
    "    for col in range(8):\n",
    "        x = train_data[row, col]        \n",
    "        print(\"{:10.4f}\".format(x), end='')\n",
    "    print('\\n') "
   ]
  },
  {
   "cell_type": "markdown",
   "metadata": {
    "slideshow": {
     "slide_type": "notes"
    }
   },
   "source": [
    "The data in tabular form: samples in rows, features in columns."
   ]
  },
  {
   "cell_type": "markdown",
   "metadata": {
    "slideshow": {
     "slide_type": "slide"
    }
   },
   "source": [
    "These ranges present difficulties\n",
    "\n",
    "Neural networks have difficulty adapting to heterogeneous data \n",
    "\n",
    "The data will have to be **normalised**"
   ]
  },
  {
   "cell_type": "markdown",
   "metadata": {
    "slideshow": {
     "slide_type": "notes"
    }
   },
   "source": [
    "These ranges present difficulties because neural networks have difficulty adapting to heterogeneous data. The data will have to be **normalised**"
   ]
  }
 ],
 "metadata": {
  "celltoolbar": "Slideshow",
  "kernelspec": {
   "display_name": "Python 3",
   "language": "python",
   "name": "python3"
  },
  "language_info": {
   "codemirror_mode": {
    "name": "ipython",
    "version": 3
   },
   "file_extension": ".py",
   "mimetype": "text/x-python",
   "name": "python",
   "nbconvert_exporter": "python",
   "pygments_lexer": "ipython3",
   "version": "3.8.5"
  }
 },
 "nbformat": 4,
 "nbformat_minor": 4
}
