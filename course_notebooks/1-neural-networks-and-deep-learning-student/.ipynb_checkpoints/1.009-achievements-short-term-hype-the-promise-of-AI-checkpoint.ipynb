{
 "cells": [
  {
   "cell_type": "markdown",
   "metadata": {
    "slideshow": {
     "slide_type": "slide"
    }
   },
   "source": [
    "Deep learning has been in the ascendant since the early 2010s\n",
    "\n",
    "Solves some problems that machines have previously found very difficult"
   ]
  },
  {
   "cell_type": "markdown",
   "metadata": {
    "slideshow": {
     "slide_type": "slide"
    }
   },
   "source": [
    "Near human level\n",
    "- image classification\n",
    "- speech recognition\n",
    "- handwriting transcription\n",
    "- autonomous driving    "
   ]
  },
  {
   "cell_type": "markdown",
   "metadata": {
    "slideshow": {
     "slide_type": "slide"
    }
   },
   "source": [
    "Improved\n",
    " - machine translation\n",
    " - text-to-speech\n",
    " - ad targeting\n",
    " - search results"
   ]
  },
  {
   "cell_type": "markdown",
   "metadata": {
    "slideshow": {
     "slide_type": "slide"
    }
   },
   "source": [
    "Beakthroughs\n",
    "- digital assistance\n",
    "- Go and Chess\n",
    "- medical diagnosis"
   ]
  },
  {
   "cell_type": "markdown",
   "metadata": {
    "slideshow": {
     "slide_type": "slide"
    }
   },
   "source": [
    "Visionary\n",
    "- non perceptual and natural language skills such as formal reasoning\n",
    "- science and software development"
   ]
  },
  {
   "cell_type": "markdown",
   "metadata": {
    "slideshow": {
     "slide_type": "slide"
    }
   },
   "source": [
    "Out of reach\n",
    "- believable dialogue\n",
    "- human-level translation across several languages\n",
    "- complete natural langaige understanding\n",
    "- general intelligence"
   ]
  },
  {
   "cell_type": "markdown",
   "metadata": {
    "slideshow": {
     "slide_type": "slide"
    }
   },
   "source": [
    "History of AI\n",
    "- 1960s: symbolic AI\n",
    "- 1970s: AI winter\n",
    "- 1980's: expert systems\n",
    "- 1990s: a second winter\n",
    "- 2010s: deep learning\n",
    "- 2020s: ?"
   ]
  },
  {
   "cell_type": "markdown",
   "metadata": {
    "slideshow": {
     "slide_type": "slide"
    }
   },
   "source": [
    "Reasons to doubt a third winter\n",
    "\n",
    "- many DL developments await deployment\n",
    "\n",
    "- continued diffusion into everyday life even if research stalls\n",
    "\n",
    "- many new applications: assisting human scientists, climatology, drug discovery..."
   ]
  }
 ],
 "metadata": {
  "celltoolbar": "Slideshow",
  "kernelspec": {
   "display_name": "Python 3",
   "language": "python",
   "name": "python3"
  },
  "language_info": {
   "codemirror_mode": {
    "name": "ipython",
    "version": 3
   },
   "file_extension": ".py",
   "mimetype": "text/x-python",
   "name": "python",
   "nbconvert_exporter": "python",
   "pygments_lexer": "ipython3",
   "version": "3.8.5"
  },
  "rise": {
   "enable_chalkboard": true
  }
 },
 "nbformat": 4,
 "nbformat_minor": 2
}
