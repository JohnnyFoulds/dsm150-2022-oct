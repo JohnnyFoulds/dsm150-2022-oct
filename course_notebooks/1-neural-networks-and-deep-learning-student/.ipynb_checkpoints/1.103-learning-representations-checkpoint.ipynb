{
 "cells": [
  {
   "cell_type": "markdown",
   "metadata": {
    "slideshow": {
     "slide_type": "slide"
    }
   },
   "source": [
    "Machine learning requires\n",
    "\n",
    "- input data e.g. images  \n",
    "- output expectation e.g. image tags  \n",
    "- a measure of the difference between output and expectation  "
   ]
  },
  {
   "cell_type": "markdown",
   "metadata": {
    "slideshow": {
     "slide_type": "notes"
    }
   },
   "source": [
    "Machine learning requires input data (cat and dog images), output expectations (the labels 'cat' and 'dog') and a measure of how different the output is from the expectation (the prediction is 36% wrong)."
   ]
  },
  {
   "cell_type": "markdown",
   "metadata": {
    "slideshow": {
     "slide_type": "slide"
    }
   },
   "source": [
    "The adjustment step is called **learning**\n",
    "\n",
    "Data is progressively transformed into a series of intermediate representations\n",
    "\n",
    "A **statistical model** learns a combined transformation from input data into a meaningful output"
   ]
  },
  {
   "cell_type": "markdown",
   "metadata": {
    "slideshow": {
     "slide_type": "notes"
    }
   },
   "source": [
    "Parameters are tweaked in a series of steps and the machine's predictions (hopefully) improve. The program - or statistical model, or specifically, the neural network - makes predictions by processing data through a series of intermediate representations - from pixel maps to labels 'dog' or 'cat'."
   ]
  },
  {
   "cell_type": "markdown",
   "metadata": {
    "slideshow": {
     "slide_type": "slide"
    }
   },
   "source": [
    "E.g. data points (x, y) are 'red' or 'black'\n",
    "\n",
    "Seek a transformation $(x, y) \\to \\{\\text{black}, \\text{red}\\}$"
   ]
  },
  {
   "cell_type": "markdown",
   "metadata": {
    "slideshow": {
     "slide_type": "notes"
    }
   },
   "source": [
    "For example, suppose data is of the form (x, y) - a two element vector. Each data point is labeled 'black' or 'red'. We wish to identify which data points are red and which are black."
   ]
  },
  {
   "cell_type": "code",
   "execution_count": 1,
   "metadata": {
    "slideshow": {
     "slide_type": "skip"
    }
   },
   "outputs": [],
   "source": [
    "import numpy as np\n",
    "import matplotlib.pyplot as plt\n",
    "\n",
    "num_points = 100\n",
    "x = -1 + 2 * np.random.random(num_points)\n",
    "L = np.sqrt(1 - x * x)\n",
    "y = L * (-1 + 2 * np.random.random(num_points))\n",
    "\n",
    "def f(x):\n",
    "    return -2 * x\n",
    "\n",
    "x_black = x[y > f(x)]\n",
    "y_black = y[y > f(x)]\n",
    "\n",
    "x_red = x[y <= f(x)]\n",
    "y_red = y[y <= f(x)]"
   ]
  },
  {
   "cell_type": "code",
   "execution_count": 2,
   "metadata": {
    "slideshow": {
     "slide_type": "skip"
    }
   },
   "outputs": [],
   "source": [
    "def plot_data():\n",
    "    \n",
    "    plt.axes().set_aspect('equal')\n",
    "    plt.plot(x_black, y_black, 'ko')\n",
    "    plt.plot(x_red, y_red, 'ro')\n",
    "\n",
    "    u = np.linspace(-1, 1, 100)\n",
    "    v = np.zeros(100)\n",
    "    \n",
    "    plt.plot(u, v, 'b')\n",
    "    plt.plot(v, u, 'b')\n",
    "    plt.show()"
   ]
  },
  {
   "cell_type": "code",
   "execution_count": 3,
   "metadata": {
    "slideshow": {
     "slide_type": "skip"
    }
   },
   "outputs": [],
   "source": [
    "def print_data():\n",
    "    for i in range(len(x)):\n",
    "        label = 'black' if y[i] > f(x[i]) else 'red'\n",
    "        print(f'{x[i]: 12.10f}', ', ', f'{y[i]: 12.10f}', '\\t', label,  sep='')"
   ]
  },
  {
   "cell_type": "code",
   "execution_count": 4,
   "metadata": {
    "slideshow": {
     "slide_type": "slide"
    }
   },
   "outputs": [
    {
     "name": "stdout",
     "output_type": "stream",
     "text": [
      " 0.8862615416, -0.3256014135\tblack\n",
      "-0.8481013866,  0.2530601917\tred\n",
      "-0.9997114027, -0.0175390804\tred\n",
      "-0.7148490628, -0.1221876224\tred\n",
      " 0.1933078787, -0.5210938903\tred\n",
      " 0.2073261150, -0.5669782139\tred\n",
      "-0.5154902370,  0.7286087665\tred\n",
      " 0.3394623868,  0.7994790933\tblack\n",
      " 0.0225512577, -0.4877471435\tred\n",
      " 0.3752621044,  0.5902860934\tblack\n",
      " 0.8849482976, -0.0003236785\tblack\n",
      " 0.6560438464,  0.5500294656\tblack\n",
      " 0.2267312348, -0.9678421572\tred\n",
      "-0.7050484057,  0.2022646622\tred\n",
      "-0.1624243178, -0.9148573958\tred\n",
      " 0.0178365865,  0.1973893559\tblack\n",
      "-0.5064155872, -0.4289173283\tred\n",
      "-0.6552075525,  0.1391611220\tred\n",
      " 0.2505925669, -0.4677239740\tblack\n",
      " 0.1091222882, -0.5658824065\tred\n",
      "-0.7027944080, -0.3219079578\tred\n",
      " 0.3185749568, -0.1701590281\tblack\n",
      " 0.3663838680,  0.1065234943\tblack\n",
      "-0.0772138176, -0.1173095102\tred\n",
      " 0.6376590904,  0.6881789551\tblack\n",
      " 0.4099058950,  0.8624461039\tblack\n",
      " 0.6276644668,  0.2254226911\tblack\n",
      "-0.4874660584, -0.4647130033\tred\n",
      "-0.4138159334,  0.7628789024\tred\n",
      "-0.3617825243,  0.5548272274\tred\n",
      " 0.6782771420,  0.4052422763\tblack\n",
      "-0.5213645471, -0.7307270233\tred\n",
      " 0.1581319287,  0.7888411528\tblack\n",
      "-0.6282174814,  0.2066637349\tred\n",
      "-0.4633993693, -0.0030454735\tred\n",
      "-0.1143259415, -0.2548827644\tred\n",
      " 0.8132324055,  0.5389112735\tblack\n",
      " 0.3127625879, -0.0918550353\tblack\n",
      " 0.5775943969, -0.2579216425\tblack\n",
      "-0.9561956550, -0.2346336101\tred\n",
      "-0.1392419400,  0.2598751339\tred\n",
      " 0.2580845831,  0.0311026915\tblack\n",
      " 0.0915987052, -0.6364955269\tred\n",
      "-0.4525257315,  0.7620905070\tred\n",
      "-0.3708678178, -0.1077026031\tred\n",
      "-0.6603062187,  0.1012096686\tred\n",
      " 0.2884820473, -0.5462887246\tblack\n",
      " 0.4269505369, -0.1400412357\tblack\n",
      "-0.5577732896,  0.2691342006\tred\n",
      " 0.6575383392,  0.0741396332\tblack\n",
      " 0.1307341052,  0.2989023821\tblack\n",
      "-0.5428609893, -0.5607443065\tred\n",
      " 0.0735708614, -0.1030750573\tblack\n",
      " 0.3343917848, -0.7400228514\tred\n",
      " 0.4879562514,  0.7988392148\tblack\n",
      "-0.9411454370, -0.2395392198\tred\n",
      "-0.9716278582, -0.2083853235\tred\n",
      " 0.0526942303, -0.6266515117\tred\n",
      " 0.2974587987,  0.3321426005\tblack\n",
      " 0.8039877164,  0.5603326644\tblack\n",
      "-0.7589204267,  0.0263949297\tred\n",
      "-0.6393124021,  0.1467381424\tred\n",
      " 0.2267704527, -0.9612666532\tred\n",
      " 0.7129127483,  0.0874479422\tblack\n",
      " 0.2115369388,  0.6124525302\tblack\n",
      "-0.8846320320,  0.0877047429\tred\n",
      " 0.4912113962, -0.6557664445\tblack\n",
      "-0.1312809722,  0.5818065624\tblack\n",
      "-0.0947179194, -0.7985334478\tred\n",
      " 0.4600847520, -0.5290166492\tblack\n",
      " 0.9403162175,  0.0003846656\tblack\n",
      " 0.9762112339, -0.1196861456\tblack\n",
      "-0.0577829255,  0.2258152426\tblack\n",
      "-0.2980055245,  0.2514123592\tred\n",
      " 0.7633104207, -0.3440337135\tblack\n",
      "-0.7101610776, -0.0631472422\tred\n",
      " 0.5430728861, -0.5335100778\tblack\n",
      " 0.0803977973, -0.0231992138\tblack\n",
      "-0.0268679738, -0.3988059115\tred\n",
      "-0.9010263602,  0.2740656854\tred\n",
      "-0.7987627605, -0.4572990329\tred\n",
      "-0.5923944936,  0.5615131653\tred\n",
      " 0.2647874260, -0.9234512410\tred\n",
      " 0.2880892112, -0.2541882868\tblack\n",
      "-0.4366162998,  0.0632060092\tred\n",
      "-0.2548039155,  0.1174436161\tred\n",
      " 0.8799380669, -0.1374915828\tblack\n",
      " 0.5692758069, -0.4513855713\tblack\n",
      "-0.6787402108,  0.0110964082\tred\n",
      "-0.8452142570, -0.2331877495\tred\n",
      " 0.2098049355, -0.5995349696\tred\n",
      " 0.8303224253,  0.2291151660\tblack\n",
      "-0.2434499766, -0.8758732470\tred\n",
      "-0.5346265126, -0.3388197726\tred\n",
      "-0.5698905785,  0.3265045182\tred\n",
      " 0.6382180850, -0.1453244945\tblack\n",
      " 0.7757867072,  0.4988327121\tblack\n",
      "-0.4691711142, -0.6945264236\tred\n",
      "-0.3833387823, -0.7342705862\tred\n",
      " 0.9747889496, -0.0419801506\tblack\n"
     ]
    }
   ],
   "source": [
    "print_data()"
   ]
  },
  {
   "cell_type": "markdown",
   "metadata": {
    "slideshow": {
     "slide_type": "notes"
    }
   },
   "source": [
    "Here is the data set, as the machine 'sees' it. Is there a simple association between (x, y) and red/black?  "
   ]
  },
  {
   "cell_type": "markdown",
   "metadata": {
    "slideshow": {
     "slide_type": "slide"
    }
   },
   "source": [
    "The machine seeks a transformation\n",
    "\n",
    "\\begin{align*}\n",
    "x' &= w_{11} x + w_{12} y \\\\\n",
    "y' &= w_{21} x + w_{22} y\n",
    "\\end{align*}\n",
    "\n",
    "such that\n",
    "\n",
    "\\begin{align*}\n",
    "x' > 0 &\\implies \\text{ 'black'} \\\\\n",
    "x' \\le 0 &\\implies \\text{ 'red'}\n",
    "\\end{align*}"
   ]
  },
  {
   "cell_type": "markdown",
   "metadata": {
    "slideshow": {
     "slide_type": "notes"
    }
   },
   "source": [
    "w11, w12, w21, and w22 are adjustable parameters. They specify a particular linear transformation.  The task is to find values of these six parameters that will ensure black vectors are mapped to vectors with a positive x; red vectors are taken to vectors with a zero or negative x value."
   ]
  },
  {
   "cell_type": "markdown",
   "metadata": {
    "slideshow": {
     "slide_type": "slide"
    }
   },
   "source": [
    "The machine starts with random parameter values\n",
    "\n",
    "The parameters are tweaked\n",
    "\n",
    "Trials are informed by error"
   ]
  },
  {
   "cell_type": "markdown",
   "metadata": {
    "slideshow": {
     "slide_type": "notes"
    }
   },
   "source": [
    "Parameter values are initially random.  w11, w12, w21, and w22 are tweaked until all the points are correctly separated (or until there is no further improvement). The error in the prediction informs the subsequent trial."
   ]
  },
  {
   "cell_type": "markdown",
   "metadata": {
    "slideshow": {
     "slide_type": "slide"
    }
   },
   "source": [
    "After much hunting, the machine discovers that\n",
    "\n",
    "\\begin{align*}\n",
    "w_{11} &= 0.8944271909999159 \\\\\n",
    "w_{12} &= 0.447213595499958 \\\\\n",
    "w_{21} &= -0.447213595499958 \\\\\n",
    "w_{22} &= 0.8944271909999159\n",
    "\\end{align*}\n",
    "\n",
    "enable a correct prediction $x' > 0 \\implies \\text{ 'black'}$, otherwise 'red'"
   ]
  },
  {
   "cell_type": "markdown",
   "metadata": {
    "slideshow": {
     "slide_type": "notes"
    }
   },
   "source": [
    "After much hunting the machine discovers that these values... enable a correct prediction x' > 0 implies 'black', otherwise 'red'. "
   ]
  },
  {
   "cell_type": "code",
   "execution_count": 5,
   "metadata": {
    "slideshow": {
     "slide_type": "skip"
    }
   },
   "outputs": [],
   "source": [
    "p_black = np.column_stack((x_black, y_black))\n",
    "p_red = np.column_stack((x_red, y_red))\n",
    "\n",
    "import math\n",
    "theta = -math.atan(0.5) \n",
    "\n",
    "A = np.array([[np.cos(theta), -np.sin(theta)], [np.sin(theta), np.cos(theta)]])\n",
    "p_black_rot = np.dot(p_black, A.T)\n",
    "p_red_rot = np.dot(p_red, A.T)"
   ]
  },
  {
   "cell_type": "code",
   "execution_count": 6,
   "metadata": {
    "slideshow": {
     "slide_type": "skip"
    }
   },
   "outputs": [],
   "source": [
    "def plot_rotated():\n",
    "    \n",
    "    plt.axes().set_aspect('equal')\n",
    "    plt.plot(p_black_rot[:, 0], p_black_rot[:, 1], 'ko')\n",
    "    plt.plot(p_red_rot[:, 0], p_red_rot[:, 1], 'ro')\n",
    "\n",
    "    u = np.linspace(-1, 1, 100)\n",
    "    v = np.zeros(100)\n",
    "\n",
    "    plt.plot(u, v, 'b')\n",
    "    plt.plot(v, u, 'b')\n",
    "    plt.show()"
   ]
  },
  {
   "cell_type": "code",
   "execution_count": 7,
   "metadata": {
    "slideshow": {
     "slide_type": "slide"
    }
   },
   "outputs": [
    {
     "data": {
      "image/png": "[encoded data removed]",
      "text/plain": [
       "<Figure size 432x288 with 1 Axes>"
      ]
     },
     "metadata": {
      "needs_background": "light"
     },
     "output_type": "display_data"
    }
   ],
   "source": [
    "plot_data()"
   ]
  },
  {
   "cell_type": "markdown",
   "metadata": {
    "slideshow": {
     "slide_type": "notes"
    }
   },
   "source": [
    "A visual representation of the data provides immediate human understanding. But machines do not have visual cortexes (yet)."
   ]
  },
  {
   "cell_type": "markdown",
   "metadata": {
    "slideshow": {
     "slide_type": "skip"
    }
   },
   "source": [
    "Rotate points about $O$\n",
    "\n",
    "\\begin{equation*}\n",
    "\\begin{bmatrix}\n",
    "x' \\\\\n",
    "y'\n",
    "\\end{bmatrix} = \\begin{bmatrix}\n",
    "\\cos \\theta & -\\sin \\theta \\\\\n",
    "\\sin \\theta & \\cos \\theta\n",
    "\\end{bmatrix}\n",
    "\\begin{bmatrix}\n",
    "x \\\\\n",
    "y\n",
    "\\end{bmatrix}\n",
    "\\end{equation*}"
   ]
  },
  {
   "cell_type": "code",
   "execution_count": 8,
   "metadata": {
    "slideshow": {
     "slide_type": "slide"
    }
   },
   "outputs": [
    {
     "data": {
      "image/png": "[encoded data removed]",
      "text/plain": [
       "<Figure size 432x288 with 1 Axes>"
      ]
     },
     "metadata": {
      "needs_background": "light"
     },
     "output_type": "display_data"
    }
   ],
   "source": [
    "plot_rotated()"
   ]
  },
  {
   "cell_type": "markdown",
   "metadata": {
    "slideshow": {
     "slide_type": "notes"
    }
   },
   "source": [
    "The machine has discovered that data merely needs to be rotated."
   ]
  },
  {
   "cell_type": "markdown",
   "metadata": {
    "slideshow": {
     "slide_type": "skip"
    }
   },
   "source": [
    "The data points are separated by a line\n",
    "\n",
    "\\begin{align*}\n",
    "2x + y \\ge 0 &\\implies \\text{ black} \\\\\n",
    "2x + y < 0 &\\implies \\text{ red}\n",
    "\\end{align*}"
   ]
  },
  {
   "cell_type": "code",
   "execution_count": 9,
   "metadata": {
    "slideshow": {
     "slide_type": "skip"
    }
   },
   "outputs": [],
   "source": [
    "def plot_line():\n",
    "    \n",
    "    plt.axes().set_aspect('equal')\n",
    "    plt.plot(x_black, y_black, 'ko')\n",
    "    plt.plot(x_red, y_red, 'ro')\n",
    "\n",
    "    u = np.linspace(-1, 1, 100)\n",
    "    v = np.zeros(100)\n",
    "    w = np.linspace(-0.5, 0.5, 100)\n",
    "    \n",
    "    \n",
    "    plt.plot(u, v, 'b')\n",
    "    plt.plot(v, u, 'b')\n",
    "    plt.plot(w, f(w), 'g')\n",
    "    plt.show()\n",
    "    "
   ]
  },
  {
   "cell_type": "code",
   "execution_count": 10,
   "metadata": {
    "slideshow": {
     "slide_type": "skip"
    }
   },
   "outputs": [
    {
     "data": {
      "image/png": "[encoded data removed]",
      "text/plain": [
       "<Figure size 432x288 with 1 Axes>"
      ]
     },
     "metadata": {
      "needs_background": "light"
     },
     "output_type": "display_data"
    }
   ],
   "source": [
    "plot_line()"
   ]
  },
  {
   "cell_type": "markdown",
   "metadata": {
    "slideshow": {
     "slide_type": "slide"
    }
   },
   "source": [
    "Learning is the automatic search for meaningful representations\n",
    "\n",
    "Possible transformations include rotations, translations, linear projections and nonlinear operations such as select all points with $x > 0$"
   ]
  },
  {
   "cell_type": "markdown",
   "metadata": {
    "slideshow": {
     "slide_type": "notes"
    }
   },
   "source": [
    "Machine learning can be understood as an automatic search for meaningful representations. Possible transformations include rotations, translations, linear projections and nonlinear operations such as select all points with x > 0."
   ]
  },
  {
   "cell_type": "code",
   "execution_count": 15,
   "metadata": {
    "slideshow": {
     "slide_type": "skip"
    }
   },
   "outputs": [],
   "source": [
    "def print_transformed():\n",
    "    for i in range(len(x)):\n",
    "        x_trans = np.cos(theta) * x[i] - np.sin(theta) * y[i]\n",
    "        y_trans = np.sin(theta) * x[i] + np.cos(theta) * y[i]\n",
    "        label = 'black' if x_trans > 0 else 'red'\n",
    "        print(f'{x_trans: 12.10f}', ', ', f'{y_trans: 12.10f}', '\\t', label,  sep='')"
   ]
  },
  {
   "cell_type": "code",
   "execution_count": 16,
   "metadata": {
    "slideshow": {
     "slide_type": "slide"
    }
   },
   "outputs": [
    {
     "name": "stdout",
     "output_type": "stream",
     "text": [
      " 0.6470830423, -0.6875749682\tblack\n",
      "-0.6453929827,  0.6056263868\tred\n",
      "-0.9020127769,  0.4313971005\tred\n",
      "-0.6940244052,  0.2104022878\tred\n",
      "-0.0601404494, -0.5525304561\tred\n",
      "-0.0681222509, -0.5998397886\tred\n",
      "-0.1352247385,  0.8822217347\tred\n",
      " 0.6611623089,  0.5632636452\tblack\n",
      "-0.1979566956, -0.4463395365\tred\n",
      " 0.5996285961,  0.3601456174\tblack\n",
      " 0.7913770666, -0.3960504169\tblack\n",
      " 0.8327641096,  0.1985695825\tblack\n",
      "-0.2300375895, -0.9670616327\tred\n",
      "-0.5401589582,  0.4962182462\tred\n",
      "-0.5544133916, -0.7456349676\tred\n",
      " 0.1042287315,  0.1685736432\tblack\n",
      "-0.6447695317, -0.1571593856\tred\n",
      "-0.5238007050,  0.4174872168\tred\n",
      " 0.0149642856, -0.5304134431\tblack\n",
      "-0.1554683639, -0.5549415821\tred\n",
      "-0.7725600434,  0.0263759836\tred\n",
      " 0.2088446729, -0.2946659134\tblack\n",
      " 0.3753424488, -0.0685743372\tblack\n",
      "-0.1215245459, -0.0703937467\tred\n",
      " 0.8781026139,  0.3303561552\tblack\n",
      " 0.7523286012,  0.5880797570\tblack\n",
      " 0.6622122581, -0.0790758985\tblack\n",
      "-0.6438288704, -0.1976504975\tred\n",
      "-0.0289584061,  0.8674037452\tred\n",
      "-0.0754618477,  0.6580466219\tred\n",
      " 0.7878993743,  0.0591249514\tblack\n",
      "-0.7931136868, -0.4204208052\tred\n",
      " 0.4942179851,  0.6348422281\tblack\n",
      "-0.4694719653,  0.4657930625\tred\n",
      "-0.4158389733,  0.2045145438\tred\n",
      "-0.2162432682, -0.1768459597\tred\n",
      " 0.9683856244,  0.1183283085\tblack\n",
      " 0.2386645423, -0.2220293227\tblack\n",
      " 0.4012700688, -0.4890001972\tblack\n",
      "-0.9601787341,  0.2177610160\tred\n",
      "-0.0083220843,  0.2947102747\tred\n",
      " 0.2447474152, -0.0875998413\tblack\n",
      "-0.2027210805, -0.6102630926\tred\n",
      "-0.0639340832,  0.8840101309\tred\n",
      "-0.3798803289,  0.0695249935\tred\n",
      "-0.5453334966,  0.3858225978\tred\n",
      " 0.0137184425, -0.6176285830\tblack\n",
      " 0.3192478249, -0.3161947737\tblack\n",
      "-0.3785271231,  0.4901647453\tred\n",
      " 0.6212764216, -0.2277475810\tblack\n",
      " 0.2506053475,  0.2088803488\tblack\n",
      "-0.7363221073, -0.2587701400\tred\n",
      " 0.0197072120, -0.1250950234\tblack\n",
      "-0.0318591754, -0.8114411126\tred\n",
      " 0.7936930967,  0.4962828454\tblack\n",
      "-0.9489112653,  0.2066426433\tred\n",
      "-0.9622431257,  0.2481396884\tred\n",
      "-0.2331159233, -0.5840597275\tred\n",
      " 0.4145939244,  0.1640497543\tblack\n",
      " 0.9696968603,  0.1416225336\tblack\n",
      "-0.6669948941,  0.3630078755\tred\n",
      "-0.5061951038,  0.4171557825\tred\n",
      "-0.2270618572, -0.9611978619\tred\n",
      " 0.6767564555, -0.2406084561\tblack\n",
      " 0.4631014880,  0.4531920012\tblack\n",
      "-0.7520161900,  0.4740649786\tred\n",
      " 0.1460851599, -0.8062117535\tblack\n",
      " 0.1427705334,  0.5790942450\tblack\n",
      "-0.4418332969, -0.6718708873\tred\n",
      " 0.1749288746, -0.6789230317\tblack\n",
      " 0.8412164207, -0.4201781411\tblack\n",
      " 0.8196246003, -0.5436254789\tblack\n",
      " 0.0493050269,  0.2278166030\tblack\n",
      "-0.1541092191,  0.3581421723\tred\n",
      " 0.5288690414, -0.6490759057\tblack\n",
      "-0.6634276830,  0.2611130785\tred\n",
      " 0.2471461959, -0.7200554983\tblack\n",
      " 0.0615349722, -0.0567049956\tblack\n",
      "-0.2023828719, -0.3446871280\tred\n",
      "-0.6833365758,  0.6480830393\tred\n",
      "-0.9189454768, -0.0518031233\tred\n",
      "-0.2787374213,  0.7671595146\tred\n",
      "-0.1761468761, -0.9443764364\tred\n",
      " 0.1439983663, -0.3561903273\tblack\n",
      "-0.3622549039,  0.2517939185\tred\n",
      "-0.1753811686,  0.2189965388\tred\n",
      " 0.7255524283, -0.5164964769\tblack\n",
      " 0.3073099965, -0.6583194090\tblack\n",
      "-0.6021212355,  0.3134667793\tred\n",
      "-0.8602673456,  0.1694218430\tred\n",
      "-0.0804649503, -0.6300679983\tred\n",
      " 0.8451263717, -0.1664046429\tblack\n",
      "-0.6094507027, -0.6745307086\tred\n",
      "-0.6297092986, -0.0639573725\tred\n",
      "-0.3637083698,  0.5468973337\tred\n",
      " 0.5058485193, -0.4154019839\tblack\n",
      " 0.9169694961,  0.0992271788\tblack\n",
      "-0.7302410608, -0.4113836173\tred\n",
      "-0.6712444191, -0.4853172627\tred\n",
      " 0.8531036479, -0.4734870592\tblack\n"
     ]
    }
   ],
   "source": [
    "print_transformed()"
   ]
  },
  {
   "cell_type": "markdown",
   "metadata": {
    "slideshow": {
     "slide_type": "notes"
    }
   },
   "source": [
    "The data is more meaningful because the label can be inferred directly from the x-coordinate."
   ]
  },
  {
   "cell_type": "markdown",
   "metadata": {
    "slideshow": {
     "slide_type": "slide"
    }
   },
   "source": [
    "The machine searches through a set of predefined operations \n",
    "\n",
    "It is guided by a feedback signal that depends on the mismatch between expectation and output"
   ]
  },
  {
   "cell_type": "markdown",
   "metadata": {
    "slideshow": {
     "slide_type": "notes"
    }
   },
   "source": [
    "The machine is restricted to a set of predefined but parameterised operations - in this case, linear transformations. The search for meaningful representations is guided by a feedback signal that depends on the mismatch between expectation and output."
   ]
  },
  {
   "cell_type": "markdown",
   "metadata": {
    "slideshow": {
     "slide_type": "slide"
    }
   },
   "source": [
    "This is machine learning\n",
    "\n",
    "But what is the deep in deep learning, and where are the neural networks?"
   ]
  },
  {
   "cell_type": "markdown",
   "metadata": {
    "slideshow": {
     "slide_type": "notes"
    }
   },
   "source": [
    "This is machine learning. But what is the deep in deep learning, and where in all this are the neural networks?"
   ]
  }
 ],
 "metadata": {
  "celltoolbar": "Slideshow",
  "kernelspec": {
   "display_name": "Python 3",
   "language": "python",
   "name": "python3"
  },
  "language_info": {
   "codemirror_mode": {
    "name": "ipython",
    "version": 3
   },
   "file_extension": ".py",
   "mimetype": "text/x-python",
   "name": "python",
   "nbconvert_exporter": "python",
   "pygments_lexer": "ipython3",
   "version": "3.8.5"
  },
  "rise": {
   "enable_chalkboard": true
  }
 },
 "nbformat": 4,
 "nbformat_minor": 2
}
