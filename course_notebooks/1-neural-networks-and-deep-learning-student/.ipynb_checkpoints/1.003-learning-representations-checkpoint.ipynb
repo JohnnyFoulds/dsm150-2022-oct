{
 "cells": [
  {
   "cell_type": "markdown",
   "metadata": {
    "slideshow": {
     "slide_type": "slide"
    }
   },
   "source": [
    "Machine learning requires\n",
    "\n",
    "- input data e.g. images  \n",
    "- output expectation e.g. image tags  \n",
    "- a measure of the difference between output and expectation  "
   ]
  },
  {
   "cell_type": "markdown",
   "metadata": {
    "slideshow": {
     "slide_type": "slide"
    }
   },
   "source": [
    "The adjustment step is called **learning**\n",
    "\n",
    "Data is progressively transformed into a series of intermediate representations\n",
    "\n",
    "A **statistical model** learns a combined transformation from input data into a meaningful output"
   ]
  },
  {
   "cell_type": "markdown",
   "metadata": {
    "slideshow": {
     "slide_type": "slide"
    }
   },
   "source": [
    "E.g. data points in 2D space are red or black\n",
    "\n",
    "Seek a rule $(x, y) \\to \\{\\text{black}, \\text{red}\\}$"
   ]
  },
  {
   "cell_type": "code",
   "execution_count": 3,
   "metadata": {
    "slideshow": {
     "slide_type": "skip"
    }
   },
   "outputs": [],
   "source": [
    "import numpy as np\n",
    "import matplotlib.pyplot as plt\n",
    "\n",
    "num_points = 100\n",
    "x = -1 + 2 * np.random.random(num_points)\n",
    "L = np.sqrt(1 - x * x)\n",
    "y = L * (-1 + 2 * np.random.random(num_points))\n",
    "\n",
    "def f(x):\n",
    "    return -2 * x\n",
    "\n",
    "x_black = x[y > f(x)]\n",
    "y_black = y[y > f(x)]\n",
    "\n",
    "x_red = x[y <= f(x)]\n",
    "y_red = y[y <= f(x)]"
   ]
  },
  {
   "cell_type": "code",
   "execution_count": 4,
   "metadata": {
    "slideshow": {
     "slide_type": "skip"
    }
   },
   "outputs": [],
   "source": [
    "def plot_data():\n",
    "    \n",
    "    plt.axes().set_aspect('equal')\n",
    "    plt.plot(x_black, y_black, 'ko')\n",
    "    plt.plot(x_red, y_red, 'ro')\n",
    "\n",
    "    u = np.linspace(-1, 1, 100)\n",
    "    v = np.zeros(100)\n",
    "    \n",
    "    plt.plot(u, v, 'b')\n",
    "    plt.plot(v, u, 'b')\n",
    "    plt.show()"
   ]
  },
  {
   "cell_type": "code",
   "execution_count": 5,
   "metadata": {
    "slideshow": {
     "slide_type": "slide"
    }
   },
   "outputs": [
    {
     "data": {
      "image/png": "[encoded data removed]",
      "text/plain": [
       "<Figure size 432x288 with 1 Axes>"
      ]
     },
     "metadata": {
      "needs_background": "light"
     },
     "output_type": "display_data"
    }
   ],
   "source": [
    "plot_data()"
   ]
  },
  {
   "cell_type": "code",
   "execution_count": 6,
   "metadata": {
    "slideshow": {
     "slide_type": "skip"
    }
   },
   "outputs": [],
   "source": [
    "p_black = np.column_stack((x_black, y_black))\n",
    "p_red = np.column_stack((x_red, y_red))\n",
    "\n",
    "import math\n",
    "theta = -math.atan(0.5) \n",
    "\n",
    "A = np.array([[np.cos(theta), -np.sin(theta)], [np.sin(theta), np.cos(theta)]])\n",
    "p_black_rot = np.dot(p_black, A.T)\n",
    "p_red_rot = np.dot(p_red, A.T)"
   ]
  },
  {
   "cell_type": "code",
   "execution_count": 7,
   "metadata": {
    "slideshow": {
     "slide_type": "skip"
    }
   },
   "outputs": [],
   "source": [
    "def plot_rotated():\n",
    "    \n",
    "    plt.axes().set_aspect('equal')\n",
    "    plt.plot(p_black_rot[:, 0], p_black_rot[:, 1], 'ko')\n",
    "    plt.plot(p_red_rot[:, 0], p_red_rot[:, 1], 'ro')\n",
    "\n",
    "    u = np.linspace(-1, 1, 100)\n",
    "    v = np.zeros(100)\n",
    "\n",
    "    plt.plot(u, v, 'b')\n",
    "    plt.plot(v, u, 'b')\n",
    "    plt.show()"
   ]
  },
  {
   "cell_type": "markdown",
   "metadata": {
    "slideshow": {
     "slide_type": "slide"
    }
   },
   "source": [
    "Rotate points about $O$\n",
    "\n",
    "\\begin{equation*}\n",
    "\\begin{bmatrix}\n",
    "x' \\\\\n",
    "y'\n",
    "\\end{bmatrix} = \\begin{bmatrix}\n",
    "\\cos(\\theta) & -\\sin(\\theta) \\\\\n",
    "\\sin(\\theta) & \\cos(\\theta)\n",
    "\\end{bmatrix}\n",
    "\\begin{bmatrix}\n",
    "x \\\\\n",
    "y\n",
    "\\end{bmatrix}\n",
    "\\end{equation*}"
   ]
  },
  {
   "cell_type": "code",
   "execution_count": 8,
   "metadata": {
    "slideshow": {
     "slide_type": "slide"
    }
   },
   "outputs": [
    {
     "data": {
      "image/png": "[encoded data removed]",
      "text/plain": [
       "<Figure size 432x288 with 1 Axes>"
      ]
     },
     "metadata": {
      "needs_background": "light"
     },
     "output_type": "display_data"
    }
   ],
   "source": [
    "plot_rotated()"
   ]
  },
  {
   "cell_type": "markdown",
   "metadata": {
    "slideshow": {
     "slide_type": "slide"
    }
   },
   "source": [
    "A simple rule \n",
    "\n",
    "\\begin{align*}\n",
    "x' \\ge 0 &\\implies \\text{ black} \\\\\n",
    "x' < 0 &\\implies \\text{ red}\n",
    "\\end{align*}"
   ]
  },
  {
   "cell_type": "markdown",
   "metadata": {
    "slideshow": {
     "slide_type": "slide"
    }
   },
   "source": [
    "The points are separated by a line\n",
    "\n",
    "\\begin{align*}\n",
    "2x + y \\ge 0 &\\implies \\text{ black} \\\\\n",
    "2x + y < 0 &\\implies \\text{ red}\n",
    "\\end{align*}"
   ]
  },
  {
   "cell_type": "code",
   "execution_count": 9,
   "metadata": {
    "slideshow": {
     "slide_type": "skip"
    }
   },
   "outputs": [],
   "source": [
    "def plot_line():\n",
    "    \n",
    "    plt.axes().set_aspect('equal')\n",
    "    plt.plot(x_black, y_black, 'ko')\n",
    "    plt.plot(x_red, y_red, 'ro')\n",
    "\n",
    "    u = np.linspace(-1, 1, 100)\n",
    "    v = np.zeros(100)\n",
    "    w = np.linspace(-0.5, 0.5, 100)\n",
    "    \n",
    "    \n",
    "    plt.plot(u, v, 'b')\n",
    "    plt.plot(v, u, 'b')\n",
    "    plt.plot(w, f(w), 'g')\n",
    "    plt.show()\n",
    "    "
   ]
  },
  {
   "cell_type": "code",
   "execution_count": 10,
   "metadata": {
    "slideshow": {
     "slide_type": "slide"
    }
   },
   "outputs": [
    {
     "data": {
      "image/png": "[encoded data removed]",
      "text/plain": [
       "<Figure size 432x288 with 1 Axes>"
      ]
     },
     "metadata": {
      "needs_background": "light"
     },
     "output_type": "display_data"
    }
   ],
   "source": [
    "plot_line()"
   ]
  },
  {
   "cell_type": "markdown",
   "metadata": {
    "slideshow": {
     "slide_type": "slide"
    }
   },
   "source": [
    "Suppose a machine was searching for an optimal rotation\n",
    "\n",
    "The number of incorrectly classified points would inform the next trial\n",
    "\n",
    "The machine might rotate by a small angle in the direction of decreasing error"
   ]
  },
  {
   "cell_type": "markdown",
   "metadata": {
    "slideshow": {
     "slide_type": "slide"
    }
   },
   "source": [
    "Learning is the automatic search for better representations\n",
    "\n",
    "Possible transformations include rotations, translations, linear projections and nonlinear operations such as select all points with $x > 0$\n"
   ]
  },
  {
   "cell_type": "markdown",
   "metadata": {
    "slideshow": {
     "slide_type": "slide"
    }
   },
   "source": [
    "\n",
    "The machine searches through a set of predefined operations and is guided by a feedback signal that depends on the mismatch between expectation and output\n",
    "\n",
    "This is machine learning"
   ]
  }
 ],
 "metadata": {
  "celltoolbar": "Slideshow",
  "kernelspec": {
   "display_name": "Python 3",
   "language": "python",
   "name": "python3"
  },
  "language_info": {
   "codemirror_mode": {
    "name": "ipython",
    "version": 3
   },
   "file_extension": ".py",
   "mimetype": "text/x-python",
   "name": "python",
   "nbconvert_exporter": "python",
   "pygments_lexer": "ipython3",
   "version": "3.8.5"
  },
  "rise": {
   "enable_chalkboard": true
  }
 },
 "nbformat": 4,
 "nbformat_minor": 2
}
