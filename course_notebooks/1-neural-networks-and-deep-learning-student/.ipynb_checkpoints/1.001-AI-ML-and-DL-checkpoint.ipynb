{
 "cells": [
  {
   "cell_type": "markdown",
   "metadata": {
    "slideshow": {
     "slide_type": "slide"
    }
   },
   "source": [
    "![Diagram](images/AI-ML-DL.png)"
   ]
  },
  {
   "cell_type": "markdown",
   "metadata": {
    "slideshow": {
     "slide_type": "slide"
    }
   },
   "source": [
    "Artificial Intelligence is the automation of thought \n",
    "\n",
    "1950s-1980s: thought is the manipulation of symbols - like rearranging equations\n",
    "\n",
    "The idea works for tightly defined tasks such as chess, but struggles with looser tasks. For example, image classification and speech recognition"
   ]
  },
  {
   "cell_type": "markdown",
   "metadata": {
    "slideshow": {
     "slide_type": "slide"
    }
   },
   "source": [
    "Rules are codified as a program\n",
    "\n",
    "Answers are computed from data\n",
    "\n",
    "For example: what is the best chess move?"
   ]
  },
  {
   "cell_type": "markdown",
   "metadata": {
    "slideshow": {
     "slide_type": "slide"
    }
   },
   "source": [
    "1990s: Machine learning\n",
    "\n",
    "Replace hard coded rules with a statistical model. The model is trained on  data\n",
    "\n",
    "'Rules' are implicit\n",
    "\n",
    "For example: predict an image tag"
   ]
  },
  {
   "cell_type": "markdown",
   "metadata": {
    "slideshow": {
     "slide_type": "slide"
    }
   },
   "source": [
    "Machine learning, and deep learning in particular, relies on huge datasets\n",
    "\n",
    "Lacks a firm mathematical base\n",
    "\n",
    "Engineering: hands-on, empirical"
   ]
  }
 ],
 "metadata": {
  "celltoolbar": "Slideshow",
  "kernelspec": {
   "display_name": "Python 3",
   "language": "python",
   "name": "python3"
  },
  "language_info": {
   "codemirror_mode": {
    "name": "ipython",
    "version": 3
   },
   "file_extension": ".py",
   "mimetype": "text/x-python",
   "name": "python",
   "nbconvert_exporter": "python",
   "pygments_lexer": "ipython3",
   "version": "3.8.5"
  },
  "rise": {
   "enable_chalkboard": true
  }
 },
 "nbformat": 4,
 "nbformat_minor": 2
}
