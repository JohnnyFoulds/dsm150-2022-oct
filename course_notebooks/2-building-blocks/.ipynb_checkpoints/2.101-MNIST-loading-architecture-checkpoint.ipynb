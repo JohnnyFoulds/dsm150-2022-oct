{
 "cells": [
  {
   "cell_type": "markdown",
   "metadata": {
    "slideshow": {
     "slide_type": "slide"
    }
   },
   "source": [
    "MNIST is a set of images of handwritten digits\n",
    "\n",
    "The problem is to classify each greyscale image into the correct category, namely '0', '1'..., '9'\n",
    " \n",
    "There are 60,000 **training** images and 10,000 **test** images"
   ]
  },
  {
   "cell_type": "markdown",
   "metadata": {
    "slideshow": {
     "slide_type": "notes"
    }
   },
   "source": [
    "We begin with the 'hello world' of neural networks: MNIST - the classification of handwritten digits. The MNIST dataset consists of 70,000 small greyscale images. We met a few examples win Topic 1. The dataset is split into two parts - training and test images. Splitting datasets into two parts is fundamental to the deep learning methodology. The aim is the classification of each image into its correct category.  "
   ]
  },
  {
   "cell_type": "code",
   "execution_count": 1,
   "metadata": {
    "slideshow": {
     "slide_type": "skip"
    }
   },
   "outputs": [],
   "source": [
    "from tensorflow.keras.datasets import mnist\n",
    "(train_images, train_labels), (test_images, test_labels) = mnist.load_data()\n",
    "\n",
    "import matplotlib.pyplot as plt\n",
    "def mnist_peek(rows, cols):\n",
    "    fig, axs = plt.subplots(rows, cols)\n",
    "    for i in range(rows):\n",
    "        for j in range(cols):\n",
    "            axs[i, j].imshow(train_images[i * cols + j], cmap=plt.cm.binary)"
   ]
  },
  {
   "cell_type": "code",
   "execution_count": null,
   "metadata": {
    "slideshow": {
     "slide_type": "slide"
    }
   },
   "outputs": [],
   "source": [
    "mnist_peek(6, 6)"
   ]
  },
  {
   "cell_type": "markdown",
   "metadata": {
    "slideshow": {
     "slide_type": "notes"
    }
   },
   "source": [
    "Here are some MNIST images. I don't think we would have too much difficulty recognising these digits, except perhaps a 1 - 7 ambiguity in the penultimate row. "
   ]
  },
  {
   "cell_type": "markdown",
   "metadata": {
    "slideshow": {
     "slide_type": "slide"
    }
   },
   "source": [
    "|               |     |        |\n",
    "|--------------:|:---:|:-------|\n",
    "|data point     | \\|  | sample |\n",
    "|category       | \\|  | class  |\n",
    "|class of sample| \\|  | label  |"
   ]
  },
  {
   "cell_type": "markdown",
   "metadata": {
    "slideshow": {
     "slide_type": "notes"
    }
   },
   "source": [
    "The jargon starts here. Each image, or in general, each data point is known as a 'sample'. Data points typically belong to one or more categories. Each MNIST image belongs to exactly one category or 'class' - '0', '1', '2' etc. The class of a sample is known as its 'label'. "
   ]
  },
  {
   "cell_type": "markdown",
   "metadata": {
    "slideshow": {
     "slide_type": "slide"
    }
   },
   "source": [
    "Workflow:\n",
    "1. **Load data**\n",
    "2. Preprocess data\n",
    "3. Build network\n",
    "4. Train\n",
    "5. Test"
   ]
  },
  {
   "cell_type": "markdown",
   "metadata": {
    "slideshow": {
     "slide_type": "notes"
    }
   },
   "source": [
    "The workflow is split into five stages. First, load data into our system."
   ]
  },
  {
   "cell_type": "markdown",
   "metadata": {
    "slideshow": {
     "slide_type": "slide"
    }
   },
   "source": [
    "The MNIST dataset is one of several TensorFlow datasets"
   ]
  },
  {
   "cell_type": "markdown",
   "metadata": {
    "slideshow": {
     "slide_type": "notes"
    }
   },
   "source": [
    "Loading MNIST is painless because MNIST is integral to TensorFlow. But this facility is unusual: normally data has to be retrieved from the internet or from a private source.  "
   ]
  },
  {
   "cell_type": "code",
   "execution_count": null,
   "metadata": {
    "slideshow": {
     "slide_type": "slide"
    }
   },
   "outputs": [],
   "source": [
    "from tensorflow.keras.datasets import mnist\n",
    "(train_images, train_labels), (test_images, test_labels) = mnist.load_data()"
   ]
  },
  {
   "cell_type": "markdown",
   "metadata": {
    "slideshow": {
     "slide_type": "notes"
    }
   },
   "source": [
    "`mnist.load_data` downloads the data set - samples and labels - already split into training and test parts."
   ]
  },
  {
   "cell_type": "markdown",
   "metadata": {
    "slideshow": {
     "slide_type": "slide"
    }
   },
   "source": [
    "Data is stored in special multidimensional arrays - tensors\n",
    "\n",
    "There are 60000 greyscale images in the training set\n",
    "\n",
    "Each image is 28 pxl x 28 pxl\n",
    "\n",
    "- the training set is a data container with 60000 x 28 x 28 elements\n",
    "\n",
    "- the training labels are stored in a 60,000 element vector "
   ]
  },
  {
   "cell_type": "markdown",
   "metadata": {
    "slideshow": {
     "slide_type": "notes"
    }
   },
   "source": [
    "Data is stored in special multidimensional arrays - as tensors. `train_images` is a data container with 60000 x 28 x 28 elements - 60000 greyscale images, each 28 by 28 pixels."
   ]
  },
  {
   "cell_type": "code",
   "execution_count": null,
   "metadata": {
    "slideshow": {
     "slide_type": "slide"
    }
   },
   "outputs": [],
   "source": [
    "print('tensor shape')\n",
    "print('\\ttraining images:', train_images.shape)\n",
    "print('\\ttraining labels:', train_labels.shape)\n",
    "print('\\ttest images:\\t', test_images.shape)\n",
    "print('\\ttest labels:\\t', test_labels.shape)"
   ]
  },
  {
   "cell_type": "markdown",
   "metadata": {
    "slideshow": {
     "slide_type": "notes"
    }
   },
   "source": [
    "The shape of a tensor is the number of elements along each dimension. We will have much more to say about tensor shape later in this topic. But for now, read (60000, 28, 28) as a container for 60,000 two dimensional pixel maps.  The trailing comma for vector shape is standard Python for one dimensional tuples. "
   ]
  }
 ],
 "metadata": {
  "celltoolbar": "Slideshow",
  "kernelspec": {
   "display_name": "Python 3",
   "language": "python",
   "name": "python3"
  },
  "language_info": {
   "codemirror_mode": {
    "name": "ipython",
    "version": 3
   },
   "file_extension": ".py",
   "mimetype": "text/x-python",
   "name": "python",
   "nbconvert_exporter": "python",
   "pygments_lexer": "ipython3",
   "version": "3.8.5"
  }
 },
 "nbformat": 4,
 "nbformat_minor": 4
}
