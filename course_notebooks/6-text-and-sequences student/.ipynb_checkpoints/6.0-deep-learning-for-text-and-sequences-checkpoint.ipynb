{
 "cells": [
  {
   "cell_type": "markdown",
   "metadata": {},
   "source": [
    "# Embeddings\n",
    "\n",
    "DL cannot input raw text - the text must be vectorised\n",
    "- words to vectors\n",
    "- characters to vectors\n",
    "- n-grams of words or characters to vectors.\n",
    "\n",
    "In each case, the units are called tokens. Two main tokensiations:\n",
    "- one-hot\n",
    "- token (useually word) embeddings.\n",
    "\n",
    "##### n-grams \n",
    "\n",
    "are sets of consecutive words with maximum length n. \n",
    "\n",
    "- For example\n",
    "\"The cat sat on the mat\" -> {\"the\", \"cat\", \"sat\", \"on\", \"the\", \"mat\", \"the cat\", \"cat sat\", \"sat on\", \"on the\", \"the mat\"} is a *bag of 2-grams*.\n",
    "- order is lost\n",
    "- a kind of feature engineering\n",
    "- used in shallow learning (logistic regression, random forests)\n",
    "- DL uses RNNs and convnets to learn representations for ordered groups of tokens without any priors. "
   ]
  },
  {
   "cell_type": "markdown",
   "metadata": {},
   "source": [
    "##### One-hot encoding\n",
    "- associate a unique integer $n$ with each word in a dictionary of $N$ \n",
    "- then form an $N$ dimensional vector $v$ with components $v_i = \\delta_{i, n}$ i.e.\n",
    "\n",
    "\\begin{align*}\n",
    "v_i = \\begin{cases} &1 \\text{ if } i == n \\\\\n",
    "                    &0 \\text{ otherwise } \\\\\n",
    "                    \\end{cases}\n",
    "\\end{align*}"
   ]
  },
  {
   "cell_type": "markdown",
   "metadata": {},
   "source": [
    "##### Word embeddings\n",
    "\n",
    "Dense and low dimensional (256, 512, 1024), unlike one hot vectors, which are sparse and high dimensional (20,000).\n",
    "\n",
    "- Learn word embeddings with the main task - start with random vectors - or\n",
    "- use pre-trained embeddings."
   ]
  },
  {
   "cell_type": "markdown",
   "metadata": {},
   "source": [
    "##### The embedding layer\n",
    "\n",
    "The embedding layer learns embeddings with every new task.\n",
    "\n",
    "A structured embedding space is desired.\n",
    "- words of similar meanings are close\n",
    "- geometric and semantic relationships match\n",
    "    - vector wolf-to-dog = vector lion-to-cat and lion-to-wolf = cat-to-dog\n",
    "- expect different geometries for different tasks (sentiment analysis is very different from classification of legal documents).\n",
    "\n",
    "This code makes an embedding layer"
   ]
  },
  {
   "cell_type": "code",
   "execution_count": 25,
   "metadata": {},
   "outputs": [],
   "source": [
    "from keras.layers import Embedding\n",
    "embedding_layer = Embedding(10000, 64)"
   ]
  },
  {
   "cell_type": "markdown",
   "metadata": {},
   "source": [
    "with a 10000 word dictionary and an embedding space of 64 dimensions.\n",
    "\n",
    "It accepts batches of shape `(samples, sequence_length)` and returns a 3D float tensor of shape `(samples, sequence_length, embedding_dimensionality)`.\n"
   ]
  },
  {
   "cell_type": "code",
   "execution_count": null,
   "metadata": {},
   "outputs": [],
   "source": [
    "from keras.datasets import imdb\n",
    "from keras import preprocessing\n",
    "\n",
    "# Number of words to consider as features\n",
    "max_features = 10000\n",
    "# Cut texts after this number of words \n",
    "# (among top max_features most common words)\n",
    "maxlen = 20\n",
    "\n",
    "# Load the data as lists of integers.\n",
    "(x_train, y_train), (x_test, y_test) = imdb.load_data(num_words=max_features)\n",
    "\n",
    "# This turns our lists of integers\n",
    "# into a 2D integer tensor of shape `(samples, maxlen)`\n",
    "x_train = preprocessing.sequence.pad_sequences(x_train, maxlen=maxlen)\n",
    "x_test = preprocessing.sequence.pad_sequences(x_test, maxlen=maxlen)\n",
    "\n",
    "from keras.models import Sequential\n",
    "from keras.layers import Flatten, Dense\n",
    "\n",
    "model = Sequential()\n",
    "# We specify the maximum input length to our Embedding layer\n",
    "# so we can later flatten the embedded inputs\n",
    "model.add(Embedding(10000, 8, input_length=maxlen))\n",
    "# After the Embedding layer, \n",
    "# our activations have shape `(samples, maxlen, 8)`.\n",
    "\n",
    "# We flatten the 3D tensor of embeddings \n",
    "# into a 2D tensor of shape `(samples, maxlen * 8)`\n",
    "model.add(Flatten())\n",
    "\n",
    "# We add the classifier on top\n",
    "model.add(Dense(1, activation='sigmoid'))\n",
    "model.compile(optimizer='rmsprop', loss='binary_crossentropy', metrics=['acc'])\n",
    "model.summary()\n",
    "\n",
    "history = model.fit(x_train, y_train,\n",
    "                    epochs=10,\n",
    "                    batch_size=32,\n",
    "                    validation_split=0.2)"
   ]
  },
  {
   "cell_type": "markdown",
   "metadata": {},
   "source": [
    "But merely flattening the embeddings produces a model that treats each word separately. The order is lost. \n",
    "\n",
    "We will meet order sensitive models such as RNNs and 1D convnets in a few minutes."
   ]
  },
  {
   "cell_type": "markdown",
   "metadata": {},
   "source": [
    "##### Pre-trained embeddings\n",
    "\n",
    "- Word-to-vec and GLoVe\n",
    "- Listings 6.8 to 6.11 demontstrate how to tokenise raw text and form the embeddigs weight array.\n",
    "- Then, the model is "
   ]
  },
  {
   "cell_type": "code",
   "execution_count": 31,
   "metadata": {},
   "outputs": [
    {
     "name": "stdout",
     "output_type": "stream",
     "text": [
      "_________________________________________________________________\n",
      "Layer (type)                 Output Shape              Param #   \n",
      "=================================================================\n",
      "embedding_2 (Embedding)      (None, 100, 100)          1000000   \n",
      "_________________________________________________________________\n",
      "flatten_1 (Flatten)          (None, 10000)             0         \n",
      "_________________________________________________________________\n",
      "dense_1 (Dense)              (None, 32)                320032    \n",
      "_________________________________________________________________\n",
      "dense_2 (Dense)              (None, 1)                 33        \n",
      "=================================================================\n",
      "Total params: 1,320,065\n",
      "Trainable params: 1,320,065\n",
      "Non-trainable params: 0\n",
      "_________________________________________________________________\n"
     ]
    }
   ],
   "source": [
    "from keras.models import Sequential\n",
    "from keras.layers import Embedding, Flatten, Dense\n",
    "\n",
    "max_words = 10000\n",
    "embedding_dim = 100\n",
    "maxlen = 100\n",
    "\n",
    "model = Sequential()\n",
    "model.add(Embedding(max_words, embedding_dim, input_length=maxlen))\n",
    "model.add(Flatten())\n",
    "model.add(Dense(32, activation='relu'))\n",
    "model.add(Dense(1, activation='sigmoid'))\n",
    "model.summary()"
   ]
  },
  {
   "cell_type": "code",
   "execution_count": null,
   "metadata": {},
   "outputs": [],
   "source": [
    "model.layers[0].set_weights([embedding_matrix])\n",
    "model.layers[0].trainable = False"
   ]
  },
  {
   "cell_type": "markdown",
   "metadata": {},
   "source": [
    "The embedding layer is frozen for the same reason as the freezing of the convnet base in the previous section."
   ]
  },
  {
   "cell_type": "markdown",
   "metadata": {},
   "source": [
    "The model is trained on just 200 reviews because pre-trained embeddings are thought to be useful on problems with small training sets."
   ]
  },
  {
   "cell_type": "markdown",
   "metadata": {},
   "source": [
    "# RNNs\n",
    "\n",
    "The dense, fully connected layers and the convnet layers have no memory. These *feedforward networks* process each input in turn with no information transfer.\n",
    "\n",
    "A recurrent neural network (RNN), on the other hand, retains information of past inputs.\n",
    "\n",
    "The RNN has a feedback loop - the activation $a(t - 1)$ at time $t - 1$ is inputted, along with the sequence term $x(t)$, at time $t$. \n",
    "\n",
    "DLWP: the previous activation is called a 'state'. \n",
    "\n",
    "The previous activation is weighted and the network learns patterns correlations with earlier inputs by adjusting these weights, in the usual manner.\n",
    "\n",
    "(Here, we imagine that sequence terms $x(1), x(2), x(3), \\ldots$ etc. occur at successive times, even if the sequence is not chronological.)"
   ]
  },
  {
   "cell_type": "markdown",
   "metadata": {},
   "source": [
    "##### Feedforward layer - recap\n",
    "\n",
    "Suppose the input to a layer is the vector $x = [x_1, x_2, \\ldots x_N]^T$ and the output, the activation, is the vector $a = [a_1, a_2, \\ldots, a_M]^T$.\n",
    "\n",
    "There are $M$ output features (one per neuron) and $N$ input features.\n",
    "\n",
    "The weight matrix is\n",
    " \\begin{bmatrix}\n",
    "  W_{11} & W_{12} & \\ldots & W_{1N} \\\\\n",
    "  W_{21} & W_{22} & \\ldots & W_{2N} \\\\\n",
    "  \\ldots \\\\\n",
    "  W_{M1} & W_{M2} & \\ldots & W_{MN} \\\\\n",
    " \\end{bmatrix}\n",
    " \n",
    "and the bias is $b = [b_1, b_2, \\ldots, b_M]$: there are $N \\times M + M$ adjustable parameters.\n",
    "\n",
    "The layer activation, as a vector, is \n",
    "\n",
    "$\n",
    "a = \\sigma(W \\cdot x + b)\n",
    "$\n",
    "\n",
    "which means, in terms of components, \n",
    "\n",
    "$\n",
    "a_i = \\sigma\\left(\\sum_{j = 1}^{N} W_{ij}x_j + b_i\\right).\n",
    "$"
   ]
  },
  {
   "cell_type": "markdown",
   "metadata": {},
   "source": [
    "##### The simple recurrent layer\n",
    "\n",
    "There are two inputs: the current input, $x(t)$, and the previous activation, $a(t - 1)$. \n",
    "\n",
    "The activation from the RNN layer is \n",
    "\n",
    "$\n",
    "a(t) = \\sigma(W \\cdot x(t) + U \\cdot a(t - 1) + b).\n",
    "$\n",
    "\n",
    "The idea is that the previous activation, $a(t - 1)$, can have more or less effect on the current activation. The influence of the previous activation and input is controlled by the weights. The equation for $a(t)$ is recursive,\n",
    "\n",
    "$\n",
    "a(t) = f(x(t), a(t-1)) = f(x(t), f(x(t - 1), a(t-2))) = \\ldots,\n",
    "$\n",
    "\n",
    "so, in principle, the influence of the past can stretch back in time."
   ]
  },
  {
   "cell_type": "markdown",
   "metadata": {},
   "source": [
    "The RNN layer is pseudocode is"
   ]
  },
  {
   "cell_type": "code",
   "execution_count": null,
   "metadata": {},
   "outputs": [],
   "source": [
    "prev_output = 0\n",
    "for input_t in input_sequence:\n",
    "    output_t = activation(dot(W, input_t) + dot(U, prev_output) + b)\n",
    "    prev_output = output_t"
   ]
  },
  {
   "cell_type": "markdown",
   "metadata": {},
   "source": [
    "U is an $M \\times M$ matrix - or, as a tensor, it has shape (output_features, output_features).\n",
    "\n",
    "So, there are $N \\times M + M \\times M + M$ cofficients.\n",
    "\n",
    "Another way of seeing it: each neuron has $N$ weights for the $N$ input features, $M$ weights for the previous output, and a bias: that's $(N + M + 1)$ coefficients. But there are $M$ units, giving $(N + M + 1) \\times M$ coefficients."
   ]
  },
  {
   "cell_type": "markdown",
   "metadata": {},
   "source": [
    "Let's look at a keras recurrent model:"
   ]
  },
  {
   "cell_type": "code",
   "execution_count": 34,
   "metadata": {},
   "outputs": [
    {
     "name": "stdout",
     "output_type": "stream",
     "text": [
      "_________________________________________________________________\n",
      "Layer (type)                 Output Shape              Param #   \n",
      "=================================================================\n",
      "embedding_3 (Embedding)      (None, None, 32)          320000    \n",
      "_________________________________________________________________\n",
      "simple_rnn_1 (SimpleRNN)     (None, 32)                2080      \n",
      "=================================================================\n",
      "Total params: 322,080\n",
      "Trainable params: 322,080\n",
      "Non-trainable params: 0\n",
      "_________________________________________________________________\n"
     ]
    }
   ],
   "source": [
    "from keras.layers import SimpleRNN\n",
    "from keras.models import Sequential\n",
    "from keras.layers import Embedding, SimpleRNN\n",
    "\n",
    "model = Sequential()\n",
    "model.add(Embedding(10000, 32))\n",
    "model.add(SimpleRNN(32))\n",
    "model.summary()"
   ]
  },
  {
   "cell_type": "markdown",
   "metadata": {},
   "source": [
    "The number of parameters in the `SimpleRNN` layer, from the above calculation is "
   ]
  },
  {
   "cell_type": "code",
   "execution_count": 36,
   "metadata": {},
   "outputs": [
    {
     "data": {
      "text/plain": [
       "2080"
      ]
     },
     "execution_count": 36,
     "metadata": {},
     "output_type": "execute_result"
    }
   ],
   "source": [
    "(32 + 32 + 1) * 32"
   ]
  },
  {
   "cell_type": "markdown",
   "metadata": {},
   "source": [
    "which agrees with `model.summary()`."
   ]
  },
  {
   "cell_type": "markdown",
   "metadata": {},
   "source": [
    "The model processes inputs in batches, just as in the feedforward networks, and `SimpleRNN` layers can be stacked, once more just like FF networks. "
   ]
  },
  {
   "cell_type": "markdown",
   "metadata": {},
   "source": [
    "Listings 6.22-6.24 show a simple RNN for IMDB, with the restriction to the first 500 words of each review.\n",
    "\n",
    "The simple RNN falls below the FF MNIST model of chapter 3 (85% cf. 88%).\n",
    "\n",
    "This is in part due to the short reviews, but also because the simple RNN is just *too* simple. There is a fundamental pathology: *vanishing gradients*. The backpropagated error signal progressively weakens.\n",
    "\n",
    "The simple RNN is never used in practise. Instead, engineers turn to more refined RNNs such as the LTSM network."
   ]
  },
  {
   "cell_type": "markdown",
   "metadata": {},
   "source": [
    "#### The LSTM layer\n",
    "\n",
    "The LSTM layer is really a kind of multi-layer with two different activation functions.\n",
    "\n",
    "Let's quickly revise three common activation functions:"
   ]
  },
  {
   "cell_type": "markdown",
   "metadata": {},
   "source": [
    "##### Activation functions "
   ]
  },
  {
   "cell_type": "code",
   "execution_count": 40,
   "metadata": {},
   "outputs": [
    {
     "data": {
      "image/png": "[encoded data removed]",
      "text/plain": [
       "<Figure size 432x288 with 1 Axes>"
      ]
     },
     "metadata": {
      "needs_background": "light"
     },
     "output_type": "display_data"
    },
    {
     "data": {
      "image/png": "[encoded data removed]",
      "text/plain": [
       "<Figure size 432x288 with 1 Axes>"
      ]
     },
     "metadata": {
      "needs_background": "light"
     },
     "output_type": "display_data"
    },
    {
     "data": {
      "image/png": "[encoded data removed]",
      "text/plain": [
       "<Figure size 432x288 with 1 Axes>"
      ]
     },
     "metadata": {
      "needs_background": "light"
     },
     "output_type": "display_data"
    }
   ],
   "source": [
    "import numpy as np\n",
    "\n",
    "def sigmoid(x):\n",
    "    return 1.0 / (1 + np.exp(-x))\n",
    "\n",
    "def tanh(x):\n",
    "    return (np.exp(x) - np.exp(-x)) / (np.exp(x) + np.exp(-x))\n",
    "\n",
    "def relu(x):\n",
    "    y = np.zeros(len(x))\n",
    "    return np.maximum(0, x)\n",
    "\n",
    "import matplotlib.pyplot as plt\n",
    "\n",
    "x = np.arange(-10, 10, 0.01)\n",
    "\n",
    "plt.plot(x, sigmoid(x), 'k')\n",
    "plt.title('sigmoid')\n",
    "plt.show()\n",
    "\n",
    "plt.plot(x, tanh(x), 'k')\n",
    "plt.title('tanh')\n",
    "plt.show()\n",
    "\n",
    "plt.plot(x, relu(x), 'k')\n",
    "plt.title('relu')\n",
    "plt.show()"
   ]
  },
  {
   "cell_type": "markdown",
   "metadata": {},
   "source": [
    "#### LSTM pseudocode \n",
    "\n",
    "```\n",
    "memory = gated_prev_memory + gated_simple_RNN\n",
    "output_t = output_gate(t) * activation(memory)\n",
    "```\n",
    "\n",
    "##### Explanation\n",
    "\n",
    "- The LSTM layer output is `output_t`. The LSTM layer output at $t - 1$ is `prev_output`.\n",
    "- A gate is a simple RNN layer,\n",
    "```\n",
    "activation(dot(input_t, W) + dot(prev_output, U) + b)\n",
    "```\n",
    "with sigmoid activation.\n",
    "- 'Gated' means multiply by a gate. \n",
    "- All gates and simple RNN layers have their own parameters $(W, U, b)$.\n",
    "- output_t: current LSTM layer output\n",
    "- prev_output: LSTM output at previous timestep\n",
    "- simple_RNN:activation(dot(input_t, W) + dot(prev_output, U) + b)\n",
    "- 'gated': multiply by a gate\n",
    "- All gates and simple RNN layers have their own parameters W,U,b\n"
   ]
  },
  {
   "cell_type": "markdown",
   "metadata": {},
   "source": [
    "#### The LSTM layer in detail*\n",
    "\n",
    "[A popular blog account](http://colah.github.io/posts/2015-08-Understanding-LSTMs/) and [there's always Wikipedia](https://en.wikipedia.org/wiki/Long_short-term_memory)\n",
    "\n",
    "##### Memory\n",
    "\n",
    "The LTSM layer has a memory, called 'carry' by Chollet and, confusingly, 'state' by other authors. \n",
    "\n",
    "----\n",
    "\n",
    "1. A forget layer compares $x(t)$ and $a(t - 1)$:\n",
    "\n",
    "$\n",
    "f(t) = \\sigma_g(W_f \\cdot x(t) + U_f \\cdot a(t - 1) + b_f)\n",
    "$\n",
    "\n",
    "$\\sigma_g$ is a sigmoid, outputing in $[0, 1]$, a kind of smoothed 'gate'.\n",
    "\n",
    "----\n",
    "\n",
    "2. An input gate\n",
    "\n",
    "$\n",
    "i(t) = \\sigma_g(W_i \\cdot x(t) + U_i \\cdot a(t - 1) + b_i)\n",
    "$\n",
    "\n",
    "which we can also imagine as open or closed or in-between.\n",
    "\n",
    "----\n",
    "\n",
    "3. A simple RNN layer - to inject new information into the memory\n",
    "\n",
    "$\n",
    "k(t) = \\sigma_h(W_k \\cdot x(t) + U_k \\cdot a(t - 1) + b_k)\n",
    "$\n",
    "\n",
    "where $\\sigma_h$ is the $\\tanh$ activation.\n",
    "\n",
    "----\n",
    "\n",
    "4. Putting all this together:\n",
    "\n",
    "$\n",
    "c(t) = f(t) * c(t - 1) + i(t) * k(t)\n",
    "$\n",
    "\n",
    "##### Output\n",
    "\n",
    "----\n",
    "\n",
    "1. An output gate\n",
    "\n",
    "$\n",
    "o(t) = \\sigma_d(W_o \\cdot x(t) + U_o \\cdot a(t - 1) + b_o)\n",
    "$\n",
    "\n",
    "----\n",
    "2. which multiplies, or gates, the memory\n",
    "\n",
    "$\n",
    "a(t) = o(t) * \\sigma_h(c(t))\n",
    "$\n",
    "\n",
    "$\\sigma_a$ is a hyperbolic tangent (or, in a 'peephole' LSTM, the identity function $\\sigma(x) = x$). \n"
   ]
  },
  {
   "cell_type": "markdown",
   "metadata": {},
   "source": [
    "###### Listing 6.25 correction\n",
    "\n",
    "The LSTM pseudocode in Listing 6.25 is incorrect: replace with\n",
    "\n",
    "```\n",
    "output_t = activation(dot(state_t, U_0) + dot(input_t, W_0)) * activation(c_t)\n",
    "```\n",
    "where \n",
    "```\n",
    "state_t = prev_output\n",
    "```"
   ]
  },
  {
   "cell_type": "markdown",
   "metadata": {},
   "source": [
    "##### LSTM comparison\n",
    "\n",
    "A very simple LSTM"
   ]
  },
  {
   "cell_type": "code",
   "execution_count": null,
   "metadata": {},
   "outputs": [],
   "source": [
    "model = Sequential()\n",
    "model.add(Embedding(max_features, 32))\n",
    "model.add(LSTM(32))\n",
    "model.add(Dense(1, activation='sigmoid'))"
   ]
  },
  {
   "cell_type": "markdown",
   "metadata": {},
   "source": [
    "scores 89% validation accuracy, improving on the simple RNN accuracy (85%) for the MNIST dataset (because it suffers less from vanishing gradients) and is slightly better than the fully connected model of DLWP Chapter 3 (where the reviews were not truncated at 500 words). \n",
    "\n",
    "LSTM might perform better with hyper-parameter tuning and regularisation but the main issue is that the salient information in the reviews is not sequential - frequencies of positive and negative words are enough for good prediction.  "
   ]
  },
  {
   "cell_type": "markdown",
   "metadata": {},
   "source": [
    "# Advanced RNN's\n",
    "\n",
    "Three techniques: recurrent dropout, stacked layers and bidirectional layers are applied to the temperature-forecasting problem: given 14 weather measurements taken at ten minute intervals over several years (the Jena dataset), can we predict (for example) the next temperature reading from 24 hours worth of data.\n",
    "\n",
    "###### Common sense baseline\n",
    "\n",
    "Simply suppose that the temperature 24 hours from now is just the current temperature. This baseline has an MAE of 0.29 or 2.57C. \n",
    "\n",
    "###### DL baseline \n",
    "\n",
    "```\n",
    "model = Sequential()\n",
    "model.add(layers.Flatten...)\n",
    "model.add(layers.Dense(32, activation='relu')\n",
    "model.add(layers.Dense(1))\n",
    "```\n",
    "Note the single neuron final layer - no activation - this is a regression problem. \n",
    "\n",
    "The DL baseline is worse than the common-sense baseline.\n",
    "\n",
    "The common sense solution might lie in the hypothesis space but might be effectively unlearnable. Parameter learning is not infallible and it can fail to find simple solutions to simple problems.\n",
    "\n",
    "###### RNN baseline\n",
    "\n",
    "Listing 6.39 shows a Gated Recurrent Unit model (GRU).\n",
    "\n",
    "The GRU is similar, but represetationally weaker than, the LSTM. However, it runs faster.\n",
    "\n",
    "MAE: 2.35C, better than common sense (2.57C), but can we do better?\n",
    "\n",
    "##### Dropout\n",
    "\n",
    "Remembert the idea is to break chance correlations by zero'ing random units.\n",
    "\n",
    "The same dropout mask, in RNNs, is applied to each step rather than a different mask at each timestep.\n",
    "\n",
    "The GRU with dropout at 0.2 shows improvement over the basleine GRU on ter Jena data - the model does not overfit.\n",
    "\n",
    "##### Stacked recurrent layers\n",
    "\n",
    "Remember the DL workflow: find the simplest model that doesn't overfit and then enlarge the model until it overfits. Finally, regularise the overfitting model.\n",
    "\n",
    "Stacking is very easy in keras - Listing 6.41.\n",
    "\n",
    "The two recurrent layer model still does not overfit too badly, so another layer could be added\n",
    "- but there will be a computational cost\n",
    "- and adding a second layer didn't have a grear effect, so the returns might be diminishing.\n",
    "\n",
    "##### Bidirectional RNNs\n",
    "\n",
    "RNNs are applied to ordered data - but which order? Chronological or anti-chronological? Or, for non-chronological sequences, from left to right or right to left?\n",
    "\n",
    "Training a one layer GRU with anti-chronological Jena data underperforms the same network with chronological data. That makes sense: the recent past is more salient to temperature prediction than the more distant past.\n",
    "\n",
    "But a reverse-direction LSTM equals the performance normal direction LSTM on IMDB data.\n",
    "\n",
    "It seems word order is important in natural language processing - but *which* order is irrelevant!\n",
    "\n",
    "In general we expect reversed order training to yield different representation from forward order training. \n",
    "\n",
    "Representations that are different but useful are worth exploiting in DL modeling.\n",
    "\n",
    "The bidirectional RNN merges the forward and backward order trained RNN layers.\n",
    "\n",
    "This is an example of ensembling - merging different models.\n",
    "\n",
    "We find some improvement with the bidirectional LSTM over the regular LSTM - overfitting sooner (there are twice as many parameters). Now, we can try regularisation.\n",
    "\n",
    "The bidirectional GRU does not perform better than the regular model on the temperature task - because the anti-chronological half is not, in this case, sufficiently infomative.\n",
    "\n",
    "##### Even more advanced\n",
    "\n",
    "- Adjust the number of units in each recurrent layer\n",
    "- Try different learning rates\n",
    "- Substitute LSTM layers for GRU layers\n",
    "- Try a bigger densely connected regressor on top of the recurrent base, or even s stack of dense layers\n",
    "- Remember to run the best performing models on the test set\n"
   ]
  },
  {
   "cell_type": "markdown",
   "metadata": {},
   "source": [
    "# Sequence processing with convnets\n",
    "\n",
    "Convnets are successful at (some) visual problems because they exploit 2D locality.\n",
    "\n",
    "We expect that 1D convnets might also have applications in sequence data.\n",
    "\n",
    "In fact they offer a fast alternative to RNNs for text processing and time-series forcasting.\n",
    "\n",
    "Imagine a 1D convolutional filter of length 5 tokens sliding across a sequence. The same transformation is performed on each patch - so the filter can recognise patterns anywhere in the impit sequence.\n",
    "\n",
    "1D convolutions can be pooled, as well, with receptive fields of 5, 7 or 9.\n",
    "\n",
    "Here is the model of Listing 6.46:"
   ]
  },
  {
   "cell_type": "code",
   "execution_count": 46,
   "metadata": {},
   "outputs": [
    {
     "name": "stdout",
     "output_type": "stream",
     "text": [
      "_________________________________________________________________\n",
      "Layer (type)                 Output Shape              Param #   \n",
      "=================================================================\n",
      "embedding_7 (Embedding)      (None, 500, 128)          1280000   \n",
      "_________________________________________________________________\n",
      "conv1d_7 (Conv1D)            (None, 494, 32)           28704     \n",
      "_________________________________________________________________\n",
      "max_pooling1d_4 (MaxPooling1 (None, 98, 32)            0         \n",
      "_________________________________________________________________\n",
      "conv1d_8 (Conv1D)            (None, 92, 32)            7200      \n",
      "_________________________________________________________________\n",
      "global_max_pooling1d_4 (Glob (None, 32)                0         \n",
      "_________________________________________________________________\n",
      "dense_6 (Dense)              (None, 1)                 33        \n",
      "=================================================================\n",
      "Total params: 1,315,937\n",
      "Trainable params: 1,315,937\n",
      "Non-trainable params: 0\n",
      "_________________________________________________________________\n"
     ]
    }
   ],
   "source": [
    "import keras\n",
    "from keras.models import Sequential\n",
    "from keras import layers\n",
    "\n",
    "max_features = 10000  # number of words to consider as features\n",
    "max_len = 500  # cut texts after this number of words (among top max_features most common words)\n",
    "\n",
    "model = Sequential()\n",
    "model.add(layers.Embedding(max_features, 128, input_length=max_len))\n",
    "model.add(layers.Conv1D(32, 7, activation='relu'))\n",
    "model.add(layers.MaxPooling1D(5))\n",
    "model.add(layers.Conv1D(32, 7, activation='relu'))\n",
    "model.add(layers.GlobalMaxPooling1D())\n",
    "model.add(layers.Dense(1))\n",
    "\n",
    "model.summary()\n"
   ]
  },
  {
   "cell_type": "markdown",
   "metadata": {},
   "source": [
    "- The global max-pooling layer finds the max over the entire input. \n",
    "- Validation accuracy is less than the previous LSTM model, but the training run is quicker. "
   ]
  },
  {
   "cell_type": "markdown",
   "metadata": {},
   "source": [
    "##### Combining CNN and RNNs for long sequence processing\n",
    "\n",
    "1D convents insensitive to order at lengths greater than the convolution window.\n",
    "\n",
    "So, stack convnet layers, as we did with vision tasks?\n",
    "\n",
    "Stacked 1D CNNs don't always work so well: Listing 6.47 tiews a styacked model on the Jena data. \n",
    "- The results are poorer than common sense\n",
    "- because upper layers access the distant past and we know the distant past is less informative than the recent past in this data set.\n",
    "\n",
    "Solution: use a convnet, whicu us computationally cheap, to shorten the sequence and place an RNN, which recognises time-ordering, on top.\n",
    "- Especially relevant with very long sequences (downsampling ios necessary before input to RNN)\n",
    "- Still not as good as the GRU model on the Jena data, but is significantly faster."
   ]
  },
  {
   "cell_type": "markdown",
   "metadata": {},
   "source": [
    "# Summary\n",
    "\n",
    "- Techniques for sequence data:\n",
    "    - Tokenise text\n",
    "    - Word embeddings\n",
    "    - Recurrent networks\n",
    "    - Stacked and bidrirectional RNNs\n",
    "    - 1D convnets for sequence orocessing\n",
    "    - Combination of convnets and RNNs\n",
    "- RNNs applicable to\n",
    "    - timeseries regression/classifiaction, anomaly dertection, sequence labeling (e.g. identifying names or dates in sentences.)\n",
    "- 1D convnets applicable to\n",
    "    - machine translation, document classification and spelling correction\n",
    "- Use an RNN if the sequence data has important global ordering (epsecially for timeseries where the recent past is more predictively informative than the distant past)\n",
    "- Otherwise, if global order is not important, as in text where keywords are equally informative at the beginning or end of the setence, prefer 1D convnets since they work as well as RNNs but are computationally cheaper."
   ]
  },
  {
   "cell_type": "code",
   "execution_count": null,
   "metadata": {},
   "outputs": [],
   "source": []
  }
 ],
 "metadata": {
  "kernelspec": {
   "display_name": "Python 3",
   "language": "python",
   "name": "python3"
  },
  "language_info": {
   "codemirror_mode": {
    "name": "ipython",
    "version": 3
   },
   "file_extension": ".py",
   "mimetype": "text/x-python",
   "name": "python",
   "nbconvert_exporter": "python",
   "pygments_lexer": "ipython3",
   "version": "3.6.7"
  }
 },
 "nbformat": 4,
 "nbformat_minor": 2
}
