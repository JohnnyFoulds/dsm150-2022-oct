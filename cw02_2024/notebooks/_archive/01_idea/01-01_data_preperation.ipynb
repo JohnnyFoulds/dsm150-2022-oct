{
 "cells": [
  {
   "cell_type": "markdown",
   "metadata": {},
   "source": [
    "# 01-01: Data Preparation\n",
    "\n",
    "The basic idea is to create a sequential recommendation system in Keras by combining Convolutional Neural Networks (CNNs) with Recurrent Neural Networks (RNNs) for sequence prediction.\n",
    "\n",
    "Before applying deep learning models, preprocessing the sequence data is necessary. This involves tokenizing the sequences and possibly using techniques like padding to ensure that all input sequences have the same length. For your dataset, you might consider each session as a sequence and each item interaction within a session as a token within that sequence.\n",
    "\n",
    "## References\n",
    "\n",
    "- https://github.com/sonyisme/keras-recommendation\n",
    "- https://github.com/Gaurav7888/RecSys/blob/0789c74b85609957a8609900b29cb812d4960356/Recommendation_system_using_NCF.ipynb#L1530\n",
    "- https://microsoft-recommenders.readthedocs.io/en/latest/index.html\n",
    "- https://github.com/recommenders-team/recommenders/tree/main\n"
   ]
  },
  {
   "cell_type": "code",
   "execution_count": 1,
   "metadata": {},
   "outputs": [],
   "source": [
    "# import os\n",
    "# os.environ[\"XLA_FLAGS\"]=\"--xla_gpu_cuda_data_dir=/usr/local/cuda-12.2\"\n",
    "# os.environ[\"TF_GPU_ALLOCATOR\"]=\"cuda_malloc_async\""
   ]
  },
  {
   "cell_type": "code",
   "execution_count": 2,
   "metadata": {},
   "outputs": [
    {
     "name": "stderr",
     "output_type": "stream",
     "text": [
      "2024-03-01 15:23:32.432102: E external/local_xla/xla/stream_executor/cuda/cuda_dnn.cc:9261] Unable to register cuDNN factory: Attempting to register factory for plugin cuDNN when one has already been registered\n",
      "2024-03-01 15:23:32.432130: E external/local_xla/xla/stream_executor/cuda/cuda_fft.cc:607] Unable to register cuFFT factory: Attempting to register factory for plugin cuFFT when one has already been registered\n",
      "2024-03-01 15:23:32.433040: E external/local_xla/xla/stream_executor/cuda/cuda_blas.cc:1515] Unable to register cuBLAS factory: Attempting to register factory for plugin cuBLAS when one has already been registered\n",
      "2024-03-01 15:23:32.437752: I tensorflow/core/platform/cpu_feature_guard.cc:182] This TensorFlow binary is optimized to use available CPU instructions in performance-critical operations.\n",
      "To enable the following instructions: AVX2 FMA, in other operations, rebuild TensorFlow with the appropriate compiler flags.\n",
      "2024-03-01 15:23:32.914440: W tensorflow/compiler/tf2tensorrt/utils/py_utils.cc:38] TF-TRT Warning: Could not find TensorRT\n"
     ]
    }
   ],
   "source": [
    "import pandas as pd\n",
    "import numpy as np\n",
    "import matplotlib.pyplot as plt\n",
    "from pprint import pprint\n",
    "\n",
    "from keras import backend as K\n",
    "from keras.utils import to_categorical\n",
    "from keras.preprocessing.text import Tokenizer\n",
    "from keras.preprocessing.sequence import pad_sequences\n",
    "from keras.models import Sequential\n",
    "from keras.layers import Embedding, Conv1D, MaxPooling1D, GlobalMaxPooling1D, LSTM, Dense\n",
    "from keras.optimizers import Adam\n",
    "\n",
    "import tensorflow as tf\n",
    "import tensorflow_recommenders as tfrs"
   ]
  },
  {
   "cell_type": "markdown",
   "metadata": {},
   "source": [
    "## 1. Dataset Description\n",
    "\n",
    "- Describe the dataset in detail: sources, features, and statistics.\n",
    "- Discuss any limitations or biases present in the dataset."
   ]
  },
  {
   "cell_type": "code",
   "execution_count": 3,
   "metadata": {},
   "outputs": [],
   "source": [
    "data_path = '../../data/coveo'\n",
    "model_path = '../../models/coveo'\n",
    "\n",
    "# file paths for the data files\n",
    "train_path = f'{data_path}/coveo_processed_view_train_tr.tsv'\n",
    "validation_path = f'{data_path}/coveo_processed_view_train_valid.tsv'\n",
    "test_path = f'{data_path}/coveo_processed_view_test.tsv'"
   ]
  },
  {
   "cell_type": "code",
   "execution_count": 4,
   "metadata": {},
   "outputs": [],
   "source": [
    "# load the datasets\n",
    "df_train = pd.read_csv(train_path, sep='\\t').sample(frac=0.3, random_state=42)\n",
    "df_validation = pd.read_csv(validation_path, sep='\\t')\n",
    "df_test = pd.read_csv(test_path, sep='\\t')"
   ]
  },
  {
   "cell_type": "code",
   "execution_count": 5,
   "metadata": {},
   "outputs": [
    {
     "name": "stdout",
     "output_type": "stream",
     "text": [
      "Train      : (410401, 3)\n",
      "Validation : (43032, 3)\n",
      "Test       : (52501, 3)\n"
     ]
    }
   ],
   "source": [
    "# show the shape of the datasets\n",
    "print('Train      :', df_train.shape)\n",
    "print('Validation :', df_validation.shape)\n",
    "print('Test       :', df_test.shape)"
   ]
  },
  {
   "cell_type": "code",
   "execution_count": 6,
   "metadata": {},
   "outputs": [
    {
     "data": {
      "text/html": [
       "<div>\n",
       "<style scoped>\n",
       "    .dataframe tbody tr th:only-of-type {\n",
       "        vertical-align: middle;\n",
       "    }\n",
       "\n",
       "    .dataframe tbody tr th {\n",
       "        vertical-align: top;\n",
       "    }\n",
       "\n",
       "    .dataframe thead th {\n",
       "        text-align: right;\n",
       "    }\n",
       "</style>\n",
       "<table border=\"1\" class=\"dataframe\">\n",
       "  <thead>\n",
       "    <tr style=\"text-align: right;\">\n",
       "      <th></th>\n",
       "      <th>SessionId</th>\n",
       "      <th>ItemId</th>\n",
       "      <th>Time</th>\n",
       "    </tr>\n",
       "  </thead>\n",
       "  <tbody>\n",
       "    <tr>\n",
       "      <th>893300</th>\n",
       "      <td>289617</td>\n",
       "      <td>245</td>\n",
       "      <td>1544683595406</td>\n",
       "    </tr>\n",
       "    <tr>\n",
       "      <th>1132153</th>\n",
       "      <td>367012</td>\n",
       "      <td>3407</td>\n",
       "      <td>1545128579533</td>\n",
       "    </tr>\n",
       "    <tr>\n",
       "      <th>541990</th>\n",
       "      <td>176670</td>\n",
       "      <td>672</td>\n",
       "      <td>1545115848623</td>\n",
       "    </tr>\n",
       "    <tr>\n",
       "      <th>986245</th>\n",
       "      <td>320058</td>\n",
       "      <td>6906</td>\n",
       "      <td>1544647058411</td>\n",
       "    </tr>\n",
       "    <tr>\n",
       "      <th>207069</th>\n",
       "      <td>67818</td>\n",
       "      <td>3860</td>\n",
       "      <td>1544427818298</td>\n",
       "    </tr>\n",
       "  </tbody>\n",
       "</table>\n",
       "</div>"
      ],
      "text/plain": [
       "         SessionId  ItemId           Time\n",
       "893300      289617     245  1544683595406\n",
       "1132153     367012    3407  1545128579533\n",
       "541990      176670     672  1545115848623\n",
       "986245      320058    6906  1544647058411\n",
       "207069       67818    3860  1544427818298"
      ]
     },
     "metadata": {},
     "output_type": "display_data"
    }
   ],
   "source": [
    "# head of the training set\n",
    "display(df_train.head())"
   ]
  },
  {
   "cell_type": "code",
   "execution_count": 7,
   "metadata": {},
   "outputs": [
    {
     "name": "stdout",
     "output_type": "stream",
     "text": [
      "Train      : 126180\n",
      "Validation : 5905\n",
      "Test       : 7748\n"
     ]
    }
   ],
   "source": [
    "# unique sessions in each dataset\n",
    "print('Train      :', df_train.SessionId.nunique())\n",
    "print('Validation :', df_validation.SessionId.nunique())\n",
    "print('Test       :', df_test.SessionId.nunique())"
   ]
  },
  {
   "cell_type": "code",
   "execution_count": 8,
   "metadata": {},
   "outputs": [
    {
     "name": "stdout",
     "output_type": "stream",
     "text": [
      "--- Train ---\n",
      "count    126180.000000\n",
      "mean          3.252504\n",
      "std           3.693615\n",
      "min           1.000000\n",
      "25%           1.000000\n",
      "50%           2.000000\n",
      "75%           4.000000\n",
      "max         145.000000\n",
      "dtype: float64\n",
      "--- Validation ---\n",
      "count    5905.000000\n",
      "mean        7.287384\n",
      "std         8.974551\n",
      "min         2.000000\n",
      "25%         3.000000\n",
      "50%         4.000000\n",
      "75%         8.000000\n",
      "max       134.000000\n",
      "dtype: float64\n",
      "--- Test ---\n",
      "count    7748.000000\n",
      "mean        6.776071\n",
      "std         8.341588\n",
      "min         2.000000\n",
      "25%         2.000000\n",
      "50%         4.000000\n",
      "75%         8.000000\n",
      "max       146.000000\n",
      "dtype: float64\n"
     ]
    }
   ],
   "source": [
    "# average session length in each dataset\n",
    "print('--- Train ---')\n",
    "print(df_train.groupby('SessionId').size().describe())\n",
    "print('--- Validation ---')\n",
    "print(df_validation.groupby('SessionId').size().describe())\n",
    "print('--- Test ---')\n",
    "print(df_test.groupby('SessionId').size().describe())"
   ]
  },
  {
   "cell_type": "markdown",
   "metadata": {},
   "source": [
    "## 2. Data Preprocessing\n",
    "\n",
    "- Detail the preprocessing steps with explanations for each decision.\n",
    "- Show visualizations of data distribution, session lengths, and item frequencies."
   ]
  },
  {
   "cell_type": "code",
   "execution_count": 9,
   "metadata": {},
   "outputs": [],
   "source": [
    "# convert the items ids to strings\n",
    "df_train['ItemId'] = df_train['ItemId'].astype(str)\n",
    "df_validation['ItemId'] = df_validation['ItemId'].astype(str)\n",
    "df_test['ItemId'] = df_test['ItemId'].astype(str)"
   ]
  },
  {
   "cell_type": "markdown",
   "metadata": {},
   "source": [
    "### 2.1 Sequence Creation\n",
    "\n",
    "The first step involves creating sequences of item interactions for each session. This requires grouping the data by SessionId and ordering it within each group based on the Time column. Each sequence represents a series of item interactions within a session."
   ]
  },
  {
   "cell_type": "code",
   "execution_count": 10,
   "metadata": {},
   "outputs": [],
   "source": [
    "# Sort by SessionId and Time to ensure the order is correct\n",
    "df_train_sorted = df_train.sort_values(by=['SessionId', 'Time'])\n",
    "df_validation_sorted = df_validation.sort_values(by=['SessionId', 'Time'])\n",
    "df_test_sorted = df_test.sort_values(by=['SessionId', 'Time'])\n",
    "\n",
    "# Create sequences of ItemIds grouped by SessionId\n",
    "train_sequences = df_train_sorted.groupby('SessionId')['ItemId'].apply(list)\n",
    "validation_sequences = df_validation_sorted.groupby('SessionId')['ItemId'].apply(list)\n",
    "test_sequences = df_test_sorted.groupby('SessionId')['ItemId'].apply(list)"
   ]
  },
  {
   "cell_type": "code",
   "execution_count": 11,
   "metadata": {},
   "outputs": [
    {
     "data": {
      "text/plain": [
       "SessionId\n",
       "2                      [3]\n",
       "13                    [10]\n",
       "14                    [12]\n",
       "18    [21, 22, 23, 27, 32]\n",
       "21            [39, 41, 44]\n",
       "Name: ItemId, dtype: object"
      ]
     },
     "execution_count": 11,
     "metadata": {},
     "output_type": "execute_result"
    }
   ],
   "source": [
    "train_sequences.head(5)"
   ]
  },
  {
   "cell_type": "code",
   "execution_count": 12,
   "metadata": {},
   "outputs": [
    {
     "data": {
      "text/plain": [
       "SessionId\n",
       "18                                [21, 22, 23, 27, 32]\n",
       "21                                        [39, 41, 44]\n",
       "23                        [60, 61, 62, 68, 71, 75, 76]\n",
       "24                                    [81, 83, 85, 90]\n",
       "29    [92, 75, 104, 106, 108, 114, 116, 120, 123, 124]\n",
       "Name: ItemId, dtype: object"
      ]
     },
     "execution_count": 12,
     "metadata": {},
     "output_type": "execute_result"
    }
   ],
   "source": [
    "# drop the sessions with only one item\n",
    "train_sequences = train_sequences[train_sequences.map(len) > 1]\n",
    "train_sequences.head(5)"
   ]
  },
  {
   "cell_type": "markdown",
   "metadata": {},
   "source": [
    "### 2.2 Tokenization (Categorical Features Encoding)\n",
    "\n",
    "We need to ensure that ItemIds are treated as categorical inputs."
   ]
  },
  {
   "cell_type": "markdown",
   "metadata": {},
   "source": [
    "Create a tokenizer to encode ItemIds as integers, 0 and 1 are special values, where 0 should be for padding and 1 for out of vocabulary items."
   ]
  },
  {
   "cell_type": "code",
   "execution_count": 13,
   "metadata": {},
   "outputs": [],
   "source": [
    "# get a list of the unique item ids across all datasets\n",
    "unique_items = pd.concat([df_train, df_validation, df_test]).ItemId.unique()\n",
    "\n",
    "# use keras to map the item ids to a sequential list of integer values,\n",
    "# 0 should be for padding and 1 for out of vocabulary items\n",
    "tokenizer = Tokenizer(num_words=len(unique_items) + 2, oov_token=1)\n",
    "tokenizer.fit_on_texts(unique_items)\n",
    "\n",
    "# save the tokenizer\n",
    "tokenizer_path = f'{model_path}/item_id_tokenizer.json'\n",
    "with open(tokenizer_path, 'w') as file:\n",
    "    file.write(tokenizer.to_json())"
   ]
  },
  {
   "cell_type": "code",
   "execution_count": 14,
   "metadata": {},
   "outputs": [],
   "source": [
    "# tokenize the sequences\n",
    "train_sequences_tokenized = tokenizer.texts_to_sequences(train_sequences)\n",
    "validation_sequences_tokenized = tokenizer.texts_to_sequences(validation_sequences)\n",
    "test_sequences_tokenized = tokenizer.texts_to_sequences(test_sequences)"
   ]
  },
  {
   "cell_type": "code",
   "execution_count": 15,
   "metadata": {},
   "outputs": [
    {
     "data": {
      "text/plain": [
       "[[2347, 7574, 3524, 5144, 8165],\n",
       " [6623, 2276, 361],\n",
       " [2691, 477, 897, 1123, 2085, 138, 6540],\n",
       " [449, 1368, 921, 109],\n",
       " [1835, 138, 1830, 399, 1607, 2739, 4738, 4466, 5417, 1156]]"
      ]
     },
     "execution_count": 15,
     "metadata": {},
     "output_type": "execute_result"
    }
   ],
   "source": [
    "train_sequences_tokenized[:5]"
   ]
  },
  {
   "cell_type": "markdown",
   "metadata": {},
   "source": [
    "### 2.3 Padding\n",
    "\n",
    "To handle sessions of varying lengths, we'll need to pad the sequences so that they all have the same length, making them suitable for batch processing."
   ]
  },
  {
   "cell_type": "code",
   "execution_count": 16,
   "metadata": {},
   "outputs": [],
   "source": [
    "# use the last item as the target and the rest as the input\n",
    "def split_input_target(sequence):\n",
    "    return sequence[:-1], sequence[-1]\n",
    "\n",
    "train_sequences_input = list(map(split_input_target, train_sequences_tokenized))\n",
    "validation_sequences_input = list(map(split_input_target, validation_sequences_tokenized))\n",
    "test_sequences_input = list(map(split_input_target, test_sequences_tokenized))"
   ]
  },
  {
   "cell_type": "code",
   "execution_count": 17,
   "metadata": {},
   "outputs": [
    {
     "data": {
      "text/plain": [
       "[([2347, 7574, 3524, 5144], 8165),\n",
       " ([6623, 2276], 361),\n",
       " ([2691, 477, 897, 1123, 2085, 138], 6540),\n",
       " ([449, 1368, 921], 109),\n",
       " ([1835, 138, 1830, 399, 1607, 2739, 4738, 4466, 5417], 1156)]"
      ]
     },
     "execution_count": 17,
     "metadata": {},
     "output_type": "execute_result"
    }
   ],
   "source": [
    "train_sequences_input[:5]"
   ]
  },
  {
   "cell_type": "code",
   "execution_count": 18,
   "metadata": {},
   "outputs": [],
   "source": [
    "# separate into input and target arrays\n",
    "train_input, y_train = map(list, zip(*train_sequences_input))\n",
    "validation_input, y_validation = map(list, zip(*validation_sequences_input))\n",
    "test_input, y_test = map(list, zip(*test_sequences_input))"
   ]
  },
  {
   "cell_type": "code",
   "execution_count": 19,
   "metadata": {},
   "outputs": [
    {
     "name": "stdout",
     "output_type": "stream",
     "text": [
      "[[2347, 7574, 3524, 5144],\n",
      " [6623, 2276],\n",
      " [2691, 477, 897, 1123, 2085, 138],\n",
      " [449, 1368, 921],\n",
      " [1835, 138, 1830, 399, 1607, 2739, 4738, 4466, 5417]]\n",
      "----------\n",
      "[8165, 361, 6540, 109, 1156]\n"
     ]
    }
   ],
   "source": [
    "pprint(train_input[:5])\n",
    "print('-'*10)\n",
    "pprint(y_train[:5])"
   ]
  },
  {
   "cell_type": "code",
   "execution_count": 20,
   "metadata": {},
   "outputs": [],
   "source": [
    "# Determine the maximum sequence length for padding\n",
    "#max_sequence_length = max(map(len, train_input))\n",
    "max_sequence_length = 10\n",
    "\n",
    "# pad the sequences\n",
    "X_train = pad_sequences(train_input, maxlen=max_sequence_length, padding='post')\n",
    "X_validation = pad_sequences(validation_input, maxlen=max_sequence_length, padding='post')\n",
    "X_test = pad_sequences(test_input, maxlen=max_sequence_length, padding='post')"
   ]
  },
  {
   "cell_type": "code",
   "execution_count": 21,
   "metadata": {},
   "outputs": [
    {
     "data": {
      "text/plain": [
       "array([[2347, 7574, 3524, 5144,    0,    0,    0,    0,    0,    0],\n",
       "       [6623, 2276,    0,    0,    0,    0,    0,    0,    0,    0],\n",
       "       [2691,  477,  897, 1123, 2085,  138,    0,    0,    0,    0],\n",
       "       [ 449, 1368,  921,    0,    0,    0,    0,    0,    0,    0],\n",
       "       [1835,  138, 1830,  399, 1607, 2739, 4738, 4466, 5417,    0]],\n",
       "      dtype=int32)"
      ]
     },
     "execution_count": 21,
     "metadata": {},
     "output_type": "execute_result"
    }
   ],
   "source": [
    "X_train[:5]"
   ]
  },
  {
   "cell_type": "markdown",
   "metadata": {},
   "source": [
    "## 3. Model Architecture"
   ]
  },
  {
   "cell_type": "code",
   "execution_count": 22,
   "metadata": {},
   "outputs": [
    {
     "name": "stderr",
     "output_type": "stream",
     "text": [
      "2024-03-01 15:23:35.895073: I external/local_xla/xla/stream_executor/cuda/cuda_executor.cc:901] successful NUMA node read from SysFS had negative value (-1), but there must be at least one NUMA node, so returning NUMA node zero. See more at https://github.com/torvalds/linux/blob/v6.0/Documentation/ABI/testing/sysfs-bus-pci#L344-L355\n",
      "2024-03-01 15:23:35.923676: I external/local_xla/xla/stream_executor/cuda/cuda_executor.cc:901] successful NUMA node read from SysFS had negative value (-1), but there must be at least one NUMA node, so returning NUMA node zero. See more at https://github.com/torvalds/linux/blob/v6.0/Documentation/ABI/testing/sysfs-bus-pci#L344-L355\n",
      "2024-03-01 15:23:35.923860: I external/local_xla/xla/stream_executor/cuda/cuda_executor.cc:901] successful NUMA node read from SysFS had negative value (-1), but there must be at least one NUMA node, so returning NUMA node zero. See more at https://github.com/torvalds/linux/blob/v6.0/Documentation/ABI/testing/sysfs-bus-pci#L344-L355\n",
      "2024-03-01 15:23:35.924851: I external/local_xla/xla/stream_executor/cuda/cuda_executor.cc:901] successful NUMA node read from SysFS had negative value (-1), but there must be at least one NUMA node, so returning NUMA node zero. See more at https://github.com/torvalds/linux/blob/v6.0/Documentation/ABI/testing/sysfs-bus-pci#L344-L355\n",
      "2024-03-01 15:23:35.924999: I external/local_xla/xla/stream_executor/cuda/cuda_executor.cc:901] successful NUMA node read from SysFS had negative value (-1), but there must be at least one NUMA node, so returning NUMA node zero. See more at https://github.com/torvalds/linux/blob/v6.0/Documentation/ABI/testing/sysfs-bus-pci#L344-L355\n",
      "2024-03-01 15:23:35.925138: I external/local_xla/xla/stream_executor/cuda/cuda_executor.cc:901] successful NUMA node read from SysFS had negative value (-1), but there must be at least one NUMA node, so returning NUMA node zero. See more at https://github.com/torvalds/linux/blob/v6.0/Documentation/ABI/testing/sysfs-bus-pci#L344-L355\n",
      "2024-03-01 15:23:35.985213: I external/local_xla/xla/stream_executor/cuda/cuda_executor.cc:901] successful NUMA node read from SysFS had negative value (-1), but there must be at least one NUMA node, so returning NUMA node zero. See more at https://github.com/torvalds/linux/blob/v6.0/Documentation/ABI/testing/sysfs-bus-pci#L344-L355\n",
      "2024-03-01 15:23:35.985380: I external/local_xla/xla/stream_executor/cuda/cuda_executor.cc:901] successful NUMA node read from SysFS had negative value (-1), but there must be at least one NUMA node, so returning NUMA node zero. See more at https://github.com/torvalds/linux/blob/v6.0/Documentation/ABI/testing/sysfs-bus-pci#L344-L355\n",
      "2024-03-01 15:23:35.985529: I external/local_xla/xla/stream_executor/cuda/cuda_executor.cc:901] successful NUMA node read from SysFS had negative value (-1), but there must be at least one NUMA node, so returning NUMA node zero. See more at https://github.com/torvalds/linux/blob/v6.0/Documentation/ABI/testing/sysfs-bus-pci#L344-L355\n",
      "2024-03-01 15:23:35.985645: I tensorflow/core/common_runtime/gpu/gpu_device.cc:1929] Created device /job:localhost/replica:0/task:0/device:GPU:0 with 10035 MB memory:  -> device: 0, name: NVIDIA GeForce RTX 3080 Ti, pci bus id: 0000:08:00.0, compute capability: 8.6\n"
     ]
    }
   ],
   "source": [
    "model = Sequential()"
   ]
  },
  {
   "cell_type": "markdown",
   "metadata": {},
   "source": [
    "### 3.1 Embedding Layers\n",
    "\n",
    "Embedding layers transform sparse, integer-encoded data into dense vectors of fixed size. This is particularly useful for categorical data with many categories, where one-hot encoding would result in vectors that are mostly zeros and inefficient both in terms of memory and computation. Embeddings capture more information per byte and allow the model to learn relationships between categories (in this case, ItemIds).\n",
    "\n",
    "**Why It Is Done:**\n",
    "\n",
    "Dimensionality Reduction: Embeddings reduce the dimensionality of the categorical data, representing items in a more compact and dense vector space.\n",
    "Semantic Representation: The dense vectors obtained from embeddings can capture semantic relationships between items, such as similarity in user interaction patterns, which is not possible with one-hot encoding or similar techniques.\n",
    "Improved Learning: By learning an optimal representation of items in a lower-dimensional space, embeddings can improve the model's performance on the recommendation task.\n",
    "Implementation"
   ]
  },
  {
   "cell_type": "code",
   "execution_count": 23,
   "metadata": {},
   "outputs": [],
   "source": [
    "max_item_id = max(tokenizer.index_word.keys())  # get the maximum item id from the tokenizer\n",
    "embedding_dim = 64                              # Size of the embedding vectors\n",
    "\n",
    "# Embedding layer for vectorizing ItemIds into dense vectors\n",
    "model.add(Embedding(input_dim=max_item_id + 1, output_dim=embedding_dim, input_length=max_sequence_length))"
   ]
  },
  {
   "cell_type": "markdown",
   "metadata": {},
   "source": [
    "## 3.2 CNN Layers\n",
    "\n",
    "CNNs, particularly 1D CNNs (Conv1D), are adept at recognizing local patterns within sequences. The key advantage of using CNNs in sequence data processing is their ability to apply the same transformation across different parts of a sequence, making them translation invariant. This means that if a CNN learns a particular pattern (e.g., a specific sequence of item interactions) at one point in a session, it can recognize the same pattern at a different point, enhancing the model's ability to understand user behavior across sessions.\n",
    "\n",
    "**Why It Is Done:**\n",
    "\n",
    "- **Local Pattern Recognition**: CNNs excel at identifying patterns within localized regions of the input data. For sequence data, this means recognizing specific sequences of item interactions that are indicative of broader user preferences.\n",
    "Translation Invariance: The ability of CNNs to recognize patterns regardless of their position in the sequence is particularly valuable for session-based recommendation systems, where the order of interactions can vary significantly across sessions.\n",
    "\n",
    "- **Efficiency and Scalability**: CNNs can process data more efficiently than fully connected networks, especially for large datasets. This efficiency makes them suitable for handling the vast amounts of data typically involved in recommendation systems."
   ]
  },
  {
   "cell_type": "code",
   "execution_count": 24,
   "metadata": {},
   "outputs": [],
   "source": [
    "# Conv1D + MaxPooling1D for local pattern recognition and dimensionality reduction\n",
    "#model.add(Conv1D(filters=128, kernel_size=5, activation='relu'))\n",
    "#model.add(MaxPooling1D(5))\n",
    "\n",
    "# Additional Conv1D + GlobalMaxPooling1D for deeper pattern recognition\n",
    "#model.add(Conv1D(filters=128, kernel_size=5, activation='relu'))\n",
    "\n",
    "#model.add(GlobalMaxPooling1D())"
   ]
  },
  {
   "cell_type": "markdown",
   "metadata": {},
   "source": [
    "## 3.3  Recurrent Neural Network Layers\n",
    "\n",
    "Incorporating Recurrent Neural Networks (RNNs) for sequence modeling into a deep learning architecture that already includes Convolutional Neural Networks (CNNs) layers is a strategic approach to handle sequence data effectively, especially for tasks like sequential recommendation systems. This combination leverages the strengths of both CNNs and RNNs, where CNNs excel in extracting local and position-invariant features, and RNNs are adept at capturing temporal or sequential dependencies.\n",
    "\n",
    "The primary purpose of incorporating RNN layers after CNN layers is to model the temporal or sequential dependencies in the data. While CNNs are excellent for reducing a long sequence into a shorter one with extracted features (as mentioned in the document context about processing long sequences with CNNs before RNNs), they do not inherently understand the order or sequence of these features. RNNs, with their internal state and loop mechanism, can take the sequence of extracted features and learn patterns over time, making them ideal for tasks where the sequence order matters, such as predicting the next item in a session.\n",
    "\n",
    "The CNN layers act as a preprocessing step that transforms the raw sequence data into a higher-level, downsampled representation. This transformation is crucial because it allows the RNN layers to process the data more efficiently by focusing on the most relevant features extracted by the CNNs. The RNN can then model the temporal dynamics of these features across the sequence. This setup is particularly beneficial for handling sequences that are too long to be processed directly by RNNs, as it reduces the sequence length and complexity before reaching the RNN layers.\n",
    "\n",
    "RNNs are specifically designed to handle sequence data, making them a natural choice for sequence modeling tasks. They can maintain information about previous states or inputs through their hidden states, allowing them to make predictions based on the entire history of a sequence. This capability is crucial for understanding the context in sequential recommendation systems, where the relevance of an item can depend on the items that were interacted with previously."
   ]
  },
  {
   "cell_type": "code",
   "execution_count": 25,
   "metadata": {},
   "outputs": [],
   "source": [
    "#model.add(LSTM(32))  # LSTM layer with 32 units. Adjust the number of units based on your dataset and complexity."
   ]
  },
  {
   "cell_type": "markdown",
   "metadata": {},
   "source": [
    "## 3.4 Output Layer\n",
    "\n",
    "The output layer of a sequential recommendation system is crucial as it directly influences the system's ability to make accurate and relevant recommendations. The design of this layer depends on the specific task at hand – in the case of a sequential recommendation system, the task is typically to predict the next item(s) a user is likely to interact with, based on their previous interactions within a session.\n",
    "\n",
    "Given the sequential nature of the data, where the order of interactions matters significantly, the output layer must capture and utilize the rich representations learned by the preceding layers (embedding, CNNs for local pattern recognition, and RNNs for capturing temporal dynamics) to make these predictions.\n",
    "\n",
    "### How It Relates to Preceding Layers:\n",
    "The output layer receives processed and transformed data from the previous layers, which have worked in tandem to encode the input sequences into a meaningful representation that captures both the content and context of user interactions. The embedding layer first converts item IDs into dense vectors, capturing similarity and relationships between items. The CNN layers then extract local patterns within these embeddings, and the RNN layers model the sequential dependencies. The output layer must leverage this rich representation to make accurate predictions.\n",
    "\n",
    "### Output Layer Design for Recommendation System:\n",
    "For a sequential recommendation system, the output layer often uses a softmax activation function. This function is suitable because it can output a probability distribution over the set of possible items, indicating the likelihood of each item being the next interaction. This approach requires the output layer to have as many units as there are unique items in the dataset, with each unit corresponding to a specific item.\n",
    "\n",
    "### Practical Use in Recommendation Systems:\n",
    "In practice, the output of the model can be used to rank items based on their predicted likelihood of being the next user interaction. The system can then recommend the top-N items with the highest probabilities. This method allows for personalized recommendations that adapt based on the user's current session activities."
   ]
  },
  {
   "cell_type": "code",
   "execution_count": 26,
   "metadata": {},
   "outputs": [],
   "source": [
    "# temporary test, flatten the output\n",
    "model.add(GlobalMaxPooling1D())"
   ]
  },
  {
   "cell_type": "code",
   "execution_count": 27,
   "metadata": {},
   "outputs": [],
   "source": [
    "# Output layer for predicting the next item in the sequence\n",
    "model.add(Dense(max_item_id+1, activation='softmax'))"
   ]
  },
  {
   "cell_type": "markdown",
   "metadata": {},
   "source": [
    "## 3.5 Evaluation Metrics\n",
    "\n",
    "It is important to establish a robust evaluation protocol and optimizing model performance, we'll focus on implementing and optimizing for the metrics Recall@K and MRR@K (Mean Reciprocal Rank at K). These metrics are particularly relevant for recommendation systems and ranking problems, where the goal is to accurately predict and rank a set of items in order of relevance.\n",
    "\n",
    "### Evaluation Metrics: Recall@K and MRR@K\n",
    "\n",
    "**Recall@K** measures the fraction of relevant items that are retrieved among the top-K recommendations. It's crucial for assessing the model's ability to capture the most relevant items within the first K suggestions.\n",
    "\n",
    "**MRR@K** (Mean Reciprocal Rank at K) focuses on the rank of the first relevant item, averaging this metric over multiple queries. It's valuable for understanding how well the model ranks the first relevant item, emphasizing the importance of items ranked closer to the top.\n",
    "\n",
    "Rational for Choosing Recall@K and MRR@K\n",
    "\n",
    "- Recall@K is essential for ensuring that the top-K recommendations contain items truly relevant to the user, enhancing user satisfaction and engagement.\n",
    "- MRR@K complements Recall@K by ensuring that not only are relevant items included in the top-K recommendations, but they are also ranked as high as possible.\n",
    "Implementation\n",
    "\n",
    "Given the emphasis on hyperparameter optimization and model evaluation, we'll implement custom functions for Recall@K and MRR@K and integrate them into the model training and evaluation process. This approach allows us to directly optimize and evaluate the model based on metrics that align closely with our objectives."
   ]
  },
  {
   "cell_type": "code",
   "execution_count": 28,
   "metadata": {},
   "outputs": [
    {
     "name": "stdout",
     "output_type": "stream",
     "text": [
      "Model: \"sequential\"\n",
      "_________________________________________________________________\n",
      " Layer (type)                Output Shape              Param #   \n",
      "=================================================================\n",
      " embedding (Embedding)       (None, 10, 64)            693440    \n",
      "                                                                 \n",
      " global_max_pooling1d (Glob  (None, 64)                0         \n",
      " alMaxPooling1D)                                                 \n",
      "                                                                 \n",
      " dense (Dense)               (None, 10835)             704275    \n",
      "                                                                 \n",
      "=================================================================\n",
      "Total params: 1397715 (5.33 MB)\n",
      "Trainable params: 1397715 (5.33 MB)\n",
      "Non-trainable params: 0 (0.00 Byte)\n",
      "_________________________________________________________________\n"
     ]
    }
   ],
   "source": [
    "model.compile(optimizer=Adam(learning_rate=0.001),\n",
    "              loss='categorical_crossentropy')\n",
    "\n",
    "model.summary()"
   ]
  },
  {
   "cell_type": "markdown",
   "metadata": {},
   "source": [
    "## 4. Model Training"
   ]
  },
  {
   "cell_type": "code",
   "execution_count": 29,
   "metadata": {},
   "outputs": [],
   "source": [
    "y_train_categorical = to_categorical(y_train, num_classes=max_item_id+1)\n",
    "y_validation_categorical = to_categorical(y_validation, num_classes=max_item_id+1)"
   ]
  },
  {
   "cell_type": "code",
   "execution_count": 30,
   "metadata": {},
   "outputs": [
    {
     "name": "stdout",
     "output_type": "stream",
     "text": [
      "Epoch 1/20\n"
     ]
    },
    {
     "name": "stderr",
     "output_type": "stream",
     "text": [
      "2024-03-01 15:23:44.155227: I external/local_xla/xla/service/service.cc:168] XLA service 0x7fc61c2b5f60 initialized for platform CUDA (this does not guarantee that XLA will be used). Devices:\n",
      "2024-03-01 15:23:44.155244: I external/local_xla/xla/service/service.cc:176]   StreamExecutor device (0): NVIDIA GeForce RTX 3080 Ti, Compute Capability 8.6\n",
      "2024-03-01 15:23:44.159411: I tensorflow/compiler/mlir/tensorflow/utils/dump_mlir_util.cc:269] disabling MLIR crash reproducer, set env var `MLIR_CRASH_REPRODUCER_DIRECTORY` to enable.\n",
      "2024-03-01 15:23:44.170971: I external/local_xla/xla/stream_executor/cuda/cuda_dnn.cc:454] Loaded cuDNN version 8904\n",
      "WARNING: All log messages before absl::InitializeLog() is called are written to STDERR\n",
      "I0000 00:00:1709299424.233436  140193 device_compiler.h:186] Compiled cluster using XLA!  This line is logged at most once for the lifetime of the process.\n"
     ]
    },
    {
     "name": "stdout",
     "output_type": "stream",
     "text": [
      "634/634 [==============================] - 16s 25ms/step - loss: 8.9527 - val_loss: 8.7428\n",
      "Epoch 2/20\n",
      "634/634 [==============================] - 5s 8ms/step - loss: 8.6838 - val_loss: 8.6539\n",
      "Epoch 3/20\n",
      "634/634 [==============================] - 4s 7ms/step - loss: 8.5947 - val_loss: 8.6094\n",
      "Epoch 4/20\n",
      "634/634 [==============================] - 4s 7ms/step - loss: 8.5158 - val_loss: 8.5810\n",
      "Epoch 5/20\n",
      "634/634 [==============================] - 4s 6ms/step - loss: 8.4419 - val_loss: 8.5653\n",
      "Epoch 6/20\n",
      "634/634 [==============================] - 4s 7ms/step - loss: 8.3650 - val_loss: 8.5556\n",
      "Epoch 7/20\n",
      "634/634 [==============================] - 4s 6ms/step - loss: 8.2793 - val_loss: 8.5423\n",
      "Epoch 8/20\n",
      "634/634 [==============================] - 4s 6ms/step - loss: 8.1822 - val_loss: 8.5289\n",
      "Epoch 9/20\n",
      "634/634 [==============================] - 4s 6ms/step - loss: 8.0737 - val_loss: 8.5208\n",
      "Epoch 10/20\n",
      "634/634 [==============================] - 4s 6ms/step - loss: 7.9529 - val_loss: 8.5197\n",
      "Epoch 11/20\n",
      "634/634 [==============================] - 4s 6ms/step - loss: 7.8190 - val_loss: 8.5206\n",
      "Epoch 12/20\n",
      "634/634 [==============================] - 4s 7ms/step - loss: 7.6727 - val_loss: 8.5280\n",
      "Epoch 13/20\n",
      "634/634 [==============================] - 4s 6ms/step - loss: 7.5145 - val_loss: 8.5530\n",
      "Epoch 14/20\n",
      "634/634 [==============================] - 4s 6ms/step - loss: 7.3456 - val_loss: 8.5795\n",
      "Epoch 15/20\n",
      "634/634 [==============================] - 4s 6ms/step - loss: 7.1676 - val_loss: 8.6155\n",
      "Epoch 16/20\n",
      "634/634 [==============================] - 4s 6ms/step - loss: 6.9827 - val_loss: 8.6643\n",
      "Epoch 17/20\n",
      "634/634 [==============================] - 4s 6ms/step - loss: 6.7923 - val_loss: 8.7167\n",
      "Epoch 18/20\n",
      "634/634 [==============================] - 4s 6ms/step - loss: 6.5975 - val_loss: 8.7861\n",
      "Epoch 19/20\n",
      "634/634 [==============================] - 4s 6ms/step - loss: 6.3998 - val_loss: 8.8537\n",
      "Epoch 20/20\n",
      "634/634 [==============================] - 4s 6ms/step - loss: 6.2010 - val_loss: 8.9255\n"
     ]
    }
   ],
   "source": [
    "# Train the model\n",
    "history = model.fit(X_train, y_train_categorical,\n",
    "                    epochs=20,  # Number of epochs to train for\n",
    "                    batch_size=128,  # Batch size\n",
    "                    validation_data=(X_validation, y_validation_categorical))"
   ]
  },
  {
   "cell_type": "markdown",
   "metadata": {},
   "source": [
    "### 4.1 Plot training and validation loss"
   ]
  },
  {
   "cell_type": "code",
   "execution_count": 31,
   "metadata": {},
   "outputs": [
    {
     "data": {
      "image/png": "[encoded data removed]",
      "text/plain": [
       "<Figure size 640x480 with 1 Axes>"
      ]
     },
     "metadata": {},
     "output_type": "display_data"
    }
   ],
   "source": [
    "plt.plot(history.history[\"loss\"])\n",
    "plt.plot(history.history[\"val_loss\"])\n",
    "plt.title(\"model loss\")\n",
    "plt.ylabel(\"loss\")\n",
    "plt.xlabel(\"epoch\")\n",
    "plt.legend([\"train\", \"test\"], loc=\"upper left\")\n",
    "plt.show()"
   ]
  },
  {
   "cell_type": "code",
   "execution_count": 32,
   "metadata": {},
   "outputs": [
    {
     "name": "stdout",
     "output_type": "stream",
     "text": [
      "185/185 [==============================] - 0s 440us/step\n"
     ]
    },
    {
     "data": {
      "text/plain": [
       "array([[1.16872227e-08, 1.15549188e-08, 1.31911074e-04, ...,\n",
       "        1.14994148e-08, 1.10698846e-08, 1.20166703e-08],\n",
       "       [1.24210139e-11, 1.24685600e-11, 3.38462960e-05, ...,\n",
       "        1.30885892e-11, 1.24128910e-11, 1.22441059e-11],\n",
       "       [2.47293030e-07, 2.53257355e-07, 1.52265769e-04, ...,\n",
       "        2.53724664e-07, 2.49492501e-07, 2.48616260e-07],\n",
       "       ...,\n",
       "       [7.82369902e-09, 8.23658119e-09, 6.34709068e-05, ...,\n",
       "        7.94665489e-09, 8.01056199e-09, 7.87267052e-09],\n",
       "       [1.13517272e-14, 9.94479699e-15, 2.88629162e-05, ...,\n",
       "        1.08387141e-14, 1.04332750e-14, 1.12991917e-14],\n",
       "       [5.68367456e-13, 5.18707093e-13, 1.43402585e-05, ...,\n",
       "        5.52353573e-13, 5.76902892e-13, 5.35513636e-13]], dtype=float32)"
      ]
     },
     "execution_count": 32,
     "metadata": {},
     "output_type": "execute_result"
    }
   ],
   "source": [
    "y_pred = model.predict(x=X_validation)\n",
    "y_pred"
   ]
  },
  {
   "cell_type": "code",
   "execution_count": 33,
   "metadata": {},
   "outputs": [
    {
     "name": "stdout",
     "output_type": "stream",
     "text": [
      "10835\n",
      "10835\n",
      "[0. 0. 0. ... 0. 0. 0.]\n",
      "[1.1687223e-08 1.1554919e-08 1.3191107e-04 ... 1.1499415e-08 1.1069885e-08\n",
      " 1.2016670e-08]\n",
      "309\n",
      "309\n",
      "1244\n"
     ]
    }
   ],
   "source": [
    "print(len(y_pred[0]))\n",
    "print(len(y_validation_categorical[0]))\n",
    "\n",
    "print(y_validation_categorical[0])\n",
    "print(y_pred[0])\n",
    "\n",
    "print(y_validation[0])\n",
    "print(y_validation_categorical[0].argmax())\n",
    "print(y_pred[0].argmax())"
   ]
  },
  {
   "cell_type": "code",
   "execution_count": 34,
   "metadata": {},
   "outputs": [
    {
     "name": "stdout",
     "output_type": "stream",
     "text": [
      "Predicted: 1244\n",
      "Actual: 309\n",
      "TopKV2(values=<tf.Tensor: shape=(20,), dtype=float32, numpy=\n",
      "array([0.00883235, 0.00865046, 0.00520542, 0.00511695, 0.00474807,\n",
      "       0.00458925, 0.00446253, 0.00445797, 0.00386741, 0.0038591 ,\n",
      "       0.00380647, 0.00373803, 0.00364476, 0.00356919, 0.00349397,\n",
      "       0.00341679, 0.00338389, 0.00331361, 0.00320709, 0.00312078],\n",
      "      dtype=float32)>, indices=<tf.Tensor: shape=(20,), dtype=int32, numpy=\n",
      "array([1244,  267, 1118,  322, 1099, 1120, 2095,  220,  839, 1567, 5783,\n",
      "       4273,  907, 5708, 1023, 1701, 2239, 3372,  653, 3507], dtype=int32)>)\n"
     ]
    }
   ],
   "source": [
    "item = 0\n",
    "k = 20\n",
    "\n",
    "print(f'Predicted: {y_pred[item].argmax()}')\n",
    "print(f'Actual: {y_validation[item]}')\n",
    "\n",
    "print(tf.nn.top_k(y_pred[item], k=k))"
   ]
  },
  {
   "cell_type": "code",
   "execution_count": 35,
   "metadata": {},
   "outputs": [
    {
     "data": {
      "text/plain": [
       "array([[1244,  267, 1118, ..., 3372,  653, 3507],\n",
       "       [ 586,  242,  237, ...,  342,  157, 1814],\n",
       "       [ 237,  254,  157, ..., 1287, 4674, 1470],\n",
       "       ...,\n",
       "       [ 556, 3718, 2470, ..., 2020, 6710, 4648],\n",
       "       [ 787, 2992,  430, ..., 1715, 1113, 1155],\n",
       "       [6674, 6083, 3777, ..., 1114,   35, 5653]], dtype=int32)"
      ]
     },
     "execution_count": 35,
     "metadata": {},
     "output_type": "execute_result"
    }
   ],
   "source": [
    "top_k_indices = tf.nn.top_k(y_pred, k=k).indices.numpy()\n",
    "top_k_indices"
   ]
  },
  {
   "cell_type": "code",
   "execution_count": 36,
   "metadata": {},
   "outputs": [
    {
     "data": {
      "text/plain": [
       "array([[ 309],\n",
       "       [8701],\n",
       "       [1146],\n",
       "       ...,\n",
       "       [3996],\n",
       "       [1059],\n",
       "       [4953]])"
      ]
     },
     "execution_count": 36,
     "metadata": {},
     "output_type": "execute_result"
    }
   ],
   "source": [
    "# Expand dims of y_validation to match top_k_indices for broadcasting\n",
    "y_validation_expanded = np.expand_dims(y_validation, axis=1)\n",
    "y_validation_expanded"
   ]
  },
  {
   "cell_type": "code",
   "execution_count": 37,
   "metadata": {},
   "outputs": [
    {
     "name": "stdout",
     "output_type": "stream",
     "text": [
      "Recall@20: 0.07874682472480948\n"
     ]
    }
   ],
   "source": [
    "# Check if the true labels are in the top-k predictions\n",
    "correct_predictions = np.any(top_k_indices == y_validation_expanded, axis=1)\n",
    "\n",
    "# Calculate Recall@k\n",
    "recall_at_k = np.mean(correct_predictions)\n",
    "print(f'Recall@{k}: {recall_at_k}')"
   ]
  }
 ],
 "metadata": {
  "kernelspec": {
   "display_name": "dsm150-2024",
   "language": "python",
   "name": "python3"
  },
  "language_info": {
   "codemirror_mode": {
    "name": "ipython",
    "version": 3
   },
   "file_extension": ".py",
   "mimetype": "text/x-python",
   "name": "python",
   "nbconvert_exporter": "python",
   "pygments_lexer": "ipython3",
   "version": "3.10.13"
  }
 },
 "nbformat": 4,
 "nbformat_minor": 2
}
