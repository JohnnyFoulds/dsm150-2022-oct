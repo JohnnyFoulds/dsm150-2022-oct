{
 "cells": [
  {
   "attachments": {},
   "cell_type": "markdown",
   "metadata": {},
   "source": [
    "# 02-03 : Brute Force Search\n",
    "\n",
    "Use a brute force search to find a simple mask for \"predicting\" the correct answer.\n",
    "\n",
    "This is taken from `21_feature_engineering` and the Kaggle notebook to prove the point:\n",
    "[silly_monkey](https://www.kaggle.com/code/shambi/silly-monkey)"
   ]
  },
  {
   "cell_type": "code",
   "execution_count": 1,
   "metadata": {},
   "outputs": [],
   "source": [
    "import sys\n",
    "import numpy as np\n",
    "import pandas as pd\n",
    "import logging\n",
    "\n",
    "from sklearn.metrics import precision_recall_fscore_support\n",
    "from sklearn.metrics import accuracy_score\n",
    "\n",
    "import multiprocessing as mp\n",
    "from functools import partial\n",
    "\n",
    "from tqdm.auto import tqdm\n",
    "from tqdm.contrib.concurrent import process_map"
   ]
  },
  {
   "cell_type": "markdown",
   "metadata": {},
   "source": [
    "## Configure Logging"
   ]
  },
  {
   "cell_type": "code",
   "execution_count": 2,
   "metadata": {},
   "outputs": [
    {
     "name": "stdout",
     "output_type": "stream",
     "text": [
      "2023-03-17 08:40:07 INFO     Started\n"
     ]
    }
   ],
   "source": [
    "logging.basicConfig(\n",
    "    format='%(asctime)s %(levelname)-8s %(message)s',\n",
    "    level=logging.INFO,\n",
    "    datefmt='%Y-%m-%d %H:%M:%S',\n",
    "        handlers=[\n",
    "        logging.StreamHandler(sys.stdout)\n",
    "    ])\n",
    "\n",
    "logging.info(\"Started\")"
   ]
  },
  {
   "cell_type": "markdown",
   "metadata": {},
   "source": [
    "## Load Source Data"
   ]
  },
  {
   "cell_type": "code",
   "execution_count": 3,
   "metadata": {},
   "outputs": [
    {
     "name": "stdout",
     "output_type": "stream",
     "text": [
      "(212022, 2)\n"
     ]
    },
    {
     "data": {
      "text/html": [
       "<div>\n",
       "<style scoped>\n",
       "    .dataframe tbody tr th:only-of-type {\n",
       "        vertical-align: middle;\n",
       "    }\n",
       "\n",
       "    .dataframe tbody tr th {\n",
       "        vertical-align: top;\n",
       "    }\n",
       "\n",
       "    .dataframe thead th {\n",
       "        text-align: right;\n",
       "    }\n",
       "</style>\n",
       "<table border=\"1\" class=\"dataframe\">\n",
       "  <thead>\n",
       "    <tr style=\"text-align: right;\">\n",
       "      <th></th>\n",
       "      <th>session_id</th>\n",
       "      <th>correct</th>\n",
       "    </tr>\n",
       "  </thead>\n",
       "  <tbody>\n",
       "    <tr>\n",
       "      <th>0</th>\n",
       "      <td>20090312431273200_q1</td>\n",
       "      <td>1</td>\n",
       "    </tr>\n",
       "    <tr>\n",
       "      <th>1</th>\n",
       "      <td>20090312433251036_q1</td>\n",
       "      <td>0</td>\n",
       "    </tr>\n",
       "    <tr>\n",
       "      <th>2</th>\n",
       "      <td>20090314121766812_q1</td>\n",
       "      <td>1</td>\n",
       "    </tr>\n",
       "  </tbody>\n",
       "</table>\n",
       "</div>"
      ],
      "text/plain": [
       "             session_id  correct\n",
       "0  20090312431273200_q1        1\n",
       "1  20090312433251036_q1        0\n",
       "2  20090314121766812_q1        1"
      ]
     },
     "metadata": {},
     "output_type": "display_data"
    }
   ],
   "source": [
    "# load the source training labels\n",
    "df_source_labels = pd.read_csv('../data/train_labels.csv')\n",
    "\n",
    "print(df_source_labels.shape)\n",
    "with pd.option_context('display.max_columns', None):\n",
    "    display(df_source_labels.head(3))"
   ]
  },
  {
   "cell_type": "code",
   "execution_count": 4,
   "metadata": {},
   "outputs": [
    {
     "name": "stdout",
     "output_type": "stream",
     "text": [
      "(212022, 3)\n"
     ]
    },
    {
     "data": {
      "text/html": [
       "<div>\n",
       "<style scoped>\n",
       "    .dataframe tbody tr th:only-of-type {\n",
       "        vertical-align: middle;\n",
       "    }\n",
       "\n",
       "    .dataframe tbody tr th {\n",
       "        vertical-align: top;\n",
       "    }\n",
       "\n",
       "    .dataframe thead th {\n",
       "        text-align: right;\n",
       "    }\n",
       "</style>\n",
       "<table border=\"1\" class=\"dataframe\">\n",
       "  <thead>\n",
       "    <tr style=\"text-align: right;\">\n",
       "      <th></th>\n",
       "      <th>session_id</th>\n",
       "      <th>correct</th>\n",
       "      <th>question_number</th>\n",
       "    </tr>\n",
       "  </thead>\n",
       "  <tbody>\n",
       "    <tr>\n",
       "      <th>93236</th>\n",
       "      <td>22040508163595230_q8</td>\n",
       "      <td>1</td>\n",
       "      <td>8</td>\n",
       "    </tr>\n",
       "    <tr>\n",
       "      <th>187577</th>\n",
       "      <td>22050112493234444_q16</td>\n",
       "      <td>1</td>\n",
       "      <td>16</td>\n",
       "    </tr>\n",
       "    <tr>\n",
       "      <th>200963</th>\n",
       "      <td>20110112170904428_q18</td>\n",
       "      <td>1</td>\n",
       "      <td>18</td>\n",
       "    </tr>\n",
       "  </tbody>\n",
       "</table>\n",
       "</div>"
      ],
      "text/plain": [
       "                   session_id  correct  question_number\n",
       "93236    22040508163595230_q8        1                8\n",
       "187577  22050112493234444_q16        1               16\n",
       "200963  20110112170904428_q18        1               18"
      ]
     },
     "metadata": {},
     "output_type": "display_data"
    }
   ],
   "source": [
    "# extract the question number\n",
    "df_source_labels['question_number'] = df_source_labels.session_id \\\n",
    "    .str.extract(r'_q(\\d+)') \\\n",
    "    .astype(int)\n",
    "\n",
    "print(df_source_labels.shape)\n",
    "with pd.option_context('display.max_columns', None):\n",
    "    display(df_source_labels.sample(n=3))"
   ]
  },
  {
   "attachments": {},
   "cell_type": "markdown",
   "metadata": {},
   "source": [
    "## Functions"
   ]
  },
  {
   "cell_type": "code",
   "execution_count": 5,
   "metadata": {},
   "outputs": [
    {
     "name": "stdout",
     "output_type": "stream",
     "text": [
      "Question 1: 1\n",
      "Question 10: 0\n",
      "Question 11: 1\n"
     ]
    }
   ],
   "source": [
    "def predict_single(model:np.array, question_number:int) -> int:\n",
    "    \"\"\"\n",
    "    Predicts the answer to a single question\n",
    "    \"\"\"\n",
    "    return model[question_number-1]\n",
    "\n",
    "# test the function\n",
    "mask = np.array([1, 1, 1, 1, 1, 1, 1, 1, 1, 0, 1, 1, 0, 1, 0, 1, 1, 1])\n",
    "\n",
    "question_number = 1\n",
    "print(f'Question {question_number}: {predict_single(mask, question_number)}')\n",
    "question_number = 10\n",
    "print(f'Question {question_number}: {predict_single(mask, question_number)}')\n",
    "question_number = 11\n",
    "print(f'Question {question_number}: {predict_single(mask, question_number)}')"
   ]
  },
  {
   "cell_type": "code",
   "execution_count": 6,
   "metadata": {},
   "outputs": [
    {
     "name": "stdout",
     "output_type": "stream",
     "text": [
      "[1 0 1]\n",
      "[1 1 1 1 1 1 1 1 1 1]\n"
     ]
    }
   ],
   "source": [
    "def predict(model:np.array, question_numbers:np.array) -> np.array:\n",
    "    \"\"\"\n",
    "    Predicts the answer to a list of questions\n",
    "    \"\"\"\n",
    "    return np.array(\n",
    "        [predict_single(model, question_number) for question_number in question_numbers])\n",
    "\n",
    "# test the function\n",
    "mask = np.array([1, 1, 1, 1, 1, 1, 1, 1, 1, 0, 1, 1, 0, 1, 0, 1, 1, 1])\n",
    "question_numbers = np.array([1, 10, 11])\n",
    "print(predict(mask, question_numbers))\n",
    "\n",
    "# test using the source labels\n",
    "question_numbers = df_source_labels['question_number'].values\n",
    "print(predict(mask, question_numbers[:10]))"
   ]
  },
  {
   "cell_type": "code",
   "execution_count": 7,
   "metadata": {},
   "outputs": [
    {
     "name": "stdout",
     "output_type": "stream",
     "text": [
      "{'accuracy': 0.7312967522238258, 'precision': 0.6715991736706568, 'recall': 0.6143595035672145, 'f1': 0.6222529252106556}\n"
     ]
    }
   ],
   "source": [
    "def calculate_score(y_true:np.array, y_pred:np.array):\n",
    "    \"\"\"\n",
    "    Calculates the score for the predictions\n",
    "    \"\"\"\n",
    "    precision, recall,  f1,  support = precision_recall_fscore_support(\n",
    "        y_true, y_pred, average='macro', zero_division=0)\n",
    "    \n",
    "    accuracy = accuracy_score(y_true, y_pred)\n",
    "\n",
    "    return {\n",
    "        'accuracy': accuracy,\n",
    "        'precision': precision,\n",
    "        'recall': recall,\n",
    "        'f1': f1,\n",
    "    }\n",
    "\n",
    "# test the function\n",
    "limit = df_source_labels.shape[0]\n",
    "mask = np.array([1, 1, 1, 1, 1, 1, 1, 1, 1, 0, 1, 1, 0, 1, 0, 1, 1, 1])\n",
    "question_numbers = df_source_labels['question_number'].values[:limit]\n",
    "\n",
    "y_true = df_source_labels['correct'].values[:limit]\n",
    "y_pred = predict(mask, question_numbers)\n",
    "\n",
    "print(calculate_score(y_true, y_pred))\n"
   ]
  },
  {
   "cell_type": "markdown",
   "metadata": {},
   "source": [
    "## Brute Force Search"
   ]
  },
  {
   "cell_type": "code",
   "execution_count": 8,
   "metadata": {},
   "outputs": [],
   "source": [
    "def evaluate_mask(mask, question_numbers, y_true):\n",
    "    \"\"\"\n",
    "    Evaluate a single binary mask\n",
    "    \"\"\"\n",
    "    # calculate the score\n",
    "    y_pred = predict(mask, question_numbers)\n",
    "    score = calculate_score(y_true, y_pred)\n",
    "\n",
    "    # add the mask to the score results\n",
    "    score['mask'] = mask\n",
    "\n",
    "    # return the score and the mask\n",
    "    return score"
   ]
  },
  {
   "cell_type": "code",
   "execution_count": 9,
   "metadata": {},
   "outputs": [
    {
     "data": {
      "application/vnd.jupyter.widget-view+json": {
       "model_id": "4191a08975764105b547be9507b410a2",
       "version_major": 2,
       "version_minor": 0
      },
      "text/plain": [
       "  0%|          | 0/262144 [00:00<?, ?it/s]"
      ]
     },
     "metadata": {},
     "output_type": "display_data"
    },
    {
     "name": "stdout",
     "output_type": "stream",
     "text": [
      "2023-03-17 08:59:54 INFO     Creating results dataframe\n"
     ]
    },
    {
     "data": {
      "text/html": [
       "<div>\n",
       "<style scoped>\n",
       "    .dataframe tbody tr th:only-of-type {\n",
       "        vertical-align: middle;\n",
       "    }\n",
       "\n",
       "    .dataframe tbody tr th {\n",
       "        vertical-align: top;\n",
       "    }\n",
       "\n",
       "    .dataframe thead th {\n",
       "        text-align: right;\n",
       "    }\n",
       "</style>\n",
       "<table border=\"1\" class=\"dataframe\">\n",
       "  <thead>\n",
       "    <tr style=\"text-align: right;\">\n",
       "      <th></th>\n",
       "      <th>accuracy</th>\n",
       "      <th>precision</th>\n",
       "      <th>recall</th>\n",
       "      <th>f1</th>\n",
       "      <th>mask</th>\n",
       "    </tr>\n",
       "  </thead>\n",
       "  <tbody>\n",
       "    <tr>\n",
       "      <th>0</th>\n",
       "      <td>0.296054</td>\n",
       "      <td>0.148027</td>\n",
       "      <td>0.500000</td>\n",
       "      <td>0.228427</td>\n",
       "      <td>[0, 0, 0, 0, 0, 0, 0, 0, 0, 0, 0, 0, 0, 0, 0, ...</td>\n",
       "    </tr>\n",
       "    <tr>\n",
       "      <th>1</th>\n",
       "      <td>0.346120</td>\n",
       "      <td>0.630576</td>\n",
       "      <td>0.532874</td>\n",
       "      <td>0.305978</td>\n",
       "      <td>[0, 0, 0, 0, 0, 0, 0, 0, 0, 0, 0, 0, 0, 0, 0, ...</td>\n",
       "    </tr>\n",
       "    <tr>\n",
       "      <th>2</th>\n",
       "      <td>0.316642</td>\n",
       "      <td>0.490122</td>\n",
       "      <td>0.497513</td>\n",
       "      <td>0.274690</td>\n",
       "      <td>[0, 0, 0, 0, 0, 0, 0, 0, 0, 0, 0, 0, 0, 0, 0, ...</td>\n",
       "    </tr>\n",
       "  </tbody>\n",
       "</table>\n",
       "</div>"
      ],
      "text/plain": [
       "   accuracy  precision    recall        f1  \\\n",
       "0  0.296054   0.148027  0.500000  0.228427   \n",
       "1  0.346120   0.630576  0.532874  0.305978   \n",
       "2  0.316642   0.490122  0.497513  0.274690   \n",
       "\n",
       "                                                mask  \n",
       "0  [0, 0, 0, 0, 0, 0, 0, 0, 0, 0, 0, 0, 0, 0, 0, ...  \n",
       "1  [0, 0, 0, 0, 0, 0, 0, 0, 0, 0, 0, 0, 0, 0, 0, ...  \n",
       "2  [0, 0, 0, 0, 0, 0, 0, 0, 0, 0, 0, 0, 0, 0, 0, ...  "
      ]
     },
     "metadata": {},
     "output_type": "display_data"
    }
   ],
   "source": [
    "# get the question numbers and the correct answers\n",
    "limit = df_source_labels.shape[0]\n",
    "question_numbers = df_source_labels['question_number'].values[:limit]\n",
    "y_true = df_source_labels['correct'].values[:limit]\n",
    "\n",
    "# get all the possible masks\n",
    "masks = np.array([np.array([int(x) for x in bin(i)[2:].zfill(18)]) for i in range(2**18)])\n",
    "\n",
    "# define the partial function\n",
    "evaluate_mask_partial = partial(evaluate_mask, question_numbers=question_numbers, y_true=y_true)\n",
    "\n",
    "result = process_map(\n",
    "    evaluate_mask_partial,\n",
    "    masks,\n",
    "    max_workers=mp.cpu_count(),\n",
    "    chunksize=10)\n",
    "\n",
    "# create a dataframe of the results\n",
    "logging.info('Creating results dataframe')\n",
    "df_results = pd.DataFrame(result)\n",
    "with pd.option_context('display.max_columns', None):\n",
    "    display(df_results.head(3))"
   ]
  },
  {
   "cell_type": "code",
   "execution_count": 10,
   "metadata": {},
   "outputs": [],
   "source": [
    "df_results.to_csv('../data/brute_force_results.csv', index=False)"
   ]
  },
  {
   "cell_type": "code",
   "execution_count": 22,
   "metadata": {},
   "outputs": [
    {
     "name": "stdout",
     "output_type": "stream",
     "text": [
      "F1 TOP 10\n"
     ]
    },
    {
     "data": {
      "text/html": [
       "<div>\n",
       "<style scoped>\n",
       "    .dataframe tbody tr th:only-of-type {\n",
       "        vertical-align: middle;\n",
       "    }\n",
       "\n",
       "    .dataframe tbody tr th {\n",
       "        vertical-align: top;\n",
       "    }\n",
       "\n",
       "    .dataframe thead th {\n",
       "        text-align: right;\n",
       "    }\n",
       "</style>\n",
       "<table border=\"1\" class=\"dataframe\">\n",
       "  <thead>\n",
       "    <tr style=\"text-align: right;\">\n",
       "      <th></th>\n",
       "      <th>accuracy</th>\n",
       "      <th>precision</th>\n",
       "      <th>recall</th>\n",
       "      <th>f1</th>\n",
       "      <th>mask</th>\n",
       "    </tr>\n",
       "  </thead>\n",
       "  <tbody>\n",
       "    <tr>\n",
       "      <th>252631</th>\n",
       "      <td>0.713440</td>\n",
       "      <td>0.653025</td>\n",
       "      <td>0.647306</td>\n",
       "      <td>0.649845</td>\n",
       "      <td>[1, 1, 1, 1, 0, 1, 1, 0, 1, 0, 1, 1, 0, 1, 0, ...</td>\n",
       "    </tr>\n",
       "    <tr>\n",
       "      <th>252503</th>\n",
       "      <td>0.697418</td>\n",
       "      <td>0.645616</td>\n",
       "      <td>0.655269</td>\n",
       "      <td>0.649240</td>\n",
       "      <td>[1, 1, 1, 1, 0, 1, 1, 0, 1, 0, 0, 1, 0, 1, 0, ...</td>\n",
       "    </tr>\n",
       "    <tr>\n",
       "      <th>253527</th>\n",
       "      <td>0.710120</td>\n",
       "      <td>0.648887</td>\n",
       "      <td>0.643322</td>\n",
       "      <td>0.645788</td>\n",
       "      <td>[1, 1, 1, 1, 0, 1, 1, 1, 1, 0, 0, 1, 0, 1, 0, ...</td>\n",
       "    </tr>\n",
       "    <tr>\n",
       "      <th>252629</th>\n",
       "      <td>0.692853</td>\n",
       "      <td>0.640480</td>\n",
       "      <td>0.649793</td>\n",
       "      <td>0.643948</td>\n",
       "      <td>[1, 1, 1, 1, 0, 1, 1, 0, 1, 0, 1, 1, 0, 1, 0, ...</td>\n",
       "    </tr>\n",
       "    <tr>\n",
       "      <th>253655</th>\n",
       "      <td>0.726142</td>\n",
       "      <td>0.663213</td>\n",
       "      <td>0.635359</td>\n",
       "      <td>0.643387</td>\n",
       "      <td>[1, 1, 1, 1, 0, 1, 1, 1, 1, 0, 1, 1, 0, 1, 0, ...</td>\n",
       "    </tr>\n",
       "    <tr>\n",
       "      <th>252501</th>\n",
       "      <td>0.676831</td>\n",
       "      <td>0.638341</td>\n",
       "      <td>0.657756</td>\n",
       "      <td>0.641218</td>\n",
       "      <td>[1, 1, 1, 1, 0, 1, 1, 0, 1, 0, 0, 1, 0, 1, 0, ...</td>\n",
       "    </tr>\n",
       "    <tr>\n",
       "      <th>252615</th>\n",
       "      <td>0.690098</td>\n",
       "      <td>0.637381</td>\n",
       "      <td>0.646488</td>\n",
       "      <td>0.640755</td>\n",
       "      <td>[1, 1, 1, 1, 0, 1, 1, 0, 1, 0, 1, 1, 0, 0, 0, ...</td>\n",
       "    </tr>\n",
       "    <tr>\n",
       "      <th>253653</th>\n",
       "      <td>0.705554</td>\n",
       "      <td>0.643197</td>\n",
       "      <td>0.637846</td>\n",
       "      <td>0.640209</td>\n",
       "      <td>[1, 1, 1, 1, 0, 1, 1, 1, 1, 0, 1, 1, 0, 1, 0, ...</td>\n",
       "    </tr>\n",
       "    <tr>\n",
       "      <th>253525</th>\n",
       "      <td>0.689532</td>\n",
       "      <td>0.636744</td>\n",
       "      <td>0.645809</td>\n",
       "      <td>0.640098</td>\n",
       "      <td>[1, 1, 1, 1, 0, 1, 1, 1, 1, 0, 0, 1, 0, 1, 0, ...</td>\n",
       "    </tr>\n",
       "    <tr>\n",
       "      <th>121559</th>\n",
       "      <td>0.688551</td>\n",
       "      <td>0.635640</td>\n",
       "      <td>0.644633</td>\n",
       "      <td>0.638961</td>\n",
       "      <td>[0, 1, 1, 1, 0, 1, 1, 0, 1, 0, 1, 1, 0, 1, 0, ...</td>\n",
       "    </tr>\n",
       "  </tbody>\n",
       "</table>\n",
       "</div>"
      ],
      "text/plain": [
       "        accuracy  precision    recall        f1  \\\n",
       "252631  0.713440   0.653025  0.647306  0.649845   \n",
       "252503  0.697418   0.645616  0.655269  0.649240   \n",
       "253527  0.710120   0.648887  0.643322  0.645788   \n",
       "252629  0.692853   0.640480  0.649793  0.643948   \n",
       "253655  0.726142   0.663213  0.635359  0.643387   \n",
       "252501  0.676831   0.638341  0.657756  0.641218   \n",
       "252615  0.690098   0.637381  0.646488  0.640755   \n",
       "253653  0.705554   0.643197  0.637846  0.640209   \n",
       "253525  0.689532   0.636744  0.645809  0.640098   \n",
       "121559  0.688551   0.635640  0.644633  0.638961   \n",
       "\n",
       "                                                     mask  \n",
       "252631  [1, 1, 1, 1, 0, 1, 1, 0, 1, 0, 1, 1, 0, 1, 0, ...  \n",
       "252503  [1, 1, 1, 1, 0, 1, 1, 0, 1, 0, 0, 1, 0, 1, 0, ...  \n",
       "253527  [1, 1, 1, 1, 0, 1, 1, 1, 1, 0, 0, 1, 0, 1, 0, ...  \n",
       "252629  [1, 1, 1, 1, 0, 1, 1, 0, 1, 0, 1, 1, 0, 1, 0, ...  \n",
       "253655  [1, 1, 1, 1, 0, 1, 1, 1, 1, 0, 1, 1, 0, 1, 0, ...  \n",
       "252501  [1, 1, 1, 1, 0, 1, 1, 0, 1, 0, 0, 1, 0, 1, 0, ...  \n",
       "252615  [1, 1, 1, 1, 0, 1, 1, 0, 1, 0, 1, 1, 0, 0, 0, ...  \n",
       "253653  [1, 1, 1, 1, 0, 1, 1, 1, 1, 0, 1, 1, 0, 1, 0, ...  \n",
       "253525  [1, 1, 1, 1, 0, 1, 1, 1, 1, 0, 0, 1, 0, 1, 0, ...  \n",
       "121559  [0, 1, 1, 1, 0, 1, 1, 0, 1, 0, 1, 1, 0, 1, 0, ...  "
      ]
     },
     "metadata": {},
     "output_type": "display_data"
    },
    {
     "name": "stdout",
     "output_type": "stream",
     "text": [
      "Mask:  [1 1 1 1 0 1 1 0 1 0 1 1 0 1 0 1 1 1]\n",
      "\n",
      "Accuracy TOP 10\n"
     ]
    },
    {
     "data": {
      "text/html": [
       "<div>\n",
       "<style scoped>\n",
       "    .dataframe tbody tr th:only-of-type {\n",
       "        vertical-align: middle;\n",
       "    }\n",
       "\n",
       "    .dataframe tbody tr th {\n",
       "        vertical-align: top;\n",
       "    }\n",
       "\n",
       "    .dataframe thead th {\n",
       "        text-align: right;\n",
       "    }\n",
       "</style>\n",
       "<table border=\"1\" class=\"dataframe\">\n",
       "  <thead>\n",
       "    <tr style=\"text-align: right;\">\n",
       "      <th></th>\n",
       "      <th>accuracy</th>\n",
       "      <th>precision</th>\n",
       "      <th>recall</th>\n",
       "      <th>f1</th>\n",
       "      <th>mask</th>\n",
       "    </tr>\n",
       "  </thead>\n",
       "  <tbody>\n",
       "    <tr>\n",
       "      <th>262103</th>\n",
       "      <td>0.731339</td>\n",
       "      <td>0.684059</td>\n",
       "      <td>0.587227</td>\n",
       "      <td>0.585750</td>\n",
       "      <td>[1, 1, 1, 1, 1, 1, 1, 1, 1, 1, 1, 1, 0, 1, 0, ...</td>\n",
       "    </tr>\n",
       "    <tr>\n",
       "      <th>261847</th>\n",
       "      <td>0.731297</td>\n",
       "      <td>0.671599</td>\n",
       "      <td>0.614360</td>\n",
       "      <td>0.622253</td>\n",
       "      <td>[1, 1, 1, 1, 1, 1, 1, 1, 1, 0, 1, 1, 0, 1, 0, ...</td>\n",
       "    </tr>\n",
       "    <tr>\n",
       "      <th>262111</th>\n",
       "      <td>0.729448</td>\n",
       "      <td>0.729481</td>\n",
       "      <td>0.557775</td>\n",
       "      <td>0.533201</td>\n",
       "      <td>[1, 1, 1, 1, 1, 1, 1, 1, 1, 1, 1, 1, 0, 1, 1, ...</td>\n",
       "    </tr>\n",
       "    <tr>\n",
       "      <th>261855</th>\n",
       "      <td>0.729405</td>\n",
       "      <td>0.679164</td>\n",
       "      <td>0.584907</td>\n",
       "      <td>0.582768</td>\n",
       "      <td>[1, 1, 1, 1, 1, 1, 1, 1, 1, 0, 1, 1, 0, 1, 1, ...</td>\n",
       "    </tr>\n",
       "    <tr>\n",
       "      <th>253911</th>\n",
       "      <td>0.726184</td>\n",
       "      <td>0.662396</td>\n",
       "      <td>0.608226</td>\n",
       "      <td>0.615065</td>\n",
       "      <td>[1, 1, 1, 1, 0, 1, 1, 1, 1, 1, 1, 1, 0, 1, 0, ...</td>\n",
       "    </tr>\n",
       "    <tr>\n",
       "      <th>253655</th>\n",
       "      <td>0.726142</td>\n",
       "      <td>0.663213</td>\n",
       "      <td>0.635359</td>\n",
       "      <td>0.643387</td>\n",
       "      <td>[1, 1, 1, 1, 0, 1, 1, 1, 1, 0, 1, 1, 0, 1, 0, ...</td>\n",
       "    </tr>\n",
       "    <tr>\n",
       "      <th>253919</th>\n",
       "      <td>0.724293</td>\n",
       "      <td>0.666223</td>\n",
       "      <td>0.578774</td>\n",
       "      <td>0.574885</td>\n",
       "      <td>[1, 1, 1, 1, 0, 1, 1, 1, 1, 1, 1, 1, 0, 1, 1, ...</td>\n",
       "    </tr>\n",
       "    <tr>\n",
       "      <th>253663</th>\n",
       "      <td>0.724250</td>\n",
       "      <td>0.658916</td>\n",
       "      <td>0.605907</td>\n",
       "      <td>0.612347</td>\n",
       "      <td>[1, 1, 1, 1, 0, 1, 1, 1, 1, 0, 1, 1, 0, 1, 1, ...</td>\n",
       "    </tr>\n",
       "    <tr>\n",
       "      <th>261079</th>\n",
       "      <td>0.718638</td>\n",
       "      <td>0.648813</td>\n",
       "      <td>0.599174</td>\n",
       "      <td>0.604457</td>\n",
       "      <td>[1, 1, 1, 1, 1, 1, 1, 0, 1, 1, 1, 1, 0, 1, 0, ...</td>\n",
       "    </tr>\n",
       "    <tr>\n",
       "      <th>260823</th>\n",
       "      <td>0.718595</td>\n",
       "      <td>0.652297</td>\n",
       "      <td>0.626306</td>\n",
       "      <td>0.633560</td>\n",
       "      <td>[1, 1, 1, 1, 1, 1, 1, 0, 1, 0, 1, 1, 0, 1, 0, ...</td>\n",
       "    </tr>\n",
       "  </tbody>\n",
       "</table>\n",
       "</div>"
      ],
      "text/plain": [
       "        accuracy  precision    recall        f1  \\\n",
       "262103  0.731339   0.684059  0.587227  0.585750   \n",
       "261847  0.731297   0.671599  0.614360  0.622253   \n",
       "262111  0.729448   0.729481  0.557775  0.533201   \n",
       "261855  0.729405   0.679164  0.584907  0.582768   \n",
       "253911  0.726184   0.662396  0.608226  0.615065   \n",
       "253655  0.726142   0.663213  0.635359  0.643387   \n",
       "253919  0.724293   0.666223  0.578774  0.574885   \n",
       "253663  0.724250   0.658916  0.605907  0.612347   \n",
       "261079  0.718638   0.648813  0.599174  0.604457   \n",
       "260823  0.718595   0.652297  0.626306  0.633560   \n",
       "\n",
       "                                                     mask  \n",
       "262103  [1, 1, 1, 1, 1, 1, 1, 1, 1, 1, 1, 1, 0, 1, 0, ...  \n",
       "261847  [1, 1, 1, 1, 1, 1, 1, 1, 1, 0, 1, 1, 0, 1, 0, ...  \n",
       "262111  [1, 1, 1, 1, 1, 1, 1, 1, 1, 1, 1, 1, 0, 1, 1, ...  \n",
       "261855  [1, 1, 1, 1, 1, 1, 1, 1, 1, 0, 1, 1, 0, 1, 1, ...  \n",
       "253911  [1, 1, 1, 1, 0, 1, 1, 1, 1, 1, 1, 1, 0, 1, 0, ...  \n",
       "253655  [1, 1, 1, 1, 0, 1, 1, 1, 1, 0, 1, 1, 0, 1, 0, ...  \n",
       "253919  [1, 1, 1, 1, 0, 1, 1, 1, 1, 1, 1, 1, 0, 1, 1, ...  \n",
       "253663  [1, 1, 1, 1, 0, 1, 1, 1, 1, 0, 1, 1, 0, 1, 1, ...  \n",
       "261079  [1, 1, 1, 1, 1, 1, 1, 0, 1, 1, 1, 1, 0, 1, 0, ...  \n",
       "260823  [1, 1, 1, 1, 1, 1, 1, 0, 1, 0, 1, 1, 0, 1, 0, ...  "
      ]
     },
     "metadata": {},
     "output_type": "display_data"
    },
    {
     "name": "stdout",
     "output_type": "stream",
     "text": [
      "Mask:  [1 1 1 1 1 1 1 1 1 1 1 1 0 1 0 1 1 1]\n"
     ]
    }
   ],
   "source": [
    "f1_top_10 = df_results.sort_values(by='f1', ascending=False).head(10)\n",
    "acc_top_10 = df_results.sort_values(by='accuracy', ascending=False).head(10)\n",
    "\n",
    "with pd.option_context('display.max_columns', None):\n",
    "    print('F1 TOP 10')\n",
    "    display(f1_top_10)\n",
    "    print('Mask: ', f1_top_10.iloc[0]['mask'])\n",
    "\n",
    "    print()\n",
    "    print('Accuracy TOP 10')\n",
    "    display(acc_top_10)\n",
    "    print('Mask: ', acc_top_10.iloc[0]['mask'])"
   ]
  }
 ],
 "metadata": {
  "kernelspec": {
   "display_name": "Python 3",
   "language": "python",
   "name": "python3"
  },
  "language_info": {
   "codemirror_mode": {
    "name": "ipython",
    "version": 3
   },
   "file_extension": ".py",
   "mimetype": "text/x-python",
   "name": "python",
   "nbconvert_exporter": "python",
   "pygments_lexer": "ipython3",
   "version": "3.8.12"
  },
  "orig_nbformat": 4
 },
 "nbformat": 4,
 "nbformat_minor": 2
}
