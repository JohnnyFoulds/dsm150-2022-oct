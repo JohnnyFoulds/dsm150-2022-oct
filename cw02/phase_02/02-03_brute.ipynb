{
 "cells": [
  {
   "attachments": {},
   "cell_type": "markdown",
   "metadata": {},
   "source": [
    "# 02-03 : Brute Force Search\n",
    "\n",
    "Use a brute force search to find a simple mask for \"predicting\" the correct answer.\n",
    "\n",
    "This is taken from `21_feature_engineering` and the Kaggle notebook to prove the point:\n",
    "[silly_monkey](https://www.kaggle.com/code/shambi/silly-monkey)"
   ]
  },
  {
   "cell_type": "code",
   "execution_count": 1,
   "metadata": {},
   "outputs": [],
   "source": [
    "import sys\n",
    "import numpy as np\n",
    "import pandas as pd\n",
    "import logging\n",
    "\n",
    "from sklearn.metrics import precision_recall_fscore_support\n",
    "from sklearn.metrics import accuracy_score\n",
    "\n",
    "import multiprocessing as mp\n",
    "from functools import partial\n",
    "\n",
    "from tqdm.auto import tqdm\n",
    "from tqdm.contrib.concurrent import process_map"
   ]
  },
  {
   "cell_type": "markdown",
   "metadata": {},
   "source": [
    "## Configure Logging"
   ]
  },
  {
   "cell_type": "code",
   "execution_count": 2,
   "metadata": {},
   "outputs": [
    {
     "name": "stdout",
     "output_type": "stream",
     "text": [
      "2023-03-17 08:38:21 INFO     Started\n"
     ]
    }
   ],
   "source": [
    "logging.basicConfig(\n",
    "    format='%(asctime)s %(levelname)-8s %(message)s',\n",
    "    level=logging.INFO,\n",
    "    datefmt='%Y-%m-%d %H:%M:%S',\n",
    "        handlers=[\n",
    "        logging.StreamHandler(sys.stdout)\n",
    "    ])\n",
    "\n",
    "logging.info(\"Started\")"
   ]
  },
  {
   "cell_type": "markdown",
   "metadata": {},
   "source": [
    "## Load Source Data"
   ]
  },
  {
   "cell_type": "code",
   "execution_count": 3,
   "metadata": {},
   "outputs": [
    {
     "name": "stdout",
     "output_type": "stream",
     "text": [
      "(212022, 2)\n"
     ]
    },
    {
     "data": {
      "text/html": [
       "<div>\n",
       "<style scoped>\n",
       "    .dataframe tbody tr th:only-of-type {\n",
       "        vertical-align: middle;\n",
       "    }\n",
       "\n",
       "    .dataframe tbody tr th {\n",
       "        vertical-align: top;\n",
       "    }\n",
       "\n",
       "    .dataframe thead th {\n",
       "        text-align: right;\n",
       "    }\n",
       "</style>\n",
       "<table border=\"1\" class=\"dataframe\">\n",
       "  <thead>\n",
       "    <tr style=\"text-align: right;\">\n",
       "      <th></th>\n",
       "      <th>session_id</th>\n",
       "      <th>correct</th>\n",
       "    </tr>\n",
       "  </thead>\n",
       "  <tbody>\n",
       "    <tr>\n",
       "      <th>0</th>\n",
       "      <td>20090312431273200_q1</td>\n",
       "      <td>1</td>\n",
       "    </tr>\n",
       "    <tr>\n",
       "      <th>1</th>\n",
       "      <td>20090312433251036_q1</td>\n",
       "      <td>0</td>\n",
       "    </tr>\n",
       "    <tr>\n",
       "      <th>2</th>\n",
       "      <td>20090314121766812_q1</td>\n",
       "      <td>1</td>\n",
       "    </tr>\n",
       "  </tbody>\n",
       "</table>\n",
       "</div>"
      ],
      "text/plain": [
       "             session_id  correct\n",
       "0  20090312431273200_q1        1\n",
       "1  20090312433251036_q1        0\n",
       "2  20090314121766812_q1        1"
      ]
     },
     "metadata": {},
     "output_type": "display_data"
    }
   ],
   "source": [
    "# load the source training labels\n",
    "df_source_labels = pd.read_csv('../data/train_labels.csv')\n",
    "\n",
    "print(df_source_labels.shape)\n",
    "with pd.option_context('display.max_columns', None):\n",
    "    display(df_source_labels.head(3))"
   ]
  },
  {
   "cell_type": "code",
   "execution_count": 4,
   "metadata": {},
   "outputs": [
    {
     "name": "stdout",
     "output_type": "stream",
     "text": [
      "(212022, 3)\n"
     ]
    },
    {
     "data": {
      "text/html": [
       "<div>\n",
       "<style scoped>\n",
       "    .dataframe tbody tr th:only-of-type {\n",
       "        vertical-align: middle;\n",
       "    }\n",
       "\n",
       "    .dataframe tbody tr th {\n",
       "        vertical-align: top;\n",
       "    }\n",
       "\n",
       "    .dataframe thead th {\n",
       "        text-align: right;\n",
       "    }\n",
       "</style>\n",
       "<table border=\"1\" class=\"dataframe\">\n",
       "  <thead>\n",
       "    <tr style=\"text-align: right;\">\n",
       "      <th></th>\n",
       "      <th>session_id</th>\n",
       "      <th>correct</th>\n",
       "      <th>question_number</th>\n",
       "    </tr>\n",
       "  </thead>\n",
       "  <tbody>\n",
       "    <tr>\n",
       "      <th>18113</th>\n",
       "      <td>21040510442719420_q2</td>\n",
       "      <td>1</td>\n",
       "      <td>2</td>\n",
       "    </tr>\n",
       "    <tr>\n",
       "      <th>83130</th>\n",
       "      <td>20110109372797256_q8</td>\n",
       "      <td>1</td>\n",
       "      <td>8</td>\n",
       "    </tr>\n",
       "    <tr>\n",
       "      <th>72746</th>\n",
       "      <td>21000409170489600_q7</td>\n",
       "      <td>0</td>\n",
       "      <td>7</td>\n",
       "    </tr>\n",
       "  </tbody>\n",
       "</table>\n",
       "</div>"
      ],
      "text/plain": [
       "                 session_id  correct  question_number\n",
       "18113  21040510442719420_q2        1                2\n",
       "83130  20110109372797256_q8        1                8\n",
       "72746  21000409170489600_q7        0                7"
      ]
     },
     "metadata": {},
     "output_type": "display_data"
    }
   ],
   "source": [
    "# extract the question number\n",
    "df_source_labels['question_number'] = df_source_labels.session_id \\\n",
    "    .str.extract(r'_q(\\d+)') \\\n",
    "    .astype(int)\n",
    "\n",
    "print(df_source_labels.shape)\n",
    "with pd.option_context('display.max_columns', None):\n",
    "    display(df_source_labels.sample(n=3))"
   ]
  },
  {
   "attachments": {},
   "cell_type": "markdown",
   "metadata": {},
   "source": [
    "## Functions"
   ]
  },
  {
   "cell_type": "code",
   "execution_count": 5,
   "metadata": {},
   "outputs": [
    {
     "name": "stdout",
     "output_type": "stream",
     "text": [
      "Question 1: 1\n",
      "Question 10: 0\n",
      "Question 11: 1\n"
     ]
    }
   ],
   "source": [
    "def predict_single(model:np.array, question_number:int) -> int:\n",
    "    \"\"\"\n",
    "    Predicts the answer to a single question\n",
    "    \"\"\"\n",
    "    return model[question_number-1]\n",
    "\n",
    "# test the function\n",
    "mask = np.array([1, 1, 1, 1, 1, 1, 1, 1, 1, 0, 1, 1, 0, 1, 0, 1, 1, 1])\n",
    "\n",
    "question_number = 1\n",
    "print(f'Question {question_number}: {predict_single(mask, question_number)}')\n",
    "question_number = 10\n",
    "print(f'Question {question_number}: {predict_single(mask, question_number)}')\n",
    "question_number = 11\n",
    "print(f'Question {question_number}: {predict_single(mask, question_number)}')"
   ]
  },
  {
   "cell_type": "code",
   "execution_count": 6,
   "metadata": {},
   "outputs": [
    {
     "name": "stdout",
     "output_type": "stream",
     "text": [
      "[1 0 1]\n",
      "[1 1 1 1 1 1 1 1 1 1]\n"
     ]
    }
   ],
   "source": [
    "def predict(model:np.array, question_numbers:np.array) -> np.array:\n",
    "    \"\"\"\n",
    "    Predicts the answer to a list of questions\n",
    "    \"\"\"\n",
    "    return np.array(\n",
    "        [predict_single(model, question_number) for question_number in question_numbers])\n",
    "\n",
    "# test the function\n",
    "mask = np.array([1, 1, 1, 1, 1, 1, 1, 1, 1, 0, 1, 1, 0, 1, 0, 1, 1, 1])\n",
    "question_numbers = np.array([1, 10, 11])\n",
    "print(predict(mask, question_numbers))\n",
    "\n",
    "# test using the source labels\n",
    "question_numbers = df_source_labels['question_number'].values\n",
    "print(predict(mask, question_numbers[:10]))"
   ]
  },
  {
   "cell_type": "code",
   "execution_count": 7,
   "metadata": {},
   "outputs": [
    {
     "name": "stdout",
     "output_type": "stream",
     "text": [
      "{'accuracy': 0.7312967522238258, 'precision': 0.6715991736706568, 'recall': 0.6143595035672145, 'f1': 0.6222529252106556}\n"
     ]
    }
   ],
   "source": [
    "def calculate_score(y_true:np.array, y_pred:np.array):\n",
    "    \"\"\"\n",
    "    Calculates the score for the predictions\n",
    "    \"\"\"\n",
    "    precision, recall,  f1,  support = precision_recall_fscore_support(\n",
    "        y_true, y_pred, average='macro', zero_division=0)\n",
    "    \n",
    "    accuracy = accuracy_score(y_true, y_pred)\n",
    "\n",
    "    return {\n",
    "        'accuracy': accuracy,\n",
    "        'precision': precision,\n",
    "        'recall': recall,\n",
    "        'f1': f1,\n",
    "    }\n",
    "\n",
    "# test the function\n",
    "limit = df_source_labels.shape[0]\n",
    "mask = np.array([1, 1, 1, 1, 1, 1, 1, 1, 1, 0, 1, 1, 0, 1, 0, 1, 1, 1])\n",
    "question_numbers = df_source_labels['question_number'].values[:limit]\n",
    "\n",
    "y_true = df_source_labels['correct'].values[:limit]\n",
    "y_pred = predict(mask, question_numbers)\n",
    "\n",
    "print(calculate_score(y_true, y_pred))\n"
   ]
  },
  {
   "cell_type": "markdown",
   "metadata": {},
   "source": [
    "## Brute Force Search"
   ]
  },
  {
   "cell_type": "code",
   "execution_count": 8,
   "metadata": {},
   "outputs": [],
   "source": [
    "def evaluate_mask(mask, question_numbers, y_true):\n",
    "    \"\"\"\n",
    "    Evaluate a single binary mask\n",
    "    \"\"\"\n",
    "    # calculate the score\n",
    "    y_pred = predict(mask, question_numbers)\n",
    "    score = calculate_score(y_true, y_pred)\n",
    "\n",
    "    # add the mask to the score results\n",
    "    score['mask'] = mask\n",
    "\n",
    "    # return the score and the mask\n",
    "    return score"
   ]
  },
  {
   "cell_type": "code",
   "execution_count": 9,
   "metadata": {},
   "outputs": [
    {
     "data": {
      "application/vnd.jupyter.widget-view+json": {
       "model_id": "1734e428f2f343e4bf7df0d940de8ea5",
       "version_major": 2,
       "version_minor": 0
      },
      "text/plain": [
       "  0%|          | 0/262144 [00:00<?, ?it/s]"
      ]
     },
     "metadata": {},
     "output_type": "display_data"
    }
   ],
   "source": [
    "# get the question numbers and the correct answers\n",
    "limit = df_source_labels.shape[0]\n",
    "question_numbers = df_source_labels['question_number'].values[:limit]\n",
    "y_true = df_source_labels['correct'].values[:limit]\n",
    "\n",
    "# get all the possible masks\n",
    "masks = np.array([np.array([int(x) for x in bin(i)[2:].zfill(18)]) for i in range(2**18)])\n",
    "\n",
    "# define the partial function\n",
    "evaluate_mask_partial = partial(evaluate_mask, question_numbers=question_numbers, y_true=y_true)\n",
    "\n",
    "result = process_map(\n",
    "    evaluate_mask_partial,\n",
    "    masks,\n",
    "    max_workers=mp.cpu_count(),\n",
    "    chunksize=10)\n",
    "\n",
    "# create a dataframe of the results\n",
    "logging.info('Creating results dataframe')\n",
    "df_results = pd.DataFrame(result)\n",
    "with pd.option_context('display.max_columns', None):\n",
    "    display(df_results.head(3))"
   ]
  }
 ],
 "metadata": {
  "kernelspec": {
   "display_name": "Python 3",
   "language": "python",
   "name": "python3"
  },
  "language_info": {
   "codemirror_mode": {
    "name": "ipython",
    "version": 3
   },
   "file_extension": ".py",
   "mimetype": "text/x-python",
   "name": "python",
   "nbconvert_exporter": "python",
   "pygments_lexer": "ipython3",
   "version": "3.8.10"
  },
  "orig_nbformat": 4
 },
 "nbformat": 4,
 "nbformat_minor": 2
}
