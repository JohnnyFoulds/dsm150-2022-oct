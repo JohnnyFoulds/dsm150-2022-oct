{
 "cells": [
  {
   "attachments": {},
   "cell_type": "markdown",
   "metadata": {},
   "source": [
    "# 02-01 : Identify Good Students\n",
    "\n",
    "Can solve a sub problem of identifying good students based on their activities in a level group."
   ]
  },
  {
   "cell_type": "code",
   "execution_count": 1,
   "metadata": {},
   "outputs": [
    {
     "name": "stderr",
     "output_type": "stream",
     "text": [
      "2023-03-09 20:00:11.149870: I tensorflow/core/platform/cpu_feature_guard.cc:193] This TensorFlow binary is optimized with oneAPI Deep Neural Network Library (oneDNN) to use the following CPU instructions in performance-critical operations:  AVX2 FMA\n",
      "To enable them in other operations, rebuild TensorFlow with the appropriate compiler flags.\n"
     ]
    }
   ],
   "source": [
    "import gc\n",
    "from typing import Tuple\n",
    "\n",
    "import pandas as pd\n",
    "import numpy as np\n",
    "\n",
    "import keras\n",
    "from keras import optimizers\n",
    "from keras.models import Sequential\n",
    "from keras.layers import Conv2D, Dense, Dropout, Flatten, LeakyReLU, \\\n",
    "                          LSTM, MaxPooling2D, concatenate, Reshape\n",
    "from keras import callbacks\n",
    "from keras import regularizers\n",
    "\n",
    "from sklearn.metrics import classification_report, precision_recall_fscore_support\n",
    "from sklearn.model_selection import train_test_split\n",
    "\n",
    "from tqdm.auto import tqdm\n",
    "import matplotlib.pyplot as plt"
   ]
  },
  {
   "cell_type": "markdown",
   "metadata": {},
   "source": [
    "## Load Source Data"
   ]
  },
  {
   "cell_type": "code",
   "execution_count": 2,
   "metadata": {},
   "outputs": [
    {
     "name": "stdout",
     "output_type": "stream",
     "text": [
      "(13174211, 19)\n"
     ]
    },
    {
     "data": {
      "text/html": [
       "<div>\n",
       "<style scoped>\n",
       "    .dataframe tbody tr th:only-of-type {\n",
       "        vertical-align: middle;\n",
       "    }\n",
       "\n",
       "    .dataframe tbody tr th {\n",
       "        vertical-align: top;\n",
       "    }\n",
       "\n",
       "    .dataframe thead th {\n",
       "        text-align: right;\n",
       "    }\n",
       "</style>\n",
       "<table border=\"1\" class=\"dataframe\">\n",
       "  <thead>\n",
       "    <tr style=\"text-align: right;\">\n",
       "      <th></th>\n",
       "      <th>session_id</th>\n",
       "      <th>elapsed_time</th>\n",
       "      <th>event_name</th>\n",
       "      <th>name</th>\n",
       "      <th>level</th>\n",
       "      <th>page</th>\n",
       "      <th>room_coor_x</th>\n",
       "      <th>room_coor_y</th>\n",
       "      <th>screen_coor_x</th>\n",
       "      <th>screen_coor_y</th>\n",
       "      <th>hover_duration</th>\n",
       "      <th>text</th>\n",
       "      <th>fqid</th>\n",
       "      <th>room_fqid</th>\n",
       "      <th>text_fqid</th>\n",
       "      <th>fullscreen</th>\n",
       "      <th>hq</th>\n",
       "      <th>music</th>\n",
       "      <th>level_group</th>\n",
       "    </tr>\n",
       "    <tr>\n",
       "      <th>index</th>\n",
       "      <th></th>\n",
       "      <th></th>\n",
       "      <th></th>\n",
       "      <th></th>\n",
       "      <th></th>\n",
       "      <th></th>\n",
       "      <th></th>\n",
       "      <th></th>\n",
       "      <th></th>\n",
       "      <th></th>\n",
       "      <th></th>\n",
       "      <th></th>\n",
       "      <th></th>\n",
       "      <th></th>\n",
       "      <th></th>\n",
       "      <th></th>\n",
       "      <th></th>\n",
       "      <th></th>\n",
       "      <th></th>\n",
       "    </tr>\n",
       "  </thead>\n",
       "  <tbody>\n",
       "    <tr>\n",
       "      <th>0</th>\n",
       "      <td>20090312431273200</td>\n",
       "      <td>0</td>\n",
       "      <td>cutscene_click</td>\n",
       "      <td>basic</td>\n",
       "      <td>0</td>\n",
       "      <td>NaN</td>\n",
       "      <td>-413.991405</td>\n",
       "      <td>-159.314686</td>\n",
       "      <td>380.0</td>\n",
       "      <td>494.0</td>\n",
       "      <td>NaN</td>\n",
       "      <td>undefined</td>\n",
       "      <td>intro</td>\n",
       "      <td>tunic.historicalsociety.closet</td>\n",
       "      <td>tunic.historicalsociety.closet.intro</td>\n",
       "      <td>NaN</td>\n",
       "      <td>NaN</td>\n",
       "      <td>NaN</td>\n",
       "      <td>0-4</td>\n",
       "    </tr>\n",
       "    <tr>\n",
       "      <th>1</th>\n",
       "      <td>20090312431273200</td>\n",
       "      <td>1323</td>\n",
       "      <td>person_click</td>\n",
       "      <td>basic</td>\n",
       "      <td>0</td>\n",
       "      <td>NaN</td>\n",
       "      <td>-413.991405</td>\n",
       "      <td>-159.314686</td>\n",
       "      <td>380.0</td>\n",
       "      <td>494.0</td>\n",
       "      <td>NaN</td>\n",
       "      <td>Whatcha doing over there, Jo?</td>\n",
       "      <td>gramps</td>\n",
       "      <td>tunic.historicalsociety.closet</td>\n",
       "      <td>tunic.historicalsociety.closet.gramps.intro_0_...</td>\n",
       "      <td>NaN</td>\n",
       "      <td>NaN</td>\n",
       "      <td>NaN</td>\n",
       "      <td>0-4</td>\n",
       "    </tr>\n",
       "    <tr>\n",
       "      <th>2</th>\n",
       "      <td>20090312431273200</td>\n",
       "      <td>831</td>\n",
       "      <td>person_click</td>\n",
       "      <td>basic</td>\n",
       "      <td>0</td>\n",
       "      <td>NaN</td>\n",
       "      <td>-413.991405</td>\n",
       "      <td>-159.314686</td>\n",
       "      <td>380.0</td>\n",
       "      <td>494.0</td>\n",
       "      <td>NaN</td>\n",
       "      <td>Just talking to Teddy.</td>\n",
       "      <td>gramps</td>\n",
       "      <td>tunic.historicalsociety.closet</td>\n",
       "      <td>tunic.historicalsociety.closet.gramps.intro_0_...</td>\n",
       "      <td>NaN</td>\n",
       "      <td>NaN</td>\n",
       "      <td>NaN</td>\n",
       "      <td>0-4</td>\n",
       "    </tr>\n",
       "  </tbody>\n",
       "</table>\n",
       "</div>"
      ],
      "text/plain": [
       "              session_id  elapsed_time      event_name   name  level  page  \\\n",
       "index                                                                        \n",
       "0      20090312431273200             0  cutscene_click  basic      0   NaN   \n",
       "1      20090312431273200          1323    person_click  basic      0   NaN   \n",
       "2      20090312431273200           831    person_click  basic      0   NaN   \n",
       "\n",
       "       room_coor_x  room_coor_y  screen_coor_x  screen_coor_y  hover_duration  \\\n",
       "index                                                                           \n",
       "0      -413.991405  -159.314686          380.0          494.0             NaN   \n",
       "1      -413.991405  -159.314686          380.0          494.0             NaN   \n",
       "2      -413.991405  -159.314686          380.0          494.0             NaN   \n",
       "\n",
       "                                text    fqid                       room_fqid  \\\n",
       "index                                                                          \n",
       "0                          undefined   intro  tunic.historicalsociety.closet   \n",
       "1      Whatcha doing over there, Jo?  gramps  tunic.historicalsociety.closet   \n",
       "2             Just talking to Teddy.  gramps  tunic.historicalsociety.closet   \n",
       "\n",
       "                                               text_fqid  fullscreen  hq  \\\n",
       "index                                                                      \n",
       "0                   tunic.historicalsociety.closet.intro         NaN NaN   \n",
       "1      tunic.historicalsociety.closet.gramps.intro_0_...         NaN NaN   \n",
       "2      tunic.historicalsociety.closet.gramps.intro_0_...         NaN NaN   \n",
       "\n",
       "       music level_group  \n",
       "index                     \n",
       "0        NaN         0-4  \n",
       "1        NaN         0-4  \n",
       "2        NaN         0-4  "
      ]
     },
     "metadata": {},
     "output_type": "display_data"
    }
   ],
   "source": [
    "# load the source training set\n",
    "df_source = pd.read_csv('../data/train.csv.gz', compression='gzip', index_col=1)\n",
    "\n",
    "print(df_source.shape)\n",
    "with pd.option_context('display.max_columns', None):\n",
    "    display(df_source.head(3))"
   ]
  },
  {
   "cell_type": "code",
   "execution_count": 3,
   "metadata": {},
   "outputs": [
    {
     "name": "stdout",
     "output_type": "stream",
     "text": [
      "(212022, 2)\n"
     ]
    },
    {
     "data": {
      "text/html": [
       "<div>\n",
       "<style scoped>\n",
       "    .dataframe tbody tr th:only-of-type {\n",
       "        vertical-align: middle;\n",
       "    }\n",
       "\n",
       "    .dataframe tbody tr th {\n",
       "        vertical-align: top;\n",
       "    }\n",
       "\n",
       "    .dataframe thead th {\n",
       "        text-align: right;\n",
       "    }\n",
       "</style>\n",
       "<table border=\"1\" class=\"dataframe\">\n",
       "  <thead>\n",
       "    <tr style=\"text-align: right;\">\n",
       "      <th></th>\n",
       "      <th>session_id</th>\n",
       "      <th>correct</th>\n",
       "    </tr>\n",
       "  </thead>\n",
       "  <tbody>\n",
       "    <tr>\n",
       "      <th>0</th>\n",
       "      <td>20090312431273200_q1</td>\n",
       "      <td>1</td>\n",
       "    </tr>\n",
       "    <tr>\n",
       "      <th>1</th>\n",
       "      <td>20090312433251036_q1</td>\n",
       "      <td>0</td>\n",
       "    </tr>\n",
       "    <tr>\n",
       "      <th>2</th>\n",
       "      <td>20090314121766812_q1</td>\n",
       "      <td>1</td>\n",
       "    </tr>\n",
       "  </tbody>\n",
       "</table>\n",
       "</div>"
      ],
      "text/plain": [
       "             session_id  correct\n",
       "0  20090312431273200_q1        1\n",
       "1  20090312433251036_q1        0\n",
       "2  20090314121766812_q1        1"
      ]
     },
     "metadata": {},
     "output_type": "display_data"
    }
   ],
   "source": [
    "# load the source training labels\n",
    "df_source_labels = pd.read_csv('../data/train_labels.csv')\n",
    "\n",
    "print(df_source_labels.shape)\n",
    "with pd.option_context('display.max_columns', None):\n",
    "    display(df_source_labels.head(3))"
   ]
  },
  {
   "cell_type": "markdown",
   "metadata": {},
   "source": [
    "## Functions"
   ]
  },
  {
   "cell_type": "code",
   "execution_count": 4,
   "metadata": {},
   "outputs": [],
   "source": [
    "def map_question_to_level_group(question_number):\n",
    "    \"\"\"\n",
    "    Maps the question number to the level group.\n",
    "\n",
    "    Parameters\n",
    "    ----------\n",
    "    question_number : int\n",
    "        The question number.\n",
    "\n",
    "    Returns\n",
    "    -------\n",
    "    str\n",
    "        The level group.\n",
    "    \"\"\"\n",
    "    if question_number in [1, 2, 3]:\n",
    "        return '0-4'\n",
    "    elif question_number in [4, 5, 6, 7, 8, 9, 10, 11, 12, 13]:\n",
    "        return '5-12'\n",
    "    elif question_number in [14, 15, 16, 17, 18]:\n",
    "        return '13-22'\n",
    "    else:\n",
    "        return None"
   ]
  },
  {
   "cell_type": "code",
   "execution_count": 5,
   "metadata": {},
   "outputs": [],
   "source": [
    "def prepare_label_dataset(data : pd.DataFrame) -> pd.DataFrame:\n",
    "    \"\"\"\n",
    "    Prepares the label dataset and add columns for the level group \n",
    "    and the question number.\n",
    "\n",
    "    Parameters\n",
    "    ----------\n",
    "    data : pd.DataFrame\n",
    "        The label dataset.\n",
    "\n",
    "    Returns\n",
    "    -------\n",
    "    pd.DataFrame\n",
    "        The prepared label dataset.\n",
    "    \"\"\"\n",
    "    # add the columns to determine the level group\n",
    "    df_labels = data \\\n",
    "        .rename(columns={'session_id': 'id'}) \\\n",
    "        .assign(session_id=lambda df: df['id'].str.split('_').str[0].astype(int)) \\\n",
    "        .assign(question_id=lambda df: df['id'].str.split('_').str[1]) \\\n",
    "        .assign(question_num=lambda df: df['question_id'].str[1:].astype(int)) \\\n",
    "        [['session_id', 'question_num', 'correct']]\n",
    "    \n",
    "    # add the level group column\n",
    "    df_labels['level_group'] = df_labels['question_num'].apply(map_question_to_level_group) \n",
    "        \n",
    "    return df_labels"
   ]
  },
  {
   "cell_type": "code",
   "execution_count": 6,
   "metadata": {},
   "outputs": [],
   "source": [
    "def prepare_main_dataset(data : pd.DataFrame) -> pd.DataFrame:\n",
    "    \"\"\"\n",
    "    Prepares the main dataset by removing duplicates and removing \n",
    "    columns that are not needed.\n",
    "\n",
    "    Parameters\n",
    "    ----------\n",
    "    data : pd.DataFrame\n",
    "        The main dataset.\n",
    "\n",
    "    Returns\n",
    "    -------\n",
    "    pd.DataFrame\n",
    "        The prepared main dataset.\n",
    "    \"\"\"\n",
    "    empty_columns = ['fullscreen', 'hq', 'music', 'page', 'hover_duration']\n",
    "\n",
    "    df_main = data \\\n",
    "        .drop_duplicates() \\\n",
    "        .reset_index(drop=True) \\\n",
    "        .drop(empty_columns, axis=1) \\\n",
    "        .drop('text', axis=1)\n",
    "\n",
    "    return df_main"
   ]
  },
  {
   "cell_type": "markdown",
   "metadata": {},
   "source": [
    "## Data Preprocessing"
   ]
  },
  {
   "cell_type": "code",
   "execution_count": 7,
   "metadata": {},
   "outputs": [
    {
     "name": "stdout",
     "output_type": "stream",
     "text": [
      "(13173445, 13)\n"
     ]
    },
    {
     "data": {
      "text/html": [
       "<div>\n",
       "<style scoped>\n",
       "    .dataframe tbody tr th:only-of-type {\n",
       "        vertical-align: middle;\n",
       "    }\n",
       "\n",
       "    .dataframe tbody tr th {\n",
       "        vertical-align: top;\n",
       "    }\n",
       "\n",
       "    .dataframe thead th {\n",
       "        text-align: right;\n",
       "    }\n",
       "</style>\n",
       "<table border=\"1\" class=\"dataframe\">\n",
       "  <thead>\n",
       "    <tr style=\"text-align: right;\">\n",
       "      <th></th>\n",
       "      <th>session_id</th>\n",
       "      <th>elapsed_time</th>\n",
       "      <th>event_name</th>\n",
       "      <th>name</th>\n",
       "      <th>level</th>\n",
       "      <th>room_coor_x</th>\n",
       "      <th>room_coor_y</th>\n",
       "      <th>screen_coor_x</th>\n",
       "      <th>screen_coor_y</th>\n",
       "      <th>fqid</th>\n",
       "      <th>room_fqid</th>\n",
       "      <th>text_fqid</th>\n",
       "      <th>level_group</th>\n",
       "    </tr>\n",
       "  </thead>\n",
       "  <tbody>\n",
       "    <tr>\n",
       "      <th>0</th>\n",
       "      <td>20090312431273200</td>\n",
       "      <td>0</td>\n",
       "      <td>cutscene_click</td>\n",
       "      <td>basic</td>\n",
       "      <td>0</td>\n",
       "      <td>-413.991405</td>\n",
       "      <td>-159.314686</td>\n",
       "      <td>380.0</td>\n",
       "      <td>494.0</td>\n",
       "      <td>intro</td>\n",
       "      <td>tunic.historicalsociety.closet</td>\n",
       "      <td>tunic.historicalsociety.closet.intro</td>\n",
       "      <td>0-4</td>\n",
       "    </tr>\n",
       "    <tr>\n",
       "      <th>1</th>\n",
       "      <td>20090312431273200</td>\n",
       "      <td>1323</td>\n",
       "      <td>person_click</td>\n",
       "      <td>basic</td>\n",
       "      <td>0</td>\n",
       "      <td>-413.991405</td>\n",
       "      <td>-159.314686</td>\n",
       "      <td>380.0</td>\n",
       "      <td>494.0</td>\n",
       "      <td>gramps</td>\n",
       "      <td>tunic.historicalsociety.closet</td>\n",
       "      <td>tunic.historicalsociety.closet.gramps.intro_0_...</td>\n",
       "      <td>0-4</td>\n",
       "    </tr>\n",
       "    <tr>\n",
       "      <th>2</th>\n",
       "      <td>20090312431273200</td>\n",
       "      <td>831</td>\n",
       "      <td>person_click</td>\n",
       "      <td>basic</td>\n",
       "      <td>0</td>\n",
       "      <td>-413.991405</td>\n",
       "      <td>-159.314686</td>\n",
       "      <td>380.0</td>\n",
       "      <td>494.0</td>\n",
       "      <td>gramps</td>\n",
       "      <td>tunic.historicalsociety.closet</td>\n",
       "      <td>tunic.historicalsociety.closet.gramps.intro_0_...</td>\n",
       "      <td>0-4</td>\n",
       "    </tr>\n",
       "  </tbody>\n",
       "</table>\n",
       "</div>"
      ],
      "text/plain": [
       "          session_id  elapsed_time      event_name   name  level  room_coor_x  \\\n",
       "0  20090312431273200             0  cutscene_click  basic      0  -413.991405   \n",
       "1  20090312431273200          1323    person_click  basic      0  -413.991405   \n",
       "2  20090312431273200           831    person_click  basic      0  -413.991405   \n",
       "\n",
       "   room_coor_y  screen_coor_x  screen_coor_y    fqid  \\\n",
       "0  -159.314686          380.0          494.0   intro   \n",
       "1  -159.314686          380.0          494.0  gramps   \n",
       "2  -159.314686          380.0          494.0  gramps   \n",
       "\n",
       "                        room_fqid  \\\n",
       "0  tunic.historicalsociety.closet   \n",
       "1  tunic.historicalsociety.closet   \n",
       "2  tunic.historicalsociety.closet   \n",
       "\n",
       "                                           text_fqid level_group  \n",
       "0               tunic.historicalsociety.closet.intro         0-4  \n",
       "1  tunic.historicalsociety.closet.gramps.intro_0_...         0-4  \n",
       "2  tunic.historicalsociety.closet.gramps.intro_0_...         0-4  "
      ]
     },
     "metadata": {},
     "output_type": "display_data"
    }
   ],
   "source": [
    "# prepare the main dataset\n",
    "df_source = prepare_main_dataset(df_source)\n",
    "\n",
    "with pd.option_context('display.max_columns', None):\n",
    "    print(df_source.shape)\n",
    "    display(df_source.head(3))  "
   ]
  },
  {
   "cell_type": "code",
   "execution_count": 8,
   "metadata": {},
   "outputs": [
    {
     "data": {
      "text/html": [
       "<div>\n",
       "<style scoped>\n",
       "    .dataframe tbody tr th:only-of-type {\n",
       "        vertical-align: middle;\n",
       "    }\n",
       "\n",
       "    .dataframe tbody tr th {\n",
       "        vertical-align: top;\n",
       "    }\n",
       "\n",
       "    .dataframe thead th {\n",
       "        text-align: right;\n",
       "    }\n",
       "</style>\n",
       "<table border=\"1\" class=\"dataframe\">\n",
       "  <thead>\n",
       "    <tr style=\"text-align: right;\">\n",
       "      <th></th>\n",
       "      <th>session_id</th>\n",
       "      <th>question_num</th>\n",
       "      <th>correct</th>\n",
       "      <th>level_group</th>\n",
       "    </tr>\n",
       "  </thead>\n",
       "  <tbody>\n",
       "    <tr>\n",
       "      <th>21476</th>\n",
       "      <td>22010116250792520</td>\n",
       "      <td>2</td>\n",
       "      <td>1</td>\n",
       "      <td>0-4</td>\n",
       "    </tr>\n",
       "    <tr>\n",
       "      <th>84068</th>\n",
       "      <td>21000111433937450</td>\n",
       "      <td>8</td>\n",
       "      <td>1</td>\n",
       "      <td>5-12</td>\n",
       "    </tr>\n",
       "    <tr>\n",
       "      <th>171219</th>\n",
       "      <td>21040510125933256</td>\n",
       "      <td>15</td>\n",
       "      <td>0</td>\n",
       "      <td>13-22</td>\n",
       "    </tr>\n",
       "  </tbody>\n",
       "</table>\n",
       "</div>"
      ],
      "text/plain": [
       "               session_id  question_num  correct level_group\n",
       "21476   22010116250792520             2        1         0-4\n",
       "84068   21000111433937450             8        1        5-12\n",
       "171219  21040510125933256            15        0       13-22"
      ]
     },
     "metadata": {},
     "output_type": "display_data"
    }
   ],
   "source": [
    "# prepare the label dataset\n",
    "df_source_labels = prepare_label_dataset(df_source_labels)\n",
    "\n",
    "with pd.option_context('display.max_columns', None):\n",
    "    display(df_source_labels.sample(n=3, random_state=51))"
   ]
  },
  {
   "attachments": {},
   "cell_type": "markdown",
   "metadata": {},
   "source": [
    "## Explore Student Scores"
   ]
  },
  {
   "cell_type": "code",
   "execution_count": 9,
   "metadata": {},
   "outputs": [
    {
     "data": {
      "text/html": [
       "<div>\n",
       "<style scoped>\n",
       "    .dataframe tbody tr th:only-of-type {\n",
       "        vertical-align: middle;\n",
       "    }\n",
       "\n",
       "    .dataframe tbody tr th {\n",
       "        vertical-align: top;\n",
       "    }\n",
       "\n",
       "    .dataframe thead th {\n",
       "        text-align: right;\n",
       "    }\n",
       "</style>\n",
       "<table border=\"1\" class=\"dataframe\">\n",
       "  <thead>\n",
       "    <tr style=\"text-align: right;\">\n",
       "      <th></th>\n",
       "      <th>session_id</th>\n",
       "      <th>level_group</th>\n",
       "      <th>sum</th>\n",
       "      <th>count</th>\n",
       "      <th>score</th>\n",
       "    </tr>\n",
       "  </thead>\n",
       "  <tbody>\n",
       "    <tr>\n",
       "      <th>0</th>\n",
       "      <td>20090312431273200</td>\n",
       "      <td>0-4</td>\n",
       "      <td>3</td>\n",
       "      <td>3</td>\n",
       "      <td>1.000000</td>\n",
       "    </tr>\n",
       "    <tr>\n",
       "      <th>1</th>\n",
       "      <td>20090312431273200</td>\n",
       "      <td>13-22</td>\n",
       "      <td>4</td>\n",
       "      <td>5</td>\n",
       "      <td>0.800000</td>\n",
       "    </tr>\n",
       "    <tr>\n",
       "      <th>2</th>\n",
       "      <td>20090312431273200</td>\n",
       "      <td>5-12</td>\n",
       "      <td>9</td>\n",
       "      <td>10</td>\n",
       "      <td>0.900000</td>\n",
       "    </tr>\n",
       "    <tr>\n",
       "      <th>3</th>\n",
       "      <td>20090312433251036</td>\n",
       "      <td>0-4</td>\n",
       "      <td>2</td>\n",
       "      <td>3</td>\n",
       "      <td>0.666667</td>\n",
       "    </tr>\n",
       "    <tr>\n",
       "      <th>4</th>\n",
       "      <td>20090312433251036</td>\n",
       "      <td>13-22</td>\n",
       "      <td>3</td>\n",
       "      <td>5</td>\n",
       "      <td>0.600000</td>\n",
       "    </tr>\n",
       "    <tr>\n",
       "      <th>5</th>\n",
       "      <td>20090312433251036</td>\n",
       "      <td>5-12</td>\n",
       "      <td>5</td>\n",
       "      <td>10</td>\n",
       "      <td>0.500000</td>\n",
       "    </tr>\n",
       "  </tbody>\n",
       "</table>\n",
       "</div>"
      ],
      "text/plain": [
       "          session_id level_group  sum  count     score\n",
       "0  20090312431273200         0-4    3      3  1.000000\n",
       "1  20090312431273200       13-22    4      5  0.800000\n",
       "2  20090312431273200        5-12    9     10  0.900000\n",
       "3  20090312433251036         0-4    2      3  0.666667\n",
       "4  20090312433251036       13-22    3      5  0.600000\n",
       "5  20090312433251036        5-12    5     10  0.500000"
      ]
     },
     "metadata": {},
     "output_type": "display_data"
    }
   ],
   "source": [
    "df_scores = df_source_labels \\\n",
    "    .groupby(['session_id', 'level_group']) \\\n",
    "    .agg({'correct': ['sum', 'count']}) \\\n",
    "    .droplevel(0, axis=1) \\\n",
    "    .reset_index() \\\n",
    "    .query(('(level_group == \"0-4\" and count == 3) or'\n",
    "            '(level_group == \"5-12\" and count == 10) or'\n",
    "            '(level_group == \"13-22\" and count == 5)')) \\\n",
    "    .assign(score=lambda df: df['sum'] / df['count'])\n",
    "\n",
    "display(df_scores.head(6))"
   ]
  },
  {
   "cell_type": "code",
   "execution_count": 10,
   "metadata": {},
   "outputs": [
    {
     "data": {
      "text/plain": [
       "level_group\n",
       "0-4      Axes(0.125,0.11;0.775x0.77)\n",
       "13-22    Axes(0.125,0.11;0.775x0.77)\n",
       "5-12     Axes(0.125,0.11;0.775x0.77)\n",
       "dtype: object"
      ]
     },
     "execution_count": 10,
     "metadata": {},
     "output_type": "execute_result"
    },
    {
     "data": {
      "image/png": "[encoded data removed]",
      "text/plain": [
       "<Figure size 640x480 with 1 Axes>"
      ]
     },
     "metadata": {},
     "output_type": "display_data"
    },
    {
     "data": {
      "image/png": "[encoded data removed]",
      "text/plain": [
       "<Figure size 640x480 with 1 Axes>"
      ]
     },
     "metadata": {},
     "output_type": "display_data"
    },
    {
     "data": {
      "image/png": "[encoded data removed]",
      "text/plain": [
       "<Figure size 640x480 with 1 Axes>"
      ]
     },
     "metadata": {},
     "output_type": "display_data"
    }
   ],
   "source": [
    "df_scores \\\n",
    "    .groupby('level_group') \\\n",
    "    .plot(kind='hist', y='score', bins=3, legend=False, title='Correct answers per level group')\n",
    "    "
   ]
  },
  {
   "attachments": {},
   "cell_type": "markdown",
   "metadata": {},
   "source": [
    "### Add Symbolic Score"
   ]
  },
  {
   "cell_type": "code",
   "execution_count": 11,
   "metadata": {},
   "outputs": [
    {
     "data": {
      "text/html": [
       "<div>\n",
       "<style scoped>\n",
       "    .dataframe tbody tr th:only-of-type {\n",
       "        vertical-align: middle;\n",
       "    }\n",
       "\n",
       "    .dataframe tbody tr th {\n",
       "        vertical-align: top;\n",
       "    }\n",
       "\n",
       "    .dataframe thead th {\n",
       "        text-align: right;\n",
       "    }\n",
       "</style>\n",
       "<table border=\"1\" class=\"dataframe\">\n",
       "  <thead>\n",
       "    <tr style=\"text-align: right;\">\n",
       "      <th></th>\n",
       "      <th>session_id</th>\n",
       "      <th>level_group</th>\n",
       "      <th>sum</th>\n",
       "      <th>count</th>\n",
       "      <th>score</th>\n",
       "      <th>symbolic_score</th>\n",
       "    </tr>\n",
       "  </thead>\n",
       "  <tbody>\n",
       "    <tr>\n",
       "      <th>0</th>\n",
       "      <td>20090312431273200</td>\n",
       "      <td>0-4</td>\n",
       "      <td>3</td>\n",
       "      <td>3</td>\n",
       "      <td>1.000000</td>\n",
       "      <td>A</td>\n",
       "    </tr>\n",
       "    <tr>\n",
       "      <th>1</th>\n",
       "      <td>20090312431273200</td>\n",
       "      <td>13-22</td>\n",
       "      <td>4</td>\n",
       "      <td>5</td>\n",
       "      <td>0.800000</td>\n",
       "      <td>B</td>\n",
       "    </tr>\n",
       "    <tr>\n",
       "      <th>2</th>\n",
       "      <td>20090312431273200</td>\n",
       "      <td>5-12</td>\n",
       "      <td>9</td>\n",
       "      <td>10</td>\n",
       "      <td>0.900000</td>\n",
       "      <td>A</td>\n",
       "    </tr>\n",
       "    <tr>\n",
       "      <th>3</th>\n",
       "      <td>20090312433251036</td>\n",
       "      <td>0-4</td>\n",
       "      <td>2</td>\n",
       "      <td>3</td>\n",
       "      <td>0.666667</td>\n",
       "      <td>B</td>\n",
       "    </tr>\n",
       "    <tr>\n",
       "      <th>4</th>\n",
       "      <td>20090312433251036</td>\n",
       "      <td>13-22</td>\n",
       "      <td>3</td>\n",
       "      <td>5</td>\n",
       "      <td>0.600000</td>\n",
       "      <td>B</td>\n",
       "    </tr>\n",
       "    <tr>\n",
       "      <th>5</th>\n",
       "      <td>20090312433251036</td>\n",
       "      <td>5-12</td>\n",
       "      <td>5</td>\n",
       "      <td>10</td>\n",
       "      <td>0.500000</td>\n",
       "      <td>C</td>\n",
       "    </tr>\n",
       "  </tbody>\n",
       "</table>\n",
       "</div>"
      ],
      "text/plain": [
       "          session_id level_group  sum  count     score symbolic_score\n",
       "0  20090312431273200         0-4    3      3  1.000000              A\n",
       "1  20090312431273200       13-22    4      5  0.800000              B\n",
       "2  20090312431273200        5-12    9     10  0.900000              A\n",
       "3  20090312433251036         0-4    2      3  0.666667              B\n",
       "4  20090312433251036       13-22    3      5  0.600000              B\n",
       "5  20090312433251036        5-12    5     10  0.500000              C"
      ]
     },
     "metadata": {},
     "output_type": "display_data"
    },
    {
     "data": {
      "text/html": [
       "<div>\n",
       "<style scoped>\n",
       "    .dataframe tbody tr th:only-of-type {\n",
       "        vertical-align: middle;\n",
       "    }\n",
       "\n",
       "    .dataframe tbody tr th {\n",
       "        vertical-align: top;\n",
       "    }\n",
       "\n",
       "    .dataframe thead th {\n",
       "        text-align: right;\n",
       "    }\n",
       "</style>\n",
       "<table border=\"1\" class=\"dataframe\">\n",
       "  <thead>\n",
       "    <tr style=\"text-align: right;\">\n",
       "      <th></th>\n",
       "      <th></th>\n",
       "      <th>session_id</th>\n",
       "      <th>sum</th>\n",
       "      <th>count</th>\n",
       "      <th>score</th>\n",
       "    </tr>\n",
       "    <tr>\n",
       "      <th>level_group</th>\n",
       "      <th>symbolic_score</th>\n",
       "      <th></th>\n",
       "      <th></th>\n",
       "      <th></th>\n",
       "      <th></th>\n",
       "    </tr>\n",
       "  </thead>\n",
       "  <tbody>\n",
       "    <tr>\n",
       "      <th rowspan=\"3\" valign=\"top\">0-4</th>\n",
       "      <th>A</th>\n",
       "      <td>8045</td>\n",
       "      <td>8045</td>\n",
       "      <td>8045</td>\n",
       "      <td>8045</td>\n",
       "    </tr>\n",
       "    <tr>\n",
       "      <th>B</th>\n",
       "      <td>3206</td>\n",
       "      <td>3206</td>\n",
       "      <td>3206</td>\n",
       "      <td>3206</td>\n",
       "    </tr>\n",
       "    <tr>\n",
       "      <th>C</th>\n",
       "      <td>528</td>\n",
       "      <td>528</td>\n",
       "      <td>528</td>\n",
       "      <td>528</td>\n",
       "    </tr>\n",
       "    <tr>\n",
       "      <th rowspan=\"3\" valign=\"top\">13-22</th>\n",
       "      <th>A</th>\n",
       "      <td>2460</td>\n",
       "      <td>2460</td>\n",
       "      <td>2460</td>\n",
       "      <td>2460</td>\n",
       "    </tr>\n",
       "    <tr>\n",
       "      <th>B</th>\n",
       "      <td>7464</td>\n",
       "      <td>7464</td>\n",
       "      <td>7464</td>\n",
       "      <td>7464</td>\n",
       "    </tr>\n",
       "    <tr>\n",
       "      <th>C</th>\n",
       "      <td>1855</td>\n",
       "      <td>1855</td>\n",
       "      <td>1855</td>\n",
       "      <td>1855</td>\n",
       "    </tr>\n",
       "    <tr>\n",
       "      <th rowspan=\"3\" valign=\"top\">5-12</th>\n",
       "      <th>A</th>\n",
       "      <td>2208</td>\n",
       "      <td>2208</td>\n",
       "      <td>2208</td>\n",
       "      <td>2208</td>\n",
       "    </tr>\n",
       "    <tr>\n",
       "      <th>B</th>\n",
       "      <td>6046</td>\n",
       "      <td>6046</td>\n",
       "      <td>6046</td>\n",
       "      <td>6046</td>\n",
       "    </tr>\n",
       "    <tr>\n",
       "      <th>C</th>\n",
       "      <td>3525</td>\n",
       "      <td>3525</td>\n",
       "      <td>3525</td>\n",
       "      <td>3525</td>\n",
       "    </tr>\n",
       "  </tbody>\n",
       "</table>\n",
       "</div>"
      ],
      "text/plain": [
       "                            session_id   sum  count  score\n",
       "level_group symbolic_score                                \n",
       "0-4         A                     8045  8045   8045   8045\n",
       "            B                     3206  3206   3206   3206\n",
       "            C                      528   528    528    528\n",
       "13-22       A                     2460  2460   2460   2460\n",
       "            B                     7464  7464   7464   7464\n",
       "            C                     1855  1855   1855   1855\n",
       "5-12        A                     2208  2208   2208   2208\n",
       "            B                     6046  6046   6046   6046\n",
       "            C                     3525  3525   3525   3525"
      ]
     },
     "metadata": {},
     "output_type": "display_data"
    }
   ],
   "source": [
    "df_scores['symbolic_score'] = df_scores['score'].apply(lambda x: 'A' if x >= 0.9 else 'B' if x >= 0.6 else 'C')\n",
    "\n",
    "display(df_scores.head(6))\n",
    "\n",
    "display(\n",
    "    df_scores \\\n",
    "        .groupby(['level_group', 'symbolic_score']) \\\n",
    "        .count()\n",
    ")"
   ]
  },
  {
   "cell_type": "code",
   "execution_count": 12,
   "metadata": {},
   "outputs": [
    {
     "data": {
      "text/html": [
       "<div>\n",
       "<style scoped>\n",
       "    .dataframe tbody tr th:only-of-type {\n",
       "        vertical-align: middle;\n",
       "    }\n",
       "\n",
       "    .dataframe tbody tr th {\n",
       "        vertical-align: top;\n",
       "    }\n",
       "\n",
       "    .dataframe thead th {\n",
       "        text-align: right;\n",
       "    }\n",
       "</style>\n",
       "<table border=\"1\" class=\"dataframe\">\n",
       "  <thead>\n",
       "    <tr style=\"text-align: right;\">\n",
       "      <th></th>\n",
       "      <th>session_id</th>\n",
       "      <th>level_group</th>\n",
       "      <th>sum</th>\n",
       "      <th>count</th>\n",
       "      <th>score</th>\n",
       "      <th>symbolic_score</th>\n",
       "      <th>symbolic_score_feature</th>\n",
       "    </tr>\n",
       "  </thead>\n",
       "  <tbody>\n",
       "    <tr>\n",
       "      <th>0</th>\n",
       "      <td>20090312431273200</td>\n",
       "      <td>0-4</td>\n",
       "      <td>3</td>\n",
       "      <td>3</td>\n",
       "      <td>1.000000</td>\n",
       "      <td>A</td>\n",
       "      <td>[1, 0, 0]</td>\n",
       "    </tr>\n",
       "    <tr>\n",
       "      <th>1</th>\n",
       "      <td>20090312431273200</td>\n",
       "      <td>13-22</td>\n",
       "      <td>4</td>\n",
       "      <td>5</td>\n",
       "      <td>0.800000</td>\n",
       "      <td>B</td>\n",
       "      <td>[0, 1, 0]</td>\n",
       "    </tr>\n",
       "    <tr>\n",
       "      <th>2</th>\n",
       "      <td>20090312431273200</td>\n",
       "      <td>5-12</td>\n",
       "      <td>9</td>\n",
       "      <td>10</td>\n",
       "      <td>0.900000</td>\n",
       "      <td>A</td>\n",
       "      <td>[1, 0, 0]</td>\n",
       "    </tr>\n",
       "    <tr>\n",
       "      <th>3</th>\n",
       "      <td>20090312433251036</td>\n",
       "      <td>0-4</td>\n",
       "      <td>2</td>\n",
       "      <td>3</td>\n",
       "      <td>0.666667</td>\n",
       "      <td>B</td>\n",
       "      <td>[0, 1, 0]</td>\n",
       "    </tr>\n",
       "    <tr>\n",
       "      <th>4</th>\n",
       "      <td>20090312433251036</td>\n",
       "      <td>13-22</td>\n",
       "      <td>3</td>\n",
       "      <td>5</td>\n",
       "      <td>0.600000</td>\n",
       "      <td>B</td>\n",
       "      <td>[0, 1, 0]</td>\n",
       "    </tr>\n",
       "    <tr>\n",
       "      <th>...</th>\n",
       "      <td>...</td>\n",
       "      <td>...</td>\n",
       "      <td>...</td>\n",
       "      <td>...</td>\n",
       "      <td>...</td>\n",
       "      <td>...</td>\n",
       "      <td>...</td>\n",
       "    </tr>\n",
       "    <tr>\n",
       "      <th>35332</th>\n",
       "      <td>22100219442786200</td>\n",
       "      <td>13-22</td>\n",
       "      <td>4</td>\n",
       "      <td>5</td>\n",
       "      <td>0.800000</td>\n",
       "      <td>B</td>\n",
       "      <td>[0, 1, 0]</td>\n",
       "    </tr>\n",
       "    <tr>\n",
       "      <th>35333</th>\n",
       "      <td>22100219442786200</td>\n",
       "      <td>5-12</td>\n",
       "      <td>7</td>\n",
       "      <td>10</td>\n",
       "      <td>0.700000</td>\n",
       "      <td>B</td>\n",
       "      <td>[0, 1, 0]</td>\n",
       "    </tr>\n",
       "    <tr>\n",
       "      <th>35334</th>\n",
       "      <td>22100221145014656</td>\n",
       "      <td>0-4</td>\n",
       "      <td>1</td>\n",
       "      <td>3</td>\n",
       "      <td>0.333333</td>\n",
       "      <td>C</td>\n",
       "      <td>[0, 0, 1]</td>\n",
       "    </tr>\n",
       "    <tr>\n",
       "      <th>35335</th>\n",
       "      <td>22100221145014656</td>\n",
       "      <td>13-22</td>\n",
       "      <td>2</td>\n",
       "      <td>5</td>\n",
       "      <td>0.400000</td>\n",
       "      <td>C</td>\n",
       "      <td>[0, 0, 1]</td>\n",
       "    </tr>\n",
       "    <tr>\n",
       "      <th>35336</th>\n",
       "      <td>22100221145014656</td>\n",
       "      <td>5-12</td>\n",
       "      <td>4</td>\n",
       "      <td>10</td>\n",
       "      <td>0.400000</td>\n",
       "      <td>C</td>\n",
       "      <td>[0, 0, 1]</td>\n",
       "    </tr>\n",
       "  </tbody>\n",
       "</table>\n",
       "<p>35337 rows × 7 columns</p>\n",
       "</div>"
      ],
      "text/plain": [
       "              session_id level_group  sum  count     score symbolic_score  \\\n",
       "0      20090312431273200         0-4    3      3  1.000000              A   \n",
       "1      20090312431273200       13-22    4      5  0.800000              B   \n",
       "2      20090312431273200        5-12    9     10  0.900000              A   \n",
       "3      20090312433251036         0-4    2      3  0.666667              B   \n",
       "4      20090312433251036       13-22    3      5  0.600000              B   \n",
       "...                  ...         ...  ...    ...       ...            ...   \n",
       "35332  22100219442786200       13-22    4      5  0.800000              B   \n",
       "35333  22100219442786200        5-12    7     10  0.700000              B   \n",
       "35334  22100221145014656         0-4    1      3  0.333333              C   \n",
       "35335  22100221145014656       13-22    2      5  0.400000              C   \n",
       "35336  22100221145014656        5-12    4     10  0.400000              C   \n",
       "\n",
       "      symbolic_score_feature  \n",
       "0                  [1, 0, 0]  \n",
       "1                  [0, 1, 0]  \n",
       "2                  [1, 0, 0]  \n",
       "3                  [0, 1, 0]  \n",
       "4                  [0, 1, 0]  \n",
       "...                      ...  \n",
       "35332              [0, 1, 0]  \n",
       "35333              [0, 1, 0]  \n",
       "35334              [0, 0, 1]  \n",
       "35335              [0, 0, 1]  \n",
       "35336              [0, 0, 1]  \n",
       "\n",
       "[35337 rows x 7 columns]"
      ]
     },
     "execution_count": 12,
     "metadata": {},
     "output_type": "execute_result"
    }
   ],
   "source": [
    "symbolic_score_feature = pd.get_dummies(df_scores['symbolic_score']).to_numpy()\n",
    "df_scores['symbolic_score_feature'] = pd.Series(symbolic_score_feature.tolist())\n",
    "df_scores"
   ]
  },
  {
   "cell_type": "markdown",
   "metadata": {},
   "source": [
    "## Functions to Create Features"
   ]
  },
  {
   "cell_type": "code",
   "execution_count": 13,
   "metadata": {},
   "outputs": [
    {
     "data": {
      "text/html": [
       "<div>\n",
       "<style scoped>\n",
       "    .dataframe tbody tr th:only-of-type {\n",
       "        vertical-align: middle;\n",
       "    }\n",
       "\n",
       "    .dataframe tbody tr th {\n",
       "        vertical-align: top;\n",
       "    }\n",
       "\n",
       "    .dataframe thead th {\n",
       "        text-align: right;\n",
       "    }\n",
       "</style>\n",
       "<table border=\"1\" class=\"dataframe\">\n",
       "  <thead>\n",
       "    <tr style=\"text-align: right;\">\n",
       "      <th></th>\n",
       "      <th>session_id</th>\n",
       "      <th>level_group</th>\n",
       "    </tr>\n",
       "  </thead>\n",
       "  <tbody>\n",
       "    <tr>\n",
       "      <th>0</th>\n",
       "      <td>20090312431273200</td>\n",
       "      <td>0-4</td>\n",
       "    </tr>\n",
       "    <tr>\n",
       "      <th>1</th>\n",
       "      <td>20090312431273200</td>\n",
       "      <td>13-22</td>\n",
       "    </tr>\n",
       "    <tr>\n",
       "      <th>2</th>\n",
       "      <td>20090312431273200</td>\n",
       "      <td>5-12</td>\n",
       "    </tr>\n",
       "    <tr>\n",
       "      <th>3</th>\n",
       "      <td>20090312433251036</td>\n",
       "      <td>0-4</td>\n",
       "    </tr>\n",
       "    <tr>\n",
       "      <th>4</th>\n",
       "      <td>20090312433251036</td>\n",
       "      <td>13-22</td>\n",
       "    </tr>\n",
       "    <tr>\n",
       "      <th>5</th>\n",
       "      <td>20090312433251036</td>\n",
       "      <td>5-12</td>\n",
       "    </tr>\n",
       "  </tbody>\n",
       "</table>\n",
       "</div>"
      ],
      "text/plain": [
       "          session_id level_group\n",
       "0  20090312431273200         0-4\n",
       "1  20090312431273200       13-22\n",
       "2  20090312431273200        5-12\n",
       "3  20090312433251036         0-4\n",
       "4  20090312433251036       13-22\n",
       "5  20090312433251036        5-12"
      ]
     },
     "metadata": {},
     "output_type": "display_data"
    }
   ],
   "source": [
    "def create_initial_features(X:pd.DataFrame,\n",
    "                            y:pd.DataFrame) -> pd.DataFrame:\n",
    "    \"\"\"\n",
    "    Creates the initial dataset to which features will be added.\n",
    "    \"\"\"\n",
    "    return df_source_labels \\\n",
    "        .groupby(['session_id', 'level_group']) \\\n",
    "        .agg({'correct': ['count']}) \\\n",
    "        .reset_index() \\\n",
    "        .droplevel(1, axis=1) \\\n",
    "        .drop(columns=['correct'])\n",
    "\n",
    "# test the function\n",
    "df_features = create_initial_features(df_source, df_source_labels)\n",
    "\n",
    "with pd.option_context('display.max_columns', None):\n",
    "    display(df_features.head(6))"
   ]
  },
  {
   "attachments": {},
   "cell_type": "markdown",
   "metadata": {},
   "source": [
    "### Symbolic Score Feature"
   ]
  },
  {
   "cell_type": "code",
   "execution_count": 14,
   "metadata": {},
   "outputs": [
    {
     "data": {
      "text/html": [
       "<div>\n",
       "<style scoped>\n",
       "    .dataframe tbody tr th:only-of-type {\n",
       "        vertical-align: middle;\n",
       "    }\n",
       "\n",
       "    .dataframe tbody tr th {\n",
       "        vertical-align: top;\n",
       "    }\n",
       "\n",
       "    .dataframe thead th {\n",
       "        text-align: right;\n",
       "    }\n",
       "</style>\n",
       "<table border=\"1\" class=\"dataframe\">\n",
       "  <thead>\n",
       "    <tr style=\"text-align: right;\">\n",
       "      <th></th>\n",
       "      <th>session_id</th>\n",
       "      <th>level_group</th>\n",
       "      <th>symbolic_score_feature</th>\n",
       "    </tr>\n",
       "  </thead>\n",
       "  <tbody>\n",
       "    <tr>\n",
       "      <th>0</th>\n",
       "      <td>20090312431273200</td>\n",
       "      <td>0-4</td>\n",
       "      <td>[1, 0, 0]</td>\n",
       "    </tr>\n",
       "    <tr>\n",
       "      <th>1</th>\n",
       "      <td>20090312431273200</td>\n",
       "      <td>13-22</td>\n",
       "      <td>[0, 1, 0]</td>\n",
       "    </tr>\n",
       "    <tr>\n",
       "      <th>2</th>\n",
       "      <td>20090312431273200</td>\n",
       "      <td>5-12</td>\n",
       "      <td>[1, 0, 0]</td>\n",
       "    </tr>\n",
       "    <tr>\n",
       "      <th>3</th>\n",
       "      <td>20090312433251036</td>\n",
       "      <td>0-4</td>\n",
       "      <td>[0, 1, 0]</td>\n",
       "    </tr>\n",
       "    <tr>\n",
       "      <th>4</th>\n",
       "      <td>20090312433251036</td>\n",
       "      <td>13-22</td>\n",
       "      <td>[0, 1, 0]</td>\n",
       "    </tr>\n",
       "    <tr>\n",
       "      <th>5</th>\n",
       "      <td>20090312433251036</td>\n",
       "      <td>5-12</td>\n",
       "      <td>[0, 0, 1]</td>\n",
       "    </tr>\n",
       "  </tbody>\n",
       "</table>\n",
       "</div>"
      ],
      "text/plain": [
       "          session_id level_group symbolic_score_feature\n",
       "0  20090312431273200         0-4              [1, 0, 0]\n",
       "1  20090312431273200       13-22              [0, 1, 0]\n",
       "2  20090312431273200        5-12              [1, 0, 0]\n",
       "3  20090312433251036         0-4              [0, 1, 0]\n",
       "4  20090312433251036       13-22              [0, 1, 0]\n",
       "5  20090312433251036        5-12              [0, 0, 1]"
      ]
     },
     "metadata": {},
     "output_type": "display_data"
    }
   ],
   "source": [
    "def add_symbolic_score_feature(features:pd.DataFrame,\n",
    "                               X:pd.DataFrame,\n",
    "                               y:pd.DataFrame) -> None:\n",
    "    \"\"\"\n",
    "    Adds the symbolic score feature to the features dataset.\n",
    "    \"\"\"\n",
    "    # get the symbolic scores\n",
    "    df_scores = y \\\n",
    "        .groupby(['session_id', 'level_group']) \\\n",
    "        .agg({'correct': ['sum', 'count']}) \\\n",
    "        .droplevel(0, axis=1) \\\n",
    "        .reset_index() \\\n",
    "        .query(('(level_group == \"0-4\" and count == 3) or'\n",
    "                '(level_group == \"5-12\" and count == 10) or'\n",
    "                '(level_group == \"13-22\" and count == 5)')) \\\n",
    "        .assign(score=lambda df: df['sum'] / df['count']) \\\n",
    "        .assign(symbolic_score=lambda df: df['score'].apply(lambda x: 'A' if x >= 0.9 else 'B' if x >= 0.6 else 'C'))\n",
    "    \n",
    "    # generate the feature\n",
    "    symbolic_score_feature = pd.get_dummies(df_scores['symbolic_score']).to_numpy()\n",
    "\n",
    "    # add the feature to the features dataset\n",
    "    features['symbolic_score_feature'] = pd.Series(symbolic_score_feature.tolist())    \n",
    "\n",
    "# test the function\n",
    "add_symbolic_score_feature(df_features, df_source, df_source_labels)\n",
    "\n",
    "with pd.option_context('display.max_columns', None):\n",
    "    display(df_features.head(6))"
   ]
  },
  {
   "attachments": {},
   "cell_type": "markdown",
   "metadata": {},
   "source": [
    "### Screen Heatmap Feature"
   ]
  },
  {
   "cell_type": "code",
   "execution_count": 15,
   "metadata": {},
   "outputs": [
    {
     "name": "stdout",
     "output_type": "stream",
     "text": [
      "uint8\n",
      "[[  0   0   0   0  31]\n",
      " [  0   0 255   0   0]\n",
      " [  0   0   0   0   0]\n",
      " [  0   0   0   0   0]\n",
      " [191 223  31   0   0]]\n"
     ]
    },
    {
     "data": {
      "image/png": "[encoded data removed]",
      "text/plain": [
       "<Figure size 640x480 with 1 Axes>"
      ]
     },
     "metadata": {},
     "output_type": "display_data"
    }
   ],
   "source": [
    "def create_level_screen_heatmap(df_session:pd.DataFrame,\n",
    "                          level:int,\n",
    "                          bins:int=50,\n",
    "                          min_value:int=0,\n",
    "                          max_value:int=376) -> np.ndarray:\n",
    "    \"\"\"\n",
    "    Creates a heatmap for the screen of the given level.\n",
    "    \"\"\"\n",
    "    df_level = df_session \\\n",
    "        .query('level == @level') \\\n",
    "        .fillna(0)\n",
    "    \n",
    "    # return an empty heatmap if there are no events for the given level\n",
    "    if df_level.shape[0] == 0:\n",
    "        return np.zeros((bins, bins), dtype=np.uint8)\n",
    "\n",
    "    # Create the 2D histogram\n",
    "    heatmap, xedges, yedges = np.histogram2d(df_level.screen_coor_y, \n",
    "                                             df_level.screen_coor_x, \n",
    "                                             bins=bins)\n",
    "    \n",
    "    # Normalize the heatmap\n",
    "    normalized_heatmap = (heatmap - np.min(heatmap)) / (np.max(heatmap) - np.min(heatmap))\n",
    "\n",
    "    # Scale the heatmap to the range 0-255\n",
    "    scaled_heatmap = (normalized_heatmap * 255).astype(np.uint8)\n",
    "\n",
    "    return scaled_heatmap\n",
    "\n",
    "# test the function\n",
    "session_id = 20090312433251036\n",
    "heatmap = create_level_screen_heatmap(df_source.query('session_id == @session_id'), 0, bins=5)\n",
    "print(heatmap.dtype)\n",
    "print(heatmap)\n",
    "\n",
    "plt.imshow(heatmap, cmap='hot', origin='lower')\n",
    "plt.axis('off')\n",
    "plt.show()"
   ]
  },
  {
   "cell_type": "markdown",
   "metadata": {},
   "source": [
    "#### Find The Maximum Value In The Heatmap"
   ]
  },
  {
   "cell_type": "code",
   "execution_count": 16,
   "metadata": {},
   "outputs": [],
   "source": [
    "def get_heatmap_max_min(df_source:pd.DataFrame, \n",
    "                        df_source_labels:pd.DataFrame) -> Tuple[float, float]:\n",
    "    \"\"\"\n",
    "    Returns the maximum and minimum values of the heatmap to use\n",
    "    for normalization.\n",
    "    \"\"\"\n",
    "    best_max = None\n",
    "    best_min = None\n",
    "\n",
    "    for session_id in tqdm(df_source_labels['session_id'].unique()):\n",
    "        df_session = df_source.query('session_id == @session_id')\n",
    "        for level in range(1, 23):\n",
    "            heatmap = create_level_screen_heatmap(df_session, level)\n",
    "            \n",
    "            cur_max = np.max(heatmap)\n",
    "            cur_min = np.min(heatmap)\n",
    "            \n",
    "            if best_max is None or cur_max > best_max:\n",
    "                best_max = cur_max\n",
    "\n",
    "            if best_min is None or cur_min < best_min:\n",
    "                best_min = cur_min\n",
    "\n",
    "    print(f'Best max: {best_max}')\n",
    "    print(f'Best min: {best_min}')\n",
    "\n",
    "    return best_max, best_min\n",
    "\n",
    "# get the max and min values\n",
    "#best_max, best_min = get_heatmap_max_min(df_source, df_source_labels)\n",
    "        "
   ]
  },
  {
   "cell_type": "code",
   "execution_count": 17,
   "metadata": {},
   "outputs": [
    {
     "name": "stdout",
     "output_type": "stream",
     "text": [
      "(10, 50, 50)\n"
     ]
    }
   ],
   "source": [
    "def create_level_group_screen_heatmap(df_session:pd.DataFrame,\n",
    "                                      level_group:str,\n",
    "                                      bins:int=50,\n",
    "                                      min_value:int=0,\n",
    "                                      max_value:int=376) -> np.ndarray:\n",
    "    \"\"\"\n",
    "    Creates heatmaps for the screen of the given level group.\n",
    "    \"\"\"\n",
    "    # get the level group range\n",
    "    if level_group == '0-4':\n",
    "        level_range = range(0, 5)\n",
    "    elif level_group == '5-12':\n",
    "        level_range = range(5, 13)\n",
    "    elif level_group == '13-22':\n",
    "        level_range = range(13, 23)\n",
    "\n",
    "    # create the heatmaps\n",
    "    heatmaps = [create_level_screen_heatmap(df_session, level, bins, min_value, max_value) for level in level_range]\n",
    "\n",
    "    return np.array(heatmaps, dtype=np.uint8)\n",
    "\n",
    "# test the function\n",
    "session_id = 20090312433251036\n",
    "#level_group = '0-4'\n",
    "#level_group = '5-12'\n",
    "level_group = '13-22'\n",
    "df_session = df_source.query('session_id == @session_id')\n",
    "\n",
    "group_heatmaps = create_level_group_screen_heatmap(df_session, level_group)\n",
    "print(group_heatmaps.shape)\n"
   ]
  },
  {
   "cell_type": "code",
   "execution_count": 18,
   "metadata": {},
   "outputs": [
    {
     "data": {
      "application/vnd.jupyter.widget-view+json": {
       "model_id": "1f17f53efe214a6f94a329bd21bc0cb3",
       "version_major": 2,
       "version_minor": 0
      },
      "text/plain": [
       "  0%|          | 0/11779 [00:00<?, ?it/s]"
      ]
     },
     "metadata": {},
     "output_type": "display_data"
    },
    {
     "data": {
      "text/html": [
       "<div>\n",
       "<style scoped>\n",
       "    .dataframe tbody tr th:only-of-type {\n",
       "        vertical-align: middle;\n",
       "    }\n",
       "\n",
       "    .dataframe tbody tr th {\n",
       "        vertical-align: top;\n",
       "    }\n",
       "\n",
       "    .dataframe thead th {\n",
       "        text-align: right;\n",
       "    }\n",
       "</style>\n",
       "<table border=\"1\" class=\"dataframe\">\n",
       "  <thead>\n",
       "    <tr style=\"text-align: right;\">\n",
       "      <th></th>\n",
       "      <th>session_id</th>\n",
       "      <th>level_group</th>\n",
       "      <th>symbolic_score_feature</th>\n",
       "      <th>screen_heatmap_feature</th>\n",
       "    </tr>\n",
       "  </thead>\n",
       "  <tbody>\n",
       "    <tr>\n",
       "      <th>0</th>\n",
       "      <td>20090312431273200</td>\n",
       "      <td>0-4</td>\n",
       "      <td>[1, 0, 0]</td>\n",
       "      <td>[[[0, 0, 0, 0, 36], [0, 0, 0, 0, 0], [0, 0, 0,...</td>\n",
       "    </tr>\n",
       "    <tr>\n",
       "      <th>1</th>\n",
       "      <td>20090312431273200</td>\n",
       "      <td>13-22</td>\n",
       "      <td>[0, 1, 0]</td>\n",
       "      <td>[[[115, 0, 0, 0, 0], [0, 0, 0, 23, 0], [0, 0, ...</td>\n",
       "    </tr>\n",
       "    <tr>\n",
       "      <th>2</th>\n",
       "      <td>20090312431273200</td>\n",
       "      <td>5-12</td>\n",
       "      <td>[1, 0, 0]</td>\n",
       "      <td>[[[63, 0, 0, 0, 0], [0, 0, 0, 63, 0], [0, 0, 0...</td>\n",
       "    </tr>\n",
       "    <tr>\n",
       "      <th>3</th>\n",
       "      <td>20090312433251036</td>\n",
       "      <td>0-4</td>\n",
       "      <td>[0, 1, 0]</td>\n",
       "      <td>[[[0, 0, 0, 0, 31], [0, 0, 255, 0, 0], [0, 0, ...</td>\n",
       "    </tr>\n",
       "    <tr>\n",
       "      <th>4</th>\n",
       "      <td>20090312433251036</td>\n",
       "      <td>13-22</td>\n",
       "      <td>[0, 1, 0]</td>\n",
       "      <td>[[[21, 0, 0, 0, 0], [0, 0, 0, 21, 0], [0, 0, 0...</td>\n",
       "    </tr>\n",
       "    <tr>\n",
       "      <th>5</th>\n",
       "      <td>20090312433251036</td>\n",
       "      <td>5-12</td>\n",
       "      <td>[0, 0, 1]</td>\n",
       "      <td>[[[36, 0, 0, 0, 0], [0, 36, 36, 36, 36], [0, 0...</td>\n",
       "    </tr>\n",
       "  </tbody>\n",
       "</table>\n",
       "</div>"
      ],
      "text/plain": [
       "          session_id level_group symbolic_score_feature  \\\n",
       "0  20090312431273200         0-4              [1, 0, 0]   \n",
       "1  20090312431273200       13-22              [0, 1, 0]   \n",
       "2  20090312431273200        5-12              [1, 0, 0]   \n",
       "3  20090312433251036         0-4              [0, 1, 0]   \n",
       "4  20090312433251036       13-22              [0, 1, 0]   \n",
       "5  20090312433251036        5-12              [0, 0, 1]   \n",
       "\n",
       "                              screen_heatmap_feature  \n",
       "0  [[[0, 0, 0, 0, 36], [0, 0, 0, 0, 0], [0, 0, 0,...  \n",
       "1  [[[115, 0, 0, 0, 0], [0, 0, 0, 23, 0], [0, 0, ...  \n",
       "2  [[[63, 0, 0, 0, 0], [0, 0, 0, 63, 0], [0, 0, 0...  \n",
       "3  [[[0, 0, 0, 0, 31], [0, 0, 255, 0, 0], [0, 0, ...  \n",
       "4  [[[21, 0, 0, 0, 0], [0, 0, 0, 21, 0], [0, 0, 0...  \n",
       "5  [[[36, 0, 0, 0, 0], [0, 36, 36, 36, 36], [0, 0...  "
      ]
     },
     "metadata": {},
     "output_type": "display_data"
    }
   ],
   "source": [
    "def add_screen_heatmap_feature(features:pd.DataFrame,\n",
    "                               X:pd.DataFrame,\n",
    "                               y:pd.DataFrame,\n",
    "                               bins:int=50,\n",
    "                               min_value:int=0,\n",
    "                               max_value:int=376) -> None:\n",
    "    \"\"\"\n",
    "    Adds the screen heatmap feature to the features dataset.\n",
    "    \"\"\"\n",
    "    heatmaps_feature = []\n",
    "    for session_id in tqdm(features['session_id'].unique()):\n",
    "        df_session = X.query('session_id == @session_id')\n",
    "        df_session_features = features.query('session_id == @session_id')\n",
    "\n",
    "        # process each level group the session features\n",
    "        for index, row in df_session_features.iterrows():\n",
    "            level_group = row['level_group']\n",
    "\n",
    "            group_heatmaps = create_level_group_screen_heatmap(df_session, level_group, bins, min_value, max_value)\n",
    "            heatmaps_feature.append(group_heatmaps)\n",
    "\n",
    "    # add the feature to the features dataset\n",
    "    features['screen_heatmap_feature'] = pd.Series(heatmaps_feature)\n",
    "\n",
    "# test the function\n",
    "add_screen_heatmap_feature(df_features, df_source, df_source_labels, bins=5)\n",
    "\n",
    "with pd.option_context('display.max_columns', None):\n",
    "    display(df_features.head(6))"
   ]
  },
  {
   "attachments": {},
   "cell_type": "markdown",
   "metadata": {},
   "source": [
    "## Functions to create Datasets"
   ]
  },
  {
   "cell_type": "code",
   "execution_count": 19,
   "metadata": {},
   "outputs": [],
   "source": [
    "def select_sessions(\n",
    "        y: pd.DataFrame,\n",
    "        sample_size: int,\n",
    "        random_state: int=1337) -> Tuple[np.ndarray, np.ndarray, np.ndarray]:\n",
    "    \"\"\"\n",
    "    Selects a sample of sessions from the dataset.\n",
    "\n",
    "    Parameters\n",
    "    ----------\n",
    "    y : pd.DataFrame\n",
    "        The label dataset.\n",
    "    sample_size : int\n",
    "        The number of sessions to select.\n",
    "    random_state : int\n",
    "        The random state to use.\n",
    "\n",
    "    Returns\n",
    "    -------\n",
    "    Tuple[np.ndarray, np.ndarray, np.ndarray]\n",
    "        The selected session ids, the main dataset and the label dataset.\n",
    "    \"\"\"\n",
    "    # select all the unique session ids\n",
    "    all_session_ids = y['session_id'].unique()\n",
    "\n",
    "    # create a sample for testing\n",
    "    session_ids = np.random.choice(all_session_ids, size=sample_size, replace=False)\n",
    "\n",
    "    # split the dataset into train, validation and test sets\n",
    "    train, test = train_test_split(session_ids, test_size=0.4)\n",
    "    test, val = train_test_split(test, test_size=0.5)\n",
    "\n",
    "    # print the number of sessions in each set\n",
    "    print(f'Train: {len(train)}')\n",
    "    print(f'Validation: {len(val)}')\n",
    "    print(f'Test: {len(test)}')\n",
    "\n",
    "    return train, val, test"
   ]
  },
  {
   "cell_type": "code",
   "execution_count": 20,
   "metadata": {},
   "outputs": [
    {
     "data": {
      "application/vnd.jupyter.widget-view+json": {
       "model_id": "e48e4dd1a9a64ad0a8b4914bae5505d1",
       "version_major": 2,
       "version_minor": 0
      },
      "text/plain": [
       "0it [00:00, ?it/s]"
      ]
     },
     "metadata": {},
     "output_type": "display_data"
    },
    {
     "name": "stdout",
     "output_type": "stream",
     "text": [
      "(9, 5, 5, 5)\n"
     ]
    }
   ],
   "source": [
    "def create_feature_dataset(df_features:pd.DataFrame,\n",
    "                           df_source_labels:pd.DataFrame,\n",
    "                           session_list: list,\n",
    "                           level_group:str,\n",
    "                           feature_list:list) -> np.array:\n",
    "    # get the features and labels for the given level group\n",
    "    df_features_level_group = df_features.query('level_group == @level_group and session_id in @session_list')\n",
    "    df_labels_level_group = df_source_labels.query('level_group == @level_group and session_id in @session_list')\n",
    "\n",
    "    feature_dataset = []\n",
    "\n",
    "    # get the features for each row in the level group labels dataset\n",
    "    current_session_id = None\n",
    "    df_session_features = None\n",
    "\n",
    "    for index, row in tqdm(df_labels_level_group.iterrows()):        \n",
    "        session_id = row['session_id']\n",
    "\n",
    "        # get the features for the session\n",
    "        if session_id != current_session_id:\n",
    "            current_session_id = session_id\n",
    "            df_session_features = df_features_level_group.query('session_id == @session_id')\n",
    "\n",
    "        # check if the session has features\n",
    "        if df_session_features.shape[0] == 0:\n",
    "            raise Exception(f'No features for session {session_id}!')\n",
    "                            \n",
    "        # get the features for the row\n",
    "        row_features = []\n",
    "        for feature in feature_list:\n",
    "            feature_value = df_session_features[feature].values[0]\n",
    "            row_features.extend(feature_value)\n",
    "\n",
    "        # add the row features to the output dataset\n",
    "        feature_dataset.append(row_features)\n",
    "\n",
    "    return np.array(feature_dataset)\n",
    "\n",
    "# test the function\n",
    "session_list = df_source_labels['session_id'].unique()[:3]\n",
    "level_group = '0-4'\n",
    "#feature_list = ['symbolic_score_feature', 'symbolic_score_feature']\n",
    "feature_list = ['screen_heatmap_feature']\n",
    "\n",
    "features = create_feature_dataset(df_features, df_source_labels, session_list, level_group, feature_list)\n",
    "print(features.shape)"
   ]
  },
  {
   "attachments": {},
   "cell_type": "markdown",
   "metadata": {},
   "source": [
    "## Functions for Model Training"
   ]
  },
  {
   "cell_type": "code",
   "execution_count": 21,
   "metadata": {},
   "outputs": [],
   "source": [
    "def plot_loss(history: callbacks.History, figsize: Tuple[int, int] = (5, 3)) -> None:\n",
    "    \"\"\"\n",
    "    Plot the loss and validation loss.\n",
    "\n",
    "    Parameters\n",
    "    ----------\n",
    "    history : keras.callbacks.History\n",
    "        The history of the model training.\n",
    "    \"\"\"\n",
    "    epochs = range(1, len(history.history['accuracy']) + 1)\n",
    "\n",
    "    # summarize history for loss\n",
    "    plt.figure(figsize=figsize)\n",
    "    plt.plot(epochs, history.history['loss'])\n",
    "    \n",
    "    if ('val_loss' in history.history):\n",
    "        plt.plot(epochs, history.history['val_loss'])\n",
    "        plt.legend(['Training loss', 'Validation loss'], loc='upper left')\n",
    "        plt.title('Training and validation loss')\n",
    "    else:\n",
    "        plt.title('Training loss')\n",
    "\n",
    "    plt.xlabel('Epochs')\n",
    "    plt.ylabel('Loss')\n",
    "\n",
    "    plt.show()"
   ]
  },
  {
   "cell_type": "code",
   "execution_count": 22,
   "metadata": {},
   "outputs": [],
   "source": [
    "def plot_accuracy(history: callbacks.History, figsize: Tuple[int, int] = (5, 3)) -> None:\n",
    "    \"\"\"\n",
    "    Plot the accuracy and validation accuracy.\n",
    "\n",
    "    Parameters\n",
    "    ----------\n",
    "    history : keras.callbacks.History\n",
    "        The history of the model training.\n",
    "    \"\"\"\n",
    "    epochs = range(1, len(history.history['accuracy']) + 1)\n",
    "\n",
    "    # summarize history for accuracy\n",
    "    plt.figure(figsize=figsize)\n",
    "    plt.plot(epochs, history.history['accuracy'])\n",
    "\n",
    "    if ('val_accuracy' in history.history):\n",
    "        plt.plot(epochs, history.history['val_accuracy'])\n",
    "        plt.legend(['Training acc', 'Validation acc'], loc='upper left')\n",
    "        plt.title('Training and validation accuracy')\n",
    "    else:\n",
    "        plt.title('Training accuracy')\n",
    "\n",
    "    plt.xlabel('Epochs')\n",
    "    plt.ylabel('Accuracy')\n",
    "\n",
    "    plt.show()"
   ]
  },
  {
   "cell_type": "code",
   "execution_count": 23,
   "metadata": {},
   "outputs": [],
   "source": [
    "def test_model(\n",
    "        model,\n",
    "        history: callbacks.History,\n",
    "        X_test: np.ndarray,\n",
    "        y_test: np.ndarray,\n",
    "        show_plots: bool = True) -> float:\n",
    "    \"\"\"\n",
    "    Test the model based on the test data.\n",
    "\n",
    "    Parameters\n",
    "    ----------\n",
    "    model : keras.models\n",
    "        The model to test.\n",
    "    history : keras.callbacks.History\n",
    "        The history of the training.\n",
    "    X_test : np.ndarray\n",
    "        The test data.\n",
    "    y_test : np.ndarray\n",
    "        The test labels.\n",
    "\n",
    "    Returns\n",
    "    -------\n",
    "    float\n",
    "        The optimized threshold for the best F1 score.\n",
    "    \"\"\"\n",
    "    if show_plots:\n",
    "        plot_loss(history)\n",
    "        plot_accuracy(history)\n",
    "\n",
    "    y_test_score = model.predict(X_test)\n",
    "    #threshold, _, _ = optimize_f1(y_test, y_test_score)\n",
    "    threshold = 0.5\n",
    "\n",
    "    report = classification_report(y_test, y_test_score > threshold, zero_division=1)\n",
    "    print(report)\n",
    "    print(f'Optimized threshold for best F1: {threshold:.2f}')\n",
    "\n",
    "    gc.collect()\n",
    "\n",
    "    return threshold, report"
   ]
  },
  {
   "cell_type": "code",
   "execution_count": 24,
   "metadata": {},
   "outputs": [],
   "source": [
    "def optimize_f1(y_true: np.ndarray, y_score: np.ndarray) -> Tuple[float, float, float]:\n",
    "    \"\"\"\n",
    "    Optimize the F1 score.\n",
    "\n",
    "    Parameters\n",
    "    ----------\n",
    "    y_true : np.ndarray\n",
    "        The true labels.\n",
    "    y_score : np.ndarray\n",
    "        The predicted labels.\n",
    "\n",
    "    Returns\n",
    "    -------\n",
    "    Tuple[float, float, float]\n",
    "        The optimized threshold, precision, and recall.\n",
    "    \"\"\"\n",
    "    best_f1 = 0\n",
    "    best_threshold = 0\n",
    "    best_precision = 0\n",
    "    best_recall = 0\n",
    "\n",
    "    for threshold in np.arange(0, 1, 0.01):\n",
    "        y_pred = (y_score > threshold).astype(int)\n",
    "        precision, recall, f1, _ = precision_recall_fscore_support(y_true, y_pred, average='macro', zero_division=1)\n",
    "\n",
    "        if f1 > best_f1:\n",
    "            best_f1 = f1\n",
    "            best_threshold = threshold\n",
    "            best_precision = precision\n",
    "            best_recall = recall\n",
    "\n",
    "    return best_threshold, best_precision, best_recall"
   ]
  },
  {
   "cell_type": "code",
   "execution_count": 25,
   "metadata": {},
   "outputs": [],
   "source": [
    "def train_model(\n",
    "        model,\n",
    "        X_train: np.ndarray,\n",
    "        y_train: np.ndarray,\n",
    "        X_val : np.ndarray,\n",
    "        y_val: np.ndarray,\n",
    "        epochs: int,\n",
    "        batch_size: int,\n",
    "        optimizer,\n",
    "        loss: str,\n",
    "        metrics: list,\n",
    "        class_weight: dict=None) -> callbacks.History:\n",
    "    \"\"\"\n",
    "    Train the keras model based on the parameters.\n",
    "\n",
    "    Parameters\n",
    "    ----------\n",
    "    model : keras.models\n",
    "        The model to train.\n",
    "    X_train : np.ndarray\n",
    "        The training data.\n",
    "    y_train : np.ndarray\n",
    "        The training labels.\n",
    "    X_val : np.ndarray\n",
    "        The validation data.\n",
    "    y_val : np.ndarray\n",
    "        The validation labels.\n",
    "    epochs : int\n",
    "        The number of epochs.\n",
    "    batch_size : int\n",
    "        The batch size.\n",
    "    optimizer : keras.optimizers\n",
    "        The optimizer.\n",
    "    loss : str\n",
    "        The loss function.\n",
    "    metrics : list\n",
    "        The metrics.\n",
    "    class_weight : dict, optional\n",
    "        The class weights, by default None\n",
    "    \n",
    "    Returns\n",
    "    -------\n",
    "    keras.callbacks.History\n",
    "        The history of the training.\n",
    "    \"\"\"\n",
    "    # compile the model\n",
    "    model.compile(\n",
    "        optimizer=optimizer,\n",
    "        loss=loss,\n",
    "        metrics=metrics)\n",
    "    \n",
    "    # fit the model\n",
    "    history = model.fit(\n",
    "        x=X_train,\n",
    "        y=y_train,\n",
    "        epochs=epochs,\n",
    "        batch_size=batch_size,\n",
    "        validation_data=(X_val, y_val),\n",
    "        class_weight=class_weight)\n",
    "    \n",
    "    return history"
   ]
  },
  {
   "cell_type": "code",
   "execution_count": 26,
   "metadata": {},
   "outputs": [],
   "source": [
    "def train_and_test_model(\n",
    "        model,\n",
    "        X_train: np.ndarray,\n",
    "        y_train: np.ndarray,\n",
    "        X_val : np.ndarray,\n",
    "        y_val: np.ndarray,\n",
    "        X_test: np.ndarray,\n",
    "        y_test: np.ndarray,\n",
    "        epochs: int,\n",
    "        batch_size: int,\n",
    "        optimizer,\n",
    "        loss: str,\n",
    "        metrics: list,\n",
    "        class_weight: dict=None,\n",
    "        clear_learning: bool = False,\n",
    "        show_plots: bool = True) -> float:\n",
    "    \"\"\"\n",
    "    Train and test the model.\n",
    "\n",
    "    Parameters\n",
    "    ----------\n",
    "    model : keras.models\n",
    "        The model to train and test.\n",
    "    X_train : np.ndarray\n",
    "        The training data.\n",
    "    y_train : np.ndarray\n",
    "        The training labels.\n",
    "    X_val : np.ndarray\n",
    "        The validation data.\n",
    "    y_val : np.ndarray\n",
    "        The validation labels.\n",
    "    X_test : np.ndarray\n",
    "        The test data.\n",
    "    y_test : np.ndarray\n",
    "        The test labels.\n",
    "    epochs : int\n",
    "        The number of epochs.\n",
    "    batch_size : int\n",
    "        The batch size.\n",
    "    optimizer : keras.optimizers\n",
    "        The optimizer.\n",
    "    loss : str\n",
    "        The loss function.\n",
    "    metrics : list\n",
    "        The metrics.\n",
    "    class_weight : dict, optional\n",
    "        The class weights, by default None\n",
    "\n",
    "    Returns\n",
    "    -------\n",
    "    float\n",
    "        The optimized threshold for the best F1 score.\n",
    "    \"\"\"\n",
    "    history = train_model(\n",
    "        model=model,\n",
    "        X_train=X_train,\n",
    "        y_train=y_train,\n",
    "        X_val=X_val,\n",
    "        y_val=y_val,\n",
    "        epochs=epochs,\n",
    "        batch_size=batch_size,\n",
    "        optimizer=optimizer,\n",
    "        loss=loss,\n",
    "        metrics=metrics,\n",
    "        class_weight=class_weight)\n",
    "    \n",
    "    gc.collect()\n",
    "\n",
    "    # clear the learning output if required\n",
    "    if clear_learning:\n",
    "        clear_output()\n",
    "\n",
    "    return test_model(model, history, X_test, y_test, show_plots=show_plots)"
   ]
  },
  {
   "attachments": {},
   "cell_type": "markdown",
   "metadata": {},
   "source": [
    "## Data Selection"
   ]
  },
  {
   "cell_type": "code",
   "execution_count": 27,
   "metadata": {},
   "outputs": [],
   "source": [
    "random_state = 51\n",
    "sample_size = df_source_labels['session_id'].nunique()\n",
    "#sample_size = 5000"
   ]
  },
  {
   "cell_type": "code",
   "execution_count": 28,
   "metadata": {},
   "outputs": [
    {
     "name": "stdout",
     "output_type": "stream",
     "text": [
      "Train: 7067\n",
      "Validation: 2356\n",
      "Test: 2356\n"
     ]
    }
   ],
   "source": [
    "train, val, test = select_sessions(\n",
    "    y=df_source_labels,\n",
    "    sample_size=sample_size,\n",
    "    random_state=random_state)"
   ]
  },
  {
   "cell_type": "code",
   "execution_count": 29,
   "metadata": {},
   "outputs": [
    {
     "name": "stdout",
     "output_type": "stream",
     "text": [
      "Total Number of sessions    : 11779\n",
      "Number of complete sessions : 11779\n"
     ]
    }
   ],
   "source": [
    "df_complete_sessions = df_source_labels \\\n",
    "    .groupby(['session_id', 'level_group']) \\\n",
    "    .agg({'correct': ['sum', 'count']}) \\\n",
    "    .droplevel(0, axis=1) \\\n",
    "    .reset_index() \\\n",
    "    .query(('(level_group == \"0-4\" and count == 3) or'\n",
    "            '(level_group == \"5-12\" and count == 10) or'\n",
    "            '(level_group == \"13-22\" and count == 5)')) \\\n",
    "    .assign(score=lambda df: df['sum'] / df['count'])\n",
    "\n",
    "print(f'Total Number of sessions    : {df_source_labels.session_id.nunique()}')\n",
    "print(f'Number of complete sessions : {df_complete_sessions.session_id.nunique()}')\n",
    "#display(df_complete_sessions.head(6))"
   ]
  },
  {
   "attachments": {},
   "cell_type": "markdown",
   "metadata": {},
   "source": [
    "## Predict Good Students"
   ]
  },
  {
   "attachments": {},
   "cell_type": "markdown",
   "metadata": {},
   "source": [
    "### Create Datasets"
   ]
  },
  {
   "cell_type": "code",
   "execution_count": 30,
   "metadata": {},
   "outputs": [
    {
     "name": "stdout",
     "output_type": "stream",
     "text": [
      "Creating train dataset for level group 0-4...\n"
     ]
    },
    {
     "data": {
      "application/vnd.jupyter.widget-view+json": {
       "model_id": "f64ed4ce1251434aa1b9689d5582e9a1",
       "version_major": 2,
       "version_minor": 0
      },
      "text/plain": [
       "0it [00:00, ?it/s]"
      ]
     },
     "metadata": {},
     "output_type": "display_data"
    },
    {
     "name": "stdout",
     "output_type": "stream",
     "text": [
      "Creating train dataset for level group 5-12...\n"
     ]
    },
    {
     "data": {
      "application/vnd.jupyter.widget-view+json": {
       "model_id": "0941807637914293ac04c39fece85df5",
       "version_major": 2,
       "version_minor": 0
      },
      "text/plain": [
       "0it [00:00, ?it/s]"
      ]
     },
     "metadata": {},
     "output_type": "display_data"
    },
    {
     "name": "stdout",
     "output_type": "stream",
     "text": [
      "Creating train dataset for level group 13-22...\n"
     ]
    },
    {
     "data": {
      "application/vnd.jupyter.widget-view+json": {
       "model_id": "e6cbe055fec841ae8133cec9a7985cd5",
       "version_major": 2,
       "version_minor": 0
      },
      "text/plain": [
       "0it [00:00, ?it/s]"
      ]
     },
     "metadata": {},
     "output_type": "display_data"
    },
    {
     "name": "stdout",
     "output_type": "stream",
     "text": [
      "Creating val dataset for level group 0-4...\n"
     ]
    },
    {
     "data": {
      "application/vnd.jupyter.widget-view+json": {
       "model_id": "f83c08c8f4c540039779db994d5e7cce",
       "version_major": 2,
       "version_minor": 0
      },
      "text/plain": [
       "0it [00:00, ?it/s]"
      ]
     },
     "metadata": {},
     "output_type": "display_data"
    },
    {
     "name": "stdout",
     "output_type": "stream",
     "text": [
      "Creating val dataset for level group 5-12...\n"
     ]
    },
    {
     "data": {
      "application/vnd.jupyter.widget-view+json": {
       "model_id": "36444bcf8b944380946bcd5b8c773405",
       "version_major": 2,
       "version_minor": 0
      },
      "text/plain": [
       "0it [00:00, ?it/s]"
      ]
     },
     "metadata": {},
     "output_type": "display_data"
    },
    {
     "name": "stdout",
     "output_type": "stream",
     "text": [
      "Creating val dataset for level group 13-22...\n"
     ]
    },
    {
     "data": {
      "application/vnd.jupyter.widget-view+json": {
       "model_id": "f909a00118c1401e8396c5410c0965d4",
       "version_major": 2,
       "version_minor": 0
      },
      "text/plain": [
       "0it [00:00, ?it/s]"
      ]
     },
     "metadata": {},
     "output_type": "display_data"
    },
    {
     "name": "stdout",
     "output_type": "stream",
     "text": [
      "Creating test dataset for level group 0-4...\n"
     ]
    },
    {
     "data": {
      "application/vnd.jupyter.widget-view+json": {
       "model_id": "26e56e9a112f42cfadf4a8e5dc43c55a",
       "version_major": 2,
       "version_minor": 0
      },
      "text/plain": [
       "0it [00:00, ?it/s]"
      ]
     },
     "metadata": {},
     "output_type": "display_data"
    },
    {
     "name": "stdout",
     "output_type": "stream",
     "text": [
      "Creating test dataset for level group 5-12...\n"
     ]
    },
    {
     "data": {
      "application/vnd.jupyter.widget-view+json": {
       "model_id": "d9dfe8a5a0ed42d289f4ed4577f7e407",
       "version_major": 2,
       "version_minor": 0
      },
      "text/plain": [
       "0it [00:00, ?it/s]"
      ]
     },
     "metadata": {},
     "output_type": "display_data"
    },
    {
     "name": "stdout",
     "output_type": "stream",
     "text": [
      "Creating test dataset for level group 13-22...\n"
     ]
    },
    {
     "data": {
      "application/vnd.jupyter.widget-view+json": {
       "model_id": "a556357b3cbc44e9b91317c3a978fe4c",
       "version_major": 2,
       "version_minor": 0
      },
      "text/plain": [
       "0it [00:00, ?it/s]"
      ]
     },
     "metadata": {},
     "output_type": "display_data"
    }
   ],
   "source": [
    "good_student_features = {}\n",
    "\n",
    "# create datasets for each level group\n",
    "for session_list, name in [(train, 'train'), (val, 'val'), (test, 'test')]:\n",
    "    good_student_features[name] = {}\n",
    "    \n",
    "    for level_group in ['0-4', '5-12', '13-22']:\n",
    "        print(f'Creating {name} dataset for level group {level_group}...')\n",
    "\n",
    "        good_student_features[name][level_group] = create_feature_dataset(\n",
    "            df_features=df_features,\n",
    "            df_source_labels=df_source_labels,\n",
    "            session_list=session_list,\n",
    "            level_group=level_group,\n",
    "            feature_list=['screen_heatmap_feature'])"
   ]
  },
  {
   "cell_type": "code",
   "execution_count": 31,
   "metadata": {},
   "outputs": [
    {
     "name": "stdout",
     "output_type": "stream",
     "text": [
      "Creating train dataset for level group 0-4...\n"
     ]
    },
    {
     "data": {
      "application/vnd.jupyter.widget-view+json": {
       "model_id": "ccc8cc68f71e463f98f5de8e843042e8",
       "version_major": 2,
       "version_minor": 0
      },
      "text/plain": [
       "0it [00:00, ?it/s]"
      ]
     },
     "metadata": {},
     "output_type": "display_data"
    },
    {
     "name": "stdout",
     "output_type": "stream",
     "text": [
      "Creating train dataset for level group 5-12...\n"
     ]
    },
    {
     "data": {
      "application/vnd.jupyter.widget-view+json": {
       "model_id": "3b503871533e429a9e6e118750a2c951",
       "version_major": 2,
       "version_minor": 0
      },
      "text/plain": [
       "0it [00:00, ?it/s]"
      ]
     },
     "metadata": {},
     "output_type": "display_data"
    },
    {
     "name": "stdout",
     "output_type": "stream",
     "text": [
      "Creating train dataset for level group 13-22...\n"
     ]
    },
    {
     "data": {
      "application/vnd.jupyter.widget-view+json": {
       "model_id": "edf8084e4a784f04802e95ccafe5cd23",
       "version_major": 2,
       "version_minor": 0
      },
      "text/plain": [
       "0it [00:00, ?it/s]"
      ]
     },
     "metadata": {},
     "output_type": "display_data"
    },
    {
     "name": "stdout",
     "output_type": "stream",
     "text": [
      "Creating val dataset for level group 0-4...\n"
     ]
    },
    {
     "data": {
      "application/vnd.jupyter.widget-view+json": {
       "model_id": "5ba4d0f361df4ed7a6b601e49ec0e9a4",
       "version_major": 2,
       "version_minor": 0
      },
      "text/plain": [
       "0it [00:00, ?it/s]"
      ]
     },
     "metadata": {},
     "output_type": "display_data"
    },
    {
     "name": "stdout",
     "output_type": "stream",
     "text": [
      "Creating val dataset for level group 5-12...\n"
     ]
    },
    {
     "data": {
      "application/vnd.jupyter.widget-view+json": {
       "model_id": "a3e5c5dc34404d9ca9c97ade20a893c9",
       "version_major": 2,
       "version_minor": 0
      },
      "text/plain": [
       "0it [00:00, ?it/s]"
      ]
     },
     "metadata": {},
     "output_type": "display_data"
    },
    {
     "name": "stdout",
     "output_type": "stream",
     "text": [
      "Creating val dataset for level group 13-22...\n"
     ]
    },
    {
     "data": {
      "application/vnd.jupyter.widget-view+json": {
       "model_id": "eddac22e460048cf80d790bc5d05c869",
       "version_major": 2,
       "version_minor": 0
      },
      "text/plain": [
       "0it [00:00, ?it/s]"
      ]
     },
     "metadata": {},
     "output_type": "display_data"
    },
    {
     "name": "stdout",
     "output_type": "stream",
     "text": [
      "Creating test dataset for level group 0-4...\n"
     ]
    },
    {
     "data": {
      "application/vnd.jupyter.widget-view+json": {
       "model_id": "c3f2f3ec948d47b59900af1a2ab17a29",
       "version_major": 2,
       "version_minor": 0
      },
      "text/plain": [
       "0it [00:00, ?it/s]"
      ]
     },
     "metadata": {},
     "output_type": "display_data"
    },
    {
     "name": "stdout",
     "output_type": "stream",
     "text": [
      "Creating test dataset for level group 5-12...\n"
     ]
    },
    {
     "data": {
      "application/vnd.jupyter.widget-view+json": {
       "model_id": "aadb99f18a4c447ab369629b4b87814b",
       "version_major": 2,
       "version_minor": 0
      },
      "text/plain": [
       "0it [00:00, ?it/s]"
      ]
     },
     "metadata": {},
     "output_type": "display_data"
    },
    {
     "name": "stdout",
     "output_type": "stream",
     "text": [
      "Creating test dataset for level group 13-22...\n"
     ]
    },
    {
     "data": {
      "application/vnd.jupyter.widget-view+json": {
       "model_id": "8edd4f26d9354ff6af50830c21ad892d",
       "version_major": 2,
       "version_minor": 0
      },
      "text/plain": [
       "0it [00:00, ?it/s]"
      ]
     },
     "metadata": {},
     "output_type": "display_data"
    }
   ],
   "source": [
    "good_student_target = {}\n",
    "\n",
    "# create datasets for each level group\n",
    "for session_list, name in [(train, 'train'), (val, 'val'), (test, 'test')]:\n",
    "    good_student_target[name] = {}\n",
    "    \n",
    "    for level_group in ['0-4', '5-12', '13-22']:\n",
    "        print(f'Creating {name} dataset for level group {level_group}...')\n",
    "\n",
    "        good_student_target[name][level_group] = create_feature_dataset(\n",
    "            df_features=df_features,\n",
    "            df_source_labels=df_source_labels,\n",
    "            session_list=session_list,\n",
    "            level_group=level_group,\n",
    "            feature_list=['symbolic_score_feature'])"
   ]
  },
  {
   "attachments": {},
   "cell_type": "markdown",
   "metadata": {},
   "source": [
    "### Create Model"
   ]
  },
  {
   "cell_type": "code",
   "execution_count": 32,
   "metadata": {},
   "outputs": [],
   "source": [
    "level_group = '5-12'"
   ]
  },
  {
   "cell_type": "code",
   "execution_count": 40,
   "metadata": {},
   "outputs": [
    {
     "name": "stdout",
     "output_type": "stream",
     "text": [
      "WARNING:tensorflow:Layer lstm_2 will not use cuDNN kernels since it doesn't meet the criteria. It will use a generic GPU kernel as fallback when running on GPU.\n",
      "Model: \"sequential_3\"\n",
      "_________________________________________________________________\n",
      " Layer (type)                Output Shape              Param #   \n",
      "=================================================================\n",
      " conv2d_4 (Conv2D)           (None, 6, 3, 32)          1472      \n",
      "                                                                 \n",
      " max_pooling2d_3 (MaxPooling  (None, 3, 1, 32)         0         \n",
      " 2D)                                                             \n",
      "                                                                 \n",
      " reshape_2 (Reshape)         (None, 8, 12)             0         \n",
      "                                                                 \n",
      " lstm_2 (LSTM)               (None, 64)                19712     \n",
      "                                                                 \n",
      " dense_4 (Dense)             (None, 32)                2080      \n",
      "                                                                 \n",
      " dropout_2 (Dropout)         (None, 32)                0         \n",
      "                                                                 \n",
      " dense_5 (Dense)             (None, 3)                 99        \n",
      "                                                                 \n",
      "=================================================================\n",
      "Total params: 23,363\n",
      "Trainable params: 23,363\n",
      "Non-trainable params: 0\n",
      "_________________________________________________________________\n",
      "None\n"
     ]
    }
   ],
   "source": [
    "def get_lstm_model(input_shape: tuple, output_shape:int) -> keras.models:\n",
    "    model = Sequential()\n",
    "\n",
    "    # Add a Convolutional Neural Network (CNN)\n",
    "    model.add(Conv2D(32, kernel_size=(3, 3), activation='relu', input_shape=input_shape, kernel_regularizer=regularizers.l2(0.01)))\n",
    "    model.add(MaxPooling2D(pool_size=(2, 2)))\n",
    "    # model.add(Conv2D(64, kernel_size=(3, 3), activation='relu', kernel_regularizer=regularizers.l2(0.01)))\n",
    "    # model.add(Flatten())\n",
    "\n",
    "    model.add(Reshape((input_shape[0], -1))) # reshape the output of the Flatten layer to (batch_size, time_steps, input_dim)\n",
    "    model.add(LSTM(64, dropout=0.2, recurrent_dropout=0.2))    \n",
    "\n",
    "    model.add(Dense(32, activation='sigmoid'))\n",
    "    model.add(Dropout(0.25))\n",
    "\n",
    "    # Add a dense layer for output\n",
    "    model.add(Dense(output_shape, activation='sigmoid'))\n",
    "    \n",
    "    return model\n",
    "\n",
    "# define the input shape\n",
    "input_data = good_student_features['train'][level_group]\n",
    "input_shape = (input_data.shape[1], input_data.shape[2], input_data.shape[3])\n",
    "\n",
    "# define the output shape\n",
    "output_data = good_student_target['train'][level_group]\n",
    "output_shape = output_data.shape[1]\n",
    "\n",
    "# get the model\n",
    "model = get_lstm_model(input_shape=input_shape, output_shape=output_shape)\n",
    "print(model.summary())"
   ]
  },
  {
   "cell_type": "code",
   "execution_count": 41,
   "metadata": {},
   "outputs": [],
   "source": [
    "def get_flat_model(input_shape: tuple, output_shape:int) -> keras.models:\n",
    "    model = Sequential()\n",
    "    model.add(Dense(16, activation='relu', input_shape=input_shape, kernel_regularizer=regularizers.l2(0.01)))\n",
    "    model.add(Flatten())\n",
    "    model.add(Dropout(0.4))\n",
    "    model.add(Dense(16, activation='relu', input_shape=input_shape, kernel_regularizer=regularizers.l2(0.01)))\n",
    "    model.add(Dropout(0.4))\n",
    "    model.add(Dense(256, activation='relu', input_shape=input_shape, kernel_regularizer=regularizers.l2(0.01)))\n",
    "    \n",
    " \n",
    "\n",
    "    # Add a dense layer for output\n",
    "    model.add(Dense(output_shape, activation='sigmoid'))\n",
    "    \n",
    "    return model\n",
    "\n",
    "# get the model\n",
    "#model = get_flat_model(input_shape=input_shape, output_shape=output_shape)\n",
    "#print(model.summary())"
   ]
  },
  {
   "cell_type": "code",
   "execution_count": 42,
   "metadata": {},
   "outputs": [
    {
     "name": "stdout",
     "output_type": "stream",
     "text": [
      "Epoch 1/100\n",
      "707/707 [==============================] - 13s 16ms/step - loss: 0.8969 - accuracy: 0.2647 - val_loss: 0.8118 - val_accuracy: 0.3107\n",
      "Epoch 2/100\n",
      "707/707 [==============================] - 11s 16ms/step - loss: 0.8054 - accuracy: 0.2755 - val_loss: 0.7327 - val_accuracy: 0.3145\n",
      "Epoch 3/100\n",
      "707/707 [==============================] - 11s 16ms/step - loss: 0.7424 - accuracy: 0.3375 - val_loss: 0.6888 - val_accuracy: 0.4970\n",
      "Epoch 4/100\n",
      "707/707 [==============================] - 11s 16ms/step - loss: 0.7037 - accuracy: 0.4251 - val_loss: 0.6699 - val_accuracy: 0.5064\n",
      "Epoch 5/100\n",
      "707/707 [==============================] - 11s 16ms/step - loss: 0.6853 - accuracy: 0.4735 - val_loss: 0.6621 - val_accuracy: 0.5064\n",
      "Epoch 6/100\n",
      "707/707 [==============================] - 11s 16ms/step - loss: 0.6754 - accuracy: 0.4903 - val_loss: 0.6571 - val_accuracy: 0.5064\n",
      "Epoch 7/100\n",
      "707/707 [==============================] - 11s 16ms/step - loss: 0.6695 - accuracy: 0.4967 - val_loss: 0.6529 - val_accuracy: 0.5064\n",
      "Epoch 8/100\n",
      "707/707 [==============================] - 11s 16ms/step - loss: 0.6644 - accuracy: 0.5007 - val_loss: 0.6489 - val_accuracy: 0.5064\n",
      "Epoch 9/100\n",
      "707/707 [==============================] - 11s 16ms/step - loss: 0.6597 - accuracy: 0.5017 - val_loss: 0.6451 - val_accuracy: 0.5064\n",
      "Epoch 10/100\n",
      "707/707 [==============================] - 11s 16ms/step - loss: 0.6558 - accuracy: 0.5037 - val_loss: 0.6415 - val_accuracy: 0.5064\n",
      "Epoch 11/100\n",
      "707/707 [==============================] - 11s 16ms/step - loss: 0.6514 - accuracy: 0.5047 - val_loss: 0.6382 - val_accuracy: 0.5064\n",
      "Epoch 12/100\n",
      "707/707 [==============================] - 11s 16ms/step - loss: 0.6475 - accuracy: 0.5060 - val_loss: 0.6350 - val_accuracy: 0.5064\n",
      "Epoch 13/100\n",
      "707/707 [==============================] - 11s 16ms/step - loss: 0.6446 - accuracy: 0.5067 - val_loss: 0.6320 - val_accuracy: 0.5064\n",
      "Epoch 14/100\n",
      "707/707 [==============================] - 11s 16ms/step - loss: 0.6415 - accuracy: 0.5073 - val_loss: 0.6293 - val_accuracy: 0.5064\n",
      "Epoch 15/100\n",
      "707/707 [==============================] - 11s 16ms/step - loss: 0.6380 - accuracy: 0.5094 - val_loss: 0.6266 - val_accuracy: 0.5064\n",
      "Epoch 16/100\n",
      "707/707 [==============================] - 11s 16ms/step - loss: 0.6352 - accuracy: 0.5080 - val_loss: 0.6241 - val_accuracy: 0.5064\n",
      "Epoch 17/100\n",
      "707/707 [==============================] - 11s 16ms/step - loss: 0.6322 - accuracy: 0.5098 - val_loss: 0.6219 - val_accuracy: 0.5064\n",
      "Epoch 18/100\n",
      "707/707 [==============================] - 11s 16ms/step - loss: 0.6293 - accuracy: 0.5112 - val_loss: 0.6197 - val_accuracy: 0.5064\n",
      "Epoch 19/100\n",
      "707/707 [==============================] - 11s 16ms/step - loss: 0.6271 - accuracy: 0.5109 - val_loss: 0.6176 - val_accuracy: 0.5064\n",
      "Epoch 20/100\n",
      "707/707 [==============================] - 11s 16ms/step - loss: 0.6253 - accuracy: 0.5101 - val_loss: 0.6156 - val_accuracy: 0.5064\n",
      "Epoch 21/100\n",
      "707/707 [==============================] - 11s 16ms/step - loss: 0.6226 - accuracy: 0.5111 - val_loss: 0.6139 - val_accuracy: 0.5064\n",
      "Epoch 22/100\n",
      "707/707 [==============================] - 11s 16ms/step - loss: 0.6212 - accuracy: 0.5128 - val_loss: 0.6122 - val_accuracy: 0.5064\n",
      "Epoch 23/100\n",
      "707/707 [==============================] - 11s 16ms/step - loss: 0.6193 - accuracy: 0.5135 - val_loss: 0.6106 - val_accuracy: 0.5064\n",
      "Epoch 24/100\n",
      "707/707 [==============================] - 11s 16ms/step - loss: 0.6169 - accuracy: 0.5142 - val_loss: 0.6091 - val_accuracy: 0.5064\n",
      "Epoch 25/100\n",
      "707/707 [==============================] - 11s 16ms/step - loss: 0.6162 - accuracy: 0.5135 - val_loss: 0.6077 - val_accuracy: 0.5064\n",
      "Epoch 26/100\n",
      "707/707 [==============================] - 11s 16ms/step - loss: 0.6139 - accuracy: 0.5145 - val_loss: 0.6064 - val_accuracy: 0.5064\n",
      "Epoch 27/100\n",
      "707/707 [==============================] - 11s 16ms/step - loss: 0.6127 - accuracy: 0.5141 - val_loss: 0.6050 - val_accuracy: 0.5064\n",
      "Epoch 28/100\n",
      "707/707 [==============================] - 11s 15ms/step - loss: 0.6104 - accuracy: 0.5153 - val_loss: 0.6037 - val_accuracy: 0.5064\n",
      "Epoch 29/100\n",
      "707/707 [==============================] - 11s 16ms/step - loss: 0.6091 - accuracy: 0.5157 - val_loss: 0.6026 - val_accuracy: 0.5068\n",
      "Epoch 30/100\n",
      "707/707 [==============================] - 11s 16ms/step - loss: 0.6073 - accuracy: 0.5166 - val_loss: 0.6014 - val_accuracy: 0.5072\n",
      "Epoch 31/100\n",
      "707/707 [==============================] - 11s 16ms/step - loss: 0.6056 - accuracy: 0.5177 - val_loss: 0.6001 - val_accuracy: 0.5076\n",
      "Epoch 32/100\n",
      "707/707 [==============================] - 11s 16ms/step - loss: 0.6044 - accuracy: 0.5179 - val_loss: 0.5989 - val_accuracy: 0.5085\n",
      "Epoch 33/100\n",
      "707/707 [==============================] - 11s 16ms/step - loss: 0.6029 - accuracy: 0.5179 - val_loss: 0.5980 - val_accuracy: 0.5098\n",
      "Epoch 34/100\n",
      "707/707 [==============================] - 11s 16ms/step - loss: 0.6025 - accuracy: 0.5187 - val_loss: 0.5969 - val_accuracy: 0.5106\n",
      "Epoch 35/100\n",
      "707/707 [==============================] - 11s 16ms/step - loss: 0.6012 - accuracy: 0.5188 - val_loss: 0.5958 - val_accuracy: 0.5115\n",
      "Epoch 36/100\n",
      "707/707 [==============================] - 11s 16ms/step - loss: 0.5997 - accuracy: 0.5211 - val_loss: 0.5949 - val_accuracy: 0.5166\n",
      "Epoch 37/100\n",
      "707/707 [==============================] - 11s 16ms/step - loss: 0.5989 - accuracy: 0.5199 - val_loss: 0.5938 - val_accuracy: 0.5166\n",
      "Epoch 38/100\n",
      "707/707 [==============================] - 11s 16ms/step - loss: 0.5976 - accuracy: 0.5197 - val_loss: 0.5931 - val_accuracy: 0.5149\n",
      "Epoch 39/100\n",
      "707/707 [==============================] - 11s 16ms/step - loss: 0.5967 - accuracy: 0.5214 - val_loss: 0.5924 - val_accuracy: 0.5157\n",
      "Epoch 40/100\n",
      "707/707 [==============================] - 11s 16ms/step - loss: 0.5955 - accuracy: 0.5206 - val_loss: 0.5915 - val_accuracy: 0.5161\n",
      "Epoch 41/100\n",
      "707/707 [==============================] - 11s 16ms/step - loss: 0.5945 - accuracy: 0.5237 - val_loss: 0.5911 - val_accuracy: 0.5166\n",
      "Epoch 42/100\n",
      "707/707 [==============================] - 11s 16ms/step - loss: 0.5936 - accuracy: 0.5244 - val_loss: 0.5902 - val_accuracy: 0.5204\n",
      "Epoch 43/100\n",
      "707/707 [==============================] - 11s 16ms/step - loss: 0.5928 - accuracy: 0.5256 - val_loss: 0.5896 - val_accuracy: 0.5212\n",
      "Epoch 44/100\n",
      "707/707 [==============================] - 11s 16ms/step - loss: 0.5923 - accuracy: 0.5258 - val_loss: 0.5892 - val_accuracy: 0.5204\n",
      "Epoch 45/100\n",
      "707/707 [==============================] - 11s 16ms/step - loss: 0.5908 - accuracy: 0.5267 - val_loss: 0.5887 - val_accuracy: 0.5208\n",
      "Epoch 46/100\n",
      "707/707 [==============================] - 11s 16ms/step - loss: 0.5897 - accuracy: 0.5278 - val_loss: 0.5882 - val_accuracy: 0.5225\n",
      "Epoch 47/100\n",
      "707/707 [==============================] - 11s 16ms/step - loss: 0.5896 - accuracy: 0.5275 - val_loss: 0.5881 - val_accuracy: 0.5225\n",
      "Epoch 48/100\n",
      "707/707 [==============================] - 11s 16ms/step - loss: 0.5887 - accuracy: 0.5302 - val_loss: 0.5872 - val_accuracy: 0.5225\n",
      "Epoch 49/100\n",
      "707/707 [==============================] - 11s 16ms/step - loss: 0.5880 - accuracy: 0.5289 - val_loss: 0.5869 - val_accuracy: 0.5242\n",
      "Epoch 50/100\n",
      "707/707 [==============================] - 11s 16ms/step - loss: 0.5868 - accuracy: 0.5315 - val_loss: 0.5866 - val_accuracy: 0.5225\n",
      "Epoch 51/100\n",
      "707/707 [==============================] - 11s 16ms/step - loss: 0.5864 - accuracy: 0.5307 - val_loss: 0.5861 - val_accuracy: 0.5263\n",
      "Epoch 52/100\n",
      "707/707 [==============================] - 11s 16ms/step - loss: 0.5856 - accuracy: 0.5314 - val_loss: 0.5856 - val_accuracy: 0.5276\n",
      "Epoch 53/100\n",
      "707/707 [==============================] - 11s 16ms/step - loss: 0.5852 - accuracy: 0.5310 - val_loss: 0.5855 - val_accuracy: 0.5276\n",
      "Epoch 54/100\n",
      "707/707 [==============================] - 11s 16ms/step - loss: 0.5842 - accuracy: 0.5326 - val_loss: 0.5849 - val_accuracy: 0.5297\n",
      "Epoch 55/100\n",
      "707/707 [==============================] - 11s 16ms/step - loss: 0.5835 - accuracy: 0.5322 - val_loss: 0.5846 - val_accuracy: 0.5280\n",
      "Epoch 56/100\n",
      "707/707 [==============================] - 11s 16ms/step - loss: 0.5834 - accuracy: 0.5336 - val_loss: 0.5843 - val_accuracy: 0.5306\n",
      "Epoch 57/100\n",
      "707/707 [==============================] - 11s 16ms/step - loss: 0.5821 - accuracy: 0.5341 - val_loss: 0.5839 - val_accuracy: 0.5293\n",
      "Epoch 58/100\n",
      "707/707 [==============================] - 11s 16ms/step - loss: 0.5809 - accuracy: 0.5374 - val_loss: 0.5840 - val_accuracy: 0.5323\n",
      "Epoch 59/100\n",
      "707/707 [==============================] - 11s 16ms/step - loss: 0.5804 - accuracy: 0.5364 - val_loss: 0.5837 - val_accuracy: 0.5318\n",
      "Epoch 60/100\n",
      "707/707 [==============================] - 11s 16ms/step - loss: 0.5806 - accuracy: 0.5362 - val_loss: 0.5832 - val_accuracy: 0.5301\n",
      "Epoch 61/100\n",
      "707/707 [==============================] - 11s 16ms/step - loss: 0.5794 - accuracy: 0.5367 - val_loss: 0.5829 - val_accuracy: 0.5297\n",
      "Epoch 62/100\n",
      "707/707 [==============================] - 11s 16ms/step - loss: 0.5787 - accuracy: 0.5372 - val_loss: 0.5828 - val_accuracy: 0.5293\n",
      "Epoch 63/100\n",
      "707/707 [==============================] - 11s 16ms/step - loss: 0.5788 - accuracy: 0.5393 - val_loss: 0.5823 - val_accuracy: 0.5280\n",
      "Epoch 64/100\n",
      "707/707 [==============================] - 11s 16ms/step - loss: 0.5775 - accuracy: 0.5402 - val_loss: 0.5826 - val_accuracy: 0.5289\n",
      "Epoch 65/100\n",
      "707/707 [==============================] - 11s 16ms/step - loss: 0.5769 - accuracy: 0.5404 - val_loss: 0.5823 - val_accuracy: 0.5280\n",
      "Epoch 66/100\n",
      "707/707 [==============================] - 11s 16ms/step - loss: 0.5766 - accuracy: 0.5402 - val_loss: 0.5816 - val_accuracy: 0.5267\n",
      "Epoch 67/100\n",
      "707/707 [==============================] - 11s 16ms/step - loss: 0.5760 - accuracy: 0.5411 - val_loss: 0.5820 - val_accuracy: 0.5284\n",
      "Epoch 68/100\n",
      "707/707 [==============================] - 11s 16ms/step - loss: 0.5754 - accuracy: 0.5417 - val_loss: 0.5820 - val_accuracy: 0.5284\n",
      "Epoch 69/100\n",
      "707/707 [==============================] - 11s 16ms/step - loss: 0.5747 - accuracy: 0.5437 - val_loss: 0.5817 - val_accuracy: 0.5280\n",
      "Epoch 70/100\n",
      "707/707 [==============================] - 11s 16ms/step - loss: 0.5736 - accuracy: 0.5429 - val_loss: 0.5817 - val_accuracy: 0.5272\n",
      "Epoch 71/100\n",
      "707/707 [==============================] - 11s 16ms/step - loss: 0.5731 - accuracy: 0.5455 - val_loss: 0.5814 - val_accuracy: 0.5276\n",
      "Epoch 72/100\n",
      "707/707 [==============================] - 11s 16ms/step - loss: 0.5729 - accuracy: 0.5445 - val_loss: 0.5807 - val_accuracy: 0.5255\n",
      "Epoch 73/100\n",
      "707/707 [==============================] - 11s 16ms/step - loss: 0.5722 - accuracy: 0.5467 - val_loss: 0.5808 - val_accuracy: 0.5263\n",
      "Epoch 74/100\n",
      "707/707 [==============================] - 11s 16ms/step - loss: 0.5714 - accuracy: 0.5496 - val_loss: 0.5812 - val_accuracy: 0.5280\n",
      "Epoch 75/100\n",
      "707/707 [==============================] - 11s 16ms/step - loss: 0.5703 - accuracy: 0.5498 - val_loss: 0.5811 - val_accuracy: 0.5255\n",
      "Epoch 76/100\n",
      "707/707 [==============================] - 11s 16ms/step - loss: 0.5699 - accuracy: 0.5495 - val_loss: 0.5803 - val_accuracy: 0.5306\n",
      "Epoch 77/100\n",
      "707/707 [==============================] - 11s 16ms/step - loss: 0.5695 - accuracy: 0.5508 - val_loss: 0.5803 - val_accuracy: 0.5293\n",
      "Epoch 78/100\n",
      "707/707 [==============================] - 11s 16ms/step - loss: 0.5685 - accuracy: 0.5517 - val_loss: 0.5810 - val_accuracy: 0.5276\n",
      "Epoch 79/100\n",
      "707/707 [==============================] - 11s 16ms/step - loss: 0.5682 - accuracy: 0.5533 - val_loss: 0.5806 - val_accuracy: 0.5289\n",
      "Epoch 80/100\n",
      "707/707 [==============================] - 11s 16ms/step - loss: 0.5670 - accuracy: 0.5528 - val_loss: 0.5804 - val_accuracy: 0.5314\n",
      "Epoch 81/100\n",
      "707/707 [==============================] - 11s 16ms/step - loss: 0.5665 - accuracy: 0.5548 - val_loss: 0.5807 - val_accuracy: 0.5310\n",
      "Epoch 82/100\n",
      "707/707 [==============================] - 11s 16ms/step - loss: 0.5665 - accuracy: 0.5532 - val_loss: 0.5806 - val_accuracy: 0.5306\n",
      "Epoch 83/100\n",
      "707/707 [==============================] - 11s 16ms/step - loss: 0.5658 - accuracy: 0.5550 - val_loss: 0.5802 - val_accuracy: 0.5310\n",
      "Epoch 84/100\n",
      "707/707 [==============================] - 11s 16ms/step - loss: 0.5655 - accuracy: 0.5569 - val_loss: 0.5798 - val_accuracy: 0.5314\n",
      "Epoch 85/100\n",
      "707/707 [==============================] - 11s 16ms/step - loss: 0.5642 - accuracy: 0.5567 - val_loss: 0.5798 - val_accuracy: 0.5310\n",
      "Epoch 86/100\n",
      "707/707 [==============================] - 11s 16ms/step - loss: 0.5632 - accuracy: 0.5577 - val_loss: 0.5805 - val_accuracy: 0.5301\n",
      "Epoch 87/100\n",
      "707/707 [==============================] - 11s 16ms/step - loss: 0.5636 - accuracy: 0.5600 - val_loss: 0.5805 - val_accuracy: 0.5318\n",
      "Epoch 88/100\n",
      "707/707 [==============================] - 11s 16ms/step - loss: 0.5616 - accuracy: 0.5612 - val_loss: 0.5806 - val_accuracy: 0.5306\n",
      "Epoch 89/100\n",
      "707/707 [==============================] - 11s 16ms/step - loss: 0.5612 - accuracy: 0.5613 - val_loss: 0.5807 - val_accuracy: 0.5310\n",
      "Epoch 90/100\n",
      "707/707 [==============================] - 11s 16ms/step - loss: 0.5605 - accuracy: 0.5632 - val_loss: 0.5810 - val_accuracy: 0.5327\n",
      "Epoch 91/100\n",
      "707/707 [==============================] - 11s 16ms/step - loss: 0.5601 - accuracy: 0.5625 - val_loss: 0.5805 - val_accuracy: 0.5344\n",
      "Epoch 92/100\n",
      "707/707 [==============================] - 11s 16ms/step - loss: 0.5602 - accuracy: 0.5654 - val_loss: 0.5817 - val_accuracy: 0.5365\n",
      "Epoch 93/100\n",
      "707/707 [==============================] - 11s 16ms/step - loss: 0.5590 - accuracy: 0.5668 - val_loss: 0.5816 - val_accuracy: 0.5374\n",
      "Epoch 94/100\n",
      "707/707 [==============================] - 11s 16ms/step - loss: 0.5583 - accuracy: 0.5662 - val_loss: 0.5817 - val_accuracy: 0.5386\n",
      "Epoch 95/100\n",
      "707/707 [==============================] - 11s 16ms/step - loss: 0.5571 - accuracy: 0.5672 - val_loss: 0.5817 - val_accuracy: 0.5374\n",
      "Epoch 96/100\n",
      "707/707 [==============================] - 11s 16ms/step - loss: 0.5569 - accuracy: 0.5677 - val_loss: 0.5824 - val_accuracy: 0.5378\n",
      "Epoch 97/100\n",
      "707/707 [==============================] - 11s 16ms/step - loss: 0.5566 - accuracy: 0.5684 - val_loss: 0.5823 - val_accuracy: 0.5382\n",
      "Epoch 98/100\n",
      "707/707 [==============================] - 11s 16ms/step - loss: 0.5553 - accuracy: 0.5709 - val_loss: 0.5833 - val_accuracy: 0.5399\n",
      "Epoch 99/100\n",
      "707/707 [==============================] - 11s 16ms/step - loss: 0.5550 - accuracy: 0.5719 - val_loss: 0.5830 - val_accuracy: 0.5382\n",
      "Epoch 100/100\n",
      "707/707 [==============================] - 11s 16ms/step - loss: 0.5544 - accuracy: 0.5738 - val_loss: 0.5836 - val_accuracy: 0.5374\n"
     ]
    },
    {
     "data": {
      "image/png": "[encoded data removed]",
      "text/plain": [
       "<Figure size 500x300 with 1 Axes>"
      ]
     },
     "metadata": {},
     "output_type": "display_data"
    },
    {
     "data": {
      "image/png": "[encoded data removed]",
      "text/plain": [
       "<Figure size 500x300 with 1 Axes>"
      ]
     },
     "metadata": {},
     "output_type": "display_data"
    },
    {
     "name": "stdout",
     "output_type": "stream",
     "text": [
      "737/737 [==============================] - 2s 3ms/step\n",
      "              precision    recall  f1-score   support\n",
      "\n",
      "           0       1.00      0.00      0.00      4560\n",
      "           1       0.55      0.80      0.65     11930\n",
      "           2       0.57      0.29      0.39      7070\n",
      "\n",
      "   micro avg       0.55      0.49      0.52     23560\n",
      "   macro avg       0.71      0.36      0.35     23560\n",
      "weighted avg       0.64      0.49      0.45     23560\n",
      " samples avg       0.60      0.49      0.49     23560\n",
      "\n",
      "Optimized threshold for best F1: 0.50\n"
     ]
    }
   ],
   "source": [
    "_, _ = train_and_test_model(\n",
    "    model=model,\n",
    "    X_train=good_student_features['train'][level_group],\n",
    "    y_train=good_student_target['train'][level_group],\n",
    "    X_val=good_student_features['val'][level_group],\n",
    "    y_val=good_student_target['val'][level_group],\n",
    "    X_test=good_student_features['test'][level_group],\n",
    "    y_test=good_student_target['test'][level_group],\n",
    "    epochs=100,\n",
    "    batch_size=100,\n",
    "    optimizer=optimizers.RMSprop(learning_rate=0.00001),\n",
    "    loss='binary_crossentropy',\n",
    "    metrics=['accuracy'])"
   ]
  }
 ],
 "metadata": {
  "kernelspec": {
   "display_name": "Python 3",
   "language": "python",
   "name": "python3"
  },
  "language_info": {
   "codemirror_mode": {
    "name": "ipython",
    "version": 3
   },
   "file_extension": ".py",
   "mimetype": "text/x-python",
   "name": "python",
   "nbconvert_exporter": "python",
   "pygments_lexer": "ipython3",
   "version": "3.8.10"
  },
  "orig_nbformat": 4
 },
 "nbformat": 4,
 "nbformat_minor": 2
}
