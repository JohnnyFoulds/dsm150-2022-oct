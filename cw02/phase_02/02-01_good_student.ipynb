{
 "cells": [
  {
   "attachments": {},
   "cell_type": "markdown",
   "metadata": {},
   "source": [
    "# 02-01 : Identify Good Students\n",
    "\n",
    "Can solve a sub problem of identifying good students based on their activities in a level group."
   ]
  },
  {
   "cell_type": "code",
   "execution_count": 1,
   "metadata": {},
   "outputs": [
    {
     "name": "stderr",
     "output_type": "stream",
     "text": [
      "2023-03-10 15:26:43.290873: I tensorflow/core/platform/cpu_feature_guard.cc:193] This TensorFlow binary is optimized with oneAPI Deep Neural Network Library (oneDNN) to use the following CPU instructions in performance-critical operations:  AVX2 FMA\n",
      "To enable them in other operations, rebuild TensorFlow with the appropriate compiler flags.\n"
     ]
    }
   ],
   "source": [
    "import sys\n",
    "import gc\n",
    "import logging\n",
    "\n",
    "from typing import Iterable\n",
    "from typing import Tuple\n",
    "\n",
    "import pandas as pd\n",
    "import numpy as np\n",
    "\n",
    "import keras\n",
    "from keras import optimizers\n",
    "from keras.models import Sequential\n",
    "from keras.layers import Conv2D, Dense, Dropout, Flatten, LeakyReLU, \\\n",
    "                          LSTM, MaxPooling2D, concatenate, Reshape\n",
    "from keras import callbacks\n",
    "from keras import regularizers\n",
    "\n",
    "from sklearn.metrics import classification_report, precision_recall_fscore_support\n",
    "from sklearn.model_selection import train_test_split\n",
    "\n",
    "from tqdm.auto import tqdm\n",
    "import matplotlib.pyplot as plt"
   ]
  },
  {
   "cell_type": "markdown",
   "metadata": {},
   "source": [
    "## Configure Logging"
   ]
  },
  {
   "cell_type": "code",
   "execution_count": 2,
   "metadata": {},
   "outputs": [],
   "source": [
    "logging.getLogger('matplotlib.font_manager').setLevel(logging.ERROR)"
   ]
  },
  {
   "cell_type": "code",
   "execution_count": 3,
   "metadata": {},
   "outputs": [
    {
     "name": "stdout",
     "output_type": "stream",
     "text": [
      "2023-03-10 15:26:44 INFO     Started\n"
     ]
    }
   ],
   "source": [
    "logging.basicConfig(\n",
    "    format='%(asctime)s %(levelname)-8s %(message)s',\n",
    "    level=logging.INFO,\n",
    "    datefmt='%Y-%m-%d %H:%M:%S',\n",
    "        handlers=[\n",
    "        logging.FileHandler(\"ex05_06.log\"),\n",
    "        logging.StreamHandler(sys.stdout)\n",
    "    ])\n",
    "\n",
    "logging.info(\"Started\")"
   ]
  },
  {
   "cell_type": "markdown",
   "metadata": {},
   "source": [
    "## Load Source Data"
   ]
  },
  {
   "cell_type": "code",
   "execution_count": 4,
   "metadata": {},
   "outputs": [
    {
     "name": "stdout",
     "output_type": "stream",
     "text": [
      "(13174211, 19)\n"
     ]
    },
    {
     "data": {
      "text/html": [
       "<div>\n",
       "<style scoped>\n",
       "    .dataframe tbody tr th:only-of-type {\n",
       "        vertical-align: middle;\n",
       "    }\n",
       "\n",
       "    .dataframe tbody tr th {\n",
       "        vertical-align: top;\n",
       "    }\n",
       "\n",
       "    .dataframe thead th {\n",
       "        text-align: right;\n",
       "    }\n",
       "</style>\n",
       "<table border=\"1\" class=\"dataframe\">\n",
       "  <thead>\n",
       "    <tr style=\"text-align: right;\">\n",
       "      <th></th>\n",
       "      <th>session_id</th>\n",
       "      <th>elapsed_time</th>\n",
       "      <th>event_name</th>\n",
       "      <th>name</th>\n",
       "      <th>level</th>\n",
       "      <th>page</th>\n",
       "      <th>room_coor_x</th>\n",
       "      <th>room_coor_y</th>\n",
       "      <th>screen_coor_x</th>\n",
       "      <th>screen_coor_y</th>\n",
       "      <th>hover_duration</th>\n",
       "      <th>text</th>\n",
       "      <th>fqid</th>\n",
       "      <th>room_fqid</th>\n",
       "      <th>text_fqid</th>\n",
       "      <th>fullscreen</th>\n",
       "      <th>hq</th>\n",
       "      <th>music</th>\n",
       "      <th>level_group</th>\n",
       "    </tr>\n",
       "    <tr>\n",
       "      <th>index</th>\n",
       "      <th></th>\n",
       "      <th></th>\n",
       "      <th></th>\n",
       "      <th></th>\n",
       "      <th></th>\n",
       "      <th></th>\n",
       "      <th></th>\n",
       "      <th></th>\n",
       "      <th></th>\n",
       "      <th></th>\n",
       "      <th></th>\n",
       "      <th></th>\n",
       "      <th></th>\n",
       "      <th></th>\n",
       "      <th></th>\n",
       "      <th></th>\n",
       "      <th></th>\n",
       "      <th></th>\n",
       "      <th></th>\n",
       "    </tr>\n",
       "  </thead>\n",
       "  <tbody>\n",
       "    <tr>\n",
       "      <th>0</th>\n",
       "      <td>20090312431273200</td>\n",
       "      <td>0</td>\n",
       "      <td>cutscene_click</td>\n",
       "      <td>basic</td>\n",
       "      <td>0</td>\n",
       "      <td>NaN</td>\n",
       "      <td>-413.991405</td>\n",
       "      <td>-159.314686</td>\n",
       "      <td>380.0</td>\n",
       "      <td>494.0</td>\n",
       "      <td>NaN</td>\n",
       "      <td>undefined</td>\n",
       "      <td>intro</td>\n",
       "      <td>tunic.historicalsociety.closet</td>\n",
       "      <td>tunic.historicalsociety.closet.intro</td>\n",
       "      <td>NaN</td>\n",
       "      <td>NaN</td>\n",
       "      <td>NaN</td>\n",
       "      <td>0-4</td>\n",
       "    </tr>\n",
       "    <tr>\n",
       "      <th>1</th>\n",
       "      <td>20090312431273200</td>\n",
       "      <td>1323</td>\n",
       "      <td>person_click</td>\n",
       "      <td>basic</td>\n",
       "      <td>0</td>\n",
       "      <td>NaN</td>\n",
       "      <td>-413.991405</td>\n",
       "      <td>-159.314686</td>\n",
       "      <td>380.0</td>\n",
       "      <td>494.0</td>\n",
       "      <td>NaN</td>\n",
       "      <td>Whatcha doing over there, Jo?</td>\n",
       "      <td>gramps</td>\n",
       "      <td>tunic.historicalsociety.closet</td>\n",
       "      <td>tunic.historicalsociety.closet.gramps.intro_0_...</td>\n",
       "      <td>NaN</td>\n",
       "      <td>NaN</td>\n",
       "      <td>NaN</td>\n",
       "      <td>0-4</td>\n",
       "    </tr>\n",
       "    <tr>\n",
       "      <th>2</th>\n",
       "      <td>20090312431273200</td>\n",
       "      <td>831</td>\n",
       "      <td>person_click</td>\n",
       "      <td>basic</td>\n",
       "      <td>0</td>\n",
       "      <td>NaN</td>\n",
       "      <td>-413.991405</td>\n",
       "      <td>-159.314686</td>\n",
       "      <td>380.0</td>\n",
       "      <td>494.0</td>\n",
       "      <td>NaN</td>\n",
       "      <td>Just talking to Teddy.</td>\n",
       "      <td>gramps</td>\n",
       "      <td>tunic.historicalsociety.closet</td>\n",
       "      <td>tunic.historicalsociety.closet.gramps.intro_0_...</td>\n",
       "      <td>NaN</td>\n",
       "      <td>NaN</td>\n",
       "      <td>NaN</td>\n",
       "      <td>0-4</td>\n",
       "    </tr>\n",
       "  </tbody>\n",
       "</table>\n",
       "</div>"
      ],
      "text/plain": [
       "              session_id  elapsed_time      event_name   name  level  page  \\\n",
       "index                                                                        \n",
       "0      20090312431273200             0  cutscene_click  basic      0   NaN   \n",
       "1      20090312431273200          1323    person_click  basic      0   NaN   \n",
       "2      20090312431273200           831    person_click  basic      0   NaN   \n",
       "\n",
       "       room_coor_x  room_coor_y  screen_coor_x  screen_coor_y  hover_duration  \\\n",
       "index                                                                           \n",
       "0      -413.991405  -159.314686          380.0          494.0             NaN   \n",
       "1      -413.991405  -159.314686          380.0          494.0             NaN   \n",
       "2      -413.991405  -159.314686          380.0          494.0             NaN   \n",
       "\n",
       "                                text    fqid                       room_fqid  \\\n",
       "index                                                                          \n",
       "0                          undefined   intro  tunic.historicalsociety.closet   \n",
       "1      Whatcha doing over there, Jo?  gramps  tunic.historicalsociety.closet   \n",
       "2             Just talking to Teddy.  gramps  tunic.historicalsociety.closet   \n",
       "\n",
       "                                               text_fqid  fullscreen  hq  \\\n",
       "index                                                                      \n",
       "0                   tunic.historicalsociety.closet.intro         NaN NaN   \n",
       "1      tunic.historicalsociety.closet.gramps.intro_0_...         NaN NaN   \n",
       "2      tunic.historicalsociety.closet.gramps.intro_0_...         NaN NaN   \n",
       "\n",
       "       music level_group  \n",
       "index                     \n",
       "0        NaN         0-4  \n",
       "1        NaN         0-4  \n",
       "2        NaN         0-4  "
      ]
     },
     "metadata": {},
     "output_type": "display_data"
    }
   ],
   "source": [
    "# load the source training set\n",
    "df_source = pd.read_csv('../data/train.csv.gz', compression='gzip', index_col=1)\n",
    "\n",
    "print(df_source.shape)\n",
    "with pd.option_context('display.max_columns', None):\n",
    "    display(df_source.head(3))"
   ]
  },
  {
   "cell_type": "code",
   "execution_count": 5,
   "metadata": {},
   "outputs": [
    {
     "name": "stdout",
     "output_type": "stream",
     "text": [
      "(212022, 2)\n"
     ]
    },
    {
     "data": {
      "text/html": [
       "<div>\n",
       "<style scoped>\n",
       "    .dataframe tbody tr th:only-of-type {\n",
       "        vertical-align: middle;\n",
       "    }\n",
       "\n",
       "    .dataframe tbody tr th {\n",
       "        vertical-align: top;\n",
       "    }\n",
       "\n",
       "    .dataframe thead th {\n",
       "        text-align: right;\n",
       "    }\n",
       "</style>\n",
       "<table border=\"1\" class=\"dataframe\">\n",
       "  <thead>\n",
       "    <tr style=\"text-align: right;\">\n",
       "      <th></th>\n",
       "      <th>session_id</th>\n",
       "      <th>correct</th>\n",
       "    </tr>\n",
       "  </thead>\n",
       "  <tbody>\n",
       "    <tr>\n",
       "      <th>0</th>\n",
       "      <td>20090312431273200_q1</td>\n",
       "      <td>1</td>\n",
       "    </tr>\n",
       "    <tr>\n",
       "      <th>1</th>\n",
       "      <td>20090312433251036_q1</td>\n",
       "      <td>0</td>\n",
       "    </tr>\n",
       "    <tr>\n",
       "      <th>2</th>\n",
       "      <td>20090314121766812_q1</td>\n",
       "      <td>1</td>\n",
       "    </tr>\n",
       "  </tbody>\n",
       "</table>\n",
       "</div>"
      ],
      "text/plain": [
       "             session_id  correct\n",
       "0  20090312431273200_q1        1\n",
       "1  20090312433251036_q1        0\n",
       "2  20090314121766812_q1        1"
      ]
     },
     "metadata": {},
     "output_type": "display_data"
    }
   ],
   "source": [
    "# load the source training labels\n",
    "df_source_labels = pd.read_csv('../data/train_labels.csv')\n",
    "\n",
    "print(df_source_labels.shape)\n",
    "with pd.option_context('display.max_columns', None):\n",
    "    display(df_source_labels.head(3))"
   ]
  },
  {
   "cell_type": "markdown",
   "metadata": {},
   "source": [
    "## Functions"
   ]
  },
  {
   "cell_type": "code",
   "execution_count": 6,
   "metadata": {},
   "outputs": [],
   "source": [
    "def map_question_to_level_group(question_number):\n",
    "    \"\"\"\n",
    "    Maps the question number to the level group.\n",
    "\n",
    "    Parameters\n",
    "    ----------\n",
    "    question_number : int\n",
    "        The question number.\n",
    "\n",
    "    Returns\n",
    "    -------\n",
    "    str\n",
    "        The level group.\n",
    "    \"\"\"\n",
    "    if question_number in [1, 2, 3]:\n",
    "        return '0-4'\n",
    "    elif question_number in [4, 5, 6, 7, 8, 9, 10, 11, 12, 13]:\n",
    "        return '5-12'\n",
    "    elif question_number in [14, 15, 16, 17, 18]:\n",
    "        return '13-22'\n",
    "    else:\n",
    "        return None"
   ]
  },
  {
   "cell_type": "code",
   "execution_count": 7,
   "metadata": {},
   "outputs": [],
   "source": [
    "def prepare_label_dataset(data : pd.DataFrame) -> pd.DataFrame:\n",
    "    \"\"\"\n",
    "    Prepares the label dataset and add columns for the level group \n",
    "    and the question number.\n",
    "\n",
    "    Parameters\n",
    "    ----------\n",
    "    data : pd.DataFrame\n",
    "        The label dataset.\n",
    "\n",
    "    Returns\n",
    "    -------\n",
    "    pd.DataFrame\n",
    "        The prepared label dataset.\n",
    "    \"\"\"\n",
    "    # add the columns to determine the level group\n",
    "    df_labels = data \\\n",
    "        .rename(columns={'session_id': 'id'}) \\\n",
    "        .assign(session_id=lambda df: df['id'].str.split('_').str[0].astype(int)) \\\n",
    "        .assign(question_id=lambda df: df['id'].str.split('_').str[1]) \\\n",
    "        .assign(question_num=lambda df: df['question_id'].str[1:].astype(int)) \\\n",
    "        [['session_id', 'question_num', 'correct']]\n",
    "    \n",
    "    # add the level group column\n",
    "    df_labels['level_group'] = df_labels['question_num'].apply(map_question_to_level_group) \n",
    "        \n",
    "    return df_labels"
   ]
  },
  {
   "cell_type": "code",
   "execution_count": 8,
   "metadata": {},
   "outputs": [],
   "source": [
    "def prepare_main_dataset(data : pd.DataFrame) -> pd.DataFrame:\n",
    "    \"\"\"\n",
    "    Prepares the main dataset by removing duplicates and removing \n",
    "    columns that are not needed.\n",
    "\n",
    "    Parameters\n",
    "    ----------\n",
    "    data : pd.DataFrame\n",
    "        The main dataset.\n",
    "\n",
    "    Returns\n",
    "    -------\n",
    "    pd.DataFrame\n",
    "        The prepared main dataset.\n",
    "    \"\"\"\n",
    "    empty_columns = ['fullscreen', 'hq', 'music', 'page', 'hover_duration']\n",
    "\n",
    "    df_main = data \\\n",
    "        .drop_duplicates() \\\n",
    "        .reset_index(drop=True) \\\n",
    "        .drop(empty_columns, axis=1) \\\n",
    "        .drop('text', axis=1)\n",
    "\n",
    "    return df_main"
   ]
  },
  {
   "cell_type": "markdown",
   "metadata": {},
   "source": [
    "## Data Preprocessing"
   ]
  },
  {
   "cell_type": "code",
   "execution_count": 9,
   "metadata": {},
   "outputs": [
    {
     "name": "stdout",
     "output_type": "stream",
     "text": [
      "(13173445, 13)\n"
     ]
    },
    {
     "data": {
      "text/html": [
       "<div>\n",
       "<style scoped>\n",
       "    .dataframe tbody tr th:only-of-type {\n",
       "        vertical-align: middle;\n",
       "    }\n",
       "\n",
       "    .dataframe tbody tr th {\n",
       "        vertical-align: top;\n",
       "    }\n",
       "\n",
       "    .dataframe thead th {\n",
       "        text-align: right;\n",
       "    }\n",
       "</style>\n",
       "<table border=\"1\" class=\"dataframe\">\n",
       "  <thead>\n",
       "    <tr style=\"text-align: right;\">\n",
       "      <th></th>\n",
       "      <th>session_id</th>\n",
       "      <th>elapsed_time</th>\n",
       "      <th>event_name</th>\n",
       "      <th>name</th>\n",
       "      <th>level</th>\n",
       "      <th>room_coor_x</th>\n",
       "      <th>room_coor_y</th>\n",
       "      <th>screen_coor_x</th>\n",
       "      <th>screen_coor_y</th>\n",
       "      <th>fqid</th>\n",
       "      <th>room_fqid</th>\n",
       "      <th>text_fqid</th>\n",
       "      <th>level_group</th>\n",
       "    </tr>\n",
       "  </thead>\n",
       "  <tbody>\n",
       "    <tr>\n",
       "      <th>0</th>\n",
       "      <td>20090312431273200</td>\n",
       "      <td>0</td>\n",
       "      <td>cutscene_click</td>\n",
       "      <td>basic</td>\n",
       "      <td>0</td>\n",
       "      <td>-413.991405</td>\n",
       "      <td>-159.314686</td>\n",
       "      <td>380.0</td>\n",
       "      <td>494.0</td>\n",
       "      <td>intro</td>\n",
       "      <td>tunic.historicalsociety.closet</td>\n",
       "      <td>tunic.historicalsociety.closet.intro</td>\n",
       "      <td>0-4</td>\n",
       "    </tr>\n",
       "    <tr>\n",
       "      <th>1</th>\n",
       "      <td>20090312431273200</td>\n",
       "      <td>1323</td>\n",
       "      <td>person_click</td>\n",
       "      <td>basic</td>\n",
       "      <td>0</td>\n",
       "      <td>-413.991405</td>\n",
       "      <td>-159.314686</td>\n",
       "      <td>380.0</td>\n",
       "      <td>494.0</td>\n",
       "      <td>gramps</td>\n",
       "      <td>tunic.historicalsociety.closet</td>\n",
       "      <td>tunic.historicalsociety.closet.gramps.intro_0_...</td>\n",
       "      <td>0-4</td>\n",
       "    </tr>\n",
       "    <tr>\n",
       "      <th>2</th>\n",
       "      <td>20090312431273200</td>\n",
       "      <td>831</td>\n",
       "      <td>person_click</td>\n",
       "      <td>basic</td>\n",
       "      <td>0</td>\n",
       "      <td>-413.991405</td>\n",
       "      <td>-159.314686</td>\n",
       "      <td>380.0</td>\n",
       "      <td>494.0</td>\n",
       "      <td>gramps</td>\n",
       "      <td>tunic.historicalsociety.closet</td>\n",
       "      <td>tunic.historicalsociety.closet.gramps.intro_0_...</td>\n",
       "      <td>0-4</td>\n",
       "    </tr>\n",
       "  </tbody>\n",
       "</table>\n",
       "</div>"
      ],
      "text/plain": [
       "          session_id  elapsed_time      event_name   name  level  room_coor_x  \\\n",
       "0  20090312431273200             0  cutscene_click  basic      0  -413.991405   \n",
       "1  20090312431273200          1323    person_click  basic      0  -413.991405   \n",
       "2  20090312431273200           831    person_click  basic      0  -413.991405   \n",
       "\n",
       "   room_coor_y  screen_coor_x  screen_coor_y    fqid  \\\n",
       "0  -159.314686          380.0          494.0   intro   \n",
       "1  -159.314686          380.0          494.0  gramps   \n",
       "2  -159.314686          380.0          494.0  gramps   \n",
       "\n",
       "                        room_fqid  \\\n",
       "0  tunic.historicalsociety.closet   \n",
       "1  tunic.historicalsociety.closet   \n",
       "2  tunic.historicalsociety.closet   \n",
       "\n",
       "                                           text_fqid level_group  \n",
       "0               tunic.historicalsociety.closet.intro         0-4  \n",
       "1  tunic.historicalsociety.closet.gramps.intro_0_...         0-4  \n",
       "2  tunic.historicalsociety.closet.gramps.intro_0_...         0-4  "
      ]
     },
     "metadata": {},
     "output_type": "display_data"
    }
   ],
   "source": [
    "# prepare the main dataset\n",
    "df_source = prepare_main_dataset(df_source)\n",
    "\n",
    "with pd.option_context('display.max_columns', None):\n",
    "    print(df_source.shape)\n",
    "    display(df_source.head(3))  "
   ]
  },
  {
   "cell_type": "code",
   "execution_count": 10,
   "metadata": {},
   "outputs": [
    {
     "data": {
      "text/html": [
       "<div>\n",
       "<style scoped>\n",
       "    .dataframe tbody tr th:only-of-type {\n",
       "        vertical-align: middle;\n",
       "    }\n",
       "\n",
       "    .dataframe tbody tr th {\n",
       "        vertical-align: top;\n",
       "    }\n",
       "\n",
       "    .dataframe thead th {\n",
       "        text-align: right;\n",
       "    }\n",
       "</style>\n",
       "<table border=\"1\" class=\"dataframe\">\n",
       "  <thead>\n",
       "    <tr style=\"text-align: right;\">\n",
       "      <th></th>\n",
       "      <th>session_id</th>\n",
       "      <th>question_num</th>\n",
       "      <th>correct</th>\n",
       "      <th>level_group</th>\n",
       "    </tr>\n",
       "  </thead>\n",
       "  <tbody>\n",
       "    <tr>\n",
       "      <th>21476</th>\n",
       "      <td>22010116250792520</td>\n",
       "      <td>2</td>\n",
       "      <td>1</td>\n",
       "      <td>0-4</td>\n",
       "    </tr>\n",
       "    <tr>\n",
       "      <th>84068</th>\n",
       "      <td>21000111433937450</td>\n",
       "      <td>8</td>\n",
       "      <td>1</td>\n",
       "      <td>5-12</td>\n",
       "    </tr>\n",
       "    <tr>\n",
       "      <th>171219</th>\n",
       "      <td>21040510125933256</td>\n",
       "      <td>15</td>\n",
       "      <td>0</td>\n",
       "      <td>13-22</td>\n",
       "    </tr>\n",
       "  </tbody>\n",
       "</table>\n",
       "</div>"
      ],
      "text/plain": [
       "               session_id  question_num  correct level_group\n",
       "21476   22010116250792520             2        1         0-4\n",
       "84068   21000111433937450             8        1        5-12\n",
       "171219  21040510125933256            15        0       13-22"
      ]
     },
     "metadata": {},
     "output_type": "display_data"
    }
   ],
   "source": [
    "# prepare the label dataset\n",
    "df_source_labels = prepare_label_dataset(df_source_labels)\n",
    "\n",
    "with pd.option_context('display.max_columns', None):\n",
    "    display(df_source_labels.sample(n=3, random_state=51))"
   ]
  },
  {
   "attachments": {},
   "cell_type": "markdown",
   "metadata": {},
   "source": [
    "## Explore Student Scores"
   ]
  },
  {
   "cell_type": "code",
   "execution_count": 11,
   "metadata": {},
   "outputs": [
    {
     "data": {
      "text/html": [
       "<div>\n",
       "<style scoped>\n",
       "    .dataframe tbody tr th:only-of-type {\n",
       "        vertical-align: middle;\n",
       "    }\n",
       "\n",
       "    .dataframe tbody tr th {\n",
       "        vertical-align: top;\n",
       "    }\n",
       "\n",
       "    .dataframe thead th {\n",
       "        text-align: right;\n",
       "    }\n",
       "</style>\n",
       "<table border=\"1\" class=\"dataframe\">\n",
       "  <thead>\n",
       "    <tr style=\"text-align: right;\">\n",
       "      <th></th>\n",
       "      <th>session_id</th>\n",
       "      <th>level_group</th>\n",
       "      <th>sum</th>\n",
       "      <th>count</th>\n",
       "      <th>score</th>\n",
       "    </tr>\n",
       "  </thead>\n",
       "  <tbody>\n",
       "    <tr>\n",
       "      <th>0</th>\n",
       "      <td>20090312431273200</td>\n",
       "      <td>0-4</td>\n",
       "      <td>3</td>\n",
       "      <td>3</td>\n",
       "      <td>1.000000</td>\n",
       "    </tr>\n",
       "    <tr>\n",
       "      <th>1</th>\n",
       "      <td>20090312431273200</td>\n",
       "      <td>13-22</td>\n",
       "      <td>4</td>\n",
       "      <td>5</td>\n",
       "      <td>0.800000</td>\n",
       "    </tr>\n",
       "    <tr>\n",
       "      <th>2</th>\n",
       "      <td>20090312431273200</td>\n",
       "      <td>5-12</td>\n",
       "      <td>9</td>\n",
       "      <td>10</td>\n",
       "      <td>0.900000</td>\n",
       "    </tr>\n",
       "    <tr>\n",
       "      <th>3</th>\n",
       "      <td>20090312433251036</td>\n",
       "      <td>0-4</td>\n",
       "      <td>2</td>\n",
       "      <td>3</td>\n",
       "      <td>0.666667</td>\n",
       "    </tr>\n",
       "    <tr>\n",
       "      <th>4</th>\n",
       "      <td>20090312433251036</td>\n",
       "      <td>13-22</td>\n",
       "      <td>3</td>\n",
       "      <td>5</td>\n",
       "      <td>0.600000</td>\n",
       "    </tr>\n",
       "    <tr>\n",
       "      <th>5</th>\n",
       "      <td>20090312433251036</td>\n",
       "      <td>5-12</td>\n",
       "      <td>5</td>\n",
       "      <td>10</td>\n",
       "      <td>0.500000</td>\n",
       "    </tr>\n",
       "  </tbody>\n",
       "</table>\n",
       "</div>"
      ],
      "text/plain": [
       "          session_id level_group  sum  count     score\n",
       "0  20090312431273200         0-4    3      3  1.000000\n",
       "1  20090312431273200       13-22    4      5  0.800000\n",
       "2  20090312431273200        5-12    9     10  0.900000\n",
       "3  20090312433251036         0-4    2      3  0.666667\n",
       "4  20090312433251036       13-22    3      5  0.600000\n",
       "5  20090312433251036        5-12    5     10  0.500000"
      ]
     },
     "metadata": {},
     "output_type": "display_data"
    }
   ],
   "source": [
    "df_scores = df_source_labels \\\n",
    "    .groupby(['session_id', 'level_group']) \\\n",
    "    .agg({'correct': ['sum', 'count']}) \\\n",
    "    .droplevel(0, axis=1) \\\n",
    "    .reset_index() \\\n",
    "    .query(('(level_group == \"0-4\" and count == 3) or'\n",
    "            '(level_group == \"5-12\" and count == 10) or'\n",
    "            '(level_group == \"13-22\" and count == 5)')) \\\n",
    "    .assign(score=lambda df: df['sum'] / df['count'])\n",
    "\n",
    "display(df_scores.head(6))"
   ]
  },
  {
   "cell_type": "code",
   "execution_count": 12,
   "metadata": {},
   "outputs": [
    {
     "data": {
      "text/plain": [
       "level_group\n",
       "0-4      Axes(0.125,0.11;0.775x0.77)\n",
       "13-22    Axes(0.125,0.11;0.775x0.77)\n",
       "5-12     Axes(0.125,0.11;0.775x0.77)\n",
       "dtype: object"
      ]
     },
     "execution_count": 12,
     "metadata": {},
     "output_type": "execute_result"
    },
    {
     "data": {
      "image/png": "[encoded data removed]",
      "text/plain": [
       "<Figure size 640x480 with 1 Axes>"
      ]
     },
     "metadata": {},
     "output_type": "display_data"
    },
    {
     "data": {
      "image/png": "[encoded data removed]",
      "text/plain": [
       "<Figure size 640x480 with 1 Axes>"
      ]
     },
     "metadata": {},
     "output_type": "display_data"
    },
    {
     "data": {
      "image/png": "[encoded data removed]",
      "text/plain": [
       "<Figure size 640x480 with 1 Axes>"
      ]
     },
     "metadata": {},
     "output_type": "display_data"
    }
   ],
   "source": [
    "df_scores \\\n",
    "    .groupby('level_group') \\\n",
    "    .plot(kind='hist', y='score', bins=3, legend=False, title='Correct answers per level group')\n",
    "    "
   ]
  },
  {
   "attachments": {},
   "cell_type": "markdown",
   "metadata": {},
   "source": [
    "### Add Symbolic Score"
   ]
  },
  {
   "cell_type": "code",
   "execution_count": 13,
   "metadata": {},
   "outputs": [
    {
     "data": {
      "text/html": [
       "<div>\n",
       "<style scoped>\n",
       "    .dataframe tbody tr th:only-of-type {\n",
       "        vertical-align: middle;\n",
       "    }\n",
       "\n",
       "    .dataframe tbody tr th {\n",
       "        vertical-align: top;\n",
       "    }\n",
       "\n",
       "    .dataframe thead th {\n",
       "        text-align: right;\n",
       "    }\n",
       "</style>\n",
       "<table border=\"1\" class=\"dataframe\">\n",
       "  <thead>\n",
       "    <tr style=\"text-align: right;\">\n",
       "      <th></th>\n",
       "      <th>session_id</th>\n",
       "      <th>level_group</th>\n",
       "      <th>sum</th>\n",
       "      <th>count</th>\n",
       "      <th>score</th>\n",
       "      <th>symbolic_score</th>\n",
       "    </tr>\n",
       "  </thead>\n",
       "  <tbody>\n",
       "    <tr>\n",
       "      <th>0</th>\n",
       "      <td>20090312431273200</td>\n",
       "      <td>0-4</td>\n",
       "      <td>3</td>\n",
       "      <td>3</td>\n",
       "      <td>1.000000</td>\n",
       "      <td>A</td>\n",
       "    </tr>\n",
       "    <tr>\n",
       "      <th>1</th>\n",
       "      <td>20090312431273200</td>\n",
       "      <td>13-22</td>\n",
       "      <td>4</td>\n",
       "      <td>5</td>\n",
       "      <td>0.800000</td>\n",
       "      <td>B</td>\n",
       "    </tr>\n",
       "    <tr>\n",
       "      <th>2</th>\n",
       "      <td>20090312431273200</td>\n",
       "      <td>5-12</td>\n",
       "      <td>9</td>\n",
       "      <td>10</td>\n",
       "      <td>0.900000</td>\n",
       "      <td>A</td>\n",
       "    </tr>\n",
       "    <tr>\n",
       "      <th>3</th>\n",
       "      <td>20090312433251036</td>\n",
       "      <td>0-4</td>\n",
       "      <td>2</td>\n",
       "      <td>3</td>\n",
       "      <td>0.666667</td>\n",
       "      <td>B</td>\n",
       "    </tr>\n",
       "    <tr>\n",
       "      <th>4</th>\n",
       "      <td>20090312433251036</td>\n",
       "      <td>13-22</td>\n",
       "      <td>3</td>\n",
       "      <td>5</td>\n",
       "      <td>0.600000</td>\n",
       "      <td>B</td>\n",
       "    </tr>\n",
       "    <tr>\n",
       "      <th>5</th>\n",
       "      <td>20090312433251036</td>\n",
       "      <td>5-12</td>\n",
       "      <td>5</td>\n",
       "      <td>10</td>\n",
       "      <td>0.500000</td>\n",
       "      <td>C</td>\n",
       "    </tr>\n",
       "  </tbody>\n",
       "</table>\n",
       "</div>"
      ],
      "text/plain": [
       "          session_id level_group  sum  count     score symbolic_score\n",
       "0  20090312431273200         0-4    3      3  1.000000              A\n",
       "1  20090312431273200       13-22    4      5  0.800000              B\n",
       "2  20090312431273200        5-12    9     10  0.900000              A\n",
       "3  20090312433251036         0-4    2      3  0.666667              B\n",
       "4  20090312433251036       13-22    3      5  0.600000              B\n",
       "5  20090312433251036        5-12    5     10  0.500000              C"
      ]
     },
     "metadata": {},
     "output_type": "display_data"
    },
    {
     "data": {
      "text/html": [
       "<div>\n",
       "<style scoped>\n",
       "    .dataframe tbody tr th:only-of-type {\n",
       "        vertical-align: middle;\n",
       "    }\n",
       "\n",
       "    .dataframe tbody tr th {\n",
       "        vertical-align: top;\n",
       "    }\n",
       "\n",
       "    .dataframe thead th {\n",
       "        text-align: right;\n",
       "    }\n",
       "</style>\n",
       "<table border=\"1\" class=\"dataframe\">\n",
       "  <thead>\n",
       "    <tr style=\"text-align: right;\">\n",
       "      <th></th>\n",
       "      <th></th>\n",
       "      <th>session_id</th>\n",
       "      <th>sum</th>\n",
       "      <th>count</th>\n",
       "      <th>score</th>\n",
       "    </tr>\n",
       "    <tr>\n",
       "      <th>level_group</th>\n",
       "      <th>symbolic_score</th>\n",
       "      <th></th>\n",
       "      <th></th>\n",
       "      <th></th>\n",
       "      <th></th>\n",
       "    </tr>\n",
       "  </thead>\n",
       "  <tbody>\n",
       "    <tr>\n",
       "      <th rowspan=\"3\" valign=\"top\">0-4</th>\n",
       "      <th>A</th>\n",
       "      <td>8045</td>\n",
       "      <td>8045</td>\n",
       "      <td>8045</td>\n",
       "      <td>8045</td>\n",
       "    </tr>\n",
       "    <tr>\n",
       "      <th>B</th>\n",
       "      <td>3206</td>\n",
       "      <td>3206</td>\n",
       "      <td>3206</td>\n",
       "      <td>3206</td>\n",
       "    </tr>\n",
       "    <tr>\n",
       "      <th>C</th>\n",
       "      <td>528</td>\n",
       "      <td>528</td>\n",
       "      <td>528</td>\n",
       "      <td>528</td>\n",
       "    </tr>\n",
       "    <tr>\n",
       "      <th rowspan=\"3\" valign=\"top\">13-22</th>\n",
       "      <th>A</th>\n",
       "      <td>2460</td>\n",
       "      <td>2460</td>\n",
       "      <td>2460</td>\n",
       "      <td>2460</td>\n",
       "    </tr>\n",
       "    <tr>\n",
       "      <th>B</th>\n",
       "      <td>7464</td>\n",
       "      <td>7464</td>\n",
       "      <td>7464</td>\n",
       "      <td>7464</td>\n",
       "    </tr>\n",
       "    <tr>\n",
       "      <th>C</th>\n",
       "      <td>1855</td>\n",
       "      <td>1855</td>\n",
       "      <td>1855</td>\n",
       "      <td>1855</td>\n",
       "    </tr>\n",
       "    <tr>\n",
       "      <th rowspan=\"3\" valign=\"top\">5-12</th>\n",
       "      <th>A</th>\n",
       "      <td>2208</td>\n",
       "      <td>2208</td>\n",
       "      <td>2208</td>\n",
       "      <td>2208</td>\n",
       "    </tr>\n",
       "    <tr>\n",
       "      <th>B</th>\n",
       "      <td>6046</td>\n",
       "      <td>6046</td>\n",
       "      <td>6046</td>\n",
       "      <td>6046</td>\n",
       "    </tr>\n",
       "    <tr>\n",
       "      <th>C</th>\n",
       "      <td>3525</td>\n",
       "      <td>3525</td>\n",
       "      <td>3525</td>\n",
       "      <td>3525</td>\n",
       "    </tr>\n",
       "  </tbody>\n",
       "</table>\n",
       "</div>"
      ],
      "text/plain": [
       "                            session_id   sum  count  score\n",
       "level_group symbolic_score                                \n",
       "0-4         A                     8045  8045   8045   8045\n",
       "            B                     3206  3206   3206   3206\n",
       "            C                      528   528    528    528\n",
       "13-22       A                     2460  2460   2460   2460\n",
       "            B                     7464  7464   7464   7464\n",
       "            C                     1855  1855   1855   1855\n",
       "5-12        A                     2208  2208   2208   2208\n",
       "            B                     6046  6046   6046   6046\n",
       "            C                     3525  3525   3525   3525"
      ]
     },
     "metadata": {},
     "output_type": "display_data"
    }
   ],
   "source": [
    "df_scores['symbolic_score'] = df_scores['score'].apply(lambda x: 'A' if x >= 0.9 else 'B' if x >= 0.6 else 'C')\n",
    "\n",
    "display(df_scores.head(6))\n",
    "\n",
    "display(\n",
    "    df_scores \\\n",
    "        .groupby(['level_group', 'symbolic_score']) \\\n",
    "        .count()\n",
    ")"
   ]
  },
  {
   "cell_type": "code",
   "execution_count": 14,
   "metadata": {},
   "outputs": [
    {
     "data": {
      "text/html": [
       "<div>\n",
       "<style scoped>\n",
       "    .dataframe tbody tr th:only-of-type {\n",
       "        vertical-align: middle;\n",
       "    }\n",
       "\n",
       "    .dataframe tbody tr th {\n",
       "        vertical-align: top;\n",
       "    }\n",
       "\n",
       "    .dataframe thead th {\n",
       "        text-align: right;\n",
       "    }\n",
       "</style>\n",
       "<table border=\"1\" class=\"dataframe\">\n",
       "  <thead>\n",
       "    <tr style=\"text-align: right;\">\n",
       "      <th></th>\n",
       "      <th>session_id</th>\n",
       "      <th>level_group</th>\n",
       "      <th>sum</th>\n",
       "      <th>count</th>\n",
       "      <th>score</th>\n",
       "      <th>symbolic_score</th>\n",
       "      <th>symbolic_score_feature</th>\n",
       "    </tr>\n",
       "  </thead>\n",
       "  <tbody>\n",
       "    <tr>\n",
       "      <th>0</th>\n",
       "      <td>20090312431273200</td>\n",
       "      <td>0-4</td>\n",
       "      <td>3</td>\n",
       "      <td>3</td>\n",
       "      <td>1.000000</td>\n",
       "      <td>A</td>\n",
       "      <td>[1, 0, 0]</td>\n",
       "    </tr>\n",
       "    <tr>\n",
       "      <th>1</th>\n",
       "      <td>20090312431273200</td>\n",
       "      <td>13-22</td>\n",
       "      <td>4</td>\n",
       "      <td>5</td>\n",
       "      <td>0.800000</td>\n",
       "      <td>B</td>\n",
       "      <td>[0, 1, 0]</td>\n",
       "    </tr>\n",
       "    <tr>\n",
       "      <th>2</th>\n",
       "      <td>20090312431273200</td>\n",
       "      <td>5-12</td>\n",
       "      <td>9</td>\n",
       "      <td>10</td>\n",
       "      <td>0.900000</td>\n",
       "      <td>A</td>\n",
       "      <td>[1, 0, 0]</td>\n",
       "    </tr>\n",
       "    <tr>\n",
       "      <th>3</th>\n",
       "      <td>20090312433251036</td>\n",
       "      <td>0-4</td>\n",
       "      <td>2</td>\n",
       "      <td>3</td>\n",
       "      <td>0.666667</td>\n",
       "      <td>B</td>\n",
       "      <td>[0, 1, 0]</td>\n",
       "    </tr>\n",
       "    <tr>\n",
       "      <th>4</th>\n",
       "      <td>20090312433251036</td>\n",
       "      <td>13-22</td>\n",
       "      <td>3</td>\n",
       "      <td>5</td>\n",
       "      <td>0.600000</td>\n",
       "      <td>B</td>\n",
       "      <td>[0, 1, 0]</td>\n",
       "    </tr>\n",
       "    <tr>\n",
       "      <th>...</th>\n",
       "      <td>...</td>\n",
       "      <td>...</td>\n",
       "      <td>...</td>\n",
       "      <td>...</td>\n",
       "      <td>...</td>\n",
       "      <td>...</td>\n",
       "      <td>...</td>\n",
       "    </tr>\n",
       "    <tr>\n",
       "      <th>35332</th>\n",
       "      <td>22100219442786200</td>\n",
       "      <td>13-22</td>\n",
       "      <td>4</td>\n",
       "      <td>5</td>\n",
       "      <td>0.800000</td>\n",
       "      <td>B</td>\n",
       "      <td>[0, 1, 0]</td>\n",
       "    </tr>\n",
       "    <tr>\n",
       "      <th>35333</th>\n",
       "      <td>22100219442786200</td>\n",
       "      <td>5-12</td>\n",
       "      <td>7</td>\n",
       "      <td>10</td>\n",
       "      <td>0.700000</td>\n",
       "      <td>B</td>\n",
       "      <td>[0, 1, 0]</td>\n",
       "    </tr>\n",
       "    <tr>\n",
       "      <th>35334</th>\n",
       "      <td>22100221145014656</td>\n",
       "      <td>0-4</td>\n",
       "      <td>1</td>\n",
       "      <td>3</td>\n",
       "      <td>0.333333</td>\n",
       "      <td>C</td>\n",
       "      <td>[0, 0, 1]</td>\n",
       "    </tr>\n",
       "    <tr>\n",
       "      <th>35335</th>\n",
       "      <td>22100221145014656</td>\n",
       "      <td>13-22</td>\n",
       "      <td>2</td>\n",
       "      <td>5</td>\n",
       "      <td>0.400000</td>\n",
       "      <td>C</td>\n",
       "      <td>[0, 0, 1]</td>\n",
       "    </tr>\n",
       "    <tr>\n",
       "      <th>35336</th>\n",
       "      <td>22100221145014656</td>\n",
       "      <td>5-12</td>\n",
       "      <td>4</td>\n",
       "      <td>10</td>\n",
       "      <td>0.400000</td>\n",
       "      <td>C</td>\n",
       "      <td>[0, 0, 1]</td>\n",
       "    </tr>\n",
       "  </tbody>\n",
       "</table>\n",
       "<p>35337 rows × 7 columns</p>\n",
       "</div>"
      ],
      "text/plain": [
       "              session_id level_group  sum  count     score symbolic_score  \\\n",
       "0      20090312431273200         0-4    3      3  1.000000              A   \n",
       "1      20090312431273200       13-22    4      5  0.800000              B   \n",
       "2      20090312431273200        5-12    9     10  0.900000              A   \n",
       "3      20090312433251036         0-4    2      3  0.666667              B   \n",
       "4      20090312433251036       13-22    3      5  0.600000              B   \n",
       "...                  ...         ...  ...    ...       ...            ...   \n",
       "35332  22100219442786200       13-22    4      5  0.800000              B   \n",
       "35333  22100219442786200        5-12    7     10  0.700000              B   \n",
       "35334  22100221145014656         0-4    1      3  0.333333              C   \n",
       "35335  22100221145014656       13-22    2      5  0.400000              C   \n",
       "35336  22100221145014656        5-12    4     10  0.400000              C   \n",
       "\n",
       "      symbolic_score_feature  \n",
       "0                  [1, 0, 0]  \n",
       "1                  [0, 1, 0]  \n",
       "2                  [1, 0, 0]  \n",
       "3                  [0, 1, 0]  \n",
       "4                  [0, 1, 0]  \n",
       "...                      ...  \n",
       "35332              [0, 1, 0]  \n",
       "35333              [0, 1, 0]  \n",
       "35334              [0, 0, 1]  \n",
       "35335              [0, 0, 1]  \n",
       "35336              [0, 0, 1]  \n",
       "\n",
       "[35337 rows x 7 columns]"
      ]
     },
     "execution_count": 14,
     "metadata": {},
     "output_type": "execute_result"
    }
   ],
   "source": [
    "symbolic_score_feature = pd.get_dummies(df_scores['symbolic_score']).to_numpy()\n",
    "df_scores['symbolic_score_feature'] = pd.Series(symbolic_score_feature.tolist())\n",
    "df_scores"
   ]
  },
  {
   "cell_type": "markdown",
   "metadata": {},
   "source": [
    "## Functions to Create Features"
   ]
  },
  {
   "cell_type": "code",
   "execution_count": 15,
   "metadata": {},
   "outputs": [
    {
     "data": {
      "text/html": [
       "<div>\n",
       "<style scoped>\n",
       "    .dataframe tbody tr th:only-of-type {\n",
       "        vertical-align: middle;\n",
       "    }\n",
       "\n",
       "    .dataframe tbody tr th {\n",
       "        vertical-align: top;\n",
       "    }\n",
       "\n",
       "    .dataframe thead th {\n",
       "        text-align: right;\n",
       "    }\n",
       "</style>\n",
       "<table border=\"1\" class=\"dataframe\">\n",
       "  <thead>\n",
       "    <tr style=\"text-align: right;\">\n",
       "      <th></th>\n",
       "      <th>session_id</th>\n",
       "      <th>level_group</th>\n",
       "    </tr>\n",
       "  </thead>\n",
       "  <tbody>\n",
       "    <tr>\n",
       "      <th>0</th>\n",
       "      <td>20090312431273200</td>\n",
       "      <td>0-4</td>\n",
       "    </tr>\n",
       "    <tr>\n",
       "      <th>1</th>\n",
       "      <td>20090312431273200</td>\n",
       "      <td>13-22</td>\n",
       "    </tr>\n",
       "    <tr>\n",
       "      <th>2</th>\n",
       "      <td>20090312431273200</td>\n",
       "      <td>5-12</td>\n",
       "    </tr>\n",
       "    <tr>\n",
       "      <th>3</th>\n",
       "      <td>20090312433251036</td>\n",
       "      <td>0-4</td>\n",
       "    </tr>\n",
       "    <tr>\n",
       "      <th>4</th>\n",
       "      <td>20090312433251036</td>\n",
       "      <td>13-22</td>\n",
       "    </tr>\n",
       "    <tr>\n",
       "      <th>5</th>\n",
       "      <td>20090312433251036</td>\n",
       "      <td>5-12</td>\n",
       "    </tr>\n",
       "  </tbody>\n",
       "</table>\n",
       "</div>"
      ],
      "text/plain": [
       "          session_id level_group\n",
       "0  20090312431273200         0-4\n",
       "1  20090312431273200       13-22\n",
       "2  20090312431273200        5-12\n",
       "3  20090312433251036         0-4\n",
       "4  20090312433251036       13-22\n",
       "5  20090312433251036        5-12"
      ]
     },
     "metadata": {},
     "output_type": "display_data"
    }
   ],
   "source": [
    "def create_initial_features(X:pd.DataFrame,\n",
    "                            y:pd.DataFrame) -> pd.DataFrame:\n",
    "    \"\"\"\n",
    "    Creates the initial dataset to which features will be added.\n",
    "    \"\"\"\n",
    "    return df_source_labels \\\n",
    "        .groupby(['session_id', 'level_group']) \\\n",
    "        .agg({'correct': ['count']}) \\\n",
    "        .reset_index() \\\n",
    "        .droplevel(1, axis=1) \\\n",
    "        .drop(columns=['correct']) \\\n",
    "        .sort_values(['session_id', 'level_group']) \\\n",
    "\n",
    "# test the function\n",
    "df_features = create_initial_features(df_source, df_source_labels)\n",
    "\n",
    "with pd.option_context('display.max_columns', None):\n",
    "    display(df_features.head(6))"
   ]
  },
  {
   "attachments": {},
   "cell_type": "markdown",
   "metadata": {},
   "source": [
    "### Symbolic Score Feature"
   ]
  },
  {
   "cell_type": "code",
   "execution_count": 16,
   "metadata": {},
   "outputs": [
    {
     "data": {
      "text/html": [
       "<div>\n",
       "<style scoped>\n",
       "    .dataframe tbody tr th:only-of-type {\n",
       "        vertical-align: middle;\n",
       "    }\n",
       "\n",
       "    .dataframe tbody tr th {\n",
       "        vertical-align: top;\n",
       "    }\n",
       "\n",
       "    .dataframe thead th {\n",
       "        text-align: right;\n",
       "    }\n",
       "</style>\n",
       "<table border=\"1\" class=\"dataframe\">\n",
       "  <thead>\n",
       "    <tr style=\"text-align: right;\">\n",
       "      <th></th>\n",
       "      <th>session_id</th>\n",
       "      <th>level_group</th>\n",
       "      <th>symbolic_score_feature</th>\n",
       "    </tr>\n",
       "  </thead>\n",
       "  <tbody>\n",
       "    <tr>\n",
       "      <th>0</th>\n",
       "      <td>20090312431273200</td>\n",
       "      <td>0-4</td>\n",
       "      <td>[1, 0, 0]</td>\n",
       "    </tr>\n",
       "    <tr>\n",
       "      <th>1</th>\n",
       "      <td>20090312431273200</td>\n",
       "      <td>13-22</td>\n",
       "      <td>[0, 1, 0]</td>\n",
       "    </tr>\n",
       "    <tr>\n",
       "      <th>2</th>\n",
       "      <td>20090312431273200</td>\n",
       "      <td>5-12</td>\n",
       "      <td>[1, 0, 0]</td>\n",
       "    </tr>\n",
       "    <tr>\n",
       "      <th>3</th>\n",
       "      <td>20090312433251036</td>\n",
       "      <td>0-4</td>\n",
       "      <td>[0, 1, 0]</td>\n",
       "    </tr>\n",
       "    <tr>\n",
       "      <th>4</th>\n",
       "      <td>20090312433251036</td>\n",
       "      <td>13-22</td>\n",
       "      <td>[0, 1, 0]</td>\n",
       "    </tr>\n",
       "    <tr>\n",
       "      <th>5</th>\n",
       "      <td>20090312433251036</td>\n",
       "      <td>5-12</td>\n",
       "      <td>[0, 0, 1]</td>\n",
       "    </tr>\n",
       "  </tbody>\n",
       "</table>\n",
       "</div>"
      ],
      "text/plain": [
       "          session_id level_group symbolic_score_feature\n",
       "0  20090312431273200         0-4              [1, 0, 0]\n",
       "1  20090312431273200       13-22              [0, 1, 0]\n",
       "2  20090312431273200        5-12              [1, 0, 0]\n",
       "3  20090312433251036         0-4              [0, 1, 0]\n",
       "4  20090312433251036       13-22              [0, 1, 0]\n",
       "5  20090312433251036        5-12              [0, 0, 1]"
      ]
     },
     "metadata": {},
     "output_type": "display_data"
    }
   ],
   "source": [
    "def add_symbolic_score_feature(features:pd.DataFrame,\n",
    "                               X:pd.DataFrame,\n",
    "                               y:pd.DataFrame) -> None:\n",
    "    \"\"\"\n",
    "    Adds the symbolic score feature to the features dataset.\n",
    "    \"\"\"\n",
    "    # get the symbolic scores\n",
    "    df_scores = y \\\n",
    "        .groupby(['session_id', 'level_group']) \\\n",
    "        .agg({'correct': ['sum', 'count']}) \\\n",
    "        .droplevel(0, axis=1) \\\n",
    "        .reset_index() \\\n",
    "        .assign(score=lambda df: df['sum'] / df['count']) \\\n",
    "        .assign(symbolic_score=lambda df: df['score'].apply(lambda x: 'A' if x >= 0.9 else 'B' if x >= 0.6 else 'C')) \\\n",
    "        .sort_values(['session_id', 'level_group'])\n",
    "\n",
    "    # generate the feature\n",
    "    symbolic_score_feature = pd.get_dummies(df_scores['symbolic_score']).to_numpy()\n",
    "\n",
    "    # add the feature to the features dataset\n",
    "    features['symbolic_score_feature'] = pd.Series(symbolic_score_feature.tolist())    \n",
    "\n",
    "# test the function\n",
    "add_symbolic_score_feature(df_features, df_source, df_source_labels)\n",
    "\n",
    "with pd.option_context('display.max_columns', None):\n",
    "    display(df_features.head(6))"
   ]
  },
  {
   "attachments": {},
   "cell_type": "markdown",
   "metadata": {},
   "source": [
    "### Elapsed Time Feature"
   ]
  },
  {
   "cell_type": "code",
   "execution_count": 17,
   "metadata": {},
   "outputs": [
    {
     "data": {
      "text/plain": [
       "<Axes: title={'center': 'Elapsed time distribution'}, ylabel='Frequency'>"
      ]
     },
     "execution_count": 17,
     "metadata": {},
     "output_type": "execute_result"
    },
    {
     "data": {
      "image/png": "[encoded data removed]",
      "text/plain": [
       "<Figure size 640x480 with 1 Axes>"
      ]
     },
     "metadata": {},
     "output_type": "display_data"
    }
   ],
   "source": [
    "df_source['elapsed_time'].plot(kind='hist', title='Elapsed time distribution')"
   ]
  },
  {
   "cell_type": "code",
   "execution_count": 18,
   "metadata": {},
   "outputs": [
    {
     "name": "stdout",
     "output_type": "stream",
     "text": [
      "Min Elapsed Time  : 0\n",
      "Max Elapsed Time  : 1749293395\n",
      "Mean Elapsed Time : 3846890.447290591\n",
      "50th Percentile   : 1013440.0\n",
      "75th Percentile   : 1740059.0\n",
      "80th Percentile   : 1970019.0\n",
      "90th Percentile   : 2901311.5999999996\n",
      "95th Percentile   : 5155144.599999998\n"
     ]
    },
    {
     "data": {
      "text/plain": [
       "count    1.317344e+07\n",
       "mean     3.846890e+06\n",
       "std      2.701416e+07\n",
       "min      0.000000e+00\n",
       "25%      4.394340e+05\n",
       "50%      1.013440e+06\n",
       "75%      1.740059e+06\n",
       "max      1.749293e+09\n",
       "Name: elapsed_time, dtype: float64"
      ]
     },
     "execution_count": 18,
     "metadata": {},
     "output_type": "execute_result"
    }
   ],
   "source": [
    "print('Min Elapsed Time  :', df_source['elapsed_time'].min())\n",
    "print('Max Elapsed Time  :', df_source['elapsed_time'].max())\n",
    "print('Mean Elapsed Time :', df_source['elapsed_time'].mean())\n",
    "\n",
    "print(\"50th Percentile   :\", df_source['elapsed_time'].quantile(0.5))\n",
    "print(\"75th Percentile   :\", df_source['elapsed_time'].quantile(0.75))\n",
    "print(\"80th Percentile   :\", df_source['elapsed_time'].quantile(0.8))\n",
    "print(\"90th Percentile   :\", df_source['elapsed_time'].quantile(0.9))\n",
    "print(\"95th Percentile   :\", df_source['elapsed_time'].quantile(0.95))\n",
    "\n",
    "df_source['elapsed_time'].describe()"
   ]
  },
  {
   "cell_type": "code",
   "execution_count": 19,
   "metadata": {},
   "outputs": [
    {
     "data": {
      "text/html": [
       "<div>\n",
       "<style scoped>\n",
       "    .dataframe tbody tr th:only-of-type {\n",
       "        vertical-align: middle;\n",
       "    }\n",
       "\n",
       "    .dataframe tbody tr th {\n",
       "        vertical-align: top;\n",
       "    }\n",
       "\n",
       "    .dataframe thead th {\n",
       "        text-align: right;\n",
       "    }\n",
       "</style>\n",
       "<table border=\"1\" class=\"dataframe\">\n",
       "  <thead>\n",
       "    <tr style=\"text-align: right;\">\n",
       "      <th></th>\n",
       "      <th>session_id</th>\n",
       "      <th>level_group</th>\n",
       "      <th>symbolic_score_feature</th>\n",
       "      <th>elapsed_time</th>\n",
       "    </tr>\n",
       "  </thead>\n",
       "  <tbody>\n",
       "    <tr>\n",
       "      <th>0</th>\n",
       "      <td>20090312431273200</td>\n",
       "      <td>0-4</td>\n",
       "      <td>[1, 0, 0]</td>\n",
       "      <td>0.064953</td>\n",
       "    </tr>\n",
       "    <tr>\n",
       "      <th>1</th>\n",
       "      <td>20090312431273200</td>\n",
       "      <td>13-22</td>\n",
       "      <td>[0, 1, 0]</td>\n",
       "      <td>0.424226</td>\n",
       "    </tr>\n",
       "    <tr>\n",
       "      <th>2</th>\n",
       "      <td>20090312431273200</td>\n",
       "      <td>5-12</td>\n",
       "      <td>[1, 0, 0]</td>\n",
       "      <td>0.166412</td>\n",
       "    </tr>\n",
       "    <tr>\n",
       "      <th>3</th>\n",
       "      <td>20090312433251036</td>\n",
       "      <td>0-4</td>\n",
       "      <td>[0, 1, 0]</td>\n",
       "      <td>0.077917</td>\n",
       "    </tr>\n",
       "    <tr>\n",
       "      <th>4</th>\n",
       "      <td>20090312433251036</td>\n",
       "      <td>13-22</td>\n",
       "      <td>[0, 1, 0]</td>\n",
       "      <td>1.000000</td>\n",
       "    </tr>\n",
       "    <tr>\n",
       "      <th>5</th>\n",
       "      <td>20090312433251036</td>\n",
       "      <td>5-12</td>\n",
       "      <td>[0, 0, 1]</td>\n",
       "      <td>0.272536</td>\n",
       "    </tr>\n",
       "  </tbody>\n",
       "</table>\n",
       "</div>"
      ],
      "text/plain": [
       "          session_id level_group symbolic_score_feature  elapsed_time\n",
       "0  20090312431273200         0-4              [1, 0, 0]      0.064953\n",
       "1  20090312431273200       13-22              [0, 1, 0]      0.424226\n",
       "2  20090312431273200        5-12              [1, 0, 0]      0.166412\n",
       "3  20090312433251036         0-4              [0, 1, 0]      0.077917\n",
       "4  20090312433251036       13-22              [0, 1, 0]      1.000000\n",
       "5  20090312433251036        5-12              [0, 0, 1]      0.272536"
      ]
     },
     "metadata": {},
     "output_type": "display_data"
    }
   ],
   "source": [
    "def add_elapsed_time_feature(features:pd.DataFrame,\n",
    "                               X:pd.DataFrame,\n",
    "                               y:pd.DataFrame,\n",
    "                               max_elapsed_time:int = 3e6) -> None:\n",
    "    \"\"\"\n",
    "    Add the maximum elapsed time feature to the features dataset.\n",
    "    \"\"\"\n",
    "    # get the symbolic scores\n",
    "    df_elapsed_time = X \\\n",
    "        .groupby(['session_id', 'level_group']) \\\n",
    "        .agg({'elapsed_time': 'max'}) \\\n",
    "        .reset_index()\n",
    "    \n",
    "    df_elapsed_time = df_features.set_index(['session_id', 'level_group']) \\\n",
    "        .join(df_elapsed_time.set_index(['session_id', 'level_group']), how='left') \\\n",
    "        .reset_index()\n",
    "    \n",
    "    elapsed_time_feature = np.clip(df_elapsed_time['elapsed_time'], 0, max_elapsed_time)\n",
    "    elapsed_time_feature = elapsed_time_feature / max_elapsed_time\n",
    "    \n",
    "    # add the feature to the features dataset\n",
    "    features['elapsed_time'] = elapsed_time_feature\n",
    "\n",
    "# test the function\n",
    "#df_features.drop(columns=['elapsed_time'], inplace=True)\n",
    "add_elapsed_time_feature(df_features, df_source, df_source_labels)\n",
    "\n",
    "with pd.option_context('display.max_columns', None):\n",
    "    display(df_features.head(6))"
   ]
  },
  {
   "attachments": {},
   "cell_type": "markdown",
   "metadata": {},
   "source": [
    "### Screen Heatmap Feature"
   ]
  },
  {
   "cell_type": "code",
   "execution_count": 20,
   "metadata": {},
   "outputs": [
    {
     "name": "stdout",
     "output_type": "stream",
     "text": [
      "uint8\n",
      "[[0 0 0 0 0]\n",
      " [0 0 5 0 0]\n",
      " [0 0 0 0 0]\n",
      " [0 0 0 0 0]\n",
      " [4 4 0 0 0]]\n"
     ]
    },
    {
     "data": {
      "image/png": "[encoded data removed]",
      "text/plain": [
       "<Figure size 640x480 with 1 Axes>"
      ]
     },
     "metadata": {},
     "output_type": "display_data"
    }
   ],
   "source": [
    "def create_level_screen_heatmap(df_session:pd.DataFrame,\n",
    "                          level:int,\n",
    "                          bins:int=50,\n",
    "                          min_value:int=0,\n",
    "                          max_value:int=376) -> np.ndarray:\n",
    "    \"\"\"\n",
    "    Creates a heatmap for the screen of the given level.\n",
    "    \"\"\"\n",
    "    df_level = df_session \\\n",
    "        .query('level == @level') \\\n",
    "        .fillna(0)\n",
    "    \n",
    "    # return an empty heatmap if there are no events for the given level\n",
    "    if df_level.shape[0] == 0:\n",
    "        return np.zeros((bins, bins), dtype=np.uint8)\n",
    "\n",
    "    # Create the 2D histogram\n",
    "    heatmap, xedges, yedges = np.histogram2d(df_level.screen_coor_y, \n",
    "                                             df_level.screen_coor_x, \n",
    "                                             bins=bins)\n",
    "    \n",
    "    # Normalize the heatmap\n",
    "    normalized_heatmap = (heatmap - min_value) / (max_value - min_value)\n",
    "\n",
    "    # Scale the heatmap to the range 0-255\n",
    "    scaled_heatmap = (normalized_heatmap * 255).astype(np.uint8)\n",
    "\n",
    "    return scaled_heatmap\n",
    "\n",
    "# test the function\n",
    "session_id = 20090312433251036\n",
    "heatmap = create_level_screen_heatmap(df_source.query('session_id == @session_id'), 0, bins=5)\n",
    "print(heatmap.dtype)\n",
    "print(heatmap)\n",
    "\n",
    "plt.imshow(heatmap, cmap='hot', origin='lower')\n",
    "plt.axis('off')\n",
    "plt.show()"
   ]
  },
  {
   "cell_type": "markdown",
   "metadata": {},
   "source": [
    "#### Find The Maximum Value In The Heatmap"
   ]
  },
  {
   "cell_type": "code",
   "execution_count": 21,
   "metadata": {},
   "outputs": [],
   "source": [
    "def get_heatmap_max_min(df_source:pd.DataFrame, \n",
    "                        df_source_labels:pd.DataFrame) -> Tuple[float, float]:\n",
    "    \"\"\"\n",
    "    Returns the maximum and minimum values of the heatmap to use\n",
    "    for normalization.\n",
    "    \"\"\"\n",
    "    best_max = None\n",
    "    best_min = None\n",
    "\n",
    "    for session_id in tqdm(df_source_labels['session_id'].unique()):\n",
    "        df_session = df_source.query('session_id == @session_id')\n",
    "        for level in range(1, 23):\n",
    "            heatmap = create_level_screen_heatmap(df_session, level)\n",
    "            \n",
    "            cur_max = np.max(heatmap)\n",
    "            cur_min = np.min(heatmap)\n",
    "            \n",
    "            if best_max is None or cur_max > best_max:\n",
    "                best_max = cur_max\n",
    "\n",
    "            if best_min is None or cur_min < best_min:\n",
    "                best_min = cur_min\n",
    "\n",
    "    print(f'Best max: {best_max}')\n",
    "    print(f'Best min: {best_min}')\n",
    "\n",
    "    return best_max, best_min\n",
    "\n",
    "# get the max and min values\n",
    "#best_max, best_min = get_heatmap_max_min(df_source, df_source_labels)\n",
    "        "
   ]
  },
  {
   "cell_type": "code",
   "execution_count": 22,
   "metadata": {},
   "outputs": [
    {
     "name": "stdout",
     "output_type": "stream",
     "text": [
      "(23, 5, 5)\n"
     ]
    }
   ],
   "source": [
    "def create_level_group_screen_heatmap(df_session:pd.DataFrame,\n",
    "                                      level_group:str,\n",
    "                                      bins:int=50,\n",
    "                                      min_value:int=0,\n",
    "                                      max_value:int=376) -> np.ndarray:\n",
    "    \"\"\"\n",
    "    Creates heatmaps for the screen of the given level group.\n",
    "    \"\"\"\n",
    "    heatmaps = []\n",
    "    level_range = range(0, 23)\n",
    "\n",
    "    # select only the levels in the given level group\n",
    "    df_level_group = df_session.query('level_group == @level_group')\n",
    "    #print(df_level_group.shape)\n",
    "\n",
    "    # create the heatmaps\n",
    "    for level in level_range:\n",
    "        heatmap = create_level_screen_heatmap(df_level_group, level, bins, min_value, max_value)\n",
    "\n",
    "        # normalize the heatmap\n",
    "        heatmap = heatmap / 255\n",
    "\n",
    "        heatmaps.append(heatmap)\n",
    "\n",
    "    return np.array(heatmaps, dtype=np.float32)\n",
    "\n",
    "# test the function\n",
    "session_id = 20090312433251036\n",
    "level_group = '0-4'\n",
    "#level_group = '5-12'\n",
    "#level_group = '13-22'\n",
    "df_session = df_source.query('session_id == @session_id')\n",
    "\n",
    "group_heatmaps = create_level_group_screen_heatmap(df_session, level_group, bins=5)\n",
    "print(group_heatmaps.shape)\n",
    "#display(group_heatmaps)\n"
   ]
  },
  {
   "cell_type": "code",
   "execution_count": 23,
   "metadata": {},
   "outputs": [
    {
     "data": {
      "application/vnd.jupyter.widget-view+json": {
       "model_id": "1f32e8aa8b2f49678d08e9c324f1428e",
       "version_major": 2,
       "version_minor": 0
      },
      "text/plain": [
       "  0%|          | 0/11779 [00:00<?, ?it/s]"
      ]
     },
     "metadata": {},
     "output_type": "display_data"
    },
    {
     "data": {
      "text/html": [
       "<div>\n",
       "<style scoped>\n",
       "    .dataframe tbody tr th:only-of-type {\n",
       "        vertical-align: middle;\n",
       "    }\n",
       "\n",
       "    .dataframe tbody tr th {\n",
       "        vertical-align: top;\n",
       "    }\n",
       "\n",
       "    .dataframe thead th {\n",
       "        text-align: right;\n",
       "    }\n",
       "</style>\n",
       "<table border=\"1\" class=\"dataframe\">\n",
       "  <thead>\n",
       "    <tr style=\"text-align: right;\">\n",
       "      <th></th>\n",
       "      <th>session_id</th>\n",
       "      <th>level_group</th>\n",
       "      <th>symbolic_score_feature</th>\n",
       "      <th>elapsed_time</th>\n",
       "      <th>screen_heatmap_feature</th>\n",
       "    </tr>\n",
       "  </thead>\n",
       "  <tbody>\n",
       "    <tr>\n",
       "      <th>0</th>\n",
       "      <td>20090312431273200</td>\n",
       "      <td>0-4</td>\n",
       "      <td>[1, 0, 0]</td>\n",
       "      <td>0.064953</td>\n",
       "      <td>[[[0.0, 0.0, 0.0, 0.0, 0.0], [0.0, 0.0, 0.0, 0...</td>\n",
       "    </tr>\n",
       "    <tr>\n",
       "      <th>1</th>\n",
       "      <td>20090312431273200</td>\n",
       "      <td>13-22</td>\n",
       "      <td>[0, 1, 0]</td>\n",
       "      <td>0.424226</td>\n",
       "      <td>[[[0.0, 0.0, 0.0, 0.0, 0.0], [0.0, 0.0, 0.0, 0...</td>\n",
       "    </tr>\n",
       "    <tr>\n",
       "      <th>2</th>\n",
       "      <td>20090312431273200</td>\n",
       "      <td>5-12</td>\n",
       "      <td>[1, 0, 0]</td>\n",
       "      <td>0.166412</td>\n",
       "      <td>[[[0.0, 0.0, 0.0, 0.0, 0.0], [0.0, 0.0, 0.0, 0...</td>\n",
       "    </tr>\n",
       "    <tr>\n",
       "      <th>3</th>\n",
       "      <td>20090312433251036</td>\n",
       "      <td>0-4</td>\n",
       "      <td>[0, 1, 0]</td>\n",
       "      <td>0.077917</td>\n",
       "      <td>[[[0.0, 0.0, 0.0, 0.0, 0.0], [0.0, 0.0, 0.0196...</td>\n",
       "    </tr>\n",
       "    <tr>\n",
       "      <th>4</th>\n",
       "      <td>20090312433251036</td>\n",
       "      <td>13-22</td>\n",
       "      <td>[0, 1, 0]</td>\n",
       "      <td>1.000000</td>\n",
       "      <td>[[[0.0, 0.0, 0.0, 0.0, 0.0], [0.0, 0.0, 0.0, 0...</td>\n",
       "    </tr>\n",
       "    <tr>\n",
       "      <th>5</th>\n",
       "      <td>20090312433251036</td>\n",
       "      <td>5-12</td>\n",
       "      <td>[0, 0, 1]</td>\n",
       "      <td>0.272536</td>\n",
       "      <td>[[[0.0, 0.0, 0.0, 0.0, 0.0], [0.0, 0.0, 0.0, 0...</td>\n",
       "    </tr>\n",
       "    <tr>\n",
       "      <th>6</th>\n",
       "      <td>20090314121766812</td>\n",
       "      <td>0-4</td>\n",
       "      <td>[1, 0, 0]</td>\n",
       "      <td>0.131120</td>\n",
       "      <td>[[[0.0, 0.0, 0.0, 0.0, 0.003921569], [0.0, 0.0...</td>\n",
       "    </tr>\n",
       "    <tr>\n",
       "      <th>7</th>\n",
       "      <td>20090314121766812</td>\n",
       "      <td>13-22</td>\n",
       "      <td>[0, 1, 0]</td>\n",
       "      <td>0.711261</td>\n",
       "      <td>[[[0.0, 0.0, 0.0, 0.0, 0.0], [0.0, 0.0, 0.0, 0...</td>\n",
       "    </tr>\n",
       "    <tr>\n",
       "      <th>8</th>\n",
       "      <td>20090314121766812</td>\n",
       "      <td>5-12</td>\n",
       "      <td>[0, 0, 1]</td>\n",
       "      <td>0.339017</td>\n",
       "      <td>[[[0.0, 0.0, 0.0, 0.0, 0.0], [0.0, 0.0, 0.0, 0...</td>\n",
       "    </tr>\n",
       "    <tr>\n",
       "      <th>9</th>\n",
       "      <td>20090314363702160</td>\n",
       "      <td>0-4</td>\n",
       "      <td>[1, 0, 0]</td>\n",
       "      <td>0.072525</td>\n",
       "      <td>[[[0.0, 0.0, 0.0, 0.0, 0.0], [0.0, 0.0, 0.0, 0...</td>\n",
       "    </tr>\n",
       "  </tbody>\n",
       "</table>\n",
       "</div>"
      ],
      "text/plain": [
       "          session_id level_group symbolic_score_feature  elapsed_time  \\\n",
       "0  20090312431273200         0-4              [1, 0, 0]      0.064953   \n",
       "1  20090312431273200       13-22              [0, 1, 0]      0.424226   \n",
       "2  20090312431273200        5-12              [1, 0, 0]      0.166412   \n",
       "3  20090312433251036         0-4              [0, 1, 0]      0.077917   \n",
       "4  20090312433251036       13-22              [0, 1, 0]      1.000000   \n",
       "5  20090312433251036        5-12              [0, 0, 1]      0.272536   \n",
       "6  20090314121766812         0-4              [1, 0, 0]      0.131120   \n",
       "7  20090314121766812       13-22              [0, 1, 0]      0.711261   \n",
       "8  20090314121766812        5-12              [0, 0, 1]      0.339017   \n",
       "9  20090314363702160         0-4              [1, 0, 0]      0.072525   \n",
       "\n",
       "                              screen_heatmap_feature  \n",
       "0  [[[0.0, 0.0, 0.0, 0.0, 0.0], [0.0, 0.0, 0.0, 0...  \n",
       "1  [[[0.0, 0.0, 0.0, 0.0, 0.0], [0.0, 0.0, 0.0, 0...  \n",
       "2  [[[0.0, 0.0, 0.0, 0.0, 0.0], [0.0, 0.0, 0.0, 0...  \n",
       "3  [[[0.0, 0.0, 0.0, 0.0, 0.0], [0.0, 0.0, 0.0196...  \n",
       "4  [[[0.0, 0.0, 0.0, 0.0, 0.0], [0.0, 0.0, 0.0, 0...  \n",
       "5  [[[0.0, 0.0, 0.0, 0.0, 0.0], [0.0, 0.0, 0.0, 0...  \n",
       "6  [[[0.0, 0.0, 0.0, 0.0, 0.003921569], [0.0, 0.0...  \n",
       "7  [[[0.0, 0.0, 0.0, 0.0, 0.0], [0.0, 0.0, 0.0, 0...  \n",
       "8  [[[0.0, 0.0, 0.0, 0.0, 0.0], [0.0, 0.0, 0.0, 0...  \n",
       "9  [[[0.0, 0.0, 0.0, 0.0, 0.0], [0.0, 0.0, 0.0, 0...  "
      ]
     },
     "metadata": {},
     "output_type": "display_data"
    }
   ],
   "source": [
    "def add_screen_heatmap_feature(features:pd.DataFrame,\n",
    "                               X:pd.DataFrame,\n",
    "                               y:pd.DataFrame,\n",
    "                               bins:int=50,\n",
    "                               min_value:int=0,\n",
    "                               max_value:int=376) -> None:\n",
    "    \"\"\"\n",
    "    Adds the screen heatmap feature to the features dataset.\n",
    "    \"\"\"\n",
    "    heatmaps_feature = []\n",
    "    for session_id in tqdm(features['session_id'].unique()):\n",
    "        df_session = X.query('session_id == @session_id')\n",
    "        df_session_features = features.query('session_id == @session_id')\n",
    "\n",
    "        # process each level group the session features\n",
    "        for index, row in df_session_features.iterrows():\n",
    "            level_group = row['level_group']\n",
    "\n",
    "            group_heatmaps = create_level_group_screen_heatmap(df_session, level_group, bins, min_value, max_value)\n",
    "            heatmaps_feature.append(group_heatmaps)\n",
    "\n",
    "    # add the feature to the features dataset\n",
    "    features['screen_heatmap_feature'] = pd.Series(heatmaps_feature)\n",
    "\n",
    "# test the function\n",
    "add_screen_heatmap_feature(df_features, df_source, df_source_labels, bins=5)\n",
    "\n",
    "with pd.option_context('display.max_columns', None):\n",
    "    display(df_features.head(10))"
   ]
  },
  {
   "attachments": {},
   "cell_type": "markdown",
   "metadata": {},
   "source": [
    "## Functions to Create Datasets"
   ]
  },
  {
   "cell_type": "code",
   "execution_count": 24,
   "metadata": {},
   "outputs": [],
   "source": [
    "def select_sessions(\n",
    "        y: pd.DataFrame,\n",
    "        sample_size: int,\n",
    "        random_state: int=1337) -> Tuple[np.ndarray, np.ndarray, np.ndarray]:\n",
    "    \"\"\"\n",
    "    Selects a sample of sessions from the dataset.\n",
    "\n",
    "    Parameters\n",
    "    ----------\n",
    "    y : pd.DataFrame\n",
    "        The label dataset.\n",
    "    sample_size : int\n",
    "        The number of sessions to select.\n",
    "    random_state : int\n",
    "        The random state to use.\n",
    "\n",
    "    Returns\n",
    "    -------\n",
    "    Tuple[np.ndarray, np.ndarray, np.ndarray]\n",
    "        The selected session ids, the main dataset and the label dataset.\n",
    "    \"\"\"\n",
    "    # select all the unique session ids\n",
    "    all_session_ids = y['session_id'].unique()\n",
    "\n",
    "    # create a sample for testing\n",
    "    session_ids = np.random.choice(all_session_ids, size=sample_size, replace=False)\n",
    "\n",
    "    # split the dataset into train, validation and test sets\n",
    "    train, test = train_test_split(session_ids, test_size=0.4)\n",
    "    test, val = train_test_split(test, test_size=0.5)\n",
    "\n",
    "    # print the number of sessions in each set\n",
    "    print(f'Train: {len(train)}')\n",
    "    print(f'Validation: {len(val)}')\n",
    "    print(f'Test: {len(test)}')\n",
    "\n",
    "    return train, val, test"
   ]
  },
  {
   "cell_type": "code",
   "execution_count": 25,
   "metadata": {},
   "outputs": [
    {
     "data": {
      "application/vnd.jupyter.widget-view+json": {
       "model_id": "24221a45be0d4e698f7b4be910e62949",
       "version_major": 2,
       "version_minor": 0
      },
      "text/plain": [
       "0it [00:00, ?it/s]"
      ]
     },
     "metadata": {},
     "output_type": "display_data"
    },
    {
     "name": "stdout",
     "output_type": "stream",
     "text": [
      "[[0.06495333]\n",
      " [0.07791733]\n",
      " [0.13112   ]\n",
      " [0.06495333]\n",
      " [0.07791733]\n",
      " [0.13112   ]\n",
      " [0.06495333]\n",
      " [0.07791733]\n",
      " [0.13112   ]]\n",
      "(9, 1)\n"
     ]
    }
   ],
   "source": [
    "def create_feature_dataset(df_features:pd.DataFrame,\n",
    "                           df_source_labels:pd.DataFrame,\n",
    "                           session_list: list,\n",
    "                           level_group:str,\n",
    "                           feature_list:list) -> np.array:\n",
    "    # get the features and labels for the given level group\n",
    "    df_features_level_group = df_features.query('level_group == @level_group and session_id in @session_list')\n",
    "    df_labels_level_group = df_source_labels.query('level_group == @level_group and session_id in @session_list')\n",
    "\n",
    "    feature_dataset = []\n",
    "\n",
    "    # get the features for each row in the level group labels dataset\n",
    "    current_session_id = None\n",
    "    df_session_features = None\n",
    "\n",
    "    for index, row in tqdm(df_labels_level_group.iterrows()):        \n",
    "        session_id = row['session_id']\n",
    "\n",
    "        # get the features for the session\n",
    "        if session_id != current_session_id:\n",
    "            current_session_id = session_id\n",
    "            df_session_features = df_features_level_group.query('session_id == @session_id')\n",
    "\n",
    "        # check if the session has features\n",
    "        if df_session_features.shape[0] == 0:\n",
    "            raise Exception(f'No features for session {session_id}!')\n",
    "                            \n",
    "        # get the features for the row\n",
    "        row_features = []\n",
    "        for feature in feature_list:\n",
    "            feature_value = df_session_features[feature].values[0]\n",
    "\n",
    "            # check if the feature value is iterable\n",
    "            if isinstance(feature_value, Iterable):\n",
    "                row_features.extend(feature_value)\n",
    "            else:\n",
    "                row_features.append(feature_value)\n",
    "\n",
    "        # add the row features to the output dataset\n",
    "        feature_dataset.append(row_features)\n",
    "\n",
    "    return np.array(feature_dataset)\n",
    "\n",
    "# test the function\n",
    "session_list = df_source_labels['session_id'].unique()[:3]\n",
    "level_group = '0-4'\n",
    "#feature_list = ['symbolic_score_feature', 'symbolic_score_feature']\n",
    "#feature_list = ['screen_heatmap_feature']\n",
    "feature_list = ['elapsed_time']\n",
    "#feature_list = ['elapsed_time', 'symbolic_score_feature']\n",
    "\n",
    "features = create_feature_dataset(df_features, df_source_labels, session_list, level_group, feature_list)\n",
    "print(features)\n",
    "print(features.shape)"
   ]
  },
  {
   "attachments": {},
   "cell_type": "markdown",
   "metadata": {},
   "source": [
    "### Create Answers Dataset"
   ]
  },
  {
   "cell_type": "code",
   "execution_count": 26,
   "metadata": {},
   "outputs": [
    {
     "data": {
      "text/plain": [
       "array([1, 1, 1, 1, 1, 1, 1, 1, 1, 1, 1, 1, 0, 1, 1, 0, 1, 1, 0, 1, 1, 1,\n",
       "       0, 1, 1, 0, 1, 0, 0, 1, 0, 1, 0, 1, 0, 1, 1, 1, 1, 0, 0, 1, 1, 0,\n",
       "       0, 1, 1, 1, 0, 1, 1, 1, 0, 1], dtype=int8)"
      ]
     },
     "execution_count": 26,
     "metadata": {},
     "output_type": "execute_result"
    }
   ],
   "source": [
    "def create_answers_dataset(session_list: list,\n",
    "                           df_source_labels:pd.DataFrame) -> np.array:\n",
    "    # get the relevant sessions\n",
    "    answers = df_source_labels \\\n",
    "        .query('session_id in @session_list') \\\n",
    "        .sort_values(by=['session_id', 'question_num']) \\\n",
    "        .correct \\\n",
    "        .values\n",
    "    \n",
    "    return np.array(answers, dtype=np.int8)\n",
    "\n",
    "\n",
    "# test the function\n",
    "session_list = df_source_labels['session_id'].unique()[:3]\n",
    "test_answers = create_answers_dataset(session_list, df_source_labels)\n",
    "test_answers"
   ]
  },
  {
   "cell_type": "code",
   "execution_count": 27,
   "metadata": {},
   "outputs": [
    {
     "data": {
      "application/vnd.jupyter.widget-view+json": {
       "model_id": "3c766f7b920a402f8165d41fea5692fd",
       "version_major": 2,
       "version_minor": 0
      },
      "text/plain": [
       "0it [00:00, ?it/s]"
      ]
     },
     "metadata": {},
     "output_type": "display_data"
    },
    {
     "data": {
      "text/plain": [
       "array([[1.        , 0.        , 0.        , 0.        , 0.        ,\n",
       "        0.        , 0.        , 0.        , 0.        , 0.        ,\n",
       "        0.        , 0.        , 0.        , 0.        , 0.        ,\n",
       "        0.        , 0.        , 0.        , 0.06495333],\n",
       "       [0.        , 1.        , 0.        , 0.        , 0.        ,\n",
       "        0.        , 0.        , 0.        , 0.        , 0.        ,\n",
       "        0.        , 0.        , 0.        , 0.        , 0.        ,\n",
       "        0.        , 0.        , 0.        , 0.06495333],\n",
       "       [0.        , 0.        , 1.        , 0.        , 0.        ,\n",
       "        0.        , 0.        , 0.        , 0.        , 0.        ,\n",
       "        0.        , 0.        , 0.        , 0.        , 0.        ,\n",
       "        0.        , 0.        , 0.        , 0.06495333],\n",
       "       [0.        , 0.        , 0.        , 1.        , 0.        ,\n",
       "        0.        , 0.        , 0.        , 0.        , 0.        ,\n",
       "        0.        , 0.        , 0.        , 0.        , 0.        ,\n",
       "        0.        , 0.        , 0.        , 0.16641167],\n",
       "       [0.        , 0.        , 0.        , 0.        , 1.        ,\n",
       "        0.        , 0.        , 0.        , 0.        , 0.        ,\n",
       "        0.        , 0.        , 0.        , 0.        , 0.        ,\n",
       "        0.        , 0.        , 0.        , 0.16641167],\n",
       "       [0.        , 0.        , 0.        , 0.        , 0.        ,\n",
       "        1.        , 0.        , 0.        , 0.        , 0.        ,\n",
       "        0.        , 0.        , 0.        , 0.        , 0.        ,\n",
       "        0.        , 0.        , 0.        , 0.16641167],\n",
       "       [0.        , 0.        , 0.        , 0.        , 0.        ,\n",
       "        0.        , 1.        , 0.        , 0.        , 0.        ,\n",
       "        0.        , 0.        , 0.        , 0.        , 0.        ,\n",
       "        0.        , 0.        , 0.        , 0.16641167],\n",
       "       [0.        , 0.        , 0.        , 0.        , 0.        ,\n",
       "        0.        , 0.        , 1.        , 0.        , 0.        ,\n",
       "        0.        , 0.        , 0.        , 0.        , 0.        ,\n",
       "        0.        , 0.        , 0.        , 0.16641167],\n",
       "       [0.        , 0.        , 0.        , 0.        , 0.        ,\n",
       "        0.        , 0.        , 0.        , 1.        , 0.        ,\n",
       "        0.        , 0.        , 0.        , 0.        , 0.        ,\n",
       "        0.        , 0.        , 0.        , 0.16641167],\n",
       "       [0.        , 0.        , 0.        , 0.        , 0.        ,\n",
       "        0.        , 0.        , 0.        , 0.        , 1.        ,\n",
       "        0.        , 0.        , 0.        , 0.        , 0.        ,\n",
       "        0.        , 0.        , 0.        , 0.16641167],\n",
       "       [0.        , 0.        , 0.        , 0.        , 0.        ,\n",
       "        0.        , 0.        , 0.        , 0.        , 0.        ,\n",
       "        1.        , 0.        , 0.        , 0.        , 0.        ,\n",
       "        0.        , 0.        , 0.        , 0.16641167],\n",
       "       [0.        , 0.        , 0.        , 0.        , 0.        ,\n",
       "        0.        , 0.        , 0.        , 0.        , 0.        ,\n",
       "        0.        , 1.        , 0.        , 0.        , 0.        ,\n",
       "        0.        , 0.        , 0.        , 0.16641167],\n",
       "       [0.        , 0.        , 0.        , 0.        , 0.        ,\n",
       "        0.        , 0.        , 0.        , 0.        , 0.        ,\n",
       "        0.        , 0.        , 1.        , 0.        , 0.        ,\n",
       "        0.        , 0.        , 0.        , 0.16641167],\n",
       "       [0.        , 0.        , 0.        , 0.        , 0.        ,\n",
       "        0.        , 0.        , 0.        , 0.        , 0.        ,\n",
       "        0.        , 0.        , 0.        , 1.        , 0.        ,\n",
       "        0.        , 0.        , 0.        , 0.42422633],\n",
       "       [0.        , 0.        , 0.        , 0.        , 0.        ,\n",
       "        0.        , 0.        , 0.        , 0.        , 0.        ,\n",
       "        0.        , 0.        , 0.        , 0.        , 1.        ,\n",
       "        0.        , 0.        , 0.        , 0.42422633],\n",
       "       [0.        , 0.        , 0.        , 0.        , 0.        ,\n",
       "        0.        , 0.        , 0.        , 0.        , 0.        ,\n",
       "        0.        , 0.        , 0.        , 0.        , 0.        ,\n",
       "        1.        , 0.        , 0.        , 0.42422633],\n",
       "       [0.        , 0.        , 0.        , 0.        , 0.        ,\n",
       "        0.        , 0.        , 0.        , 0.        , 0.        ,\n",
       "        0.        , 0.        , 0.        , 0.        , 0.        ,\n",
       "        0.        , 1.        , 0.        , 0.42422633],\n",
       "       [0.        , 0.        , 0.        , 0.        , 0.        ,\n",
       "        0.        , 0.        , 0.        , 0.        , 0.        ,\n",
       "        0.        , 0.        , 0.        , 0.        , 0.        ,\n",
       "        0.        , 0.        , 1.        , 0.42422633]])"
      ]
     },
     "execution_count": 27,
     "metadata": {},
     "output_type": "execute_result"
    }
   ],
   "source": [
    "def create_answers_feature_dataset(session_list:list,\n",
    "                                   df_source_labels:pd.DataFrame,\n",
    "                                   df_features:pd.DataFrame,\n",
    "                                   feature_list:list) -> np.array:\n",
    "    answers = df_source_labels \\\n",
    "        .query('session_id in @session_list') \\\n",
    "        .sort_values(by=['session_id', 'question_num'])\n",
    "    \n",
    "    \n",
    "    feature_dataset = []\n",
    "    for index, row in tqdm(answers.iterrows()):\n",
    "        session_id = int(row['session_id'])\n",
    "        question_num = int(row['question_num'])\n",
    "        level_group = row['level_group']\n",
    "\n",
    "        # get the question number one-hot encoded\n",
    "        question_num_one_hot = np.zeros(18, dtype=np.int8)\n",
    "        question_num_one_hot[question_num-1] = 1\n",
    "        \n",
    "        # get the features for the session\n",
    "        df_session_features = df_features.query('session_id == @session_id and level_group == @level_group')\n",
    "        \n",
    "        # check if the session has features\n",
    "        if df_session_features.shape[0] == 0:\n",
    "            raise Exception(f'No features for session {session_id}!')\n",
    "        \n",
    "        # get the features for the row\n",
    "        row_features = []\n",
    "        row_features.extend(question_num_one_hot)\n",
    "        \n",
    "        for feature in feature_list:\n",
    "            feature_value = df_session_features[feature].values[0]\n",
    "\n",
    "            # check if the feature value is iterable\n",
    "            if isinstance(feature_value, Iterable):\n",
    "                row_features.extend(feature_value)\n",
    "            else:\n",
    "                row_features.append(feature_value)\n",
    "\n",
    "        # add the row features to the output dataset\n",
    "        feature_dataset.append(row_features)\n",
    "\n",
    "    return np.array(feature_dataset)\n",
    "    \n",
    "# test the function\n",
    "session_list = df_source_labels['session_id'].unique()[:1]\n",
    "feature_list = ['elapsed_time']\n",
    "#feature_list = []\n",
    "test_features = create_answers_feature_dataset(session_list, df_source_labels, df_features, feature_list)\n",
    "test_features"
   ]
  },
  {
   "attachments": {},
   "cell_type": "markdown",
   "metadata": {},
   "source": [
    "## Functions for Model Training"
   ]
  },
  {
   "cell_type": "code",
   "execution_count": 28,
   "metadata": {},
   "outputs": [],
   "source": [
    "def plot_loss(history: callbacks.History, figsize: Tuple[int, int] = (5, 3)) -> None:\n",
    "    \"\"\"\n",
    "    Plot the loss and validation loss.\n",
    "\n",
    "    Parameters\n",
    "    ----------\n",
    "    history : keras.callbacks.History\n",
    "        The history of the model training.\n",
    "    \"\"\"\n",
    "    epochs = range(1, len(history.history['accuracy']) + 1)\n",
    "\n",
    "    # summarize history for loss\n",
    "    plt.figure(figsize=figsize)\n",
    "    plt.plot(epochs, history.history['loss'])\n",
    "    \n",
    "    if ('val_loss' in history.history):\n",
    "        plt.plot(epochs, history.history['val_loss'])\n",
    "        plt.legend(['Training loss', 'Validation loss'], loc='upper left')\n",
    "        plt.title('Training and validation loss')\n",
    "    else:\n",
    "        plt.title('Training loss')\n",
    "\n",
    "    plt.xlabel('Epochs')\n",
    "    plt.ylabel('Loss')\n",
    "\n",
    "    plt.show()"
   ]
  },
  {
   "cell_type": "code",
   "execution_count": 29,
   "metadata": {},
   "outputs": [],
   "source": [
    "def plot_accuracy(history: callbacks.History, figsize: Tuple[int, int] = (5, 3)) -> None:\n",
    "    \"\"\"\n",
    "    Plot the accuracy and validation accuracy.\n",
    "\n",
    "    Parameters\n",
    "    ----------\n",
    "    history : keras.callbacks.History\n",
    "        The history of the model training.\n",
    "    \"\"\"\n",
    "    epochs = range(1, len(history.history['accuracy']) + 1)\n",
    "\n",
    "    # summarize history for accuracy\n",
    "    plt.figure(figsize=figsize)\n",
    "    plt.plot(epochs, history.history['accuracy'])\n",
    "\n",
    "    if ('val_accuracy' in history.history):\n",
    "        plt.plot(epochs, history.history['val_accuracy'])\n",
    "        plt.legend(['Training acc', 'Validation acc'], loc='upper left')\n",
    "        plt.title('Training and validation accuracy')\n",
    "    else:\n",
    "        plt.title('Training accuracy')\n",
    "\n",
    "    plt.xlabel('Epochs')\n",
    "    plt.ylabel('Accuracy')\n",
    "\n",
    "    plt.show()"
   ]
  },
  {
   "cell_type": "code",
   "execution_count": 193,
   "metadata": {},
   "outputs": [],
   "source": [
    "def test_model(\n",
    "        model,\n",
    "        history: callbacks.History,\n",
    "        X_test: np.ndarray,\n",
    "        y_test: np.ndarray,\n",
    "        show_plots: bool = True) -> float:\n",
    "    \"\"\"\n",
    "    Test the model based on the test data.\n",
    "\n",
    "    Parameters\n",
    "    ----------\n",
    "    model : keras.models\n",
    "        The model to test.\n",
    "    history : keras.callbacks.History\n",
    "        The history of the training.\n",
    "    X_test : np.ndarray\n",
    "        The test data.\n",
    "    y_test : np.ndarray\n",
    "        The test labels.\n",
    "\n",
    "    Returns\n",
    "    -------\n",
    "    float\n",
    "        The optimized threshold for the best F1 score.\n",
    "    \"\"\"\n",
    "    if show_plots:\n",
    "        plot_loss(history)\n",
    "        plot_accuracy(history)\n",
    "\n",
    "    y_test_score = model.predict(X_test)\n",
    "    #threshold, _, _ = optimize_f1(y_test, y_test_score)\n",
    "    threshold = 0.5\n",
    "\n",
    "    report = classification_report(y_test, y_test_score > threshold, zero_division=1)\n",
    "    print(report)\n",
    "    print(f'Optimized threshold for best F1: {threshold:.2f}')\n",
    "\n",
    "    gc.collect()\n",
    "\n",
    "    return threshold, report"
   ]
  },
  {
   "cell_type": "code",
   "execution_count": 31,
   "metadata": {},
   "outputs": [],
   "source": [
    "def optimize_f1(y_true: np.ndarray, y_score: np.ndarray) -> Tuple[float, float, float]:\n",
    "    \"\"\"\n",
    "    Optimize the F1 score.\n",
    "\n",
    "    Parameters\n",
    "    ----------\n",
    "    y_true : np.ndarray\n",
    "        The true labels.\n",
    "    y_score : np.ndarray\n",
    "        The predicted labels.\n",
    "\n",
    "    Returns\n",
    "    -------\n",
    "    Tuple[float, float, float]\n",
    "        The optimized threshold, precision, and recall.\n",
    "    \"\"\"\n",
    "    best_f1 = 0\n",
    "    best_threshold = 0\n",
    "    best_precision = 0\n",
    "    best_recall = 0\n",
    "\n",
    "    for threshold in np.arange(0, 1, 0.01):\n",
    "        y_pred = (y_score > threshold).astype(int)\n",
    "        precision, recall, f1, _ = precision_recall_fscore_support(y_true, y_pred, average='macro', zero_division=1)\n",
    "\n",
    "        if f1 > best_f1:\n",
    "            best_f1 = f1\n",
    "            best_threshold = threshold\n",
    "            best_precision = precision\n",
    "            best_recall = recall\n",
    "\n",
    "    return best_threshold, best_precision, best_recall"
   ]
  },
  {
   "cell_type": "code",
   "execution_count": 32,
   "metadata": {},
   "outputs": [],
   "source": [
    "def train_model(\n",
    "        model,\n",
    "        X_train: np.ndarray,\n",
    "        y_train: np.ndarray,\n",
    "        X_val : np.ndarray,\n",
    "        y_val: np.ndarray,\n",
    "        epochs: int,\n",
    "        batch_size: int,\n",
    "        optimizer,\n",
    "        loss: str,\n",
    "        metrics: list,\n",
    "        class_weight: dict=None) -> callbacks.History:\n",
    "    \"\"\"\n",
    "    Train the keras model based on the parameters.\n",
    "\n",
    "    Parameters\n",
    "    ----------\n",
    "    model : keras.models\n",
    "        The model to train.\n",
    "    X_train : np.ndarray\n",
    "        The training data.\n",
    "    y_train : np.ndarray\n",
    "        The training labels.\n",
    "    X_val : np.ndarray\n",
    "        The validation data.\n",
    "    y_val : np.ndarray\n",
    "        The validation labels.\n",
    "    epochs : int\n",
    "        The number of epochs.\n",
    "    batch_size : int\n",
    "        The batch size.\n",
    "    optimizer : keras.optimizers\n",
    "        The optimizer.\n",
    "    loss : str\n",
    "        The loss function.\n",
    "    metrics : list\n",
    "        The metrics.\n",
    "    class_weight : dict, optional\n",
    "        The class weights, by default None\n",
    "    \n",
    "    Returns\n",
    "    -------\n",
    "    keras.callbacks.History\n",
    "        The history of the training.\n",
    "    \"\"\"\n",
    "    # compile the model\n",
    "    model.compile(\n",
    "        optimizer=optimizer,\n",
    "        loss=loss,\n",
    "        metrics=metrics)\n",
    "    \n",
    "    # fit the model\n",
    "    history = model.fit(\n",
    "        x=X_train,\n",
    "        y=y_train,\n",
    "        epochs=epochs,\n",
    "        batch_size=batch_size,\n",
    "        validation_data=(X_val, y_val),\n",
    "        class_weight=class_weight)\n",
    "    \n",
    "    return history"
   ]
  },
  {
   "cell_type": "code",
   "execution_count": 33,
   "metadata": {},
   "outputs": [],
   "source": [
    "def train_and_test_model(\n",
    "        model,\n",
    "        X_train: np.ndarray,\n",
    "        y_train: np.ndarray,\n",
    "        X_val : np.ndarray,\n",
    "        y_val: np.ndarray,\n",
    "        X_test: np.ndarray,\n",
    "        y_test: np.ndarray,\n",
    "        epochs: int,\n",
    "        batch_size: int,\n",
    "        optimizer,\n",
    "        loss: str,\n",
    "        metrics: list,\n",
    "        class_weight: dict=None,\n",
    "        clear_learning: bool = False,\n",
    "        show_plots: bool = True) -> float:\n",
    "    \"\"\"\n",
    "    Train and test the model.\n",
    "\n",
    "    Parameters\n",
    "    ----------\n",
    "    model : keras.models\n",
    "        The model to train and test.\n",
    "    X_train : np.ndarray\n",
    "        The training data.\n",
    "    y_train : np.ndarray\n",
    "        The training labels.\n",
    "    X_val : np.ndarray\n",
    "        The validation data.\n",
    "    y_val : np.ndarray\n",
    "        The validation labels.\n",
    "    X_test : np.ndarray\n",
    "        The test data.\n",
    "    y_test : np.ndarray\n",
    "        The test labels.\n",
    "    epochs : int\n",
    "        The number of epochs.\n",
    "    batch_size : int\n",
    "        The batch size.\n",
    "    optimizer : keras.optimizers\n",
    "        The optimizer.\n",
    "    loss : str\n",
    "        The loss function.\n",
    "    metrics : list\n",
    "        The metrics.\n",
    "    class_weight : dict, optional\n",
    "        The class weights, by default None\n",
    "\n",
    "    Returns\n",
    "    -------\n",
    "    float\n",
    "        The optimized threshold for the best F1 score.\n",
    "    \"\"\"\n",
    "    history = train_model(\n",
    "        model=model,\n",
    "        X_train=X_train,\n",
    "        y_train=y_train,\n",
    "        X_val=X_val,\n",
    "        y_val=y_val,\n",
    "        epochs=epochs,\n",
    "        batch_size=batch_size,\n",
    "        optimizer=optimizer,\n",
    "        loss=loss,\n",
    "        metrics=metrics,\n",
    "        class_weight=class_weight)\n",
    "    \n",
    "    gc.collect()\n",
    "\n",
    "    # clear the learning output if required\n",
    "    if clear_learning:\n",
    "        clear_output()\n",
    "\n",
    "    return test_model(model, history, X_test, y_test, show_plots=show_plots)"
   ]
  },
  {
   "attachments": {},
   "cell_type": "markdown",
   "metadata": {},
   "source": [
    "## Data Selection"
   ]
  },
  {
   "cell_type": "code",
   "execution_count": 34,
   "metadata": {},
   "outputs": [],
   "source": [
    "random_state = 51\n",
    "sample_size = df_source_labels['session_id'].nunique()\n",
    "#sample_size = 5000"
   ]
  },
  {
   "cell_type": "code",
   "execution_count": 35,
   "metadata": {},
   "outputs": [
    {
     "name": "stdout",
     "output_type": "stream",
     "text": [
      "Train: 7067\n",
      "Validation: 2356\n",
      "Test: 2356\n"
     ]
    }
   ],
   "source": [
    "train, val, test = select_sessions(\n",
    "    y=df_source_labels,\n",
    "    sample_size=sample_size,\n",
    "    random_state=random_state)"
   ]
  },
  {
   "cell_type": "code",
   "execution_count": 36,
   "metadata": {},
   "outputs": [
    {
     "name": "stdout",
     "output_type": "stream",
     "text": [
      "Total Number of sessions    : 11779\n",
      "Number of complete sessions : 11779\n"
     ]
    }
   ],
   "source": [
    "df_complete_sessions = df_source_labels \\\n",
    "    .groupby(['session_id', 'level_group']) \\\n",
    "    .agg({'correct': ['sum', 'count']}) \\\n",
    "    .droplevel(0, axis=1) \\\n",
    "    .reset_index() \\\n",
    "    .query(('(level_group == \"0-4\" and count == 3) or'\n",
    "            '(level_group == \"5-12\" and count == 10) or'\n",
    "            '(level_group == \"13-22\" and count == 5)')) \\\n",
    "    .assign(score=lambda df: df['sum'] / df['count'])\n",
    "\n",
    "print(f'Total Number of sessions    : {df_source_labels.session_id.nunique()}')\n",
    "print(f'Number of complete sessions : {df_complete_sessions.session_id.nunique()}')\n",
    "#display(df_complete_sessions.head(6))"
   ]
  },
  {
   "attachments": {},
   "cell_type": "markdown",
   "metadata": {},
   "source": [
    "## Predict Good Students"
   ]
  },
  {
   "cell_type": "code",
   "execution_count": 37,
   "metadata": {},
   "outputs": [],
   "source": [
    "def create_feature_datasets(feature_list:list):\n",
    "    # create datasets for each level group\n",
    "    feature_datasets = {}\n",
    "    for session_list, name in [(train, 'train'), (val, 'val'), (test, 'test')]:\n",
    "        feature_datasets[name] = {}\n",
    "        \n",
    "        for level_group in ['0-4', '5-12', '13-22']:\n",
    "            print(f'Creating {name} dataset for level group {level_group}...')\n",
    "\n",
    "            feature_datasets[name][level_group] = create_feature_dataset(\n",
    "                df_features=df_features,\n",
    "                df_source_labels=df_source_labels,\n",
    "                session_list=session_list,\n",
    "                level_group=level_group,\n",
    "                feature_list=feature_list)\n",
    "            \n",
    "    return feature_datasets"
   ]
  },
  {
   "attachments": {},
   "cell_type": "markdown",
   "metadata": {},
   "source": [
    "### Create Datasets"
   ]
  },
  {
   "cell_type": "code",
   "execution_count": 38,
   "metadata": {},
   "outputs": [
    {
     "name": "stdout",
     "output_type": "stream",
     "text": [
      "Creating train dataset for level group 0-4...\n"
     ]
    },
    {
     "data": {
      "application/vnd.jupyter.widget-view+json": {
       "model_id": "cd84c036d85449458f760b3722c0fe16",
       "version_major": 2,
       "version_minor": 0
      },
      "text/plain": [
       "0it [00:00, ?it/s]"
      ]
     },
     "metadata": {},
     "output_type": "display_data"
    },
    {
     "name": "stdout",
     "output_type": "stream",
     "text": [
      "Creating train dataset for level group 5-12...\n"
     ]
    },
    {
     "data": {
      "application/vnd.jupyter.widget-view+json": {
       "model_id": "b3d98a6605cf4c8daa46074556ee68a7",
       "version_major": 2,
       "version_minor": 0
      },
      "text/plain": [
       "0it [00:00, ?it/s]"
      ]
     },
     "metadata": {},
     "output_type": "display_data"
    },
    {
     "name": "stdout",
     "output_type": "stream",
     "text": [
      "Creating train dataset for level group 13-22...\n"
     ]
    },
    {
     "data": {
      "application/vnd.jupyter.widget-view+json": {
       "model_id": "21e5a29bf1ab47e482fddb60621115bc",
       "version_major": 2,
       "version_minor": 0
      },
      "text/plain": [
       "0it [00:00, ?it/s]"
      ]
     },
     "metadata": {},
     "output_type": "display_data"
    },
    {
     "name": "stdout",
     "output_type": "stream",
     "text": [
      "Creating val dataset for level group 0-4...\n"
     ]
    },
    {
     "data": {
      "application/vnd.jupyter.widget-view+json": {
       "model_id": "377d9a702f8b4f95b3e63693eaec291a",
       "version_major": 2,
       "version_minor": 0
      },
      "text/plain": [
       "0it [00:00, ?it/s]"
      ]
     },
     "metadata": {},
     "output_type": "display_data"
    },
    {
     "name": "stdout",
     "output_type": "stream",
     "text": [
      "Creating val dataset for level group 5-12...\n"
     ]
    },
    {
     "data": {
      "application/vnd.jupyter.widget-view+json": {
       "model_id": "5ac0d0abd3b6448ca4fba261680bac00",
       "version_major": 2,
       "version_minor": 0
      },
      "text/plain": [
       "0it [00:00, ?it/s]"
      ]
     },
     "metadata": {},
     "output_type": "display_data"
    },
    {
     "name": "stdout",
     "output_type": "stream",
     "text": [
      "Creating val dataset for level group 13-22...\n"
     ]
    },
    {
     "data": {
      "application/vnd.jupyter.widget-view+json": {
       "model_id": "3b9677ec2c014aecab291897084a58ac",
       "version_major": 2,
       "version_minor": 0
      },
      "text/plain": [
       "0it [00:00, ?it/s]"
      ]
     },
     "metadata": {},
     "output_type": "display_data"
    },
    {
     "name": "stdout",
     "output_type": "stream",
     "text": [
      "Creating test dataset for level group 0-4...\n"
     ]
    },
    {
     "data": {
      "application/vnd.jupyter.widget-view+json": {
       "model_id": "31edd48ac37447d0bbc337337c3c59a4",
       "version_major": 2,
       "version_minor": 0
      },
      "text/plain": [
       "0it [00:00, ?it/s]"
      ]
     },
     "metadata": {},
     "output_type": "display_data"
    },
    {
     "name": "stdout",
     "output_type": "stream",
     "text": [
      "Creating test dataset for level group 5-12...\n"
     ]
    },
    {
     "data": {
      "application/vnd.jupyter.widget-view+json": {
       "model_id": "e73aeb36f85c4ce4a05e410ce80cbd37",
       "version_major": 2,
       "version_minor": 0
      },
      "text/plain": [
       "0it [00:00, ?it/s]"
      ]
     },
     "metadata": {},
     "output_type": "display_data"
    },
    {
     "name": "stdout",
     "output_type": "stream",
     "text": [
      "Creating test dataset for level group 13-22...\n"
     ]
    },
    {
     "data": {
      "application/vnd.jupyter.widget-view+json": {
       "model_id": "c0fb2d2d3f0d46fa8cc9682fcb7f06af",
       "version_major": 2,
       "version_minor": 0
      },
      "text/plain": [
       "0it [00:00, ?it/s]"
      ]
     },
     "metadata": {},
     "output_type": "display_data"
    }
   ],
   "source": [
    "good_student_features = create_feature_datasets(['screen_heatmap_feature'])"
   ]
  },
  {
   "cell_type": "code",
   "execution_count": 39,
   "metadata": {},
   "outputs": [
    {
     "name": "stdout",
     "output_type": "stream",
     "text": [
      "Creating train dataset for level group 0-4...\n"
     ]
    },
    {
     "data": {
      "application/vnd.jupyter.widget-view+json": {
       "model_id": "6d3a4a0362c24312956652ce56eb8c32",
       "version_major": 2,
       "version_minor": 0
      },
      "text/plain": [
       "0it [00:00, ?it/s]"
      ]
     },
     "metadata": {},
     "output_type": "display_data"
    },
    {
     "name": "stdout",
     "output_type": "stream",
     "text": [
      "Creating train dataset for level group 5-12...\n"
     ]
    },
    {
     "data": {
      "application/vnd.jupyter.widget-view+json": {
       "model_id": "9618a44aee554ed495f68567bbb7b084",
       "version_major": 2,
       "version_minor": 0
      },
      "text/plain": [
       "0it [00:00, ?it/s]"
      ]
     },
     "metadata": {},
     "output_type": "display_data"
    },
    {
     "name": "stdout",
     "output_type": "stream",
     "text": [
      "Creating train dataset for level group 13-22...\n"
     ]
    },
    {
     "data": {
      "application/vnd.jupyter.widget-view+json": {
       "model_id": "f651f591ad09472886aacc8e414a64eb",
       "version_major": 2,
       "version_minor": 0
      },
      "text/plain": [
       "0it [00:00, ?it/s]"
      ]
     },
     "metadata": {},
     "output_type": "display_data"
    },
    {
     "name": "stdout",
     "output_type": "stream",
     "text": [
      "Creating val dataset for level group 0-4...\n"
     ]
    },
    {
     "data": {
      "application/vnd.jupyter.widget-view+json": {
       "model_id": "40b9602195ca4454a62c9e06d704e851",
       "version_major": 2,
       "version_minor": 0
      },
      "text/plain": [
       "0it [00:00, ?it/s]"
      ]
     },
     "metadata": {},
     "output_type": "display_data"
    },
    {
     "name": "stdout",
     "output_type": "stream",
     "text": [
      "Creating val dataset for level group 5-12...\n"
     ]
    },
    {
     "data": {
      "application/vnd.jupyter.widget-view+json": {
       "model_id": "bb0952890aa344d085b4a012dc75f931",
       "version_major": 2,
       "version_minor": 0
      },
      "text/plain": [
       "0it [00:00, ?it/s]"
      ]
     },
     "metadata": {},
     "output_type": "display_data"
    },
    {
     "name": "stdout",
     "output_type": "stream",
     "text": [
      "Creating val dataset for level group 13-22...\n"
     ]
    },
    {
     "data": {
      "application/vnd.jupyter.widget-view+json": {
       "model_id": "24e8d9e6432b4728b98a1a5e2e2ce68a",
       "version_major": 2,
       "version_minor": 0
      },
      "text/plain": [
       "0it [00:00, ?it/s]"
      ]
     },
     "metadata": {},
     "output_type": "display_data"
    },
    {
     "name": "stdout",
     "output_type": "stream",
     "text": [
      "Creating test dataset for level group 0-4...\n"
     ]
    },
    {
     "data": {
      "application/vnd.jupyter.widget-view+json": {
       "model_id": "18b5900dc1ca478f8997a5044cecab62",
       "version_major": 2,
       "version_minor": 0
      },
      "text/plain": [
       "0it [00:00, ?it/s]"
      ]
     },
     "metadata": {},
     "output_type": "display_data"
    },
    {
     "name": "stdout",
     "output_type": "stream",
     "text": [
      "Creating test dataset for level group 5-12...\n"
     ]
    },
    {
     "data": {
      "application/vnd.jupyter.widget-view+json": {
       "model_id": "de90be82a854416cb964233b342db555",
       "version_major": 2,
       "version_minor": 0
      },
      "text/plain": [
       "0it [00:00, ?it/s]"
      ]
     },
     "metadata": {},
     "output_type": "display_data"
    },
    {
     "name": "stdout",
     "output_type": "stream",
     "text": [
      "Creating test dataset for level group 13-22...\n"
     ]
    },
    {
     "data": {
      "application/vnd.jupyter.widget-view+json": {
       "model_id": "68acd457c09a4cd1a3e7ce614f173b05",
       "version_major": 2,
       "version_minor": 0
      },
      "text/plain": [
       "0it [00:00, ?it/s]"
      ]
     },
     "metadata": {},
     "output_type": "display_data"
    }
   ],
   "source": [
    "good_student_target = create_feature_datasets(['symbolic_score_feature'])"
   ]
  },
  {
   "cell_type": "code",
   "execution_count": 40,
   "metadata": {},
   "outputs": [
    {
     "name": "stdout",
     "output_type": "stream",
     "text": [
      "Creating train dataset for level group 0-4...\n"
     ]
    },
    {
     "data": {
      "application/vnd.jupyter.widget-view+json": {
       "model_id": "6dcc63824fc543478330421db3f9c37f",
       "version_major": 2,
       "version_minor": 0
      },
      "text/plain": [
       "0it [00:00, ?it/s]"
      ]
     },
     "metadata": {},
     "output_type": "display_data"
    },
    {
     "name": "stdout",
     "output_type": "stream",
     "text": [
      "Creating train dataset for level group 5-12...\n"
     ]
    },
    {
     "data": {
      "application/vnd.jupyter.widget-view+json": {
       "model_id": "006ea06fc6bd4d0a97eef1cab2c81489",
       "version_major": 2,
       "version_minor": 0
      },
      "text/plain": [
       "0it [00:00, ?it/s]"
      ]
     },
     "metadata": {},
     "output_type": "display_data"
    },
    {
     "name": "stdout",
     "output_type": "stream",
     "text": [
      "Creating train dataset for level group 13-22...\n"
     ]
    },
    {
     "data": {
      "application/vnd.jupyter.widget-view+json": {
       "model_id": "7dc9b9e14fb544f9934e8ff9963c8494",
       "version_major": 2,
       "version_minor": 0
      },
      "text/plain": [
       "0it [00:00, ?it/s]"
      ]
     },
     "metadata": {},
     "output_type": "display_data"
    },
    {
     "name": "stdout",
     "output_type": "stream",
     "text": [
      "Creating val dataset for level group 0-4...\n"
     ]
    },
    {
     "data": {
      "application/vnd.jupyter.widget-view+json": {
       "model_id": "2275fd91dff24f64abf29edc9b291317",
       "version_major": 2,
       "version_minor": 0
      },
      "text/plain": [
       "0it [00:00, ?it/s]"
      ]
     },
     "metadata": {},
     "output_type": "display_data"
    },
    {
     "name": "stdout",
     "output_type": "stream",
     "text": [
      "Creating val dataset for level group 5-12...\n"
     ]
    },
    {
     "data": {
      "application/vnd.jupyter.widget-view+json": {
       "model_id": "d09ec0d2e7f94e3b9135921c74917454",
       "version_major": 2,
       "version_minor": 0
      },
      "text/plain": [
       "0it [00:00, ?it/s]"
      ]
     },
     "metadata": {},
     "output_type": "display_data"
    },
    {
     "name": "stdout",
     "output_type": "stream",
     "text": [
      "Creating val dataset for level group 13-22...\n"
     ]
    },
    {
     "data": {
      "application/vnd.jupyter.widget-view+json": {
       "model_id": "03c54ba6fb2c41f3994ce3eebdc6dcd8",
       "version_major": 2,
       "version_minor": 0
      },
      "text/plain": [
       "0it [00:00, ?it/s]"
      ]
     },
     "metadata": {},
     "output_type": "display_data"
    },
    {
     "name": "stdout",
     "output_type": "stream",
     "text": [
      "Creating test dataset for level group 0-4...\n"
     ]
    },
    {
     "data": {
      "application/vnd.jupyter.widget-view+json": {
       "model_id": "27a400f557d3419ca4fe4ac43516b75d",
       "version_major": 2,
       "version_minor": 0
      },
      "text/plain": [
       "0it [00:00, ?it/s]"
      ]
     },
     "metadata": {},
     "output_type": "display_data"
    },
    {
     "name": "stdout",
     "output_type": "stream",
     "text": [
      "Creating test dataset for level group 5-12...\n"
     ]
    },
    {
     "data": {
      "application/vnd.jupyter.widget-view+json": {
       "model_id": "91ed99f6da07484999488561a96e2588",
       "version_major": 2,
       "version_minor": 0
      },
      "text/plain": [
       "0it [00:00, ?it/s]"
      ]
     },
     "metadata": {},
     "output_type": "display_data"
    },
    {
     "name": "stdout",
     "output_type": "stream",
     "text": [
      "Creating test dataset for level group 13-22...\n"
     ]
    },
    {
     "data": {
      "application/vnd.jupyter.widget-view+json": {
       "model_id": "1349a9c2940a434c9bacd0b100d21f50",
       "version_major": 2,
       "version_minor": 0
      },
      "text/plain": [
       "0it [00:00, ?it/s]"
      ]
     },
     "metadata": {},
     "output_type": "display_data"
    }
   ],
   "source": [
    "good_student_elapsed_time = create_feature_datasets(['elapsed_time'])"
   ]
  },
  {
   "attachments": {},
   "cell_type": "markdown",
   "metadata": {},
   "source": [
    "### Create Model"
   ]
  },
  {
   "cell_type": "code",
   "execution_count": 41,
   "metadata": {},
   "outputs": [],
   "source": [
    "#level_group = '0-4'\n",
    "level_group = '5-12'\n",
    "#level_group ='13-22'\n"
   ]
  },
  {
   "cell_type": "code",
   "execution_count": 42,
   "metadata": {},
   "outputs": [],
   "source": [
    "# def get_lstm_model(input_shape: tuple, output_shape:int) -> keras.models:\n",
    "#     model = Sequential()\n",
    "\n",
    "#     # Add a Convolutional Neural Network (CNN)\n",
    "#     model.add(Conv2D(32, kernel_size=(3, 3), activation='relu', input_shape=input_shape, kernel_regularizer=regularizers.l2(0.01)))\n",
    "#     model.add(MaxPooling2D(pool_size=(2, 2)))\n",
    "#     # model.add(Conv2D(64, kernel_size=(3, 3), activation='relu', kernel_regularizer=regularizers.l2(0.01)))\n",
    "#     # model.add(Flatten())\n",
    "\n",
    "#     model.add(Reshape((32, -1))) # reshape the output of the Flatten layer to (batch_size, time_steps, input_dim)\n",
    "#     model.add(LSTM(64, dropout=0.2, recurrent_dropout=0.2))    \n",
    "\n",
    "#     model.add(Dense(32, activation='sigmoid'))\n",
    "#     model.add(Dropout(0.25))\n",
    "\n",
    "#     # Add a dense layer for output\n",
    "#     model.add(Dense(output_shape, activation='sigmoid'))\n",
    "    \n",
    "#     return model\n",
    "\n",
    "# # define the input shape\n",
    "# input_data = good_student_features['train'][level_group]\n",
    "# input_shape = (input_data.shape[1], input_data.shape[2], input_data.shape[3])\n",
    "\n",
    "# # define the output shape\n",
    "# output_data = good_student_target['train'][level_group]\n",
    "# output_shape = output_data.shape[1]\n",
    "\n",
    "# # get the model\n",
    "# model = get_lstm_model(input_shape=input_shape, output_shape=output_shape)\n",
    "# print(model.summary())"
   ]
  },
  {
   "cell_type": "code",
   "execution_count": 43,
   "metadata": {},
   "outputs": [],
   "source": [
    "# def get_flat_model(input_shape: tuple, output_shape:int) -> keras.models:\n",
    "#     model = Sequential()\n",
    "#     model.add(Dense(16, activation='relu', input_shape=input_shape, kernel_regularizer=regularizers.l2(0.01)))\n",
    "#     model.add(Flatten())\n",
    "#     model.add(Dropout(0.4))\n",
    "#     model.add(Dense(16, activation='relu', input_shape=input_shape, kernel_regularizer=regularizers.l2(0.01)))\n",
    "#     model.add(Dropout(0.4))\n",
    "#     model.add(Dense(256, activation='relu', input_shape=input_shape, kernel_regularizer=regularizers.l2(0.01)))\n",
    "    \n",
    " \n",
    "\n",
    "#     # Add a dense layer for output\n",
    "#     model.add(Dense(output_shape, activation='sigmoid'))\n",
    "    \n",
    "#     return model\n",
    "\n",
    "# # get the model\n",
    "# #model = get_flat_model(input_shape=input_shape, output_shape=output_shape)\n",
    "# #print(model.summary())"
   ]
  },
  {
   "cell_type": "code",
   "execution_count": 44,
   "metadata": {},
   "outputs": [
    {
     "name": "stdout",
     "output_type": "stream",
     "text": [
      "Model: \"sequential\"\n",
      "_________________________________________________________________\n",
      " Layer (type)                Output Shape              Param #   \n",
      "=================================================================\n",
      " flatten (Flatten)           (None, 575)               0         \n",
      "                                                                 \n",
      " dense (Dense)               (None, 32)                18432     \n",
      "                                                                 \n",
      " dropout (Dropout)           (None, 32)                0         \n",
      "                                                                 \n",
      " dense_1 (Dense)             (None, 32)                1056      \n",
      "                                                                 \n",
      " dropout_1 (Dropout)         (None, 32)                0         \n",
      "                                                                 \n",
      " dense_2 (Dense)             (None, 32)                1056      \n",
      "                                                                 \n",
      " dropout_2 (Dropout)         (None, 32)                0         \n",
      "                                                                 \n",
      " dense_3 (Dense)             (None, 3)                 99        \n",
      "                                                                 \n",
      "=================================================================\n",
      "Total params: 20,643\n",
      "Trainable params: 20,643\n",
      "Non-trainable params: 0\n",
      "_________________________________________________________________\n",
      "None\n"
     ]
    },
    {
     "name": "stderr",
     "output_type": "stream",
     "text": [
      "2023-03-10 15:47:59.486353: I tensorflow/compiler/xla/stream_executor/cuda/cuda_gpu_executor.cc:981] successful NUMA node read from SysFS had negative value (-1), but there must be at least one NUMA node, so returning NUMA node zero\n",
      "2023-03-10 15:47:59.488656: I tensorflow/compiler/xla/stream_executor/cuda/cuda_gpu_executor.cc:981] successful NUMA node read from SysFS had negative value (-1), but there must be at least one NUMA node, so returning NUMA node zero\n",
      "2023-03-10 15:47:59.488826: I tensorflow/compiler/xla/stream_executor/cuda/cuda_gpu_executor.cc:981] successful NUMA node read from SysFS had negative value (-1), but there must be at least one NUMA node, so returning NUMA node zero\n",
      "2023-03-10 15:47:59.489279: I tensorflow/core/platform/cpu_feature_guard.cc:193] This TensorFlow binary is optimized with oneAPI Deep Neural Network Library (oneDNN) to use the following CPU instructions in performance-critical operations:  AVX2 FMA\n",
      "To enable them in other operations, rebuild TensorFlow with the appropriate compiler flags.\n",
      "2023-03-10 15:47:59.489758: I tensorflow/compiler/xla/stream_executor/cuda/cuda_gpu_executor.cc:981] successful NUMA node read from SysFS had negative value (-1), but there must be at least one NUMA node, so returning NUMA node zero\n",
      "2023-03-10 15:47:59.489948: I tensorflow/compiler/xla/stream_executor/cuda/cuda_gpu_executor.cc:981] successful NUMA node read from SysFS had negative value (-1), but there must be at least one NUMA node, so returning NUMA node zero\n",
      "2023-03-10 15:47:59.490104: I tensorflow/compiler/xla/stream_executor/cuda/cuda_gpu_executor.cc:981] successful NUMA node read from SysFS had negative value (-1), but there must be at least one NUMA node, so returning NUMA node zero\n",
      "2023-03-10 15:47:59.790375: I tensorflow/compiler/xla/stream_executor/cuda/cuda_gpu_executor.cc:981] successful NUMA node read from SysFS had negative value (-1), but there must be at least one NUMA node, so returning NUMA node zero\n",
      "2023-03-10 15:47:59.790525: I tensorflow/compiler/xla/stream_executor/cuda/cuda_gpu_executor.cc:981] successful NUMA node read from SysFS had negative value (-1), but there must be at least one NUMA node, so returning NUMA node zero\n",
      "2023-03-10 15:47:59.790622: I tensorflow/compiler/xla/stream_executor/cuda/cuda_gpu_executor.cc:981] successful NUMA node read from SysFS had negative value (-1), but there must be at least one NUMA node, so returning NUMA node zero\n",
      "2023-03-10 15:47:59.790702: I tensorflow/core/common_runtime/gpu/gpu_device.cc:1613] Created device /job:localhost/replica:0/task:0/device:GPU:0 with 9837 MB memory:  -> device: 0, name: NVIDIA GeForce RTX 3080 Ti, pci bus id: 0000:07:00.0, compute capability: 8.6\n"
     ]
    }
   ],
   "source": [
    "def get_model(input_shape: tuple, output_shape:int) -> keras.models:\n",
    "    model = Sequential()\n",
    "    model.add(Flatten(input_shape=input_shape))\n",
    "    model.add(Dense(32, activation='relu'))\n",
    "    model.add(Dropout(0.25))\n",
    "    model.add(Dense(32, activation='relu'))\n",
    "    model.add(Dropout(0.25))\n",
    "    model.add(Dense(32, activation='sigmoid'))\n",
    "    model.add(Dropout(0.25))\n",
    "\n",
    "    # Add a dense layer for output\n",
    "    model.add(Dense(output_shape, activation='sigmoid'))\n",
    "    \n",
    "    return model\n",
    "\n",
    "# define the input shape\n",
    "input_data = good_student_features['train'][level_group]\n",
    "input_shape = (input_data.shape[1], input_data.shape[2], input_data.shape[3])\n",
    "\n",
    "# define the output shape\n",
    "output_data = good_student_target['train'][level_group]\n",
    "output_shape = output_data.shape[1]\n",
    "\n",
    "# get the model\n",
    "model = get_model(input_shape=input_shape, output_shape=output_shape)\n",
    "print(model.summary())"
   ]
  },
  {
   "cell_type": "code",
   "execution_count": 45,
   "metadata": {},
   "outputs": [
    {
     "name": "stdout",
     "output_type": "stream",
     "text": [
      "Epoch 1/40\n",
      "24/36 [===================>..........] - ETA: 0s - loss: 0.6676 - accuracy: 0.3695 "
     ]
    },
    {
     "name": "stderr",
     "output_type": "stream",
     "text": [
      "2023-03-10 15:48:00.843546: I tensorflow/compiler/xla/stream_executor/cuda/cuda_blas.cc:630] TensorFloat-32 will be used for the matrix multiplication. This will only be logged once.\n"
     ]
    },
    {
     "name": "stdout",
     "output_type": "stream",
     "text": [
      "36/36 [==============================] - 1s 7ms/step - loss: 0.6545 - accuracy: 0.3925 - val_loss: 0.6095 - val_accuracy: 0.5081\n",
      "Epoch 2/40\n",
      "36/36 [==============================] - 0s 3ms/step - loss: 0.6109 - accuracy: 0.4945 - val_loss: 0.5978 - val_accuracy: 0.5081\n",
      "Epoch 3/40\n",
      "36/36 [==============================] - 0s 3ms/step - loss: 0.5986 - accuracy: 0.5133 - val_loss: 0.5854 - val_accuracy: 0.5081\n",
      "Epoch 4/40\n",
      "36/36 [==============================] - 0s 3ms/step - loss: 0.5834 - accuracy: 0.5330 - val_loss: 0.5694 - val_accuracy: 0.5518\n",
      "Epoch 5/40\n",
      "36/36 [==============================] - 0s 3ms/step - loss: 0.5691 - accuracy: 0.5577 - val_loss: 0.5600 - val_accuracy: 0.5509\n",
      "Epoch 6/40\n",
      "36/36 [==============================] - 0s 3ms/step - loss: 0.5600 - accuracy: 0.5664 - val_loss: 0.5575 - val_accuracy: 0.5565\n",
      "Epoch 7/40\n",
      "36/36 [==============================] - 0s 3ms/step - loss: 0.5565 - accuracy: 0.5683 - val_loss: 0.5549 - val_accuracy: 0.5526\n",
      "Epoch 8/40\n",
      "36/36 [==============================] - 0s 3ms/step - loss: 0.5537 - accuracy: 0.5711 - val_loss: 0.5536 - val_accuracy: 0.5509\n",
      "Epoch 9/40\n",
      "36/36 [==============================] - 0s 3ms/step - loss: 0.5513 - accuracy: 0.5737 - val_loss: 0.5543 - val_accuracy: 0.5543\n",
      "Epoch 10/40\n",
      "36/36 [==============================] - 0s 3ms/step - loss: 0.5493 - accuracy: 0.5758 - val_loss: 0.5528 - val_accuracy: 0.5565\n",
      "Epoch 11/40\n",
      "36/36 [==============================] - 0s 3ms/step - loss: 0.5481 - accuracy: 0.5765 - val_loss: 0.5524 - val_accuracy: 0.5573\n",
      "Epoch 12/40\n",
      "36/36 [==============================] - 0s 3ms/step - loss: 0.5473 - accuracy: 0.5767 - val_loss: 0.5530 - val_accuracy: 0.5637\n",
      "Epoch 13/40\n",
      "36/36 [==============================] - 0s 3ms/step - loss: 0.5463 - accuracy: 0.5774 - val_loss: 0.5519 - val_accuracy: 0.5615\n",
      "Epoch 14/40\n",
      "36/36 [==============================] - 0s 3ms/step - loss: 0.5449 - accuracy: 0.5783 - val_loss: 0.5522 - val_accuracy: 0.5654\n",
      "Epoch 15/40\n",
      "36/36 [==============================] - 0s 3ms/step - loss: 0.5443 - accuracy: 0.5786 - val_loss: 0.5522 - val_accuracy: 0.5628\n",
      "Epoch 16/40\n",
      "36/36 [==============================] - 0s 3ms/step - loss: 0.5430 - accuracy: 0.5798 - val_loss: 0.5525 - val_accuracy: 0.5645\n",
      "Epoch 17/40\n",
      "36/36 [==============================] - 0s 3ms/step - loss: 0.5420 - accuracy: 0.5816 - val_loss: 0.5531 - val_accuracy: 0.5615\n",
      "Epoch 18/40\n",
      "36/36 [==============================] - 0s 3ms/step - loss: 0.5414 - accuracy: 0.5816 - val_loss: 0.5530 - val_accuracy: 0.5658\n",
      "Epoch 19/40\n",
      "36/36 [==============================] - 0s 3ms/step - loss: 0.5403 - accuracy: 0.5827 - val_loss: 0.5529 - val_accuracy: 0.5645\n",
      "Epoch 20/40\n",
      "36/36 [==============================] - 0s 3ms/step - loss: 0.5405 - accuracy: 0.5825 - val_loss: 0.5530 - val_accuracy: 0.5637\n",
      "Epoch 21/40\n",
      "36/36 [==============================] - 0s 3ms/step - loss: 0.5393 - accuracy: 0.5824 - val_loss: 0.5544 - val_accuracy: 0.5603\n",
      "Epoch 22/40\n",
      "36/36 [==============================] - 0s 3ms/step - loss: 0.5387 - accuracy: 0.5843 - val_loss: 0.5533 - val_accuracy: 0.5641\n",
      "Epoch 23/40\n",
      "36/36 [==============================] - 0s 3ms/step - loss: 0.5379 - accuracy: 0.5842 - val_loss: 0.5571 - val_accuracy: 0.5556\n",
      "Epoch 24/40\n",
      "36/36 [==============================] - 0s 3ms/step - loss: 0.5376 - accuracy: 0.5841 - val_loss: 0.5543 - val_accuracy: 0.5637\n",
      "Epoch 25/40\n",
      "36/36 [==============================] - 0s 3ms/step - loss: 0.5372 - accuracy: 0.5847 - val_loss: 0.5540 - val_accuracy: 0.5645\n",
      "Epoch 26/40\n",
      "36/36 [==============================] - 0s 3ms/step - loss: 0.5363 - accuracy: 0.5861 - val_loss: 0.5546 - val_accuracy: 0.5615\n",
      "Epoch 27/40\n",
      "36/36 [==============================] - 0s 3ms/step - loss: 0.5358 - accuracy: 0.5866 - val_loss: 0.5546 - val_accuracy: 0.5654\n",
      "Epoch 28/40\n",
      "36/36 [==============================] - 0s 3ms/step - loss: 0.5350 - accuracy: 0.5877 - val_loss: 0.5547 - val_accuracy: 0.5666\n",
      "Epoch 29/40\n",
      "36/36 [==============================] - 0s 3ms/step - loss: 0.5347 - accuracy: 0.5873 - val_loss: 0.5567 - val_accuracy: 0.5590\n",
      "Epoch 30/40\n",
      "36/36 [==============================] - 0s 4ms/step - loss: 0.5347 - accuracy: 0.5879 - val_loss: 0.5562 - val_accuracy: 0.5624\n",
      "Epoch 31/40\n",
      "36/36 [==============================] - 0s 3ms/step - loss: 0.5335 - accuracy: 0.5884 - val_loss: 0.5559 - val_accuracy: 0.5654\n",
      "Epoch 32/40\n",
      "36/36 [==============================] - 0s 3ms/step - loss: 0.5327 - accuracy: 0.5892 - val_loss: 0.5573 - val_accuracy: 0.5645\n",
      "Epoch 33/40\n",
      "36/36 [==============================] - 0s 3ms/step - loss: 0.5322 - accuracy: 0.5894 - val_loss: 0.5570 - val_accuracy: 0.5645\n",
      "Epoch 34/40\n",
      "36/36 [==============================] - 0s 3ms/step - loss: 0.5311 - accuracy: 0.5914 - val_loss: 0.5569 - val_accuracy: 0.5654\n",
      "Epoch 35/40\n",
      "36/36 [==============================] - 0s 3ms/step - loss: 0.5307 - accuracy: 0.5916 - val_loss: 0.5571 - val_accuracy: 0.5662\n",
      "Epoch 36/40\n",
      "36/36 [==============================] - 0s 3ms/step - loss: 0.5296 - accuracy: 0.5928 - val_loss: 0.5574 - val_accuracy: 0.5607\n",
      "Epoch 37/40\n",
      "36/36 [==============================] - 0s 3ms/step - loss: 0.5288 - accuracy: 0.5938 - val_loss: 0.5586 - val_accuracy: 0.5654\n",
      "Epoch 38/40\n",
      "36/36 [==============================] - 0s 3ms/step - loss: 0.5283 - accuracy: 0.5943 - val_loss: 0.5568 - val_accuracy: 0.5662\n",
      "Epoch 39/40\n",
      "36/36 [==============================] - 0s 3ms/step - loss: 0.5276 - accuracy: 0.5943 - val_loss: 0.5589 - val_accuracy: 0.5641\n",
      "Epoch 40/40\n",
      "36/36 [==============================] - 0s 3ms/step - loss: 0.5269 - accuracy: 0.5952 - val_loss: 0.5583 - val_accuracy: 0.5658\n"
     ]
    },
    {
     "data": {
      "image/png": "[encoded data removed]",
      "text/plain": [
       "<Figure size 500x300 with 1 Axes>"
      ]
     },
     "metadata": {},
     "output_type": "display_data"
    },
    {
     "data": {
      "image/png": "[encoded data removed]",
      "text/plain": [
       "<Figure size 500x300 with 1 Axes>"
      ]
     },
     "metadata": {},
     "output_type": "display_data"
    },
    {
     "name": "stdout",
     "output_type": "stream",
     "text": [
      "737/737 [==============================] - 0s 531us/step\n",
      "              precision    recall  f1-score   support\n",
      "\n",
      "           0       1.00      0.00      0.00      4380\n",
      "           1       0.56      0.84      0.67     12050\n",
      "           2       0.62      0.35      0.44      7130\n",
      "\n",
      "   micro avg       0.57      0.53      0.55     23560\n",
      "   macro avg       0.73      0.39      0.37     23560\n",
      "weighted avg       0.66      0.53      0.48     23560\n",
      " samples avg       0.60      0.53      0.53     23560\n",
      "\n",
      "Optimized threshold for best F1: 0.50\n"
     ]
    }
   ],
   "source": [
    "_, _ = train_and_test_model(\n",
    "    model=model,\n",
    "    X_train=good_student_features['train'][level_group],\n",
    "    y_train=good_student_target['train'][level_group],\n",
    "    X_val=good_student_features['val'][level_group],\n",
    "    y_val=good_student_target['val'][level_group],\n",
    "    X_test=good_student_features['test'][level_group],\n",
    "    y_test=good_student_target['test'][level_group],\n",
    "    epochs=40,\n",
    "    batch_size=2000,\n",
    "    optimizer=optimizers.RMSprop(learning_rate=0.001),\n",
    "    loss='binary_crossentropy',\n",
    "    metrics=['accuracy'])"
   ]
  },
  {
   "attachments": {},
   "cell_type": "markdown",
   "metadata": {},
   "source": [
    "## Elapsed Time"
   ]
  },
  {
   "cell_type": "code",
   "execution_count": 46,
   "metadata": {},
   "outputs": [
    {
     "name": "stdout",
     "output_type": "stream",
     "text": [
      "input_shape: 1\n",
      "output_shape 3\n"
     ]
    }
   ],
   "source": [
    "# define the input shape\n",
    "input_data = good_student_elapsed_time['train'][level_group]\n",
    "input_shape = (input_data.shape[1])\n",
    "print('input_shape:', input_shape)\n",
    "\n",
    "# define the output shape\n",
    "output_data = good_student_target['train'][level_group]\n",
    "output_shape = output_data.shape[1]\n",
    "print('output_shape', output_shape)"
   ]
  },
  {
   "cell_type": "code",
   "execution_count": 47,
   "metadata": {},
   "outputs": [
    {
     "name": "stdout",
     "output_type": "stream",
     "text": [
      "Model: \"sequential_1\"\n",
      "_________________________________________________________________\n",
      " Layer (type)                Output Shape              Param #   \n",
      "=================================================================\n",
      " dense_4 (Dense)             (None, 32)                64        \n",
      "                                                                 \n",
      " dense_5 (Dense)             (None, 64)                2112      \n",
      "                                                                 \n",
      " dense_6 (Dense)             (None, 3)                 195       \n",
      "                                                                 \n",
      "=================================================================\n",
      "Total params: 2,371\n",
      "Trainable params: 2,371\n",
      "Non-trainable params: 0\n",
      "_________________________________________________________________\n",
      "None\n"
     ]
    }
   ],
   "source": [
    "model = Sequential()\n",
    "model.add(Dense(32, input_shape=(input_shape,), activation='relu'))\n",
    "model.add(Dense(64, activation='sigmoid'))\n",
    "\n",
    "# Add a dense layer for output\n",
    "model.add(Dense(output_shape, activation='sigmoid'))\n",
    "\n",
    "print(model.summary())"
   ]
  },
  {
   "cell_type": "code",
   "execution_count": 48,
   "metadata": {},
   "outputs": [
    {
     "name": "stdout",
     "output_type": "stream",
     "text": [
      "Epoch 1/10\n",
      "142/142 [==============================] - 1s 2ms/step - loss: 0.6152 - accuracy: 0.5155 - val_loss: 0.6054 - val_accuracy: 0.5081\n",
      "Epoch 2/10\n",
      "142/142 [==============================] - 0s 2ms/step - loss: 0.5953 - accuracy: 0.5156 - val_loss: 0.6001 - val_accuracy: 0.5081\n",
      "Epoch 3/10\n",
      "142/142 [==============================] - 0s 2ms/step - loss: 0.5937 - accuracy: 0.5156 - val_loss: 0.5998 - val_accuracy: 0.5081\n",
      "Epoch 4/10\n",
      "142/142 [==============================] - 0s 2ms/step - loss: 0.5934 - accuracy: 0.5156 - val_loss: 0.5992 - val_accuracy: 0.5081\n",
      "Epoch 5/10\n",
      "142/142 [==============================] - 0s 2ms/step - loss: 0.5931 - accuracy: 0.5156 - val_loss: 0.5988 - val_accuracy: 0.5081\n",
      "Epoch 6/10\n",
      "142/142 [==============================] - 0s 1ms/step - loss: 0.5929 - accuracy: 0.5156 - val_loss: 0.5986 - val_accuracy: 0.5081\n",
      "Epoch 7/10\n",
      "142/142 [==============================] - 0s 2ms/step - loss: 0.5927 - accuracy: 0.5156 - val_loss: 0.5981 - val_accuracy: 0.5081\n",
      "Epoch 8/10\n",
      "142/142 [==============================] - 0s 2ms/step - loss: 0.5924 - accuracy: 0.5156 - val_loss: 0.5979 - val_accuracy: 0.5081\n",
      "Epoch 9/10\n",
      "142/142 [==============================] - 0s 2ms/step - loss: 0.5922 - accuracy: 0.5156 - val_loss: 0.5975 - val_accuracy: 0.5081\n",
      "Epoch 10/10\n",
      "142/142 [==============================] - 0s 2ms/step - loss: 0.5920 - accuracy: 0.5156 - val_loss: 0.5973 - val_accuracy: 0.5081\n"
     ]
    },
    {
     "data": {
      "image/png": "[encoded data removed]",
      "text/plain": [
       "<Figure size 500x300 with 1 Axes>"
      ]
     },
     "metadata": {},
     "output_type": "display_data"
    },
    {
     "data": {
      "image/png": "[encoded data removed]",
      "text/plain": [
       "<Figure size 500x300 with 1 Axes>"
      ]
     },
     "metadata": {},
     "output_type": "display_data"
    },
    {
     "name": "stdout",
     "output_type": "stream",
     "text": [
      "737/737 [==============================] - 0s 447us/step\n",
      "              precision    recall  f1-score   support\n",
      "\n",
      "           0       1.00      0.00      0.00      4380\n",
      "           1       0.52      0.92      0.66     12050\n",
      "           2       1.00      0.00      0.00      7130\n",
      "\n",
      "   micro avg       0.52      0.47      0.49     23560\n",
      "   macro avg       0.84      0.31      0.22     23560\n",
      "weighted avg       0.75      0.47      0.34     23560\n",
      " samples avg       0.56      0.47      0.47     23560\n",
      "\n",
      "Optimized threshold for best F1: 0.50\n"
     ]
    }
   ],
   "source": [
    "_, _ = train_and_test_model(\n",
    "    model=model,\n",
    "    X_train=good_student_elapsed_time['train'][level_group],\n",
    "    y_train=good_student_target['train'][level_group],\n",
    "    X_val=good_student_elapsed_time['val'][level_group],\n",
    "    y_val=good_student_target['val'][level_group],\n",
    "    X_test=good_student_elapsed_time['test'][level_group],\n",
    "    y_test=good_student_target['test'][level_group],\n",
    "    epochs=10,\n",
    "    batch_size=500,\n",
    "    optimizer=optimizers.RMSprop(learning_rate=0.0001),\n",
    "    loss='binary_crossentropy',\n",
    "    metrics=['accuracy'])"
   ]
  },
  {
   "attachments": {},
   "cell_type": "markdown",
   "metadata": {},
   "source": [
    "### Merged Model"
   ]
  },
  {
   "cell_type": "code",
   "execution_count": 49,
   "metadata": {},
   "outputs": [
    {
     "name": "stdout",
     "output_type": "stream",
     "text": [
      "elapsed_input_data: [[0.16641167]\n",
      " [0.27253633]\n",
      " [0.339017  ]\n",
      " ...\n",
      " [0.22149833]\n",
      " [0.32810733]\n",
      " [0.187224  ]]\n",
      "elapsed_output_shape 3\n"
     ]
    }
   ],
   "source": [
    "# elapsed time input and output shapes\n",
    "elapsed_input_data = good_student_elapsed_time['train'][level_group]\n",
    "elapsed_input_shape = (elapsed_input_data.shape[1])\n",
    "print('elapsed_input_data:', elapsed_input_data)\n",
    "\n",
    "elapsed_output_data = good_student_target['train'][level_group]\n",
    "elapsed_output_shape = elapsed_output_data.shape[1]\n",
    "print('elapsed_output_shape', elapsed_output_shape)"
   ]
  },
  {
   "attachments": {},
   "cell_type": "markdown",
   "metadata": {},
   "source": [
    "## Correct Prediction"
   ]
  },
  {
   "cell_type": "code",
   "execution_count": 159,
   "metadata": {},
   "outputs": [],
   "source": [
    "def train_correct(model,\n",
    "                  feature_dataset, \n",
    "                  target_dataset,\n",
    "                  epochs=10,\n",
    "                  batch_size=500,\n",
    "                  optimizer=optimizers.RMSprop(learning_rate=0.0001),\n",
    "                  loss='binary_crossentropy',\n",
    "                  metrics=['accuracy'],\n",
    "                  class_weight=None):\n",
    "    _, _ = train_and_test_model(\n",
    "        model=model,\n",
    "        X_train=feature_dataset['train'],\n",
    "        y_train=target_dataset['train'],\n",
    "        X_val=feature_dataset['val'],\n",
    "        y_val=target_dataset['val'],\n",
    "        X_test=feature_dataset['test'],\n",
    "        y_test=target_dataset['test'],\n",
    "        epochs=epochs,\n",
    "        batch_size=batch_size,\n",
    "        optimizer=optimizer,\n",
    "        loss=loss,\n",
    "        metrics=metrics,\n",
    "        class_weight=class_weight)"
   ]
  },
  {
   "attachments": {},
   "cell_type": "markdown",
   "metadata": {},
   "source": [
    "### Get Datasets"
   ]
  },
  {
   "cell_type": "code",
   "execution_count": 51,
   "metadata": {},
   "outputs": [],
   "source": [
    "# get the answers\n",
    "answers_dataset = {}\n",
    "for session_list, name in [(train, 'train'), (val, 'val'), (test, 'test')]:\n",
    "    answers_dataset[name] = create_answers_dataset(session_list, df_source_labels)\n"
   ]
  },
  {
   "cell_type": "code",
   "execution_count": 52,
   "metadata": {},
   "outputs": [],
   "source": [
    "def get_feature_dataset(feature_list) -> np.array:\n",
    "    feature_dataset = {}\n",
    "    for session_list, name in [(train, 'train'), (val, 'val'), (test, 'test')]:\n",
    "        feature_dataset[name] = create_answers_feature_dataset(session_list, df_source_labels, df_features, feature_list)\n",
    "\n",
    "    return feature_dataset"
   ]
  },
  {
   "cell_type": "code",
   "execution_count": 53,
   "metadata": {},
   "outputs": [
    {
     "data": {
      "application/vnd.jupyter.widget-view+json": {
       "model_id": "e77f6ae9d3bc4946b52cf157cd754251",
       "version_major": 2,
       "version_minor": 0
      },
      "text/plain": [
       "0it [00:00, ?it/s]"
      ]
     },
     "metadata": {},
     "output_type": "display_data"
    },
    {
     "data": {
      "application/vnd.jupyter.widget-view+json": {
       "model_id": "95f8723fd5554fc48e9b661101a4179a",
       "version_major": 2,
       "version_minor": 0
      },
      "text/plain": [
       "0it [00:00, ?it/s]"
      ]
     },
     "metadata": {},
     "output_type": "display_data"
    },
    {
     "data": {
      "application/vnd.jupyter.widget-view+json": {
       "model_id": "57bf24bced2a4aa3add35ffee3c58b27",
       "version_major": 2,
       "version_minor": 0
      },
      "text/plain": [
       "0it [00:00, ?it/s]"
      ]
     },
     "metadata": {},
     "output_type": "display_data"
    }
   ],
   "source": [
    "answer_features_question_only = get_feature_dataset([])"
   ]
  },
  {
   "cell_type": "code",
   "execution_count": 54,
   "metadata": {},
   "outputs": [
    {
     "data": {
      "text/plain": [
       "{'train': array([[1, 0, 0, ..., 0, 0, 0],\n",
       "        [0, 1, 0, ..., 0, 0, 0],\n",
       "        [0, 0, 1, ..., 0, 0, 0],\n",
       "        ...,\n",
       "        [0, 0, 0, ..., 1, 0, 0],\n",
       "        [0, 0, 0, ..., 0, 1, 0],\n",
       "        [0, 0, 0, ..., 0, 0, 1]], dtype=int8),\n",
       " 'val': array([[1, 0, 0, ..., 0, 0, 0],\n",
       "        [0, 1, 0, ..., 0, 0, 0],\n",
       "        [0, 0, 1, ..., 0, 0, 0],\n",
       "        ...,\n",
       "        [0, 0, 0, ..., 1, 0, 0],\n",
       "        [0, 0, 0, ..., 0, 1, 0],\n",
       "        [0, 0, 0, ..., 0, 0, 1]], dtype=int8),\n",
       " 'test': array([[1, 0, 0, ..., 0, 0, 0],\n",
       "        [0, 1, 0, ..., 0, 0, 0],\n",
       "        [0, 0, 1, ..., 0, 0, 0],\n",
       "        ...,\n",
       "        [0, 0, 0, ..., 1, 0, 0],\n",
       "        [0, 0, 0, ..., 0, 1, 0],\n",
       "        [0, 0, 0, ..., 0, 0, 1]], dtype=int8)}"
      ]
     },
     "execution_count": 54,
     "metadata": {},
     "output_type": "execute_result"
    }
   ],
   "source": [
    "answer_features_question_only"
   ]
  },
  {
   "cell_type": "code",
   "execution_count": 55,
   "metadata": {},
   "outputs": [
    {
     "data": {
      "application/vnd.jupyter.widget-view+json": {
       "model_id": "3dbb5c7586e54d42a88f2b0d3c30e195",
       "version_major": 2,
       "version_minor": 0
      },
      "text/plain": [
       "0it [00:00, ?it/s]"
      ]
     },
     "metadata": {},
     "output_type": "display_data"
    },
    {
     "data": {
      "application/vnd.jupyter.widget-view+json": {
       "model_id": "a240eeb5bea34af0aab91cfaaf096bd9",
       "version_major": 2,
       "version_minor": 0
      },
      "text/plain": [
       "0it [00:00, ?it/s]"
      ]
     },
     "metadata": {},
     "output_type": "display_data"
    },
    {
     "data": {
      "application/vnd.jupyter.widget-view+json": {
       "model_id": "a7b4e0b1e7bd451f8a2874a0bc540431",
       "version_major": 2,
       "version_minor": 0
      },
      "text/plain": [
       "0it [00:00, ?it/s]"
      ]
     },
     "metadata": {},
     "output_type": "display_data"
    }
   ],
   "source": [
    "answer_features_elapsed_time = get_feature_dataset(['elapsed_time'])"
   ]
  },
  {
   "cell_type": "code",
   "execution_count": 56,
   "metadata": {},
   "outputs": [
    {
     "data": {
      "application/vnd.jupyter.widget-view+json": {
       "model_id": "babecd01e777435c95593ed6c701d6fa",
       "version_major": 2,
       "version_minor": 0
      },
      "text/plain": [
       "0it [00:00, ?it/s]"
      ]
     },
     "metadata": {},
     "output_type": "display_data"
    },
    {
     "name": "stderr",
     "output_type": "stream",
     "text": [
      "/tmp/ipykernel_18678/3114900511.py:43: VisibleDeprecationWarning: Creating an ndarray from ragged nested sequences (which is a list-or-tuple of lists-or-tuples-or ndarrays with different lengths or shapes) is deprecated. If you meant to do this, you must specify 'dtype=object' when creating the ndarray.\n",
      "  return np.array(feature_dataset)\n"
     ]
    },
    {
     "data": {
      "application/vnd.jupyter.widget-view+json": {
       "model_id": "b20942a9ab8749e6a2904f35ab3ab522",
       "version_major": 2,
       "version_minor": 0
      },
      "text/plain": [
       "0it [00:00, ?it/s]"
      ]
     },
     "metadata": {},
     "output_type": "display_data"
    },
    {
     "data": {
      "application/vnd.jupyter.widget-view+json": {
       "model_id": "7c825ba0624c4b6c8644ce09414e0668",
       "version_major": 2,
       "version_minor": 0
      },
      "text/plain": [
       "0it [00:00, ?it/s]"
      ]
     },
     "metadata": {},
     "output_type": "display_data"
    }
   ],
   "source": [
    "answer_screen_heatmap_feature = get_feature_dataset(['screen_heatmap_feature'])"
   ]
  },
  {
   "attachments": {},
   "cell_type": "markdown",
   "metadata": {},
   "source": [
    "### Question Number Only"
   ]
  },
  {
   "cell_type": "code",
   "execution_count": 243,
   "metadata": {},
   "outputs": [
    {
     "name": "stdout",
     "output_type": "stream",
     "text": [
      "input_shape: 18\n",
      "output_shape 1\n"
     ]
    }
   ],
   "source": [
    "# define the input shape\n",
    "input_data = answer_features_question_only['train']\n",
    "input_shape = (input_data.shape[1])\n",
    "print('input_shape:', input_shape)\n",
    "\n",
    "# define the output shape\n",
    "output_data = answers_dataset['train']\n",
    "output_shape = 1\n",
    "print('output_shape', output_shape)"
   ]
  },
  {
   "cell_type": "code",
   "execution_count": 244,
   "metadata": {},
   "outputs": [
    {
     "name": "stdout",
     "output_type": "stream",
     "text": [
      "Model: \"sequential_71\"\n",
      "_________________________________________________________________\n",
      " Layer (type)                Output Shape              Param #   \n",
      "=================================================================\n",
      " dense_263 (Dense)           (None, 32)                608       \n",
      "                                                                 \n",
      " dense_264 (Dense)           (None, 64)                2112      \n",
      "                                                                 \n",
      " dense_265 (Dense)           (None, 1)                 65        \n",
      "                                                                 \n",
      "=================================================================\n",
      "Total params: 2,785\n",
      "Trainable params: 2,785\n",
      "Non-trainable params: 0\n",
      "_________________________________________________________________\n",
      "None\n"
     ]
    }
   ],
   "source": [
    "model = Sequential()\n",
    "model.add(Dense(32, input_shape=(input_shape,), activation='relu'))\n",
    "model.add(Dense(64, activation='relu'))\n",
    "model.add(Dense(output_shape, activation='sigmoid'))\n",
    "\n",
    "print(model.summary())"
   ]
  },
  {
   "cell_type": "code",
   "execution_count": 245,
   "metadata": {},
   "outputs": [
    {
     "name": "stdout",
     "output_type": "stream",
     "text": [
      "Epoch 1/20\n",
      "255/255 [==============================] - 1s 2ms/step - loss: 0.8801 - accuracy: 0.6391 - val_loss: 0.6473 - val_accuracy: 0.7331\n",
      "Epoch 2/20\n",
      "255/255 [==============================] - 0s 2ms/step - loss: 0.8424 - accuracy: 0.7304 - val_loss: 0.6156 - val_accuracy: 0.7274\n",
      "Epoch 3/20\n",
      "255/255 [==============================] - 0s 2ms/step - loss: 0.8109 - accuracy: 0.7140 - val_loss: 0.5949 - val_accuracy: 0.7148\n",
      "Epoch 4/20\n",
      "255/255 [==============================] - 0s 2ms/step - loss: 0.7905 - accuracy: 0.7100 - val_loss: 0.5870 - val_accuracy: 0.6944\n",
      "Epoch 5/20\n",
      "255/255 [==============================] - 0s 2ms/step - loss: 0.7807 - accuracy: 0.7061 - val_loss: 0.5822 - val_accuracy: 0.6992\n",
      "Epoch 6/20\n",
      "255/255 [==============================] - 0s 2ms/step - loss: 0.7762 - accuracy: 0.6971 - val_loss: 0.5795 - val_accuracy: 0.6992\n",
      "Epoch 7/20\n",
      "255/255 [==============================] - 0s 2ms/step - loss: 0.7741 - accuracy: 0.6971 - val_loss: 0.5773 - val_accuracy: 0.6992\n",
      "Epoch 8/20\n",
      "255/255 [==============================] - 0s 2ms/step - loss: 0.7731 - accuracy: 0.6971 - val_loss: 0.5783 - val_accuracy: 0.6992\n",
      "Epoch 9/20\n",
      "255/255 [==============================] - 0s 2ms/step - loss: 0.7726 - accuracy: 0.6971 - val_loss: 0.5755 - val_accuracy: 0.6992\n",
      "Epoch 10/20\n",
      "255/255 [==============================] - 0s 2ms/step - loss: 0.7723 - accuracy: 0.6971 - val_loss: 0.5764 - val_accuracy: 0.6992\n",
      "Epoch 11/20\n",
      "255/255 [==============================] - 0s 2ms/step - loss: 0.7722 - accuracy: 0.6971 - val_loss: 0.5719 - val_accuracy: 0.6992\n",
      "Epoch 12/20\n",
      "255/255 [==============================] - 0s 2ms/step - loss: 0.7721 - accuracy: 0.6971 - val_loss: 0.5780 - val_accuracy: 0.6992\n",
      "Epoch 13/20\n",
      "255/255 [==============================] - 0s 2ms/step - loss: 0.7721 - accuracy: 0.6971 - val_loss: 0.5741 - val_accuracy: 0.6992\n",
      "Epoch 14/20\n",
      "255/255 [==============================] - 0s 2ms/step - loss: 0.7721 - accuracy: 0.6971 - val_loss: 0.5767 - val_accuracy: 0.6992\n",
      "Epoch 15/20\n",
      "255/255 [==============================] - 0s 2ms/step - loss: 0.7721 - accuracy: 0.6971 - val_loss: 0.5746 - val_accuracy: 0.6992\n",
      "Epoch 16/20\n",
      "255/255 [==============================] - 0s 2ms/step - loss: 0.7720 - accuracy: 0.6971 - val_loss: 0.5748 - val_accuracy: 0.6992\n",
      "Epoch 17/20\n",
      "255/255 [==============================] - 0s 2ms/step - loss: 0.7720 - accuracy: 0.6971 - val_loss: 0.5732 - val_accuracy: 0.6992\n",
      "Epoch 18/20\n",
      "255/255 [==============================] - 0s 2ms/step - loss: 0.7720 - accuracy: 0.6971 - val_loss: 0.5748 - val_accuracy: 0.6992\n",
      "Epoch 19/20\n",
      "255/255 [==============================] - 0s 2ms/step - loss: 0.7720 - accuracy: 0.6971 - val_loss: 0.5798 - val_accuracy: 0.6992\n",
      "Epoch 20/20\n",
      "255/255 [==============================] - 0s 2ms/step - loss: 0.7720 - accuracy: 0.6971 - val_loss: 0.5734 - val_accuracy: 0.6992\n"
     ]
    },
    {
     "data": {
      "image/png": "[encoded data removed]",
      "text/plain": [
       "<Figure size 500x300 with 1 Axes>"
      ]
     },
     "metadata": {},
     "output_type": "display_data"
    },
    {
     "data": {
      "image/png": "[encoded data removed]",
      "text/plain": [
       "<Figure size 500x300 with 1 Axes>"
      ]
     },
     "metadata": {},
     "output_type": "display_data"
    },
    {
     "name": "stdout",
     "output_type": "stream",
     "text": [
      "1326/1326 [==============================] - 1s 495us/step\n",
      "              precision    recall  f1-score   support\n",
      "\n",
      "           0       0.49      0.55      0.52     12686\n",
      "           1       0.80      0.76      0.78     29722\n",
      "\n",
      "    accuracy                           0.70     42408\n",
      "   macro avg       0.65      0.65      0.65     42408\n",
      "weighted avg       0.71      0.70      0.70     42408\n",
      "\n",
      "Optimized threshold for best F1: 0.50\n"
     ]
    }
   ],
   "source": [
    "class_weight = {0: 2, 1: 1.0}\n",
    "\n",
    "train_correct(\n",
    "    model=model,\n",
    "    feature_dataset=answer_features_question_only,\n",
    "    target_dataset=answers_dataset,\n",
    "    epochs=20,\n",
    "    batch_size=500,\n",
    "    optimizer=optimizers.RMSprop(learning_rate=0.0001),\n",
    "    loss='binary_crossentropy',\n",
    "    metrics=['accuracy'],\n",
    "    class_weight=class_weight)"
   ]
  },
  {
   "cell_type": "code",
   "execution_count": 246,
   "metadata": {},
   "outputs": [
    {
     "name": "stdout",
     "output_type": "stream",
     "text": [
      "Question 0 answer: [[0.9040645]]\n",
      "Question 1 answer: [[0.56900877]]\n",
      "Question 2 answer: [[0.96039283]]\n",
      "Question 3 answer: [[0.87433547]]\n",
      "Question 4 answer: [[0.6690272]]\n",
      "Question 5 answer: [[0.37841907]]\n",
      "Question 6 answer: [[0.63060933]]\n",
      "Question 7 answer: [[0.5764482]]\n",
      "Question 8 answer: [[0.44598496]]\n",
      "Question 9 answer: [[0.580584]]\n",
      "Question 10 answer: [[0.33819702]]\n",
      "Question 11 answer: [[0.48538163]]\n",
      "Question 12 answer: [[0.74972564]]\n",
      "Question 13 answer: [[0.15451863]]\n",
      "Question 14 answer: [[0.55032134]]\n",
      "Question 15 answer: [[0.31348348]]\n",
      "Question 16 answer: [[0.5966084]]\n",
      "Question 17 answer: [[0.52472115]]\n",
      "Question 18 answer: [[0.9040645]]\n",
      "[1, 1, 1, 1, 1, 0, 1, 1, 0, 1, 0, 0, 1, 0, 1, 0, 1, 1, 1]\n"
     ]
    }
   ],
   "source": [
    "answer_array = []\n",
    "for question in range(0, 19):\n",
    "    # one hot encode the question\n",
    "    question_one_hot = np.zeros(18)\n",
    "    question_one_hot[question-1] = 1\n",
    "    answer = model.predict([question_one_hot.tolist()], verbose=False)\n",
    "    answer_array.append(int(answer > 0.5))\n",
    "    print(f'Question {question} answer: {answer}')\n",
    "\n",
    "print(answer_array)"
   ]
  },
  {
   "attachments": {},
   "cell_type": "markdown",
   "metadata": {},
   "source": [
    "### Elapsed Time"
   ]
  },
  {
   "cell_type": "code",
   "execution_count": 247,
   "metadata": {},
   "outputs": [
    {
     "name": "stdout",
     "output_type": "stream",
     "text": [
      "input_shape: 19\n",
      "output_shape 1\n"
     ]
    }
   ],
   "source": [
    "# define the input shape\n",
    "input_data = answer_features_elapsed_time['train']\n",
    "input_shape = (input_data.shape[1])\n",
    "print('input_shape:', input_shape)\n",
    "\n",
    "# define the output shape\n",
    "output_data = answers_dataset['train']\n",
    "output_shape = 1\n",
    "print('output_shape', output_shape)"
   ]
  },
  {
   "cell_type": "code",
   "execution_count": 248,
   "metadata": {},
   "outputs": [
    {
     "name": "stdout",
     "output_type": "stream",
     "text": [
      "Model: \"sequential_72\"\n",
      "_________________________________________________________________\n",
      " Layer (type)                Output Shape              Param #   \n",
      "=================================================================\n",
      " dense_266 (Dense)           (None, 64)                1280      \n",
      "                                                                 \n",
      " dense_267 (Dense)           (None, 64)                4160      \n",
      "                                                                 \n",
      " dropout_38 (Dropout)        (None, 64)                0         \n",
      "                                                                 \n",
      " dense_268 (Dense)           (None, 64)                4160      \n",
      "                                                                 \n",
      " dense_269 (Dense)           (None, 1)                 65        \n",
      "                                                                 \n",
      "=================================================================\n",
      "Total params: 9,665\n",
      "Trainable params: 9,665\n",
      "Non-trainable params: 0\n",
      "_________________________________________________________________\n",
      "None\n"
     ]
    }
   ],
   "source": [
    "model = Sequential()\n",
    "model.add(Dense(64, input_shape=(input_shape,), activation='relu'))\n",
    "model.add(Dense(64, activation='relu'))\n",
    "model.add(Dropout(0.2))\n",
    "model.add(Dense(64, activation='relu'))\n",
    "\n",
    "model.add(Dense(output_shape, activation='sigmoid'))\n",
    "\n",
    "print(model.summary())"
   ]
  },
  {
   "cell_type": "code",
   "execution_count": 249,
   "metadata": {},
   "outputs": [
    {
     "name": "stdout",
     "output_type": "stream",
     "text": [
      "Epoch 1/50\n",
      "128/128 [==============================] - 1s 2ms/step - loss: 0.8782 - accuracy: 0.7132 - val_loss: 0.6289 - val_accuracy: 0.7231\n",
      "Epoch 2/50\n",
      "128/128 [==============================] - 0s 2ms/step - loss: 0.8281 - accuracy: 0.7108 - val_loss: 0.5913 - val_accuracy: 0.6982\n",
      "Epoch 3/50\n",
      "128/128 [==============================] - 0s 2ms/step - loss: 0.7872 - accuracy: 0.6942 - val_loss: 0.5795 - val_accuracy: 0.6915\n",
      "Epoch 4/50\n",
      "128/128 [==============================] - 0s 2ms/step - loss: 0.7759 - accuracy: 0.6920 - val_loss: 0.5702 - val_accuracy: 0.6996\n",
      "Epoch 5/50\n",
      "128/128 [==============================] - 0s 2ms/step - loss: 0.7740 - accuracy: 0.6916 - val_loss: 0.5754 - val_accuracy: 0.6890\n",
      "Epoch 6/50\n",
      "128/128 [==============================] - 0s 2ms/step - loss: 0.7728 - accuracy: 0.6898 - val_loss: 0.5734 - val_accuracy: 0.6905\n",
      "Epoch 7/50\n",
      "128/128 [==============================] - 0s 2ms/step - loss: 0.7727 - accuracy: 0.6888 - val_loss: 0.5769 - val_accuracy: 0.6859\n",
      "Epoch 8/50\n",
      "128/128 [==============================] - 0s 2ms/step - loss: 0.7718 - accuracy: 0.6889 - val_loss: 0.5631 - val_accuracy: 0.6979\n",
      "Epoch 9/50\n",
      "128/128 [==============================] - 0s 2ms/step - loss: 0.7713 - accuracy: 0.6906 - val_loss: 0.5728 - val_accuracy: 0.6882\n",
      "Epoch 10/50\n",
      "128/128 [==============================] - 0s 2ms/step - loss: 0.7708 - accuracy: 0.6913 - val_loss: 0.5731 - val_accuracy: 0.6869\n",
      "Epoch 11/50\n",
      "128/128 [==============================] - 0s 2ms/step - loss: 0.7709 - accuracy: 0.6886 - val_loss: 0.5731 - val_accuracy: 0.6870\n",
      "Epoch 12/50\n",
      "128/128 [==============================] - 0s 2ms/step - loss: 0.7705 - accuracy: 0.6896 - val_loss: 0.5687 - val_accuracy: 0.6911\n",
      "Epoch 13/50\n",
      "128/128 [==============================] - 0s 2ms/step - loss: 0.7700 - accuracy: 0.6909 - val_loss: 0.5706 - val_accuracy: 0.6890\n",
      "Epoch 14/50\n",
      "128/128 [==============================] - 0s 2ms/step - loss: 0.7704 - accuracy: 0.6917 - val_loss: 0.5727 - val_accuracy: 0.6880\n",
      "Epoch 15/50\n",
      "128/128 [==============================] - 0s 2ms/step - loss: 0.7702 - accuracy: 0.6903 - val_loss: 0.5740 - val_accuracy: 0.6855\n",
      "Epoch 16/50\n",
      "128/128 [==============================] - 0s 2ms/step - loss: 0.7696 - accuracy: 0.6892 - val_loss: 0.5685 - val_accuracy: 0.6897\n",
      "Epoch 17/50\n",
      "128/128 [==============================] - 0s 2ms/step - loss: 0.7696 - accuracy: 0.6888 - val_loss: 0.5708 - val_accuracy: 0.6897\n",
      "Epoch 18/50\n",
      "128/128 [==============================] - 0s 2ms/step - loss: 0.7694 - accuracy: 0.6895 - val_loss: 0.5715 - val_accuracy: 0.6885\n",
      "Epoch 19/50\n",
      "128/128 [==============================] - 0s 2ms/step - loss: 0.7693 - accuracy: 0.6910 - val_loss: 0.5748 - val_accuracy: 0.6845\n",
      "Epoch 20/50\n",
      "128/128 [==============================] - 0s 2ms/step - loss: 0.7691 - accuracy: 0.6887 - val_loss: 0.5724 - val_accuracy: 0.6879\n",
      "Epoch 21/50\n",
      "128/128 [==============================] - 0s 2ms/step - loss: 0.7691 - accuracy: 0.6909 - val_loss: 0.5759 - val_accuracy: 0.6838\n",
      "Epoch 22/50\n",
      "128/128 [==============================] - 0s 2ms/step - loss: 0.7690 - accuracy: 0.6901 - val_loss: 0.5699 - val_accuracy: 0.6910\n",
      "Epoch 23/50\n",
      "128/128 [==============================] - 0s 2ms/step - loss: 0.7687 - accuracy: 0.6898 - val_loss: 0.5704 - val_accuracy: 0.6894\n",
      "Epoch 24/50\n",
      "128/128 [==============================] - 0s 2ms/step - loss: 0.7689 - accuracy: 0.6888 - val_loss: 0.5719 - val_accuracy: 0.6888\n",
      "Epoch 25/50\n",
      "128/128 [==============================] - 0s 2ms/step - loss: 0.7691 - accuracy: 0.6910 - val_loss: 0.5686 - val_accuracy: 0.6928\n",
      "Epoch 26/50\n",
      "128/128 [==============================] - 0s 2ms/step - loss: 0.7685 - accuracy: 0.6914 - val_loss: 0.5709 - val_accuracy: 0.6898\n",
      "Epoch 27/50\n",
      "128/128 [==============================] - 0s 2ms/step - loss: 0.7685 - accuracy: 0.6901 - val_loss: 0.5697 - val_accuracy: 0.6908\n",
      "Epoch 28/50\n",
      "128/128 [==============================] - 0s 2ms/step - loss: 0.7686 - accuracy: 0.6896 - val_loss: 0.5681 - val_accuracy: 0.6921\n",
      "Epoch 29/50\n",
      "128/128 [==============================] - 0s 2ms/step - loss: 0.7682 - accuracy: 0.6901 - val_loss: 0.5733 - val_accuracy: 0.6881\n",
      "Epoch 30/50\n",
      "128/128 [==============================] - 0s 2ms/step - loss: 0.7682 - accuracy: 0.6910 - val_loss: 0.5725 - val_accuracy: 0.6899\n",
      "Epoch 31/50\n",
      "128/128 [==============================] - 0s 2ms/step - loss: 0.7682 - accuracy: 0.6886 - val_loss: 0.5729 - val_accuracy: 0.6890\n",
      "Epoch 32/50\n",
      "128/128 [==============================] - 0s 2ms/step - loss: 0.7685 - accuracy: 0.6910 - val_loss: 0.5703 - val_accuracy: 0.6902\n",
      "Epoch 33/50\n",
      "128/128 [==============================] - 0s 2ms/step - loss: 0.7683 - accuracy: 0.6894 - val_loss: 0.5710 - val_accuracy: 0.6898\n",
      "Epoch 34/50\n",
      "128/128 [==============================] - 0s 2ms/step - loss: 0.7680 - accuracy: 0.6914 - val_loss: 0.5701 - val_accuracy: 0.6898\n",
      "Epoch 35/50\n",
      "128/128 [==============================] - 0s 2ms/step - loss: 0.7685 - accuracy: 0.6877 - val_loss: 0.5702 - val_accuracy: 0.6897\n",
      "Epoch 36/50\n",
      "128/128 [==============================] - 0s 2ms/step - loss: 0.7679 - accuracy: 0.6895 - val_loss: 0.5724 - val_accuracy: 0.6869\n",
      "Epoch 37/50\n",
      "128/128 [==============================] - 0s 2ms/step - loss: 0.7680 - accuracy: 0.6881 - val_loss: 0.5677 - val_accuracy: 0.6926\n",
      "Epoch 38/50\n",
      "128/128 [==============================] - 0s 2ms/step - loss: 0.7679 - accuracy: 0.6905 - val_loss: 0.5698 - val_accuracy: 0.6909\n",
      "Epoch 39/50\n",
      "128/128 [==============================] - 0s 2ms/step - loss: 0.7679 - accuracy: 0.6897 - val_loss: 0.5700 - val_accuracy: 0.6902\n",
      "Epoch 40/50\n",
      "128/128 [==============================] - 0s 2ms/step - loss: 0.7681 - accuracy: 0.6909 - val_loss: 0.5752 - val_accuracy: 0.6859\n",
      "Epoch 41/50\n",
      "128/128 [==============================] - 0s 2ms/step - loss: 0.7680 - accuracy: 0.6902 - val_loss: 0.5726 - val_accuracy: 0.6874\n",
      "Epoch 42/50\n",
      "128/128 [==============================] - 0s 2ms/step - loss: 0.7677 - accuracy: 0.6893 - val_loss: 0.5655 - val_accuracy: 0.6958\n",
      "Epoch 43/50\n",
      "128/128 [==============================] - 0s 2ms/step - loss: 0.7677 - accuracy: 0.6904 - val_loss: 0.5713 - val_accuracy: 0.6885\n",
      "Epoch 44/50\n",
      "128/128 [==============================] - 0s 2ms/step - loss: 0.7679 - accuracy: 0.6896 - val_loss: 0.5720 - val_accuracy: 0.6877\n",
      "Epoch 45/50\n",
      "128/128 [==============================] - 0s 2ms/step - loss: 0.7676 - accuracy: 0.6888 - val_loss: 0.5729 - val_accuracy: 0.6875\n",
      "Epoch 46/50\n",
      "128/128 [==============================] - 0s 2ms/step - loss: 0.7677 - accuracy: 0.6894 - val_loss: 0.5680 - val_accuracy: 0.6916\n",
      "Epoch 47/50\n",
      "128/128 [==============================] - 0s 2ms/step - loss: 0.7677 - accuracy: 0.6894 - val_loss: 0.5694 - val_accuracy: 0.6905\n",
      "Epoch 48/50\n",
      "128/128 [==============================] - 0s 2ms/step - loss: 0.7674 - accuracy: 0.6906 - val_loss: 0.5697 - val_accuracy: 0.6890\n",
      "Epoch 49/50\n",
      "128/128 [==============================] - 0s 2ms/step - loss: 0.7672 - accuracy: 0.6899 - val_loss: 0.5730 - val_accuracy: 0.6868\n",
      "Epoch 50/50\n",
      "128/128 [==============================] - 0s 2ms/step - loss: 0.7676 - accuracy: 0.6905 - val_loss: 0.5725 - val_accuracy: 0.6868\n"
     ]
    },
    {
     "data": {
      "image/png": "[encoded data removed]",
      "text/plain": [
       "<Figure size 500x300 with 1 Axes>"
      ]
     },
     "metadata": {},
     "output_type": "display_data"
    },
    {
     "data": {
      "image/png": "[encoded data removed]",
      "text/plain": [
       "<Figure size 500x300 with 1 Axes>"
      ]
     },
     "metadata": {},
     "output_type": "display_data"
    },
    {
     "name": "stdout",
     "output_type": "stream",
     "text": [
      "1326/1326 [==============================] - 1s 480us/step\n",
      "              precision    recall  f1-score   support\n",
      "\n",
      "           0       0.48      0.60      0.53     12686\n",
      "           1       0.81      0.72      0.76     29722\n",
      "\n",
      "    accuracy                           0.68     42408\n",
      "   macro avg       0.64      0.66      0.65     42408\n",
      "weighted avg       0.71      0.68      0.69     42408\n",
      "\n",
      "Optimized threshold for best F1: 0.50\n"
     ]
    }
   ],
   "source": [
    "class_weight = {0: 2, 1: 1.0}\n",
    "\n",
    "train_correct(\n",
    "    model=model,\n",
    "    feature_dataset=answer_features_elapsed_time,\n",
    "    target_dataset=answers_dataset,\n",
    "    epochs=50,\n",
    "    batch_size=1000,\n",
    "    optimizer=optimizers.Adam(learning_rate=0.0001),\n",
    "    loss='binary_crossentropy',\n",
    "    metrics=['accuracy'],\n",
    "    class_weight=class_weight)"
   ]
  }
 ],
 "metadata": {
  "kernelspec": {
   "display_name": "Python 3",
   "language": "python",
   "name": "python3"
  },
  "language_info": {
   "codemirror_mode": {
    "name": "ipython",
    "version": 3
   },
   "file_extension": ".py",
   "mimetype": "text/x-python",
   "name": "python",
   "nbconvert_exporter": "python",
   "pygments_lexer": "ipython3",
   "version": "3.8.10"
  },
  "orig_nbformat": 4
 },
 "nbformat": 4,
 "nbformat_minor": 2
}
