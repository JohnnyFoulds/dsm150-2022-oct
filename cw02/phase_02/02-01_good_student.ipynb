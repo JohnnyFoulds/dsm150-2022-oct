{
 "cells": [
  {
   "attachments": {},
   "cell_type": "markdown",
   "metadata": {},
   "source": [
    "# 02-01 : Identify Good Students\n",
    "\n",
    "Can solve a sub problem of identifying good students based on their activities in a level group."
   ]
  },
  {
   "cell_type": "code",
   "execution_count": 1,
   "metadata": {},
   "outputs": [
    {
     "name": "stderr",
     "output_type": "stream",
     "text": [
      "2023-03-12 16:14:40.393035: I tensorflow/core/platform/cpu_feature_guard.cc:193] This TensorFlow binary is optimized with oneAPI Deep Neural Network Library (oneDNN) to use the following CPU instructions in performance-critical operations:  AVX2 FMA\n",
      "To enable them in other operations, rebuild TensorFlow with the appropriate compiler flags.\n"
     ]
    }
   ],
   "source": [
    "import sys\n",
    "import gc\n",
    "import logging\n",
    "\n",
    "from typing import Iterable\n",
    "from typing import Tuple\n",
    "\n",
    "import pandas as pd\n",
    "import numpy as np\n",
    "\n",
    "import keras\n",
    "from keras import optimizers\n",
    "from keras.models import Sequential, Model\n",
    "\n",
    "from keras.layers import Conv2D, Dense, Dropout, Flatten\n",
    "from keras.layers import LeakyReLU, LSTM, MaxPooling2D, concatenate, Reshape\n",
    "from keras.layers import Concatenate\n",
    "\n",
    "from keras.layers import Input\n",
    "from keras import callbacks\n",
    "from keras import regularizers\n",
    "\n",
    "from sklearn.metrics import classification_report, precision_recall_fscore_support\n",
    "from sklearn.model_selection import train_test_split\n",
    "\n",
    "from tqdm.auto import tqdm\n",
    "import matplotlib.pyplot as plt"
   ]
  },
  {
   "cell_type": "markdown",
   "metadata": {},
   "source": [
    "## Configure Logging"
   ]
  },
  {
   "cell_type": "code",
   "execution_count": 2,
   "metadata": {},
   "outputs": [],
   "source": [
    "logging.getLogger('matplotlib.font_manager').setLevel(logging.ERROR)"
   ]
  },
  {
   "cell_type": "code",
   "execution_count": 3,
   "metadata": {},
   "outputs": [
    {
     "name": "stdout",
     "output_type": "stream",
     "text": [
      "2023-03-12 16:14:41 INFO     Started\n"
     ]
    }
   ],
   "source": [
    "logging.basicConfig(\n",
    "    format='%(asctime)s %(levelname)-8s %(message)s',\n",
    "    level=logging.INFO,\n",
    "    datefmt='%Y-%m-%d %H:%M:%S',\n",
    "        handlers=[\n",
    "        logging.FileHandler(\"ex05_06.log\"),\n",
    "        logging.StreamHandler(sys.stdout)\n",
    "    ])\n",
    "\n",
    "logging.info(\"Started\")"
   ]
  },
  {
   "cell_type": "markdown",
   "metadata": {},
   "source": [
    "## Load Source Data"
   ]
  },
  {
   "cell_type": "code",
   "execution_count": 4,
   "metadata": {},
   "outputs": [
    {
     "name": "stdout",
     "output_type": "stream",
     "text": [
      "(13174211, 19)\n"
     ]
    },
    {
     "data": {
      "text/html": [
       "<div>\n",
       "<style scoped>\n",
       "    .dataframe tbody tr th:only-of-type {\n",
       "        vertical-align: middle;\n",
       "    }\n",
       "\n",
       "    .dataframe tbody tr th {\n",
       "        vertical-align: top;\n",
       "    }\n",
       "\n",
       "    .dataframe thead th {\n",
       "        text-align: right;\n",
       "    }\n",
       "</style>\n",
       "<table border=\"1\" class=\"dataframe\">\n",
       "  <thead>\n",
       "    <tr style=\"text-align: right;\">\n",
       "      <th></th>\n",
       "      <th>session_id</th>\n",
       "      <th>elapsed_time</th>\n",
       "      <th>event_name</th>\n",
       "      <th>name</th>\n",
       "      <th>level</th>\n",
       "      <th>page</th>\n",
       "      <th>room_coor_x</th>\n",
       "      <th>room_coor_y</th>\n",
       "      <th>screen_coor_x</th>\n",
       "      <th>screen_coor_y</th>\n",
       "      <th>hover_duration</th>\n",
       "      <th>text</th>\n",
       "      <th>fqid</th>\n",
       "      <th>room_fqid</th>\n",
       "      <th>text_fqid</th>\n",
       "      <th>fullscreen</th>\n",
       "      <th>hq</th>\n",
       "      <th>music</th>\n",
       "      <th>level_group</th>\n",
       "    </tr>\n",
       "    <tr>\n",
       "      <th>index</th>\n",
       "      <th></th>\n",
       "      <th></th>\n",
       "      <th></th>\n",
       "      <th></th>\n",
       "      <th></th>\n",
       "      <th></th>\n",
       "      <th></th>\n",
       "      <th></th>\n",
       "      <th></th>\n",
       "      <th></th>\n",
       "      <th></th>\n",
       "      <th></th>\n",
       "      <th></th>\n",
       "      <th></th>\n",
       "      <th></th>\n",
       "      <th></th>\n",
       "      <th></th>\n",
       "      <th></th>\n",
       "      <th></th>\n",
       "    </tr>\n",
       "  </thead>\n",
       "  <tbody>\n",
       "    <tr>\n",
       "      <th>0</th>\n",
       "      <td>20090312431273200</td>\n",
       "      <td>0</td>\n",
       "      <td>cutscene_click</td>\n",
       "      <td>basic</td>\n",
       "      <td>0</td>\n",
       "      <td>NaN</td>\n",
       "      <td>-413.991405</td>\n",
       "      <td>-159.314686</td>\n",
       "      <td>380.0</td>\n",
       "      <td>494.0</td>\n",
       "      <td>NaN</td>\n",
       "      <td>undefined</td>\n",
       "      <td>intro</td>\n",
       "      <td>tunic.historicalsociety.closet</td>\n",
       "      <td>tunic.historicalsociety.closet.intro</td>\n",
       "      <td>NaN</td>\n",
       "      <td>NaN</td>\n",
       "      <td>NaN</td>\n",
       "      <td>0-4</td>\n",
       "    </tr>\n",
       "    <tr>\n",
       "      <th>1</th>\n",
       "      <td>20090312431273200</td>\n",
       "      <td>1323</td>\n",
       "      <td>person_click</td>\n",
       "      <td>basic</td>\n",
       "      <td>0</td>\n",
       "      <td>NaN</td>\n",
       "      <td>-413.991405</td>\n",
       "      <td>-159.314686</td>\n",
       "      <td>380.0</td>\n",
       "      <td>494.0</td>\n",
       "      <td>NaN</td>\n",
       "      <td>Whatcha doing over there, Jo?</td>\n",
       "      <td>gramps</td>\n",
       "      <td>tunic.historicalsociety.closet</td>\n",
       "      <td>tunic.historicalsociety.closet.gramps.intro_0_...</td>\n",
       "      <td>NaN</td>\n",
       "      <td>NaN</td>\n",
       "      <td>NaN</td>\n",
       "      <td>0-4</td>\n",
       "    </tr>\n",
       "    <tr>\n",
       "      <th>2</th>\n",
       "      <td>20090312431273200</td>\n",
       "      <td>831</td>\n",
       "      <td>person_click</td>\n",
       "      <td>basic</td>\n",
       "      <td>0</td>\n",
       "      <td>NaN</td>\n",
       "      <td>-413.991405</td>\n",
       "      <td>-159.314686</td>\n",
       "      <td>380.0</td>\n",
       "      <td>494.0</td>\n",
       "      <td>NaN</td>\n",
       "      <td>Just talking to Teddy.</td>\n",
       "      <td>gramps</td>\n",
       "      <td>tunic.historicalsociety.closet</td>\n",
       "      <td>tunic.historicalsociety.closet.gramps.intro_0_...</td>\n",
       "      <td>NaN</td>\n",
       "      <td>NaN</td>\n",
       "      <td>NaN</td>\n",
       "      <td>0-4</td>\n",
       "    </tr>\n",
       "  </tbody>\n",
       "</table>\n",
       "</div>"
      ],
      "text/plain": [
       "              session_id  elapsed_time      event_name   name  level  page  \\\n",
       "index                                                                        \n",
       "0      20090312431273200             0  cutscene_click  basic      0   NaN   \n",
       "1      20090312431273200          1323    person_click  basic      0   NaN   \n",
       "2      20090312431273200           831    person_click  basic      0   NaN   \n",
       "\n",
       "       room_coor_x  room_coor_y  screen_coor_x  screen_coor_y  hover_duration  \\\n",
       "index                                                                           \n",
       "0      -413.991405  -159.314686          380.0          494.0             NaN   \n",
       "1      -413.991405  -159.314686          380.0          494.0             NaN   \n",
       "2      -413.991405  -159.314686          380.0          494.0             NaN   \n",
       "\n",
       "                                text    fqid                       room_fqid  \\\n",
       "index                                                                          \n",
       "0                          undefined   intro  tunic.historicalsociety.closet   \n",
       "1      Whatcha doing over there, Jo?  gramps  tunic.historicalsociety.closet   \n",
       "2             Just talking to Teddy.  gramps  tunic.historicalsociety.closet   \n",
       "\n",
       "                                               text_fqid  fullscreen  hq  \\\n",
       "index                                                                      \n",
       "0                   tunic.historicalsociety.closet.intro         NaN NaN   \n",
       "1      tunic.historicalsociety.closet.gramps.intro_0_...         NaN NaN   \n",
       "2      tunic.historicalsociety.closet.gramps.intro_0_...         NaN NaN   \n",
       "\n",
       "       music level_group  \n",
       "index                     \n",
       "0        NaN         0-4  \n",
       "1        NaN         0-4  \n",
       "2        NaN         0-4  "
      ]
     },
     "metadata": {},
     "output_type": "display_data"
    }
   ],
   "source": [
    "# load the source training set\n",
    "df_source = pd.read_csv('../data/train.csv.gz', compression='gzip', index_col=1)\n",
    "\n",
    "print(df_source.shape)\n",
    "with pd.option_context('display.max_columns', None):\n",
    "    display(df_source.head(3))"
   ]
  },
  {
   "cell_type": "code",
   "execution_count": 5,
   "metadata": {},
   "outputs": [
    {
     "name": "stdout",
     "output_type": "stream",
     "text": [
      "(212022, 2)\n"
     ]
    },
    {
     "data": {
      "text/html": [
       "<div>\n",
       "<style scoped>\n",
       "    .dataframe tbody tr th:only-of-type {\n",
       "        vertical-align: middle;\n",
       "    }\n",
       "\n",
       "    .dataframe tbody tr th {\n",
       "        vertical-align: top;\n",
       "    }\n",
       "\n",
       "    .dataframe thead th {\n",
       "        text-align: right;\n",
       "    }\n",
       "</style>\n",
       "<table border=\"1\" class=\"dataframe\">\n",
       "  <thead>\n",
       "    <tr style=\"text-align: right;\">\n",
       "      <th></th>\n",
       "      <th>session_id</th>\n",
       "      <th>correct</th>\n",
       "    </tr>\n",
       "  </thead>\n",
       "  <tbody>\n",
       "    <tr>\n",
       "      <th>0</th>\n",
       "      <td>20090312431273200_q1</td>\n",
       "      <td>1</td>\n",
       "    </tr>\n",
       "    <tr>\n",
       "      <th>1</th>\n",
       "      <td>20090312433251036_q1</td>\n",
       "      <td>0</td>\n",
       "    </tr>\n",
       "    <tr>\n",
       "      <th>2</th>\n",
       "      <td>20090314121766812_q1</td>\n",
       "      <td>1</td>\n",
       "    </tr>\n",
       "  </tbody>\n",
       "</table>\n",
       "</div>"
      ],
      "text/plain": [
       "             session_id  correct\n",
       "0  20090312431273200_q1        1\n",
       "1  20090312433251036_q1        0\n",
       "2  20090314121766812_q1        1"
      ]
     },
     "metadata": {},
     "output_type": "display_data"
    }
   ],
   "source": [
    "# load the source training labels\n",
    "df_source_labels = pd.read_csv('../data/train_labels.csv')\n",
    "\n",
    "print(df_source_labels.shape)\n",
    "with pd.option_context('display.max_columns', None):\n",
    "    display(df_source_labels.head(3))"
   ]
  },
  {
   "cell_type": "markdown",
   "metadata": {},
   "source": [
    "## Functions"
   ]
  },
  {
   "cell_type": "code",
   "execution_count": 6,
   "metadata": {},
   "outputs": [],
   "source": [
    "def map_question_to_level_group(question_number):\n",
    "    \"\"\"\n",
    "    Maps the question number to the level group.\n",
    "\n",
    "    Parameters\n",
    "    ----------\n",
    "    question_number : int\n",
    "        The question number.\n",
    "\n",
    "    Returns\n",
    "    -------\n",
    "    str\n",
    "        The level group.\n",
    "    \"\"\"\n",
    "    if question_number in [1, 2, 3]:\n",
    "        return '0-4'\n",
    "    elif question_number in [4, 5, 6, 7, 8, 9, 10, 11, 12, 13]:\n",
    "        return '5-12'\n",
    "    elif question_number in [14, 15, 16, 17, 18]:\n",
    "        return '13-22'\n",
    "    else:\n",
    "        return None"
   ]
  },
  {
   "cell_type": "code",
   "execution_count": 7,
   "metadata": {},
   "outputs": [],
   "source": [
    "def prepare_label_dataset(data : pd.DataFrame) -> pd.DataFrame:\n",
    "    \"\"\"\n",
    "    Prepares the label dataset and add columns for the level group \n",
    "    and the question number.\n",
    "\n",
    "    Parameters\n",
    "    ----------\n",
    "    data : pd.DataFrame\n",
    "        The label dataset.\n",
    "\n",
    "    Returns\n",
    "    -------\n",
    "    pd.DataFrame\n",
    "        The prepared label dataset.\n",
    "    \"\"\"\n",
    "    # add the columns to determine the level group\n",
    "    df_labels = data \\\n",
    "        .rename(columns={'session_id': 'id'}) \\\n",
    "        .assign(session_id=lambda df: df['id'].str.split('_').str[0].astype(int)) \\\n",
    "        .assign(question_id=lambda df: df['id'].str.split('_').str[1]) \\\n",
    "        .assign(question_num=lambda df: df['question_id'].str[1:].astype(int)) \\\n",
    "        [['session_id', 'question_num', 'correct']]\n",
    "    \n",
    "    # add the level group column\n",
    "    df_labels['level_group'] = df_labels['question_num'].apply(map_question_to_level_group) \n",
    "        \n",
    "    return df_labels"
   ]
  },
  {
   "cell_type": "code",
   "execution_count": 8,
   "metadata": {},
   "outputs": [],
   "source": [
    "def prepare_main_dataset(data : pd.DataFrame) -> pd.DataFrame:\n",
    "    \"\"\"\n",
    "    Prepares the main dataset by removing duplicates and removing \n",
    "    columns that are not needed.\n",
    "\n",
    "    Parameters\n",
    "    ----------\n",
    "    data : pd.DataFrame\n",
    "        The main dataset.\n",
    "\n",
    "    Returns\n",
    "    -------\n",
    "    pd.DataFrame\n",
    "        The prepared main dataset.\n",
    "    \"\"\"\n",
    "    empty_columns = ['fullscreen', 'hq', 'music', 'page', 'hover_duration']\n",
    "\n",
    "    df_main = data \\\n",
    "        .drop_duplicates() \\\n",
    "        .reset_index(drop=True) \\\n",
    "        .drop(empty_columns, axis=1) \\\n",
    "        .drop('text', axis=1)\n",
    "\n",
    "    return df_main"
   ]
  },
  {
   "cell_type": "markdown",
   "metadata": {},
   "source": [
    "## Data Preprocessing"
   ]
  },
  {
   "cell_type": "code",
   "execution_count": 9,
   "metadata": {},
   "outputs": [
    {
     "name": "stdout",
     "output_type": "stream",
     "text": [
      "(13173445, 13)\n"
     ]
    },
    {
     "data": {
      "text/html": [
       "<div>\n",
       "<style scoped>\n",
       "    .dataframe tbody tr th:only-of-type {\n",
       "        vertical-align: middle;\n",
       "    }\n",
       "\n",
       "    .dataframe tbody tr th {\n",
       "        vertical-align: top;\n",
       "    }\n",
       "\n",
       "    .dataframe thead th {\n",
       "        text-align: right;\n",
       "    }\n",
       "</style>\n",
       "<table border=\"1\" class=\"dataframe\">\n",
       "  <thead>\n",
       "    <tr style=\"text-align: right;\">\n",
       "      <th></th>\n",
       "      <th>session_id</th>\n",
       "      <th>elapsed_time</th>\n",
       "      <th>event_name</th>\n",
       "      <th>name</th>\n",
       "      <th>level</th>\n",
       "      <th>room_coor_x</th>\n",
       "      <th>room_coor_y</th>\n",
       "      <th>screen_coor_x</th>\n",
       "      <th>screen_coor_y</th>\n",
       "      <th>fqid</th>\n",
       "      <th>room_fqid</th>\n",
       "      <th>text_fqid</th>\n",
       "      <th>level_group</th>\n",
       "    </tr>\n",
       "  </thead>\n",
       "  <tbody>\n",
       "    <tr>\n",
       "      <th>0</th>\n",
       "      <td>20090312431273200</td>\n",
       "      <td>0</td>\n",
       "      <td>cutscene_click</td>\n",
       "      <td>basic</td>\n",
       "      <td>0</td>\n",
       "      <td>-413.991405</td>\n",
       "      <td>-159.314686</td>\n",
       "      <td>380.0</td>\n",
       "      <td>494.0</td>\n",
       "      <td>intro</td>\n",
       "      <td>tunic.historicalsociety.closet</td>\n",
       "      <td>tunic.historicalsociety.closet.intro</td>\n",
       "      <td>0-4</td>\n",
       "    </tr>\n",
       "    <tr>\n",
       "      <th>1</th>\n",
       "      <td>20090312431273200</td>\n",
       "      <td>1323</td>\n",
       "      <td>person_click</td>\n",
       "      <td>basic</td>\n",
       "      <td>0</td>\n",
       "      <td>-413.991405</td>\n",
       "      <td>-159.314686</td>\n",
       "      <td>380.0</td>\n",
       "      <td>494.0</td>\n",
       "      <td>gramps</td>\n",
       "      <td>tunic.historicalsociety.closet</td>\n",
       "      <td>tunic.historicalsociety.closet.gramps.intro_0_...</td>\n",
       "      <td>0-4</td>\n",
       "    </tr>\n",
       "    <tr>\n",
       "      <th>2</th>\n",
       "      <td>20090312431273200</td>\n",
       "      <td>831</td>\n",
       "      <td>person_click</td>\n",
       "      <td>basic</td>\n",
       "      <td>0</td>\n",
       "      <td>-413.991405</td>\n",
       "      <td>-159.314686</td>\n",
       "      <td>380.0</td>\n",
       "      <td>494.0</td>\n",
       "      <td>gramps</td>\n",
       "      <td>tunic.historicalsociety.closet</td>\n",
       "      <td>tunic.historicalsociety.closet.gramps.intro_0_...</td>\n",
       "      <td>0-4</td>\n",
       "    </tr>\n",
       "  </tbody>\n",
       "</table>\n",
       "</div>"
      ],
      "text/plain": [
       "          session_id  elapsed_time      event_name   name  level  room_coor_x  \\\n",
       "0  20090312431273200             0  cutscene_click  basic      0  -413.991405   \n",
       "1  20090312431273200          1323    person_click  basic      0  -413.991405   \n",
       "2  20090312431273200           831    person_click  basic      0  -413.991405   \n",
       "\n",
       "   room_coor_y  screen_coor_x  screen_coor_y    fqid  \\\n",
       "0  -159.314686          380.0          494.0   intro   \n",
       "1  -159.314686          380.0          494.0  gramps   \n",
       "2  -159.314686          380.0          494.0  gramps   \n",
       "\n",
       "                        room_fqid  \\\n",
       "0  tunic.historicalsociety.closet   \n",
       "1  tunic.historicalsociety.closet   \n",
       "2  tunic.historicalsociety.closet   \n",
       "\n",
       "                                           text_fqid level_group  \n",
       "0               tunic.historicalsociety.closet.intro         0-4  \n",
       "1  tunic.historicalsociety.closet.gramps.intro_0_...         0-4  \n",
       "2  tunic.historicalsociety.closet.gramps.intro_0_...         0-4  "
      ]
     },
     "metadata": {},
     "output_type": "display_data"
    }
   ],
   "source": [
    "# prepare the main dataset\n",
    "df_source = prepare_main_dataset(df_source)\n",
    "\n",
    "with pd.option_context('display.max_columns', None):\n",
    "    print(df_source.shape)\n",
    "    display(df_source.head(3))  "
   ]
  },
  {
   "cell_type": "code",
   "execution_count": 10,
   "metadata": {},
   "outputs": [
    {
     "data": {
      "text/html": [
       "<div>\n",
       "<style scoped>\n",
       "    .dataframe tbody tr th:only-of-type {\n",
       "        vertical-align: middle;\n",
       "    }\n",
       "\n",
       "    .dataframe tbody tr th {\n",
       "        vertical-align: top;\n",
       "    }\n",
       "\n",
       "    .dataframe thead th {\n",
       "        text-align: right;\n",
       "    }\n",
       "</style>\n",
       "<table border=\"1\" class=\"dataframe\">\n",
       "  <thead>\n",
       "    <tr style=\"text-align: right;\">\n",
       "      <th></th>\n",
       "      <th>session_id</th>\n",
       "      <th>question_num</th>\n",
       "      <th>correct</th>\n",
       "      <th>level_group</th>\n",
       "    </tr>\n",
       "  </thead>\n",
       "  <tbody>\n",
       "    <tr>\n",
       "      <th>21476</th>\n",
       "      <td>22010116250792520</td>\n",
       "      <td>2</td>\n",
       "      <td>1</td>\n",
       "      <td>0-4</td>\n",
       "    </tr>\n",
       "    <tr>\n",
       "      <th>84068</th>\n",
       "      <td>21000111433937450</td>\n",
       "      <td>8</td>\n",
       "      <td>1</td>\n",
       "      <td>5-12</td>\n",
       "    </tr>\n",
       "    <tr>\n",
       "      <th>171219</th>\n",
       "      <td>21040510125933256</td>\n",
       "      <td>15</td>\n",
       "      <td>0</td>\n",
       "      <td>13-22</td>\n",
       "    </tr>\n",
       "  </tbody>\n",
       "</table>\n",
       "</div>"
      ],
      "text/plain": [
       "               session_id  question_num  correct level_group\n",
       "21476   22010116250792520             2        1         0-4\n",
       "84068   21000111433937450             8        1        5-12\n",
       "171219  21040510125933256            15        0       13-22"
      ]
     },
     "metadata": {},
     "output_type": "display_data"
    }
   ],
   "source": [
    "# prepare the label dataset\n",
    "df_source_labels = prepare_label_dataset(df_source_labels)\n",
    "\n",
    "with pd.option_context('display.max_columns', None):\n",
    "    display(df_source_labels.sample(n=3, random_state=51))"
   ]
  },
  {
   "attachments": {},
   "cell_type": "markdown",
   "metadata": {},
   "source": [
    "## Explore Student Scores"
   ]
  },
  {
   "cell_type": "code",
   "execution_count": 11,
   "metadata": {},
   "outputs": [
    {
     "data": {
      "text/html": [
       "<div>\n",
       "<style scoped>\n",
       "    .dataframe tbody tr th:only-of-type {\n",
       "        vertical-align: middle;\n",
       "    }\n",
       "\n",
       "    .dataframe tbody tr th {\n",
       "        vertical-align: top;\n",
       "    }\n",
       "\n",
       "    .dataframe thead th {\n",
       "        text-align: right;\n",
       "    }\n",
       "</style>\n",
       "<table border=\"1\" class=\"dataframe\">\n",
       "  <thead>\n",
       "    <tr style=\"text-align: right;\">\n",
       "      <th></th>\n",
       "      <th>session_id</th>\n",
       "      <th>level_group</th>\n",
       "      <th>sum</th>\n",
       "      <th>count</th>\n",
       "      <th>score</th>\n",
       "    </tr>\n",
       "  </thead>\n",
       "  <tbody>\n",
       "    <tr>\n",
       "      <th>0</th>\n",
       "      <td>20090312431273200</td>\n",
       "      <td>0-4</td>\n",
       "      <td>3</td>\n",
       "      <td>3</td>\n",
       "      <td>1.000000</td>\n",
       "    </tr>\n",
       "    <tr>\n",
       "      <th>1</th>\n",
       "      <td>20090312431273200</td>\n",
       "      <td>13-22</td>\n",
       "      <td>4</td>\n",
       "      <td>5</td>\n",
       "      <td>0.800000</td>\n",
       "    </tr>\n",
       "    <tr>\n",
       "      <th>2</th>\n",
       "      <td>20090312431273200</td>\n",
       "      <td>5-12</td>\n",
       "      <td>9</td>\n",
       "      <td>10</td>\n",
       "      <td>0.900000</td>\n",
       "    </tr>\n",
       "    <tr>\n",
       "      <th>3</th>\n",
       "      <td>20090312433251036</td>\n",
       "      <td>0-4</td>\n",
       "      <td>2</td>\n",
       "      <td>3</td>\n",
       "      <td>0.666667</td>\n",
       "    </tr>\n",
       "    <tr>\n",
       "      <th>4</th>\n",
       "      <td>20090312433251036</td>\n",
       "      <td>13-22</td>\n",
       "      <td>3</td>\n",
       "      <td>5</td>\n",
       "      <td>0.600000</td>\n",
       "    </tr>\n",
       "    <tr>\n",
       "      <th>5</th>\n",
       "      <td>20090312433251036</td>\n",
       "      <td>5-12</td>\n",
       "      <td>5</td>\n",
       "      <td>10</td>\n",
       "      <td>0.500000</td>\n",
       "    </tr>\n",
       "  </tbody>\n",
       "</table>\n",
       "</div>"
      ],
      "text/plain": [
       "          session_id level_group  sum  count     score\n",
       "0  20090312431273200         0-4    3      3  1.000000\n",
       "1  20090312431273200       13-22    4      5  0.800000\n",
       "2  20090312431273200        5-12    9     10  0.900000\n",
       "3  20090312433251036         0-4    2      3  0.666667\n",
       "4  20090312433251036       13-22    3      5  0.600000\n",
       "5  20090312433251036        5-12    5     10  0.500000"
      ]
     },
     "metadata": {},
     "output_type": "display_data"
    }
   ],
   "source": [
    "df_scores = df_source_labels \\\n",
    "    .groupby(['session_id', 'level_group']) \\\n",
    "    .agg({'correct': ['sum', 'count']}) \\\n",
    "    .droplevel(0, axis=1) \\\n",
    "    .reset_index() \\\n",
    "    .query(('(level_group == \"0-4\" and count == 3) or'\n",
    "            '(level_group == \"5-12\" and count == 10) or'\n",
    "            '(level_group == \"13-22\" and count == 5)')) \\\n",
    "    .assign(score=lambda df: df['sum'] / df['count'])\n",
    "\n",
    "display(df_scores.head(6))"
   ]
  },
  {
   "cell_type": "code",
   "execution_count": 12,
   "metadata": {},
   "outputs": [
    {
     "data": {
      "text/plain": [
       "level_group\n",
       "0-4      Axes(0.125,0.11;0.775x0.77)\n",
       "13-22    Axes(0.125,0.11;0.775x0.77)\n",
       "5-12     Axes(0.125,0.11;0.775x0.77)\n",
       "dtype: object"
      ]
     },
     "execution_count": 12,
     "metadata": {},
     "output_type": "execute_result"
    },
    {
     "data": {
      "image/png": "[encoded data removed]",
      "text/plain": [
       "<Figure size 640x480 with 1 Axes>"
      ]
     },
     "metadata": {},
     "output_type": "display_data"
    },
    {
     "data": {
      "image/png": "[encoded data removed]",
      "text/plain": [
       "<Figure size 640x480 with 1 Axes>"
      ]
     },
     "metadata": {},
     "output_type": "display_data"
    },
    {
     "data": {
      "image/png": "[encoded data removed]",
      "text/plain": [
       "<Figure size 640x480 with 1 Axes>"
      ]
     },
     "metadata": {},
     "output_type": "display_data"
    }
   ],
   "source": [
    "df_scores \\\n",
    "    .groupby('level_group') \\\n",
    "    .plot(kind='hist', y='score', bins=3, legend=False, title='Correct answers per level group')\n",
    "    "
   ]
  },
  {
   "attachments": {},
   "cell_type": "markdown",
   "metadata": {},
   "source": [
    "### Add Symbolic Score"
   ]
  },
  {
   "cell_type": "code",
   "execution_count": 13,
   "metadata": {},
   "outputs": [
    {
     "data": {
      "text/html": [
       "<div>\n",
       "<style scoped>\n",
       "    .dataframe tbody tr th:only-of-type {\n",
       "        vertical-align: middle;\n",
       "    }\n",
       "\n",
       "    .dataframe tbody tr th {\n",
       "        vertical-align: top;\n",
       "    }\n",
       "\n",
       "    .dataframe thead th {\n",
       "        text-align: right;\n",
       "    }\n",
       "</style>\n",
       "<table border=\"1\" class=\"dataframe\">\n",
       "  <thead>\n",
       "    <tr style=\"text-align: right;\">\n",
       "      <th></th>\n",
       "      <th>session_id</th>\n",
       "      <th>level_group</th>\n",
       "      <th>sum</th>\n",
       "      <th>count</th>\n",
       "      <th>score</th>\n",
       "      <th>symbolic_score</th>\n",
       "    </tr>\n",
       "  </thead>\n",
       "  <tbody>\n",
       "    <tr>\n",
       "      <th>0</th>\n",
       "      <td>20090312431273200</td>\n",
       "      <td>0-4</td>\n",
       "      <td>3</td>\n",
       "      <td>3</td>\n",
       "      <td>1.000000</td>\n",
       "      <td>A</td>\n",
       "    </tr>\n",
       "    <tr>\n",
       "      <th>1</th>\n",
       "      <td>20090312431273200</td>\n",
       "      <td>13-22</td>\n",
       "      <td>4</td>\n",
       "      <td>5</td>\n",
       "      <td>0.800000</td>\n",
       "      <td>B</td>\n",
       "    </tr>\n",
       "    <tr>\n",
       "      <th>2</th>\n",
       "      <td>20090312431273200</td>\n",
       "      <td>5-12</td>\n",
       "      <td>9</td>\n",
       "      <td>10</td>\n",
       "      <td>0.900000</td>\n",
       "      <td>A</td>\n",
       "    </tr>\n",
       "    <tr>\n",
       "      <th>3</th>\n",
       "      <td>20090312433251036</td>\n",
       "      <td>0-4</td>\n",
       "      <td>2</td>\n",
       "      <td>3</td>\n",
       "      <td>0.666667</td>\n",
       "      <td>B</td>\n",
       "    </tr>\n",
       "    <tr>\n",
       "      <th>4</th>\n",
       "      <td>20090312433251036</td>\n",
       "      <td>13-22</td>\n",
       "      <td>3</td>\n",
       "      <td>5</td>\n",
       "      <td>0.600000</td>\n",
       "      <td>B</td>\n",
       "    </tr>\n",
       "    <tr>\n",
       "      <th>5</th>\n",
       "      <td>20090312433251036</td>\n",
       "      <td>5-12</td>\n",
       "      <td>5</td>\n",
       "      <td>10</td>\n",
       "      <td>0.500000</td>\n",
       "      <td>C</td>\n",
       "    </tr>\n",
       "  </tbody>\n",
       "</table>\n",
       "</div>"
      ],
      "text/plain": [
       "          session_id level_group  sum  count     score symbolic_score\n",
       "0  20090312431273200         0-4    3      3  1.000000              A\n",
       "1  20090312431273200       13-22    4      5  0.800000              B\n",
       "2  20090312431273200        5-12    9     10  0.900000              A\n",
       "3  20090312433251036         0-4    2      3  0.666667              B\n",
       "4  20090312433251036       13-22    3      5  0.600000              B\n",
       "5  20090312433251036        5-12    5     10  0.500000              C"
      ]
     },
     "metadata": {},
     "output_type": "display_data"
    },
    {
     "data": {
      "text/html": [
       "<div>\n",
       "<style scoped>\n",
       "    .dataframe tbody tr th:only-of-type {\n",
       "        vertical-align: middle;\n",
       "    }\n",
       "\n",
       "    .dataframe tbody tr th {\n",
       "        vertical-align: top;\n",
       "    }\n",
       "\n",
       "    .dataframe thead th {\n",
       "        text-align: right;\n",
       "    }\n",
       "</style>\n",
       "<table border=\"1\" class=\"dataframe\">\n",
       "  <thead>\n",
       "    <tr style=\"text-align: right;\">\n",
       "      <th></th>\n",
       "      <th></th>\n",
       "      <th>session_id</th>\n",
       "      <th>sum</th>\n",
       "      <th>count</th>\n",
       "      <th>score</th>\n",
       "    </tr>\n",
       "    <tr>\n",
       "      <th>level_group</th>\n",
       "      <th>symbolic_score</th>\n",
       "      <th></th>\n",
       "      <th></th>\n",
       "      <th></th>\n",
       "      <th></th>\n",
       "    </tr>\n",
       "  </thead>\n",
       "  <tbody>\n",
       "    <tr>\n",
       "      <th rowspan=\"3\" valign=\"top\">0-4</th>\n",
       "      <th>A</th>\n",
       "      <td>8045</td>\n",
       "      <td>8045</td>\n",
       "      <td>8045</td>\n",
       "      <td>8045</td>\n",
       "    </tr>\n",
       "    <tr>\n",
       "      <th>B</th>\n",
       "      <td>3206</td>\n",
       "      <td>3206</td>\n",
       "      <td>3206</td>\n",
       "      <td>3206</td>\n",
       "    </tr>\n",
       "    <tr>\n",
       "      <th>C</th>\n",
       "      <td>528</td>\n",
       "      <td>528</td>\n",
       "      <td>528</td>\n",
       "      <td>528</td>\n",
       "    </tr>\n",
       "    <tr>\n",
       "      <th rowspan=\"3\" valign=\"top\">13-22</th>\n",
       "      <th>A</th>\n",
       "      <td>2460</td>\n",
       "      <td>2460</td>\n",
       "      <td>2460</td>\n",
       "      <td>2460</td>\n",
       "    </tr>\n",
       "    <tr>\n",
       "      <th>B</th>\n",
       "      <td>7464</td>\n",
       "      <td>7464</td>\n",
       "      <td>7464</td>\n",
       "      <td>7464</td>\n",
       "    </tr>\n",
       "    <tr>\n",
       "      <th>C</th>\n",
       "      <td>1855</td>\n",
       "      <td>1855</td>\n",
       "      <td>1855</td>\n",
       "      <td>1855</td>\n",
       "    </tr>\n",
       "    <tr>\n",
       "      <th rowspan=\"3\" valign=\"top\">5-12</th>\n",
       "      <th>A</th>\n",
       "      <td>2208</td>\n",
       "      <td>2208</td>\n",
       "      <td>2208</td>\n",
       "      <td>2208</td>\n",
       "    </tr>\n",
       "    <tr>\n",
       "      <th>B</th>\n",
       "      <td>6046</td>\n",
       "      <td>6046</td>\n",
       "      <td>6046</td>\n",
       "      <td>6046</td>\n",
       "    </tr>\n",
       "    <tr>\n",
       "      <th>C</th>\n",
       "      <td>3525</td>\n",
       "      <td>3525</td>\n",
       "      <td>3525</td>\n",
       "      <td>3525</td>\n",
       "    </tr>\n",
       "  </tbody>\n",
       "</table>\n",
       "</div>"
      ],
      "text/plain": [
       "                            session_id   sum  count  score\n",
       "level_group symbolic_score                                \n",
       "0-4         A                     8045  8045   8045   8045\n",
       "            B                     3206  3206   3206   3206\n",
       "            C                      528   528    528    528\n",
       "13-22       A                     2460  2460   2460   2460\n",
       "            B                     7464  7464   7464   7464\n",
       "            C                     1855  1855   1855   1855\n",
       "5-12        A                     2208  2208   2208   2208\n",
       "            B                     6046  6046   6046   6046\n",
       "            C                     3525  3525   3525   3525"
      ]
     },
     "metadata": {},
     "output_type": "display_data"
    }
   ],
   "source": [
    "df_scores['symbolic_score'] = df_scores['score'].apply(lambda x: 'A' if x >= 0.9 else 'B' if x >= 0.6 else 'C')\n",
    "\n",
    "display(df_scores.head(6))\n",
    "\n",
    "display(\n",
    "    df_scores \\\n",
    "        .groupby(['level_group', 'symbolic_score']) \\\n",
    "        .count()\n",
    ")"
   ]
  },
  {
   "cell_type": "code",
   "execution_count": 14,
   "metadata": {},
   "outputs": [
    {
     "data": {
      "text/html": [
       "<div>\n",
       "<style scoped>\n",
       "    .dataframe tbody tr th:only-of-type {\n",
       "        vertical-align: middle;\n",
       "    }\n",
       "\n",
       "    .dataframe tbody tr th {\n",
       "        vertical-align: top;\n",
       "    }\n",
       "\n",
       "    .dataframe thead th {\n",
       "        text-align: right;\n",
       "    }\n",
       "</style>\n",
       "<table border=\"1\" class=\"dataframe\">\n",
       "  <thead>\n",
       "    <tr style=\"text-align: right;\">\n",
       "      <th></th>\n",
       "      <th>session_id</th>\n",
       "      <th>level_group</th>\n",
       "      <th>sum</th>\n",
       "      <th>count</th>\n",
       "      <th>score</th>\n",
       "      <th>symbolic_score</th>\n",
       "      <th>symbolic_score_feature</th>\n",
       "    </tr>\n",
       "  </thead>\n",
       "  <tbody>\n",
       "    <tr>\n",
       "      <th>0</th>\n",
       "      <td>20090312431273200</td>\n",
       "      <td>0-4</td>\n",
       "      <td>3</td>\n",
       "      <td>3</td>\n",
       "      <td>1.000000</td>\n",
       "      <td>A</td>\n",
       "      <td>[1, 0, 0]</td>\n",
       "    </tr>\n",
       "    <tr>\n",
       "      <th>1</th>\n",
       "      <td>20090312431273200</td>\n",
       "      <td>13-22</td>\n",
       "      <td>4</td>\n",
       "      <td>5</td>\n",
       "      <td>0.800000</td>\n",
       "      <td>B</td>\n",
       "      <td>[0, 1, 0]</td>\n",
       "    </tr>\n",
       "    <tr>\n",
       "      <th>2</th>\n",
       "      <td>20090312431273200</td>\n",
       "      <td>5-12</td>\n",
       "      <td>9</td>\n",
       "      <td>10</td>\n",
       "      <td>0.900000</td>\n",
       "      <td>A</td>\n",
       "      <td>[1, 0, 0]</td>\n",
       "    </tr>\n",
       "    <tr>\n",
       "      <th>3</th>\n",
       "      <td>20090312433251036</td>\n",
       "      <td>0-4</td>\n",
       "      <td>2</td>\n",
       "      <td>3</td>\n",
       "      <td>0.666667</td>\n",
       "      <td>B</td>\n",
       "      <td>[0, 1, 0]</td>\n",
       "    </tr>\n",
       "    <tr>\n",
       "      <th>4</th>\n",
       "      <td>20090312433251036</td>\n",
       "      <td>13-22</td>\n",
       "      <td>3</td>\n",
       "      <td>5</td>\n",
       "      <td>0.600000</td>\n",
       "      <td>B</td>\n",
       "      <td>[0, 1, 0]</td>\n",
       "    </tr>\n",
       "    <tr>\n",
       "      <th>...</th>\n",
       "      <td>...</td>\n",
       "      <td>...</td>\n",
       "      <td>...</td>\n",
       "      <td>...</td>\n",
       "      <td>...</td>\n",
       "      <td>...</td>\n",
       "      <td>...</td>\n",
       "    </tr>\n",
       "    <tr>\n",
       "      <th>35332</th>\n",
       "      <td>22100219442786200</td>\n",
       "      <td>13-22</td>\n",
       "      <td>4</td>\n",
       "      <td>5</td>\n",
       "      <td>0.800000</td>\n",
       "      <td>B</td>\n",
       "      <td>[0, 1, 0]</td>\n",
       "    </tr>\n",
       "    <tr>\n",
       "      <th>35333</th>\n",
       "      <td>22100219442786200</td>\n",
       "      <td>5-12</td>\n",
       "      <td>7</td>\n",
       "      <td>10</td>\n",
       "      <td>0.700000</td>\n",
       "      <td>B</td>\n",
       "      <td>[0, 1, 0]</td>\n",
       "    </tr>\n",
       "    <tr>\n",
       "      <th>35334</th>\n",
       "      <td>22100221145014656</td>\n",
       "      <td>0-4</td>\n",
       "      <td>1</td>\n",
       "      <td>3</td>\n",
       "      <td>0.333333</td>\n",
       "      <td>C</td>\n",
       "      <td>[0, 0, 1]</td>\n",
       "    </tr>\n",
       "    <tr>\n",
       "      <th>35335</th>\n",
       "      <td>22100221145014656</td>\n",
       "      <td>13-22</td>\n",
       "      <td>2</td>\n",
       "      <td>5</td>\n",
       "      <td>0.400000</td>\n",
       "      <td>C</td>\n",
       "      <td>[0, 0, 1]</td>\n",
       "    </tr>\n",
       "    <tr>\n",
       "      <th>35336</th>\n",
       "      <td>22100221145014656</td>\n",
       "      <td>5-12</td>\n",
       "      <td>4</td>\n",
       "      <td>10</td>\n",
       "      <td>0.400000</td>\n",
       "      <td>C</td>\n",
       "      <td>[0, 0, 1]</td>\n",
       "    </tr>\n",
       "  </tbody>\n",
       "</table>\n",
       "<p>35337 rows × 7 columns</p>\n",
       "</div>"
      ],
      "text/plain": [
       "              session_id level_group  sum  count     score symbolic_score  \\\n",
       "0      20090312431273200         0-4    3      3  1.000000              A   \n",
       "1      20090312431273200       13-22    4      5  0.800000              B   \n",
       "2      20090312431273200        5-12    9     10  0.900000              A   \n",
       "3      20090312433251036         0-4    2      3  0.666667              B   \n",
       "4      20090312433251036       13-22    3      5  0.600000              B   \n",
       "...                  ...         ...  ...    ...       ...            ...   \n",
       "35332  22100219442786200       13-22    4      5  0.800000              B   \n",
       "35333  22100219442786200        5-12    7     10  0.700000              B   \n",
       "35334  22100221145014656         0-4    1      3  0.333333              C   \n",
       "35335  22100221145014656       13-22    2      5  0.400000              C   \n",
       "35336  22100221145014656        5-12    4     10  0.400000              C   \n",
       "\n",
       "      symbolic_score_feature  \n",
       "0                  [1, 0, 0]  \n",
       "1                  [0, 1, 0]  \n",
       "2                  [1, 0, 0]  \n",
       "3                  [0, 1, 0]  \n",
       "4                  [0, 1, 0]  \n",
       "...                      ...  \n",
       "35332              [0, 1, 0]  \n",
       "35333              [0, 1, 0]  \n",
       "35334              [0, 0, 1]  \n",
       "35335              [0, 0, 1]  \n",
       "35336              [0, 0, 1]  \n",
       "\n",
       "[35337 rows x 7 columns]"
      ]
     },
     "execution_count": 14,
     "metadata": {},
     "output_type": "execute_result"
    }
   ],
   "source": [
    "symbolic_score_feature = pd.get_dummies(df_scores['symbolic_score']).to_numpy()\n",
    "df_scores['symbolic_score_feature'] = pd.Series(symbolic_score_feature.tolist())\n",
    "df_scores"
   ]
  },
  {
   "cell_type": "markdown",
   "metadata": {},
   "source": [
    "## Functions to Create Features"
   ]
  },
  {
   "cell_type": "code",
   "execution_count": 15,
   "metadata": {},
   "outputs": [
    {
     "data": {
      "text/html": [
       "<div>\n",
       "<style scoped>\n",
       "    .dataframe tbody tr th:only-of-type {\n",
       "        vertical-align: middle;\n",
       "    }\n",
       "\n",
       "    .dataframe tbody tr th {\n",
       "        vertical-align: top;\n",
       "    }\n",
       "\n",
       "    .dataframe thead th {\n",
       "        text-align: right;\n",
       "    }\n",
       "</style>\n",
       "<table border=\"1\" class=\"dataframe\">\n",
       "  <thead>\n",
       "    <tr style=\"text-align: right;\">\n",
       "      <th></th>\n",
       "      <th>session_id</th>\n",
       "      <th>level_group</th>\n",
       "    </tr>\n",
       "  </thead>\n",
       "  <tbody>\n",
       "    <tr>\n",
       "      <th>0</th>\n",
       "      <td>20090312431273200</td>\n",
       "      <td>0-4</td>\n",
       "    </tr>\n",
       "    <tr>\n",
       "      <th>1</th>\n",
       "      <td>20090312431273200</td>\n",
       "      <td>13-22</td>\n",
       "    </tr>\n",
       "    <tr>\n",
       "      <th>2</th>\n",
       "      <td>20090312431273200</td>\n",
       "      <td>5-12</td>\n",
       "    </tr>\n",
       "    <tr>\n",
       "      <th>3</th>\n",
       "      <td>20090312433251036</td>\n",
       "      <td>0-4</td>\n",
       "    </tr>\n",
       "    <tr>\n",
       "      <th>4</th>\n",
       "      <td>20090312433251036</td>\n",
       "      <td>13-22</td>\n",
       "    </tr>\n",
       "    <tr>\n",
       "      <th>5</th>\n",
       "      <td>20090312433251036</td>\n",
       "      <td>5-12</td>\n",
       "    </tr>\n",
       "  </tbody>\n",
       "</table>\n",
       "</div>"
      ],
      "text/plain": [
       "          session_id level_group\n",
       "0  20090312431273200         0-4\n",
       "1  20090312431273200       13-22\n",
       "2  20090312431273200        5-12\n",
       "3  20090312433251036         0-4\n",
       "4  20090312433251036       13-22\n",
       "5  20090312433251036        5-12"
      ]
     },
     "metadata": {},
     "output_type": "display_data"
    }
   ],
   "source": [
    "def create_initial_features(X:pd.DataFrame,\n",
    "                            y:pd.DataFrame) -> pd.DataFrame:\n",
    "    \"\"\"\n",
    "    Creates the initial dataset to which features will be added.\n",
    "    \"\"\"\n",
    "    return df_source_labels \\\n",
    "        .groupby(['session_id', 'level_group']) \\\n",
    "        .agg({'correct': ['count']}) \\\n",
    "        .reset_index() \\\n",
    "        .droplevel(1, axis=1) \\\n",
    "        .drop(columns=['correct']) \\\n",
    "        .sort_values(['session_id', 'level_group']) \\\n",
    "\n",
    "# test the function\n",
    "df_features = create_initial_features(df_source, df_source_labels)\n",
    "\n",
    "with pd.option_context('display.max_columns', None):\n",
    "    display(df_features.head(6))"
   ]
  },
  {
   "attachments": {},
   "cell_type": "markdown",
   "metadata": {},
   "source": [
    "### Symbolic Score Feature"
   ]
  },
  {
   "cell_type": "code",
   "execution_count": 16,
   "metadata": {},
   "outputs": [
    {
     "data": {
      "text/html": [
       "<div>\n",
       "<style scoped>\n",
       "    .dataframe tbody tr th:only-of-type {\n",
       "        vertical-align: middle;\n",
       "    }\n",
       "\n",
       "    .dataframe tbody tr th {\n",
       "        vertical-align: top;\n",
       "    }\n",
       "\n",
       "    .dataframe thead th {\n",
       "        text-align: right;\n",
       "    }\n",
       "</style>\n",
       "<table border=\"1\" class=\"dataframe\">\n",
       "  <thead>\n",
       "    <tr style=\"text-align: right;\">\n",
       "      <th></th>\n",
       "      <th>session_id</th>\n",
       "      <th>level_group</th>\n",
       "      <th>symbolic_score_feature</th>\n",
       "    </tr>\n",
       "  </thead>\n",
       "  <tbody>\n",
       "    <tr>\n",
       "      <th>0</th>\n",
       "      <td>20090312431273200</td>\n",
       "      <td>0-4</td>\n",
       "      <td>[1, 0, 0]</td>\n",
       "    </tr>\n",
       "    <tr>\n",
       "      <th>1</th>\n",
       "      <td>20090312431273200</td>\n",
       "      <td>13-22</td>\n",
       "      <td>[0, 1, 0]</td>\n",
       "    </tr>\n",
       "    <tr>\n",
       "      <th>2</th>\n",
       "      <td>20090312431273200</td>\n",
       "      <td>5-12</td>\n",
       "      <td>[1, 0, 0]</td>\n",
       "    </tr>\n",
       "    <tr>\n",
       "      <th>3</th>\n",
       "      <td>20090312433251036</td>\n",
       "      <td>0-4</td>\n",
       "      <td>[0, 1, 0]</td>\n",
       "    </tr>\n",
       "    <tr>\n",
       "      <th>4</th>\n",
       "      <td>20090312433251036</td>\n",
       "      <td>13-22</td>\n",
       "      <td>[0, 1, 0]</td>\n",
       "    </tr>\n",
       "    <tr>\n",
       "      <th>5</th>\n",
       "      <td>20090312433251036</td>\n",
       "      <td>5-12</td>\n",
       "      <td>[0, 0, 1]</td>\n",
       "    </tr>\n",
       "  </tbody>\n",
       "</table>\n",
       "</div>"
      ],
      "text/plain": [
       "          session_id level_group symbolic_score_feature\n",
       "0  20090312431273200         0-4              [1, 0, 0]\n",
       "1  20090312431273200       13-22              [0, 1, 0]\n",
       "2  20090312431273200        5-12              [1, 0, 0]\n",
       "3  20090312433251036         0-4              [0, 1, 0]\n",
       "4  20090312433251036       13-22              [0, 1, 0]\n",
       "5  20090312433251036        5-12              [0, 0, 1]"
      ]
     },
     "metadata": {},
     "output_type": "display_data"
    }
   ],
   "source": [
    "def add_symbolic_score_feature(features:pd.DataFrame,\n",
    "                               X:pd.DataFrame,\n",
    "                               y:pd.DataFrame) -> None:\n",
    "    \"\"\"\n",
    "    Adds the symbolic score feature to the features dataset.\n",
    "    \"\"\"\n",
    "    # get the symbolic scores\n",
    "    df_scores = y \\\n",
    "        .groupby(['session_id', 'level_group']) \\\n",
    "        .agg({'correct': ['sum', 'count']}) \\\n",
    "        .droplevel(0, axis=1) \\\n",
    "        .reset_index() \\\n",
    "        .assign(score=lambda df: df['sum'] / df['count']) \\\n",
    "        .assign(symbolic_score=lambda df: df['score'].apply(lambda x: 'A' if x >= 0.9 else 'B' if x >= 0.6 else 'C')) \\\n",
    "        .sort_values(['session_id', 'level_group'])\n",
    "\n",
    "    # generate the feature\n",
    "    symbolic_score_feature = pd.get_dummies(df_scores['symbolic_score']).to_numpy()\n",
    "\n",
    "    # add the feature to the features dataset\n",
    "    features['symbolic_score_feature'] = pd.Series(symbolic_score_feature.tolist())    \n",
    "\n",
    "# test the function\n",
    "add_symbolic_score_feature(df_features, df_source, df_source_labels)\n",
    "\n",
    "with pd.option_context('display.max_columns', None):\n",
    "    display(df_features.head(6))"
   ]
  },
  {
   "attachments": {},
   "cell_type": "markdown",
   "metadata": {},
   "source": [
    "### Elapsed Time Feature"
   ]
  },
  {
   "cell_type": "code",
   "execution_count": 17,
   "metadata": {},
   "outputs": [
    {
     "data": {
      "text/plain": [
       "<Axes: title={'center': 'Elapsed time distribution'}, ylabel='Frequency'>"
      ]
     },
     "execution_count": 17,
     "metadata": {},
     "output_type": "execute_result"
    },
    {
     "data": {
      "image/png": "[encoded data removed]",
      "text/plain": [
       "<Figure size 640x480 with 1 Axes>"
      ]
     },
     "metadata": {},
     "output_type": "display_data"
    }
   ],
   "source": [
    "df_source['elapsed_time'].plot(kind='hist', title='Elapsed time distribution')"
   ]
  },
  {
   "cell_type": "code",
   "execution_count": 18,
   "metadata": {},
   "outputs": [
    {
     "name": "stdout",
     "output_type": "stream",
     "text": [
      "Min Elapsed Time  : 0\n",
      "Max Elapsed Time  : 1749293395\n",
      "Mean Elapsed Time : 3846890.447290591\n",
      "50th Percentile   : 1013440.0\n",
      "75th Percentile   : 1740059.0\n",
      "80th Percentile   : 1970019.0\n",
      "90th Percentile   : 2901311.5999999996\n",
      "95th Percentile   : 5155144.599999998\n"
     ]
    },
    {
     "data": {
      "text/plain": [
       "count    1.317344e+07\n",
       "mean     3.846890e+06\n",
       "std      2.701416e+07\n",
       "min      0.000000e+00\n",
       "25%      4.394340e+05\n",
       "50%      1.013440e+06\n",
       "75%      1.740059e+06\n",
       "max      1.749293e+09\n",
       "Name: elapsed_time, dtype: float64"
      ]
     },
     "execution_count": 18,
     "metadata": {},
     "output_type": "execute_result"
    }
   ],
   "source": [
    "print('Min Elapsed Time  :', df_source['elapsed_time'].min())\n",
    "print('Max Elapsed Time  :', df_source['elapsed_time'].max())\n",
    "print('Mean Elapsed Time :', df_source['elapsed_time'].mean())\n",
    "\n",
    "print(\"50th Percentile   :\", df_source['elapsed_time'].quantile(0.5))\n",
    "print(\"75th Percentile   :\", df_source['elapsed_time'].quantile(0.75))\n",
    "print(\"80th Percentile   :\", df_source['elapsed_time'].quantile(0.8))\n",
    "print(\"90th Percentile   :\", df_source['elapsed_time'].quantile(0.9))\n",
    "print(\"95th Percentile   :\", df_source['elapsed_time'].quantile(0.95))\n",
    "\n",
    "df_source['elapsed_time'].describe()"
   ]
  },
  {
   "cell_type": "code",
   "execution_count": 19,
   "metadata": {},
   "outputs": [
    {
     "data": {
      "text/html": [
       "<div>\n",
       "<style scoped>\n",
       "    .dataframe tbody tr th:only-of-type {\n",
       "        vertical-align: middle;\n",
       "    }\n",
       "\n",
       "    .dataframe tbody tr th {\n",
       "        vertical-align: top;\n",
       "    }\n",
       "\n",
       "    .dataframe thead th {\n",
       "        text-align: right;\n",
       "    }\n",
       "</style>\n",
       "<table border=\"1\" class=\"dataframe\">\n",
       "  <thead>\n",
       "    <tr style=\"text-align: right;\">\n",
       "      <th></th>\n",
       "      <th>session_id</th>\n",
       "      <th>level_group</th>\n",
       "      <th>symbolic_score_feature</th>\n",
       "      <th>elapsed_time</th>\n",
       "    </tr>\n",
       "  </thead>\n",
       "  <tbody>\n",
       "    <tr>\n",
       "      <th>0</th>\n",
       "      <td>20090312431273200</td>\n",
       "      <td>0-4</td>\n",
       "      <td>[1, 0, 0]</td>\n",
       "      <td>0.064953</td>\n",
       "    </tr>\n",
       "    <tr>\n",
       "      <th>1</th>\n",
       "      <td>20090312431273200</td>\n",
       "      <td>13-22</td>\n",
       "      <td>[0, 1, 0]</td>\n",
       "      <td>0.424226</td>\n",
       "    </tr>\n",
       "    <tr>\n",
       "      <th>2</th>\n",
       "      <td>20090312431273200</td>\n",
       "      <td>5-12</td>\n",
       "      <td>[1, 0, 0]</td>\n",
       "      <td>0.166412</td>\n",
       "    </tr>\n",
       "    <tr>\n",
       "      <th>3</th>\n",
       "      <td>20090312433251036</td>\n",
       "      <td>0-4</td>\n",
       "      <td>[0, 1, 0]</td>\n",
       "      <td>0.077917</td>\n",
       "    </tr>\n",
       "    <tr>\n",
       "      <th>4</th>\n",
       "      <td>20090312433251036</td>\n",
       "      <td>13-22</td>\n",
       "      <td>[0, 1, 0]</td>\n",
       "      <td>1.000000</td>\n",
       "    </tr>\n",
       "    <tr>\n",
       "      <th>5</th>\n",
       "      <td>20090312433251036</td>\n",
       "      <td>5-12</td>\n",
       "      <td>[0, 0, 1]</td>\n",
       "      <td>0.272536</td>\n",
       "    </tr>\n",
       "  </tbody>\n",
       "</table>\n",
       "</div>"
      ],
      "text/plain": [
       "          session_id level_group symbolic_score_feature  elapsed_time\n",
       "0  20090312431273200         0-4              [1, 0, 0]      0.064953\n",
       "1  20090312431273200       13-22              [0, 1, 0]      0.424226\n",
       "2  20090312431273200        5-12              [1, 0, 0]      0.166412\n",
       "3  20090312433251036         0-4              [0, 1, 0]      0.077917\n",
       "4  20090312433251036       13-22              [0, 1, 0]      1.000000\n",
       "5  20090312433251036        5-12              [0, 0, 1]      0.272536"
      ]
     },
     "metadata": {},
     "output_type": "display_data"
    }
   ],
   "source": [
    "def add_elapsed_time_feature(features:pd.DataFrame,\n",
    "                               X:pd.DataFrame,\n",
    "                               y:pd.DataFrame,\n",
    "                               max_elapsed_time:int = 3e6) -> None:\n",
    "    \"\"\"\n",
    "    Add the maximum elapsed time feature to the features dataset.\n",
    "    \"\"\"\n",
    "    # get the symbolic scores\n",
    "    df_elapsed_time = X \\\n",
    "        .groupby(['session_id', 'level_group']) \\\n",
    "        .agg({'elapsed_time': 'max'}) \\\n",
    "        .reset_index()\n",
    "    \n",
    "    df_elapsed_time = df_features.set_index(['session_id', 'level_group']) \\\n",
    "        .join(df_elapsed_time.set_index(['session_id', 'level_group']), how='left') \\\n",
    "        .reset_index()\n",
    "    \n",
    "    elapsed_time_feature = np.clip(df_elapsed_time['elapsed_time'], 0, max_elapsed_time)\n",
    "    elapsed_time_feature = elapsed_time_feature / max_elapsed_time\n",
    "    \n",
    "    # add the feature to the features dataset\n",
    "    features['elapsed_time'] = elapsed_time_feature\n",
    "\n",
    "# test the function\n",
    "#df_features.drop(columns=['elapsed_time'], inplace=True)\n",
    "add_elapsed_time_feature(df_features, df_source, df_source_labels)\n",
    "\n",
    "with pd.option_context('display.max_columns', None):\n",
    "    display(df_features.head(6))"
   ]
  },
  {
   "attachments": {},
   "cell_type": "markdown",
   "metadata": {},
   "source": [
    "### Screen Heatmap Feature"
   ]
  },
  {
   "cell_type": "code",
   "execution_count": 20,
   "metadata": {},
   "outputs": [
    {
     "name": "stdout",
     "output_type": "stream",
     "text": [
      "uint8\n",
      "[[0 0 0 0 0]\n",
      " [0 0 5 0 0]\n",
      " [0 0 0 0 0]\n",
      " [0 0 0 0 0]\n",
      " [4 4 0 0 0]]\n"
     ]
    },
    {
     "data": {
      "image/png": "[encoded data removed]",
      "text/plain": [
       "<Figure size 640x480 with 1 Axes>"
      ]
     },
     "metadata": {},
     "output_type": "display_data"
    }
   ],
   "source": [
    "def create_level_screen_heatmap(df_session:pd.DataFrame,\n",
    "                          level:int,\n",
    "                          bins:int=50,\n",
    "                          min_value:int=0,\n",
    "                          max_value:int=376) -> np.ndarray:\n",
    "    \"\"\"\n",
    "    Creates a heatmap for the screen of the given level.\n",
    "    \"\"\"\n",
    "    df_level = df_session \\\n",
    "        .query('level == @level') \\\n",
    "        .fillna(0)\n",
    "    \n",
    "    # return an empty heatmap if there are no events for the given level\n",
    "    if df_level.shape[0] == 0:\n",
    "        return np.zeros((bins, bins), dtype=np.uint8)\n",
    "\n",
    "    # Create the 2D histogram\n",
    "    heatmap, xedges, yedges = np.histogram2d(df_level.screen_coor_y, \n",
    "                                             df_level.screen_coor_x, \n",
    "                                             bins=bins)\n",
    "    \n",
    "    # Normalize the heatmap\n",
    "    normalized_heatmap = (heatmap - min_value) / (max_value - min_value)\n",
    "\n",
    "    # Scale the heatmap to the range 0-255\n",
    "    scaled_heatmap = (normalized_heatmap * 255).astype(np.uint8)\n",
    "\n",
    "    return scaled_heatmap\n",
    "\n",
    "# test the function\n",
    "session_id = 20090312433251036\n",
    "heatmap = create_level_screen_heatmap(df_source.query('session_id == @session_id'), 0, bins=5)\n",
    "print(heatmap.dtype)\n",
    "print(heatmap)\n",
    "\n",
    "plt.imshow(heatmap, cmap='hot', origin='lower')\n",
    "plt.axis('off')\n",
    "plt.show()"
   ]
  },
  {
   "cell_type": "markdown",
   "metadata": {},
   "source": [
    "#### Find The Maximum Value In The Heatmap"
   ]
  },
  {
   "cell_type": "code",
   "execution_count": 21,
   "metadata": {},
   "outputs": [],
   "source": [
    "def get_heatmap_max_min(df_source:pd.DataFrame, \n",
    "                        df_source_labels:pd.DataFrame) -> Tuple[float, float]:\n",
    "    \"\"\"\n",
    "    Returns the maximum and minimum values of the heatmap to use\n",
    "    for normalization.\n",
    "    \"\"\"\n",
    "    best_max = None\n",
    "    best_min = None\n",
    "\n",
    "    for session_id in tqdm(df_source_labels['session_id'].unique()):\n",
    "        df_session = df_source.query('session_id == @session_id')\n",
    "        for level in range(1, 23):\n",
    "            heatmap = create_level_screen_heatmap(df_session, level)\n",
    "            \n",
    "            cur_max = np.max(heatmap)\n",
    "            cur_min = np.min(heatmap)\n",
    "            \n",
    "            if best_max is None or cur_max > best_max:\n",
    "                best_max = cur_max\n",
    "\n",
    "            if best_min is None or cur_min < best_min:\n",
    "                best_min = cur_min\n",
    "\n",
    "    print(f'Best max: {best_max}')\n",
    "    print(f'Best min: {best_min}')\n",
    "\n",
    "    return best_max, best_min\n",
    "\n",
    "# get the max and min values\n",
    "#best_max, best_min = get_heatmap_max_min(df_source, df_source_labels)\n",
    "        "
   ]
  },
  {
   "cell_type": "code",
   "execution_count": 22,
   "metadata": {},
   "outputs": [
    {
     "name": "stdout",
     "output_type": "stream",
     "text": [
      "(23, 5, 5)\n"
     ]
    }
   ],
   "source": [
    "def create_level_group_screen_heatmap(df_session:pd.DataFrame,\n",
    "                                      level_group:str,\n",
    "                                      bins:int=50,\n",
    "                                      min_value:int=0,\n",
    "                                      max_value:int=376) -> np.ndarray:\n",
    "    \"\"\"\n",
    "    Creates heatmaps for the screen of the given level group.\n",
    "    \"\"\"\n",
    "    heatmaps = []\n",
    "    level_range = range(0, 23)\n",
    "\n",
    "    # select only the levels in the given level group\n",
    "    df_level_group = df_session.query('level_group == @level_group')\n",
    "    #print(df_level_group.shape)\n",
    "\n",
    "    # create the heatmaps\n",
    "    for level in level_range:\n",
    "        heatmap = create_level_screen_heatmap(df_level_group, level, bins, min_value, max_value)\n",
    "\n",
    "        # normalize the heatmap\n",
    "        heatmap = heatmap / 255\n",
    "\n",
    "        heatmaps.append(heatmap)\n",
    "\n",
    "    return np.array(heatmaps, dtype=np.float32)\n",
    "\n",
    "# test the function\n",
    "session_id = 20090312433251036\n",
    "level_group = '0-4'\n",
    "#level_group = '5-12'\n",
    "#level_group = '13-22'\n",
    "df_session = df_source.query('session_id == @session_id')\n",
    "\n",
    "group_heatmaps = create_level_group_screen_heatmap(df_session, level_group, bins=5)\n",
    "print(group_heatmaps.shape)\n",
    "#display(group_heatmaps)\n"
   ]
  },
  {
   "cell_type": "code",
   "execution_count": 23,
   "metadata": {},
   "outputs": [
    {
     "data": {
      "application/vnd.jupyter.widget-view+json": {
       "model_id": "3ad1e9e39d31422b85443f92c1d22bc5",
       "version_major": 2,
       "version_minor": 0
      },
      "text/plain": [
       "  0%|          | 0/11779 [00:00<?, ?it/s]"
      ]
     },
     "metadata": {},
     "output_type": "display_data"
    },
    {
     "data": {
      "text/html": [
       "<div>\n",
       "<style scoped>\n",
       "    .dataframe tbody tr th:only-of-type {\n",
       "        vertical-align: middle;\n",
       "    }\n",
       "\n",
       "    .dataframe tbody tr th {\n",
       "        vertical-align: top;\n",
       "    }\n",
       "\n",
       "    .dataframe thead th {\n",
       "        text-align: right;\n",
       "    }\n",
       "</style>\n",
       "<table border=\"1\" class=\"dataframe\">\n",
       "  <thead>\n",
       "    <tr style=\"text-align: right;\">\n",
       "      <th></th>\n",
       "      <th>session_id</th>\n",
       "      <th>level_group</th>\n",
       "      <th>symbolic_score_feature</th>\n",
       "      <th>elapsed_time</th>\n",
       "      <th>screen_heatmap_feature</th>\n",
       "    </tr>\n",
       "  </thead>\n",
       "  <tbody>\n",
       "    <tr>\n",
       "      <th>0</th>\n",
       "      <td>20090312431273200</td>\n",
       "      <td>0-4</td>\n",
       "      <td>[1, 0, 0]</td>\n",
       "      <td>0.064953</td>\n",
       "      <td>[[[0.0, 0.0, 0.0, 0.0, 0.0], [0.0, 0.0, 0.0, 0...</td>\n",
       "    </tr>\n",
       "    <tr>\n",
       "      <th>1</th>\n",
       "      <td>20090312431273200</td>\n",
       "      <td>13-22</td>\n",
       "      <td>[0, 1, 0]</td>\n",
       "      <td>0.424226</td>\n",
       "      <td>[[[0.0, 0.0, 0.0, 0.0, 0.0], [0.0, 0.0, 0.0, 0...</td>\n",
       "    </tr>\n",
       "    <tr>\n",
       "      <th>2</th>\n",
       "      <td>20090312431273200</td>\n",
       "      <td>5-12</td>\n",
       "      <td>[1, 0, 0]</td>\n",
       "      <td>0.166412</td>\n",
       "      <td>[[[0.0, 0.0, 0.0, 0.0, 0.0], [0.0, 0.0, 0.0, 0...</td>\n",
       "    </tr>\n",
       "    <tr>\n",
       "      <th>3</th>\n",
       "      <td>20090312433251036</td>\n",
       "      <td>0-4</td>\n",
       "      <td>[0, 1, 0]</td>\n",
       "      <td>0.077917</td>\n",
       "      <td>[[[0.0, 0.0, 0.0, 0.0, 0.0], [0.0, 0.0, 0.0196...</td>\n",
       "    </tr>\n",
       "    <tr>\n",
       "      <th>4</th>\n",
       "      <td>20090312433251036</td>\n",
       "      <td>13-22</td>\n",
       "      <td>[0, 1, 0]</td>\n",
       "      <td>1.000000</td>\n",
       "      <td>[[[0.0, 0.0, 0.0, 0.0, 0.0], [0.0, 0.0, 0.0, 0...</td>\n",
       "    </tr>\n",
       "    <tr>\n",
       "      <th>5</th>\n",
       "      <td>20090312433251036</td>\n",
       "      <td>5-12</td>\n",
       "      <td>[0, 0, 1]</td>\n",
       "      <td>0.272536</td>\n",
       "      <td>[[[0.0, 0.0, 0.0, 0.0, 0.0], [0.0, 0.0, 0.0, 0...</td>\n",
       "    </tr>\n",
       "    <tr>\n",
       "      <th>6</th>\n",
       "      <td>20090314121766812</td>\n",
       "      <td>0-4</td>\n",
       "      <td>[1, 0, 0]</td>\n",
       "      <td>0.131120</td>\n",
       "      <td>[[[0.0, 0.0, 0.0, 0.0, 0.003921569], [0.0, 0.0...</td>\n",
       "    </tr>\n",
       "    <tr>\n",
       "      <th>7</th>\n",
       "      <td>20090314121766812</td>\n",
       "      <td>13-22</td>\n",
       "      <td>[0, 1, 0]</td>\n",
       "      <td>0.711261</td>\n",
       "      <td>[[[0.0, 0.0, 0.0, 0.0, 0.0], [0.0, 0.0, 0.0, 0...</td>\n",
       "    </tr>\n",
       "    <tr>\n",
       "      <th>8</th>\n",
       "      <td>20090314121766812</td>\n",
       "      <td>5-12</td>\n",
       "      <td>[0, 0, 1]</td>\n",
       "      <td>0.339017</td>\n",
       "      <td>[[[0.0, 0.0, 0.0, 0.0, 0.0], [0.0, 0.0, 0.0, 0...</td>\n",
       "    </tr>\n",
       "    <tr>\n",
       "      <th>9</th>\n",
       "      <td>20090314363702160</td>\n",
       "      <td>0-4</td>\n",
       "      <td>[1, 0, 0]</td>\n",
       "      <td>0.072525</td>\n",
       "      <td>[[[0.0, 0.0, 0.0, 0.0, 0.0], [0.0, 0.0, 0.0, 0...</td>\n",
       "    </tr>\n",
       "  </tbody>\n",
       "</table>\n",
       "</div>"
      ],
      "text/plain": [
       "          session_id level_group symbolic_score_feature  elapsed_time  \\\n",
       "0  20090312431273200         0-4              [1, 0, 0]      0.064953   \n",
       "1  20090312431273200       13-22              [0, 1, 0]      0.424226   \n",
       "2  20090312431273200        5-12              [1, 0, 0]      0.166412   \n",
       "3  20090312433251036         0-4              [0, 1, 0]      0.077917   \n",
       "4  20090312433251036       13-22              [0, 1, 0]      1.000000   \n",
       "5  20090312433251036        5-12              [0, 0, 1]      0.272536   \n",
       "6  20090314121766812         0-4              [1, 0, 0]      0.131120   \n",
       "7  20090314121766812       13-22              [0, 1, 0]      0.711261   \n",
       "8  20090314121766812        5-12              [0, 0, 1]      0.339017   \n",
       "9  20090314363702160         0-4              [1, 0, 0]      0.072525   \n",
       "\n",
       "                              screen_heatmap_feature  \n",
       "0  [[[0.0, 0.0, 0.0, 0.0, 0.0], [0.0, 0.0, 0.0, 0...  \n",
       "1  [[[0.0, 0.0, 0.0, 0.0, 0.0], [0.0, 0.0, 0.0, 0...  \n",
       "2  [[[0.0, 0.0, 0.0, 0.0, 0.0], [0.0, 0.0, 0.0, 0...  \n",
       "3  [[[0.0, 0.0, 0.0, 0.0, 0.0], [0.0, 0.0, 0.0196...  \n",
       "4  [[[0.0, 0.0, 0.0, 0.0, 0.0], [0.0, 0.0, 0.0, 0...  \n",
       "5  [[[0.0, 0.0, 0.0, 0.0, 0.0], [0.0, 0.0, 0.0, 0...  \n",
       "6  [[[0.0, 0.0, 0.0, 0.0, 0.003921569], [0.0, 0.0...  \n",
       "7  [[[0.0, 0.0, 0.0, 0.0, 0.0], [0.0, 0.0, 0.0, 0...  \n",
       "8  [[[0.0, 0.0, 0.0, 0.0, 0.0], [0.0, 0.0, 0.0, 0...  \n",
       "9  [[[0.0, 0.0, 0.0, 0.0, 0.0], [0.0, 0.0, 0.0, 0...  "
      ]
     },
     "metadata": {},
     "output_type": "display_data"
    }
   ],
   "source": [
    "def add_screen_heatmap_feature(features:pd.DataFrame,\n",
    "                               X:pd.DataFrame,\n",
    "                               y:pd.DataFrame,\n",
    "                               bins:int=50,\n",
    "                               min_value:int=0,\n",
    "                               max_value:int=376) -> None:\n",
    "    \"\"\"\n",
    "    Adds the screen heatmap feature to the features dataset.\n",
    "    \"\"\"\n",
    "    heatmaps_feature = []\n",
    "    for session_id in tqdm(features['session_id'].unique()):\n",
    "        df_session = X.query('session_id == @session_id')\n",
    "        df_session_features = features.query('session_id == @session_id')\n",
    "\n",
    "        # process each level group the session features\n",
    "        for index, row in df_session_features.iterrows():\n",
    "            level_group = row['level_group']\n",
    "\n",
    "            group_heatmaps = create_level_group_screen_heatmap(df_session, level_group, bins, min_value, max_value)\n",
    "            heatmaps_feature.append(group_heatmaps)\n",
    "\n",
    "    # add the feature to the features dataset\n",
    "    features['screen_heatmap_feature'] = pd.Series(heatmaps_feature)\n",
    "\n",
    "# test the function\n",
    "add_screen_heatmap_feature(df_features, df_source, df_source_labels, bins=5)\n",
    "\n",
    "with pd.option_context('display.max_columns', None):\n",
    "    display(df_features.head(10))"
   ]
  },
  {
   "attachments": {},
   "cell_type": "markdown",
   "metadata": {},
   "source": [
    "## Functions to Create Datasets"
   ]
  },
  {
   "cell_type": "code",
   "execution_count": 24,
   "metadata": {},
   "outputs": [],
   "source": [
    "def select_sessions(\n",
    "        y: pd.DataFrame,\n",
    "        sample_size: int,\n",
    "        random_state: int=1337) -> Tuple[np.ndarray, np.ndarray, np.ndarray]:\n",
    "    \"\"\"\n",
    "    Selects a sample of sessions from the dataset.\n",
    "\n",
    "    Parameters\n",
    "    ----------\n",
    "    y : pd.DataFrame\n",
    "        The label dataset.\n",
    "    sample_size : int\n",
    "        The number of sessions to select.\n",
    "    random_state : int\n",
    "        The random state to use.\n",
    "\n",
    "    Returns\n",
    "    -------\n",
    "    Tuple[np.ndarray, np.ndarray, np.ndarray]\n",
    "        The selected session ids, the main dataset and the label dataset.\n",
    "    \"\"\"\n",
    "    # select all the unique session ids\n",
    "    all_session_ids = y['session_id'].unique()\n",
    "\n",
    "    # create a sample for testing\n",
    "    session_ids = np.random.choice(all_session_ids, size=sample_size, replace=False)\n",
    "\n",
    "    # split the dataset into train, validation and test sets\n",
    "    train, test = train_test_split(session_ids, test_size=0.4)\n",
    "    test, val = train_test_split(test, test_size=0.5)\n",
    "\n",
    "    # print the number of sessions in each set\n",
    "    print(f'Train: {len(train)}')\n",
    "    print(f'Validation: {len(val)}')\n",
    "    print(f'Test: {len(test)}')\n",
    "\n",
    "    return train, val, test"
   ]
  },
  {
   "cell_type": "code",
   "execution_count": 25,
   "metadata": {},
   "outputs": [
    {
     "data": {
      "application/vnd.jupyter.widget-view+json": {
       "model_id": "f75917e376f84881831eaf75305ccaa9",
       "version_major": 2,
       "version_minor": 0
      },
      "text/plain": [
       "0it [00:00, ?it/s]"
      ]
     },
     "metadata": {},
     "output_type": "display_data"
    },
    {
     "name": "stdout",
     "output_type": "stream",
     "text": [
      "[[0.06495333]\n",
      " [0.07791733]\n",
      " [0.13112   ]\n",
      " [0.06495333]\n",
      " [0.07791733]\n",
      " [0.13112   ]\n",
      " [0.06495333]\n",
      " [0.07791733]\n",
      " [0.13112   ]]\n",
      "(9, 1)\n"
     ]
    }
   ],
   "source": [
    "def create_feature_dataset(df_features:pd.DataFrame,\n",
    "                           df_source_labels:pd.DataFrame,\n",
    "                           session_list: list,\n",
    "                           level_group:str,\n",
    "                           feature_list:list) -> np.array:\n",
    "    # get the features and labels for the given level group\n",
    "    df_features_level_group = df_features.query('level_group == @level_group and session_id in @session_list')\n",
    "    df_labels_level_group = df_source_labels.query('level_group == @level_group and session_id in @session_list')\n",
    "\n",
    "    feature_dataset = []\n",
    "\n",
    "    # get the features for each row in the level group labels dataset\n",
    "    current_session_id = None\n",
    "    df_session_features = None\n",
    "\n",
    "    for index, row in tqdm(df_labels_level_group.iterrows()):        \n",
    "        session_id = row['session_id']\n",
    "\n",
    "        # get the features for the session\n",
    "        if session_id != current_session_id:\n",
    "            current_session_id = session_id\n",
    "            df_session_features = df_features_level_group.query('session_id == @session_id')\n",
    "\n",
    "        # check if the session has features\n",
    "        if df_session_features.shape[0] == 0:\n",
    "            raise Exception(f'No features for session {session_id}!')\n",
    "                            \n",
    "        # get the features for the row\n",
    "        row_features = []\n",
    "        for feature in feature_list:\n",
    "            feature_value = df_session_features[feature].values[0]\n",
    "\n",
    "            # check if the feature value is iterable\n",
    "            if isinstance(feature_value, Iterable):\n",
    "                row_features.extend(feature_value)\n",
    "            else:\n",
    "                row_features.append(feature_value)\n",
    "\n",
    "        # add the row features to the output dataset\n",
    "        feature_dataset.append(row_features)\n",
    "\n",
    "    return np.array(feature_dataset)\n",
    "\n",
    "# test the function\n",
    "session_list = df_source_labels['session_id'].unique()[:3]\n",
    "level_group = '0-4'\n",
    "#feature_list = ['symbolic_score_feature', 'symbolic_score_feature']\n",
    "#feature_list = ['screen_heatmap_feature']\n",
    "feature_list = ['elapsed_time']\n",
    "#feature_list = ['elapsed_time', 'symbolic_score_feature']\n",
    "\n",
    "features = create_feature_dataset(df_features, df_source_labels, session_list, level_group, feature_list)\n",
    "print(features)\n",
    "print(features.shape)"
   ]
  },
  {
   "attachments": {},
   "cell_type": "markdown",
   "metadata": {},
   "source": [
    "### Create Answers Dataset"
   ]
  },
  {
   "cell_type": "code",
   "execution_count": 26,
   "metadata": {},
   "outputs": [
    {
     "data": {
      "text/plain": [
       "array([1, 1, 1, 1, 1, 1, 1, 1, 1, 1, 1, 1, 0, 1, 1, 0, 1, 1, 0, 1, 1, 1,\n",
       "       0, 1, 1, 0, 1, 0, 0, 1, 0, 1, 0, 1, 0, 1, 1, 1, 1, 0, 0, 1, 1, 0,\n",
       "       0, 1, 1, 1, 0, 1, 1, 1, 0, 1], dtype=int8)"
      ]
     },
     "execution_count": 26,
     "metadata": {},
     "output_type": "execute_result"
    }
   ],
   "source": [
    "def create_answers_dataset(session_list: list,\n",
    "                           df_source_labels:pd.DataFrame) -> np.array:\n",
    "    # get the relevant sessions\n",
    "    answers = df_source_labels \\\n",
    "        .query('session_id in @session_list') \\\n",
    "        .sort_values(by=['session_id', 'question_num']) \\\n",
    "        .correct \\\n",
    "        .values\n",
    "    \n",
    "    return np.array(answers, dtype=np.int8)\n",
    "\n",
    "\n",
    "# test the function\n",
    "session_list = df_source_labels['session_id'].unique()[:3]\n",
    "test_answers = create_answers_dataset(session_list, df_source_labels)\n",
    "test_answers"
   ]
  },
  {
   "cell_type": "code",
   "execution_count": 27,
   "metadata": {},
   "outputs": [
    {
     "data": {
      "application/vnd.jupyter.widget-view+json": {
       "model_id": "60f73358c1d44fd99be9753d8956c33a",
       "version_major": 2,
       "version_minor": 0
      },
      "text/plain": [
       "0it [00:00, ?it/s]"
      ]
     },
     "metadata": {},
     "output_type": "display_data"
    },
    {
     "data": {
      "text/plain": [
       "array([[1.        , 0.        , 0.        , 0.        , 0.        ,\n",
       "        0.        , 0.        , 0.        , 0.        , 0.        ,\n",
       "        0.        , 0.        , 0.        , 0.        , 0.        ,\n",
       "        0.        , 0.        , 0.        , 0.06495333],\n",
       "       [0.        , 1.        , 0.        , 0.        , 0.        ,\n",
       "        0.        , 0.        , 0.        , 0.        , 0.        ,\n",
       "        0.        , 0.        , 0.        , 0.        , 0.        ,\n",
       "        0.        , 0.        , 0.        , 0.06495333],\n",
       "       [0.        , 0.        , 1.        , 0.        , 0.        ,\n",
       "        0.        , 0.        , 0.        , 0.        , 0.        ,\n",
       "        0.        , 0.        , 0.        , 0.        , 0.        ,\n",
       "        0.        , 0.        , 0.        , 0.06495333],\n",
       "       [0.        , 0.        , 0.        , 1.        , 0.        ,\n",
       "        0.        , 0.        , 0.        , 0.        , 0.        ,\n",
       "        0.        , 0.        , 0.        , 0.        , 0.        ,\n",
       "        0.        , 0.        , 0.        , 0.16641167],\n",
       "       [0.        , 0.        , 0.        , 0.        , 1.        ,\n",
       "        0.        , 0.        , 0.        , 0.        , 0.        ,\n",
       "        0.        , 0.        , 0.        , 0.        , 0.        ,\n",
       "        0.        , 0.        , 0.        , 0.16641167],\n",
       "       [0.        , 0.        , 0.        , 0.        , 0.        ,\n",
       "        1.        , 0.        , 0.        , 0.        , 0.        ,\n",
       "        0.        , 0.        , 0.        , 0.        , 0.        ,\n",
       "        0.        , 0.        , 0.        , 0.16641167],\n",
       "       [0.        , 0.        , 0.        , 0.        , 0.        ,\n",
       "        0.        , 1.        , 0.        , 0.        , 0.        ,\n",
       "        0.        , 0.        , 0.        , 0.        , 0.        ,\n",
       "        0.        , 0.        , 0.        , 0.16641167],\n",
       "       [0.        , 0.        , 0.        , 0.        , 0.        ,\n",
       "        0.        , 0.        , 1.        , 0.        , 0.        ,\n",
       "        0.        , 0.        , 0.        , 0.        , 0.        ,\n",
       "        0.        , 0.        , 0.        , 0.16641167],\n",
       "       [0.        , 0.        , 0.        , 0.        , 0.        ,\n",
       "        0.        , 0.        , 0.        , 1.        , 0.        ,\n",
       "        0.        , 0.        , 0.        , 0.        , 0.        ,\n",
       "        0.        , 0.        , 0.        , 0.16641167],\n",
       "       [0.        , 0.        , 0.        , 0.        , 0.        ,\n",
       "        0.        , 0.        , 0.        , 0.        , 1.        ,\n",
       "        0.        , 0.        , 0.        , 0.        , 0.        ,\n",
       "        0.        , 0.        , 0.        , 0.16641167],\n",
       "       [0.        , 0.        , 0.        , 0.        , 0.        ,\n",
       "        0.        , 0.        , 0.        , 0.        , 0.        ,\n",
       "        1.        , 0.        , 0.        , 0.        , 0.        ,\n",
       "        0.        , 0.        , 0.        , 0.16641167],\n",
       "       [0.        , 0.        , 0.        , 0.        , 0.        ,\n",
       "        0.        , 0.        , 0.        , 0.        , 0.        ,\n",
       "        0.        , 1.        , 0.        , 0.        , 0.        ,\n",
       "        0.        , 0.        , 0.        , 0.16641167],\n",
       "       [0.        , 0.        , 0.        , 0.        , 0.        ,\n",
       "        0.        , 0.        , 0.        , 0.        , 0.        ,\n",
       "        0.        , 0.        , 1.        , 0.        , 0.        ,\n",
       "        0.        , 0.        , 0.        , 0.16641167],\n",
       "       [0.        , 0.        , 0.        , 0.        , 0.        ,\n",
       "        0.        , 0.        , 0.        , 0.        , 0.        ,\n",
       "        0.        , 0.        , 0.        , 1.        , 0.        ,\n",
       "        0.        , 0.        , 0.        , 0.42422633],\n",
       "       [0.        , 0.        , 0.        , 0.        , 0.        ,\n",
       "        0.        , 0.        , 0.        , 0.        , 0.        ,\n",
       "        0.        , 0.        , 0.        , 0.        , 1.        ,\n",
       "        0.        , 0.        , 0.        , 0.42422633],\n",
       "       [0.        , 0.        , 0.        , 0.        , 0.        ,\n",
       "        0.        , 0.        , 0.        , 0.        , 0.        ,\n",
       "        0.        , 0.        , 0.        , 0.        , 0.        ,\n",
       "        1.        , 0.        , 0.        , 0.42422633],\n",
       "       [0.        , 0.        , 0.        , 0.        , 0.        ,\n",
       "        0.        , 0.        , 0.        , 0.        , 0.        ,\n",
       "        0.        , 0.        , 0.        , 0.        , 0.        ,\n",
       "        0.        , 1.        , 0.        , 0.42422633],\n",
       "       [0.        , 0.        , 0.        , 0.        , 0.        ,\n",
       "        0.        , 0.        , 0.        , 0.        , 0.        ,\n",
       "        0.        , 0.        , 0.        , 0.        , 0.        ,\n",
       "        0.        , 0.        , 1.        , 0.42422633]])"
      ]
     },
     "execution_count": 27,
     "metadata": {},
     "output_type": "execute_result"
    }
   ],
   "source": [
    "def create_answers_feature_dataset(session_list:list,\n",
    "                                   df_source_labels:pd.DataFrame,\n",
    "                                   df_features:pd.DataFrame,\n",
    "                                   feature_list:list,\n",
    "                                   include_question:bool=True) -> np.array:\n",
    "    answers = df_source_labels \\\n",
    "        .query('session_id in @session_list') \\\n",
    "        .sort_values(by=['session_id', 'question_num'])\n",
    "    \n",
    "    \n",
    "    feature_dataset = []\n",
    "    for index, row in tqdm(answers.iterrows()):\n",
    "        session_id = int(row['session_id'])\n",
    "        question_num = int(row['question_num'])\n",
    "        level_group = row['level_group']\n",
    "\n",
    "        # get the features for the session\n",
    "        df_session_features = df_features.query('session_id == @session_id and level_group == @level_group')\n",
    "        \n",
    "        # check if the session has features\n",
    "        if df_session_features.shape[0] == 0:\n",
    "            raise Exception(f'No features for session {session_id}!')\n",
    "        \n",
    "        # get the features for the row\n",
    "        row_features = []\n",
    "\n",
    "        # get the question number one-hot encoded\n",
    "        if include_question:\n",
    "            question_num_one_hot = np.zeros(18, dtype=np.int8)\n",
    "            question_num_one_hot[question_num-1] = 1\n",
    "            row_features.extend(question_num_one_hot)\n",
    "        \n",
    "        for feature in feature_list:\n",
    "            feature_value = df_session_features[feature].values[0]\n",
    "\n",
    "            # check if the feature value is iterable\n",
    "            if isinstance(feature_value, Iterable):\n",
    "                row_features.extend(feature_value)\n",
    "            else:\n",
    "                row_features.append(feature_value)\n",
    "\n",
    "        # add the row features to the output dataset\n",
    "        feature_dataset.append(row_features)\n",
    "\n",
    "    return np.array(feature_dataset)\n",
    "    \n",
    "# test the function\n",
    "session_list = df_source_labels['session_id'].unique()[:1]\n",
    "feature_list = ['elapsed_time']\n",
    "#feature_list = []\n",
    "test_features = create_answers_feature_dataset(session_list, df_source_labels, df_features, feature_list, include_question=True)\n",
    "test_features"
   ]
  },
  {
   "attachments": {},
   "cell_type": "markdown",
   "metadata": {},
   "source": [
    "## Functions for Model Training"
   ]
  },
  {
   "cell_type": "code",
   "execution_count": 28,
   "metadata": {},
   "outputs": [],
   "source": [
    "def plot_loss(history: callbacks.History, figsize: Tuple[int, int] = (5, 3)) -> None:\n",
    "    \"\"\"\n",
    "    Plot the loss and validation loss.\n",
    "\n",
    "    Parameters\n",
    "    ----------\n",
    "    history : keras.callbacks.History\n",
    "        The history of the model training.\n",
    "    \"\"\"\n",
    "    epochs = range(1, len(history.history['accuracy']) + 1)\n",
    "\n",
    "    # summarize history for loss\n",
    "    plt.figure(figsize=figsize)\n",
    "    plt.plot(epochs, history.history['loss'])\n",
    "    \n",
    "    if ('val_loss' in history.history):\n",
    "        plt.plot(epochs, history.history['val_loss'])\n",
    "        plt.legend(['Training loss', 'Validation loss'], loc='upper left')\n",
    "        plt.title('Training and validation loss')\n",
    "    else:\n",
    "        plt.title('Training loss')\n",
    "\n",
    "    plt.xlabel('Epochs')\n",
    "    plt.ylabel('Loss')\n",
    "\n",
    "    plt.show()"
   ]
  },
  {
   "cell_type": "code",
   "execution_count": 29,
   "metadata": {},
   "outputs": [],
   "source": [
    "def plot_accuracy(history: callbacks.History, figsize: Tuple[int, int] = (5, 3)) -> None:\n",
    "    \"\"\"\n",
    "    Plot the accuracy and validation accuracy.\n",
    "\n",
    "    Parameters\n",
    "    ----------\n",
    "    history : keras.callbacks.History\n",
    "        The history of the model training.\n",
    "    \"\"\"\n",
    "    epochs = range(1, len(history.history['accuracy']) + 1)\n",
    "\n",
    "    # summarize history for accuracy\n",
    "    plt.figure(figsize=figsize)\n",
    "    plt.plot(epochs, history.history['accuracy'])\n",
    "\n",
    "    if ('val_accuracy' in history.history):\n",
    "        plt.plot(epochs, history.history['val_accuracy'])\n",
    "        plt.legend(['Training acc', 'Validation acc'], loc='upper left')\n",
    "        plt.title('Training and validation accuracy')\n",
    "    else:\n",
    "        plt.title('Training accuracy')\n",
    "\n",
    "    plt.xlabel('Epochs')\n",
    "    plt.ylabel('Accuracy')\n",
    "\n",
    "    plt.show()"
   ]
  },
  {
   "cell_type": "code",
   "execution_count": 30,
   "metadata": {},
   "outputs": [],
   "source": [
    "def test_model(\n",
    "        model,\n",
    "        history: callbacks.History,\n",
    "        X_test: np.ndarray,\n",
    "        y_test: np.ndarray,\n",
    "        show_plots: bool = True) -> float:\n",
    "    \"\"\"\n",
    "    Test the model based on the test data.\n",
    "\n",
    "    Parameters\n",
    "    ----------\n",
    "    model : keras.models\n",
    "        The model to test.\n",
    "    history : keras.callbacks.History\n",
    "        The history of the training.\n",
    "    X_test : np.ndarray\n",
    "        The test data.\n",
    "    y_test : np.ndarray\n",
    "        The test labels.\n",
    "\n",
    "    Returns\n",
    "    -------\n",
    "    float\n",
    "        The optimized threshold for the best F1 score.\n",
    "    \"\"\"\n",
    "    if show_plots:\n",
    "        plot_loss(history)\n",
    "        plot_accuracy(history)\n",
    "\n",
    "    y_test_score = model.predict(X_test)\n",
    "    #threshold, _, _ = optimize_f1(y_test, y_test_score)\n",
    "    threshold = 0.5\n",
    "\n",
    "    report = classification_report(y_test, y_test_score > threshold, zero_division=1)\n",
    "    print(report)\n",
    "    print(f'Optimized threshold for best F1: {threshold:.2f}')\n",
    "\n",
    "    gc.collect()\n",
    "\n",
    "    return threshold, report"
   ]
  },
  {
   "cell_type": "code",
   "execution_count": 31,
   "metadata": {},
   "outputs": [],
   "source": [
    "def optimize_f1(y_true: np.ndarray, y_score: np.ndarray) -> Tuple[float, float, float]:\n",
    "    \"\"\"\n",
    "    Optimize the F1 score.\n",
    "\n",
    "    Parameters\n",
    "    ----------\n",
    "    y_true : np.ndarray\n",
    "        The true labels.\n",
    "    y_score : np.ndarray\n",
    "        The predicted labels.\n",
    "\n",
    "    Returns\n",
    "    -------\n",
    "    Tuple[float, float, float]\n",
    "        The optimized threshold, precision, and recall.\n",
    "    \"\"\"\n",
    "    best_f1 = 0\n",
    "    best_threshold = 0\n",
    "    best_precision = 0\n",
    "    best_recall = 0\n",
    "\n",
    "    for threshold in np.arange(0, 1, 0.01):\n",
    "        y_pred = (y_score > threshold).astype(int)\n",
    "        precision, recall, f1, _ = precision_recall_fscore_support(y_true, y_pred, average='macro', zero_division=1)\n",
    "\n",
    "        if f1 > best_f1:\n",
    "            best_f1 = f1\n",
    "            best_threshold = threshold\n",
    "            best_precision = precision\n",
    "            best_recall = recall\n",
    "\n",
    "    return best_threshold, best_precision, best_recall"
   ]
  },
  {
   "cell_type": "code",
   "execution_count": 32,
   "metadata": {},
   "outputs": [],
   "source": [
    "def train_model(\n",
    "        model,\n",
    "        X_train: np.ndarray,\n",
    "        y_train: np.ndarray,\n",
    "        X_val : np.ndarray,\n",
    "        y_val: np.ndarray,\n",
    "        epochs: int,\n",
    "        batch_size: int,\n",
    "        optimizer,\n",
    "        loss: str,\n",
    "        metrics: list,\n",
    "        class_weight: dict=None) -> callbacks.History:\n",
    "    \"\"\"\n",
    "    Train the keras model based on the parameters.\n",
    "\n",
    "    Parameters\n",
    "    ----------\n",
    "    model : keras.models\n",
    "        The model to train.\n",
    "    X_train : np.ndarray\n",
    "        The training data.\n",
    "    y_train : np.ndarray\n",
    "        The training labels.\n",
    "    X_val : np.ndarray\n",
    "        The validation data.\n",
    "    y_val : np.ndarray\n",
    "        The validation labels.\n",
    "    epochs : int\n",
    "        The number of epochs.\n",
    "    batch_size : int\n",
    "        The batch size.\n",
    "    optimizer : keras.optimizers\n",
    "        The optimizer.\n",
    "    loss : str\n",
    "        The loss function.\n",
    "    metrics : list\n",
    "        The metrics.\n",
    "    class_weight : dict, optional\n",
    "        The class weights, by default None\n",
    "    \n",
    "    Returns\n",
    "    -------\n",
    "    keras.callbacks.History\n",
    "        The history of the training.\n",
    "    \"\"\"\n",
    "    # compile the model\n",
    "    model.compile(\n",
    "        optimizer=optimizer,\n",
    "        loss=loss,\n",
    "        metrics=metrics)\n",
    "    \n",
    "    # fit the model\n",
    "    history = model.fit(\n",
    "        x=X_train,\n",
    "        y=y_train,\n",
    "        epochs=epochs,\n",
    "        batch_size=batch_size,\n",
    "        validation_data=(X_val, y_val),\n",
    "        class_weight=class_weight)\n",
    "    \n",
    "    return history"
   ]
  },
  {
   "cell_type": "code",
   "execution_count": 33,
   "metadata": {},
   "outputs": [],
   "source": [
    "def train_and_test_model(\n",
    "        model,\n",
    "        X_train: np.ndarray,\n",
    "        y_train: np.ndarray,\n",
    "        X_val : np.ndarray,\n",
    "        y_val: np.ndarray,\n",
    "        X_test: np.ndarray,\n",
    "        y_test: np.ndarray,\n",
    "        epochs: int,\n",
    "        batch_size: int,\n",
    "        optimizer,\n",
    "        loss: str,\n",
    "        metrics: list,\n",
    "        class_weight: dict=None,\n",
    "        clear_learning: bool = False,\n",
    "        show_plots: bool = True) -> float:\n",
    "    \"\"\"\n",
    "    Train and test the model.\n",
    "\n",
    "    Parameters\n",
    "    ----------\n",
    "    model : keras.models\n",
    "        The model to train and test.\n",
    "    X_train : np.ndarray\n",
    "        The training data.\n",
    "    y_train : np.ndarray\n",
    "        The training labels.\n",
    "    X_val : np.ndarray\n",
    "        The validation data.\n",
    "    y_val : np.ndarray\n",
    "        The validation labels.\n",
    "    X_test : np.ndarray\n",
    "        The test data.\n",
    "    y_test : np.ndarray\n",
    "        The test labels.\n",
    "    epochs : int\n",
    "        The number of epochs.\n",
    "    batch_size : int\n",
    "        The batch size.\n",
    "    optimizer : keras.optimizers\n",
    "        The optimizer.\n",
    "    loss : str\n",
    "        The loss function.\n",
    "    metrics : list\n",
    "        The metrics.\n",
    "    class_weight : dict, optional\n",
    "        The class weights, by default None\n",
    "\n",
    "    Returns\n",
    "    -------\n",
    "    float\n",
    "        The optimized threshold for the best F1 score.\n",
    "    \"\"\"\n",
    "    history = train_model(\n",
    "        model=model,\n",
    "        X_train=X_train,\n",
    "        y_train=y_train,\n",
    "        X_val=X_val,\n",
    "        y_val=y_val,\n",
    "        epochs=epochs,\n",
    "        batch_size=batch_size,\n",
    "        optimizer=optimizer,\n",
    "        loss=loss,\n",
    "        metrics=metrics,\n",
    "        class_weight=class_weight)\n",
    "    \n",
    "    gc.collect()\n",
    "\n",
    "    # clear the learning output if required\n",
    "    if clear_learning:\n",
    "        clear_output()\n",
    "\n",
    "    return test_model(model, history, X_test, y_test, show_plots=show_plots)"
   ]
  },
  {
   "attachments": {},
   "cell_type": "markdown",
   "metadata": {},
   "source": [
    "## Data Selection"
   ]
  },
  {
   "cell_type": "code",
   "execution_count": 34,
   "metadata": {},
   "outputs": [],
   "source": [
    "random_state = 51\n",
    "sample_size = df_source_labels['session_id'].nunique()\n",
    "#sample_size = 5000"
   ]
  },
  {
   "cell_type": "code",
   "execution_count": 35,
   "metadata": {},
   "outputs": [
    {
     "name": "stdout",
     "output_type": "stream",
     "text": [
      "Train: 7067\n",
      "Validation: 2356\n",
      "Test: 2356\n"
     ]
    }
   ],
   "source": [
    "train, val, test = select_sessions(\n",
    "    y=df_source_labels,\n",
    "    sample_size=sample_size,\n",
    "    random_state=random_state)"
   ]
  },
  {
   "cell_type": "code",
   "execution_count": 36,
   "metadata": {},
   "outputs": [
    {
     "name": "stdout",
     "output_type": "stream",
     "text": [
      "Total Number of sessions    : 11779\n",
      "Number of complete sessions : 11779\n"
     ]
    }
   ],
   "source": [
    "df_complete_sessions = df_source_labels \\\n",
    "    .groupby(['session_id', 'level_group']) \\\n",
    "    .agg({'correct': ['sum', 'count']}) \\\n",
    "    .droplevel(0, axis=1) \\\n",
    "    .reset_index() \\\n",
    "    .query(('(level_group == \"0-4\" and count == 3) or'\n",
    "            '(level_group == \"5-12\" and count == 10) or'\n",
    "            '(level_group == \"13-22\" and count == 5)')) \\\n",
    "    .assign(score=lambda df: df['sum'] / df['count'])\n",
    "\n",
    "print(f'Total Number of sessions    : {df_source_labels.session_id.nunique()}')\n",
    "print(f'Number of complete sessions : {df_complete_sessions.session_id.nunique()}')\n",
    "#display(df_complete_sessions.head(6))"
   ]
  },
  {
   "attachments": {},
   "cell_type": "markdown",
   "metadata": {},
   "source": [
    "## Predict Good Students"
   ]
  },
  {
   "cell_type": "code",
   "execution_count": 37,
   "metadata": {},
   "outputs": [],
   "source": [
    "def create_feature_datasets(feature_list:list):\n",
    "    # create datasets for each level group\n",
    "    feature_datasets = {}\n",
    "    for session_list, name in [(train, 'train'), (val, 'val'), (test, 'test')]:\n",
    "        feature_datasets[name] = {}\n",
    "        \n",
    "        for level_group in ['0-4', '5-12', '13-22']:\n",
    "            print(f'Creating {name} dataset for level group {level_group}...')\n",
    "\n",
    "            feature_datasets[name][level_group] = create_feature_dataset(\n",
    "                df_features=df_features,\n",
    "                df_source_labels=df_source_labels,\n",
    "                session_list=session_list,\n",
    "                level_group=level_group,\n",
    "                feature_list=feature_list)\n",
    "            \n",
    "    return feature_datasets"
   ]
  },
  {
   "attachments": {},
   "cell_type": "markdown",
   "metadata": {},
   "source": [
    "### Create Datasets"
   ]
  },
  {
   "cell_type": "code",
   "execution_count": 38,
   "metadata": {},
   "outputs": [
    {
     "name": "stdout",
     "output_type": "stream",
     "text": [
      "Creating train dataset for level group 0-4...\n"
     ]
    },
    {
     "data": {
      "application/vnd.jupyter.widget-view+json": {
       "model_id": "5164ad2b3e18474cb2e8d5fc35da982c",
       "version_major": 2,
       "version_minor": 0
      },
      "text/plain": [
       "0it [00:00, ?it/s]"
      ]
     },
     "metadata": {},
     "output_type": "display_data"
    },
    {
     "name": "stdout",
     "output_type": "stream",
     "text": [
      "Creating train dataset for level group 5-12...\n"
     ]
    },
    {
     "data": {
      "application/vnd.jupyter.widget-view+json": {
       "model_id": "c2e2bb2ff8b14612b5abff7f596bdae4",
       "version_major": 2,
       "version_minor": 0
      },
      "text/plain": [
       "0it [00:00, ?it/s]"
      ]
     },
     "metadata": {},
     "output_type": "display_data"
    },
    {
     "name": "stdout",
     "output_type": "stream",
     "text": [
      "Creating train dataset for level group 13-22...\n"
     ]
    },
    {
     "data": {
      "application/vnd.jupyter.widget-view+json": {
       "model_id": "25c3cfe0051c48ee883b2af3006c41ad",
       "version_major": 2,
       "version_minor": 0
      },
      "text/plain": [
       "0it [00:00, ?it/s]"
      ]
     },
     "metadata": {},
     "output_type": "display_data"
    },
    {
     "name": "stdout",
     "output_type": "stream",
     "text": [
      "Creating val dataset for level group 0-4...\n"
     ]
    },
    {
     "data": {
      "application/vnd.jupyter.widget-view+json": {
       "model_id": "7a81867ee4c045b889f4f8339c7e15a5",
       "version_major": 2,
       "version_minor": 0
      },
      "text/plain": [
       "0it [00:00, ?it/s]"
      ]
     },
     "metadata": {},
     "output_type": "display_data"
    },
    {
     "name": "stdout",
     "output_type": "stream",
     "text": [
      "Creating val dataset for level group 5-12...\n"
     ]
    },
    {
     "data": {
      "application/vnd.jupyter.widget-view+json": {
       "model_id": "13f359b4f95b4a31af40e99e0ec586a3",
       "version_major": 2,
       "version_minor": 0
      },
      "text/plain": [
       "0it [00:00, ?it/s]"
      ]
     },
     "metadata": {},
     "output_type": "display_data"
    },
    {
     "name": "stdout",
     "output_type": "stream",
     "text": [
      "Creating val dataset for level group 13-22...\n"
     ]
    },
    {
     "data": {
      "application/vnd.jupyter.widget-view+json": {
       "model_id": "447490ef7a944dab94be071598aca63f",
       "version_major": 2,
       "version_minor": 0
      },
      "text/plain": [
       "0it [00:00, ?it/s]"
      ]
     },
     "metadata": {},
     "output_type": "display_data"
    },
    {
     "name": "stdout",
     "output_type": "stream",
     "text": [
      "Creating test dataset for level group 0-4...\n"
     ]
    },
    {
     "data": {
      "application/vnd.jupyter.widget-view+json": {
       "model_id": "d0d9e3f363b342a99f4ce5f6bec4a532",
       "version_major": 2,
       "version_minor": 0
      },
      "text/plain": [
       "0it [00:00, ?it/s]"
      ]
     },
     "metadata": {},
     "output_type": "display_data"
    },
    {
     "name": "stdout",
     "output_type": "stream",
     "text": [
      "Creating test dataset for level group 5-12...\n"
     ]
    },
    {
     "data": {
      "application/vnd.jupyter.widget-view+json": {
       "model_id": "36844ef600e942b18b0d1f2468a88066",
       "version_major": 2,
       "version_minor": 0
      },
      "text/plain": [
       "0it [00:00, ?it/s]"
      ]
     },
     "metadata": {},
     "output_type": "display_data"
    },
    {
     "name": "stdout",
     "output_type": "stream",
     "text": [
      "Creating test dataset for level group 13-22...\n"
     ]
    },
    {
     "data": {
      "application/vnd.jupyter.widget-view+json": {
       "model_id": "8c4e23a91004499b80bc764823bd9867",
       "version_major": 2,
       "version_minor": 0
      },
      "text/plain": [
       "0it [00:00, ?it/s]"
      ]
     },
     "metadata": {},
     "output_type": "display_data"
    }
   ],
   "source": [
    "good_student_features = create_feature_datasets(['screen_heatmap_feature'])"
   ]
  },
  {
   "cell_type": "code",
   "execution_count": 39,
   "metadata": {},
   "outputs": [
    {
     "name": "stdout",
     "output_type": "stream",
     "text": [
      "Creating train dataset for level group 0-4...\n"
     ]
    },
    {
     "data": {
      "application/vnd.jupyter.widget-view+json": {
       "model_id": "567699ebef8440baaa0d5df5f05cb32b",
       "version_major": 2,
       "version_minor": 0
      },
      "text/plain": [
       "0it [00:00, ?it/s]"
      ]
     },
     "metadata": {},
     "output_type": "display_data"
    },
    {
     "name": "stdout",
     "output_type": "stream",
     "text": [
      "Creating train dataset for level group 5-12...\n"
     ]
    },
    {
     "data": {
      "application/vnd.jupyter.widget-view+json": {
       "model_id": "a06a59252ef946f789229c5bf2ad556a",
       "version_major": 2,
       "version_minor": 0
      },
      "text/plain": [
       "0it [00:00, ?it/s]"
      ]
     },
     "metadata": {},
     "output_type": "display_data"
    },
    {
     "name": "stdout",
     "output_type": "stream",
     "text": [
      "Creating train dataset for level group 13-22...\n"
     ]
    },
    {
     "data": {
      "application/vnd.jupyter.widget-view+json": {
       "model_id": "b3da8dd50a29478bb70b25e5059c17e6",
       "version_major": 2,
       "version_minor": 0
      },
      "text/plain": [
       "0it [00:00, ?it/s]"
      ]
     },
     "metadata": {},
     "output_type": "display_data"
    },
    {
     "name": "stdout",
     "output_type": "stream",
     "text": [
      "Creating val dataset for level group 0-4...\n"
     ]
    },
    {
     "data": {
      "application/vnd.jupyter.widget-view+json": {
       "model_id": "1bc065def31e4c55b55faabec9424db9",
       "version_major": 2,
       "version_minor": 0
      },
      "text/plain": [
       "0it [00:00, ?it/s]"
      ]
     },
     "metadata": {},
     "output_type": "display_data"
    },
    {
     "name": "stdout",
     "output_type": "stream",
     "text": [
      "Creating val dataset for level group 5-12...\n"
     ]
    },
    {
     "data": {
      "application/vnd.jupyter.widget-view+json": {
       "model_id": "a3e4746233ae46fbad547e7132d407e6",
       "version_major": 2,
       "version_minor": 0
      },
      "text/plain": [
       "0it [00:00, ?it/s]"
      ]
     },
     "metadata": {},
     "output_type": "display_data"
    },
    {
     "name": "stdout",
     "output_type": "stream",
     "text": [
      "Creating val dataset for level group 13-22...\n"
     ]
    },
    {
     "data": {
      "application/vnd.jupyter.widget-view+json": {
       "model_id": "93d9f7a6d2d7454eb8df96c2de0b39af",
       "version_major": 2,
       "version_minor": 0
      },
      "text/plain": [
       "0it [00:00, ?it/s]"
      ]
     },
     "metadata": {},
     "output_type": "display_data"
    },
    {
     "name": "stdout",
     "output_type": "stream",
     "text": [
      "Creating test dataset for level group 0-4...\n"
     ]
    },
    {
     "data": {
      "application/vnd.jupyter.widget-view+json": {
       "model_id": "cabbd2b862884a56931c4378c6cc3933",
       "version_major": 2,
       "version_minor": 0
      },
      "text/plain": [
       "0it [00:00, ?it/s]"
      ]
     },
     "metadata": {},
     "output_type": "display_data"
    },
    {
     "name": "stdout",
     "output_type": "stream",
     "text": [
      "Creating test dataset for level group 5-12...\n"
     ]
    },
    {
     "data": {
      "application/vnd.jupyter.widget-view+json": {
       "model_id": "eb39a88add074a6083d5d4c54c4644cc",
       "version_major": 2,
       "version_minor": 0
      },
      "text/plain": [
       "0it [00:00, ?it/s]"
      ]
     },
     "metadata": {},
     "output_type": "display_data"
    },
    {
     "name": "stdout",
     "output_type": "stream",
     "text": [
      "Creating test dataset for level group 13-22...\n"
     ]
    },
    {
     "data": {
      "application/vnd.jupyter.widget-view+json": {
       "model_id": "035d335bdfc74c9fa238ba548f3380d0",
       "version_major": 2,
       "version_minor": 0
      },
      "text/plain": [
       "0it [00:00, ?it/s]"
      ]
     },
     "metadata": {},
     "output_type": "display_data"
    }
   ],
   "source": [
    "good_student_target = create_feature_datasets(['symbolic_score_feature'])"
   ]
  },
  {
   "cell_type": "code",
   "execution_count": 40,
   "metadata": {},
   "outputs": [
    {
     "name": "stdout",
     "output_type": "stream",
     "text": [
      "Creating train dataset for level group 0-4...\n"
     ]
    },
    {
     "data": {
      "application/vnd.jupyter.widget-view+json": {
       "model_id": "8ff35c736d424feb958b9619d353e96f",
       "version_major": 2,
       "version_minor": 0
      },
      "text/plain": [
       "0it [00:00, ?it/s]"
      ]
     },
     "metadata": {},
     "output_type": "display_data"
    },
    {
     "name": "stdout",
     "output_type": "stream",
     "text": [
      "Creating train dataset for level group 5-12...\n"
     ]
    },
    {
     "data": {
      "application/vnd.jupyter.widget-view+json": {
       "model_id": "4e9edcb28ed245c38cda3a4feb5b702a",
       "version_major": 2,
       "version_minor": 0
      },
      "text/plain": [
       "0it [00:00, ?it/s]"
      ]
     },
     "metadata": {},
     "output_type": "display_data"
    },
    {
     "name": "stdout",
     "output_type": "stream",
     "text": [
      "Creating train dataset for level group 13-22...\n"
     ]
    },
    {
     "data": {
      "application/vnd.jupyter.widget-view+json": {
       "model_id": "91aed0f9cd524ddeadcb50b359376592",
       "version_major": 2,
       "version_minor": 0
      },
      "text/plain": [
       "0it [00:00, ?it/s]"
      ]
     },
     "metadata": {},
     "output_type": "display_data"
    },
    {
     "name": "stdout",
     "output_type": "stream",
     "text": [
      "Creating val dataset for level group 0-4...\n"
     ]
    },
    {
     "data": {
      "application/vnd.jupyter.widget-view+json": {
       "model_id": "25cd09cdadbd43218eb94315c4757204",
       "version_major": 2,
       "version_minor": 0
      },
      "text/plain": [
       "0it [00:00, ?it/s]"
      ]
     },
     "metadata": {},
     "output_type": "display_data"
    },
    {
     "name": "stdout",
     "output_type": "stream",
     "text": [
      "Creating val dataset for level group 5-12...\n"
     ]
    },
    {
     "data": {
      "application/vnd.jupyter.widget-view+json": {
       "model_id": "b183c4e3c61d447c90a93b815bb4ec8f",
       "version_major": 2,
       "version_minor": 0
      },
      "text/plain": [
       "0it [00:00, ?it/s]"
      ]
     },
     "metadata": {},
     "output_type": "display_data"
    },
    {
     "name": "stdout",
     "output_type": "stream",
     "text": [
      "Creating val dataset for level group 13-22...\n"
     ]
    },
    {
     "data": {
      "application/vnd.jupyter.widget-view+json": {
       "model_id": "f79ee3b0c01e49fdb74b8f02fabf588d",
       "version_major": 2,
       "version_minor": 0
      },
      "text/plain": [
       "0it [00:00, ?it/s]"
      ]
     },
     "metadata": {},
     "output_type": "display_data"
    },
    {
     "name": "stdout",
     "output_type": "stream",
     "text": [
      "Creating test dataset for level group 0-4...\n"
     ]
    },
    {
     "data": {
      "application/vnd.jupyter.widget-view+json": {
       "model_id": "6be6e3bf832d45a38adaa23b9a47af66",
       "version_major": 2,
       "version_minor": 0
      },
      "text/plain": [
       "0it [00:00, ?it/s]"
      ]
     },
     "metadata": {},
     "output_type": "display_data"
    },
    {
     "name": "stdout",
     "output_type": "stream",
     "text": [
      "Creating test dataset for level group 5-12...\n"
     ]
    },
    {
     "data": {
      "application/vnd.jupyter.widget-view+json": {
       "model_id": "a981a9291a504d77947d7da92841e565",
       "version_major": 2,
       "version_minor": 0
      },
      "text/plain": [
       "0it [00:00, ?it/s]"
      ]
     },
     "metadata": {},
     "output_type": "display_data"
    },
    {
     "name": "stdout",
     "output_type": "stream",
     "text": [
      "Creating test dataset for level group 13-22...\n"
     ]
    },
    {
     "data": {
      "application/vnd.jupyter.widget-view+json": {
       "model_id": "dd71a0faeb7e459f918e30a58e0f8625",
       "version_major": 2,
       "version_minor": 0
      },
      "text/plain": [
       "0it [00:00, ?it/s]"
      ]
     },
     "metadata": {},
     "output_type": "display_data"
    }
   ],
   "source": [
    "good_student_elapsed_time = create_feature_datasets(['elapsed_time'])"
   ]
  },
  {
   "attachments": {},
   "cell_type": "markdown",
   "metadata": {},
   "source": [
    "### Create Model"
   ]
  },
  {
   "cell_type": "code",
   "execution_count": 41,
   "metadata": {},
   "outputs": [],
   "source": [
    "#level_group = '0-4'\n",
    "level_group = '5-12'\n",
    "#level_group ='13-22'\n"
   ]
  },
  {
   "cell_type": "code",
   "execution_count": 42,
   "metadata": {},
   "outputs": [],
   "source": [
    "# def get_lstm_model(input_shape: tuple, output_shape:int) -> keras.models:\n",
    "#     model = Sequential()\n",
    "\n",
    "#     # Add a Convolutional Neural Network (CNN)\n",
    "#     model.add(Conv2D(32, kernel_size=(3, 3), activation='relu', input_shape=input_shape, kernel_regularizer=regularizers.l2(0.01)))\n",
    "#     model.add(MaxPooling2D(pool_size=(2, 2)))\n",
    "#     # model.add(Conv2D(64, kernel_size=(3, 3), activation='relu', kernel_regularizer=regularizers.l2(0.01)))\n",
    "#     # model.add(Flatten())\n",
    "\n",
    "#     model.add(Reshape((32, -1))) # reshape the output of the Flatten layer to (batch_size, time_steps, input_dim)\n",
    "#     model.add(LSTM(64, dropout=0.2, recurrent_dropout=0.2))    \n",
    "\n",
    "#     model.add(Dense(32, activation='sigmoid'))\n",
    "#     model.add(Dropout(0.25))\n",
    "\n",
    "#     # Add a dense layer for output\n",
    "#     model.add(Dense(output_shape, activation='sigmoid'))\n",
    "    \n",
    "#     return model\n",
    "\n",
    "# # define the input shape\n",
    "# input_data = good_student_features['train'][level_group]\n",
    "# input_shape = (input_data.shape[1], input_data.shape[2], input_data.shape[3])\n",
    "\n",
    "# # define the output shape\n",
    "# output_data = good_student_target['train'][level_group]\n",
    "# output_shape = output_data.shape[1]\n",
    "\n",
    "# # get the model\n",
    "# model = get_lstm_model(input_shape=input_shape, output_shape=output_shape)\n",
    "# print(model.summary())"
   ]
  },
  {
   "cell_type": "code",
   "execution_count": 43,
   "metadata": {},
   "outputs": [],
   "source": [
    "# def get_flat_model(input_shape: tuple, output_shape:int) -> keras.models:\n",
    "#     model = Sequential()\n",
    "#     model.add(Dense(16, activation='relu', input_shape=input_shape, kernel_regularizer=regularizers.l2(0.01)))\n",
    "#     model.add(Flatten())\n",
    "#     model.add(Dropout(0.4))\n",
    "#     model.add(Dense(16, activation='relu', input_shape=input_shape, kernel_regularizer=regularizers.l2(0.01)))\n",
    "#     model.add(Dropout(0.4))\n",
    "#     model.add(Dense(256, activation='relu', input_shape=input_shape, kernel_regularizer=regularizers.l2(0.01)))\n",
    "    \n",
    " \n",
    "\n",
    "#     # Add a dense layer for output\n",
    "#     model.add(Dense(output_shape, activation='sigmoid'))\n",
    "    \n",
    "#     return model\n",
    "\n",
    "# # get the model\n",
    "# #model = get_flat_model(input_shape=input_shape, output_shape=output_shape)\n",
    "# #print(model.summary())"
   ]
  },
  {
   "cell_type": "code",
   "execution_count": 44,
   "metadata": {},
   "outputs": [
    {
     "name": "stdout",
     "output_type": "stream",
     "text": [
      "Model: \"sequential\"\n",
      "_________________________________________________________________\n",
      " Layer (type)                Output Shape              Param #   \n",
      "=================================================================\n",
      " flatten (Flatten)           (None, 575)               0         \n",
      "                                                                 \n",
      " dense (Dense)               (None, 32)                18432     \n",
      "                                                                 \n",
      " dropout (Dropout)           (None, 32)                0         \n",
      "                                                                 \n",
      " dense_1 (Dense)             (None, 32)                1056      \n",
      "                                                                 \n",
      " dropout_1 (Dropout)         (None, 32)                0         \n",
      "                                                                 \n",
      " dense_2 (Dense)             (None, 32)                1056      \n",
      "                                                                 \n",
      " dropout_2 (Dropout)         (None, 32)                0         \n",
      "                                                                 \n",
      " dense_3 (Dense)             (None, 3)                 99        \n",
      "                                                                 \n",
      "=================================================================\n",
      "Total params: 20,643\n",
      "Trainable params: 20,643\n",
      "Non-trainable params: 0\n",
      "_________________________________________________________________\n",
      "None\n"
     ]
    },
    {
     "name": "stderr",
     "output_type": "stream",
     "text": [
      "2023-03-12 16:36:35.099468: I tensorflow/compiler/xla/stream_executor/cuda/cuda_gpu_executor.cc:981] successful NUMA node read from SysFS had negative value (-1), but there must be at least one NUMA node, so returning NUMA node zero\n",
      "2023-03-12 16:36:35.101801: I tensorflow/compiler/xla/stream_executor/cuda/cuda_gpu_executor.cc:981] successful NUMA node read from SysFS had negative value (-1), but there must be at least one NUMA node, so returning NUMA node zero\n",
      "2023-03-12 16:36:35.101970: I tensorflow/compiler/xla/stream_executor/cuda/cuda_gpu_executor.cc:981] successful NUMA node read from SysFS had negative value (-1), but there must be at least one NUMA node, so returning NUMA node zero\n",
      "2023-03-12 16:36:35.102382: I tensorflow/core/platform/cpu_feature_guard.cc:193] This TensorFlow binary is optimized with oneAPI Deep Neural Network Library (oneDNN) to use the following CPU instructions in performance-critical operations:  AVX2 FMA\n",
      "To enable them in other operations, rebuild TensorFlow with the appropriate compiler flags.\n",
      "2023-03-12 16:36:35.102834: I tensorflow/compiler/xla/stream_executor/cuda/cuda_gpu_executor.cc:981] successful NUMA node read from SysFS had negative value (-1), but there must be at least one NUMA node, so returning NUMA node zero\n",
      "2023-03-12 16:36:35.102963: I tensorflow/compiler/xla/stream_executor/cuda/cuda_gpu_executor.cc:981] successful NUMA node read from SysFS had negative value (-1), but there must be at least one NUMA node, so returning NUMA node zero\n",
      "2023-03-12 16:36:35.103073: I tensorflow/compiler/xla/stream_executor/cuda/cuda_gpu_executor.cc:981] successful NUMA node read from SysFS had negative value (-1), but there must be at least one NUMA node, so returning NUMA node zero\n",
      "2023-03-12 16:36:35.334377: I tensorflow/compiler/xla/stream_executor/cuda/cuda_gpu_executor.cc:981] successful NUMA node read from SysFS had negative value (-1), but there must be at least one NUMA node, so returning NUMA node zero\n",
      "2023-03-12 16:36:35.334535: I tensorflow/compiler/xla/stream_executor/cuda/cuda_gpu_executor.cc:981] successful NUMA node read from SysFS had negative value (-1), but there must be at least one NUMA node, so returning NUMA node zero\n",
      "2023-03-12 16:36:35.334641: I tensorflow/compiler/xla/stream_executor/cuda/cuda_gpu_executor.cc:981] successful NUMA node read from SysFS had negative value (-1), but there must be at least one NUMA node, so returning NUMA node zero\n",
      "2023-03-12 16:36:35.334724: I tensorflow/core/common_runtime/gpu/gpu_device.cc:1613] Created device /job:localhost/replica:0/task:0/device:GPU:0 with 9761 MB memory:  -> device: 0, name: NVIDIA GeForce RTX 3080 Ti, pci bus id: 0000:07:00.0, compute capability: 8.6\n"
     ]
    }
   ],
   "source": [
    "def get_model(input_shape: tuple, output_shape:int) -> keras.models:\n",
    "    model = Sequential()\n",
    "    model.add(Flatten(input_shape=input_shape))\n",
    "    model.add(Dense(32, activation='relu'))\n",
    "    model.add(Dropout(0.25))\n",
    "    model.add(Dense(32, activation='relu'))\n",
    "    model.add(Dropout(0.25))\n",
    "    model.add(Dense(32, activation='sigmoid'))\n",
    "    model.add(Dropout(0.25))\n",
    "\n",
    "    # Add a dense layer for output\n",
    "    model.add(Dense(output_shape, activation='sigmoid'))\n",
    "    \n",
    "    return model\n",
    "\n",
    "# define the input shape\n",
    "input_data = good_student_features['train'][level_group]\n",
    "input_shape = (input_data.shape[1], input_data.shape[2], input_data.shape[3])\n",
    "\n",
    "# define the output shape\n",
    "output_data = good_student_target['train'][level_group]\n",
    "output_shape = output_data.shape[1]\n",
    "\n",
    "# get the model\n",
    "model = get_model(input_shape=input_shape, output_shape=output_shape)\n",
    "print(model.summary())"
   ]
  },
  {
   "cell_type": "code",
   "execution_count": 45,
   "metadata": {},
   "outputs": [
    {
     "name": "stdout",
     "output_type": "stream",
     "text": [
      "Epoch 1/40\n",
      "25/36 [===================>..........] - ETA: 0s - loss: 0.8459 - accuracy: 0.1932 "
     ]
    },
    {
     "name": "stderr",
     "output_type": "stream",
     "text": [
      "2023-03-12 16:36:36.400495: I tensorflow/compiler/xla/stream_executor/cuda/cuda_blas.cc:630] TensorFloat-32 will be used for the matrix multiplication. This will only be logged once.\n"
     ]
    },
    {
     "name": "stdout",
     "output_type": "stream",
     "text": [
      "36/36 [==============================] - 1s 6ms/step - loss: 0.8103 - accuracy: 0.1990 - val_loss: 0.6766 - val_accuracy: 0.1842\n",
      "Epoch 2/40\n",
      "36/36 [==============================] - 0s 3ms/step - loss: 0.6355 - accuracy: 0.4108 - val_loss: 0.5920 - val_accuracy: 0.5102\n",
      "Epoch 3/40\n",
      "36/36 [==============================] - 0s 3ms/step - loss: 0.6032 - accuracy: 0.5049 - val_loss: 0.5875 - val_accuracy: 0.5102\n",
      "Epoch 4/40\n",
      "36/36 [==============================] - 0s 3ms/step - loss: 0.5962 - accuracy: 0.5090 - val_loss: 0.5812 - val_accuracy: 0.5102\n",
      "Epoch 5/40\n",
      "36/36 [==============================] - 0s 3ms/step - loss: 0.5868 - accuracy: 0.5142 - val_loss: 0.5718 - val_accuracy: 0.5157\n",
      "Epoch 6/40\n",
      "36/36 [==============================] - 0s 3ms/step - loss: 0.5766 - accuracy: 0.5301 - val_loss: 0.5615 - val_accuracy: 0.5433\n",
      "Epoch 7/40\n",
      "36/36 [==============================] - 0s 3ms/step - loss: 0.5670 - accuracy: 0.5477 - val_loss: 0.5548 - val_accuracy: 0.5628\n",
      "Epoch 8/40\n",
      "36/36 [==============================] - 0s 3ms/step - loss: 0.5623 - accuracy: 0.5529 - val_loss: 0.5525 - val_accuracy: 0.5569\n",
      "Epoch 9/40\n",
      "36/36 [==============================] - 0s 3ms/step - loss: 0.5595 - accuracy: 0.5562 - val_loss: 0.5517 - val_accuracy: 0.5581\n",
      "Epoch 10/40\n",
      "36/36 [==============================] - 0s 3ms/step - loss: 0.5568 - accuracy: 0.5604 - val_loss: 0.5510 - val_accuracy: 0.5607\n",
      "Epoch 11/40\n",
      "36/36 [==============================] - 0s 3ms/step - loss: 0.5552 - accuracy: 0.5595 - val_loss: 0.5503 - val_accuracy: 0.5598\n",
      "Epoch 12/40\n",
      "36/36 [==============================] - 0s 3ms/step - loss: 0.5543 - accuracy: 0.5590 - val_loss: 0.5499 - val_accuracy: 0.5598\n",
      "Epoch 13/40\n",
      "36/36 [==============================] - 0s 3ms/step - loss: 0.5528 - accuracy: 0.5605 - val_loss: 0.5497 - val_accuracy: 0.5603\n",
      "Epoch 14/40\n",
      "36/36 [==============================] - 0s 3ms/step - loss: 0.5520 - accuracy: 0.5619 - val_loss: 0.5495 - val_accuracy: 0.5624\n",
      "Epoch 15/40\n",
      "36/36 [==============================] - 0s 3ms/step - loss: 0.5510 - accuracy: 0.5634 - val_loss: 0.5502 - val_accuracy: 0.5641\n",
      "Epoch 16/40\n",
      "36/36 [==============================] - 0s 3ms/step - loss: 0.5504 - accuracy: 0.5636 - val_loss: 0.5495 - val_accuracy: 0.5624\n",
      "Epoch 17/40\n",
      "36/36 [==============================] - 0s 3ms/step - loss: 0.5496 - accuracy: 0.5639 - val_loss: 0.5486 - val_accuracy: 0.5620\n",
      "Epoch 18/40\n",
      "36/36 [==============================] - 0s 3ms/step - loss: 0.5486 - accuracy: 0.5634 - val_loss: 0.5483 - val_accuracy: 0.5628\n",
      "Epoch 19/40\n",
      "36/36 [==============================] - 0s 3ms/step - loss: 0.5483 - accuracy: 0.5648 - val_loss: 0.5482 - val_accuracy: 0.5662\n",
      "Epoch 20/40\n",
      "36/36 [==============================] - 0s 3ms/step - loss: 0.5474 - accuracy: 0.5661 - val_loss: 0.5479 - val_accuracy: 0.5611\n",
      "Epoch 21/40\n",
      "36/36 [==============================] - 0s 3ms/step - loss: 0.5466 - accuracy: 0.5650 - val_loss: 0.5481 - val_accuracy: 0.5615\n",
      "Epoch 22/40\n",
      "36/36 [==============================] - 0s 3ms/step - loss: 0.5466 - accuracy: 0.5653 - val_loss: 0.5484 - val_accuracy: 0.5683\n",
      "Epoch 23/40\n",
      "36/36 [==============================] - 0s 3ms/step - loss: 0.5456 - accuracy: 0.5664 - val_loss: 0.5475 - val_accuracy: 0.5615\n",
      "Epoch 24/40\n",
      "36/36 [==============================] - 0s 3ms/step - loss: 0.5454 - accuracy: 0.5669 - val_loss: 0.5473 - val_accuracy: 0.5671\n",
      "Epoch 25/40\n",
      "36/36 [==============================] - 0s 3ms/step - loss: 0.5445 - accuracy: 0.5673 - val_loss: 0.5473 - val_accuracy: 0.5700\n",
      "Epoch 26/40\n",
      "36/36 [==============================] - 0s 3ms/step - loss: 0.5441 - accuracy: 0.5679 - val_loss: 0.5472 - val_accuracy: 0.5637\n",
      "Epoch 27/40\n",
      "36/36 [==============================] - 0s 3ms/step - loss: 0.5432 - accuracy: 0.5666 - val_loss: 0.5471 - val_accuracy: 0.5671\n",
      "Epoch 28/40\n",
      "36/36 [==============================] - 0s 3ms/step - loss: 0.5426 - accuracy: 0.5690 - val_loss: 0.5471 - val_accuracy: 0.5671\n",
      "Epoch 29/40\n",
      "36/36 [==============================] - 0s 3ms/step - loss: 0.5424 - accuracy: 0.5686 - val_loss: 0.5469 - val_accuracy: 0.5675\n",
      "Epoch 30/40\n",
      "36/36 [==============================] - 0s 3ms/step - loss: 0.5419 - accuracy: 0.5698 - val_loss: 0.5486 - val_accuracy: 0.5671\n",
      "Epoch 31/40\n",
      "36/36 [==============================] - 0s 3ms/step - loss: 0.5412 - accuracy: 0.5689 - val_loss: 0.5484 - val_accuracy: 0.5662\n",
      "Epoch 32/40\n",
      "36/36 [==============================] - 0s 3ms/step - loss: 0.5400 - accuracy: 0.5694 - val_loss: 0.5469 - val_accuracy: 0.5671\n",
      "Epoch 33/40\n",
      "36/36 [==============================] - 0s 3ms/step - loss: 0.5397 - accuracy: 0.5704 - val_loss: 0.5465 - val_accuracy: 0.5683\n",
      "Epoch 34/40\n",
      "36/36 [==============================] - 0s 3ms/step - loss: 0.5389 - accuracy: 0.5713 - val_loss: 0.5468 - val_accuracy: 0.5675\n",
      "Epoch 35/40\n",
      "36/36 [==============================] - 0s 3ms/step - loss: 0.5381 - accuracy: 0.5716 - val_loss: 0.5466 - val_accuracy: 0.5671\n",
      "Epoch 36/40\n",
      "36/36 [==============================] - 0s 3ms/step - loss: 0.5374 - accuracy: 0.5738 - val_loss: 0.5469 - val_accuracy: 0.5671\n",
      "Epoch 37/40\n",
      "36/36 [==============================] - 0s 3ms/step - loss: 0.5359 - accuracy: 0.5750 - val_loss: 0.5468 - val_accuracy: 0.5675\n",
      "Epoch 38/40\n",
      "36/36 [==============================] - 0s 3ms/step - loss: 0.5360 - accuracy: 0.5736 - val_loss: 0.5467 - val_accuracy: 0.5666\n",
      "Epoch 39/40\n",
      "36/36 [==============================] - 0s 3ms/step - loss: 0.5350 - accuracy: 0.5742 - val_loss: 0.5469 - val_accuracy: 0.5654\n",
      "Epoch 40/40\n",
      "36/36 [==============================] - 0s 3ms/step - loss: 0.5341 - accuracy: 0.5758 - val_loss: 0.5482 - val_accuracy: 0.5615\n"
     ]
    },
    {
     "data": {
      "image/png": "[encoded data removed]",
      "text/plain": [
       "<Figure size 500x300 with 1 Axes>"
      ]
     },
     "metadata": {},
     "output_type": "display_data"
    },
    {
     "data": {
      "image/png": "[encoded data removed]",
      "text/plain": [
       "<Figure size 500x300 with 1 Axes>"
      ]
     },
     "metadata": {},
     "output_type": "display_data"
    },
    {
     "name": "stdout",
     "output_type": "stream",
     "text": [
      "737/737 [==============================] - 0s 531us/step\n",
      "              precision    recall  f1-score   support\n",
      "\n",
      "           0       0.33      0.00      0.00      4230\n",
      "           1       0.59      0.74      0.66     12390\n",
      "           2       0.60      0.48      0.53      6940\n",
      "\n",
      "   micro avg       0.59      0.53      0.56     23560\n",
      "   macro avg       0.51      0.41      0.40     23560\n",
      "weighted avg       0.54      0.53      0.50     23560\n",
      " samples avg       0.63      0.53      0.53     23560\n",
      "\n",
      "Optimized threshold for best F1: 0.50\n"
     ]
    }
   ],
   "source": [
    "_, _ = train_and_test_model(\n",
    "    model=model,\n",
    "    X_train=good_student_features['train'][level_group],\n",
    "    y_train=good_student_target['train'][level_group],\n",
    "    X_val=good_student_features['val'][level_group],\n",
    "    y_val=good_student_target['val'][level_group],\n",
    "    X_test=good_student_features['test'][level_group],\n",
    "    y_test=good_student_target['test'][level_group],\n",
    "    epochs=40,\n",
    "    batch_size=2000,\n",
    "    optimizer=optimizers.RMSprop(learning_rate=0.001),\n",
    "    loss='binary_crossentropy',\n",
    "    metrics=['accuracy'])"
   ]
  },
  {
   "attachments": {},
   "cell_type": "markdown",
   "metadata": {},
   "source": [
    "## Elapsed Time"
   ]
  },
  {
   "cell_type": "code",
   "execution_count": 46,
   "metadata": {},
   "outputs": [
    {
     "name": "stdout",
     "output_type": "stream",
     "text": [
      "input_shape: 1\n",
      "output_shape 3\n"
     ]
    }
   ],
   "source": [
    "# define the input shape\n",
    "input_data = good_student_elapsed_time['train'][level_group]\n",
    "input_shape = (input_data.shape[1])\n",
    "print('input_shape:', input_shape)\n",
    "\n",
    "# define the output shape\n",
    "output_data = good_student_target['train'][level_group]\n",
    "output_shape = output_data.shape[1]\n",
    "print('output_shape', output_shape)"
   ]
  },
  {
   "cell_type": "code",
   "execution_count": 47,
   "metadata": {},
   "outputs": [
    {
     "name": "stdout",
     "output_type": "stream",
     "text": [
      "Model: \"sequential_1\"\n",
      "_________________________________________________________________\n",
      " Layer (type)                Output Shape              Param #   \n",
      "=================================================================\n",
      " dense_4 (Dense)             (None, 32)                64        \n",
      "                                                                 \n",
      " dense_5 (Dense)             (None, 64)                2112      \n",
      "                                                                 \n",
      " dense_6 (Dense)             (None, 3)                 195       \n",
      "                                                                 \n",
      "=================================================================\n",
      "Total params: 2,371\n",
      "Trainable params: 2,371\n",
      "Non-trainable params: 0\n",
      "_________________________________________________________________\n",
      "None\n"
     ]
    }
   ],
   "source": [
    "model = Sequential()\n",
    "model.add(Dense(32, input_shape=(input_shape,), activation='relu'))\n",
    "model.add(Dense(64, activation='sigmoid'))\n",
    "\n",
    "# Add a dense layer for output\n",
    "model.add(Dense(output_shape, activation='sigmoid'))\n",
    "\n",
    "print(model.summary())"
   ]
  },
  {
   "cell_type": "code",
   "execution_count": 48,
   "metadata": {},
   "outputs": [
    {
     "name": "stdout",
     "output_type": "stream",
     "text": [
      "Epoch 1/10\n",
      "142/142 [==============================] - 1s 2ms/step - loss: 0.7762 - accuracy: 0.2986 - val_loss: 0.7186 - val_accuracy: 0.3060\n",
      "Epoch 2/10\n",
      "142/142 [==============================] - 0s 1ms/step - loss: 0.6809 - accuracy: 0.2986 - val_loss: 0.6436 - val_accuracy: 0.3060\n",
      "Epoch 3/10\n",
      "142/142 [==============================] - 0s 1ms/step - loss: 0.6240 - accuracy: 0.4570 - val_loss: 0.6050 - val_accuracy: 0.5102\n",
      "Epoch 4/10\n",
      "142/142 [==============================] - 0s 1ms/step - loss: 0.6009 - accuracy: 0.5101 - val_loss: 0.5959 - val_accuracy: 0.5102\n",
      "Epoch 5/10\n",
      "142/142 [==============================] - 0s 1ms/step - loss: 0.5974 - accuracy: 0.5101 - val_loss: 0.5957 - val_accuracy: 0.5102\n",
      "Epoch 6/10\n",
      "142/142 [==============================] - 0s 1ms/step - loss: 0.5972 - accuracy: 0.5101 - val_loss: 0.5956 - val_accuracy: 0.5102\n",
      "Epoch 7/10\n",
      "142/142 [==============================] - 0s 1ms/step - loss: 0.5970 - accuracy: 0.5101 - val_loss: 0.5955 - val_accuracy: 0.5102\n",
      "Epoch 8/10\n",
      "142/142 [==============================] - 0s 2ms/step - loss: 0.5968 - accuracy: 0.5101 - val_loss: 0.5953 - val_accuracy: 0.5102\n",
      "Epoch 9/10\n",
      "142/142 [==============================] - 0s 2ms/step - loss: 0.5967 - accuracy: 0.5101 - val_loss: 0.5952 - val_accuracy: 0.5102\n",
      "Epoch 10/10\n",
      "142/142 [==============================] - 0s 2ms/step - loss: 0.5965 - accuracy: 0.5101 - val_loss: 0.5950 - val_accuracy: 0.5102\n"
     ]
    },
    {
     "data": {
      "image/png": "[encoded data removed]",
      "text/plain": [
       "<Figure size 500x300 with 1 Axes>"
      ]
     },
     "metadata": {},
     "output_type": "display_data"
    },
    {
     "data": {
      "image/png": "[encoded data removed]",
      "text/plain": [
       "<Figure size 500x300 with 1 Axes>"
      ]
     },
     "metadata": {},
     "output_type": "display_data"
    },
    {
     "name": "stdout",
     "output_type": "stream",
     "text": [
      "737/737 [==============================] - 0s 459us/step\n",
      "              precision    recall  f1-score   support\n",
      "\n",
      "           0       1.00      0.00      0.00      4230\n",
      "           1       0.53      0.94      0.68     12390\n",
      "           2       1.00      0.00      0.00      6940\n",
      "\n",
      "   micro avg       0.53      0.49      0.51     23560\n",
      "   macro avg       0.84      0.31      0.23     23560\n",
      "weighted avg       0.75      0.49      0.36     23560\n",
      " samples avg       0.56      0.49      0.49     23560\n",
      "\n",
      "Optimized threshold for best F1: 0.50\n"
     ]
    }
   ],
   "source": [
    "_, _ = train_and_test_model(\n",
    "    model=model,\n",
    "    X_train=good_student_elapsed_time['train'][level_group],\n",
    "    y_train=good_student_target['train'][level_group],\n",
    "    X_val=good_student_elapsed_time['val'][level_group],\n",
    "    y_val=good_student_target['val'][level_group],\n",
    "    X_test=good_student_elapsed_time['test'][level_group],\n",
    "    y_test=good_student_target['test'][level_group],\n",
    "    epochs=10,\n",
    "    batch_size=500,\n",
    "    optimizer=optimizers.RMSprop(learning_rate=0.0001),\n",
    "    loss='binary_crossentropy',\n",
    "    metrics=['accuracy'])"
   ]
  },
  {
   "attachments": {},
   "cell_type": "markdown",
   "metadata": {},
   "source": [
    "### Merged Model"
   ]
  },
  {
   "cell_type": "code",
   "execution_count": 49,
   "metadata": {},
   "outputs": [
    {
     "name": "stdout",
     "output_type": "stream",
     "text": [
      "elapsed_input_shape 1\n",
      "elapsed_output_shape 3\n"
     ]
    }
   ],
   "source": [
    "# elapsed time input and output shapes\n",
    "elapsed_input_data = good_student_elapsed_time['train'][level_group]\n",
    "elapsed_input_shape = (elapsed_input_data.shape[1])\n",
    "print('elapsed_input_shape', elapsed_input_shape)\n",
    "#print('elapsed_input_data:', elapsed_input_data)\n",
    "\n",
    "elapsed_output_data = good_student_target['train'][level_group]\n",
    "elapsed_output_shape = elapsed_output_data.shape[1]\n",
    "print('elapsed_output_shape', elapsed_output_shape)"
   ]
  },
  {
   "cell_type": "code",
   "execution_count": 50,
   "metadata": {},
   "outputs": [
    {
     "name": "stdout",
     "output_type": "stream",
     "text": [
      "screen_input_shape: (23, 5, 5)\n",
      "screen_output_shape 3\n"
     ]
    }
   ],
   "source": [
    "# screen heatmap input and output shapes\n",
    "screen_input_data = good_student_features['train'][level_group]\n",
    "screen_input_shape = (screen_input_data.shape[1], screen_input_data.shape[2], screen_input_data.shape[3])\n",
    "print('screen_input_shape:', screen_input_shape)\n",
    "\n",
    "screen_output_data = good_student_target['train'][level_group]\n",
    "screen_output_shape = screen_output_data.shape[1]\n",
    "print('screen_output_shape', screen_output_shape)"
   ]
  },
  {
   "cell_type": "code",
   "execution_count": 51,
   "metadata": {},
   "outputs": [
    {
     "data": {
      "image/png": "[encoded data removed]",
      "text/plain": [
       "<IPython.core.display.Image object>"
      ]
     },
     "execution_count": 51,
     "metadata": {},
     "output_type": "execute_result"
    }
   ],
   "source": [
    "# the layers for the screen heatmap data\n",
    "screen_input = Input(shape=screen_input_shape)\n",
    "heatmap_layers = Flatten()(screen_input)\n",
    "heatmap_layers = Dense(32, activation='relu')(heatmap_layers)\n",
    "heatmap_layers = Dropout(0.25)(heatmap_layers)\n",
    "heatmap_layers = Dense(32, activation='relu')(heatmap_layers)\n",
    "heatmap_layers = Dropout(0.25)(heatmap_layers)\n",
    "heatmap_layers = Dense(32, activation='sigmoid')(heatmap_layers)\n",
    "heatmap_layers = Dropout(0.25)(heatmap_layers)\n",
    "\n",
    "# concatenate flattened image branch with input features\n",
    "elapsed_input = Input(shape=(elapsed_input_shape,))\n",
    "concat = concatenate([heatmap_layers, elapsed_input])\n",
    "\n",
    "# the layers for the elapsed time data\n",
    "elapsed_layers = Dense(32, input_shape=(input_shape,), activation='relu')(concat)\n",
    "elapsed_layers = Dense(64, activation='sigmoid')(elapsed_layers)\n",
    "\n",
    "# define the output\n",
    "output = Dense(elapsed_output_shape, activation='sigmoid')(elapsed_layers)\n",
    "\n",
    "# create the model\n",
    "model = Model(inputs=[screen_input, elapsed_input], outputs=output)\n",
    "\n",
    "# plot the model architecture\n",
    "#model.summary()\n",
    "keras.utils.plot_model(model, show_shapes=True)"
   ]
  },
  {
   "cell_type": "code",
   "execution_count": 52,
   "metadata": {},
   "outputs": [
    {
     "name": "stdout",
     "output_type": "stream",
     "text": [
      "Epoch 1/40\n",
      "36/36 [==============================] - 1s 7ms/step - loss: 0.6336 - accuracy: 0.5101 - val_loss: 0.5951 - val_accuracy: 0.5102\n",
      "Epoch 2/40\n",
      "36/36 [==============================] - 0s 3ms/step - loss: 0.5967 - accuracy: 0.5101 - val_loss: 0.5935 - val_accuracy: 0.5102\n",
      "Epoch 3/40\n",
      "36/36 [==============================] - 0s 3ms/step - loss: 0.5928 - accuracy: 0.5104 - val_loss: 0.5836 - val_accuracy: 0.5123\n",
      "Epoch 4/40\n",
      "36/36 [==============================] - 0s 4ms/step - loss: 0.5785 - accuracy: 0.5317 - val_loss: 0.5623 - val_accuracy: 0.5548\n",
      "Epoch 5/40\n",
      "36/36 [==============================] - 0s 4ms/step - loss: 0.5646 - accuracy: 0.5513 - val_loss: 0.5548 - val_accuracy: 0.5615\n",
      "Epoch 6/40\n",
      "36/36 [==============================] - 0s 3ms/step - loss: 0.5596 - accuracy: 0.5559 - val_loss: 0.5521 - val_accuracy: 0.5569\n",
      "Epoch 7/40\n",
      "36/36 [==============================] - 0s 3ms/step - loss: 0.5563 - accuracy: 0.5581 - val_loss: 0.5519 - val_accuracy: 0.5581\n",
      "Epoch 8/40\n",
      "36/36 [==============================] - 0s 3ms/step - loss: 0.5543 - accuracy: 0.5590 - val_loss: 0.5527 - val_accuracy: 0.5620\n",
      "Epoch 9/40\n",
      "36/36 [==============================] - 0s 3ms/step - loss: 0.5527 - accuracy: 0.5599 - val_loss: 0.5501 - val_accuracy: 0.5624\n",
      "Epoch 10/40\n",
      "36/36 [==============================] - 0s 3ms/step - loss: 0.5515 - accuracy: 0.5616 - val_loss: 0.5512 - val_accuracy: 0.5632\n",
      "Epoch 11/40\n",
      "36/36 [==============================] - 0s 4ms/step - loss: 0.5504 - accuracy: 0.5639 - val_loss: 0.5488 - val_accuracy: 0.5624\n",
      "Epoch 12/40\n",
      "36/36 [==============================] - 0s 3ms/step - loss: 0.5490 - accuracy: 0.5627 - val_loss: 0.5505 - val_accuracy: 0.5641\n",
      "Epoch 13/40\n",
      "36/36 [==============================] - 0s 4ms/step - loss: 0.5485 - accuracy: 0.5629 - val_loss: 0.5481 - val_accuracy: 0.5645\n",
      "Epoch 14/40\n",
      "36/36 [==============================] - 0s 4ms/step - loss: 0.5477 - accuracy: 0.5641 - val_loss: 0.5496 - val_accuracy: 0.5632\n",
      "Epoch 15/40\n",
      "36/36 [==============================] - 0s 3ms/step - loss: 0.5474 - accuracy: 0.5649 - val_loss: 0.5483 - val_accuracy: 0.5641\n",
      "Epoch 16/40\n",
      "36/36 [==============================] - 0s 3ms/step - loss: 0.5464 - accuracy: 0.5652 - val_loss: 0.5475 - val_accuracy: 0.5637\n",
      "Epoch 17/40\n",
      "36/36 [==============================] - 0s 4ms/step - loss: 0.5460 - accuracy: 0.5650 - val_loss: 0.5481 - val_accuracy: 0.5662\n",
      "Epoch 18/40\n",
      "36/36 [==============================] - 0s 3ms/step - loss: 0.5452 - accuracy: 0.5678 - val_loss: 0.5487 - val_accuracy: 0.5654\n",
      "Epoch 19/40\n",
      "36/36 [==============================] - 0s 4ms/step - loss: 0.5448 - accuracy: 0.5677 - val_loss: 0.5498 - val_accuracy: 0.5688\n",
      "Epoch 20/40\n",
      "36/36 [==============================] - 0s 3ms/step - loss: 0.5444 - accuracy: 0.5680 - val_loss: 0.5504 - val_accuracy: 0.5679\n",
      "Epoch 21/40\n",
      "36/36 [==============================] - 0s 3ms/step - loss: 0.5438 - accuracy: 0.5680 - val_loss: 0.5467 - val_accuracy: 0.5683\n",
      "Epoch 22/40\n",
      "36/36 [==============================] - 0s 3ms/step - loss: 0.5435 - accuracy: 0.5675 - val_loss: 0.5466 - val_accuracy: 0.5654\n",
      "Epoch 23/40\n",
      "36/36 [==============================] - 0s 4ms/step - loss: 0.5422 - accuracy: 0.5709 - val_loss: 0.5465 - val_accuracy: 0.5675\n",
      "Epoch 24/40\n",
      "36/36 [==============================] - 0s 3ms/step - loss: 0.5420 - accuracy: 0.5706 - val_loss: 0.5469 - val_accuracy: 0.5688\n",
      "Epoch 25/40\n",
      "36/36 [==============================] - 0s 4ms/step - loss: 0.5415 - accuracy: 0.5715 - val_loss: 0.5470 - val_accuracy: 0.5696\n",
      "Epoch 26/40\n",
      "36/36 [==============================] - 0s 3ms/step - loss: 0.5409 - accuracy: 0.5729 - val_loss: 0.5501 - val_accuracy: 0.5688\n",
      "Epoch 27/40\n",
      "36/36 [==============================] - 0s 4ms/step - loss: 0.5407 - accuracy: 0.5735 - val_loss: 0.5481 - val_accuracy: 0.5688\n",
      "Epoch 28/40\n",
      "36/36 [==============================] - 0s 4ms/step - loss: 0.5403 - accuracy: 0.5734 - val_loss: 0.5473 - val_accuracy: 0.5692\n",
      "Epoch 29/40\n",
      "36/36 [==============================] - 0s 4ms/step - loss: 0.5398 - accuracy: 0.5743 - val_loss: 0.5469 - val_accuracy: 0.5705\n",
      "Epoch 30/40\n",
      "36/36 [==============================] - 0s 3ms/step - loss: 0.5385 - accuracy: 0.5760 - val_loss: 0.5490 - val_accuracy: 0.5675\n",
      "Epoch 31/40\n",
      "36/36 [==============================] - 0s 3ms/step - loss: 0.5389 - accuracy: 0.5759 - val_loss: 0.5505 - val_accuracy: 0.5705\n",
      "Epoch 32/40\n",
      "36/36 [==============================] - 0s 3ms/step - loss: 0.5380 - accuracy: 0.5764 - val_loss: 0.5479 - val_accuracy: 0.5700\n",
      "Epoch 33/40\n",
      "36/36 [==============================] - 0s 4ms/step - loss: 0.5373 - accuracy: 0.5775 - val_loss: 0.5502 - val_accuracy: 0.5713\n",
      "Epoch 34/40\n",
      "36/36 [==============================] - 0s 3ms/step - loss: 0.5369 - accuracy: 0.5785 - val_loss: 0.5484 - val_accuracy: 0.5709\n",
      "Epoch 35/40\n",
      "36/36 [==============================] - 0s 4ms/step - loss: 0.5367 - accuracy: 0.5783 - val_loss: 0.5485 - val_accuracy: 0.5705\n",
      "Epoch 36/40\n",
      "36/36 [==============================] - 0s 4ms/step - loss: 0.5357 - accuracy: 0.5796 - val_loss: 0.5496 - val_accuracy: 0.5683\n",
      "Epoch 37/40\n",
      "36/36 [==============================] - 0s 4ms/step - loss: 0.5363 - accuracy: 0.5784 - val_loss: 0.5485 - val_accuracy: 0.5743\n",
      "Epoch 38/40\n",
      "36/36 [==============================] - 0s 4ms/step - loss: 0.5347 - accuracy: 0.5811 - val_loss: 0.5513 - val_accuracy: 0.5692\n",
      "Epoch 39/40\n",
      "36/36 [==============================] - 0s 4ms/step - loss: 0.5344 - accuracy: 0.5815 - val_loss: 0.5488 - val_accuracy: 0.5734\n",
      "Epoch 40/40\n",
      "36/36 [==============================] - 0s 3ms/step - loss: 0.5333 - accuracy: 0.5844 - val_loss: 0.5509 - val_accuracy: 0.5743\n"
     ]
    },
    {
     "data": {
      "image/png": "[encoded data removed]",
      "text/plain": [
       "<Figure size 500x300 with 1 Axes>"
      ]
     },
     "metadata": {},
     "output_type": "display_data"
    },
    {
     "data": {
      "image/png": "[encoded data removed]",
      "text/plain": [
       "<Figure size 500x300 with 1 Axes>"
      ]
     },
     "metadata": {},
     "output_type": "display_data"
    },
    {
     "name": "stdout",
     "output_type": "stream",
     "text": [
      "737/737 [==============================] - 0s 591us/step\n",
      "              precision    recall  f1-score   support\n",
      "\n",
      "           0       1.00      0.00      0.00      4230\n",
      "           1       0.58      0.81      0.67     12390\n",
      "           2       0.64      0.36      0.46      6940\n",
      "\n",
      "   micro avg       0.59      0.53      0.56     23560\n",
      "   macro avg       0.74      0.39      0.38     23560\n",
      "weighted avg       0.67      0.53      0.49     23560\n",
      " samples avg       0.63      0.53      0.53     23560\n",
      "\n",
      "Optimized threshold for best F1: 0.50\n"
     ]
    }
   ],
   "source": [
    "#class_weight = {0: 2, 1: 1.0}\n",
    "class_weight = None\n",
    "\n",
    "# compile the model\n",
    "model.compile(\n",
    "    optimizer=optimizers.RMSprop(learning_rate=0.001),\n",
    "    loss='binary_crossentropy',\n",
    "    metrics=['accuracy'])\n",
    "\n",
    "X_train = [\n",
    "    good_student_features['train'][level_group],\n",
    "    good_student_elapsed_time['train'][level_group]\n",
    "]\n",
    "y_train = good_student_target['train'][level_group]\n",
    "\n",
    "X_val = [\n",
    "    good_student_features['val'][level_group],\n",
    "    good_student_elapsed_time['val'][level_group]\n",
    "]\n",
    "y_val = good_student_target['val'][level_group]\n",
    "\n",
    "X_test = [\n",
    "    good_student_features['test'][level_group],\n",
    "    good_student_elapsed_time['test'][level_group]\n",
    "]\n",
    "y_test = good_student_target['test'][level_group]\n",
    "\n",
    "_, _ = train_and_test_model(\n",
    "    model=model,\n",
    "    X_train = X_train,\n",
    "    y_train=y_train,\n",
    "    X_val = X_val,\n",
    "    y_val=y_val,\n",
    "    X_test = X_test,\n",
    "    y_test=y_test,\n",
    "    epochs=40,\n",
    "    batch_size=2000,\n",
    "    optimizer=optimizers.RMSprop(learning_rate=0.001),\n",
    "    loss='binary_crossentropy',\n",
    "    metrics=['accuracy'],\n",
    "    class_weight=class_weight)"
   ]
  },
  {
   "attachments": {},
   "cell_type": "markdown",
   "metadata": {},
   "source": [
    "## Correct Prediction"
   ]
  },
  {
   "cell_type": "code",
   "execution_count": 53,
   "metadata": {},
   "outputs": [],
   "source": [
    "def train_correct(model,\n",
    "                  feature_dataset, \n",
    "                  target_dataset,\n",
    "                  epochs=10,\n",
    "                  batch_size=500,\n",
    "                  optimizer=optimizers.RMSprop(learning_rate=0.0001),\n",
    "                  loss='binary_crossentropy',\n",
    "                  metrics=['accuracy'],\n",
    "                  class_weight=None):\n",
    "    _, _ = train_and_test_model(\n",
    "        model=model,\n",
    "        X_train=feature_dataset['train'],\n",
    "        y_train=target_dataset['train'],\n",
    "        X_val=feature_dataset['val'],\n",
    "        y_val=target_dataset['val'],\n",
    "        X_test=feature_dataset['test'],\n",
    "        y_test=target_dataset['test'],\n",
    "        epochs=epochs,\n",
    "        batch_size=batch_size,\n",
    "        optimizer=optimizer,\n",
    "        loss=loss,\n",
    "        metrics=metrics,\n",
    "        class_weight=class_weight)"
   ]
  },
  {
   "attachments": {},
   "cell_type": "markdown",
   "metadata": {},
   "source": [
    "### Get Datasets"
   ]
  },
  {
   "cell_type": "code",
   "execution_count": 54,
   "metadata": {},
   "outputs": [],
   "source": [
    "# get the answers\n",
    "answers_dataset = {}\n",
    "for session_list, name in [(train, 'train'), (val, 'val'), (test, 'test')]:\n",
    "    answers_dataset[name] = create_answers_dataset(session_list, df_source_labels)\n"
   ]
  },
  {
   "cell_type": "code",
   "execution_count": 55,
   "metadata": {},
   "outputs": [],
   "source": [
    "def get_feature_dataset(feature_list:list, include_question:bool=True) -> np.array:\n",
    "    feature_dataset = {}\n",
    "    for session_list, name in [(train, 'train'), (val, 'val'), (test, 'test')]:\n",
    "        feature_dataset[name] = create_answers_feature_dataset(session_list, df_source_labels, df_features, feature_list, include_question=include_question)\n",
    "\n",
    "    return feature_dataset"
   ]
  },
  {
   "cell_type": "code",
   "execution_count": 56,
   "metadata": {},
   "outputs": [
    {
     "data": {
      "application/vnd.jupyter.widget-view+json": {
       "model_id": "09bbed411e19492bac22d055cac85637",
       "version_major": 2,
       "version_minor": 0
      },
      "text/plain": [
       "0it [00:00, ?it/s]"
      ]
     },
     "metadata": {},
     "output_type": "display_data"
    },
    {
     "data": {
      "application/vnd.jupyter.widget-view+json": {
       "model_id": "ec9b55b29f4f43b09c02b824fdb8ff76",
       "version_major": 2,
       "version_minor": 0
      },
      "text/plain": [
       "0it [00:00, ?it/s]"
      ]
     },
     "metadata": {},
     "output_type": "display_data"
    },
    {
     "data": {
      "application/vnd.jupyter.widget-view+json": {
       "model_id": "7d6b6db9a9374e368a815604da259e0a",
       "version_major": 2,
       "version_minor": 0
      },
      "text/plain": [
       "0it [00:00, ?it/s]"
      ]
     },
     "metadata": {},
     "output_type": "display_data"
    }
   ],
   "source": [
    "answer_features_question_only = get_feature_dataset([])"
   ]
  },
  {
   "cell_type": "code",
   "execution_count": 57,
   "metadata": {},
   "outputs": [
    {
     "data": {
      "text/plain": [
       "{'train': array([[1, 0, 0, ..., 0, 0, 0],\n",
       "        [0, 1, 0, ..., 0, 0, 0],\n",
       "        [0, 0, 1, ..., 0, 0, 0],\n",
       "        ...,\n",
       "        [0, 0, 0, ..., 1, 0, 0],\n",
       "        [0, 0, 0, ..., 0, 1, 0],\n",
       "        [0, 0, 0, ..., 0, 0, 1]], dtype=int8),\n",
       " 'val': array([[1, 0, 0, ..., 0, 0, 0],\n",
       "        [0, 1, 0, ..., 0, 0, 0],\n",
       "        [0, 0, 1, ..., 0, 0, 0],\n",
       "        ...,\n",
       "        [0, 0, 0, ..., 1, 0, 0],\n",
       "        [0, 0, 0, ..., 0, 1, 0],\n",
       "        [0, 0, 0, ..., 0, 0, 1]], dtype=int8),\n",
       " 'test': array([[1, 0, 0, ..., 0, 0, 0],\n",
       "        [0, 1, 0, ..., 0, 0, 0],\n",
       "        [0, 0, 1, ..., 0, 0, 0],\n",
       "        ...,\n",
       "        [0, 0, 0, ..., 1, 0, 0],\n",
       "        [0, 0, 0, ..., 0, 1, 0],\n",
       "        [0, 0, 0, ..., 0, 0, 1]], dtype=int8)}"
      ]
     },
     "execution_count": 57,
     "metadata": {},
     "output_type": "execute_result"
    }
   ],
   "source": [
    "answer_features_question_only"
   ]
  },
  {
   "cell_type": "code",
   "execution_count": 58,
   "metadata": {},
   "outputs": [
    {
     "data": {
      "application/vnd.jupyter.widget-view+json": {
       "model_id": "4515d8157433452f86fa8faf6a955203",
       "version_major": 2,
       "version_minor": 0
      },
      "text/plain": [
       "0it [00:00, ?it/s]"
      ]
     },
     "metadata": {},
     "output_type": "display_data"
    },
    {
     "data": {
      "application/vnd.jupyter.widget-view+json": {
       "model_id": "a29d68dea51c459f88b8d0f01d075202",
       "version_major": 2,
       "version_minor": 0
      },
      "text/plain": [
       "0it [00:00, ?it/s]"
      ]
     },
     "metadata": {},
     "output_type": "display_data"
    },
    {
     "data": {
      "application/vnd.jupyter.widget-view+json": {
       "model_id": "c681e21c751247aeaa951057d1b40212",
       "version_major": 2,
       "version_minor": 0
      },
      "text/plain": [
       "0it [00:00, ?it/s]"
      ]
     },
     "metadata": {},
     "output_type": "display_data"
    }
   ],
   "source": [
    "answer_features_elapsed_time = get_feature_dataset(['elapsed_time'])"
   ]
  },
  {
   "cell_type": "code",
   "execution_count": 59,
   "metadata": {},
   "outputs": [
    {
     "data": {
      "application/vnd.jupyter.widget-view+json": {
       "model_id": "c470872726eb407492d157af0fdea149",
       "version_major": 2,
       "version_minor": 0
      },
      "text/plain": [
       "0it [00:00, ?it/s]"
      ]
     },
     "metadata": {},
     "output_type": "display_data"
    },
    {
     "data": {
      "application/vnd.jupyter.widget-view+json": {
       "model_id": "8681a2e4ac8749e6a2f812650265eff3",
       "version_major": 2,
       "version_minor": 0
      },
      "text/plain": [
       "0it [00:00, ?it/s]"
      ]
     },
     "metadata": {},
     "output_type": "display_data"
    },
    {
     "data": {
      "application/vnd.jupyter.widget-view+json": {
       "model_id": "739b2e7bd89541388fdfe78815649317",
       "version_major": 2,
       "version_minor": 0
      },
      "text/plain": [
       "0it [00:00, ?it/s]"
      ]
     },
     "metadata": {},
     "output_type": "display_data"
    }
   ],
   "source": [
    "answer_screen_heatmap_feature = get_feature_dataset(['screen_heatmap_feature'], include_question=False)"
   ]
  },
  {
   "attachments": {},
   "cell_type": "markdown",
   "metadata": {},
   "source": [
    "### Question Number Only"
   ]
  },
  {
   "cell_type": "code",
   "execution_count": 60,
   "metadata": {},
   "outputs": [
    {
     "name": "stdout",
     "output_type": "stream",
     "text": [
      "input_shape: 18\n",
      "output_shape 1\n"
     ]
    }
   ],
   "source": [
    "# define the input shape\n",
    "input_data = answer_features_question_only['train']\n",
    "input_shape = (input_data.shape[1])\n",
    "print('input_shape:', input_shape)\n",
    "\n",
    "# define the output shape\n",
    "output_data = answers_dataset['train']\n",
    "output_shape = 1\n",
    "print('output_shape', output_shape)"
   ]
  },
  {
   "cell_type": "code",
   "execution_count": 61,
   "metadata": {},
   "outputs": [
    {
     "name": "stdout",
     "output_type": "stream",
     "text": [
      "Model: \"sequential_2\"\n",
      "_________________________________________________________________\n",
      " Layer (type)                Output Shape              Param #   \n",
      "=================================================================\n",
      " dense_13 (Dense)            (None, 32)                608       \n",
      "                                                                 \n",
      " dense_14 (Dense)            (None, 64)                2112      \n",
      "                                                                 \n",
      " dense_15 (Dense)            (None, 1)                 65        \n",
      "                                                                 \n",
      "=================================================================\n",
      "Total params: 2,785\n",
      "Trainable params: 2,785\n",
      "Non-trainable params: 0\n",
      "_________________________________________________________________\n",
      "None\n"
     ]
    }
   ],
   "source": [
    "model = Sequential()\n",
    "model.add(Dense(32, input_shape=(input_shape,), activation='relu'))\n",
    "model.add(Dense(64, activation='relu'))\n",
    "model.add(Dense(output_shape, activation='sigmoid'))\n",
    "\n",
    "print(model.summary())"
   ]
  },
  {
   "cell_type": "code",
   "execution_count": 62,
   "metadata": {},
   "outputs": [
    {
     "name": "stdout",
     "output_type": "stream",
     "text": [
      "Epoch 1/20\n",
      "255/255 [==============================] - 1s 2ms/step - loss: 0.6385 - accuracy: 0.6909 - val_loss: 0.6005 - val_accuracy: 0.7014\n",
      "Epoch 2/20\n",
      "255/255 [==============================] - 0s 1ms/step - loss: 0.5820 - accuracy: 0.7047 - val_loss: 0.5706 - val_accuracy: 0.7014\n",
      "Epoch 3/20\n",
      "255/255 [==============================] - 0s 2ms/step - loss: 0.5575 - accuracy: 0.7130 - val_loss: 0.5490 - val_accuracy: 0.7277\n",
      "Epoch 4/20\n",
      "255/255 [==============================] - 0s 2ms/step - loss: 0.5410 - accuracy: 0.7295 - val_loss: 0.5365 - val_accuracy: 0.7277\n",
      "Epoch 5/20\n",
      "255/255 [==============================] - 0s 1ms/step - loss: 0.5330 - accuracy: 0.7312 - val_loss: 0.5314 - val_accuracy: 0.7294\n",
      "Epoch 6/20\n",
      "255/255 [==============================] - 0s 1ms/step - loss: 0.5303 - accuracy: 0.7317 - val_loss: 0.5297 - val_accuracy: 0.7299\n",
      "Epoch 7/20\n",
      "255/255 [==============================] - 0s 2ms/step - loss: 0.5294 - accuracy: 0.7318 - val_loss: 0.5291 - val_accuracy: 0.7299\n",
      "Epoch 8/20\n",
      "255/255 [==============================] - 0s 2ms/step - loss: 0.5291 - accuracy: 0.7313 - val_loss: 0.5289 - val_accuracy: 0.7294\n",
      "Epoch 9/20\n",
      "255/255 [==============================] - 0s 1ms/step - loss: 0.5290 - accuracy: 0.7318 - val_loss: 0.5288 - val_accuracy: 0.7294\n",
      "Epoch 10/20\n",
      "255/255 [==============================] - 0s 1ms/step - loss: 0.5290 - accuracy: 0.7311 - val_loss: 0.5287 - val_accuracy: 0.7299\n",
      "Epoch 11/20\n",
      "255/255 [==============================] - 0s 2ms/step - loss: 0.5289 - accuracy: 0.7317 - val_loss: 0.5287 - val_accuracy: 0.7299\n",
      "Epoch 12/20\n",
      "255/255 [==============================] - 0s 2ms/step - loss: 0.5289 - accuracy: 0.7322 - val_loss: 0.5287 - val_accuracy: 0.7299\n",
      "Epoch 13/20\n",
      "255/255 [==============================] - 0s 2ms/step - loss: 0.5289 - accuracy: 0.7316 - val_loss: 0.5287 - val_accuracy: 0.7294\n",
      "Epoch 14/20\n",
      "255/255 [==============================] - 0s 1ms/step - loss: 0.5289 - accuracy: 0.7320 - val_loss: 0.5287 - val_accuracy: 0.7299\n",
      "Epoch 15/20\n",
      "255/255 [==============================] - 0s 2ms/step - loss: 0.5289 - accuracy: 0.7317 - val_loss: 0.5287 - val_accuracy: 0.7294\n",
      "Epoch 16/20\n",
      "255/255 [==============================] - 0s 2ms/step - loss: 0.5289 - accuracy: 0.7316 - val_loss: 0.5287 - val_accuracy: 0.7294\n",
      "Epoch 17/20\n",
      "255/255 [==============================] - 0s 1ms/step - loss: 0.5289 - accuracy: 0.7316 - val_loss: 0.5287 - val_accuracy: 0.7299\n",
      "Epoch 18/20\n",
      "255/255 [==============================] - 0s 2ms/step - loss: 0.5289 - accuracy: 0.7319 - val_loss: 0.5287 - val_accuracy: 0.7299\n",
      "Epoch 19/20\n",
      "255/255 [==============================] - 0s 1ms/step - loss: 0.5289 - accuracy: 0.7318 - val_loss: 0.5286 - val_accuracy: 0.7299\n",
      "Epoch 20/20\n",
      "255/255 [==============================] - 0s 1ms/step - loss: 0.5289 - accuracy: 0.7316 - val_loss: 0.5287 - val_accuracy: 0.7294\n"
     ]
    },
    {
     "data": {
      "image/png": "[encoded data removed]",
      "text/plain": [
       "<Figure size 500x300 with 1 Axes>"
      ]
     },
     "metadata": {},
     "output_type": "display_data"
    },
    {
     "data": {
      "image/png": "[encoded data removed]",
      "text/plain": [
       "<Figure size 500x300 with 1 Axes>"
      ]
     },
     "metadata": {},
     "output_type": "display_data"
    },
    {
     "name": "stdout",
     "output_type": "stream",
     "text": [
      "1326/1326 [==============================] - 1s 454us/step\n",
      "              precision    recall  f1-score   support\n",
      "\n",
      "           0       0.62      0.23      0.34     12550\n",
      "           1       0.75      0.94      0.83     29858\n",
      "\n",
      "    accuracy                           0.73     42408\n",
      "   macro avg       0.68      0.59      0.59     42408\n",
      "weighted avg       0.71      0.73      0.69     42408\n",
      "\n",
      "Optimized threshold for best F1: 0.50\n"
     ]
    }
   ],
   "source": [
    "#class_weight = {0: 2, 1: 1.0}\n",
    "class_weight = None\n",
    "\n",
    "train_correct(\n",
    "    model=model,\n",
    "    feature_dataset=answer_features_question_only,\n",
    "    target_dataset=answers_dataset,\n",
    "    epochs=20,\n",
    "    batch_size=500,\n",
    "    optimizer=optimizers.RMSprop(learning_rate=0.0001),\n",
    "    loss='binary_crossentropy',\n",
    "    metrics=['accuracy'],\n",
    "    class_weight=class_weight)"
   ]
  },
  {
   "cell_type": "code",
   "execution_count": 63,
   "metadata": {},
   "outputs": [
    {
     "name": "stdout",
     "output_type": "stream",
     "text": [
      "Question 0 answer: [[0.95383966]]\n",
      "Question 1 answer: [[0.7348816]]\n",
      "Question 2 answer: [[0.9797391]]\n",
      "Question 3 answer: [[0.9322161]]\n",
      "Question 4 answer: [[0.7999033]]\n",
      "Question 5 answer: [[0.5504753]]\n",
      "Question 6 answer: [[0.7776178]]\n",
      "Question 7 answer: [[0.72911817]]\n",
      "Question 8 answer: [[0.6149616]]\n",
      "Question 9 answer: [[0.7431861]]\n",
      "Question 10 answer: [[0.5049817]]\n",
      "Question 11 answer: [[0.64472485]]\n",
      "Question 12 answer: [[0.8578106]]\n",
      "Question 13 answer: [[0.27807]]\n",
      "Question 14 answer: [[0.7120115]]\n",
      "Question 15 answer: [[0.48105007]]\n",
      "Question 16 answer: [[0.7380239]]\n",
      "Question 17 answer: [[0.693185]]\n",
      "Question 18 answer: [[0.95383966]]\n",
      "[1, 1, 1, 1, 1, 1, 1, 1, 1, 1, 1, 1, 1, 0, 1, 0, 1, 1, 1]\n"
     ]
    }
   ],
   "source": [
    "answer_array = []\n",
    "for question in range(0, 19):\n",
    "    # one hot encode the question\n",
    "    question_one_hot = np.zeros(18)\n",
    "    question_one_hot[question-1] = 1\n",
    "    answer = model.predict([question_one_hot.tolist()], verbose=False)\n",
    "    answer_array.append(int(answer > 0.5))\n",
    "    print(f'Question {question} answer: {answer}')\n",
    "\n",
    "print(answer_array)"
   ]
  },
  {
   "attachments": {},
   "cell_type": "markdown",
   "metadata": {},
   "source": [
    "### Elapsed Time"
   ]
  },
  {
   "cell_type": "code",
   "execution_count": 64,
   "metadata": {},
   "outputs": [
    {
     "name": "stdout",
     "output_type": "stream",
     "text": [
      "input_shape: 19\n",
      "output_shape 1\n"
     ]
    }
   ],
   "source": [
    "# define the input shape\n",
    "input_data = answer_features_elapsed_time['train']\n",
    "input_shape = (input_data.shape[1])\n",
    "print('input_shape:', input_shape)\n",
    "\n",
    "# define the output shape\n",
    "output_data = answers_dataset['train']\n",
    "output_shape = 1\n",
    "print('output_shape', output_shape)"
   ]
  },
  {
   "cell_type": "code",
   "execution_count": 65,
   "metadata": {},
   "outputs": [
    {
     "name": "stdout",
     "output_type": "stream",
     "text": [
      "Model: \"sequential_3\"\n",
      "_________________________________________________________________\n",
      " Layer (type)                Output Shape              Param #   \n",
      "=================================================================\n",
      " dense_16 (Dense)            (None, 64)                1280      \n",
      "                                                                 \n",
      " dense_17 (Dense)            (None, 64)                4160      \n",
      "                                                                 \n",
      " dropout_6 (Dropout)         (None, 64)                0         \n",
      "                                                                 \n",
      " dense_18 (Dense)            (None, 64)                4160      \n",
      "                                                                 \n",
      " dense_19 (Dense)            (None, 1)                 65        \n",
      "                                                                 \n",
      "=================================================================\n",
      "Total params: 9,665\n",
      "Trainable params: 9,665\n",
      "Non-trainable params: 0\n",
      "_________________________________________________________________\n",
      "None\n"
     ]
    }
   ],
   "source": [
    "model = Sequential()\n",
    "model.add(Dense(64, input_shape=(input_shape,), activation='relu'))\n",
    "model.add(Dense(64, activation='relu'))\n",
    "model.add(Dropout(0.2))\n",
    "model.add(Dense(64, activation='relu'))\n",
    "\n",
    "model.add(Dense(output_shape, activation='sigmoid'))\n",
    "\n",
    "print(model.summary())"
   ]
  },
  {
   "cell_type": "code",
   "execution_count": 66,
   "metadata": {},
   "outputs": [
    {
     "name": "stdout",
     "output_type": "stream",
     "text": [
      "Epoch 1/50\n",
      "128/128 [==============================] - 0s 2ms/step - loss: 0.6511 - accuracy: 0.6836 - val_loss: 0.6118 - val_accuracy: 0.7014\n",
      "Epoch 2/50\n",
      "128/128 [==============================] - 0s 1ms/step - loss: 0.5905 - accuracy: 0.7047 - val_loss: 0.5717 - val_accuracy: 0.7014\n",
      "Epoch 3/50\n",
      "128/128 [==============================] - 0s 1ms/step - loss: 0.5579 - accuracy: 0.7150 - val_loss: 0.5424 - val_accuracy: 0.7277\n",
      "Epoch 4/50\n",
      "128/128 [==============================] - 0s 1ms/step - loss: 0.5371 - accuracy: 0.7305 - val_loss: 0.5303 - val_accuracy: 0.7347\n",
      "Epoch 5/50\n",
      "128/128 [==============================] - 0s 1ms/step - loss: 0.5318 - accuracy: 0.7327 - val_loss: 0.5276 - val_accuracy: 0.7336\n",
      "Epoch 6/50\n",
      "128/128 [==============================] - 0s 1ms/step - loss: 0.5298 - accuracy: 0.7331 - val_loss: 0.5269 - val_accuracy: 0.7340\n",
      "Epoch 7/50\n",
      "128/128 [==============================] - 0s 1ms/step - loss: 0.5295 - accuracy: 0.7331 - val_loss: 0.5266 - val_accuracy: 0.7346\n",
      "Epoch 8/50\n",
      "128/128 [==============================] - 0s 1ms/step - loss: 0.5290 - accuracy: 0.7335 - val_loss: 0.5265 - val_accuracy: 0.7350\n",
      "Epoch 9/50\n",
      "128/128 [==============================] - 0s 1ms/step - loss: 0.5284 - accuracy: 0.7345 - val_loss: 0.5263 - val_accuracy: 0.7352\n",
      "Epoch 10/50\n",
      "128/128 [==============================] - 0s 2ms/step - loss: 0.5285 - accuracy: 0.7345 - val_loss: 0.5262 - val_accuracy: 0.7353\n",
      "Epoch 11/50\n",
      "128/128 [==============================] - 0s 2ms/step - loss: 0.5283 - accuracy: 0.7346 - val_loss: 0.5261 - val_accuracy: 0.7354\n",
      "Epoch 12/50\n",
      "128/128 [==============================] - 0s 1ms/step - loss: 0.5278 - accuracy: 0.7349 - val_loss: 0.5261 - val_accuracy: 0.7353\n",
      "Epoch 13/50\n",
      "128/128 [==============================] - 0s 1ms/step - loss: 0.5274 - accuracy: 0.7353 - val_loss: 0.5260 - val_accuracy: 0.7350\n",
      "Epoch 14/50\n",
      "128/128 [==============================] - 0s 1ms/step - loss: 0.5275 - accuracy: 0.7348 - val_loss: 0.5260 - val_accuracy: 0.7348\n",
      "Epoch 15/50\n",
      "128/128 [==============================] - 0s 2ms/step - loss: 0.5274 - accuracy: 0.7351 - val_loss: 0.5260 - val_accuracy: 0.7351\n",
      "Epoch 16/50\n",
      "128/128 [==============================] - 0s 1ms/step - loss: 0.5273 - accuracy: 0.7351 - val_loss: 0.5260 - val_accuracy: 0.7347\n",
      "Epoch 17/50\n",
      "128/128 [==============================] - 0s 1ms/step - loss: 0.5273 - accuracy: 0.7358 - val_loss: 0.5259 - val_accuracy: 0.7348\n",
      "Epoch 18/50\n",
      "128/128 [==============================] - 0s 1ms/step - loss: 0.5270 - accuracy: 0.7351 - val_loss: 0.5258 - val_accuracy: 0.7350\n",
      "Epoch 19/50\n",
      "128/128 [==============================] - 0s 1ms/step - loss: 0.5271 - accuracy: 0.7357 - val_loss: 0.5257 - val_accuracy: 0.7352\n",
      "Epoch 20/50\n",
      "128/128 [==============================] - 0s 1ms/step - loss: 0.5269 - accuracy: 0.7354 - val_loss: 0.5256 - val_accuracy: 0.7352\n",
      "Epoch 21/50\n",
      "128/128 [==============================] - 0s 1ms/step - loss: 0.5268 - accuracy: 0.7359 - val_loss: 0.5256 - val_accuracy: 0.7355\n",
      "Epoch 22/50\n",
      "128/128 [==============================] - 0s 1ms/step - loss: 0.5269 - accuracy: 0.7366 - val_loss: 0.5256 - val_accuracy: 0.7352\n",
      "Epoch 23/50\n",
      "128/128 [==============================] - 0s 1ms/step - loss: 0.5266 - accuracy: 0.7363 - val_loss: 0.5255 - val_accuracy: 0.7355\n",
      "Epoch 24/50\n",
      "128/128 [==============================] - 0s 1ms/step - loss: 0.5266 - accuracy: 0.7365 - val_loss: 0.5255 - val_accuracy: 0.7355\n",
      "Epoch 25/50\n",
      "128/128 [==============================] - 0s 1ms/step - loss: 0.5265 - accuracy: 0.7363 - val_loss: 0.5255 - val_accuracy: 0.7354\n",
      "Epoch 26/50\n",
      "128/128 [==============================] - 0s 1ms/step - loss: 0.5265 - accuracy: 0.7360 - val_loss: 0.5255 - val_accuracy: 0.7350\n",
      "Epoch 27/50\n",
      "128/128 [==============================] - 0s 1ms/step - loss: 0.5264 - accuracy: 0.7361 - val_loss: 0.5257 - val_accuracy: 0.7351\n",
      "Epoch 28/50\n",
      "128/128 [==============================] - 0s 1ms/step - loss: 0.5265 - accuracy: 0.7360 - val_loss: 0.5253 - val_accuracy: 0.7357\n",
      "Epoch 29/50\n",
      "128/128 [==============================] - 0s 1ms/step - loss: 0.5265 - accuracy: 0.7359 - val_loss: 0.5253 - val_accuracy: 0.7356\n",
      "Epoch 30/50\n",
      "128/128 [==============================] - 0s 1ms/step - loss: 0.5263 - accuracy: 0.7363 - val_loss: 0.5253 - val_accuracy: 0.7357\n",
      "Epoch 31/50\n",
      "128/128 [==============================] - 0s 1ms/step - loss: 0.5259 - accuracy: 0.7362 - val_loss: 0.5253 - val_accuracy: 0.7356\n",
      "Epoch 32/50\n",
      "128/128 [==============================] - 0s 1ms/step - loss: 0.5261 - accuracy: 0.7365 - val_loss: 0.5253 - val_accuracy: 0.7354\n",
      "Epoch 33/50\n",
      "128/128 [==============================] - 0s 2ms/step - loss: 0.5263 - accuracy: 0.7361 - val_loss: 0.5253 - val_accuracy: 0.7353\n",
      "Epoch 34/50\n",
      "128/128 [==============================] - 0s 2ms/step - loss: 0.5262 - accuracy: 0.7362 - val_loss: 0.5252 - val_accuracy: 0.7352\n",
      "Epoch 35/50\n",
      "128/128 [==============================] - 0s 1ms/step - loss: 0.5262 - accuracy: 0.7364 - val_loss: 0.5252 - val_accuracy: 0.7355\n",
      "Epoch 36/50\n",
      "128/128 [==============================] - 0s 1ms/step - loss: 0.5261 - accuracy: 0.7366 - val_loss: 0.5252 - val_accuracy: 0.7356\n",
      "Epoch 37/50\n",
      "128/128 [==============================] - 0s 1ms/step - loss: 0.5258 - accuracy: 0.7366 - val_loss: 0.5251 - val_accuracy: 0.7354\n",
      "Epoch 38/50\n",
      "128/128 [==============================] - 0s 1ms/step - loss: 0.5260 - accuracy: 0.7370 - val_loss: 0.5252 - val_accuracy: 0.7354\n",
      "Epoch 39/50\n",
      "128/128 [==============================] - 0s 1ms/step - loss: 0.5260 - accuracy: 0.7374 - val_loss: 0.5251 - val_accuracy: 0.7352\n",
      "Epoch 40/50\n",
      "128/128 [==============================] - 0s 2ms/step - loss: 0.5258 - accuracy: 0.7365 - val_loss: 0.5251 - val_accuracy: 0.7352\n",
      "Epoch 41/50\n",
      "128/128 [==============================] - 0s 2ms/step - loss: 0.5259 - accuracy: 0.7368 - val_loss: 0.5251 - val_accuracy: 0.7350\n",
      "Epoch 42/50\n",
      "128/128 [==============================] - 0s 1ms/step - loss: 0.5258 - accuracy: 0.7369 - val_loss: 0.5251 - val_accuracy: 0.7354\n",
      "Epoch 43/50\n",
      "128/128 [==============================] - 0s 1ms/step - loss: 0.5261 - accuracy: 0.7367 - val_loss: 0.5251 - val_accuracy: 0.7354\n",
      "Epoch 44/50\n",
      "128/128 [==============================] - 0s 1ms/step - loss: 0.5259 - accuracy: 0.7365 - val_loss: 0.5251 - val_accuracy: 0.7351\n",
      "Epoch 45/50\n",
      "128/128 [==============================] - 0s 1ms/step - loss: 0.5258 - accuracy: 0.7364 - val_loss: 0.5252 - val_accuracy: 0.7352\n",
      "Epoch 46/50\n",
      "128/128 [==============================] - 0s 1ms/step - loss: 0.5256 - accuracy: 0.7365 - val_loss: 0.5251 - val_accuracy: 0.7350\n",
      "Epoch 47/50\n",
      "128/128 [==============================] - 0s 2ms/step - loss: 0.5257 - accuracy: 0.7371 - val_loss: 0.5250 - val_accuracy: 0.7351\n",
      "Epoch 48/50\n",
      "128/128 [==============================] - 0s 1ms/step - loss: 0.5255 - accuracy: 0.7370 - val_loss: 0.5251 - val_accuracy: 0.7354\n",
      "Epoch 49/50\n",
      "128/128 [==============================] - 0s 2ms/step - loss: 0.5256 - accuracy: 0.7368 - val_loss: 0.5250 - val_accuracy: 0.7353\n",
      "Epoch 50/50\n",
      "128/128 [==============================] - 0s 1ms/step - loss: 0.5258 - accuracy: 0.7368 - val_loss: 0.5250 - val_accuracy: 0.7352\n"
     ]
    },
    {
     "data": {
      "image/png": "[encoded data removed]",
      "text/plain": [
       "<Figure size 500x300 with 1 Axes>"
      ]
     },
     "metadata": {},
     "output_type": "display_data"
    },
    {
     "data": {
      "image/png": "[encoded data removed]",
      "text/plain": [
       "<Figure size 500x300 with 1 Axes>"
      ]
     },
     "metadata": {},
     "output_type": "display_data"
    },
    {
     "name": "stdout",
     "output_type": "stream",
     "text": [
      "1326/1326 [==============================] - 1s 483us/step\n",
      "              precision    recall  f1-score   support\n",
      "\n",
      "           0       0.63      0.28      0.38     12550\n",
      "           1       0.75      0.93      0.83     29858\n",
      "\n",
      "    accuracy                           0.74     42408\n",
      "   macro avg       0.69      0.60      0.61     42408\n",
      "weighted avg       0.72      0.74      0.70     42408\n",
      "\n",
      "Optimized threshold for best F1: 0.50\n"
     ]
    }
   ],
   "source": [
    "#class_weight = {0: 2, 1: 1.0}\n",
    "class_weight = None\n",
    "\n",
    "train_correct(\n",
    "    model=model,\n",
    "    feature_dataset=answer_features_elapsed_time,\n",
    "    target_dataset=answers_dataset,\n",
    "    epochs=50,\n",
    "    batch_size=1000,\n",
    "    optimizer=optimizers.Adam(learning_rate=0.0001),\n",
    "    loss='binary_crossentropy',\n",
    "    metrics=['accuracy'],\n",
    "    class_weight=class_weight)"
   ]
  },
  {
   "attachments": {},
   "cell_type": "markdown",
   "metadata": {},
   "source": [
    "## Elapsed Time and Screen Heatmap"
   ]
  },
  {
   "cell_type": "code",
   "execution_count": 67,
   "metadata": {},
   "outputs": [],
   "source": [
    "# define the data to use for model training\n",
    "X_train = [\n",
    "    answer_features_elapsed_time['train'],\n",
    "    answer_screen_heatmap_feature['train']\n",
    "]\n",
    "y_train = answers_dataset['train']\n",
    "\n",
    "X_val = [\n",
    "    answer_features_elapsed_time['val'],\n",
    "    answer_screen_heatmap_feature['val']\n",
    "]\n",
    "y_val = answers_dataset['val']\n",
    "\n",
    "X_test = [\n",
    "    answer_features_elapsed_time['test'],\n",
    "    answer_screen_heatmap_feature['test']\n",
    "]\n",
    "y_test = answers_dataset['test']"
   ]
  },
  {
   "cell_type": "code",
   "execution_count": 68,
   "metadata": {},
   "outputs": [
    {
     "name": "stdout",
     "output_type": "stream",
     "text": [
      "elapsed_input_shape: 19\n",
      "heatmap_input_shape: (23, 5, 5)\n",
      "output_shape 1\n"
     ]
    }
   ],
   "source": [
    "# define the elapsed time input shape\n",
    "input_data = answer_features_elapsed_time['train']\n",
    "elapsed_input_shape = (input_data.shape[1])\n",
    "print('elapsed_input_shape:', elapsed_input_shape)\n",
    "\n",
    "# define the screen heatmap input shape\n",
    "input_data = answer_screen_heatmap_feature['train']\n",
    "heatmap_input_shape = (input_data.shape[1], input_data.shape[2], input_data.shape[3])\n",
    "print('heatmap_input_shape:', heatmap_input_shape)\n",
    "\n",
    "# define the output shape\n",
    "output_data = answers_dataset['train']\n",
    "output_shape = 1\n",
    "print('output_shape', output_shape)"
   ]
  },
  {
   "cell_type": "code",
   "execution_count": 69,
   "metadata": {},
   "outputs": [],
   "source": [
    "def define_elapsed_time_layers(input_shape):\n",
    "    elapsed_input = Input(shape=(input_shape,), name='elapsed_time_input')\n",
    "    elapsed_dense = Dense(32, activation='relu')(elapsed_input)\n",
    "    elapsed_dense = Dense(32, activation='relu')(elapsed_dense)\n",
    "    elapsed_dense = Dropout(0.2)(elapsed_dense)\n",
    "    elapsed_dense = Dense(32, activation='relu')(elapsed_dense)\n",
    "    elapsed_dense = Dropout(0.2)(elapsed_dense)\n",
    "    return elapsed_input, elapsed_dense"
   ]
  },
  {
   "cell_type": "code",
   "execution_count": 70,
   "metadata": {},
   "outputs": [],
   "source": [
    "def define_screen_heatmap_layers(input_shape):\n",
    "    screen_input = Input(shape=(input_shape), name='screen_heatmap_input')\n",
    "    screen_dense = Flatten()(screen_input)\n",
    "    screen_dense = Dense(32, activation='relu')(screen_dense)\n",
    "    screen_dense = Dropout(0.25)(screen_dense)\n",
    "    screen_dense = Dense(64, activation='relu')(screen_dense)\n",
    "    screen_dense = Dropout(0.25)(screen_dense)\n",
    "    screen_dense = Dense(64, activation='sigmoid')(screen_dense)\n",
    "    screen_dense = Dropout(0.25)(screen_dense)\n",
    "    return screen_input, screen_dense"
   ]
  },
  {
   "cell_type": "code",
   "execution_count": 71,
   "metadata": {},
   "outputs": [
    {
     "data": {
      "image/png": "[encoded data removed]",
      "text/plain": [
       "<IPython.core.display.Image object>"
      ]
     },
     "execution_count": 71,
     "metadata": {},
     "output_type": "execute_result"
    }
   ],
   "source": [
    "# get the  layers\n",
    "elapsed_time_input, elapsed_time_layers = define_elapsed_time_layers(elapsed_input_shape)\n",
    "screen_heatmap_input, screen_heatmap_layers = define_screen_heatmap_layers(heatmap_input_shape)\n",
    "\n",
    "# get the feature vectors\n",
    "concat = Concatenate()([elapsed_time_layers, screen_heatmap_layers])\n",
    "\n",
    "# pass the concatenated features through some additional layers\n",
    "final_layers = Dense(256, activation='relu', name='final_layers')(concat)\n",
    "final_layers = Dropout(0.25)(final_layers)\n",
    "final_layers = Dense(256, activation='relu', name='final_layers')(concat)\n",
    "\n",
    "# define the model output\n",
    "model_output = Dense(output_shape, activation='sigmoid')(final_layers)\n",
    "\n",
    "# create the model\n",
    "model = Model(inputs=[elapsed_time_input, screen_heatmap_input], outputs=model_output)\n",
    "\n",
    "# plot the model architecture\n",
    "keras.utils.plot_model(model, show_shapes=True, show_layer_names=True)\n"
   ]
  },
  {
   "cell_type": "code",
   "execution_count": 72,
   "metadata": {},
   "outputs": [
    {
     "name": "stdout",
     "output_type": "stream",
     "text": [
      "Epoch 1/40\n",
      "64/64 [==============================] - 1s 6ms/step - loss: 0.5738 - accuracy: 0.7120 - val_loss: 0.5313 - val_accuracy: 0.7326\n",
      "Epoch 2/40\n",
      "64/64 [==============================] - 0s 4ms/step - loss: 0.5356 - accuracy: 0.7316 - val_loss: 0.5209 - val_accuracy: 0.7372\n",
      "Epoch 3/40\n",
      "64/64 [==============================] - 0s 4ms/step - loss: 0.5251 - accuracy: 0.7378 - val_loss: 0.5150 - val_accuracy: 0.7446\n",
      "Epoch 4/40\n",
      "64/64 [==============================] - 0s 4ms/step - loss: 0.5202 - accuracy: 0.7413 - val_loss: 0.5163 - val_accuracy: 0.7442\n",
      "Epoch 5/40\n",
      "64/64 [==============================] - 0s 4ms/step - loss: 0.5175 - accuracy: 0.7432 - val_loss: 0.5146 - val_accuracy: 0.7423\n",
      "Epoch 6/40\n",
      "64/64 [==============================] - 0s 4ms/step - loss: 0.5154 - accuracy: 0.7437 - val_loss: 0.5106 - val_accuracy: 0.7468\n",
      "Epoch 7/40\n",
      "64/64 [==============================] - 0s 3ms/step - loss: 0.5140 - accuracy: 0.7448 - val_loss: 0.5092 - val_accuracy: 0.7466\n",
      "Epoch 8/40\n",
      "64/64 [==============================] - 0s 3ms/step - loss: 0.5122 - accuracy: 0.7454 - val_loss: 0.5091 - val_accuracy: 0.7469\n",
      "Epoch 9/40\n",
      "64/64 [==============================] - 0s 4ms/step - loss: 0.5108 - accuracy: 0.7462 - val_loss: 0.5105 - val_accuracy: 0.7459\n",
      "Epoch 10/40\n",
      "64/64 [==============================] - 0s 4ms/step - loss: 0.5103 - accuracy: 0.7464 - val_loss: 0.5104 - val_accuracy: 0.7448\n",
      "Epoch 11/40\n",
      "64/64 [==============================] - 0s 4ms/step - loss: 0.5095 - accuracy: 0.7465 - val_loss: 0.5100 - val_accuracy: 0.7473\n",
      "Epoch 12/40\n",
      "64/64 [==============================] - 0s 4ms/step - loss: 0.5086 - accuracy: 0.7473 - val_loss: 0.5087 - val_accuracy: 0.7473\n",
      "Epoch 13/40\n",
      "64/64 [==============================] - 0s 3ms/step - loss: 0.5078 - accuracy: 0.7483 - val_loss: 0.5064 - val_accuracy: 0.7479\n",
      "Epoch 14/40\n",
      "64/64 [==============================] - 0s 4ms/step - loss: 0.5078 - accuracy: 0.7487 - val_loss: 0.5078 - val_accuracy: 0.7477\n",
      "Epoch 15/40\n",
      "64/64 [==============================] - 0s 4ms/step - loss: 0.5073 - accuracy: 0.7482 - val_loss: 0.5071 - val_accuracy: 0.7469\n",
      "Epoch 16/40\n",
      "64/64 [==============================] - 0s 4ms/step - loss: 0.5060 - accuracy: 0.7497 - val_loss: 0.5083 - val_accuracy: 0.7464\n",
      "Epoch 17/40\n",
      "64/64 [==============================] - 0s 4ms/step - loss: 0.5064 - accuracy: 0.7497 - val_loss: 0.5081 - val_accuracy: 0.7483\n",
      "Epoch 18/40\n",
      "64/64 [==============================] - 0s 4ms/step - loss: 0.5053 - accuracy: 0.7500 - val_loss: 0.5062 - val_accuracy: 0.7484\n",
      "Epoch 19/40\n",
      "64/64 [==============================] - 0s 4ms/step - loss: 0.5046 - accuracy: 0.7506 - val_loss: 0.5078 - val_accuracy: 0.7475\n",
      "Epoch 20/40\n",
      "64/64 [==============================] - 0s 4ms/step - loss: 0.5050 - accuracy: 0.7502 - val_loss: 0.5076 - val_accuracy: 0.7473\n",
      "Epoch 21/40\n",
      "64/64 [==============================] - 0s 4ms/step - loss: 0.5043 - accuracy: 0.7502 - val_loss: 0.5075 - val_accuracy: 0.7471\n",
      "Epoch 22/40\n",
      "64/64 [==============================] - 0s 4ms/step - loss: 0.5038 - accuracy: 0.7509 - val_loss: 0.5066 - val_accuracy: 0.7480\n",
      "Epoch 23/40\n",
      "64/64 [==============================] - 0s 4ms/step - loss: 0.5037 - accuracy: 0.7513 - val_loss: 0.5069 - val_accuracy: 0.7486\n",
      "Epoch 24/40\n",
      "64/64 [==============================] - 0s 4ms/step - loss: 0.5029 - accuracy: 0.7515 - val_loss: 0.5095 - val_accuracy: 0.7496\n",
      "Epoch 25/40\n",
      "64/64 [==============================] - 0s 4ms/step - loss: 0.5027 - accuracy: 0.7518 - val_loss: 0.5120 - val_accuracy: 0.7486\n",
      "Epoch 26/40\n",
      "64/64 [==============================] - 0s 4ms/step - loss: 0.5021 - accuracy: 0.7522 - val_loss: 0.5085 - val_accuracy: 0.7496\n",
      "Epoch 27/40\n",
      "64/64 [==============================] - 0s 3ms/step - loss: 0.5023 - accuracy: 0.7517 - val_loss: 0.5055 - val_accuracy: 0.7488\n",
      "Epoch 28/40\n",
      "64/64 [==============================] - 0s 4ms/step - loss: 0.5019 - accuracy: 0.7518 - val_loss: 0.5073 - val_accuracy: 0.7473\n",
      "Epoch 29/40\n",
      "64/64 [==============================] - 0s 4ms/step - loss: 0.5012 - accuracy: 0.7525 - val_loss: 0.5080 - val_accuracy: 0.7497\n",
      "Epoch 30/40\n",
      "64/64 [==============================] - 0s 4ms/step - loss: 0.5008 - accuracy: 0.7526 - val_loss: 0.5069 - val_accuracy: 0.7496\n",
      "Epoch 31/40\n",
      "64/64 [==============================] - 0s 4ms/step - loss: 0.5008 - accuracy: 0.7533 - val_loss: 0.5056 - val_accuracy: 0.7476\n",
      "Epoch 32/40\n",
      "64/64 [==============================] - 0s 4ms/step - loss: 0.5003 - accuracy: 0.7532 - val_loss: 0.5056 - val_accuracy: 0.7490\n",
      "Epoch 33/40\n",
      "64/64 [==============================] - 0s 4ms/step - loss: 0.5003 - accuracy: 0.7532 - val_loss: 0.5068 - val_accuracy: 0.7492\n",
      "Epoch 34/40\n",
      "64/64 [==============================] - 0s 4ms/step - loss: 0.4992 - accuracy: 0.7530 - val_loss: 0.5081 - val_accuracy: 0.7491\n",
      "Epoch 35/40\n",
      "64/64 [==============================] - 0s 4ms/step - loss: 0.4996 - accuracy: 0.7535 - val_loss: 0.5069 - val_accuracy: 0.7490\n",
      "Epoch 36/40\n",
      "64/64 [==============================] - 0s 4ms/step - loss: 0.4987 - accuracy: 0.7537 - val_loss: 0.5102 - val_accuracy: 0.7490\n",
      "Epoch 37/40\n",
      "64/64 [==============================] - 0s 4ms/step - loss: 0.4989 - accuracy: 0.7533 - val_loss: 0.5080 - val_accuracy: 0.7467\n",
      "Epoch 38/40\n",
      "64/64 [==============================] - 0s 4ms/step - loss: 0.4985 - accuracy: 0.7540 - val_loss: 0.5094 - val_accuracy: 0.7488\n",
      "Epoch 39/40\n",
      "64/64 [==============================] - 0s 4ms/step - loss: 0.4978 - accuracy: 0.7542 - val_loss: 0.5087 - val_accuracy: 0.7488\n",
      "Epoch 40/40\n",
      "64/64 [==============================] - 0s 4ms/step - loss: 0.4972 - accuracy: 0.7552 - val_loss: 0.5079 - val_accuracy: 0.7469\n"
     ]
    },
    {
     "data": {
      "image/png": "[encoded data removed]",
      "text/plain": [
       "<Figure size 500x300 with 1 Axes>"
      ]
     },
     "metadata": {},
     "output_type": "display_data"
    },
    {
     "data": {
      "image/png": "[encoded data removed]",
      "text/plain": [
       "<Figure size 500x300 with 1 Axes>"
      ]
     },
     "metadata": {},
     "output_type": "display_data"
    },
    {
     "name": "stdout",
     "output_type": "stream",
     "text": [
      "1326/1326 [==============================] - 1s 607us/step\n",
      "              precision    recall  f1-score   support\n",
      "\n",
      "           0       0.68      0.28      0.40     12550\n",
      "           1       0.76      0.95      0.84     29858\n",
      "\n",
      "    accuracy                           0.75     42408\n",
      "   macro avg       0.72      0.61      0.62     42408\n",
      "weighted avg       0.74      0.75      0.71     42408\n",
      "\n",
      "Optimized threshold for best F1: 0.50\n"
     ]
    }
   ],
   "source": [
    "\n",
    "# train the model\n",
    "#class_weight = {0: 2, 1: 1.0}\n",
    "class_weight = None\n",
    "\n",
    "_, _ = train_and_test_model(\n",
    "    model=model,\n",
    "    X_train = X_train,\n",
    "    y_train=y_train,\n",
    "    X_val = X_val,\n",
    "    y_val=y_val,\n",
    "    X_test = X_test,\n",
    "    y_test=y_test,\n",
    "    epochs=40,\n",
    "    batch_size=2000,\n",
    "    optimizer=optimizers.RMSprop(learning_rate=0.001),\n",
    "    loss='binary_crossentropy',\n",
    "    metrics=['accuracy'],\n",
    "    class_weight=class_weight)\n"
   ]
  }
 ],
 "metadata": {
  "kernelspec": {
   "display_name": "Python 3",
   "language": "python",
   "name": "python3"
  },
  "language_info": {
   "codemirror_mode": {
    "name": "ipython",
    "version": 3
   },
   "file_extension": ".py",
   "mimetype": "text/x-python",
   "name": "python",
   "nbconvert_exporter": "python",
   "pygments_lexer": "ipython3",
   "version": "3.8.10"
  },
  "orig_nbformat": 4
 },
 "nbformat": 4,
 "nbformat_minor": 2
}
