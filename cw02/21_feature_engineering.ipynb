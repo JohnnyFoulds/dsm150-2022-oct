{
 "cells": [
  {
   "attachments": {},
   "cell_type": "markdown",
   "metadata": {},
   "source": [
    "# 21. Feature Engineering\n",
    "\n",
    "Everything has been super disappointing up to this point."
   ]
  },
  {
   "cell_type": "code",
   "execution_count": 1,
   "metadata": {},
   "outputs": [],
   "source": [
    "import sys\n",
    "from typing import Tuple\n",
    "import logging\n",
    "\n",
    "import pandas as pd\n",
    "import numpy as np\n",
    "\n",
    "from tqdm.auto import tqdm\n",
    "\n",
    "from sklearn.model_selection import train_test_split\n",
    "from sklearn.metrics import classification_report\n",
    "\n",
    "from pycaret.classification import *"
   ]
  },
  {
   "cell_type": "markdown",
   "metadata": {},
   "source": [
    "## Configure Logging"
   ]
  },
  {
   "cell_type": "code",
   "execution_count": 2,
   "metadata": {},
   "outputs": [],
   "source": [
    "logging.getLogger('matplotlib.font_manager').setLevel(logging.ERROR)"
   ]
  },
  {
   "cell_type": "code",
   "execution_count": 3,
   "metadata": {},
   "outputs": [
    {
     "name": "stdout",
     "output_type": "stream",
     "text": [
      "2023-03-08 14:06:42 INFO     Started\n"
     ]
    }
   ],
   "source": [
    "logging.basicConfig(\n",
    "    format='%(asctime)s %(levelname)-8s %(message)s',\n",
    "    level=logging.INFO,\n",
    "    datefmt='%Y-%m-%d %H:%M:%S',\n",
    "        handlers=[\n",
    "        logging.FileHandler(\"ex05_06.log\"),\n",
    "        logging.StreamHandler(sys.stdout)\n",
    "    ])\n",
    "\n",
    "logging.info(\"Started\")"
   ]
  },
  {
   "cell_type": "markdown",
   "metadata": {},
   "source": [
    "## Load Source Data"
   ]
  },
  {
   "cell_type": "code",
   "execution_count": 4,
   "metadata": {},
   "outputs": [
    {
     "name": "stdout",
     "output_type": "stream",
     "text": [
      "(13174211, 19)\n"
     ]
    },
    {
     "data": {
      "text/html": [
       "<div>\n",
       "<style scoped>\n",
       "    .dataframe tbody tr th:only-of-type {\n",
       "        vertical-align: middle;\n",
       "    }\n",
       "\n",
       "    .dataframe tbody tr th {\n",
       "        vertical-align: top;\n",
       "    }\n",
       "\n",
       "    .dataframe thead th {\n",
       "        text-align: right;\n",
       "    }\n",
       "</style>\n",
       "<table border=\"1\" class=\"dataframe\">\n",
       "  <thead>\n",
       "    <tr style=\"text-align: right;\">\n",
       "      <th></th>\n",
       "      <th>session_id</th>\n",
       "      <th>elapsed_time</th>\n",
       "      <th>event_name</th>\n",
       "      <th>name</th>\n",
       "      <th>level</th>\n",
       "      <th>page</th>\n",
       "      <th>room_coor_x</th>\n",
       "      <th>room_coor_y</th>\n",
       "      <th>screen_coor_x</th>\n",
       "      <th>screen_coor_y</th>\n",
       "      <th>hover_duration</th>\n",
       "      <th>text</th>\n",
       "      <th>fqid</th>\n",
       "      <th>room_fqid</th>\n",
       "      <th>text_fqid</th>\n",
       "      <th>fullscreen</th>\n",
       "      <th>hq</th>\n",
       "      <th>music</th>\n",
       "      <th>level_group</th>\n",
       "    </tr>\n",
       "    <tr>\n",
       "      <th>index</th>\n",
       "      <th></th>\n",
       "      <th></th>\n",
       "      <th></th>\n",
       "      <th></th>\n",
       "      <th></th>\n",
       "      <th></th>\n",
       "      <th></th>\n",
       "      <th></th>\n",
       "      <th></th>\n",
       "      <th></th>\n",
       "      <th></th>\n",
       "      <th></th>\n",
       "      <th></th>\n",
       "      <th></th>\n",
       "      <th></th>\n",
       "      <th></th>\n",
       "      <th></th>\n",
       "      <th></th>\n",
       "      <th></th>\n",
       "    </tr>\n",
       "  </thead>\n",
       "  <tbody>\n",
       "    <tr>\n",
       "      <th>0</th>\n",
       "      <td>20090312431273200</td>\n",
       "      <td>0</td>\n",
       "      <td>cutscene_click</td>\n",
       "      <td>basic</td>\n",
       "      <td>0</td>\n",
       "      <td>NaN</td>\n",
       "      <td>-413.991405</td>\n",
       "      <td>-159.314686</td>\n",
       "      <td>380.0</td>\n",
       "      <td>494.0</td>\n",
       "      <td>NaN</td>\n",
       "      <td>undefined</td>\n",
       "      <td>intro</td>\n",
       "      <td>tunic.historicalsociety.closet</td>\n",
       "      <td>tunic.historicalsociety.closet.intro</td>\n",
       "      <td>NaN</td>\n",
       "      <td>NaN</td>\n",
       "      <td>NaN</td>\n",
       "      <td>0-4</td>\n",
       "    </tr>\n",
       "    <tr>\n",
       "      <th>1</th>\n",
       "      <td>20090312431273200</td>\n",
       "      <td>1323</td>\n",
       "      <td>person_click</td>\n",
       "      <td>basic</td>\n",
       "      <td>0</td>\n",
       "      <td>NaN</td>\n",
       "      <td>-413.991405</td>\n",
       "      <td>-159.314686</td>\n",
       "      <td>380.0</td>\n",
       "      <td>494.0</td>\n",
       "      <td>NaN</td>\n",
       "      <td>Whatcha doing over there, Jo?</td>\n",
       "      <td>gramps</td>\n",
       "      <td>tunic.historicalsociety.closet</td>\n",
       "      <td>tunic.historicalsociety.closet.gramps.intro_0_...</td>\n",
       "      <td>NaN</td>\n",
       "      <td>NaN</td>\n",
       "      <td>NaN</td>\n",
       "      <td>0-4</td>\n",
       "    </tr>\n",
       "    <tr>\n",
       "      <th>2</th>\n",
       "      <td>20090312431273200</td>\n",
       "      <td>831</td>\n",
       "      <td>person_click</td>\n",
       "      <td>basic</td>\n",
       "      <td>0</td>\n",
       "      <td>NaN</td>\n",
       "      <td>-413.991405</td>\n",
       "      <td>-159.314686</td>\n",
       "      <td>380.0</td>\n",
       "      <td>494.0</td>\n",
       "      <td>NaN</td>\n",
       "      <td>Just talking to Teddy.</td>\n",
       "      <td>gramps</td>\n",
       "      <td>tunic.historicalsociety.closet</td>\n",
       "      <td>tunic.historicalsociety.closet.gramps.intro_0_...</td>\n",
       "      <td>NaN</td>\n",
       "      <td>NaN</td>\n",
       "      <td>NaN</td>\n",
       "      <td>0-4</td>\n",
       "    </tr>\n",
       "  </tbody>\n",
       "</table>\n",
       "</div>"
      ],
      "text/plain": [
       "              session_id  elapsed_time      event_name   name  level  page  \\\n",
       "index                                                                        \n",
       "0      20090312431273200             0  cutscene_click  basic      0   NaN   \n",
       "1      20090312431273200          1323    person_click  basic      0   NaN   \n",
       "2      20090312431273200           831    person_click  basic      0   NaN   \n",
       "\n",
       "       room_coor_x  room_coor_y  screen_coor_x  screen_coor_y  hover_duration  \\\n",
       "index                                                                           \n",
       "0      -413.991405  -159.314686          380.0          494.0             NaN   \n",
       "1      -413.991405  -159.314686          380.0          494.0             NaN   \n",
       "2      -413.991405  -159.314686          380.0          494.0             NaN   \n",
       "\n",
       "                                text    fqid                       room_fqid  \\\n",
       "index                                                                          \n",
       "0                          undefined   intro  tunic.historicalsociety.closet   \n",
       "1      Whatcha doing over there, Jo?  gramps  tunic.historicalsociety.closet   \n",
       "2             Just talking to Teddy.  gramps  tunic.historicalsociety.closet   \n",
       "\n",
       "                                               text_fqid  fullscreen  hq  \\\n",
       "index                                                                      \n",
       "0                   tunic.historicalsociety.closet.intro         NaN NaN   \n",
       "1      tunic.historicalsociety.closet.gramps.intro_0_...         NaN NaN   \n",
       "2      tunic.historicalsociety.closet.gramps.intro_0_...         NaN NaN   \n",
       "\n",
       "       music level_group  \n",
       "index                     \n",
       "0        NaN         0-4  \n",
       "1        NaN         0-4  \n",
       "2        NaN         0-4  "
      ]
     },
     "metadata": {},
     "output_type": "display_data"
    }
   ],
   "source": [
    "# load the source training set\n",
    "df_source = pd.read_csv('data/train.csv.gz', compression='gzip', index_col=1)\n",
    "\n",
    "print(df_source.shape)\n",
    "with pd.option_context('display.max_columns', None):\n",
    "    display(df_source.head(3))"
   ]
  },
  {
   "cell_type": "code",
   "execution_count": 5,
   "metadata": {},
   "outputs": [
    {
     "name": "stdout",
     "output_type": "stream",
     "text": [
      "(212022, 2)\n"
     ]
    },
    {
     "data": {
      "text/html": [
       "<div>\n",
       "<style scoped>\n",
       "    .dataframe tbody tr th:only-of-type {\n",
       "        vertical-align: middle;\n",
       "    }\n",
       "\n",
       "    .dataframe tbody tr th {\n",
       "        vertical-align: top;\n",
       "    }\n",
       "\n",
       "    .dataframe thead th {\n",
       "        text-align: right;\n",
       "    }\n",
       "</style>\n",
       "<table border=\"1\" class=\"dataframe\">\n",
       "  <thead>\n",
       "    <tr style=\"text-align: right;\">\n",
       "      <th></th>\n",
       "      <th>session_id</th>\n",
       "      <th>correct</th>\n",
       "    </tr>\n",
       "  </thead>\n",
       "  <tbody>\n",
       "    <tr>\n",
       "      <th>0</th>\n",
       "      <td>20090312431273200_q1</td>\n",
       "      <td>1</td>\n",
       "    </tr>\n",
       "    <tr>\n",
       "      <th>1</th>\n",
       "      <td>20090312433251036_q1</td>\n",
       "      <td>0</td>\n",
       "    </tr>\n",
       "    <tr>\n",
       "      <th>2</th>\n",
       "      <td>20090314121766812_q1</td>\n",
       "      <td>1</td>\n",
       "    </tr>\n",
       "  </tbody>\n",
       "</table>\n",
       "</div>"
      ],
      "text/plain": [
       "             session_id  correct\n",
       "0  20090312431273200_q1        1\n",
       "1  20090312433251036_q1        0\n",
       "2  20090314121766812_q1        1"
      ]
     },
     "metadata": {},
     "output_type": "display_data"
    }
   ],
   "source": [
    "# load the source training labels\n",
    "df_source_labels = pd.read_csv('data/train_labels.csv')\n",
    "\n",
    "print(df_source_labels.shape)\n",
    "with pd.option_context('display.max_columns', None):\n",
    "    display(df_source_labels.head(3))"
   ]
  },
  {
   "cell_type": "markdown",
   "metadata": {},
   "source": [
    "## Functions"
   ]
  },
  {
   "cell_type": "markdown",
   "metadata": {},
   "source": [
    "### Functions to prepare the data"
   ]
  },
  {
   "cell_type": "code",
   "execution_count": 6,
   "metadata": {},
   "outputs": [],
   "source": [
    "def map_question_to_level_group(question_number):\n",
    "    \"\"\"\n",
    "    Maps the question number to the level group.\n",
    "\n",
    "    Parameters\n",
    "    ----------\n",
    "    question_number : int\n",
    "        The question number.\n",
    "\n",
    "    Returns\n",
    "    -------\n",
    "    str\n",
    "        The level group.\n",
    "    \"\"\"\n",
    "    if question_number in [1, 2, 3]:\n",
    "        return '0-4'\n",
    "    elif question_number in [4, 5, 6, 7, 8, 9, 10, 11, 12, 13]:\n",
    "        return '5-12'\n",
    "    elif question_number in [14, 15, 16, 17, 18]:\n",
    "        return '13-22'\n",
    "    else:\n",
    "        return None\n",
    "\n",
    "def prepare_label_dataset(data : pd.DataFrame) -> pd.DataFrame:\n",
    "    \"\"\"\n",
    "    Prepares the label dataset and add columns for the level group \n",
    "    and the question number.\n",
    "\n",
    "    Parameters\n",
    "    ----------\n",
    "    data : pd.DataFrame\n",
    "        The label dataset.\n",
    "\n",
    "    Returns\n",
    "    -------\n",
    "    pd.DataFrame\n",
    "        The prepared label dataset.\n",
    "    \"\"\"\n",
    "    # add the columns to determine the level group\n",
    "    df_labels = data \\\n",
    "        .rename(columns={'session_id': 'id'}) \\\n",
    "        .assign(session_id=lambda df: df['id'].str.split('_').str[0].astype(int)) \\\n",
    "        .assign(question_id=lambda df: df['id'].str.split('_').str[1]) \\\n",
    "        .assign(question_num=lambda df: df['question_id'].str[1:].astype(int)) \\\n",
    "        [['session_id', 'question_num', 'correct']]\n",
    "    \n",
    "    # add the level group column\n",
    "    df_labels['level_group'] = df_labels['question_num'].apply(map_question_to_level_group) \n",
    "        \n",
    "    return df_labels"
   ]
  },
  {
   "cell_type": "code",
   "execution_count": 7,
   "metadata": {},
   "outputs": [],
   "source": [
    "def prepare_main_dataset(data : pd.DataFrame) -> pd.DataFrame:\n",
    "    \"\"\"\n",
    "    Prepares the main dataset by removing duplicates and removing \n",
    "    columns that are not needed.\n",
    "\n",
    "    Parameters\n",
    "    ----------\n",
    "    data : pd.DataFrame\n",
    "        The main dataset.\n",
    "\n",
    "    Returns\n",
    "    -------\n",
    "    pd.DataFrame\n",
    "        The prepared main dataset.\n",
    "    \"\"\"\n",
    "    empty_columns = ['fullscreen', 'hq', 'music', 'page', 'hover_duration']\n",
    "\n",
    "    df_main = data \\\n",
    "        .drop_duplicates() \\\n",
    "        .reset_index(drop=True) \\\n",
    "        .drop(empty_columns, axis=1) \\\n",
    "        .drop('text', axis=1)\n",
    "\n",
    "    return df_main"
   ]
  },
  {
   "cell_type": "code",
   "execution_count": 8,
   "metadata": {},
   "outputs": [],
   "source": [
    "def select_sessions(\n",
    "        y: pd.DataFrame,\n",
    "        sample_size: int,\n",
    "        random_state: int=1337) -> Tuple[np.ndarray, np.ndarray, np.ndarray]:\n",
    "    \"\"\"\n",
    "    Selects a sample of sessions from the dataset.\n",
    "\n",
    "    Parameters\n",
    "    ----------\n",
    "    y : pd.DataFrame\n",
    "        The label dataset.\n",
    "    sample_size : int\n",
    "        The number of sessions to select.\n",
    "    random_state : int\n",
    "        The random state to use.\n",
    "\n",
    "    Returns\n",
    "    -------\n",
    "    Tuple[np.ndarray, np.ndarray, np.ndarray]\n",
    "        The selected session ids, the main dataset and the label dataset.\n",
    "    \"\"\"\n",
    "    # select all the unique session ids\n",
    "    all_session_ids = y['session_id'].unique()\n",
    "\n",
    "    # create a sample for testing\n",
    "    session_ids = np.random.choice(all_session_ids, size=sample_size, replace=False)\n",
    "\n",
    "    # split the dataset into train, validation and test sets\n",
    "    train, test = train_test_split(session_ids, test_size=0.4)\n",
    "    test, val = train_test_split(test, test_size=0.5)\n",
    "\n",
    "    # print the number of sessions in each set\n",
    "    print(f'Train: {len(train)}')\n",
    "    print(f'Validation: {len(val)}')\n",
    "    print(f'Test: {len(test)}')\n",
    "\n",
    "    return train, val, test"
   ]
  },
  {
   "attachments": {},
   "cell_type": "markdown",
   "metadata": {},
   "source": [
    "## Data Preprocessing"
   ]
  },
  {
   "cell_type": "code",
   "execution_count": 9,
   "metadata": {},
   "outputs": [
    {
     "name": "stdout",
     "output_type": "stream",
     "text": [
      "(13173445, 13)\n"
     ]
    },
    {
     "data": {
      "text/html": [
       "<div>\n",
       "<style scoped>\n",
       "    .dataframe tbody tr th:only-of-type {\n",
       "        vertical-align: middle;\n",
       "    }\n",
       "\n",
       "    .dataframe tbody tr th {\n",
       "        vertical-align: top;\n",
       "    }\n",
       "\n",
       "    .dataframe thead th {\n",
       "        text-align: right;\n",
       "    }\n",
       "</style>\n",
       "<table border=\"1\" class=\"dataframe\">\n",
       "  <thead>\n",
       "    <tr style=\"text-align: right;\">\n",
       "      <th></th>\n",
       "      <th>session_id</th>\n",
       "      <th>elapsed_time</th>\n",
       "      <th>event_name</th>\n",
       "      <th>name</th>\n",
       "      <th>level</th>\n",
       "      <th>room_coor_x</th>\n",
       "      <th>room_coor_y</th>\n",
       "      <th>screen_coor_x</th>\n",
       "      <th>screen_coor_y</th>\n",
       "      <th>fqid</th>\n",
       "      <th>room_fqid</th>\n",
       "      <th>text_fqid</th>\n",
       "      <th>level_group</th>\n",
       "    </tr>\n",
       "  </thead>\n",
       "  <tbody>\n",
       "    <tr>\n",
       "      <th>0</th>\n",
       "      <td>20090312431273200</td>\n",
       "      <td>0</td>\n",
       "      <td>cutscene_click</td>\n",
       "      <td>basic</td>\n",
       "      <td>0</td>\n",
       "      <td>-413.991405</td>\n",
       "      <td>-159.314686</td>\n",
       "      <td>380.0</td>\n",
       "      <td>494.0</td>\n",
       "      <td>intro</td>\n",
       "      <td>tunic.historicalsociety.closet</td>\n",
       "      <td>tunic.historicalsociety.closet.intro</td>\n",
       "      <td>0-4</td>\n",
       "    </tr>\n",
       "    <tr>\n",
       "      <th>1</th>\n",
       "      <td>20090312431273200</td>\n",
       "      <td>1323</td>\n",
       "      <td>person_click</td>\n",
       "      <td>basic</td>\n",
       "      <td>0</td>\n",
       "      <td>-413.991405</td>\n",
       "      <td>-159.314686</td>\n",
       "      <td>380.0</td>\n",
       "      <td>494.0</td>\n",
       "      <td>gramps</td>\n",
       "      <td>tunic.historicalsociety.closet</td>\n",
       "      <td>tunic.historicalsociety.closet.gramps.intro_0_...</td>\n",
       "      <td>0-4</td>\n",
       "    </tr>\n",
       "    <tr>\n",
       "      <th>2</th>\n",
       "      <td>20090312431273200</td>\n",
       "      <td>831</td>\n",
       "      <td>person_click</td>\n",
       "      <td>basic</td>\n",
       "      <td>0</td>\n",
       "      <td>-413.991405</td>\n",
       "      <td>-159.314686</td>\n",
       "      <td>380.0</td>\n",
       "      <td>494.0</td>\n",
       "      <td>gramps</td>\n",
       "      <td>tunic.historicalsociety.closet</td>\n",
       "      <td>tunic.historicalsociety.closet.gramps.intro_0_...</td>\n",
       "      <td>0-4</td>\n",
       "    </tr>\n",
       "  </tbody>\n",
       "</table>\n",
       "</div>"
      ],
      "text/plain": [
       "          session_id  elapsed_time      event_name   name  level  room_coor_x  \\\n",
       "0  20090312431273200             0  cutscene_click  basic      0  -413.991405   \n",
       "1  20090312431273200          1323    person_click  basic      0  -413.991405   \n",
       "2  20090312431273200           831    person_click  basic      0  -413.991405   \n",
       "\n",
       "   room_coor_y  screen_coor_x  screen_coor_y    fqid  \\\n",
       "0  -159.314686          380.0          494.0   intro   \n",
       "1  -159.314686          380.0          494.0  gramps   \n",
       "2  -159.314686          380.0          494.0  gramps   \n",
       "\n",
       "                        room_fqid  \\\n",
       "0  tunic.historicalsociety.closet   \n",
       "1  tunic.historicalsociety.closet   \n",
       "2  tunic.historicalsociety.closet   \n",
       "\n",
       "                                           text_fqid level_group  \n",
       "0               tunic.historicalsociety.closet.intro         0-4  \n",
       "1  tunic.historicalsociety.closet.gramps.intro_0_...         0-4  \n",
       "2  tunic.historicalsociety.closet.gramps.intro_0_...         0-4  "
      ]
     },
     "metadata": {},
     "output_type": "display_data"
    }
   ],
   "source": [
    "# prepare the main dataset\n",
    "df_source = prepare_main_dataset(df_source)\n",
    "\n",
    "with pd.option_context('display.max_columns', None):\n",
    "    print(df_source.shape)\n",
    "    display(df_source.head(3))  "
   ]
  },
  {
   "cell_type": "code",
   "execution_count": 10,
   "metadata": {},
   "outputs": [
    {
     "data": {
      "text/html": [
       "<div>\n",
       "<style scoped>\n",
       "    .dataframe tbody tr th:only-of-type {\n",
       "        vertical-align: middle;\n",
       "    }\n",
       "\n",
       "    .dataframe tbody tr th {\n",
       "        vertical-align: top;\n",
       "    }\n",
       "\n",
       "    .dataframe thead th {\n",
       "        text-align: right;\n",
       "    }\n",
       "</style>\n",
       "<table border=\"1\" class=\"dataframe\">\n",
       "  <thead>\n",
       "    <tr style=\"text-align: right;\">\n",
       "      <th></th>\n",
       "      <th>session_id</th>\n",
       "      <th>question_num</th>\n",
       "      <th>correct</th>\n",
       "      <th>level_group</th>\n",
       "    </tr>\n",
       "  </thead>\n",
       "  <tbody>\n",
       "    <tr>\n",
       "      <th>21476</th>\n",
       "      <td>22010116250792520</td>\n",
       "      <td>2</td>\n",
       "      <td>1</td>\n",
       "      <td>0-4</td>\n",
       "    </tr>\n",
       "    <tr>\n",
       "      <th>84068</th>\n",
       "      <td>21000111433937450</td>\n",
       "      <td>8</td>\n",
       "      <td>1</td>\n",
       "      <td>5-12</td>\n",
       "    </tr>\n",
       "    <tr>\n",
       "      <th>171219</th>\n",
       "      <td>21040510125933256</td>\n",
       "      <td>15</td>\n",
       "      <td>0</td>\n",
       "      <td>13-22</td>\n",
       "    </tr>\n",
       "  </tbody>\n",
       "</table>\n",
       "</div>"
      ],
      "text/plain": [
       "               session_id  question_num  correct level_group\n",
       "21476   22010116250792520             2        1         0-4\n",
       "84068   21000111433937450             8        1        5-12\n",
       "171219  21040510125933256            15        0       13-22"
      ]
     },
     "metadata": {},
     "output_type": "display_data"
    }
   ],
   "source": [
    "# prepare the label dataset\n",
    "df_source_labels = prepare_label_dataset(df_source_labels)\n",
    "\n",
    "with pd.option_context('display.max_columns', None):\n",
    "    display(df_source_labels.sample(n=3, random_state=51))"
   ]
  },
  {
   "cell_type": "markdown",
   "metadata": {},
   "source": [
    "## Data Selection"
   ]
  },
  {
   "cell_type": "code",
   "execution_count": 11,
   "metadata": {},
   "outputs": [],
   "source": [
    "random_state = 51\n",
    "sample_size = df_source_labels['session_id'].nunique()\n",
    "#sample_size=2000"
   ]
  },
  {
   "cell_type": "code",
   "execution_count": 12,
   "metadata": {},
   "outputs": [
    {
     "name": "stdout",
     "output_type": "stream",
     "text": [
      "Train: 7067\n",
      "Validation: 2356\n",
      "Test: 2356\n"
     ]
    }
   ],
   "source": [
    "train, val, test = select_sessions(\n",
    "    y=df_source_labels,\n",
    "    sample_size=sample_size,\n",
    "    random_state=random_state)"
   ]
  },
  {
   "cell_type": "markdown",
   "metadata": {},
   "source": [
    "## Functions for Modeling Data"
   ]
  },
  {
   "attachments": {},
   "cell_type": "markdown",
   "metadata": {},
   "source": [
    "### Create Basic Dataset"
   ]
  },
  {
   "cell_type": "code",
   "execution_count": 13,
   "metadata": {},
   "outputs": [
    {
     "name": "stdout",
     "output_type": "stream",
     "text": [
      "(1, 1)\n"
     ]
    },
    {
     "data": {
      "text/html": [
       "<div>\n",
       "<style scoped>\n",
       "    .dataframe tbody tr th:only-of-type {\n",
       "        vertical-align: middle;\n",
       "    }\n",
       "\n",
       "    .dataframe tbody tr th {\n",
       "        vertical-align: top;\n",
       "    }\n",
       "\n",
       "    .dataframe thead th {\n",
       "        text-align: right;\n",
       "    }\n",
       "</style>\n",
       "<table border=\"1\" class=\"dataframe\">\n",
       "  <thead>\n",
       "    <tr style=\"text-align: right;\">\n",
       "      <th></th>\n",
       "      <th>level_group</th>\n",
       "    </tr>\n",
       "  </thead>\n",
       "  <tbody>\n",
       "    <tr>\n",
       "      <th>0</th>\n",
       "      <td>0-4</td>\n",
       "    </tr>\n",
       "  </tbody>\n",
       "</table>\n",
       "</div>"
      ],
      "text/plain": [
       "  level_group\n",
       "0         0-4"
      ]
     },
     "metadata": {},
     "output_type": "display_data"
    }
   ],
   "source": [
    "def create_basic_session_features(df_session:pd.DataFrame,\n",
    "                                  level_group:str) -> pd.DataFrame:\n",
    "    \"\"\"\n",
    "    Create a dataset with the most basic features for a single session.\n",
    "\n",
    "    Parameters\n",
    "    ----------\n",
    "    df_session : pd.DataFrame\n",
    "        The session dataset.\n",
    "\n",
    "    Returns\n",
    "    -------\n",
    "    pd.DataFrame\n",
    "        The session dataset.\n",
    "    \"\"\"\n",
    "    df_features = df_session \\\n",
    "        .query(f'level_group == \"{level_group}\"') \\\n",
    "        [['level_group']] \\\n",
    "        .drop_duplicates() \\\n",
    "        .reset_index(drop=True)\n",
    "\n",
    "    return df_features\n",
    "\n",
    "# test the function\n",
    "session_id = train[0]\n",
    "df_session = df_source[df_source['session_id'] == session_id]\n",
    "\n",
    "df_session = create_basic_session_features(df_session, '0-4')\n",
    "print(df_session.shape)\n",
    "with pd.option_context('display.max_columns', None):\n",
    "    display(df_session.tail(3))"
   ]
  },
  {
   "cell_type": "markdown",
   "metadata": {},
   "source": [
    "### Generic functions for creating feature datasets"
   ]
  },
  {
   "cell_type": "code",
   "execution_count": 14,
   "metadata": {},
   "outputs": [
    {
     "name": "stdout",
     "output_type": "stream",
     "text": [
      "(18, 2)\n"
     ]
    },
    {
     "data": {
      "text/html": [
       "<div>\n",
       "<style scoped>\n",
       "    .dataframe tbody tr th:only-of-type {\n",
       "        vertical-align: middle;\n",
       "    }\n",
       "\n",
       "    .dataframe tbody tr th {\n",
       "        vertical-align: top;\n",
       "    }\n",
       "\n",
       "    .dataframe thead th {\n",
       "        text-align: right;\n",
       "    }\n",
       "</style>\n",
       "<table border=\"1\" class=\"dataframe\">\n",
       "  <thead>\n",
       "    <tr style=\"text-align: right;\">\n",
       "      <th></th>\n",
       "      <th>question_num</th>\n",
       "      <th>correct</th>\n",
       "    </tr>\n",
       "  </thead>\n",
       "  <tbody>\n",
       "    <tr>\n",
       "      <th>0</th>\n",
       "      <td>1</td>\n",
       "      <td>1</td>\n",
       "    </tr>\n",
       "    <tr>\n",
       "      <th>1</th>\n",
       "      <td>2</td>\n",
       "      <td>1</td>\n",
       "    </tr>\n",
       "    <tr>\n",
       "      <th>2</th>\n",
       "      <td>3</td>\n",
       "      <td>1</td>\n",
       "    </tr>\n",
       "  </tbody>\n",
       "</table>\n",
       "</div>"
      ],
      "text/plain": [
       "   question_num  correct\n",
       "0             1        1\n",
       "1             2        1\n",
       "2             3        1"
      ]
     },
     "metadata": {},
     "output_type": "display_data"
    }
   ],
   "source": [
    "def create_session_dataset(X:pd.DataFrame,\n",
    "                                 y:pd.DataFrame,\n",
    "                                 session_id:str,\n",
    "                                 create_features) -> Tuple[pd.DataFrame, pd.DataFrame]:\n",
    "    \"\"\"\n",
    "    Create a dataset with the most basic features for a single session.\n",
    "\n",
    "    Parameters\n",
    "    ----------\n",
    "    X : pd.DataFrame\n",
    "        The main dataset.\n",
    "    y : pd.DataFrame\n",
    "        The label dataset.\n",
    "    session_id : str\n",
    "        The session id.\n",
    "\n",
    "    Returns\n",
    "    -------\n",
    "    Tuple[pd.DataFrame, pd.DataFrame]\n",
    "        The session dataset and the session label dataset.\n",
    "    \"\"\"\n",
    "    features = pd.DataFrame()\n",
    "    y_true = []\n",
    "\n",
    "    # select the session data\n",
    "    df_session_labels = y.query('session_id == @session_id')\n",
    "    df_session = X.query('session_id == @session_id')\n",
    "\n",
    "    # create the features for each level group\n",
    "    features_group = {\n",
    "        '0-4': create_features(df_session, '0-4'),\n",
    "        '5-12': create_features(df_session, '5-12'),\n",
    "        '13-22': create_features(df_session, '13-22'),\n",
    "    }\n",
    "\n",
    "    # iterate over all the questions answered in the session\n",
    "    for _, row in df_session_labels.iterrows():\n",
    "        # get the question number, correct answer and level group\n",
    "        question_num = row['question_num']\n",
    "        correct = row['correct']\n",
    "        level_group = row['level_group']\n",
    "\n",
    "        # append the label as the target value\n",
    "        y_true.append(correct)\n",
    "\n",
    "        # get the features for the level group\n",
    "        question_features = features_group[level_group] \\\n",
    "            .assign(question_num=question_num) \\\n",
    "            .drop('level_group', axis=1)\n",
    "        \n",
    "        # append the features to the dataset\n",
    "        features = pd.concat([features, question_features], axis=0)\n",
    "\n",
    "\n",
    "    return features.reset_index(drop=True), np.array(y_true)\n",
    "\n",
    "# test the function\n",
    "session_id = train[0]\n",
    "df_session, y_session = create_session_dataset(\n",
    "    X=df_source,\n",
    "    y=df_source_labels,\n",
    "    session_id=session_id,\n",
    "    create_features=create_basic_session_features)\n",
    "\n",
    "df_session['correct'] = y_session\n",
    "\n",
    "print(df_session.shape)\n",
    "with pd.option_context('display.max_columns', None):\n",
    "    display(df_session.head(3))"
   ]
  },
  {
   "cell_type": "code",
   "execution_count": 15,
   "metadata": {},
   "outputs": [
    {
     "data": {
      "application/vnd.jupyter.widget-view+json": {
       "model_id": "3467de98a40d483a814e771f0d71cb04",
       "version_major": 2,
       "version_minor": 0
      },
      "text/plain": [
       "  0%|          | 0/3 [00:00<?, ?it/s]"
      ]
     },
     "metadata": {},
     "output_type": "display_data"
    },
    {
     "name": "stdout",
     "output_type": "stream",
     "text": [
      "(54, 2)\n"
     ]
    },
    {
     "data": {
      "text/html": [
       "<div>\n",
       "<style scoped>\n",
       "    .dataframe tbody tr th:only-of-type {\n",
       "        vertical-align: middle;\n",
       "    }\n",
       "\n",
       "    .dataframe tbody tr th {\n",
       "        vertical-align: top;\n",
       "    }\n",
       "\n",
       "    .dataframe thead th {\n",
       "        text-align: right;\n",
       "    }\n",
       "</style>\n",
       "<table border=\"1\" class=\"dataframe\">\n",
       "  <thead>\n",
       "    <tr style=\"text-align: right;\">\n",
       "      <th></th>\n",
       "      <th>question_num</th>\n",
       "      <th>correct</th>\n",
       "    </tr>\n",
       "  </thead>\n",
       "  <tbody>\n",
       "    <tr>\n",
       "      <th>0</th>\n",
       "      <td>1</td>\n",
       "      <td>1</td>\n",
       "    </tr>\n",
       "    <tr>\n",
       "      <th>1</th>\n",
       "      <td>2</td>\n",
       "      <td>1</td>\n",
       "    </tr>\n",
       "    <tr>\n",
       "      <th>2</th>\n",
       "      <td>3</td>\n",
       "      <td>1</td>\n",
       "    </tr>\n",
       "  </tbody>\n",
       "</table>\n",
       "</div>"
      ],
      "text/plain": [
       "   question_num  correct\n",
       "0             1        1\n",
       "1             2        1\n",
       "2             3        1"
      ]
     },
     "metadata": {},
     "output_type": "display_data"
    }
   ],
   "source": [
    "def create_dataset(X:pd.DataFrame,\n",
    "                   y:pd.DataFrame,\n",
    "                   session_list:np.ndarray,\n",
    "                   create_features) -> pd.DataFrame:\n",
    "    \n",
    "    df_sessions = pd.DataFrame()\n",
    "    \n",
    "    for session_id in tqdm(session_list):\n",
    "        # create the session dataset\n",
    "        df_session, y_session = create_session_dataset(\n",
    "            X=X,\n",
    "            y=y,\n",
    "            session_id=session_id,\n",
    "            create_features=create_features)\n",
    "        \n",
    "        # add the label for pycaret training\n",
    "        df_session['correct'] = y_session\n",
    "\n",
    "        # append the session dataset to the main dataset\n",
    "        df_sessions = pd.concat([df_sessions, df_session], axis=0)\n",
    "\n",
    "    return df_sessions.reset_index(drop=True)\n",
    "\n",
    "\n",
    "# test the function\n",
    "df_basic = create_dataset(\n",
    "    X=df_source,\n",
    "    y=df_source_labels,\n",
    "    session_list=train[:3],\n",
    "    create_features=create_basic_session_features)\n",
    "\n",
    "print(df_basic.shape)\n",
    "with pd.option_context('display.max_columns', None):\n",
    "    display(df_basic.head(3))"
   ]
  },
  {
   "attachments": {},
   "cell_type": "markdown",
   "metadata": {},
   "source": [
    "### Elapsed Time Features"
   ]
  },
  {
   "cell_type": "code",
   "execution_count": 16,
   "metadata": {},
   "outputs": [
    {
     "name": "stdout",
     "output_type": "stream",
     "text": [
      "(1, 2)\n"
     ]
    },
    {
     "data": {
      "text/html": [
       "<div>\n",
       "<style scoped>\n",
       "    .dataframe tbody tr th:only-of-type {\n",
       "        vertical-align: middle;\n",
       "    }\n",
       "\n",
       "    .dataframe tbody tr th {\n",
       "        vertical-align: top;\n",
       "    }\n",
       "\n",
       "    .dataframe thead th {\n",
       "        text-align: right;\n",
       "    }\n",
       "</style>\n",
       "<table border=\"1\" class=\"dataframe\">\n",
       "  <thead>\n",
       "    <tr style=\"text-align: right;\">\n",
       "      <th></th>\n",
       "      <th>level_group</th>\n",
       "      <th>elapsed_time</th>\n",
       "    </tr>\n",
       "  </thead>\n",
       "  <tbody>\n",
       "    <tr>\n",
       "      <th>0</th>\n",
       "      <td>0-4</td>\n",
       "      <td>2657121</td>\n",
       "    </tr>\n",
       "  </tbody>\n",
       "</table>\n",
       "</div>"
      ],
      "text/plain": [
       "  level_group  elapsed_time\n",
       "0         0-4       2657121"
      ]
     },
     "metadata": {},
     "output_type": "display_data"
    }
   ],
   "source": [
    "def create_elapsed_time_session_features(df_session:pd.DataFrame,\n",
    "                                  level_group:str) -> pd.DataFrame:\n",
    "    \"\"\"\n",
    "    Create a dataset with the most basic features for a single session.\n",
    "\n",
    "    Parameters\n",
    "    ----------\n",
    "    df_session : pd.DataFrame\n",
    "        The session dataset.\n",
    "\n",
    "    Returns\n",
    "    -------\n",
    "    pd.DataFrame\n",
    "        The session dataset.\n",
    "    \"\"\"\n",
    "    df_features = df_session \\\n",
    "        .query(f'level_group == \"{level_group}\"') \\\n",
    "        .groupby('level_group') \\\n",
    "        .agg({'elapsed_time': 'max'}) \\\n",
    "        .reset_index(drop=False)\n",
    "\n",
    "    return df_features\n",
    "\n",
    "# test the function\n",
    "session_id = train[0]\n",
    "df_session = df_source[df_source['session_id'] == session_id]\n",
    "\n",
    "df_session = create_elapsed_time_session_features(df_session, '0-4')\n",
    "print(df_session.shape)\n",
    "with pd.option_context('display.max_columns', None):\n",
    "    display(df_session.tail(3))"
   ]
  },
  {
   "attachments": {},
   "cell_type": "markdown",
   "metadata": {},
   "source": [
    "### Event Count Features"
   ]
  },
  {
   "cell_type": "code",
   "execution_count": 17,
   "metadata": {},
   "outputs": [
    {
     "name": "stdout",
     "output_type": "stream",
     "text": [
      "(1, 12)\n"
     ]
    },
    {
     "data": {
      "text/html": [
       "<div>\n",
       "<style scoped>\n",
       "    .dataframe tbody tr th:only-of-type {\n",
       "        vertical-align: middle;\n",
       "    }\n",
       "\n",
       "    .dataframe tbody tr th {\n",
       "        vertical-align: top;\n",
       "    }\n",
       "\n",
       "    .dataframe thead th {\n",
       "        text-align: right;\n",
       "    }\n",
       "</style>\n",
       "<table border=\"1\" class=\"dataframe\">\n",
       "  <thead>\n",
       "    <tr style=\"text-align: right;\">\n",
       "      <th>event_name</th>\n",
       "      <th>checkpoint</th>\n",
       "      <th>cutscene_click</th>\n",
       "      <th>map_click</th>\n",
       "      <th>map_hover</th>\n",
       "      <th>navigate_click</th>\n",
       "      <th>notebook_click</th>\n",
       "      <th>notification_click</th>\n",
       "      <th>object_click</th>\n",
       "      <th>object_hover</th>\n",
       "      <th>observation_click</th>\n",
       "      <th>person_click</th>\n",
       "      <th>level_group</th>\n",
       "    </tr>\n",
       "  </thead>\n",
       "  <tbody>\n",
       "    <tr>\n",
       "      <th>0</th>\n",
       "      <td>1</td>\n",
       "      <td>34</td>\n",
       "      <td>2</td>\n",
       "      <td>2</td>\n",
       "      <td>74</td>\n",
       "      <td>3</td>\n",
       "      <td>12</td>\n",
       "      <td>39</td>\n",
       "      <td>8</td>\n",
       "      <td>3</td>\n",
       "      <td>23</td>\n",
       "      <td>0-4</td>\n",
       "    </tr>\n",
       "  </tbody>\n",
       "</table>\n",
       "</div>"
      ],
      "text/plain": [
       "event_name  checkpoint  cutscene_click  map_click  map_hover  navigate_click  \\\n",
       "0                    1              34          2          2              74   \n",
       "\n",
       "event_name  notebook_click  notification_click  object_click  object_hover  \\\n",
       "0                        3                  12            39             8   \n",
       "\n",
       "event_name  observation_click  person_click level_group  \n",
       "0                           3            23         0-4  "
      ]
     },
     "metadata": {},
     "output_type": "display_data"
    }
   ],
   "source": [
    "def create_event_count_session_features(df_session:pd.DataFrame,\n",
    "                                  level_group:str) -> pd.DataFrame:\n",
    "    \"\"\"\n",
    "    Create a dataset with the event features for a single session.\n",
    "\n",
    "    Parameters\n",
    "    ----------\n",
    "    df_session : pd.DataFrame\n",
    "        The session dataset.\n",
    "\n",
    "    Returns\n",
    "    -------\n",
    "    pd.DataFrame\n",
    "        The session dataset.\n",
    "    \"\"\"\n",
    "    df_features = df_session \\\n",
    "        .query(f'level_group == \"{level_group}\"') \\\n",
    "        .groupby('event_name') \\\n",
    "        .agg({'event_name': ['count']}) \\\n",
    "        .T \\\n",
    "        .assign(level_group=level_group) \\\n",
    "        .reset_index(drop=True)\n",
    "\n",
    "    # df_features = df_session \\\n",
    "    #     .query(f'level_group == \"{level_group}\"') \\\n",
    "    #     .groupby('level_group') \\\n",
    "    #     .agg({'elapsed_time': 'max'}) \\\n",
    "    #     .reset_index(drop=False)\n",
    "\n",
    "    return df_features\n",
    "\n",
    "# test the function\n",
    "session_id = train[0]\n",
    "df_session = df_source[df_source['session_id'] == session_id]\n",
    "\n",
    "df_session = create_event_count_session_features(df_session, '0-4')\n",
    "print(df_session.shape)\n",
    "with pd.option_context('display.max_columns', None):\n",
    "    display(df_session.head(10))"
   ]
  },
  {
   "attachments": {},
   "cell_type": "markdown",
   "metadata": {},
   "source": [
    "## Model Training"
   ]
  },
  {
   "cell_type": "code",
   "execution_count": 18,
   "metadata": {},
   "outputs": [],
   "source": [
    "def test_features(X:pd.DataFrame,\n",
    "                  y:pd.DataFrame,\n",
    "                  create_features) -> pd.DataFrame:\n",
    "    \n",
    "    # create the datasets\n",
    "    df_train = create_dataset(X=X, y=y, session_list=train, create_features=create_features)\n",
    "    df_val = create_dataset(X=X, y=y, session_list=val, create_features=create_features)\n",
    "    df_test = create_dataset(X=X, y=y, session_list=test, create_features=create_features)\n",
    "\n",
    "    # prepare the classifier\n",
    "    classifier = setup(\n",
    "        data=df_train,\n",
    "        test_data=df_val,\n",
    "        target='correct',\n",
    "        train_size=1,\n",
    "        session_id=random_state,\n",
    "        fix_imbalance=False,\n",
    "        fix_imbalance_method='RandomOverSampler',\n",
    "        html=False,\n",
    "        verbose=True)\n",
    "    \n",
    "    # compare the models\n",
    "    top_model = compare_models(exclude=['knn'], n_select=5)\n",
    "\n",
    "    # test the top model\n",
    "    df_predicted = predict_model(estimator=top_model[0], data=df_test)\n",
    "    print(classification_report(y_true=df_predicted.correct, y_pred=df_predicted.prediction_label))    "
   ]
  },
  {
   "attachments": {},
   "cell_type": "markdown",
   "metadata": {},
   "source": [
    "### Basic Dataset"
   ]
  },
  {
   "cell_type": "code",
   "execution_count": 19,
   "metadata": {},
   "outputs": [
    {
     "data": {
      "application/vnd.jupyter.widget-view+json": {
       "model_id": "1b2312967e414d25a057f0947401b18e",
       "version_major": 2,
       "version_minor": 0
      },
      "text/plain": [
       "  0%|          | 0/7067 [00:00<?, ?it/s]"
      ]
     },
     "metadata": {},
     "output_type": "display_data"
    },
    {
     "data": {
      "application/vnd.jupyter.widget-view+json": {
       "model_id": "7bcd6cd60eb448639846c471fff2ea15",
       "version_major": 2,
       "version_minor": 0
      },
      "text/plain": [
       "  0%|          | 0/2356 [00:00<?, ?it/s]"
      ]
     },
     "metadata": {},
     "output_type": "display_data"
    },
    {
     "data": {
      "application/vnd.jupyter.widget-view+json": {
       "model_id": "4ce8ec35d95840deaaf41ddde49bb881",
       "version_major": 2,
       "version_minor": 0
      },
      "text/plain": [
       "  0%|          | 0/2356 [00:00<?, ?it/s]"
      ]
     },
     "metadata": {},
     "output_type": "display_data"
    },
    {
     "name": "stdout",
     "output_type": "stream",
     "text": [
      "                    Description             Value\n",
      "0                    Session id                51\n",
      "1                        Target           correct\n",
      "2                   Target type            Binary\n",
      "3           Original data shape       (169614, 2)\n",
      "4        Transformed data shape       (169614, 2)\n",
      "5   Transformed train set shape       (127206, 2)\n",
      "6    Transformed test set shape        (42408, 2)\n",
      "7              Numeric features                 1\n",
      "8                    Preprocess              True\n",
      "9               Imputation type            simple\n",
      "10           Numeric imputation              mean\n",
      "11       Categorical imputation              mode\n",
      "12               Fold Generator   StratifiedKFold\n",
      "13                  Fold Number                10\n",
      "14                     CPU Jobs                -1\n",
      "15                      Use GPU             False\n",
      "16               Log Experiment             False\n",
      "17              Experiment Name  clf-default-name\n",
      "18                          USI              829e\n"
     ]
    },
    {
     "name": "stderr",
     "output_type": "stream",
     "text": [
      "                                                           \r"
     ]
    },
    {
     "name": "stdout",
     "output_type": "stream",
     "text": [
      "                                    Model  Accuracy     AUC  Recall   Prec.  \\\n",
      "rf               Random Forest Classifier    0.7318  0.7301  0.9012  0.7616   \n",
      "dt               Decision Tree Classifier    0.7315  0.7301  0.9050  0.7598   \n",
      "gbc          Gradient Boosting Classifier    0.7315  0.7300  0.9405  0.7451   \n",
      "et                 Extra Trees Classifier    0.7315  0.7301  0.9050  0.7598   \n",
      "xgboost         Extreme Gradient Boosting    0.7315  0.7301  0.9050  0.7598   \n",
      "lightgbm  Light Gradient Boosting Machine    0.7315  0.7301  0.9050  0.7598   \n",
      "ada                  Ada Boost Classifier    0.7295  0.7224  0.9785  0.7296   \n",
      "lr                    Logistic Regression    0.7042  0.5607  1.0000  0.7042   \n",
      "nb                            Naive Bayes    0.7042  0.6260  1.0000  0.7042   \n",
      "svm                   SVM - Linear Kernel    0.7042  0.0000  1.0000  0.7042   \n",
      "ridge                    Ridge Classifier    0.7042  0.0000  1.0000  0.7042   \n",
      "qda       Quadratic Discriminant Analysis    0.7042  0.6260  1.0000  0.7042   \n",
      "lda          Linear Discriminant Analysis    0.7042  0.5607  1.0000  0.7042   \n",
      "dummy                    Dummy Classifier    0.7042  0.5000  1.0000  0.7042   \n",
      "\n",
      "              F1   Kappa     MCC  TT (Sec)  \n",
      "rf        0.8255  0.2628  0.2811     0.349  \n",
      "dt        0.8260  0.2571  0.2774     0.011  \n",
      "gbc       0.8315  0.2131  0.2535     0.241  \n",
      "et        0.8260  0.2571  0.2774     0.225  \n",
      "xgboost   0.8260  0.2571  0.2774     0.121  \n",
      "lightgbm  0.8260  0.2571  0.2774     0.059  \n",
      "ada       0.8359  0.1506  0.2294     0.160  \n",
      "lr        0.8264  0.0000  0.0000     0.154  \n",
      "nb        0.8264  0.0000  0.0000     0.071  \n",
      "svm       0.8264  0.0000  0.0000     0.051  \n",
      "ridge     0.8264  0.0000  0.0000     0.009  \n",
      "qda       0.8264  0.0000  0.0000     0.009  \n",
      "lda       0.8264  0.0000  0.0000     0.011  \n",
      "dummy     0.8264  0.0000  0.0000     0.009  \n",
      "                      Model  Accuracy     AUC  Recall   Prec.      F1   Kappa  \\\n",
      "0  Random Forest Classifier    0.7305  0.7275  0.9002  0.7609  0.8247  0.2589   \n",
      "\n",
      "      MCC  \n",
      "0  0.2769  \n",
      "              precision    recall  f1-score   support\n",
      "\n",
      "           0       0.58      0.33      0.42     12535\n",
      "           1       0.76      0.90      0.82     29873\n",
      "\n",
      "    accuracy                           0.73     42408\n",
      "   macro avg       0.67      0.61      0.62     42408\n",
      "weighted avg       0.71      0.73      0.70     42408\n",
      "\n"
     ]
    }
   ],
   "source": [
    "test_features(\n",
    "    X=df_source,\n",
    "    y=df_source_labels,\n",
    "    create_features=create_basic_session_features)"
   ]
  },
  {
   "attachments": {},
   "cell_type": "markdown",
   "metadata": {},
   "source": [
    "### Elapsed Time Dataset"
   ]
  },
  {
   "cell_type": "code",
   "execution_count": 20,
   "metadata": {},
   "outputs": [
    {
     "data": {
      "application/vnd.jupyter.widget-view+json": {
       "model_id": "a21c8a63ec0c47f1b3f0a4e45094a192",
       "version_major": 2,
       "version_minor": 0
      },
      "text/plain": [
       "  0%|          | 0/7067 [00:00<?, ?it/s]"
      ]
     },
     "metadata": {},
     "output_type": "display_data"
    },
    {
     "data": {
      "application/vnd.jupyter.widget-view+json": {
       "model_id": "1fa51a17de504a8c8437ee56cd8df5e9",
       "version_major": 2,
       "version_minor": 0
      },
      "text/plain": [
       "  0%|          | 0/2356 [00:00<?, ?it/s]"
      ]
     },
     "metadata": {},
     "output_type": "display_data"
    },
    {
     "data": {
      "application/vnd.jupyter.widget-view+json": {
       "model_id": "96ecd8577e4a4706abfcd6eba3a82b76",
       "version_major": 2,
       "version_minor": 0
      },
      "text/plain": [
       "  0%|          | 0/2356 [00:00<?, ?it/s]"
      ]
     },
     "metadata": {},
     "output_type": "display_data"
    },
    {
     "name": "stdout",
     "output_type": "stream",
     "text": [
      "                    Description             Value\n",
      "0                    Session id                51\n",
      "1                        Target           correct\n",
      "2                   Target type            Binary\n",
      "3           Original data shape       (169614, 3)\n",
      "4        Transformed data shape       (169614, 3)\n",
      "5   Transformed train set shape       (127206, 3)\n",
      "6    Transformed test set shape        (42408, 3)\n",
      "7              Numeric features                 2\n",
      "8                    Preprocess              True\n",
      "9               Imputation type            simple\n",
      "10           Numeric imputation              mean\n",
      "11       Categorical imputation              mode\n",
      "12               Fold Generator   StratifiedKFold\n",
      "13                  Fold Number                10\n",
      "14                     CPU Jobs                -1\n",
      "15                      Use GPU             False\n",
      "16               Log Experiment             False\n",
      "17              Experiment Name  clf-default-name\n",
      "18                          USI              c24f\n"
     ]
    },
    {
     "name": "stderr",
     "output_type": "stream",
     "text": [
      "                                                           \r"
     ]
    },
    {
     "name": "stdout",
     "output_type": "stream",
     "text": [
      "                                    Model  Accuracy     AUC  Recall   Prec.  \\\n",
      "gbc          Gradient Boosting Classifier    0.7371  0.7382  0.9444  0.7483   \n",
      "lightgbm  Light Gradient Boosting Machine    0.7364  0.7383  0.9369  0.7507   \n",
      "xgboost         Extreme Gradient Boosting    0.7336  0.7326  0.9312  0.7505   \n",
      "ada                  Ada Boost Classifier    0.7303  0.7288  0.9721  0.7325   \n",
      "lr                    Logistic Regression    0.7042  0.4266  1.0000  0.7042   \n",
      "ridge                    Ridge Classifier    0.7042  0.0000  1.0000  0.7042   \n",
      "lda          Linear Discriminant Analysis    0.7042  0.5636  1.0000  0.7042   \n",
      "dummy                    Dummy Classifier    0.7042  0.5000  1.0000  0.7042   \n",
      "nb                            Naive Bayes    0.7025  0.5218  0.9949  0.7045   \n",
      "qda       Quadratic Discriminant Analysis    0.7024  0.6224  0.9946  0.7045   \n",
      "rf               Random Forest Classifier    0.6496  0.6503  0.7514  0.7512   \n",
      "dt               Decision Tree Classifier    0.6493  0.5794  0.7506  0.7512   \n",
      "et                 Extra Trees Classifier    0.6487  0.6152  0.7492  0.7513   \n",
      "svm                   SVM - Linear Kernel    0.5817  0.0000  0.7000  0.4929   \n",
      "\n",
      "              F1   Kappa     MCC  TT (Sec)  \n",
      "gbc       0.8350  0.2296  0.2730     0.507  \n",
      "lightgbm  0.8335  0.2366  0.2744     0.064  \n",
      "xgboost   0.8312  0.2331  0.2671     0.288  \n",
      "ada       0.8354  0.1638  0.2344     0.197  \n",
      "lr        0.8264  0.0000  0.0000     0.145  \n",
      "ridge     0.8264  0.0000  0.0000     0.012  \n",
      "lda       0.8264  0.0000  0.0000     0.015  \n",
      "dummy     0.8264  0.0000  0.0000     0.010  \n",
      "nb        0.8249  0.0019  0.0083     0.073  \n",
      "qda       0.8248  0.0019  0.0084     0.012  \n",
      "rf        0.7513  0.1588  0.1589     1.292  \n",
      "dt        0.7509  0.1586  0.1586     0.047  \n",
      "et        0.7502  0.1585  0.1585     0.993  \n",
      "svm       0.5785  0.0000  0.0000     0.054  \n",
      "                          Model  Accuracy     AUC  Recall   Prec.      F1  \\\n",
      "0  Gradient Boosting Classifier     0.736  0.7358  0.9434  0.7478  0.8343   \n",
      "\n",
      "   Kappa     MCC  \n",
      "0  0.226  0.2686  \n",
      "              precision    recall  f1-score   support\n",
      "\n",
      "           0       0.64      0.24      0.35     12535\n",
      "           1       0.75      0.94      0.83     29873\n",
      "\n",
      "    accuracy                           0.74     42408\n",
      "   macro avg       0.69      0.59      0.59     42408\n",
      "weighted avg       0.72      0.74      0.69     42408\n",
      "\n"
     ]
    }
   ],
   "source": [
    "test_features(\n",
    "    X=df_source,\n",
    "    y=df_source_labels,\n",
    "    create_features=create_elapsed_time_session_features)"
   ]
  },
  {
   "attachments": {},
   "cell_type": "markdown",
   "metadata": {},
   "source": [
    "### Event Count"
   ]
  },
  {
   "cell_type": "code",
   "execution_count": 21,
   "metadata": {},
   "outputs": [
    {
     "data": {
      "application/vnd.jupyter.widget-view+json": {
       "model_id": "23142e04af2640c082586cf873cd2501",
       "version_major": 2,
       "version_minor": 0
      },
      "text/plain": [
       "  0%|          | 0/7067 [00:00<?, ?it/s]"
      ]
     },
     "metadata": {},
     "output_type": "display_data"
    },
    {
     "data": {
      "application/vnd.jupyter.widget-view+json": {
       "model_id": "b5999296a1b64a67bf499d217ca5972c",
       "version_major": 2,
       "version_minor": 0
      },
      "text/plain": [
       "  0%|          | 0/2356 [00:00<?, ?it/s]"
      ]
     },
     "metadata": {},
     "output_type": "display_data"
    },
    {
     "data": {
      "application/vnd.jupyter.widget-view+json": {
       "model_id": "a133e79ea7f7425697a0d4dd69ec7e04",
       "version_major": 2,
       "version_minor": 0
      },
      "text/plain": [
       "  0%|          | 0/2356 [00:00<?, ?it/s]"
      ]
     },
     "metadata": {},
     "output_type": "display_data"
    },
    {
     "name": "stdout",
     "output_type": "stream",
     "text": [
      "                    Description             Value\n",
      "0                    Session id                51\n",
      "1                        Target           correct\n",
      "2                   Target type            Binary\n",
      "3           Original data shape      (169614, 13)\n",
      "4        Transformed data shape      (169614, 13)\n",
      "5   Transformed train set shape      (127206, 13)\n",
      "6    Transformed test set shape       (42408, 13)\n",
      "7              Numeric features                12\n",
      "8      Rows with missing values             38.6%\n",
      "9                    Preprocess              True\n",
      "10              Imputation type            simple\n",
      "11           Numeric imputation              mean\n",
      "12       Categorical imputation              mode\n",
      "13               Fold Generator   StratifiedKFold\n",
      "14                  Fold Number                10\n",
      "15                     CPU Jobs                -1\n",
      "16                      Use GPU             False\n",
      "17               Log Experiment             False\n",
      "18              Experiment Name  clf-default-name\n",
      "19                          USI              6fe4\n"
     ]
    },
    {
     "name": "stderr",
     "output_type": "stream",
     "text": [
      "                                                           \r"
     ]
    },
    {
     "name": "stdout",
     "output_type": "stream",
     "text": [
      "                                    Model  Accuracy     AUC  Recall   Prec.  \\\n",
      "lightgbm  Light Gradient Boosting Machine    0.7502  0.7652  0.9251  0.7677   \n",
      "gbc          Gradient Boosting Classifier    0.7485  0.7602  0.9396  0.7599   \n",
      "xgboost         Extreme Gradient Boosting    0.7455  0.7582  0.9140  0.7684   \n",
      "ada                  Ada Boost Classifier    0.7400  0.7446  0.9375  0.7535   \n",
      "rf               Random Forest Classifier    0.7399  0.7424  0.9099  0.7652   \n",
      "et                 Extra Trees Classifier    0.7398  0.7450  0.9020  0.7686   \n",
      "lr                    Logistic Regression    0.7121  0.6578  0.9746  0.7177   \n",
      "lda          Linear Discriminant Analysis    0.7119  0.6563  0.9717  0.7184   \n",
      "ridge                    Ridge Classifier    0.7114  0.0000  0.9793  0.7156   \n",
      "dummy                    Dummy Classifier    0.7042  0.5000  1.0000  0.7042   \n",
      "qda       Quadratic Discriminant Analysis    0.6995  0.6530  0.9145  0.7283   \n",
      "nb                            Naive Bayes    0.6977  0.6459  0.9120  0.7278   \n",
      "dt               Decision Tree Classifier    0.6550  0.5922  0.7460  0.7597   \n",
      "svm                   SVM - Linear Kernel    0.5892  0.0000  0.6729  0.7695   \n",
      "\n",
      "              F1   Kappa     MCC  TT (Sec)  \n",
      "lightgbm  0.8391  0.3014  0.3295     0.183  \n",
      "gbc       0.8403  0.2785  0.3170     1.280  \n",
      "xgboost   0.8349  0.2972  0.3198     0.763  \n",
      "ada       0.8355  0.2495  0.2876     0.398  \n",
      "rf        0.8313  0.2819  0.3033     1.207  \n",
      "et        0.8300  0.2904  0.3081     1.393  \n",
      "lr        0.8266  0.0822  0.1380     0.586  \n",
      "lda       0.8261  0.0860  0.1394     0.054  \n",
      "ridge     0.8269  0.0708  0.1287     0.038  \n",
      "dummy     0.8264  0.0000  0.0000     0.032  \n",
      "qda       0.8108  0.1240  0.1459     0.047  \n",
      "nb        0.8094  0.1205  0.1415     0.095  \n",
      "dt        0.7528  0.1821  0.1822     0.103  \n",
      "svm       0.6251  0.0579  0.0993     0.401  \n",
      "                             Model  Accuracy     AUC  Recall   Prec.      F1  \\\n",
      "0  Light Gradient Boosting Machine    0.7471  0.7621  0.9235  0.7657  0.8372   \n",
      "\n",
      "    Kappa     MCC  \n",
      "0  0.2917  0.3193  \n",
      "              precision    recall  f1-score   support\n",
      "\n",
      "           0       0.64      0.33      0.43     12535\n",
      "           1       0.77      0.92      0.84     29873\n",
      "\n",
      "    accuracy                           0.75     42408\n",
      "   macro avg       0.70      0.63      0.64     42408\n",
      "weighted avg       0.73      0.75      0.72     42408\n",
      "\n"
     ]
    }
   ],
   "source": [
    "test_features(\n",
    "    X=df_source,\n",
    "    y=df_source_labels,\n",
    "    create_features=create_event_count_session_features)"
   ]
  },
  {
   "attachments": {},
   "cell_type": "markdown",
   "metadata": {},
   "source": [
    "## If Rules"
   ]
  },
  {
   "cell_type": "code",
   "execution_count": 23,
   "metadata": {},
   "outputs": [
    {
     "data": {
      "application/vnd.jupyter.widget-view+json": {
       "model_id": "4d302e57b98f41e4ad31f7da744e4930",
       "version_major": 2,
       "version_minor": 0
      },
      "text/plain": [
       "  0%|          | 0/7067 [00:00<?, ?it/s]"
      ]
     },
     "metadata": {},
     "output_type": "display_data"
    }
   ],
   "source": [
    "# create the datasets\n",
    "df_train = create_dataset(X=df_source, y=df_source_labels, session_list=train, create_features=create_basic_session_features)\n",
    "df_val = create_dataset(X=df_source, y=df_source_labels, session_list=val, create_features=create_basic_session_features)\n",
    "df_test = create_dataset(X=df_source, y=df_source_labels, session_list=test, create_features=create_basic_session_features)"
   ]
  },
  {
   "cell_type": "code",
   "execution_count": null,
   "metadata": {},
   "outputs": [],
   "source": []
  }
 ],
 "metadata": {
  "kernelspec": {
   "display_name": "Python 3",
   "language": "python",
   "name": "python3"
  },
  "language_info": {
   "codemirror_mode": {
    "name": "ipython",
    "version": 3
   },
   "file_extension": ".py",
   "mimetype": "text/x-python",
   "name": "python",
   "nbconvert_exporter": "python",
   "pygments_lexer": "ipython3",
   "version": "3.8.10"
  },
  "orig_nbformat": 4
 },
 "nbformat": 4,
 "nbformat_minor": 2
}
