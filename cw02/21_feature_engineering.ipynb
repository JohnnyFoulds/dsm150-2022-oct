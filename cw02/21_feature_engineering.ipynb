{
 "cells": [
  {
   "attachments": {},
   "cell_type": "markdown",
   "metadata": {},
   "source": [
    "# 21. Feature Engineering\n",
    "\n",
    "Everything has been super disappointing up to this point."
   ]
  },
  {
   "cell_type": "code",
   "execution_count": 1,
   "metadata": {},
   "outputs": [],
   "source": [
    "import sys\n",
    "from typing import Tuple\n",
    "import logging\n",
    "\n",
    "import pandas as pd\n",
    "import numpy as np\n",
    "\n",
    "from tqdm.auto import tqdm\n",
    "\n",
    "from sklearn.model_selection import train_test_split\n",
    "from sklearn.metrics import classification_report\n",
    "\n",
    "from pycaret.classification import *"
   ]
  },
  {
   "cell_type": "markdown",
   "metadata": {},
   "source": [
    "## Configure Logging"
   ]
  },
  {
   "cell_type": "code",
   "execution_count": 2,
   "metadata": {},
   "outputs": [],
   "source": [
    "logging.getLogger('matplotlib.font_manager').setLevel(logging.ERROR)"
   ]
  },
  {
   "cell_type": "code",
   "execution_count": 3,
   "metadata": {},
   "outputs": [
    {
     "name": "stdout",
     "output_type": "stream",
     "text": [
      "2023-03-08 13:33:08 INFO     Started\n"
     ]
    }
   ],
   "source": [
    "logging.basicConfig(\n",
    "    format='%(asctime)s %(levelname)-8s %(message)s',\n",
    "    level=logging.INFO,\n",
    "    datefmt='%Y-%m-%d %H:%M:%S',\n",
    "        handlers=[\n",
    "        logging.FileHandler(\"ex05_06.log\"),\n",
    "        logging.StreamHandler(sys.stdout)\n",
    "    ])\n",
    "\n",
    "logging.info(\"Started\")"
   ]
  },
  {
   "cell_type": "markdown",
   "metadata": {},
   "source": [
    "## Load Source Data"
   ]
  },
  {
   "cell_type": "code",
   "execution_count": 4,
   "metadata": {},
   "outputs": [
    {
     "name": "stdout",
     "output_type": "stream",
     "text": [
      "(13174211, 19)\n"
     ]
    },
    {
     "data": {
      "text/html": [
       "<div>\n",
       "<style scoped>\n",
       "    .dataframe tbody tr th:only-of-type {\n",
       "        vertical-align: middle;\n",
       "    }\n",
       "\n",
       "    .dataframe tbody tr th {\n",
       "        vertical-align: top;\n",
       "    }\n",
       "\n",
       "    .dataframe thead th {\n",
       "        text-align: right;\n",
       "    }\n",
       "</style>\n",
       "<table border=\"1\" class=\"dataframe\">\n",
       "  <thead>\n",
       "    <tr style=\"text-align: right;\">\n",
       "      <th></th>\n",
       "      <th>session_id</th>\n",
       "      <th>elapsed_time</th>\n",
       "      <th>event_name</th>\n",
       "      <th>name</th>\n",
       "      <th>level</th>\n",
       "      <th>page</th>\n",
       "      <th>room_coor_x</th>\n",
       "      <th>room_coor_y</th>\n",
       "      <th>screen_coor_x</th>\n",
       "      <th>screen_coor_y</th>\n",
       "      <th>hover_duration</th>\n",
       "      <th>text</th>\n",
       "      <th>fqid</th>\n",
       "      <th>room_fqid</th>\n",
       "      <th>text_fqid</th>\n",
       "      <th>fullscreen</th>\n",
       "      <th>hq</th>\n",
       "      <th>music</th>\n",
       "      <th>level_group</th>\n",
       "    </tr>\n",
       "    <tr>\n",
       "      <th>index</th>\n",
       "      <th></th>\n",
       "      <th></th>\n",
       "      <th></th>\n",
       "      <th></th>\n",
       "      <th></th>\n",
       "      <th></th>\n",
       "      <th></th>\n",
       "      <th></th>\n",
       "      <th></th>\n",
       "      <th></th>\n",
       "      <th></th>\n",
       "      <th></th>\n",
       "      <th></th>\n",
       "      <th></th>\n",
       "      <th></th>\n",
       "      <th></th>\n",
       "      <th></th>\n",
       "      <th></th>\n",
       "      <th></th>\n",
       "    </tr>\n",
       "  </thead>\n",
       "  <tbody>\n",
       "    <tr>\n",
       "      <th>0</th>\n",
       "      <td>20090312431273200</td>\n",
       "      <td>0</td>\n",
       "      <td>cutscene_click</td>\n",
       "      <td>basic</td>\n",
       "      <td>0</td>\n",
       "      <td>NaN</td>\n",
       "      <td>-413.991405</td>\n",
       "      <td>-159.314686</td>\n",
       "      <td>380.0</td>\n",
       "      <td>494.0</td>\n",
       "      <td>NaN</td>\n",
       "      <td>undefined</td>\n",
       "      <td>intro</td>\n",
       "      <td>tunic.historicalsociety.closet</td>\n",
       "      <td>tunic.historicalsociety.closet.intro</td>\n",
       "      <td>NaN</td>\n",
       "      <td>NaN</td>\n",
       "      <td>NaN</td>\n",
       "      <td>0-4</td>\n",
       "    </tr>\n",
       "    <tr>\n",
       "      <th>1</th>\n",
       "      <td>20090312431273200</td>\n",
       "      <td>1323</td>\n",
       "      <td>person_click</td>\n",
       "      <td>basic</td>\n",
       "      <td>0</td>\n",
       "      <td>NaN</td>\n",
       "      <td>-413.991405</td>\n",
       "      <td>-159.314686</td>\n",
       "      <td>380.0</td>\n",
       "      <td>494.0</td>\n",
       "      <td>NaN</td>\n",
       "      <td>Whatcha doing over there, Jo?</td>\n",
       "      <td>gramps</td>\n",
       "      <td>tunic.historicalsociety.closet</td>\n",
       "      <td>tunic.historicalsociety.closet.gramps.intro_0_...</td>\n",
       "      <td>NaN</td>\n",
       "      <td>NaN</td>\n",
       "      <td>NaN</td>\n",
       "      <td>0-4</td>\n",
       "    </tr>\n",
       "    <tr>\n",
       "      <th>2</th>\n",
       "      <td>20090312431273200</td>\n",
       "      <td>831</td>\n",
       "      <td>person_click</td>\n",
       "      <td>basic</td>\n",
       "      <td>0</td>\n",
       "      <td>NaN</td>\n",
       "      <td>-413.991405</td>\n",
       "      <td>-159.314686</td>\n",
       "      <td>380.0</td>\n",
       "      <td>494.0</td>\n",
       "      <td>NaN</td>\n",
       "      <td>Just talking to Teddy.</td>\n",
       "      <td>gramps</td>\n",
       "      <td>tunic.historicalsociety.closet</td>\n",
       "      <td>tunic.historicalsociety.closet.gramps.intro_0_...</td>\n",
       "      <td>NaN</td>\n",
       "      <td>NaN</td>\n",
       "      <td>NaN</td>\n",
       "      <td>0-4</td>\n",
       "    </tr>\n",
       "  </tbody>\n",
       "</table>\n",
       "</div>"
      ],
      "text/plain": [
       "              session_id  elapsed_time      event_name   name  level  page  \\\n",
       "index                                                                        \n",
       "0      20090312431273200             0  cutscene_click  basic      0   NaN   \n",
       "1      20090312431273200          1323    person_click  basic      0   NaN   \n",
       "2      20090312431273200           831    person_click  basic      0   NaN   \n",
       "\n",
       "       room_coor_x  room_coor_y  screen_coor_x  screen_coor_y  hover_duration  \\\n",
       "index                                                                           \n",
       "0      -413.991405  -159.314686          380.0          494.0             NaN   \n",
       "1      -413.991405  -159.314686          380.0          494.0             NaN   \n",
       "2      -413.991405  -159.314686          380.0          494.0             NaN   \n",
       "\n",
       "                                text    fqid                       room_fqid  \\\n",
       "index                                                                          \n",
       "0                          undefined   intro  tunic.historicalsociety.closet   \n",
       "1      Whatcha doing over there, Jo?  gramps  tunic.historicalsociety.closet   \n",
       "2             Just talking to Teddy.  gramps  tunic.historicalsociety.closet   \n",
       "\n",
       "                                               text_fqid  fullscreen  hq  \\\n",
       "index                                                                      \n",
       "0                   tunic.historicalsociety.closet.intro         NaN NaN   \n",
       "1      tunic.historicalsociety.closet.gramps.intro_0_...         NaN NaN   \n",
       "2      tunic.historicalsociety.closet.gramps.intro_0_...         NaN NaN   \n",
       "\n",
       "       music level_group  \n",
       "index                     \n",
       "0        NaN         0-4  \n",
       "1        NaN         0-4  \n",
       "2        NaN         0-4  "
      ]
     },
     "metadata": {},
     "output_type": "display_data"
    }
   ],
   "source": [
    "# load the source training set\n",
    "df_source = pd.read_csv('data/train.csv.gz', compression='gzip', index_col=1)\n",
    "\n",
    "print(df_source.shape)\n",
    "with pd.option_context('display.max_columns', None):\n",
    "    display(df_source.head(3))"
   ]
  },
  {
   "cell_type": "code",
   "execution_count": 5,
   "metadata": {},
   "outputs": [
    {
     "name": "stdout",
     "output_type": "stream",
     "text": [
      "(212022, 2)\n"
     ]
    },
    {
     "data": {
      "text/html": [
       "<div>\n",
       "<style scoped>\n",
       "    .dataframe tbody tr th:only-of-type {\n",
       "        vertical-align: middle;\n",
       "    }\n",
       "\n",
       "    .dataframe tbody tr th {\n",
       "        vertical-align: top;\n",
       "    }\n",
       "\n",
       "    .dataframe thead th {\n",
       "        text-align: right;\n",
       "    }\n",
       "</style>\n",
       "<table border=\"1\" class=\"dataframe\">\n",
       "  <thead>\n",
       "    <tr style=\"text-align: right;\">\n",
       "      <th></th>\n",
       "      <th>session_id</th>\n",
       "      <th>correct</th>\n",
       "    </tr>\n",
       "  </thead>\n",
       "  <tbody>\n",
       "    <tr>\n",
       "      <th>0</th>\n",
       "      <td>20090312431273200_q1</td>\n",
       "      <td>1</td>\n",
       "    </tr>\n",
       "    <tr>\n",
       "      <th>1</th>\n",
       "      <td>20090312433251036_q1</td>\n",
       "      <td>0</td>\n",
       "    </tr>\n",
       "    <tr>\n",
       "      <th>2</th>\n",
       "      <td>20090314121766812_q1</td>\n",
       "      <td>1</td>\n",
       "    </tr>\n",
       "  </tbody>\n",
       "</table>\n",
       "</div>"
      ],
      "text/plain": [
       "             session_id  correct\n",
       "0  20090312431273200_q1        1\n",
       "1  20090312433251036_q1        0\n",
       "2  20090314121766812_q1        1"
      ]
     },
     "metadata": {},
     "output_type": "display_data"
    }
   ],
   "source": [
    "# load the source training labels\n",
    "df_source_labels = pd.read_csv('data/train_labels.csv')\n",
    "\n",
    "print(df_source_labels.shape)\n",
    "with pd.option_context('display.max_columns', None):\n",
    "    display(df_source_labels.head(3))"
   ]
  },
  {
   "cell_type": "markdown",
   "metadata": {},
   "source": [
    "## Functions"
   ]
  },
  {
   "cell_type": "markdown",
   "metadata": {},
   "source": [
    "### Functions to prepare the data"
   ]
  },
  {
   "cell_type": "code",
   "execution_count": 6,
   "metadata": {},
   "outputs": [],
   "source": [
    "def map_question_to_level_group(question_number):\n",
    "    \"\"\"\n",
    "    Maps the question number to the level group.\n",
    "\n",
    "    Parameters\n",
    "    ----------\n",
    "    question_number : int\n",
    "        The question number.\n",
    "\n",
    "    Returns\n",
    "    -------\n",
    "    str\n",
    "        The level group.\n",
    "    \"\"\"\n",
    "    if question_number in [1, 2, 3]:\n",
    "        return '0-4'\n",
    "    elif question_number in [4, 5, 6, 7, 8, 9, 10, 11, 12, 13]:\n",
    "        return '5-12'\n",
    "    elif question_number in [14, 15, 16, 17, 18]:\n",
    "        return '13-22'\n",
    "    else:\n",
    "        return None\n",
    "\n",
    "def prepare_label_dataset(data : pd.DataFrame) -> pd.DataFrame:\n",
    "    \"\"\"\n",
    "    Prepares the label dataset and add columns for the level group \n",
    "    and the question number.\n",
    "\n",
    "    Parameters\n",
    "    ----------\n",
    "    data : pd.DataFrame\n",
    "        The label dataset.\n",
    "\n",
    "    Returns\n",
    "    -------\n",
    "    pd.DataFrame\n",
    "        The prepared label dataset.\n",
    "    \"\"\"\n",
    "    # add the columns to determine the level group\n",
    "    df_labels = data \\\n",
    "        .rename(columns={'session_id': 'id'}) \\\n",
    "        .assign(session_id=lambda df: df['id'].str.split('_').str[0].astype(int)) \\\n",
    "        .assign(question_id=lambda df: df['id'].str.split('_').str[1]) \\\n",
    "        .assign(question_num=lambda df: df['question_id'].str[1:].astype(int)) \\\n",
    "        [['session_id', 'question_num', 'correct']]\n",
    "    \n",
    "    # add the level group column\n",
    "    df_labels['level_group'] = df_labels['question_num'].apply(map_question_to_level_group) \n",
    "        \n",
    "    return df_labels"
   ]
  },
  {
   "cell_type": "code",
   "execution_count": 7,
   "metadata": {},
   "outputs": [],
   "source": [
    "def prepare_main_dataset(data : pd.DataFrame) -> pd.DataFrame:\n",
    "    \"\"\"\n",
    "    Prepares the main dataset by removing duplicates and removing \n",
    "    columns that are not needed.\n",
    "\n",
    "    Parameters\n",
    "    ----------\n",
    "    data : pd.DataFrame\n",
    "        The main dataset.\n",
    "\n",
    "    Returns\n",
    "    -------\n",
    "    pd.DataFrame\n",
    "        The prepared main dataset.\n",
    "    \"\"\"\n",
    "    empty_columns = ['fullscreen', 'hq', 'music', 'page', 'hover_duration']\n",
    "\n",
    "    df_main = data \\\n",
    "        .drop_duplicates() \\\n",
    "        .reset_index(drop=True) \\\n",
    "        .drop(empty_columns, axis=1) \\\n",
    "        .drop('text', axis=1)\n",
    "\n",
    "    return df_main"
   ]
  },
  {
   "cell_type": "code",
   "execution_count": 8,
   "metadata": {},
   "outputs": [],
   "source": [
    "def select_sessions(\n",
    "        y: pd.DataFrame,\n",
    "        sample_size: int,\n",
    "        random_state: int=1337) -> Tuple[np.ndarray, np.ndarray, np.ndarray]:\n",
    "    \"\"\"\n",
    "    Selects a sample of sessions from the dataset.\n",
    "\n",
    "    Parameters\n",
    "    ----------\n",
    "    y : pd.DataFrame\n",
    "        The label dataset.\n",
    "    sample_size : int\n",
    "        The number of sessions to select.\n",
    "    random_state : int\n",
    "        The random state to use.\n",
    "\n",
    "    Returns\n",
    "    -------\n",
    "    Tuple[np.ndarray, np.ndarray, np.ndarray]\n",
    "        The selected session ids, the main dataset and the label dataset.\n",
    "    \"\"\"\n",
    "    # select all the unique session ids\n",
    "    all_session_ids = y['session_id'].unique()\n",
    "\n",
    "    # create a sample for testing\n",
    "    session_ids = np.random.choice(all_session_ids, size=sample_size, replace=False)\n",
    "\n",
    "    # split the dataset into train, validation and test sets\n",
    "    train, test = train_test_split(session_ids, test_size=0.4)\n",
    "    test, val = train_test_split(test, test_size=0.5)\n",
    "\n",
    "    # print the number of sessions in each set\n",
    "    print(f'Train: {len(train)}')\n",
    "    print(f'Validation: {len(val)}')\n",
    "    print(f'Test: {len(test)}')\n",
    "\n",
    "    return train, val, test"
   ]
  },
  {
   "attachments": {},
   "cell_type": "markdown",
   "metadata": {},
   "source": [
    "## Data Preprocessing"
   ]
  },
  {
   "cell_type": "code",
   "execution_count": 9,
   "metadata": {},
   "outputs": [
    {
     "name": "stdout",
     "output_type": "stream",
     "text": [
      "(13173445, 13)\n"
     ]
    },
    {
     "data": {
      "text/html": [
       "<div>\n",
       "<style scoped>\n",
       "    .dataframe tbody tr th:only-of-type {\n",
       "        vertical-align: middle;\n",
       "    }\n",
       "\n",
       "    .dataframe tbody tr th {\n",
       "        vertical-align: top;\n",
       "    }\n",
       "\n",
       "    .dataframe thead th {\n",
       "        text-align: right;\n",
       "    }\n",
       "</style>\n",
       "<table border=\"1\" class=\"dataframe\">\n",
       "  <thead>\n",
       "    <tr style=\"text-align: right;\">\n",
       "      <th></th>\n",
       "      <th>session_id</th>\n",
       "      <th>elapsed_time</th>\n",
       "      <th>event_name</th>\n",
       "      <th>name</th>\n",
       "      <th>level</th>\n",
       "      <th>room_coor_x</th>\n",
       "      <th>room_coor_y</th>\n",
       "      <th>screen_coor_x</th>\n",
       "      <th>screen_coor_y</th>\n",
       "      <th>fqid</th>\n",
       "      <th>room_fqid</th>\n",
       "      <th>text_fqid</th>\n",
       "      <th>level_group</th>\n",
       "    </tr>\n",
       "  </thead>\n",
       "  <tbody>\n",
       "    <tr>\n",
       "      <th>0</th>\n",
       "      <td>20090312431273200</td>\n",
       "      <td>0</td>\n",
       "      <td>cutscene_click</td>\n",
       "      <td>basic</td>\n",
       "      <td>0</td>\n",
       "      <td>-413.991405</td>\n",
       "      <td>-159.314686</td>\n",
       "      <td>380.0</td>\n",
       "      <td>494.0</td>\n",
       "      <td>intro</td>\n",
       "      <td>tunic.historicalsociety.closet</td>\n",
       "      <td>tunic.historicalsociety.closet.intro</td>\n",
       "      <td>0-4</td>\n",
       "    </tr>\n",
       "    <tr>\n",
       "      <th>1</th>\n",
       "      <td>20090312431273200</td>\n",
       "      <td>1323</td>\n",
       "      <td>person_click</td>\n",
       "      <td>basic</td>\n",
       "      <td>0</td>\n",
       "      <td>-413.991405</td>\n",
       "      <td>-159.314686</td>\n",
       "      <td>380.0</td>\n",
       "      <td>494.0</td>\n",
       "      <td>gramps</td>\n",
       "      <td>tunic.historicalsociety.closet</td>\n",
       "      <td>tunic.historicalsociety.closet.gramps.intro_0_...</td>\n",
       "      <td>0-4</td>\n",
       "    </tr>\n",
       "    <tr>\n",
       "      <th>2</th>\n",
       "      <td>20090312431273200</td>\n",
       "      <td>831</td>\n",
       "      <td>person_click</td>\n",
       "      <td>basic</td>\n",
       "      <td>0</td>\n",
       "      <td>-413.991405</td>\n",
       "      <td>-159.314686</td>\n",
       "      <td>380.0</td>\n",
       "      <td>494.0</td>\n",
       "      <td>gramps</td>\n",
       "      <td>tunic.historicalsociety.closet</td>\n",
       "      <td>tunic.historicalsociety.closet.gramps.intro_0_...</td>\n",
       "      <td>0-4</td>\n",
       "    </tr>\n",
       "  </tbody>\n",
       "</table>\n",
       "</div>"
      ],
      "text/plain": [
       "          session_id  elapsed_time      event_name   name  level  room_coor_x  \\\n",
       "0  20090312431273200             0  cutscene_click  basic      0  -413.991405   \n",
       "1  20090312431273200          1323    person_click  basic      0  -413.991405   \n",
       "2  20090312431273200           831    person_click  basic      0  -413.991405   \n",
       "\n",
       "   room_coor_y  screen_coor_x  screen_coor_y    fqid  \\\n",
       "0  -159.314686          380.0          494.0   intro   \n",
       "1  -159.314686          380.0          494.0  gramps   \n",
       "2  -159.314686          380.0          494.0  gramps   \n",
       "\n",
       "                        room_fqid  \\\n",
       "0  tunic.historicalsociety.closet   \n",
       "1  tunic.historicalsociety.closet   \n",
       "2  tunic.historicalsociety.closet   \n",
       "\n",
       "                                           text_fqid level_group  \n",
       "0               tunic.historicalsociety.closet.intro         0-4  \n",
       "1  tunic.historicalsociety.closet.gramps.intro_0_...         0-4  \n",
       "2  tunic.historicalsociety.closet.gramps.intro_0_...         0-4  "
      ]
     },
     "metadata": {},
     "output_type": "display_data"
    }
   ],
   "source": [
    "# prepare the main dataset\n",
    "df_source = prepare_main_dataset(df_source)\n",
    "\n",
    "with pd.option_context('display.max_columns', None):\n",
    "    print(df_source.shape)\n",
    "    display(df_source.head(3))  "
   ]
  },
  {
   "cell_type": "code",
   "execution_count": 10,
   "metadata": {},
   "outputs": [
    {
     "data": {
      "text/html": [
       "<div>\n",
       "<style scoped>\n",
       "    .dataframe tbody tr th:only-of-type {\n",
       "        vertical-align: middle;\n",
       "    }\n",
       "\n",
       "    .dataframe tbody tr th {\n",
       "        vertical-align: top;\n",
       "    }\n",
       "\n",
       "    .dataframe thead th {\n",
       "        text-align: right;\n",
       "    }\n",
       "</style>\n",
       "<table border=\"1\" class=\"dataframe\">\n",
       "  <thead>\n",
       "    <tr style=\"text-align: right;\">\n",
       "      <th></th>\n",
       "      <th>session_id</th>\n",
       "      <th>question_num</th>\n",
       "      <th>correct</th>\n",
       "      <th>level_group</th>\n",
       "    </tr>\n",
       "  </thead>\n",
       "  <tbody>\n",
       "    <tr>\n",
       "      <th>21476</th>\n",
       "      <td>22010116250792520</td>\n",
       "      <td>2</td>\n",
       "      <td>1</td>\n",
       "      <td>0-4</td>\n",
       "    </tr>\n",
       "    <tr>\n",
       "      <th>84068</th>\n",
       "      <td>21000111433937450</td>\n",
       "      <td>8</td>\n",
       "      <td>1</td>\n",
       "      <td>5-12</td>\n",
       "    </tr>\n",
       "    <tr>\n",
       "      <th>171219</th>\n",
       "      <td>21040510125933256</td>\n",
       "      <td>15</td>\n",
       "      <td>0</td>\n",
       "      <td>13-22</td>\n",
       "    </tr>\n",
       "  </tbody>\n",
       "</table>\n",
       "</div>"
      ],
      "text/plain": [
       "               session_id  question_num  correct level_group\n",
       "21476   22010116250792520             2        1         0-4\n",
       "84068   21000111433937450             8        1        5-12\n",
       "171219  21040510125933256            15        0       13-22"
      ]
     },
     "metadata": {},
     "output_type": "display_data"
    }
   ],
   "source": [
    "# prepare the label dataset\n",
    "df_source_labels = prepare_label_dataset(df_source_labels)\n",
    "\n",
    "with pd.option_context('display.max_columns', None):\n",
    "    display(df_source_labels.sample(n=3, random_state=51))"
   ]
  },
  {
   "cell_type": "markdown",
   "metadata": {},
   "source": [
    "## Data Selection"
   ]
  },
  {
   "cell_type": "code",
   "execution_count": 11,
   "metadata": {},
   "outputs": [],
   "source": [
    "random_state = 51\n",
    "sample_size = df_source_labels['session_id'].nunique()\n",
    "sample_size=2000"
   ]
  },
  {
   "cell_type": "code",
   "execution_count": 12,
   "metadata": {},
   "outputs": [
    {
     "name": "stdout",
     "output_type": "stream",
     "text": [
      "Train: 1200\n",
      "Validation: 400\n",
      "Test: 400\n"
     ]
    }
   ],
   "source": [
    "train, val, test = select_sessions(\n",
    "    y=df_source_labels,\n",
    "    sample_size=sample_size,\n",
    "    random_state=random_state)"
   ]
  },
  {
   "cell_type": "markdown",
   "metadata": {},
   "source": [
    "## Functions for Modeling Data"
   ]
  },
  {
   "attachments": {},
   "cell_type": "markdown",
   "metadata": {},
   "source": [
    "### Create Basic Dataset"
   ]
  },
  {
   "cell_type": "code",
   "execution_count": 13,
   "metadata": {},
   "outputs": [
    {
     "name": "stdout",
     "output_type": "stream",
     "text": [
      "(1, 1)\n"
     ]
    },
    {
     "data": {
      "text/html": [
       "<div>\n",
       "<style scoped>\n",
       "    .dataframe tbody tr th:only-of-type {\n",
       "        vertical-align: middle;\n",
       "    }\n",
       "\n",
       "    .dataframe tbody tr th {\n",
       "        vertical-align: top;\n",
       "    }\n",
       "\n",
       "    .dataframe thead th {\n",
       "        text-align: right;\n",
       "    }\n",
       "</style>\n",
       "<table border=\"1\" class=\"dataframe\">\n",
       "  <thead>\n",
       "    <tr style=\"text-align: right;\">\n",
       "      <th></th>\n",
       "      <th>level_group</th>\n",
       "    </tr>\n",
       "  </thead>\n",
       "  <tbody>\n",
       "    <tr>\n",
       "      <th>0</th>\n",
       "      <td>0-4</td>\n",
       "    </tr>\n",
       "  </tbody>\n",
       "</table>\n",
       "</div>"
      ],
      "text/plain": [
       "  level_group\n",
       "0         0-4"
      ]
     },
     "metadata": {},
     "output_type": "display_data"
    }
   ],
   "source": [
    "def create_basic_session_features(df_session:pd.DataFrame,\n",
    "                                  level_group:str) -> pd.DataFrame:\n",
    "    \"\"\"\n",
    "    Create a dataset with the most basic features for a single session.\n",
    "\n",
    "    Parameters\n",
    "    ----------\n",
    "    df_session : pd.DataFrame\n",
    "        The session dataset.\n",
    "\n",
    "    Returns\n",
    "    -------\n",
    "    pd.DataFrame\n",
    "        The session dataset.\n",
    "    \"\"\"\n",
    "    df_features = df_session \\\n",
    "        .query(f'level_group == \"{level_group}\"') \\\n",
    "        [['level_group']] \\\n",
    "        .drop_duplicates() \\\n",
    "        .reset_index(drop=True)\n",
    "\n",
    "    return df_features\n",
    "\n",
    "# test the function\n",
    "session_id = train[0]\n",
    "df_session = df_source[df_source['session_id'] == session_id]\n",
    "\n",
    "df_session = create_basic_session_features(df_session, '0-4')\n",
    "print(df_session.shape)\n",
    "with pd.option_context('display.max_columns', None):\n",
    "    display(df_session.tail(3))"
   ]
  },
  {
   "cell_type": "markdown",
   "metadata": {},
   "source": [
    "### Generic functions for creating feature datasets"
   ]
  },
  {
   "cell_type": "code",
   "execution_count": 14,
   "metadata": {},
   "outputs": [
    {
     "name": "stdout",
     "output_type": "stream",
     "text": [
      "(18, 2)\n"
     ]
    },
    {
     "data": {
      "text/html": [
       "<div>\n",
       "<style scoped>\n",
       "    .dataframe tbody tr th:only-of-type {\n",
       "        vertical-align: middle;\n",
       "    }\n",
       "\n",
       "    .dataframe tbody tr th {\n",
       "        vertical-align: top;\n",
       "    }\n",
       "\n",
       "    .dataframe thead th {\n",
       "        text-align: right;\n",
       "    }\n",
       "</style>\n",
       "<table border=\"1\" class=\"dataframe\">\n",
       "  <thead>\n",
       "    <tr style=\"text-align: right;\">\n",
       "      <th></th>\n",
       "      <th>question_num</th>\n",
       "      <th>correct</th>\n",
       "    </tr>\n",
       "  </thead>\n",
       "  <tbody>\n",
       "    <tr>\n",
       "      <th>0</th>\n",
       "      <td>1</td>\n",
       "      <td>1</td>\n",
       "    </tr>\n",
       "    <tr>\n",
       "      <th>1</th>\n",
       "      <td>2</td>\n",
       "      <td>1</td>\n",
       "    </tr>\n",
       "    <tr>\n",
       "      <th>2</th>\n",
       "      <td>3</td>\n",
       "      <td>1</td>\n",
       "    </tr>\n",
       "  </tbody>\n",
       "</table>\n",
       "</div>"
      ],
      "text/plain": [
       "   question_num  correct\n",
       "0             1        1\n",
       "1             2        1\n",
       "2             3        1"
      ]
     },
     "metadata": {},
     "output_type": "display_data"
    }
   ],
   "source": [
    "def create_session_dataset(X:pd.DataFrame,\n",
    "                                 y:pd.DataFrame,\n",
    "                                 session_id:str,\n",
    "                                 create_features) -> Tuple[pd.DataFrame, pd.DataFrame]:\n",
    "    \"\"\"\n",
    "    Create a dataset with the most basic features for a single session.\n",
    "\n",
    "    Parameters\n",
    "    ----------\n",
    "    X : pd.DataFrame\n",
    "        The main dataset.\n",
    "    y : pd.DataFrame\n",
    "        The label dataset.\n",
    "    session_id : str\n",
    "        The session id.\n",
    "\n",
    "    Returns\n",
    "    -------\n",
    "    Tuple[pd.DataFrame, pd.DataFrame]\n",
    "        The session dataset and the session label dataset.\n",
    "    \"\"\"\n",
    "    features = pd.DataFrame()\n",
    "    y_true = []\n",
    "\n",
    "    # select the session data\n",
    "    df_session_labels = y.query('session_id == @session_id')\n",
    "    df_session = X.query('session_id == @session_id')\n",
    "\n",
    "    # create the features for each level group\n",
    "    features_group = {\n",
    "        '0-4': create_features(df_session, '0-4'),\n",
    "        '5-12': create_features(df_session, '5-12'),\n",
    "        '13-22': create_features(df_session, '13-22'),\n",
    "    }\n",
    "\n",
    "    # iterate over all the questions answered in the session\n",
    "    for _, row in df_session_labels.iterrows():\n",
    "        # get the question number, correct answer and level group\n",
    "        question_num = row['question_num']\n",
    "        correct = row['correct']\n",
    "        level_group = row['level_group']\n",
    "\n",
    "        # append the label as the target value\n",
    "        y_true.append(correct)\n",
    "\n",
    "        # get the features for the level group\n",
    "        question_features = features_group[level_group] \\\n",
    "            .assign(question_num=question_num) \\\n",
    "            .drop('level_group', axis=1)\n",
    "        \n",
    "        # append the features to the dataset\n",
    "        features = pd.concat([features, question_features], axis=0)\n",
    "\n",
    "\n",
    "    return features.reset_index(drop=True), np.array(y_true)\n",
    "\n",
    "# test the function\n",
    "session_id = train[0]\n",
    "df_session, y_session = create_session_dataset(\n",
    "    X=df_source,\n",
    "    y=df_source_labels,\n",
    "    session_id=session_id,\n",
    "    create_features=create_basic_session_features)\n",
    "\n",
    "df_session['correct'] = y_session\n",
    "\n",
    "print(df_session.shape)\n",
    "with pd.option_context('display.max_columns', None):\n",
    "    display(df_session.head(3))"
   ]
  },
  {
   "cell_type": "code",
   "execution_count": 15,
   "metadata": {},
   "outputs": [
    {
     "data": {
      "application/vnd.jupyter.widget-view+json": {
       "model_id": "51bd6ad883444bbc96c94e4bcd7be372",
       "version_major": 2,
       "version_minor": 0
      },
      "text/plain": [
       "  0%|          | 0/3 [00:00<?, ?it/s]"
      ]
     },
     "metadata": {},
     "output_type": "display_data"
    },
    {
     "name": "stdout",
     "output_type": "stream",
     "text": [
      "(54, 2)\n"
     ]
    },
    {
     "data": {
      "text/html": [
       "<div>\n",
       "<style scoped>\n",
       "    .dataframe tbody tr th:only-of-type {\n",
       "        vertical-align: middle;\n",
       "    }\n",
       "\n",
       "    .dataframe tbody tr th {\n",
       "        vertical-align: top;\n",
       "    }\n",
       "\n",
       "    .dataframe thead th {\n",
       "        text-align: right;\n",
       "    }\n",
       "</style>\n",
       "<table border=\"1\" class=\"dataframe\">\n",
       "  <thead>\n",
       "    <tr style=\"text-align: right;\">\n",
       "      <th></th>\n",
       "      <th>question_num</th>\n",
       "      <th>correct</th>\n",
       "    </tr>\n",
       "  </thead>\n",
       "  <tbody>\n",
       "    <tr>\n",
       "      <th>0</th>\n",
       "      <td>1</td>\n",
       "      <td>1</td>\n",
       "    </tr>\n",
       "    <tr>\n",
       "      <th>1</th>\n",
       "      <td>2</td>\n",
       "      <td>1</td>\n",
       "    </tr>\n",
       "    <tr>\n",
       "      <th>2</th>\n",
       "      <td>3</td>\n",
       "      <td>1</td>\n",
       "    </tr>\n",
       "  </tbody>\n",
       "</table>\n",
       "</div>"
      ],
      "text/plain": [
       "   question_num  correct\n",
       "0             1        1\n",
       "1             2        1\n",
       "2             3        1"
      ]
     },
     "metadata": {},
     "output_type": "display_data"
    }
   ],
   "source": [
    "def create_dataset(X:pd.DataFrame,\n",
    "                   y:pd.DataFrame,\n",
    "                   session_list:np.ndarray,\n",
    "                   create_features) -> pd.DataFrame:\n",
    "    \n",
    "    df_sessions = pd.DataFrame()\n",
    "    \n",
    "    for session_id in tqdm(session_list):\n",
    "        # create the session dataset\n",
    "        df_session, y_session = create_session_dataset(\n",
    "            X=X,\n",
    "            y=y,\n",
    "            session_id=session_id,\n",
    "            create_features=create_features)\n",
    "        \n",
    "        # add the label for pycaret training\n",
    "        df_session['correct'] = y_session\n",
    "\n",
    "        # append the session dataset to the main dataset\n",
    "        df_sessions = pd.concat([df_sessions, df_session], axis=0)\n",
    "\n",
    "    return df_sessions.reset_index(drop=True)\n",
    "\n",
    "\n",
    "# test the function\n",
    "df_basic = create_dataset(\n",
    "    X=df_source,\n",
    "    y=df_source_labels,\n",
    "    session_list=train[:3],\n",
    "    create_features=create_basic_session_features)\n",
    "\n",
    "print(df_basic.shape)\n",
    "with pd.option_context('display.max_columns', None):\n",
    "    display(df_basic.head(3))"
   ]
  },
  {
   "attachments": {},
   "cell_type": "markdown",
   "metadata": {},
   "source": [
    "### Elapsed Time Features"
   ]
  },
  {
   "cell_type": "code",
   "execution_count": 41,
   "metadata": {},
   "outputs": [
    {
     "name": "stdout",
     "output_type": "stream",
     "text": [
      "(1, 2)\n"
     ]
    },
    {
     "data": {
      "text/html": [
       "<div>\n",
       "<style scoped>\n",
       "    .dataframe tbody tr th:only-of-type {\n",
       "        vertical-align: middle;\n",
       "    }\n",
       "\n",
       "    .dataframe tbody tr th {\n",
       "        vertical-align: top;\n",
       "    }\n",
       "\n",
       "    .dataframe thead th {\n",
       "        text-align: right;\n",
       "    }\n",
       "</style>\n",
       "<table border=\"1\" class=\"dataframe\">\n",
       "  <thead>\n",
       "    <tr style=\"text-align: right;\">\n",
       "      <th></th>\n",
       "      <th>level_group</th>\n",
       "      <th>elapsed_time</th>\n",
       "    </tr>\n",
       "  </thead>\n",
       "  <tbody>\n",
       "    <tr>\n",
       "      <th>0</th>\n",
       "      <td>0-4</td>\n",
       "      <td>140956</td>\n",
       "    </tr>\n",
       "  </tbody>\n",
       "</table>\n",
       "</div>"
      ],
      "text/plain": [
       "  level_group  elapsed_time\n",
       "0         0-4        140956"
      ]
     },
     "metadata": {},
     "output_type": "display_data"
    }
   ],
   "source": [
    "def create_elapsed_time_session_features(df_session:pd.DataFrame,\n",
    "                                  level_group:str) -> pd.DataFrame:\n",
    "    \"\"\"\n",
    "    Create a dataset with the most basic features for a single session.\n",
    "\n",
    "    Parameters\n",
    "    ----------\n",
    "    df_session : pd.DataFrame\n",
    "        The session dataset.\n",
    "\n",
    "    Returns\n",
    "    -------\n",
    "    pd.DataFrame\n",
    "        The session dataset.\n",
    "    \"\"\"\n",
    "    df_features = df_session \\\n",
    "        .query(f'level_group == \"{level_group}\"') \\\n",
    "        .groupby('level_group') \\\n",
    "        .agg({'elapsed_time': 'max'}) \\\n",
    "        .reset_index(drop=False)\n",
    "\n",
    "    return df_features\n",
    "\n",
    "# test the function\n",
    "session_id = train[0]\n",
    "df_session = df_source[df_source['session_id'] == session_id]\n",
    "\n",
    "df_session = create_elapsed_time_session_features(df_session, '0-4')\n",
    "print(df_session.shape)\n",
    "with pd.option_context('display.max_columns', None):\n",
    "    display(df_session.tail(3))"
   ]
  },
  {
   "attachments": {},
   "cell_type": "markdown",
   "metadata": {},
   "source": [
    "### Event Count Features"
   ]
  },
  {
   "cell_type": "code",
   "execution_count": 73,
   "metadata": {},
   "outputs": [
    {
     "name": "stdout",
     "output_type": "stream",
     "text": [
      "(1, 10)\n"
     ]
    },
    {
     "data": {
      "text/html": [
       "<div>\n",
       "<style scoped>\n",
       "    .dataframe tbody tr th:only-of-type {\n",
       "        vertical-align: middle;\n",
       "    }\n",
       "\n",
       "    .dataframe tbody tr th {\n",
       "        vertical-align: top;\n",
       "    }\n",
       "\n",
       "    .dataframe thead th {\n",
       "        text-align: right;\n",
       "    }\n",
       "</style>\n",
       "<table border=\"1\" class=\"dataframe\">\n",
       "  <thead>\n",
       "    <tr style=\"text-align: right;\">\n",
       "      <th>event_name</th>\n",
       "      <th>checkpoint</th>\n",
       "      <th>cutscene_click</th>\n",
       "      <th>map_click</th>\n",
       "      <th>map_hover</th>\n",
       "      <th>navigate_click</th>\n",
       "      <th>notification_click</th>\n",
       "      <th>object_click</th>\n",
       "      <th>object_hover</th>\n",
       "      <th>person_click</th>\n",
       "      <th>level_group</th>\n",
       "    </tr>\n",
       "  </thead>\n",
       "  <tbody>\n",
       "    <tr>\n",
       "      <th>0</th>\n",
       "      <td>1</td>\n",
       "      <td>33</td>\n",
       "      <td>3</td>\n",
       "      <td>2</td>\n",
       "      <td>56</td>\n",
       "      <td>9</td>\n",
       "      <td>7</td>\n",
       "      <td>4</td>\n",
       "      <td>21</td>\n",
       "      <td>0-4</td>\n",
       "    </tr>\n",
       "  </tbody>\n",
       "</table>\n",
       "</div>"
      ],
      "text/plain": [
       "event_name  checkpoint  cutscene_click  map_click  map_hover  navigate_click  \\\n",
       "0                    1              33          3          2              56   \n",
       "\n",
       "event_name  notification_click  object_click  object_hover  person_click  \\\n",
       "0                            9             7             4            21   \n",
       "\n",
       "event_name level_group  \n",
       "0                  0-4  "
      ]
     },
     "metadata": {},
     "output_type": "display_data"
    }
   ],
   "source": [
    "def create_event_count_session_features(df_session:pd.DataFrame,\n",
    "                                  level_group:str) -> pd.DataFrame:\n",
    "    \"\"\"\n",
    "    Create a dataset with the event features for a single session.\n",
    "\n",
    "    Parameters\n",
    "    ----------\n",
    "    df_session : pd.DataFrame\n",
    "        The session dataset.\n",
    "\n",
    "    Returns\n",
    "    -------\n",
    "    pd.DataFrame\n",
    "        The session dataset.\n",
    "    \"\"\"\n",
    "    df_features = df_session \\\n",
    "        .query(f'level_group == \"{level_group}\"') \\\n",
    "        .groupby('event_name') \\\n",
    "        .agg({'event_name': ['count']}) \\\n",
    "        .T \\\n",
    "        .assign(level_group=level_group) \\\n",
    "        .reset_index(drop=True)\n",
    "\n",
    "    # df_features = df_session \\\n",
    "    #     .query(f'level_group == \"{level_group}\"') \\\n",
    "    #     .groupby('level_group') \\\n",
    "    #     .agg({'elapsed_time': 'max'}) \\\n",
    "    #     .reset_index(drop=False)\n",
    "\n",
    "    return df_features\n",
    "\n",
    "# test the function\n",
    "session_id = train[0]\n",
    "df_session = df_source[df_source['session_id'] == session_id]\n",
    "\n",
    "df_session = create_event_count_session_features(df_session, '0-4')\n",
    "print(df_session.shape)\n",
    "with pd.option_context('display.max_columns', None):\n",
    "    display(df_session.head(10))"
   ]
  },
  {
   "attachments": {},
   "cell_type": "markdown",
   "metadata": {},
   "source": [
    "## Model Training"
   ]
  },
  {
   "cell_type": "code",
   "execution_count": 34,
   "metadata": {},
   "outputs": [],
   "source": [
    "def test_features(X:pd.DataFrame,\n",
    "                  y:pd.DataFrame,\n",
    "                  create_features) -> pd.DataFrame:\n",
    "    \n",
    "    # create the datasets\n",
    "    df_train = create_dataset(X=X, y=y, session_list=train, create_features=create_features)\n",
    "    df_val = create_dataset(X=X, y=y, session_list=val, create_features=create_features)\n",
    "    df_test = create_dataset(X=X, y=y, session_list=test, create_features=create_features)\n",
    "\n",
    "    # prepare the classifier\n",
    "    classifier = setup(\n",
    "        data=df_train,\n",
    "        test_data=df_val,\n",
    "        target='correct',\n",
    "        train_size=1,\n",
    "        session_id=random_state,\n",
    "        fix_imbalance=False,\n",
    "        fix_imbalance_method='RandomOverSampler',\n",
    "        html=False,\n",
    "        verbose=True)\n",
    "    \n",
    "    # compare the models\n",
    "    top_model = compare_models(exclude=['knn'], n_select=5)\n",
    "\n",
    "    # test the top model\n",
    "    df_predicted = predict_model(estimator=top_model[0], data=df_test)\n",
    "    print(classification_report(y_true=df_predicted.correct, y_pred=df_predicted.prediction_label))    "
   ]
  },
  {
   "attachments": {},
   "cell_type": "markdown",
   "metadata": {},
   "source": [
    "### Basic Dataset"
   ]
  },
  {
   "cell_type": "code",
   "execution_count": 35,
   "metadata": {},
   "outputs": [
    {
     "data": {
      "application/vnd.jupyter.widget-view+json": {
       "model_id": "2c87164ee4734368bab2c73f91c68789",
       "version_major": 2,
       "version_minor": 0
      },
      "text/plain": [
       "  0%|          | 0/1200 [00:00<?, ?it/s]"
      ]
     },
     "metadata": {},
     "output_type": "display_data"
    },
    {
     "data": {
      "application/vnd.jupyter.widget-view+json": {
       "model_id": "b23cbf0f965340dcb3a7e73a5abb580f",
       "version_major": 2,
       "version_minor": 0
      },
      "text/plain": [
       "  0%|          | 0/400 [00:00<?, ?it/s]"
      ]
     },
     "metadata": {},
     "output_type": "display_data"
    },
    {
     "data": {
      "application/vnd.jupyter.widget-view+json": {
       "model_id": "fef48648769f4c15b46f328f50983b59",
       "version_major": 2,
       "version_minor": 0
      },
      "text/plain": [
       "  0%|          | 0/400 [00:00<?, ?it/s]"
      ]
     },
     "metadata": {},
     "output_type": "display_data"
    },
    {
     "name": "stdout",
     "output_type": "stream",
     "text": [
      "                    Description             Value\n",
      "0                    Session id                51\n",
      "1                        Target           correct\n",
      "2                   Target type            Binary\n",
      "3           Original data shape        (28800, 2)\n",
      "4        Transformed data shape        (28800, 2)\n",
      "5   Transformed train set shape        (21600, 2)\n",
      "6    Transformed test set shape         (7200, 2)\n",
      "7              Numeric features                 1\n",
      "8                    Preprocess              True\n",
      "9               Imputation type            simple\n",
      "10           Numeric imputation              mean\n",
      "11       Categorical imputation              mode\n",
      "12               Fold Generator   StratifiedKFold\n",
      "13                  Fold Number                10\n",
      "14                     CPU Jobs                -1\n",
      "15                      Use GPU             False\n",
      "16               Log Experiment             False\n",
      "17              Experiment Name  clf-default-name\n",
      "18                          USI              d680\n"
     ]
    },
    {
     "name": "stderr",
     "output_type": "stream",
     "text": [
      "                                                           \r"
     ]
    },
    {
     "name": "stdout",
     "output_type": "stream",
     "text": [
      "                                    Model  Accuracy     AUC  Recall   Prec.  \\\n",
      "gbc          Gradient Boosting Classifier    0.7312  0.7248  0.9441  0.7435   \n",
      "dt               Decision Tree Classifier    0.7309  0.7257  0.9360  0.7464   \n",
      "et                 Extra Trees Classifier    0.7309  0.7257  0.9360  0.7464   \n",
      "xgboost         Extreme Gradient Boosting    0.7309  0.7257  0.9360  0.7464   \n",
      "lightgbm  Light Gradient Boosting Machine    0.7309  0.7257  0.9360  0.7464   \n",
      "ada                  Ada Boost Classifier    0.7306  0.7190  0.9792  0.7302   \n",
      "rf               Random Forest Classifier    0.7300  0.7261  0.9314  0.7475   \n",
      "lr                    Logistic Regression    0.7044  0.5623  1.0000  0.7044   \n",
      "nb                            Naive Bayes    0.7044  0.6282  1.0000  0.7044   \n",
      "ridge                    Ridge Classifier    0.7044  0.0000  1.0000  0.7044   \n",
      "qda       Quadratic Discriminant Analysis    0.7044  0.6282  1.0000  0.7044   \n",
      "lda          Linear Discriminant Analysis    0.7044  0.5623  1.0000  0.7044   \n",
      "dummy                    Dummy Classifier    0.7044  0.5000  1.0000  0.7044   \n",
      "svm                   SVM - Linear Kernel    0.6939  0.0000  0.9807  0.7022   \n",
      "\n",
      "              F1   Kappa     MCC  TT (Sec)  \n",
      "gbc       0.8319  0.2063  0.2509     0.013  \n",
      "dt        0.8304  0.2163  0.2547     0.007  \n",
      "et        0.8304  0.2163  0.2547     0.021  \n",
      "xgboost   0.8304  0.2163  0.2547     0.009  \n",
      "lightgbm  0.8304  0.2163  0.2547     0.018  \n",
      "ada       0.8366  0.1536  0.2341     0.014  \n",
      "rf        0.8292  0.2185  0.2545     0.024  \n",
      "lr        0.8265  0.0000  0.0000     0.007  \n",
      "nb        0.8265  0.0000  0.0000     0.006  \n",
      "ridge     0.8265  0.0000  0.0000     0.005  \n",
      "qda       0.8265  0.0000  0.0000     0.006  \n",
      "lda       0.8265  0.0000  0.0000     0.006  \n",
      "dummy     0.8265  0.0000  0.0000     0.005  \n",
      "svm       0.8179 -0.0098 -0.0104     0.013  \n",
      "                          Model  Accuracy     AUC  Recall   Prec.      F1  \\\n",
      "0  Gradient Boosting Classifier    0.7333  0.7318  0.9403  0.7475  0.8329   \n",
      "\n",
      "   Kappa     MCC  \n",
      "0  0.214  0.2537  \n",
      "              precision    recall  f1-score   support\n",
      "\n",
      "           0       0.62      0.23      0.34      2112\n",
      "           1       0.75      0.94      0.83      5088\n",
      "\n",
      "    accuracy                           0.73      7200\n",
      "   macro avg       0.68      0.59      0.59      7200\n",
      "weighted avg       0.71      0.73      0.69      7200\n",
      "\n"
     ]
    }
   ],
   "source": [
    "test_features(\n",
    "    X=df_source,\n",
    "    y=df_source_labels,\n",
    "    create_features=create_basic_session_features)"
   ]
  },
  {
   "attachments": {},
   "cell_type": "markdown",
   "metadata": {},
   "source": [
    "### Elapsed Time Dataset"
   ]
  },
  {
   "cell_type": "code",
   "execution_count": 43,
   "metadata": {},
   "outputs": [
    {
     "data": {
      "application/vnd.jupyter.widget-view+json": {
       "model_id": "2325e9ed01a14811a5e4a1c516e8dfd9",
       "version_major": 2,
       "version_minor": 0
      },
      "text/plain": [
       "  0%|          | 0/1200 [00:00<?, ?it/s]"
      ]
     },
     "metadata": {},
     "output_type": "display_data"
    },
    {
     "data": {
      "application/vnd.jupyter.widget-view+json": {
       "model_id": "e31db9f1faee447289310ff06c061d1f",
       "version_major": 2,
       "version_minor": 0
      },
      "text/plain": [
       "  0%|          | 0/400 [00:00<?, ?it/s]"
      ]
     },
     "metadata": {},
     "output_type": "display_data"
    },
    {
     "data": {
      "application/vnd.jupyter.widget-view+json": {
       "model_id": "c514bc142a1b4fd3b83847232ec802cf",
       "version_major": 2,
       "version_minor": 0
      },
      "text/plain": [
       "  0%|          | 0/400 [00:00<?, ?it/s]"
      ]
     },
     "metadata": {},
     "output_type": "display_data"
    },
    {
     "name": "stdout",
     "output_type": "stream",
     "text": [
      "                    Description             Value\n",
      "0                    Session id                51\n",
      "1                        Target           correct\n",
      "2                   Target type            Binary\n",
      "3           Original data shape        (28800, 3)\n",
      "4        Transformed data shape        (28800, 3)\n",
      "5   Transformed train set shape        (21600, 3)\n",
      "6    Transformed test set shape         (7200, 3)\n",
      "7              Numeric features                 2\n",
      "8                    Preprocess              True\n",
      "9               Imputation type            simple\n",
      "10           Numeric imputation              mean\n",
      "11       Categorical imputation              mode\n",
      "12               Fold Generator   StratifiedKFold\n",
      "13                  Fold Number                10\n",
      "14                     CPU Jobs                -1\n",
      "15                      Use GPU             False\n",
      "16               Log Experiment             False\n",
      "17              Experiment Name  clf-default-name\n",
      "18                          USI              7604\n"
     ]
    },
    {
     "name": "stderr",
     "output_type": "stream",
     "text": [
      "                                                           \r"
     ]
    },
    {
     "name": "stdout",
     "output_type": "stream",
     "text": [
      "                                    Model  Accuracy     AUC  Recall   Prec.  \\\n",
      "gbc          Gradient Boosting Classifier    0.7358  0.7285  0.9489  0.7455   \n",
      "lightgbm  Light Gradient Boosting Machine    0.7337  0.7224  0.9335  0.7498   \n",
      "ada                  Ada Boost Classifier    0.7316  0.7227  0.9705  0.7341   \n",
      "xgboost         Extreme Gradient Boosting    0.7243  0.7085  0.9118  0.7504   \n",
      "lr                    Logistic Regression    0.7044  0.4226  1.0000  0.7044   \n",
      "ridge                    Ridge Classifier    0.7044  0.0000  1.0000  0.7044   \n",
      "lda          Linear Discriminant Analysis    0.7044  0.5648  1.0000  0.7044   \n",
      "dummy                    Dummy Classifier    0.7044  0.5000  1.0000  0.7044   \n",
      "nb                            Naive Bayes    0.6998  0.4503  0.9887  0.7044   \n",
      "qda       Quadratic Discriminant Analysis    0.6994  0.6217  0.9879  0.7043   \n",
      "svm                   SVM - Linear Kernel    0.6634  0.0000  0.9000  0.6339   \n",
      "rf               Random Forest Classifier    0.6445  0.6454  0.7475  0.7477   \n",
      "et                 Extra Trees Classifier    0.6442  0.6095  0.7455  0.7484   \n",
      "dt               Decision Tree Classifier    0.6441  0.5732  0.7467  0.7477   \n",
      "\n",
      "              F1   Kappa     MCC  TT (Sec)  \n",
      "gbc       0.8350  0.2182  0.2656     0.086  \n",
      "lightgbm  0.8316  0.2301  0.2657     0.022  \n",
      "ada       0.8359  0.1708  0.2403     0.045  \n",
      "xgboost   0.8232  0.2223  0.2462     0.057  \n",
      "lr        0.8265  0.0000  0.0000     0.141  \n",
      "ridge     0.8265  0.0000  0.0000     0.006  \n",
      "lda       0.8265  0.0000  0.0000     0.007  \n",
      "dummy     0.8265  0.0000  0.0000     0.006  \n",
      "nb        0.8226  0.0002  0.0017     0.072  \n",
      "qda       0.8223 -0.0003  0.0002     0.007  \n",
      "svm       0.7439  0.0000  0.0000     0.009  \n",
      "rf        0.7475  0.1466  0.1467     0.158  \n",
      "et        0.7469  0.1480  0.1481     0.137  \n",
      "dt        0.7471  0.1463  0.1464     0.009  \n",
      "                          Model  Accuracy     AUC  Recall   Prec.      F1  \\\n",
      "0  Gradient Boosting Classifier    0.7347  0.7348   0.941  0.7484  0.8337   \n",
      "\n",
      "    Kappa     MCC  \n",
      "0  0.2183  0.2586  \n",
      "              precision    recall  f1-score   support\n",
      "\n",
      "           0       0.63      0.24      0.34      2112\n",
      "           1       0.75      0.94      0.83      5088\n",
      "\n",
      "    accuracy                           0.73      7200\n",
      "   macro avg       0.69      0.59      0.59      7200\n",
      "weighted avg       0.71      0.73      0.69      7200\n",
      "\n"
     ]
    }
   ],
   "source": [
    "test_features(\n",
    "    X=df_source,\n",
    "    y=df_source_labels,\n",
    "    create_features=create_elapsed_time_session_features)"
   ]
  },
  {
   "attachments": {},
   "cell_type": "markdown",
   "metadata": {},
   "source": [
    "### Event Count"
   ]
  },
  {
   "cell_type": "code",
   "execution_count": 74,
   "metadata": {},
   "outputs": [
    {
     "data": {
      "application/vnd.jupyter.widget-view+json": {
       "model_id": "3b2f73704833447798488ba1aa86ccb8",
       "version_major": 2,
       "version_minor": 0
      },
      "text/plain": [
       "  0%|          | 0/1200 [00:00<?, ?it/s]"
      ]
     },
     "metadata": {},
     "output_type": "display_data"
    },
    {
     "data": {
      "application/vnd.jupyter.widget-view+json": {
       "model_id": "d390f84930064e1fa4ae49fd52157d7b",
       "version_major": 2,
       "version_minor": 0
      },
      "text/plain": [
       "  0%|          | 0/400 [00:00<?, ?it/s]"
      ]
     },
     "metadata": {},
     "output_type": "display_data"
    },
    {
     "data": {
      "application/vnd.jupyter.widget-view+json": {
       "model_id": "a9f052aed4204f1199031f05223419b4",
       "version_major": 2,
       "version_minor": 0
      },
      "text/plain": [
       "  0%|          | 0/400 [00:00<?, ?it/s]"
      ]
     },
     "metadata": {},
     "output_type": "display_data"
    },
    {
     "name": "stdout",
     "output_type": "stream",
     "text": [
      "                    Description             Value\n",
      "0                    Session id                51\n",
      "1                        Target           correct\n",
      "2                   Target type            Binary\n",
      "3           Original data shape       (28800, 13)\n",
      "4        Transformed data shape       (28800, 13)\n",
      "5   Transformed train set shape       (21600, 13)\n",
      "6    Transformed test set shape        (7200, 13)\n",
      "7              Numeric features                12\n",
      "8      Rows with missing values             39.1%\n",
      "9                    Preprocess              True\n",
      "10              Imputation type            simple\n",
      "11           Numeric imputation              mean\n",
      "12       Categorical imputation              mode\n",
      "13               Fold Generator   StratifiedKFold\n",
      "14                  Fold Number                10\n",
      "15                     CPU Jobs                -1\n",
      "16                      Use GPU             False\n",
      "17               Log Experiment             False\n",
      "18              Experiment Name  clf-default-name\n",
      "19                          USI              bcfa\n"
     ]
    },
    {
     "name": "stderr",
     "output_type": "stream",
     "text": [
      "                                                           "
     ]
    },
    {
     "name": "stdout",
     "output_type": "stream",
     "text": [
      "                                    Model  Accuracy     AUC  Recall   Prec.  \\\n",
      "gbc          Gradient Boosting Classifier    0.7431  0.7510  0.9366  0.7567   \n",
      "ada                  Ada Boost Classifier    0.7399  0.7406  0.9376  0.7534   \n",
      "lightgbm  Light Gradient Boosting Machine    0.7387  0.7472  0.9175  0.7608   \n",
      "xgboost         Extreme Gradient Boosting    0.7231  0.7219  0.8846  0.7610   \n",
      "rf               Random Forest Classifier    0.7203  0.7073  0.8936  0.7545   \n",
      "et                 Extra Trees Classifier    0.7166  0.7116  0.8787  0.7576   \n",
      "lda          Linear Discriminant Analysis    0.7121  0.6593  0.9674  0.7201   \n",
      "lr                    Logistic Regression    0.7120  0.6602  0.9707  0.7189   \n",
      "ridge                    Ridge Classifier    0.7114  0.0000  0.9742  0.7174   \n",
      "dummy                    Dummy Classifier    0.7044  0.5000  1.0000  0.7044   \n",
      "qda       Quadratic Discriminant Analysis    0.6952  0.6553  0.8986  0.7308   \n",
      "nb                            Naive Bayes    0.6919  0.6456  0.8817  0.7343   \n",
      "dt               Decision Tree Classifier    0.6492  0.5843  0.7431  0.7550   \n",
      "svm                   SVM - Linear Kernel    0.6484  0.0000  0.8125  0.7396   \n",
      "\n",
      "              F1   Kappa     MCC  TT (Sec)  \n",
      "gbc       0.8370  0.2619  0.2994     0.196  \n",
      "ada       0.8354  0.2483  0.2870     0.068  \n",
      "lightgbm  0.8318  0.2685  0.2943     0.031  \n",
      "xgboost   0.8181  0.2511  0.2643     0.131  \n",
      "rf        0.8181  0.2308  0.2480     0.167  \n",
      "et        0.8136  0.2355  0.2478     0.153  \n",
      "lda       0.8255  0.0931  0.1463     0.012  \n",
      "lr        0.8260  0.0874  0.1427     0.158  \n",
      "ridge     0.8262  0.0790  0.1366     0.007  \n",
      "dummy     0.8265  0.0000  0.0000     0.007  \n",
      "qda       0.8058  0.1295  0.1470     0.009  \n",
      "nb        0.8011  0.1407  0.1537     0.070  \n",
      "dt        0.7490  0.1668  0.1669     0.016  \n",
      "svm       0.7397  0.0687  0.0914     0.031  \n",
      "                          Model  Accuracy     AUC  Recall   Prec.      F1  \\\n",
      "0  Gradient Boosting Classifier    0.7376  0.7498  0.9365  0.7526  0.8346   \n",
      "\n",
      "    Kappa     MCC  \n",
      "0  0.2356  0.2726  \n",
      "              precision    recall  f1-score   support\n",
      "\n",
      "           0       0.63      0.26      0.37      2112\n",
      "           1       0.75      0.94      0.83      5088\n",
      "\n",
      "    accuracy                           0.74      7200\n",
      "   macro avg       0.69      0.60      0.60      7200\n",
      "weighted avg       0.72      0.74      0.70      7200\n",
      "\n"
     ]
    },
    {
     "name": "stderr",
     "output_type": "stream",
     "text": [
      "\r"
     ]
    }
   ],
   "source": [
    "test_features(\n",
    "    X=df_source,\n",
    "    y=df_source_labels,\n",
    "    create_features=create_event_count_session_features)"
   ]
  }
 ],
 "metadata": {
  "kernelspec": {
   "display_name": "Python 3",
   "language": "python",
   "name": "python3"
  },
  "language_info": {
   "codemirror_mode": {
    "name": "ipython",
    "version": 3
   },
   "file_extension": ".py",
   "mimetype": "text/x-python",
   "name": "python",
   "nbconvert_exporter": "python",
   "pygments_lexer": "ipython3",
   "version": "3.8.10"
  },
  "orig_nbformat": 4
 },
 "nbformat": 4,
 "nbformat_minor": 2
}
