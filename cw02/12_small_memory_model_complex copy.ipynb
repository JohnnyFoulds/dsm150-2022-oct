{
 "cells": [
  {
   "attachments": {},
   "cell_type": "markdown",
   "metadata": {},
   "source": [
    "# 12. Small and Fast Training\n",
    "\n",
    "Find a way to do fast training based on previous methods. The main speed comes from not using a generator and using smaller datasets."
   ]
  },
  {
   "cell_type": "code",
   "execution_count": 1,
   "metadata": {},
   "outputs": [
    {
     "name": "stderr",
     "output_type": "stream",
     "text": [
      "2023-02-27 16:49:50.557886: I tensorflow/core/platform/cpu_feature_guard.cc:193] This TensorFlow binary is optimized with oneAPI Deep Neural Network Library (oneDNN) to use the following CPU instructions in performance-critical operations:  AVX2 FMA\n",
      "To enable them in other operations, rebuild TensorFlow with the appropriate compiler flags.\n",
      "2023-02-27 16:49:51.340201: W tensorflow/compiler/xla/stream_executor/platform/default/dso_loader.cc:64] Could not load dynamic library 'libnvinfer.so.7'; dlerror: libnvinfer.so.7: cannot open shared object file: No such file or directory\n",
      "2023-02-27 16:49:51.340282: W tensorflow/compiler/xla/stream_executor/platform/default/dso_loader.cc:64] Could not load dynamic library 'libnvinfer_plugin.so.7'; dlerror: libnvinfer_plugin.so.7: cannot open shared object file: No such file or directory\n",
      "2023-02-27 16:49:51.340288: W tensorflow/compiler/tf2tensorrt/utils/py_utils.cc:38] TF-TRT Warning: Cannot dlopen some TensorRT libraries. If you would like to use Nvidia GPU with TensorRT, please make sure the missing libraries mentioned above are installed properly.\n"
     ]
    }
   ],
   "source": [
    "import sys\n",
    "import os\n",
    "import pandas as pd\n",
    "import numpy as np\n",
    "\n",
    "import math\n",
    "import logging\n",
    "import gc\n",
    "import multiprocessing\n",
    "from functools import partial\n",
    "\n",
    "from tqdm.notebook import tqdm\n",
    "from typing import Tuple\n",
    "from sklearn.model_selection import train_test_split\n",
    "\n",
    "import tensorflow_addons as tfa\n",
    "from tensorflow.keras.models import Sequential\n",
    "from tensorflow.keras import layers\n",
    "from tensorflow.keras.optimizers import RMSprop\n",
    "\n",
    "from keras import backend as K\n",
    "from keras import optimizers\n",
    "from keras import callbacks\n",
    "\n",
    "from sklearn.metrics import f1_score\n",
    "from sklearn.metrics import classification_report, precision_recall_fscore_support\n",
    "\n",
    "import matplotlib.pyplot as plt"
   ]
  },
  {
   "cell_type": "code",
   "execution_count": 2,
   "metadata": {},
   "outputs": [],
   "source": [
    "logging.getLogger('matplotlib.font_manager').setLevel(logging.ERROR)"
   ]
  },
  {
   "cell_type": "markdown",
   "metadata": {},
   "source": [
    "## Load Source Data"
   ]
  },
  {
   "cell_type": "code",
   "execution_count": 3,
   "metadata": {},
   "outputs": [
    {
     "name": "stdout",
     "output_type": "stream",
     "text": [
      "(13174211, 19)\n"
     ]
    },
    {
     "data": {
      "text/html": [
       "<div>\n",
       "<style scoped>\n",
       "    .dataframe tbody tr th:only-of-type {\n",
       "        vertical-align: middle;\n",
       "    }\n",
       "\n",
       "    .dataframe tbody tr th {\n",
       "        vertical-align: top;\n",
       "    }\n",
       "\n",
       "    .dataframe thead th {\n",
       "        text-align: right;\n",
       "    }\n",
       "</style>\n",
       "<table border=\"1\" class=\"dataframe\">\n",
       "  <thead>\n",
       "    <tr style=\"text-align: right;\">\n",
       "      <th></th>\n",
       "      <th>session_id</th>\n",
       "      <th>elapsed_time</th>\n",
       "      <th>event_name</th>\n",
       "      <th>name</th>\n",
       "      <th>level</th>\n",
       "      <th>page</th>\n",
       "      <th>room_coor_x</th>\n",
       "      <th>room_coor_y</th>\n",
       "      <th>screen_coor_x</th>\n",
       "      <th>screen_coor_y</th>\n",
       "      <th>hover_duration</th>\n",
       "      <th>text</th>\n",
       "      <th>fqid</th>\n",
       "      <th>room_fqid</th>\n",
       "      <th>text_fqid</th>\n",
       "      <th>fullscreen</th>\n",
       "      <th>hq</th>\n",
       "      <th>music</th>\n",
       "      <th>level_group</th>\n",
       "    </tr>\n",
       "    <tr>\n",
       "      <th>index</th>\n",
       "      <th></th>\n",
       "      <th></th>\n",
       "      <th></th>\n",
       "      <th></th>\n",
       "      <th></th>\n",
       "      <th></th>\n",
       "      <th></th>\n",
       "      <th></th>\n",
       "      <th></th>\n",
       "      <th></th>\n",
       "      <th></th>\n",
       "      <th></th>\n",
       "      <th></th>\n",
       "      <th></th>\n",
       "      <th></th>\n",
       "      <th></th>\n",
       "      <th></th>\n",
       "      <th></th>\n",
       "      <th></th>\n",
       "    </tr>\n",
       "  </thead>\n",
       "  <tbody>\n",
       "    <tr>\n",
       "      <th>0</th>\n",
       "      <td>20090312431273200</td>\n",
       "      <td>0</td>\n",
       "      <td>cutscene_click</td>\n",
       "      <td>basic</td>\n",
       "      <td>0</td>\n",
       "      <td>NaN</td>\n",
       "      <td>-413.991405</td>\n",
       "      <td>-159.314686</td>\n",
       "      <td>380.0</td>\n",
       "      <td>494.0</td>\n",
       "      <td>NaN</td>\n",
       "      <td>undefined</td>\n",
       "      <td>intro</td>\n",
       "      <td>tunic.historicalsociety.closet</td>\n",
       "      <td>tunic.historicalsociety.closet.intro</td>\n",
       "      <td>NaN</td>\n",
       "      <td>NaN</td>\n",
       "      <td>NaN</td>\n",
       "      <td>0-4</td>\n",
       "    </tr>\n",
       "    <tr>\n",
       "      <th>1</th>\n",
       "      <td>20090312431273200</td>\n",
       "      <td>1323</td>\n",
       "      <td>person_click</td>\n",
       "      <td>basic</td>\n",
       "      <td>0</td>\n",
       "      <td>NaN</td>\n",
       "      <td>-413.991405</td>\n",
       "      <td>-159.314686</td>\n",
       "      <td>380.0</td>\n",
       "      <td>494.0</td>\n",
       "      <td>NaN</td>\n",
       "      <td>Whatcha doing over there, Jo?</td>\n",
       "      <td>gramps</td>\n",
       "      <td>tunic.historicalsociety.closet</td>\n",
       "      <td>tunic.historicalsociety.closet.gramps.intro_0_...</td>\n",
       "      <td>NaN</td>\n",
       "      <td>NaN</td>\n",
       "      <td>NaN</td>\n",
       "      <td>0-4</td>\n",
       "    </tr>\n",
       "    <tr>\n",
       "      <th>2</th>\n",
       "      <td>20090312431273200</td>\n",
       "      <td>831</td>\n",
       "      <td>person_click</td>\n",
       "      <td>basic</td>\n",
       "      <td>0</td>\n",
       "      <td>NaN</td>\n",
       "      <td>-413.991405</td>\n",
       "      <td>-159.314686</td>\n",
       "      <td>380.0</td>\n",
       "      <td>494.0</td>\n",
       "      <td>NaN</td>\n",
       "      <td>Just talking to Teddy.</td>\n",
       "      <td>gramps</td>\n",
       "      <td>tunic.historicalsociety.closet</td>\n",
       "      <td>tunic.historicalsociety.closet.gramps.intro_0_...</td>\n",
       "      <td>NaN</td>\n",
       "      <td>NaN</td>\n",
       "      <td>NaN</td>\n",
       "      <td>0-4</td>\n",
       "    </tr>\n",
       "  </tbody>\n",
       "</table>\n",
       "</div>"
      ],
      "text/plain": [
       "              session_id  elapsed_time      event_name   name  level  page  \\\n",
       "index                                                                        \n",
       "0      20090312431273200             0  cutscene_click  basic      0   NaN   \n",
       "1      20090312431273200          1323    person_click  basic      0   NaN   \n",
       "2      20090312431273200           831    person_click  basic      0   NaN   \n",
       "\n",
       "       room_coor_x  room_coor_y  screen_coor_x  screen_coor_y  hover_duration  \\\n",
       "index                                                                           \n",
       "0      -413.991405  -159.314686          380.0          494.0             NaN   \n",
       "1      -413.991405  -159.314686          380.0          494.0             NaN   \n",
       "2      -413.991405  -159.314686          380.0          494.0             NaN   \n",
       "\n",
       "                                text    fqid                       room_fqid  \\\n",
       "index                                                                          \n",
       "0                          undefined   intro  tunic.historicalsociety.closet   \n",
       "1      Whatcha doing over there, Jo?  gramps  tunic.historicalsociety.closet   \n",
       "2             Just talking to Teddy.  gramps  tunic.historicalsociety.closet   \n",
       "\n",
       "                                               text_fqid  fullscreen  hq  \\\n",
       "index                                                                      \n",
       "0                   tunic.historicalsociety.closet.intro         NaN NaN   \n",
       "1      tunic.historicalsociety.closet.gramps.intro_0_...         NaN NaN   \n",
       "2      tunic.historicalsociety.closet.gramps.intro_0_...         NaN NaN   \n",
       "\n",
       "       music level_group  \n",
       "index                     \n",
       "0        NaN         0-4  \n",
       "1        NaN         0-4  \n",
       "2        NaN         0-4  "
      ]
     },
     "metadata": {},
     "output_type": "display_data"
    }
   ],
   "source": [
    "# load the source training set\n",
    "df_source = pd.read_csv('data/train.csv.gz', compression='gzip', index_col=1)\n",
    "\n",
    "print(df_source.shape)\n",
    "with pd.option_context('display.max_columns', None):\n",
    "    display(df_source.head(3))"
   ]
  },
  {
   "cell_type": "code",
   "execution_count": 4,
   "metadata": {},
   "outputs": [
    {
     "name": "stdout",
     "output_type": "stream",
     "text": [
      "(212022, 2)\n"
     ]
    },
    {
     "data": {
      "text/html": [
       "<div>\n",
       "<style scoped>\n",
       "    .dataframe tbody tr th:only-of-type {\n",
       "        vertical-align: middle;\n",
       "    }\n",
       "\n",
       "    .dataframe tbody tr th {\n",
       "        vertical-align: top;\n",
       "    }\n",
       "\n",
       "    .dataframe thead th {\n",
       "        text-align: right;\n",
       "    }\n",
       "</style>\n",
       "<table border=\"1\" class=\"dataframe\">\n",
       "  <thead>\n",
       "    <tr style=\"text-align: right;\">\n",
       "      <th></th>\n",
       "      <th>session_id</th>\n",
       "      <th>correct</th>\n",
       "    </tr>\n",
       "  </thead>\n",
       "  <tbody>\n",
       "    <tr>\n",
       "      <th>0</th>\n",
       "      <td>20090312431273200_q1</td>\n",
       "      <td>1</td>\n",
       "    </tr>\n",
       "    <tr>\n",
       "      <th>1</th>\n",
       "      <td>20090312433251036_q1</td>\n",
       "      <td>0</td>\n",
       "    </tr>\n",
       "    <tr>\n",
       "      <th>2</th>\n",
       "      <td>20090314121766812_q1</td>\n",
       "      <td>1</td>\n",
       "    </tr>\n",
       "  </tbody>\n",
       "</table>\n",
       "</div>"
      ],
      "text/plain": [
       "             session_id  correct\n",
       "0  20090312431273200_q1        1\n",
       "1  20090312433251036_q1        0\n",
       "2  20090314121766812_q1        1"
      ]
     },
     "metadata": {},
     "output_type": "display_data"
    }
   ],
   "source": [
    "# load the source training labels\n",
    "df_source_labels = pd.read_csv('data/train_labels.csv')\n",
    "\n",
    "print(df_source_labels.shape)\n",
    "with pd.option_context('display.max_columns', None):\n",
    "    display(df_source_labels.head(3))"
   ]
  },
  {
   "attachments": {},
   "cell_type": "markdown",
   "metadata": {},
   "source": [
    "## Functions"
   ]
  },
  {
   "cell_type": "markdown",
   "metadata": {},
   "source": [
    "### Functions to prepare the data"
   ]
  },
  {
   "cell_type": "code",
   "execution_count": 5,
   "metadata": {},
   "outputs": [],
   "source": [
    "def map_question_to_level_group(question_number):\n",
    "    \"\"\"\n",
    "    Maps the question number to the level group.\n",
    "\n",
    "    Parameters\n",
    "    ----------\n",
    "    question_number : int\n",
    "        The question number.\n",
    "\n",
    "    Returns\n",
    "    -------\n",
    "    str\n",
    "        The level group.\n",
    "    \"\"\"\n",
    "    if question_number in [1, 2, 3]:\n",
    "        return '0-4'\n",
    "    elif question_number in [4, 5, 6, 7, 8, 9, 10, 11, 12, 13]:\n",
    "        return '5-12'\n",
    "    elif question_number in [14, 15, 16, 17, 18]:\n",
    "        return '13-22'\n",
    "    else:\n",
    "        return None\n",
    "\n",
    "def prepare_label_dataset(data : pd.DataFrame) -> pd.DataFrame:\n",
    "    \"\"\"\n",
    "    Prepares the label dataset and add columns for the level group \n",
    "    and the question number.\n",
    "\n",
    "    Parameters\n",
    "    ----------\n",
    "    data : pd.DataFrame\n",
    "        The label dataset.\n",
    "\n",
    "    Returns\n",
    "    -------\n",
    "    pd.DataFrame\n",
    "        The prepared label dataset.\n",
    "    \"\"\"\n",
    "    # add the columns to determine the level group\n",
    "    df_labels = data \\\n",
    "        .rename(columns={'session_id': 'id'}) \\\n",
    "        .assign(session_id=lambda df: df['id'].str.split('_').str[0].astype(int)) \\\n",
    "        .assign(question_id=lambda df: df['id'].str.split('_').str[1]) \\\n",
    "        .assign(question_num=lambda df: df['question_id'].str[1:].astype(int)) \\\n",
    "        [['session_id', 'question_num', 'correct']]\n",
    "    \n",
    "    # add the level group column\n",
    "    df_labels['level_group'] = df_labels['question_num'].apply(map_question_to_level_group) \n",
    "\n",
    "        \n",
    "    return df_labels"
   ]
  },
  {
   "cell_type": "code",
   "execution_count": 6,
   "metadata": {},
   "outputs": [],
   "source": [
    "def prepare_main_dataset(data : pd.DataFrame) -> pd.DataFrame:\n",
    "    \"\"\"\n",
    "    Prepares the main dataset by removing duplicates and removing \n",
    "    columns that are not needed.\n",
    "\n",
    "    Parameters\n",
    "    ----------\n",
    "    data : pd.DataFrame\n",
    "        The main dataset.\n",
    "\n",
    "    Returns\n",
    "    -------\n",
    "    pd.DataFrame\n",
    "        The prepared main dataset.\n",
    "    \"\"\"\n",
    "    empty_columns = ['fullscreen', 'hq', 'music', 'page', 'hover_duration']\n",
    "\n",
    "    df_main = data \\\n",
    "        .drop_duplicates() \\\n",
    "        .reset_index(drop=True) \\\n",
    "        .drop(empty_columns, axis=1) \\\n",
    "        .drop('text', axis=1)\n",
    "\n",
    "    return df_main"
   ]
  },
  {
   "cell_type": "code",
   "execution_count": 7,
   "metadata": {},
   "outputs": [],
   "source": [
    "def vectorize_dataset(data: pd.DataFrame, standardize_coordinates: bool=True) -> pd.DataFrame:\n",
    "    \"\"\"\n",
    "    Vectorizes the dataset for deep learning by one-hot encoding and standardizing.\n",
    "    \n",
    "    Parameters\n",
    "    ----------\n",
    "    data : pd.DataFrame\n",
    "        The dataset to prepare.\n",
    "\n",
    "    Returns\n",
    "    -------\n",
    "    pd.DataFrame\n",
    "        The vectorized dataset.\n",
    "    \"\"\"\n",
    "    categorical_cols = ['event_name', 'name', 'level', 'fqid', 'room_fqid', 'text_fqid', 'level_group']\n",
    "    numerical_cols = ['elapsed_time']    \n",
    "    coordinates_cols = ['room_coor_x', 'room_coor_y', 'screen_coor_x', 'screen_coor_y']\n",
    "\n",
    "    df_vectorized = data \\\n",
    "        .drop('session_id', axis=1) \\\n",
    "        .fillna(0)\n",
    "\n",
    "    # standardize the numerical variables\n",
    "    df_vectorized[numerical_cols] = (df_vectorized[numerical_cols] - df_vectorized[numerical_cols].mean()) / df_vectorized[numerical_cols].std()\n",
    "\n",
    "    # standardize the coordinates\n",
    "    if standardize_coordinates:\n",
    "        df_vectorized[coordinates_cols] = (df_vectorized[coordinates_cols] - df_vectorized[coordinates_cols].mean()) / df_vectorized[coordinates_cols].std()\n",
    "\n",
    "    # one-hot encode the categorical variables\n",
    "    df_vectorized = pd.get_dummies(df_vectorized, columns=categorical_cols)\n",
    "    \n",
    "    return df_vectorized"
   ]
  },
  {
   "cell_type": "code",
   "execution_count": 8,
   "metadata": {},
   "outputs": [],
   "source": [
    "def prepare_sequence_matrix(data: pd.DataFrame, vector_columns: list, standardize_coordinates: bool=True) -> pd.DataFrame:\n",
    "    \"\"\"\n",
    "    Prepare a sequence matrix from a DataFrame for a specific session and level group.\n",
    "\n",
    "    Parameters\n",
    "    ----------\n",
    "    data : pd.DataFrame\n",
    "        The dataframe containing the data.\n",
    "\n",
    "    vector_columns : list\n",
    "        The columns that should appear in the sequence matrix.\n",
    "\n",
    "    standardize_coordinates : bool, optional\n",
    "        Whether to standardize the coordinates.\n",
    "\n",
    "    Returns\n",
    "    -------\n",
    "    pd.DataFrame\n",
    "        The sequence matrix.\n",
    "    \"\"\"\n",
    "    df_sequence_matrix = vectorize_dataset(data, standardize_coordinates=standardize_coordinates)\n",
    "\n",
    "    # add the missing columns\n",
    "    missing_columns = [column for column in vector_columns if column not in df_sequence_matrix.columns]\n",
    "    df_sequence_matrix = pd.concat([\n",
    "        df_sequence_matrix, \n",
    "        pd.DataFrame(columns=missing_columns)], axis=1).fillna(0)\n",
    "\n",
    "    return df_sequence_matrix[vector_columns]"
   ]
  },
  {
   "cell_type": "markdown",
   "metadata": {},
   "source": [
    "### Functions to create datasets"
   ]
  },
  {
   "cell_type": "code",
   "execution_count": 9,
   "metadata": {},
   "outputs": [],
   "source": [
    "def create_vector_array(session_data: pd.DataFrame, \n",
    "                        level_group: int,\n",
    "                        event_count:int = 1000) -> np.array:\n",
    "    \"\"\"\n",
    "    Creates a vector array for a specific session and question number.\n",
    "    \"\"\"\n",
    "    # get the data for the session and level group\n",
    "    df_session = session_data.query('level_group == @level_group')\n",
    "\n",
    "    # prepare the sequence matrix\n",
    "    df_sequence_matrix = prepare_sequence_matrix(df_session, vector_columns)\n",
    "\n",
    "    # convert it to a numpy array\n",
    "    vector_array = df_sequence_matrix.to_numpy()\n",
    "\n",
    "    # the array cannot have more events than the event count\n",
    "    vector_array = vector_array[:event_count]\n",
    "\n",
    "    # pad the array with zeros if it has less events than the event count\n",
    "    if vector_array.shape[0] < event_count:\n",
    "        vector_array = np.pad(vector_array, ((0, event_count - vector_array.shape[0]), (0, 0)), 'constant')\n",
    "\n",
    "    del df_session\n",
    "    del df_sequence_matrix\n",
    "\n",
    "    return vector_array"
   ]
  },
  {
   "cell_type": "code",
   "execution_count": 10,
   "metadata": {},
   "outputs": [],
   "source": [
    "def create_dataset(X: pd.DataFrame,\n",
    "                   y: pd.DataFrame,\n",
    "                   event_count:int,\n",
    "                   session_list: list) -> Tuple[np.array, np.array]:\n",
    "    \"\"\"\n",
    "    Creates a dataset for a specific set of sessions and question numbers.\n",
    "\n",
    "    Parameters\n",
    "    ----------\n",
    "    X : pd.DataFrame\n",
    "        The main dataset.\n",
    "\n",
    "    y : pd.DataFrame\n",
    "        The label dataset.\n",
    "\n",
    "    event_count : int\n",
    "        The number of events to include in the dataset.\n",
    "\n",
    "    session_ids : list\n",
    "        The list of session ids.\n",
    "\n",
    "    Returns\n",
    "    -------\n",
    "    Tuple[np.array, np.array]\n",
    "        The dataset and the labels.\n",
    "    \"\"\"\n",
    "    X_dataset = []\n",
    "    y_dataset = []\n",
    "\n",
    "    for session_id in session_list:\n",
    "        # get the session labels\n",
    "        df_session_labels = y.query('session_id == @session_id')\n",
    "        df_session = X.query('session_id == @session_id')\n",
    "\n",
    "        # create the level groups\n",
    "        vector_arrays = {\n",
    "            '0-4': create_vector_array(df_session, '0-4', event_count),\n",
    "            '5-12': create_vector_array(df_session, '5-12', event_count),\n",
    "            '13-22': create_vector_array(df_session, '13-22', event_count),\n",
    "        }\n",
    "\n",
    "        # iterate over all the questions answered in the session\n",
    "        for _, row in df_session_labels.iterrows():\n",
    "            question_number = row['question_num']\n",
    "            correct = row['correct']\n",
    "            level_group = map_question_to_level_group(question_number)\n",
    "\n",
    "            # get the vector array\n",
    "            vector_array = vector_arrays[level_group].copy()\n",
    "\n",
    "            # set the question number value\n",
    "            column_index = vector_columns.index(f'question_{question_number}')\n",
    "            #print(f'Question: {question_number}, Column: {column_index}')\n",
    "            vector_array[:, column_index] = 1\n",
    "\n",
    "            # add the vector array to the dataset\n",
    "            X_dataset.append(vector_array)\n",
    "            del vector_array\n",
    "\n",
    "            # add the label to the dataset\n",
    "            y_dataset.append(correct)\n",
    "\n",
    "    X_out = np.array(X_dataset, dtype=np.float64)\n",
    "    y_out = np.array(y_dataset)\n",
    "\n",
    "    return X_out, y_out"
   ]
  },
  {
   "cell_type": "markdown",
   "metadata": {},
   "source": [
    "### Functions for Model Training"
   ]
  },
  {
   "cell_type": "code",
   "execution_count": 11,
   "metadata": {},
   "outputs": [],
   "source": [
    "def plot_loss(history: callbacks.History, figsize: Tuple[int, int] = (5, 3)) -> None:\n",
    "    \"\"\"\n",
    "    Plot the loss and validation loss.\n",
    "\n",
    "    Parameters\n",
    "    ----------\n",
    "    history : keras.callbacks.History\n",
    "        The history of the model training.\n",
    "    \"\"\"\n",
    "    epochs = range(1, len(history.history['accuracy']) + 1)\n",
    "\n",
    "    # summarize history for loss\n",
    "    plt.figure(figsize=figsize)\n",
    "    plt.plot(epochs, history.history['loss'])\n",
    "    \n",
    "    if ('val_loss' in history.history):\n",
    "        plt.plot(epochs, history.history['val_loss'])\n",
    "        plt.legend(['Training loss', 'Validation loss'], loc='upper left')\n",
    "        plt.title('Training and validation loss')\n",
    "    else:\n",
    "        plt.title('Training loss')\n",
    "\n",
    "    plt.xlabel('Epochs')\n",
    "    plt.ylabel('Loss')\n",
    "\n",
    "    plt.show()"
   ]
  },
  {
   "cell_type": "code",
   "execution_count": 12,
   "metadata": {},
   "outputs": [],
   "source": [
    "def plot_accuracy(history: callbacks.History, figsize: Tuple[int, int] = (5, 3)) -> None:\n",
    "    \"\"\"\n",
    "    Plot the accuracy and validation accuracy.\n",
    "\n",
    "    Parameters\n",
    "    ----------\n",
    "    history : keras.callbacks.History\n",
    "        The history of the model training.\n",
    "    \"\"\"\n",
    "    epochs = range(1, len(history.history['accuracy']) + 1)\n",
    "\n",
    "    # summarize history for accuracy\n",
    "    plt.figure(figsize=figsize)\n",
    "    plt.plot(epochs, history.history['accuracy'])\n",
    "\n",
    "    if ('val_accuracy' in history.history):\n",
    "        plt.plot(epochs, history.history['val_accuracy'])\n",
    "        plt.legend(['Training acc', 'Validation acc'], loc='upper left')\n",
    "        plt.title('Training and validation accuracy')\n",
    "    else:\n",
    "        plt.title('Training accuracy')\n",
    "\n",
    "    plt.xlabel('Epochs')\n",
    "    plt.ylabel('Accuracy')\n",
    "\n",
    "    plt.show()"
   ]
  },
  {
   "cell_type": "code",
   "execution_count": 13,
   "metadata": {},
   "outputs": [],
   "source": [
    "def optimize_f1(y_true: np.ndarray, y_score: np.ndarray) -> Tuple[float, float, float]:\n",
    "    \"\"\"\n",
    "    Optimize the F1 score.\n",
    "\n",
    "    Parameters\n",
    "    ----------\n",
    "    y_true : np.ndarray\n",
    "        The true labels.\n",
    "    y_score : np.ndarray\n",
    "        The predicted labels.\n",
    "\n",
    "    Returns\n",
    "    -------\n",
    "    Tuple[float, float, float]\n",
    "        The optimized threshold, precision, and recall.\n",
    "    \"\"\"\n",
    "    best_f1 = 0\n",
    "    best_threshold = 0\n",
    "    best_precision = 0\n",
    "    best_recall = 0\n",
    "\n",
    "    for threshold in np.arange(0, 1, 0.01):\n",
    "        y_pred = (y_score > threshold).astype(int)\n",
    "        precision, recall, f1, _ = precision_recall_fscore_support(y_true, y_pred, average='macro', zero_division=1)\n",
    "\n",
    "        if f1 > best_f1:\n",
    "            best_f1 = f1\n",
    "            best_threshold = threshold\n",
    "            best_precision = precision\n",
    "            best_recall = recall\n",
    "\n",
    "    return best_threshold, best_precision, best_recall"
   ]
  },
  {
   "cell_type": "code",
   "execution_count": 14,
   "metadata": {},
   "outputs": [],
   "source": [
    "def train_model(\n",
    "        model,\n",
    "        X_train: np.ndarray,\n",
    "        y_train: np.ndarray,\n",
    "        X_val : np.ndarray,\n",
    "        y_val: np.ndarray,\n",
    "        epochs: int,\n",
    "        batch_size: int,\n",
    "        optimizer,\n",
    "        loss: str,\n",
    "        metrics: list,\n",
    "        class_weight: dict=None) -> callbacks.History:\n",
    "    \"\"\"\n",
    "    Train the keras model based on the parameters.\n",
    "\n",
    "    Parameters\n",
    "    ----------\n",
    "    model : keras.models\n",
    "        The model to train.\n",
    "    X_train : np.ndarray\n",
    "        The training data.\n",
    "    y_train : np.ndarray\n",
    "        The training labels.\n",
    "    X_val : np.ndarray\n",
    "        The validation data.\n",
    "    y_val : np.ndarray\n",
    "        The validation labels.\n",
    "    epochs : int\n",
    "        The number of epochs.\n",
    "    batch_size : int\n",
    "        The batch size.\n",
    "    optimizer : keras.optimizers\n",
    "        The optimizer.\n",
    "    loss : str\n",
    "        The loss function.\n",
    "    metrics : list\n",
    "        The metrics.\n",
    "    class_weight : dict, optional\n",
    "        The class weights, by default None\n",
    "    \n",
    "    Returns\n",
    "    -------\n",
    "    keras.callbacks.History\n",
    "        The history of the training.\n",
    "    \"\"\"\n",
    "    # compile the model\n",
    "    model.compile(\n",
    "        optimizer=optimizer,\n",
    "        loss=loss,\n",
    "        metrics=metrics)\n",
    "    \n",
    "    # fit the model\n",
    "    history = model.fit(\n",
    "        x=X_train,\n",
    "        y=y_train,\n",
    "        epochs=epochs,\n",
    "        batch_size=batch_size,\n",
    "        validation_data=(X_val, y_val),\n",
    "        class_weight=class_weight)\n",
    "    \n",
    "    return history"
   ]
  },
  {
   "cell_type": "code",
   "execution_count": 15,
   "metadata": {},
   "outputs": [],
   "source": [
    "def test_model(\n",
    "        model,\n",
    "        history: callbacks.History,\n",
    "        X_test: np.ndarray,\n",
    "        y_test: np.ndarray) -> float:\n",
    "    \"\"\"\n",
    "    Test the model based on the test data.\n",
    "\n",
    "    Parameters\n",
    "    ----------\n",
    "    model : keras.models\n",
    "        The model to test.\n",
    "    history : keras.callbacks.History\n",
    "        The history of the training.\n",
    "    X_test : np.ndarray\n",
    "        The test data.\n",
    "    y_test : np.ndarray\n",
    "        The test labels.\n",
    "\n",
    "    Returns\n",
    "    -------\n",
    "    float\n",
    "        The optimized threshold for the best F1 score.\n",
    "    \"\"\"\n",
    "    \n",
    "    plot_loss(history)\n",
    "    plot_accuracy(history)\n",
    "\n",
    "    y_test_score = model.predict(X_test)\n",
    "    threshold, _, _ = optimize_f1(y_test, y_test_score)\n",
    "\n",
    "    print(classification_report(y_test, y_test_score > threshold))\n",
    "    print(f'Optimized threshold for best F1: {threshold:.2f}')\n",
    "\n",
    "    gc.collect()\n",
    "\n",
    "    return threshold"
   ]
  },
  {
   "cell_type": "code",
   "execution_count": 16,
   "metadata": {},
   "outputs": [],
   "source": [
    "def train_and_test_model(\n",
    "        model,\n",
    "        X_train: np.ndarray,\n",
    "        y_train: np.ndarray,\n",
    "        X_val : np.ndarray,\n",
    "        y_val: np.ndarray,\n",
    "        X_test: np.ndarray,\n",
    "        y_test: np.ndarray,\n",
    "        epochs: int,\n",
    "        batch_size: int,\n",
    "        optimizer,\n",
    "        loss: str,\n",
    "        metrics: list,\n",
    "        class_weight: dict=None) -> float:\n",
    "    \"\"\"\n",
    "    Train and test the model.\n",
    "\n",
    "    Parameters\n",
    "    ----------\n",
    "    model : keras.models\n",
    "        The model to train and test.\n",
    "    X_train : np.ndarray\n",
    "        The training data.\n",
    "    y_train : np.ndarray\n",
    "        The training labels.\n",
    "    X_val : np.ndarray\n",
    "        The validation data.\n",
    "    y_val : np.ndarray\n",
    "        The validation labels.\n",
    "    X_test : np.ndarray\n",
    "        The test data.\n",
    "    y_test : np.ndarray\n",
    "        The test labels.\n",
    "    epochs : int\n",
    "        The number of epochs.\n",
    "    batch_size : int\n",
    "        The batch size.\n",
    "    optimizer : keras.optimizers\n",
    "        The optimizer.\n",
    "    loss : str\n",
    "        The loss function.\n",
    "    metrics : list\n",
    "        The metrics.\n",
    "    class_weight : dict, optional\n",
    "        The class weights, by default None\n",
    "\n",
    "    Returns\n",
    "    -------\n",
    "    float\n",
    "        The optimized threshold for the best F1 score.\n",
    "    \"\"\"\n",
    "    history = train_model(\n",
    "        model=model,\n",
    "        X_train=X_train,\n",
    "        y_train=y_train,\n",
    "        X_val=X_val,\n",
    "        y_val=y_val,\n",
    "        epochs=epochs,\n",
    "        batch_size=batch_size,\n",
    "        optimizer=optimizer,\n",
    "        loss=loss,\n",
    "        metrics=metrics,\n",
    "        class_weight=class_weight)\n",
    "    \n",
    "    gc.collect()\n",
    "\n",
    "    return test_model(model, history, X_test, y_test)"
   ]
  },
  {
   "cell_type": "code",
   "execution_count": 17,
   "metadata": {},
   "outputs": [],
   "source": [
    "def global_train_model(model,\n",
    "                       epochs: int,\n",
    "                       batch_size: int,\n",
    "                       optimizer,\n",
    "                       loss: str,\n",
    "                       metrics: list,\n",
    "                       class_weight: dict=None) -> float:\n",
    "        \"\"\"\n",
    "        Train the model using the global data.\n",
    "\n",
    "        Parameters\n",
    "        ----------\n",
    "        model : keras.models\n",
    "                The model to train.\n",
    "        epochs : int\n",
    "                The number of epochs.\n",
    "        batch_size : int\n",
    "                The batch size.\n",
    "        optimizer : keras.optimizers\n",
    "                The optimizer.\n",
    "        loss : str\n",
    "                The loss function.\n",
    "        metrics : list\n",
    "                The metrics.\n",
    "        class_weight : dict\n",
    "                The class weights.\n",
    "\n",
    "        Returns\n",
    "        -------\n",
    "        float\n",
    "                The optimized threshold for the best F1 score.\n",
    "        \"\"\"\n",
    "        global X_train\n",
    "        global y_train\n",
    "        global X_val\n",
    "        global y_val\n",
    "        global X_test\n",
    "        global y_test\n",
    "\n",
    "        return train_and_test_model(\n",
    "                model=model,\n",
    "                X_train=X_train,\n",
    "                y_train=y_train,\n",
    "                X_val=X_val,\n",
    "                y_val=y_val,\n",
    "                X_test=X_test,\n",
    "                y_test=y_test,\n",
    "                epochs=epochs,\n",
    "                batch_size=batch_size,\n",
    "                optimizer=optimizer,\n",
    "                loss=loss,\n",
    "                metrics=metrics,\n",
    "                class_weight=class_weight)"
   ]
  },
  {
   "cell_type": "markdown",
   "metadata": {},
   "source": [
    "## Pre-process Data"
   ]
  },
  {
   "cell_type": "markdown",
   "metadata": {},
   "source": [
    "### Pre-defined Values"
   ]
  },
  {
   "cell_type": "code",
   "execution_count": 18,
   "metadata": {},
   "outputs": [],
   "source": [
    "vector_columns = [\n",
    "    'elapsed_time', \n",
    "    'room_coor_x', \n",
    "    'room_coor_y', \n",
    "    'screen_coor_x', \n",
    "    'screen_coor_y', \n",
    "    'event_name_checkpoint', \n",
    "    'event_name_cutscene_click', \n",
    "    'event_name_map_click', \n",
    "    'event_name_map_hover', \n",
    "    'event_name_navigate_click', \n",
    "    'event_name_notebook_click', \n",
    "    'event_name_notification_click', \n",
    "    'event_name_object_click', \n",
    "    'event_name_object_hover', \n",
    "    'event_name_observation_click', \n",
    "    'event_name_person_click', \n",
    "    'name_basic', \n",
    "    'name_close', \n",
    "    'name_next', \n",
    "    'name_open', \n",
    "    'name_prev', \n",
    "    'name_undefined', \n",
    "    'level_0', \n",
    "    'level_1', \n",
    "    'level_2', \n",
    "    'level_3', \n",
    "    'level_4', \n",
    "    'level_5', \n",
    "    'level_6', \n",
    "    'level_7', \n",
    "    'level_8', \n",
    "    'level_9', \n",
    "    'level_10', \n",
    "    'level_11', \n",
    "    'level_12', \n",
    "    'level_13', \n",
    "    'level_14', \n",
    "    'level_15', \n",
    "    'level_16', \n",
    "    'level_17', \n",
    "    'level_18', \n",
    "    'level_19', \n",
    "    'level_20', \n",
    "    'level_21', \n",
    "    'level_22', \n",
    "    'level_group_0-4', \n",
    "    'level_group_13-22', \n",
    "    'level_group_5-12', \n",
    "    'question_1',\n",
    "    'question_2',\n",
    "    'question_3',\n",
    "    'question_4',\n",
    "    'question_5',\n",
    "    'question_6',\n",
    "    'question_7',\n",
    "    'question_8',\n",
    "    'question_9',\n",
    "    'question_10',\n",
    "    'question_11',\n",
    "    'question_12',\n",
    "    'question_13',\n",
    "    'question_14',\n",
    "    'question_15',\n",
    "    'question_16',\n",
    "    'question_17',\n",
    "    'question_18',    \n",
    "]"
   ]
  },
  {
   "cell_type": "markdown",
   "metadata": {},
   "source": [
    "### Perform Pre-Processing"
   ]
  },
  {
   "cell_type": "code",
   "execution_count": 19,
   "metadata": {},
   "outputs": [
    {
     "name": "stdout",
     "output_type": "stream",
     "text": [
      "(13173445, 13)\n"
     ]
    },
    {
     "data": {
      "text/html": [
       "<div>\n",
       "<style scoped>\n",
       "    .dataframe tbody tr th:only-of-type {\n",
       "        vertical-align: middle;\n",
       "    }\n",
       "\n",
       "    .dataframe tbody tr th {\n",
       "        vertical-align: top;\n",
       "    }\n",
       "\n",
       "    .dataframe thead th {\n",
       "        text-align: right;\n",
       "    }\n",
       "</style>\n",
       "<table border=\"1\" class=\"dataframe\">\n",
       "  <thead>\n",
       "    <tr style=\"text-align: right;\">\n",
       "      <th></th>\n",
       "      <th>session_id</th>\n",
       "      <th>elapsed_time</th>\n",
       "      <th>event_name</th>\n",
       "      <th>name</th>\n",
       "      <th>level</th>\n",
       "      <th>room_coor_x</th>\n",
       "      <th>room_coor_y</th>\n",
       "      <th>screen_coor_x</th>\n",
       "      <th>screen_coor_y</th>\n",
       "      <th>fqid</th>\n",
       "      <th>room_fqid</th>\n",
       "      <th>text_fqid</th>\n",
       "      <th>level_group</th>\n",
       "    </tr>\n",
       "  </thead>\n",
       "  <tbody>\n",
       "    <tr>\n",
       "      <th>0</th>\n",
       "      <td>20090312431273200</td>\n",
       "      <td>0</td>\n",
       "      <td>cutscene_click</td>\n",
       "      <td>basic</td>\n",
       "      <td>0</td>\n",
       "      <td>-413.991405</td>\n",
       "      <td>-159.314686</td>\n",
       "      <td>380.0</td>\n",
       "      <td>494.0</td>\n",
       "      <td>intro</td>\n",
       "      <td>tunic.historicalsociety.closet</td>\n",
       "      <td>tunic.historicalsociety.closet.intro</td>\n",
       "      <td>0-4</td>\n",
       "    </tr>\n",
       "    <tr>\n",
       "      <th>1</th>\n",
       "      <td>20090312431273200</td>\n",
       "      <td>1323</td>\n",
       "      <td>person_click</td>\n",
       "      <td>basic</td>\n",
       "      <td>0</td>\n",
       "      <td>-413.991405</td>\n",
       "      <td>-159.314686</td>\n",
       "      <td>380.0</td>\n",
       "      <td>494.0</td>\n",
       "      <td>gramps</td>\n",
       "      <td>tunic.historicalsociety.closet</td>\n",
       "      <td>tunic.historicalsociety.closet.gramps.intro_0_...</td>\n",
       "      <td>0-4</td>\n",
       "    </tr>\n",
       "    <tr>\n",
       "      <th>2</th>\n",
       "      <td>20090312431273200</td>\n",
       "      <td>831</td>\n",
       "      <td>person_click</td>\n",
       "      <td>basic</td>\n",
       "      <td>0</td>\n",
       "      <td>-413.991405</td>\n",
       "      <td>-159.314686</td>\n",
       "      <td>380.0</td>\n",
       "      <td>494.0</td>\n",
       "      <td>gramps</td>\n",
       "      <td>tunic.historicalsociety.closet</td>\n",
       "      <td>tunic.historicalsociety.closet.gramps.intro_0_...</td>\n",
       "      <td>0-4</td>\n",
       "    </tr>\n",
       "  </tbody>\n",
       "</table>\n",
       "</div>"
      ],
      "text/plain": [
       "          session_id  elapsed_time      event_name   name  level  room_coor_x  \\\n",
       "0  20090312431273200             0  cutscene_click  basic      0  -413.991405   \n",
       "1  20090312431273200          1323    person_click  basic      0  -413.991405   \n",
       "2  20090312431273200           831    person_click  basic      0  -413.991405   \n",
       "\n",
       "   room_coor_y  screen_coor_x  screen_coor_y    fqid  \\\n",
       "0  -159.314686          380.0          494.0   intro   \n",
       "1  -159.314686          380.0          494.0  gramps   \n",
       "2  -159.314686          380.0          494.0  gramps   \n",
       "\n",
       "                        room_fqid  \\\n",
       "0  tunic.historicalsociety.closet   \n",
       "1  tunic.historicalsociety.closet   \n",
       "2  tunic.historicalsociety.closet   \n",
       "\n",
       "                                           text_fqid level_group  \n",
       "0               tunic.historicalsociety.closet.intro         0-4  \n",
       "1  tunic.historicalsociety.closet.gramps.intro_0_...         0-4  \n",
       "2  tunic.historicalsociety.closet.gramps.intro_0_...         0-4  "
      ]
     },
     "metadata": {},
     "output_type": "display_data"
    }
   ],
   "source": [
    "# prepare the main dataset\n",
    "df_source = prepare_main_dataset(df_source)\n",
    "\n",
    "with pd.option_context('display.max_columns', None):\n",
    "    print(df_source.shape)\n",
    "    display(df_source.head(3))  "
   ]
  },
  {
   "cell_type": "code",
   "execution_count": 20,
   "metadata": {},
   "outputs": [
    {
     "data": {
      "text/html": [
       "<div>\n",
       "<style scoped>\n",
       "    .dataframe tbody tr th:only-of-type {\n",
       "        vertical-align: middle;\n",
       "    }\n",
       "\n",
       "    .dataframe tbody tr th {\n",
       "        vertical-align: top;\n",
       "    }\n",
       "\n",
       "    .dataframe thead th {\n",
       "        text-align: right;\n",
       "    }\n",
       "</style>\n",
       "<table border=\"1\" class=\"dataframe\">\n",
       "  <thead>\n",
       "    <tr style=\"text-align: right;\">\n",
       "      <th></th>\n",
       "      <th>session_id</th>\n",
       "      <th>question_num</th>\n",
       "      <th>correct</th>\n",
       "      <th>level_group</th>\n",
       "    </tr>\n",
       "  </thead>\n",
       "  <tbody>\n",
       "    <tr>\n",
       "      <th>21476</th>\n",
       "      <td>22010116250792520</td>\n",
       "      <td>2</td>\n",
       "      <td>1</td>\n",
       "      <td>0-4</td>\n",
       "    </tr>\n",
       "    <tr>\n",
       "      <th>84068</th>\n",
       "      <td>21000111433937450</td>\n",
       "      <td>8</td>\n",
       "      <td>1</td>\n",
       "      <td>5-12</td>\n",
       "    </tr>\n",
       "    <tr>\n",
       "      <th>171219</th>\n",
       "      <td>21040510125933256</td>\n",
       "      <td>15</td>\n",
       "      <td>0</td>\n",
       "      <td>13-22</td>\n",
       "    </tr>\n",
       "  </tbody>\n",
       "</table>\n",
       "</div>"
      ],
      "text/plain": [
       "               session_id  question_num  correct level_group\n",
       "21476   22010116250792520             2        1         0-4\n",
       "84068   21000111433937450             8        1        5-12\n",
       "171219  21040510125933256            15        0       13-22"
      ]
     },
     "metadata": {},
     "output_type": "display_data"
    }
   ],
   "source": [
    "# prepare the label dataset\n",
    "df_source_labels = prepare_label_dataset(df_source_labels)\n",
    "\n",
    "with pd.option_context('display.max_columns', None):\n",
    "    display(df_source_labels.sample(n=3, random_state=51))"
   ]
  },
  {
   "cell_type": "code",
   "execution_count": 21,
   "metadata": {},
   "outputs": [
    {
     "data": {
      "text/plain": [
       "50"
      ]
     },
     "execution_count": 21,
     "metadata": {},
     "output_type": "execute_result"
    }
   ],
   "source": [
    "gc.collect()"
   ]
  },
  {
   "cell_type": "markdown",
   "metadata": {},
   "source": [
    "## Parameters"
   ]
  },
  {
   "cell_type": "code",
   "execution_count": 22,
   "metadata": {},
   "outputs": [],
   "source": [
    "epochs = 20\n",
    "\n",
    "loss = 'binary_crossentropy'\n",
    "metrics = ['accuracy']"
   ]
  },
  {
   "cell_type": "code",
   "execution_count": 23,
   "metadata": {},
   "outputs": [],
   "source": [
    "random_state = 51\n",
    "\n",
    "sample_size = 2000\n",
    "event_count = 200\n",
    "batch_size = 64"
   ]
  },
  {
   "cell_type": "markdown",
   "metadata": {},
   "source": [
    "## Data Selection"
   ]
  },
  {
   "cell_type": "code",
   "execution_count": 24,
   "metadata": {},
   "outputs": [
    {
     "name": "stdout",
     "output_type": "stream",
     "text": [
      "All Session IDs: 11779\n",
      "Sample Session IDs: 2000\n"
     ]
    }
   ],
   "source": [
    "# select all the unique session ids\n",
    "all_session_ids = df_source_labels['session_id'].unique()\n",
    "print('All Session IDs:', len(all_session_ids))\n",
    "\n",
    "# create a sample for testing\n",
    "session_ids = np.random.choice(all_session_ids, size=sample_size, replace=False)\n",
    "print('Sample Session IDs:', len(session_ids))"
   ]
  },
  {
   "cell_type": "code",
   "execution_count": 25,
   "metadata": {},
   "outputs": [
    {
     "name": "stdout",
     "output_type": "stream",
     "text": [
      "Train: 1400\n",
      "Validation: 300\n",
      "Test: 300\n"
     ]
    }
   ],
   "source": [
    "# split the dataset into train, validation and test sets\n",
    "train, test = train_test_split(session_ids, test_size=0.3)\n",
    "test, val = train_test_split(test, test_size=0.5)\n",
    "\n",
    "# print the number of sessions in each set\n",
    "print(f'Train: {len(train)}')\n",
    "print(f'Validation: {len(val)}')\n",
    "print(f'Test: {len(test)}')"
   ]
  },
  {
   "attachments": {},
   "cell_type": "markdown",
   "metadata": {},
   "source": [
    "## Create Datasets"
   ]
  },
  {
   "cell_type": "code",
   "execution_count": 26,
   "metadata": {},
   "outputs": [
    {
     "data": {
      "text/plain": [
       "45"
      ]
     },
     "execution_count": 26,
     "metadata": {},
     "output_type": "execute_result"
    }
   ],
   "source": [
    "# create the training dataset\n",
    "X_train, y_train = create_dataset(\n",
    "    X=df_source, y=df_source_labels, session_list=train, event_count=event_count)\n",
    "gc.collect()"
   ]
  },
  {
   "cell_type": "code",
   "execution_count": 27,
   "metadata": {},
   "outputs": [
    {
     "data": {
      "text/plain": [
       "90"
      ]
     },
     "execution_count": 27,
     "metadata": {},
     "output_type": "execute_result"
    }
   ],
   "source": [
    "# create the validation dataset\n",
    "X_val, y_val = create_dataset(\n",
    "    X=df_source, y=df_source_labels, session_list=val, event_count=event_count)\n",
    "gc.collect()"
   ]
  },
  {
   "cell_type": "code",
   "execution_count": 28,
   "metadata": {},
   "outputs": [
    {
     "data": {
      "text/plain": [
       "90"
      ]
     },
     "execution_count": 28,
     "metadata": {},
     "output_type": "execute_result"
    }
   ],
   "source": [
    "# create the test dataset\n",
    "X_test, y_test = create_dataset(\n",
    "    X=df_source, y=df_source_labels, session_list=test, event_count=event_count)\n",
    "gc.collect()"
   ]
  },
  {
   "cell_type": "markdown",
   "metadata": {},
   "source": [
    "## Model Training"
   ]
  },
  {
   "cell_type": "code",
   "execution_count": 29,
   "metadata": {},
   "outputs": [
    {
     "name": "stderr",
     "output_type": "stream",
     "text": [
      "2023-02-27 14:11:10.002511: I tensorflow/compiler/xla/stream_executor/cuda/cuda_gpu_executor.cc:981] successful NUMA node read from SysFS had negative value (-1), but there must be at least one NUMA node, so returning NUMA node zero\n",
      "2023-02-27 14:11:10.061330: I tensorflow/compiler/xla/stream_executor/cuda/cuda_gpu_executor.cc:981] successful NUMA node read from SysFS had negative value (-1), but there must be at least one NUMA node, so returning NUMA node zero\n",
      "2023-02-27 14:11:10.061497: I tensorflow/compiler/xla/stream_executor/cuda/cuda_gpu_executor.cc:981] successful NUMA node read from SysFS had negative value (-1), but there must be at least one NUMA node, so returning NUMA node zero\n",
      "2023-02-27 14:11:10.062248: I tensorflow/core/platform/cpu_feature_guard.cc:193] This TensorFlow binary is optimized with oneAPI Deep Neural Network Library (oneDNN) to use the following CPU instructions in performance-critical operations:  AVX2 FMA\n",
      "To enable them in other operations, rebuild TensorFlow with the appropriate compiler flags.\n",
      "2023-02-27 14:11:10.062830: I tensorflow/compiler/xla/stream_executor/cuda/cuda_gpu_executor.cc:981] successful NUMA node read from SysFS had negative value (-1), but there must be at least one NUMA node, so returning NUMA node zero\n",
      "2023-02-27 14:11:10.062941: I tensorflow/compiler/xla/stream_executor/cuda/cuda_gpu_executor.cc:981] successful NUMA node read from SysFS had negative value (-1), but there must be at least one NUMA node, so returning NUMA node zero\n",
      "2023-02-27 14:11:10.063037: I tensorflow/compiler/xla/stream_executor/cuda/cuda_gpu_executor.cc:981] successful NUMA node read from SysFS had negative value (-1), but there must be at least one NUMA node, so returning NUMA node zero\n",
      "2023-02-27 14:11:10.522489: I tensorflow/compiler/xla/stream_executor/cuda/cuda_gpu_executor.cc:981] successful NUMA node read from SysFS had negative value (-1), but there must be at least one NUMA node, so returning NUMA node zero\n",
      "2023-02-27 14:11:10.522840: I tensorflow/compiler/xla/stream_executor/cuda/cuda_gpu_executor.cc:981] successful NUMA node read from SysFS had negative value (-1), but there must be at least one NUMA node, so returning NUMA node zero\n",
      "2023-02-27 14:11:10.522947: I tensorflow/compiler/xla/stream_executor/cuda/cuda_gpu_executor.cc:981] successful NUMA node read from SysFS had negative value (-1), but there must be at least one NUMA node, so returning NUMA node zero\n",
      "2023-02-27 14:11:10.523189: I tensorflow/core/common_runtime/gpu/gpu_device.cc:1613] Created device /job:localhost/replica:0/task:0/device:GPU:0 with 9723 MB memory:  -> device: 0, name: NVIDIA GeForce RTX 3080 Ti, pci bus id: 0000:07:00.0, compute capability: 8.6\n"
     ]
    }
   ],
   "source": [
    "model = Sequential()\n",
    "model.add(layers.LSTM(32, input_shape=(event_count, len(vector_columns))))\n",
    "model.add(layers.Dropout(0.5))\n",
    "model.add(layers.Dense(1, activation='sigmoid'))"
   ]
  },
  {
   "cell_type": "code",
   "execution_count": 30,
   "metadata": {},
   "outputs": [
    {
     "name": "stdout",
     "output_type": "stream",
     "text": [
      "Epoch 1/20\n"
     ]
    },
    {
     "name": "stderr",
     "output_type": "stream",
     "text": [
      "2023-02-27 14:11:13.843716: I tensorflow/compiler/xla/stream_executor/cuda/cuda_dnn.cc:428] Loaded cuDNN version 8800\n"
     ]
    },
    {
     "name": "stdout",
     "output_type": "stream",
     "text": [
      " 10/394 [..............................] - ETA: 2s - loss: 0.6879 - accuracy: 0.5781   "
     ]
    },
    {
     "name": "stderr",
     "output_type": "stream",
     "text": [
      "2023-02-27 14:11:14.747962: I tensorflow/compiler/xla/stream_executor/cuda/cuda_blas.cc:630] TensorFloat-32 will be used for the matrix multiplication. This will only be logged once.\n"
     ]
    },
    {
     "name": "stdout",
     "output_type": "stream",
     "text": [
      "394/394 [==============================] - 6s 8ms/step - loss: 0.6192 - accuracy: 0.6848 - val_loss: 0.5694 - val_accuracy: 0.7106\n",
      "Epoch 2/20\n",
      "394/394 [==============================] - 2s 6ms/step - loss: 0.5531 - accuracy: 0.7221 - val_loss: 0.5346 - val_accuracy: 0.7302\n",
      "Epoch 3/20\n",
      "394/394 [==============================] - 3s 6ms/step - loss: 0.5325 - accuracy: 0.7341 - val_loss: 0.5246 - val_accuracy: 0.7343\n",
      "Epoch 4/20\n",
      "394/394 [==============================] - 3s 6ms/step - loss: 0.5258 - accuracy: 0.7371 - val_loss: 0.5218 - val_accuracy: 0.7380\n",
      "Epoch 5/20\n",
      "394/394 [==============================] - 3s 6ms/step - loss: 0.5224 - accuracy: 0.7400 - val_loss: 0.5207 - val_accuracy: 0.7383\n",
      "Epoch 6/20\n",
      "394/394 [==============================] - 2s 6ms/step - loss: 0.5217 - accuracy: 0.7412 - val_loss: 0.5203 - val_accuracy: 0.7389\n",
      "Epoch 7/20\n",
      "394/394 [==============================] - 3s 6ms/step - loss: 0.5216 - accuracy: 0.7401 - val_loss: 0.5201 - val_accuracy: 0.7387\n",
      "Epoch 8/20\n",
      "394/394 [==============================] - 3s 6ms/step - loss: 0.5191 - accuracy: 0.7421 - val_loss: 0.5196 - val_accuracy: 0.7415\n",
      "Epoch 9/20\n",
      "394/394 [==============================] - 2s 6ms/step - loss: 0.5183 - accuracy: 0.7432 - val_loss: 0.5194 - val_accuracy: 0.7406\n",
      "Epoch 10/20\n",
      "394/394 [==============================] - 2s 6ms/step - loss: 0.5172 - accuracy: 0.7434 - val_loss: 0.5195 - val_accuracy: 0.7419\n",
      "Epoch 11/20\n",
      "394/394 [==============================] - 2s 6ms/step - loss: 0.5186 - accuracy: 0.7440 - val_loss: 0.5192 - val_accuracy: 0.7409\n",
      "Epoch 12/20\n",
      "394/394 [==============================] - 3s 7ms/step - loss: 0.5168 - accuracy: 0.7443 - val_loss: 0.5190 - val_accuracy: 0.7419\n",
      "Epoch 13/20\n",
      "394/394 [==============================] - 2s 6ms/step - loss: 0.5182 - accuracy: 0.7436 - val_loss: 0.5188 - val_accuracy: 0.7409\n",
      "Epoch 14/20\n",
      "394/394 [==============================] - 3s 6ms/step - loss: 0.5164 - accuracy: 0.7429 - val_loss: 0.5194 - val_accuracy: 0.7420\n",
      "Epoch 15/20\n",
      "394/394 [==============================] - 3s 6ms/step - loss: 0.5154 - accuracy: 0.7462 - val_loss: 0.5195 - val_accuracy: 0.7426\n",
      "Epoch 16/20\n",
      "394/394 [==============================] - 3s 7ms/step - loss: 0.5157 - accuracy: 0.7425 - val_loss: 0.5188 - val_accuracy: 0.7422\n",
      "Epoch 17/20\n",
      "394/394 [==============================] - 3s 6ms/step - loss: 0.5160 - accuracy: 0.7443 - val_loss: 0.5186 - val_accuracy: 0.7430\n",
      "Epoch 18/20\n",
      "394/394 [==============================] - 3s 6ms/step - loss: 0.5155 - accuracy: 0.7473 - val_loss: 0.5192 - val_accuracy: 0.7437\n",
      "Epoch 19/20\n",
      "394/394 [==============================] - 3s 6ms/step - loss: 0.5143 - accuracy: 0.7469 - val_loss: 0.5191 - val_accuracy: 0.7456\n",
      "Epoch 20/20\n",
      "394/394 [==============================] - 3s 7ms/step - loss: 0.5141 - accuracy: 0.7462 - val_loss: 0.5189 - val_accuracy: 0.7431\n"
     ]
    },
    {
     "data": {
      "image/png": "[encoded data removed]",
      "text/plain": [
       "<Figure size 500x300 with 1 Axes>"
      ]
     },
     "metadata": {},
     "output_type": "display_data"
    },
    {
     "data": {
      "image/png": "[encoded data removed]",
      "text/plain": [
       "<Figure size 500x300 with 1 Axes>"
      ]
     },
     "metadata": {},
     "output_type": "display_data"
    },
    {
     "name": "stdout",
     "output_type": "stream",
     "text": [
      "169/169 [==============================] - 1s 2ms/step\n",
      "              precision    recall  f1-score   support\n",
      "\n",
      "           0       0.52      0.56      0.54      1530\n",
      "           1       0.82      0.79      0.81      3870\n",
      "\n",
      "    accuracy                           0.73      5400\n",
      "   macro avg       0.67      0.68      0.67      5400\n",
      "weighted avg       0.74      0.73      0.73      5400\n",
      "\n",
      "Optimized threshold for best F1: 0.65\n"
     ]
    },
    {
     "data": {
      "text/plain": [
       "0.65"
      ]
     },
     "execution_count": 30,
     "metadata": {},
     "output_type": "execute_result"
    }
   ],
   "source": [
    "global_train_model(\n",
    "    model=model,\n",
    "    epochs=epochs,\n",
    "    batch_size=batch_size,\n",
    "    optimizer=optimizers.RMSprop(learning_rate=0.0001),\n",
    "    loss=loss,\n",
    "    metrics=metrics)"
   ]
  },
  {
   "attachments": {},
   "cell_type": "markdown",
   "metadata": {},
   "source": [
    "### Increase model complexity (first layer units)"
   ]
  },
  {
   "cell_type": "markdown",
   "metadata": {},
   "source": [
    "#### 64 Units"
   ]
  },
  {
   "cell_type": "code",
   "execution_count": 31,
   "metadata": {},
   "outputs": [],
   "source": [
    "model = Sequential()\n",
    "model.add(layers.LSTM(64, input_shape=(event_count, len(vector_columns))))\n",
    "model.add(layers.Dropout(0.5))\n",
    "model.add(layers.Dense(1, activation='sigmoid'))"
   ]
  },
  {
   "cell_type": "code",
   "execution_count": 32,
   "metadata": {},
   "outputs": [
    {
     "name": "stdout",
     "output_type": "stream",
     "text": [
      "Epoch 1/20\n",
      "394/394 [==============================] - 4s 8ms/step - loss: 0.6060 - accuracy: 0.6872 - val_loss: 0.5405 - val_accuracy: 0.7356\n",
      "Epoch 2/20\n",
      "394/394 [==============================] - 3s 7ms/step - loss: 0.5316 - accuracy: 0.7345 - val_loss: 0.5267 - val_accuracy: 0.7411\n",
      "Epoch 3/20\n",
      "394/394 [==============================] - 3s 7ms/step - loss: 0.5215 - accuracy: 0.7397 - val_loss: 0.5196 - val_accuracy: 0.7417\n",
      "Epoch 4/20\n",
      "394/394 [==============================] - 3s 7ms/step - loss: 0.5195 - accuracy: 0.7417 - val_loss: 0.5193 - val_accuracy: 0.7406\n",
      "Epoch 5/20\n",
      "394/394 [==============================] - 3s 7ms/step - loss: 0.5183 - accuracy: 0.7415 - val_loss: 0.5185 - val_accuracy: 0.7422\n",
      "Epoch 6/20\n",
      "394/394 [==============================] - 3s 7ms/step - loss: 0.5154 - accuracy: 0.7440 - val_loss: 0.5178 - val_accuracy: 0.7433\n",
      "Epoch 7/20\n",
      "394/394 [==============================] - 3s 7ms/step - loss: 0.5144 - accuracy: 0.7450 - val_loss: 0.5179 - val_accuracy: 0.7430\n",
      "Epoch 8/20\n",
      "394/394 [==============================] - 3s 7ms/step - loss: 0.5161 - accuracy: 0.7447 - val_loss: 0.5193 - val_accuracy: 0.7446\n",
      "Epoch 9/20\n",
      "394/394 [==============================] - 3s 7ms/step - loss: 0.5137 - accuracy: 0.7452 - val_loss: 0.5171 - val_accuracy: 0.7454\n",
      "Epoch 10/20\n",
      "394/394 [==============================] - 3s 7ms/step - loss: 0.5144 - accuracy: 0.7458 - val_loss: 0.5169 - val_accuracy: 0.7456\n",
      "Epoch 11/20\n",
      "394/394 [==============================] - 3s 7ms/step - loss: 0.5142 - accuracy: 0.7437 - val_loss: 0.5178 - val_accuracy: 0.7430\n",
      "Epoch 12/20\n",
      "394/394 [==============================] - 3s 7ms/step - loss: 0.5130 - accuracy: 0.7451 - val_loss: 0.5166 - val_accuracy: 0.7465\n",
      "Epoch 13/20\n",
      "394/394 [==============================] - 3s 7ms/step - loss: 0.5114 - accuracy: 0.7459 - val_loss: 0.5165 - val_accuracy: 0.7481\n",
      "Epoch 14/20\n",
      "394/394 [==============================] - 3s 7ms/step - loss: 0.5114 - accuracy: 0.7468 - val_loss: 0.5174 - val_accuracy: 0.7422\n",
      "Epoch 15/20\n",
      "394/394 [==============================] - 3s 7ms/step - loss: 0.5116 - accuracy: 0.7484 - val_loss: 0.5159 - val_accuracy: 0.7467\n",
      "Epoch 16/20\n",
      "394/394 [==============================] - 3s 7ms/step - loss: 0.5120 - accuracy: 0.7476 - val_loss: 0.5162 - val_accuracy: 0.7478\n",
      "Epoch 17/20\n",
      "394/394 [==============================] - 3s 7ms/step - loss: 0.5105 - accuracy: 0.7484 - val_loss: 0.5186 - val_accuracy: 0.7463\n",
      "Epoch 18/20\n",
      "394/394 [==============================] - 3s 7ms/step - loss: 0.5115 - accuracy: 0.7464 - val_loss: 0.5166 - val_accuracy: 0.7459\n",
      "Epoch 19/20\n",
      "394/394 [==============================] - 3s 7ms/step - loss: 0.5107 - accuracy: 0.7487 - val_loss: 0.5164 - val_accuracy: 0.7491\n",
      "Epoch 20/20\n",
      "394/394 [==============================] - 3s 7ms/step - loss: 0.5097 - accuracy: 0.7490 - val_loss: 0.5160 - val_accuracy: 0.7489\n"
     ]
    },
    {
     "data": {
      "image/png": "[encoded data removed]",
      "text/plain": [
       "<Figure size 500x300 with 1 Axes>"
      ]
     },
     "metadata": {},
     "output_type": "display_data"
    },
    {
     "data": {
      "image/png": "[encoded data removed]",
      "text/plain": [
       "<Figure size 500x300 with 1 Axes>"
      ]
     },
     "metadata": {},
     "output_type": "display_data"
    },
    {
     "name": "stdout",
     "output_type": "stream",
     "text": [
      "169/169 [==============================] - 1s 3ms/step\n",
      "              precision    recall  f1-score   support\n",
      "\n",
      "           0       0.53      0.55      0.54      1530\n",
      "           1       0.82      0.80      0.81      3870\n",
      "\n",
      "    accuracy                           0.73      5400\n",
      "   macro avg       0.67      0.68      0.68      5400\n",
      "weighted avg       0.74      0.73      0.73      5400\n",
      "\n",
      "Optimized threshold for best F1: 0.63\n"
     ]
    },
    {
     "data": {
      "text/plain": [
       "0.63"
      ]
     },
     "execution_count": 32,
     "metadata": {},
     "output_type": "execute_result"
    }
   ],
   "source": [
    "global_train_model(\n",
    "    model=model,\n",
    "    epochs=epochs,\n",
    "    batch_size=batch_size,\n",
    "    optimizer=optimizers.RMSprop(learning_rate=0.0001),\n",
    "    loss=loss,\n",
    "    metrics=metrics)"
   ]
  },
  {
   "attachments": {},
   "cell_type": "markdown",
   "metadata": {},
   "source": [
    "### Try a diffeten optimizer"
   ]
  },
  {
   "cell_type": "code",
   "execution_count": 33,
   "metadata": {},
   "outputs": [],
   "source": [
    "model = Sequential()\n",
    "model.add(layers.LSTM(64, input_shape=(event_count, len(vector_columns))))\n",
    "model.add(layers.Dropout(0.5))\n",
    "model.add(layers.Dense(1, activation='sigmoid'))"
   ]
  },
  {
   "cell_type": "code",
   "execution_count": 34,
   "metadata": {},
   "outputs": [
    {
     "name": "stdout",
     "output_type": "stream",
     "text": [
      "Epoch 1/30\n",
      "394/394 [==============================] - 4s 8ms/step - loss: 0.5762 - accuracy: 0.7151 - val_loss: 0.5285 - val_accuracy: 0.7385\n",
      "Epoch 2/30\n",
      "394/394 [==============================] - 3s 7ms/step - loss: 0.5234 - accuracy: 0.7398 - val_loss: 0.5215 - val_accuracy: 0.7430\n",
      "Epoch 3/30\n",
      "394/394 [==============================] - 3s 7ms/step - loss: 0.5187 - accuracy: 0.7408 - val_loss: 0.5200 - val_accuracy: 0.7415\n",
      "Epoch 4/30\n",
      "394/394 [==============================] - 3s 7ms/step - loss: 0.5176 - accuracy: 0.7430 - val_loss: 0.5198 - val_accuracy: 0.7433\n",
      "Epoch 5/30\n",
      "394/394 [==============================] - 3s 7ms/step - loss: 0.5169 - accuracy: 0.7431 - val_loss: 0.5183 - val_accuracy: 0.7437\n",
      "Epoch 6/30\n",
      "394/394 [==============================] - 3s 7ms/step - loss: 0.5148 - accuracy: 0.7436 - val_loss: 0.5178 - val_accuracy: 0.7446\n",
      "Epoch 7/30\n",
      "394/394 [==============================] - 3s 7ms/step - loss: 0.5144 - accuracy: 0.7439 - val_loss: 0.5186 - val_accuracy: 0.7433\n",
      "Epoch 8/30\n",
      "394/394 [==============================] - 3s 7ms/step - loss: 0.5138 - accuracy: 0.7463 - val_loss: 0.5185 - val_accuracy: 0.7461\n",
      "Epoch 9/30\n",
      "394/394 [==============================] - 3s 7ms/step - loss: 0.5138 - accuracy: 0.7464 - val_loss: 0.5184 - val_accuracy: 0.7426\n",
      "Epoch 10/30\n",
      "394/394 [==============================] - 3s 7ms/step - loss: 0.5129 - accuracy: 0.7448 - val_loss: 0.5178 - val_accuracy: 0.7463\n",
      "Epoch 11/30\n",
      "394/394 [==============================] - 3s 7ms/step - loss: 0.5133 - accuracy: 0.7438 - val_loss: 0.5186 - val_accuracy: 0.7452\n",
      "Epoch 12/30\n",
      "394/394 [==============================] - 3s 7ms/step - loss: 0.5113 - accuracy: 0.7471 - val_loss: 0.5199 - val_accuracy: 0.7469\n",
      "Epoch 13/30\n",
      "394/394 [==============================] - 3s 7ms/step - loss: 0.5115 - accuracy: 0.7479 - val_loss: 0.5195 - val_accuracy: 0.7480\n",
      "Epoch 14/30\n",
      "394/394 [==============================] - 3s 7ms/step - loss: 0.5112 - accuracy: 0.7474 - val_loss: 0.5178 - val_accuracy: 0.7465\n",
      "Epoch 15/30\n",
      "394/394 [==============================] - 3s 7ms/step - loss: 0.5102 - accuracy: 0.7481 - val_loss: 0.5176 - val_accuracy: 0.7459\n",
      "Epoch 16/30\n",
      "394/394 [==============================] - 3s 7ms/step - loss: 0.5103 - accuracy: 0.7484 - val_loss: 0.5168 - val_accuracy: 0.7465\n",
      "Epoch 17/30\n",
      "394/394 [==============================] - 3s 7ms/step - loss: 0.5099 - accuracy: 0.7483 - val_loss: 0.5178 - val_accuracy: 0.7474\n",
      "Epoch 18/30\n",
      "394/394 [==============================] - 3s 7ms/step - loss: 0.5100 - accuracy: 0.7490 - val_loss: 0.5176 - val_accuracy: 0.7470\n",
      "Epoch 19/30\n",
      "394/394 [==============================] - 3s 7ms/step - loss: 0.5093 - accuracy: 0.7510 - val_loss: 0.5176 - val_accuracy: 0.7470\n",
      "Epoch 20/30\n",
      "394/394 [==============================] - 3s 7ms/step - loss: 0.5084 - accuracy: 0.7498 - val_loss: 0.5176 - val_accuracy: 0.7472\n",
      "Epoch 21/30\n",
      "394/394 [==============================] - 3s 7ms/step - loss: 0.5094 - accuracy: 0.7467 - val_loss: 0.5175 - val_accuracy: 0.7476\n",
      "Epoch 22/30\n",
      "394/394 [==============================] - 3s 7ms/step - loss: 0.5081 - accuracy: 0.7493 - val_loss: 0.5170 - val_accuracy: 0.7485\n",
      "Epoch 23/30\n",
      "394/394 [==============================] - 3s 7ms/step - loss: 0.5074 - accuracy: 0.7485 - val_loss: 0.5174 - val_accuracy: 0.7481\n",
      "Epoch 24/30\n",
      "394/394 [==============================] - 3s 7ms/step - loss: 0.5069 - accuracy: 0.7509 - val_loss: 0.5186 - val_accuracy: 0.7476\n",
      "Epoch 25/30\n",
      "394/394 [==============================] - 3s 7ms/step - loss: 0.5076 - accuracy: 0.7488 - val_loss: 0.5181 - val_accuracy: 0.7470\n",
      "Epoch 26/30\n",
      "394/394 [==============================] - 3s 7ms/step - loss: 0.5062 - accuracy: 0.7510 - val_loss: 0.5184 - val_accuracy: 0.7500\n",
      "Epoch 27/30\n",
      "394/394 [==============================] - 3s 7ms/step - loss: 0.5065 - accuracy: 0.7516 - val_loss: 0.5198 - val_accuracy: 0.7426\n",
      "Epoch 28/30\n",
      "394/394 [==============================] - 3s 7ms/step - loss: 0.5066 - accuracy: 0.7504 - val_loss: 0.5179 - val_accuracy: 0.7487\n",
      "Epoch 29/30\n",
      "394/394 [==============================] - 3s 7ms/step - loss: 0.5060 - accuracy: 0.7500 - val_loss: 0.5174 - val_accuracy: 0.7487\n",
      "Epoch 30/30\n",
      "394/394 [==============================] - 3s 7ms/step - loss: 0.5045 - accuracy: 0.7517 - val_loss: 0.5179 - val_accuracy: 0.7498\n"
     ]
    },
    {
     "data": {
      "image/png": "[encoded data removed]",
      "text/plain": [
       "<Figure size 500x300 with 1 Axes>"
      ]
     },
     "metadata": {},
     "output_type": "display_data"
    },
    {
     "data": {
      "image/png": "[encoded data removed]",
      "text/plain": [
       "<Figure size 500x300 with 1 Axes>"
      ]
     },
     "metadata": {},
     "output_type": "display_data"
    },
    {
     "name": "stdout",
     "output_type": "stream",
     "text": [
      "169/169 [==============================] - 1s 3ms/step\n",
      "              precision    recall  f1-score   support\n",
      "\n",
      "           0       0.49      0.63      0.55      1530\n",
      "           1       0.84      0.74      0.79      3870\n",
      "\n",
      "    accuracy                           0.71      5400\n",
      "   macro avg       0.66      0.69      0.67      5400\n",
      "weighted avg       0.74      0.71      0.72      5400\n",
      "\n",
      "Optimized threshold for best F1: 0.68\n"
     ]
    },
    {
     "data": {
      "text/plain": [
       "0.68"
      ]
     },
     "execution_count": 34,
     "metadata": {},
     "output_type": "execute_result"
    }
   ],
   "source": [
    "global_train_model(\n",
    "    model=model,\n",
    "    epochs=30,\n",
    "    batch_size=batch_size,\n",
    "    optimizer=optimizers.Adam(learning_rate=0.0001),\n",
    "    loss=loss,\n",
    "    metrics=metrics)"
   ]
  },
  {
   "attachments": {},
   "cell_type": "markdown",
   "metadata": {},
   "source": [
    "## Increase Data Size"
   ]
  },
  {
   "cell_type": "code",
   "execution_count": 24,
   "metadata": {},
   "outputs": [],
   "source": [
    "def select_sessions(\n",
    "        y: pd.DataFrame,\n",
    "        sample_size: int,\n",
    "        random_state: int=1337) -> Tuple[np.ndarray, np.ndarray, np.ndarray]:\n",
    "    \"\"\"\n",
    "    Selects a sample of sessions from the dataset.\n",
    "\n",
    "    Parameters\n",
    "    ----------\n",
    "    y : pd.DataFrame\n",
    "        The label dataset.\n",
    "    sample_size : int\n",
    "        The number of sessions to select.\n",
    "    random_state : int\n",
    "        The random state to use.\n",
    "\n",
    "    Returns\n",
    "    -------\n",
    "    Tuple[np.ndarray, np.ndarray, np.ndarray]\n",
    "        The selected session ids, the main dataset and the label dataset.\n",
    "    \"\"\"\n",
    "    # select all the unique session ids\n",
    "    all_session_ids = y['session_id'].unique()\n",
    "\n",
    "    # create a sample for testing\n",
    "    session_ids = np.random.choice(all_session_ids, size=sample_size, replace=False)\n",
    "\n",
    "    # split the dataset into train, validation and test sets\n",
    "    train, test = train_test_split(session_ids, test_size=0.3)\n",
    "    test, val = train_test_split(test, test_size=0.5)\n",
    "\n",
    "    # print the number of sessions in each set\n",
    "    print(f'Train: {len(train)}')\n",
    "    print(f'Validation: {len(val)}')\n",
    "    print(f'Test: {len(test)}')\n",
    "\n",
    "    return train, val, test"
   ]
  },
  {
   "cell_type": "code",
   "execution_count": 25,
   "metadata": {},
   "outputs": [
    {
     "name": "stdout",
     "output_type": "stream",
     "text": [
      "Train: 2800\n",
      "Validation: 600\n",
      "Test: 600\n"
     ]
    },
    {
     "data": {
      "text/plain": [
       "45"
      ]
     },
     "execution_count": 25,
     "metadata": {},
     "output_type": "execute_result"
    }
   ],
   "source": [
    "# select a sample of sessions\n",
    "train, val, test = select_sessions(y=df_source_labels, sample_size=4000, random_state=random_state)\n",
    "\n",
    "# create the training dataset\n",
    "X_train, y_train = create_dataset(\n",
    "    X=df_source, y=df_source_labels, session_list=train, event_count=event_count)\n",
    "gc.collect()\n",
    "\n",
    "# create the validation dataset\n",
    "X_val, y_val = create_dataset(\n",
    "    X=df_source, y=df_source_labels, session_list=val, event_count=event_count)\n",
    "gc.collect()\n",
    "\n",
    "# create the test dataset\n",
    "X_test, y_test = create_dataset(\n",
    "    X=df_source, y=df_source_labels, session_list=test, event_count=event_count)\n",
    "gc.collect()"
   ]
  },
  {
   "attachments": {},
   "cell_type": "markdown",
   "metadata": {},
   "source": [
    "### Retry Last Model"
   ]
  },
  {
   "cell_type": "code",
   "execution_count": 37,
   "metadata": {},
   "outputs": [],
   "source": [
    "model = Sequential()\n",
    "model.add(layers.LSTM(64, input_shape=(event_count, len(vector_columns))))\n",
    "model.add(layers.Dropout(0.5))\n",
    "model.add(layers.Dense(1, activation='sigmoid'))"
   ]
  },
  {
   "cell_type": "code",
   "execution_count": 38,
   "metadata": {},
   "outputs": [
    {
     "name": "stderr",
     "output_type": "stream",
     "text": [
      "2023-02-27 14:18:24.050648: W tensorflow/tsl/framework/cpu_allocator_impl.cc:82] Allocation of 2661120000 exceeds 10% of free system memory.\n",
      "2023-02-27 14:18:24.991501: W tensorflow/tsl/framework/cpu_allocator_impl.cc:82] Allocation of 2661120000 exceeds 10% of free system memory.\n"
     ]
    },
    {
     "name": "stdout",
     "output_type": "stream",
     "text": [
      "Epoch 1/30\n",
      "788/788 [==============================] - 7s 7ms/step - loss: 0.5595 - accuracy: 0.7155 - val_loss: 0.5134 - val_accuracy: 0.7442\n",
      "Epoch 2/30\n",
      "788/788 [==============================] - 5s 7ms/step - loss: 0.5238 - accuracy: 0.7411 - val_loss: 0.5124 - val_accuracy: 0.7446\n",
      "Epoch 3/30\n",
      "788/788 [==============================] - 5s 7ms/step - loss: 0.5207 - accuracy: 0.7430 - val_loss: 0.5125 - val_accuracy: 0.7428\n",
      "Epoch 4/30\n",
      "788/788 [==============================] - 5s 7ms/step - loss: 0.5190 - accuracy: 0.7424 - val_loss: 0.5110 - val_accuracy: 0.7451\n",
      "Epoch 5/30\n",
      "788/788 [==============================] - 5s 7ms/step - loss: 0.5186 - accuracy: 0.7441 - val_loss: 0.5116 - val_accuracy: 0.7440\n",
      "Epoch 6/30\n",
      "788/788 [==============================] - 5s 7ms/step - loss: 0.5176 - accuracy: 0.7443 - val_loss: 0.5105 - val_accuracy: 0.7448\n",
      "Epoch 7/30\n",
      "788/788 [==============================] - 5s 7ms/step - loss: 0.5172 - accuracy: 0.7441 - val_loss: 0.5133 - val_accuracy: 0.7426\n",
      "Epoch 8/30\n",
      "788/788 [==============================] - 5s 7ms/step - loss: 0.5173 - accuracy: 0.7439 - val_loss: 0.5119 - val_accuracy: 0.7441\n",
      "Epoch 9/30\n",
      "788/788 [==============================] - 5s 7ms/step - loss: 0.5163 - accuracy: 0.7442 - val_loss: 0.5108 - val_accuracy: 0.7459\n",
      "Epoch 10/30\n",
      "788/788 [==============================] - 5s 7ms/step - loss: 0.5154 - accuracy: 0.7455 - val_loss: 0.5106 - val_accuracy: 0.7454\n",
      "Epoch 11/30\n",
      "788/788 [==============================] - 5s 7ms/step - loss: 0.5159 - accuracy: 0.7452 - val_loss: 0.5107 - val_accuracy: 0.7452\n",
      "Epoch 12/30\n",
      "788/788 [==============================] - 5s 7ms/step - loss: 0.5145 - accuracy: 0.7461 - val_loss: 0.5107 - val_accuracy: 0.7465\n",
      "Epoch 13/30\n",
      "788/788 [==============================] - 5s 7ms/step - loss: 0.5146 - accuracy: 0.7464 - val_loss: 0.5100 - val_accuracy: 0.7447\n",
      "Epoch 14/30\n",
      "788/788 [==============================] - 5s 7ms/step - loss: 0.5139 - accuracy: 0.7461 - val_loss: 0.5104 - val_accuracy: 0.7460\n",
      "Epoch 15/30\n",
      "788/788 [==============================] - 5s 7ms/step - loss: 0.5134 - accuracy: 0.7458 - val_loss: 0.5097 - val_accuracy: 0.7468\n",
      "Epoch 16/30\n",
      "788/788 [==============================] - 6s 7ms/step - loss: 0.5143 - accuracy: 0.7460 - val_loss: 0.5117 - val_accuracy: 0.7433\n",
      "Epoch 17/30\n",
      "788/788 [==============================] - 5s 7ms/step - loss: 0.5143 - accuracy: 0.7468 - val_loss: 0.5101 - val_accuracy: 0.7450\n",
      "Epoch 18/30\n",
      "788/788 [==============================] - 5s 7ms/step - loss: 0.5135 - accuracy: 0.7474 - val_loss: 0.5102 - val_accuracy: 0.7455\n",
      "Epoch 19/30\n",
      "788/788 [==============================] - 5s 7ms/step - loss: 0.5134 - accuracy: 0.7467 - val_loss: 0.5104 - val_accuracy: 0.7439\n",
      "Epoch 20/30\n",
      "788/788 [==============================] - 5s 7ms/step - loss: 0.5122 - accuracy: 0.7473 - val_loss: 0.5099 - val_accuracy: 0.7446\n",
      "Epoch 21/30\n",
      "788/788 [==============================] - 5s 7ms/step - loss: 0.5129 - accuracy: 0.7464 - val_loss: 0.5107 - val_accuracy: 0.7451\n",
      "Epoch 22/30\n",
      "788/788 [==============================] - 5s 7ms/step - loss: 0.5125 - accuracy: 0.7472 - val_loss: 0.5094 - val_accuracy: 0.7460\n",
      "Epoch 23/30\n",
      "788/788 [==============================] - 5s 7ms/step - loss: 0.5117 - accuracy: 0.7472 - val_loss: 0.5099 - val_accuracy: 0.7473\n",
      "Epoch 24/30\n",
      "788/788 [==============================] - 5s 7ms/step - loss: 0.5120 - accuracy: 0.7476 - val_loss: 0.5119 - val_accuracy: 0.7444\n",
      "Epoch 25/30\n",
      "788/788 [==============================] - 5s 7ms/step - loss: 0.5117 - accuracy: 0.7476 - val_loss: 0.5103 - val_accuracy: 0.7455\n",
      "Epoch 26/30\n",
      "788/788 [==============================] - 5s 7ms/step - loss: 0.5116 - accuracy: 0.7482 - val_loss: 0.5093 - val_accuracy: 0.7471\n",
      "Epoch 27/30\n",
      "788/788 [==============================] - 5s 7ms/step - loss: 0.5115 - accuracy: 0.7481 - val_loss: 0.5098 - val_accuracy: 0.7455\n",
      "Epoch 28/30\n",
      "788/788 [==============================] - 5s 7ms/step - loss: 0.5112 - accuracy: 0.7466 - val_loss: 0.5091 - val_accuracy: 0.7461\n",
      "Epoch 29/30\n",
      "788/788 [==============================] - 5s 7ms/step - loss: 0.5103 - accuracy: 0.7475 - val_loss: 0.5099 - val_accuracy: 0.7461\n",
      "Epoch 30/30\n",
      "788/788 [==============================] - 5s 7ms/step - loss: 0.5107 - accuracy: 0.7488 - val_loss: 0.5115 - val_accuracy: 0.7436\n"
     ]
    },
    {
     "data": {
      "image/png": "[encoded data removed]",
      "text/plain": [
       "<Figure size 500x300 with 1 Axes>"
      ]
     },
     "metadata": {},
     "output_type": "display_data"
    },
    {
     "data": {
      "image/png": "[encoded data removed]",
      "text/plain": [
       "<Figure size 500x300 with 1 Axes>"
      ]
     },
     "metadata": {},
     "output_type": "display_data"
    },
    {
     "name": "stdout",
     "output_type": "stream",
     "text": [
      "338/338 [==============================] - 1s 2ms/step\n",
      "              precision    recall  f1-score   support\n",
      "\n",
      "           0       0.52      0.58      0.55      3125\n",
      "           1       0.82      0.78      0.80      7675\n",
      "\n",
      "    accuracy                           0.72     10800\n",
      "   macro avg       0.67      0.68      0.67     10800\n",
      "weighted avg       0.73      0.72      0.73     10800\n",
      "\n",
      "Optimized threshold for best F1: 0.62\n"
     ]
    },
    {
     "data": {
      "text/plain": [
       "0.62"
      ]
     },
     "execution_count": 38,
     "metadata": {},
     "output_type": "execute_result"
    }
   ],
   "source": [
    "global_train_model(\n",
    "    model=model,\n",
    "    epochs=30,\n",
    "    batch_size=batch_size,\n",
    "    optimizer=optimizers.Adam(learning_rate=0.0001),\n",
    "    loss=loss,\n",
    "    metrics=metrics)"
   ]
  },
  {
   "cell_type": "markdown",
   "metadata": {},
   "source": [
    "### Try Class Weights"
   ]
  },
  {
   "cell_type": "code",
   "execution_count": 39,
   "metadata": {},
   "outputs": [],
   "source": [
    "model = Sequential()\n",
    "model.add(layers.LSTM(64, input_shape=(event_count, len(vector_columns))))\n",
    "model.add(layers.Dropout(0.5))\n",
    "model.add(layers.Dense(1, activation='sigmoid'))"
   ]
  },
  {
   "cell_type": "code",
   "execution_count": 40,
   "metadata": {},
   "outputs": [
    {
     "name": "stderr",
     "output_type": "stream",
     "text": [
      "2023-02-27 14:21:11.778954: W tensorflow/tsl/framework/cpu_allocator_impl.cc:82] Allocation of 2661120000 exceeds 10% of free system memory.\n",
      "2023-02-27 14:21:12.720554: W tensorflow/tsl/framework/cpu_allocator_impl.cc:82] Allocation of 2661120000 exceeds 10% of free system memory.\n"
     ]
    },
    {
     "name": "stdout",
     "output_type": "stream",
     "text": [
      "Epoch 1/30\n",
      "788/788 [==============================] - 7s 8ms/step - loss: 0.7042 - accuracy: 0.6915 - val_loss: 0.5326 - val_accuracy: 0.7290\n",
      "Epoch 2/30\n",
      "788/788 [==============================] - 6s 7ms/step - loss: 0.6558 - accuracy: 0.7228 - val_loss: 0.5284 - val_accuracy: 0.7300\n",
      "Epoch 3/30\n",
      "788/788 [==============================] - 6s 7ms/step - loss: 0.6518 - accuracy: 0.7252 - val_loss: 0.5304 - val_accuracy: 0.7320\n",
      "Epoch 4/30\n",
      "788/788 [==============================] - 6s 7ms/step - loss: 0.6502 - accuracy: 0.7255 - val_loss: 0.5277 - val_accuracy: 0.7319\n",
      "Epoch 5/30\n",
      "788/788 [==============================] - 6s 7ms/step - loss: 0.6497 - accuracy: 0.7278 - val_loss: 0.5221 - val_accuracy: 0.7374\n",
      "Epoch 6/30\n",
      "788/788 [==============================] - 6s 7ms/step - loss: 0.6485 - accuracy: 0.7283 - val_loss: 0.5287 - val_accuracy: 0.7312\n",
      "Epoch 7/30\n",
      "788/788 [==============================] - 5s 7ms/step - loss: 0.6469 - accuracy: 0.7297 - val_loss: 0.5255 - val_accuracy: 0.7356\n",
      "Epoch 8/30\n",
      "788/788 [==============================] - 5s 7ms/step - loss: 0.6461 - accuracy: 0.7294 - val_loss: 0.5283 - val_accuracy: 0.7328\n",
      "Epoch 9/30\n",
      "788/788 [==============================] - 5s 7ms/step - loss: 0.6465 - accuracy: 0.7307 - val_loss: 0.5250 - val_accuracy: 0.7318\n",
      "Epoch 10/30\n",
      "788/788 [==============================] - 6s 7ms/step - loss: 0.6451 - accuracy: 0.7313 - val_loss: 0.5279 - val_accuracy: 0.7302\n",
      "Epoch 11/30\n",
      "788/788 [==============================] - 6s 7ms/step - loss: 0.6439 - accuracy: 0.7316 - val_loss: 0.5222 - val_accuracy: 0.7361\n",
      "Epoch 12/30\n",
      "788/788 [==============================] - 6s 7ms/step - loss: 0.6440 - accuracy: 0.7321 - val_loss: 0.5282 - val_accuracy: 0.7303\n",
      "Epoch 13/30\n",
      "788/788 [==============================] - 6s 7ms/step - loss: 0.6442 - accuracy: 0.7321 - val_loss: 0.5240 - val_accuracy: 0.7345\n",
      "Epoch 14/30\n",
      "788/788 [==============================] - 6s 7ms/step - loss: 0.6434 - accuracy: 0.7334 - val_loss: 0.5292 - val_accuracy: 0.7310\n",
      "Epoch 15/30\n",
      "788/788 [==============================] - 6s 7ms/step - loss: 0.6430 - accuracy: 0.7325 - val_loss: 0.5261 - val_accuracy: 0.7337\n",
      "Epoch 16/30\n",
      "788/788 [==============================] - 6s 7ms/step - loss: 0.6432 - accuracy: 0.7330 - val_loss: 0.5291 - val_accuracy: 0.7312\n",
      "Epoch 17/30\n",
      "788/788 [==============================] - 6s 7ms/step - loss: 0.6433 - accuracy: 0.7349 - val_loss: 0.5260 - val_accuracy: 0.7332\n",
      "Epoch 18/30\n",
      "788/788 [==============================] - 6s 7ms/step - loss: 0.6422 - accuracy: 0.7340 - val_loss: 0.5342 - val_accuracy: 0.7285\n",
      "Epoch 19/30\n",
      "788/788 [==============================] - 6s 7ms/step - loss: 0.6418 - accuracy: 0.7323 - val_loss: 0.5280 - val_accuracy: 0.7342\n",
      "Epoch 20/30\n",
      "788/788 [==============================] - 6s 7ms/step - loss: 0.6409 - accuracy: 0.7342 - val_loss: 0.5289 - val_accuracy: 0.7318\n",
      "Epoch 21/30\n",
      "788/788 [==============================] - 6s 7ms/step - loss: 0.6420 - accuracy: 0.7336 - val_loss: 0.5299 - val_accuracy: 0.7293\n",
      "Epoch 22/30\n",
      "788/788 [==============================] - 5s 7ms/step - loss: 0.6411 - accuracy: 0.7351 - val_loss: 0.5231 - val_accuracy: 0.7355\n",
      "Epoch 23/30\n",
      "788/788 [==============================] - 6s 7ms/step - loss: 0.6401 - accuracy: 0.7340 - val_loss: 0.5254 - val_accuracy: 0.7345\n",
      "Epoch 24/30\n",
      "788/788 [==============================] - 6s 7ms/step - loss: 0.6401 - accuracy: 0.7349 - val_loss: 0.5262 - val_accuracy: 0.7344\n",
      "Epoch 25/30\n",
      "788/788 [==============================] - 6s 7ms/step - loss: 0.6402 - accuracy: 0.7355 - val_loss: 0.5242 - val_accuracy: 0.7359\n",
      "Epoch 26/30\n",
      "788/788 [==============================] - 6s 7ms/step - loss: 0.6393 - accuracy: 0.7351 - val_loss: 0.5268 - val_accuracy: 0.7312\n",
      "Epoch 27/30\n",
      "788/788 [==============================] - 6s 7ms/step - loss: 0.6395 - accuracy: 0.7347 - val_loss: 0.5213 - val_accuracy: 0.7381\n",
      "Epoch 28/30\n",
      "788/788 [==============================] - 6s 7ms/step - loss: 0.6391 - accuracy: 0.7354 - val_loss: 0.5240 - val_accuracy: 0.7346\n",
      "Epoch 29/30\n",
      "788/788 [==============================] - 6s 7ms/step - loss: 0.6395 - accuracy: 0.7354 - val_loss: 0.5321 - val_accuracy: 0.7284\n",
      "Epoch 30/30\n",
      "788/788 [==============================] - 6s 7ms/step - loss: 0.6381 - accuracy: 0.7350 - val_loss: 0.5313 - val_accuracy: 0.7326\n"
     ]
    },
    {
     "data": {
      "image/png": "[encoded data removed]",
      "text/plain": [
       "<Figure size 500x300 with 1 Axes>"
      ]
     },
     "metadata": {},
     "output_type": "display_data"
    },
    {
     "data": {
      "image/png": "[encoded data removed]",
      "text/plain": [
       "<Figure size 500x300 with 1 Axes>"
      ]
     },
     "metadata": {},
     "output_type": "display_data"
    },
    {
     "name": "stdout",
     "output_type": "stream",
     "text": [
      "338/338 [==============================] - 1s 3ms/step\n",
      "              precision    recall  f1-score   support\n",
      "\n",
      "           0       0.53      0.54      0.54      3125\n",
      "           1       0.81      0.80      0.81      7675\n",
      "\n",
      "    accuracy                           0.73     10800\n",
      "   macro avg       0.67      0.67      0.67     10800\n",
      "weighted avg       0.73      0.73      0.73     10800\n",
      "\n",
      "Optimized threshold for best F1: 0.53\n"
     ]
    },
    {
     "data": {
      "text/plain": [
       "0.53"
      ]
     },
     "execution_count": 40,
     "metadata": {},
     "output_type": "execute_result"
    }
   ],
   "source": [
    "class_weight = {0: 1.5, 1: 1.0}\n",
    "\n",
    "global_train_model(\n",
    "    model=model,\n",
    "    epochs=30,\n",
    "    batch_size=batch_size,\n",
    "    optimizer=optimizers.Adam(learning_rate=0.0001),\n",
    "    loss=loss,\n",
    "    metrics=metrics,\n",
    "    class_weight=class_weight)"
   ]
  },
  {
   "attachments": {},
   "cell_type": "markdown",
   "metadata": {},
   "source": [
    "## Train for F1\n",
    "\n",
    "reference: https://stackoverflow.com/questions/45411902/how-to-use-f1-score-with-keras-model"
   ]
  },
  {
   "cell_type": "code",
   "execution_count": 30,
   "metadata": {},
   "outputs": [],
   "source": [
    "model = Sequential()\n",
    "model.add(layers.LSTM(64, input_shape=(event_count, len(vector_columns))))\n",
    "model.add(layers.Dropout(0.5))\n",
    "model.add(layers.Dense(1, activation='sigmoid'))"
   ]
  },
  {
   "cell_type": "code",
   "execution_count": 31,
   "metadata": {},
   "outputs": [
    {
     "name": "stderr",
     "output_type": "stream",
     "text": [
      "2023-02-27 17:01:58.442913: W tensorflow/tsl/framework/cpu_allocator_impl.cc:82] Allocation of 2661120000 exceeds 10% of free system memory.\n"
     ]
    },
    {
     "name": "stdout",
     "output_type": "stream",
     "text": [
      "Epoch 1/30\n",
      "788/788 [==============================] - 7s 8ms/step - loss: 0.5701 - f1_score: 0.7039 - val_loss: 0.5183 - val_f1_score: 0.7637\n",
      "Epoch 2/30\n",
      "788/788 [==============================] - 6s 7ms/step - loss: 0.5219 - f1_score: 0.7819 - val_loss: 0.5119 - val_f1_score: 0.7998\n",
      "Epoch 3/30\n",
      "788/788 [==============================] - 6s 7ms/step - loss: 0.5200 - f1_score: 0.7885 - val_loss: 0.5104 - val_f1_score: 0.7943\n",
      "Epoch 4/30\n",
      "788/788 [==============================] - 6s 7ms/step - loss: 0.5192 - f1_score: 0.7866 - val_loss: 0.5101 - val_f1_score: 0.7974\n",
      "Epoch 5/30\n",
      "788/788 [==============================] - 6s 7ms/step - loss: 0.5176 - f1_score: 0.7903 - val_loss: 0.5109 - val_f1_score: 0.7894\n",
      "Epoch 6/30\n",
      "788/788 [==============================] - 6s 7ms/step - loss: 0.5169 - f1_score: 0.7906 - val_loss: 0.5099 - val_f1_score: 0.7887\n",
      "Epoch 7/30\n",
      "788/788 [==============================] - 6s 7ms/step - loss: 0.5157 - f1_score: 0.7912 - val_loss: 0.5097 - val_f1_score: 0.8040\n",
      "Epoch 8/30\n",
      "788/788 [==============================] - 6s 7ms/step - loss: 0.5156 - f1_score: 0.7910 - val_loss: 0.5093 - val_f1_score: 0.7962\n",
      "Epoch 9/30\n",
      "788/788 [==============================] - 6s 7ms/step - loss: 0.5153 - f1_score: 0.7906 - val_loss: 0.5101 - val_f1_score: 0.8043\n",
      "Epoch 10/30\n",
      "788/788 [==============================] - 6s 7ms/step - loss: 0.5146 - f1_score: 0.7923 - val_loss: 0.5092 - val_f1_score: 0.7990\n",
      "Epoch 11/30\n",
      "788/788 [==============================] - 6s 7ms/step - loss: 0.5144 - f1_score: 0.7907 - val_loss: 0.5101 - val_f1_score: 0.7869\n",
      "Epoch 12/30\n",
      "788/788 [==============================] - 6s 7ms/step - loss: 0.5133 - f1_score: 0.7940 - val_loss: 0.5100 - val_f1_score: 0.8058\n",
      "Epoch 13/30\n",
      "788/788 [==============================] - 6s 7ms/step - loss: 0.5130 - f1_score: 0.7920 - val_loss: 0.5101 - val_f1_score: 0.8051\n",
      "Epoch 14/30\n",
      "788/788 [==============================] - 6s 7ms/step - loss: 0.5137 - f1_score: 0.7924 - val_loss: 0.5095 - val_f1_score: 0.8021\n",
      "Epoch 15/30\n",
      "788/788 [==============================] - 6s 7ms/step - loss: 0.5123 - f1_score: 0.7934 - val_loss: 0.5093 - val_f1_score: 0.7893\n",
      "Epoch 16/30\n",
      "788/788 [==============================] - 6s 7ms/step - loss: 0.5126 - f1_score: 0.7934 - val_loss: 0.5100 - val_f1_score: 0.7895\n",
      "Epoch 17/30\n",
      "788/788 [==============================] - 6s 7ms/step - loss: 0.5118 - f1_score: 0.7912 - val_loss: 0.5095 - val_f1_score: 0.8015\n",
      "Epoch 18/30\n",
      "788/788 [==============================] - 6s 7ms/step - loss: 0.5117 - f1_score: 0.7935 - val_loss: 0.5106 - val_f1_score: 0.8069\n",
      "Epoch 19/30\n",
      "788/788 [==============================] - 6s 7ms/step - loss: 0.5106 - f1_score: 0.7942 - val_loss: 0.5102 - val_f1_score: 0.8042\n",
      "Epoch 20/30\n",
      "788/788 [==============================] - 6s 7ms/step - loss: 0.5117 - f1_score: 0.7947 - val_loss: 0.5100 - val_f1_score: 0.8039\n",
      "Epoch 21/30\n",
      "788/788 [==============================] - 6s 7ms/step - loss: 0.5101 - f1_score: 0.7941 - val_loss: 0.5099 - val_f1_score: 0.7883\n",
      "Epoch 22/30\n",
      "788/788 [==============================] - 6s 7ms/step - loss: 0.5104 - f1_score: 0.7937 - val_loss: 0.5096 - val_f1_score: 0.8024\n",
      "Epoch 23/30\n",
      "788/788 [==============================] - 6s 7ms/step - loss: 0.5100 - f1_score: 0.7978 - val_loss: 0.5105 - val_f1_score: 0.7958\n",
      "Epoch 24/30\n",
      "788/788 [==============================] - 6s 7ms/step - loss: 0.5097 - f1_score: 0.7956 - val_loss: 0.5097 - val_f1_score: 0.7891\n",
      "Epoch 25/30\n",
      "788/788 [==============================] - 6s 7ms/step - loss: 0.5096 - f1_score: 0.7943 - val_loss: 0.5106 - val_f1_score: 0.7882\n",
      "Epoch 26/30\n",
      "788/788 [==============================] - 6s 7ms/step - loss: 0.5091 - f1_score: 0.7940 - val_loss: 0.5116 - val_f1_score: 0.7745\n",
      "Epoch 27/30\n",
      "788/788 [==============================] - 6s 7ms/step - loss: 0.5095 - f1_score: 0.7945 - val_loss: 0.5100 - val_f1_score: 0.7938\n",
      "Epoch 28/30\n",
      "788/788 [==============================] - 6s 7ms/step - loss: 0.5085 - f1_score: 0.7953 - val_loss: 0.5112 - val_f1_score: 0.7883\n",
      "Epoch 29/30\n",
      "788/788 [==============================] - 6s 7ms/step - loss: 0.5081 - f1_score: 0.7957 - val_loss: 0.5119 - val_f1_score: 0.8126\n",
      "Epoch 30/30\n",
      "788/788 [==============================] - 6s 7ms/step - loss: 0.5079 - f1_score: 0.7982 - val_loss: 0.5120 - val_f1_score: 0.7746\n"
     ]
    }
   ],
   "source": [
    "history = train_model(\n",
    "    model=model,\n",
    "    X_train=X_train,\n",
    "    y_train=y_train,\n",
    "    X_val=X_val,\n",
    "    y_val=y_val,\n",
    "    epochs=30,\n",
    "    batch_size=batch_size,\n",
    "    optimizer=optimizers.Adam(learning_rate=0.0001),\n",
    "    loss=loss,\n",
    "    metrics=[tfa.metrics.F1Score(num_classes=1, average='macro', threshold=0.64)])"
   ]
  },
  {
   "cell_type": "code",
   "execution_count": 32,
   "metadata": {},
   "outputs": [
    {
     "name": "stdout",
     "output_type": "stream",
     "text": [
      "338/338 [==============================] - 1s 3ms/step\n",
      "              precision    recall  f1-score   support\n",
      "\n",
      "           0       0.55      0.53      0.54      3229\n",
      "           1       0.80      0.81      0.81      7571\n",
      "\n",
      "    accuracy                           0.73     10800\n",
      "   macro avg       0.68      0.67      0.67     10800\n",
      "weighted avg       0.73      0.73      0.73     10800\n",
      "\n",
      "Optimized threshold for best F1: 0.59\n"
     ]
    }
   ],
   "source": [
    "y_test_score = model.predict(X_test)\n",
    "threshold, _, _ = optimize_f1(y_test, y_test_score)\n",
    "\n",
    "print(classification_report(y_test, y_test_score > threshold))\n",
    "print(f'Optimized threshold for best F1: {threshold:.2f}')"
   ]
  },
  {
   "attachments": {},
   "cell_type": "markdown",
   "metadata": {},
   "source": [
    "## Different Archirecture"
   ]
  },
  {
   "cell_type": "code",
   "execution_count": 38,
   "metadata": {},
   "outputs": [],
   "source": [
    "# https://github.com/curiousily/Deep-Learning-For-Hackers/blob/master/14.time-series-anomaly-detection.ipynb\n",
    "model = Sequential()\n",
    "model.add(layers.LSTM(\n",
    "    units=64, \n",
    "    input_shape=(event_count, len(vector_columns))\n",
    "))\n",
    "model.add(layers.Dropout(rate=0.2))\n",
    "model.add(layers.RepeatVector(n=event_count))\n",
    "model.add(layers.LSTM(units=64, return_sequences=True))\n",
    "model.add(layers.Dropout(rate=0.2))\n",
    "#model.add(layers.TimeDistributed(layers.Dense(units=len(vector_columns))))\n",
    "model.add(layers.Dense(1, activation='sigmoid'))"
   ]
  }
 ],
 "metadata": {
  "kernelspec": {
   "display_name": "Python 3",
   "language": "python",
   "name": "python3"
  },
  "language_info": {
   "codemirror_mode": {
    "name": "ipython",
    "version": 3
   },
   "file_extension": ".py",
   "mimetype": "text/x-python",
   "name": "python",
   "nbconvert_exporter": "python",
   "pygments_lexer": "ipython3",
   "version": "3.10.10"
  },
  "orig_nbformat": 4,
  "vscode": {
   "interpreter": {
    "hash": "949777d72b0d2535278d3dc13498b2535136f6dfe0678499012e853ee9abcab1"
   }
  }
 },
 "nbformat": 4,
 "nbformat_minor": 2
}
