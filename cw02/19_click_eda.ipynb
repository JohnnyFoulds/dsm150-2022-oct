{
 "cells": [
  {
   "attachments": {},
   "cell_type": "markdown",
   "metadata": {},
   "source": [
    "# 19. Click EDA\n",
    "\n",
    "Specifically look at notebook clicks and see if the answer the user selected is not in there. This would be a massive data leak but it will solve the competition.\n",
    "\n",
    "## Web References\n",
    "\n",
    "- https://www.kaggle.com/competitions/predict-student-performance-from-game-play/discussion/388094\n",
    "- https://www.kaggle.com/code/cdeotte/game-room-click-eda"
   ]
  },
  {
   "cell_type": "code",
   "execution_count": 3,
   "metadata": {},
   "outputs": [
    {
     "name": "stderr",
     "output_type": "stream",
     "text": [
      "2023-03-07 18:42:07.818692: I tensorflow/core/platform/cpu_feature_guard.cc:193] This TensorFlow binary is optimized with oneAPI Deep Neural Network Library (oneDNN) to use the following CPU instructions in performance-critical operations:  AVX2 FMA\n",
      "To enable them in other operations, rebuild TensorFlow with the appropriate compiler flags.\n"
     ]
    }
   ],
   "source": [
    "import os\n",
    "import sys\n",
    "import gc\n",
    "import math\n",
    "import logging\n",
    "from typing import Tuple\n",
    "\n",
    "import pandas as pd\n",
    "import numpy as np\n",
    "from tqdm.auto import tqdm\n",
    "\n",
    "import multiprocessing\n",
    "from functools import partial\n",
    "\n",
    "from sklearn.model_selection import train_test_split\n",
    "from sklearn.metrics import classification_report, precision_recall_fscore_support\n",
    "\n",
    "import tensorflow as tf\n",
    "from tensorflow.keras import Model, Input\n",
    "from tensorflow.keras.optimizers import RMSprop\n",
    "from tensorflow.keras import layers\n",
    "\n",
    "import keras\n",
    "from keras import optimizers\n",
    "from keras.models import Sequential\n",
    "from keras.layers import Conv2D, MaxPooling2D, Dense, Flatten, Dropout, concatenate\n",
    "from keras import callbacks\n",
    "\n",
    "\n",
    "import matplotlib.pyplot as plt"
   ]
  },
  {
   "cell_type": "code",
   "execution_count": 4,
   "metadata": {},
   "outputs": [],
   "source": [
    "logging.getLogger('matplotlib.font_manager').setLevel(logging.ERROR)"
   ]
  },
  {
   "cell_type": "code",
   "execution_count": 5,
   "metadata": {},
   "outputs": [
    {
     "name": "stdout",
     "output_type": "stream",
     "text": [
      "[PhysicalDevice(name='/physical_device:GPU:0', device_type='GPU')]\n"
     ]
    },
    {
     "name": "stderr",
     "output_type": "stream",
     "text": [
      "2023-03-07 18:42:08.978175: I tensorflow/compiler/xla/stream_executor/cuda/cuda_gpu_executor.cc:981] successful NUMA node read from SysFS had negative value (-1), but there must be at least one NUMA node, so returning NUMA node zero\n",
      "2023-03-07 18:42:08.980028: I tensorflow/compiler/xla/stream_executor/cuda/cuda_gpu_executor.cc:981] successful NUMA node read from SysFS had negative value (-1), but there must be at least one NUMA node, so returning NUMA node zero\n",
      "2023-03-07 18:42:08.980160: I tensorflow/compiler/xla/stream_executor/cuda/cuda_gpu_executor.cc:981] successful NUMA node read from SysFS had negative value (-1), but there must be at least one NUMA node, so returning NUMA node zero\n"
     ]
    }
   ],
   "source": [
    "# Set the GPU memory from growth\n",
    "gpus = tf.config.experimental.list_physical_devices('GPU')\n",
    "print(gpus)\n",
    "for gpu in gpus:\n",
    "    tf.config.experimental.set_memory_growth(gpu, True)"
   ]
  },
  {
   "cell_type": "markdown",
   "metadata": {},
   "source": [
    "## Configure Logging"
   ]
  },
  {
   "cell_type": "code",
   "execution_count": 6,
   "metadata": {},
   "outputs": [
    {
     "name": "stdout",
     "output_type": "stream",
     "text": [
      "2023-03-07 18:42:09 INFO     Started\n"
     ]
    }
   ],
   "source": [
    "logging.basicConfig(\n",
    "    format='%(asctime)s %(levelname)-8s %(message)s',\n",
    "    level=logging.INFO,\n",
    "    datefmt='%Y-%m-%d %H:%M:%S',\n",
    "        handlers=[\n",
    "        logging.FileHandler(\"ex05_06.log\"),\n",
    "        logging.StreamHandler(sys.stdout)\n",
    "    ])\n",
    "\n",
    "logging.info(\"Started\")"
   ]
  },
  {
   "cell_type": "markdown",
   "metadata": {},
   "source": [
    "## Load Source Data"
   ]
  },
  {
   "cell_type": "code",
   "execution_count": 7,
   "metadata": {},
   "outputs": [
    {
     "name": "stdout",
     "output_type": "stream",
     "text": [
      "(13174211, 19)\n"
     ]
    },
    {
     "data": {
      "text/html": [
       "<div>\n",
       "<style scoped>\n",
       "    .dataframe tbody tr th:only-of-type {\n",
       "        vertical-align: middle;\n",
       "    }\n",
       "\n",
       "    .dataframe tbody tr th {\n",
       "        vertical-align: top;\n",
       "    }\n",
       "\n",
       "    .dataframe thead th {\n",
       "        text-align: right;\n",
       "    }\n",
       "</style>\n",
       "<table border=\"1\" class=\"dataframe\">\n",
       "  <thead>\n",
       "    <tr style=\"text-align: right;\">\n",
       "      <th></th>\n",
       "      <th>session_id</th>\n",
       "      <th>elapsed_time</th>\n",
       "      <th>event_name</th>\n",
       "      <th>name</th>\n",
       "      <th>level</th>\n",
       "      <th>page</th>\n",
       "      <th>room_coor_x</th>\n",
       "      <th>room_coor_y</th>\n",
       "      <th>screen_coor_x</th>\n",
       "      <th>screen_coor_y</th>\n",
       "      <th>hover_duration</th>\n",
       "      <th>text</th>\n",
       "      <th>fqid</th>\n",
       "      <th>room_fqid</th>\n",
       "      <th>text_fqid</th>\n",
       "      <th>fullscreen</th>\n",
       "      <th>hq</th>\n",
       "      <th>music</th>\n",
       "      <th>level_group</th>\n",
       "    </tr>\n",
       "    <tr>\n",
       "      <th>index</th>\n",
       "      <th></th>\n",
       "      <th></th>\n",
       "      <th></th>\n",
       "      <th></th>\n",
       "      <th></th>\n",
       "      <th></th>\n",
       "      <th></th>\n",
       "      <th></th>\n",
       "      <th></th>\n",
       "      <th></th>\n",
       "      <th></th>\n",
       "      <th></th>\n",
       "      <th></th>\n",
       "      <th></th>\n",
       "      <th></th>\n",
       "      <th></th>\n",
       "      <th></th>\n",
       "      <th></th>\n",
       "      <th></th>\n",
       "    </tr>\n",
       "  </thead>\n",
       "  <tbody>\n",
       "    <tr>\n",
       "      <th>0</th>\n",
       "      <td>20090312431273200</td>\n",
       "      <td>0</td>\n",
       "      <td>cutscene_click</td>\n",
       "      <td>basic</td>\n",
       "      <td>0</td>\n",
       "      <td>NaN</td>\n",
       "      <td>-413.991405</td>\n",
       "      <td>-159.314686</td>\n",
       "      <td>380.0</td>\n",
       "      <td>494.0</td>\n",
       "      <td>NaN</td>\n",
       "      <td>undefined</td>\n",
       "      <td>intro</td>\n",
       "      <td>tunic.historicalsociety.closet</td>\n",
       "      <td>tunic.historicalsociety.closet.intro</td>\n",
       "      <td>NaN</td>\n",
       "      <td>NaN</td>\n",
       "      <td>NaN</td>\n",
       "      <td>0-4</td>\n",
       "    </tr>\n",
       "    <tr>\n",
       "      <th>1</th>\n",
       "      <td>20090312431273200</td>\n",
       "      <td>1323</td>\n",
       "      <td>person_click</td>\n",
       "      <td>basic</td>\n",
       "      <td>0</td>\n",
       "      <td>NaN</td>\n",
       "      <td>-413.991405</td>\n",
       "      <td>-159.314686</td>\n",
       "      <td>380.0</td>\n",
       "      <td>494.0</td>\n",
       "      <td>NaN</td>\n",
       "      <td>Whatcha doing over there, Jo?</td>\n",
       "      <td>gramps</td>\n",
       "      <td>tunic.historicalsociety.closet</td>\n",
       "      <td>tunic.historicalsociety.closet.gramps.intro_0_...</td>\n",
       "      <td>NaN</td>\n",
       "      <td>NaN</td>\n",
       "      <td>NaN</td>\n",
       "      <td>0-4</td>\n",
       "    </tr>\n",
       "    <tr>\n",
       "      <th>2</th>\n",
       "      <td>20090312431273200</td>\n",
       "      <td>831</td>\n",
       "      <td>person_click</td>\n",
       "      <td>basic</td>\n",
       "      <td>0</td>\n",
       "      <td>NaN</td>\n",
       "      <td>-413.991405</td>\n",
       "      <td>-159.314686</td>\n",
       "      <td>380.0</td>\n",
       "      <td>494.0</td>\n",
       "      <td>NaN</td>\n",
       "      <td>Just talking to Teddy.</td>\n",
       "      <td>gramps</td>\n",
       "      <td>tunic.historicalsociety.closet</td>\n",
       "      <td>tunic.historicalsociety.closet.gramps.intro_0_...</td>\n",
       "      <td>NaN</td>\n",
       "      <td>NaN</td>\n",
       "      <td>NaN</td>\n",
       "      <td>0-4</td>\n",
       "    </tr>\n",
       "  </tbody>\n",
       "</table>\n",
       "</div>"
      ],
      "text/plain": [
       "              session_id  elapsed_time      event_name   name  level  page  \\\n",
       "index                                                                        \n",
       "0      20090312431273200             0  cutscene_click  basic      0   NaN   \n",
       "1      20090312431273200          1323    person_click  basic      0   NaN   \n",
       "2      20090312431273200           831    person_click  basic      0   NaN   \n",
       "\n",
       "       room_coor_x  room_coor_y  screen_coor_x  screen_coor_y  hover_duration  \\\n",
       "index                                                                           \n",
       "0      -413.991405  -159.314686          380.0          494.0             NaN   \n",
       "1      -413.991405  -159.314686          380.0          494.0             NaN   \n",
       "2      -413.991405  -159.314686          380.0          494.0             NaN   \n",
       "\n",
       "                                text    fqid                       room_fqid  \\\n",
       "index                                                                          \n",
       "0                          undefined   intro  tunic.historicalsociety.closet   \n",
       "1      Whatcha doing over there, Jo?  gramps  tunic.historicalsociety.closet   \n",
       "2             Just talking to Teddy.  gramps  tunic.historicalsociety.closet   \n",
       "\n",
       "                                               text_fqid  fullscreen  hq  \\\n",
       "index                                                                      \n",
       "0                   tunic.historicalsociety.closet.intro         NaN NaN   \n",
       "1      tunic.historicalsociety.closet.gramps.intro_0_...         NaN NaN   \n",
       "2      tunic.historicalsociety.closet.gramps.intro_0_...         NaN NaN   \n",
       "\n",
       "       music level_group  \n",
       "index                     \n",
       "0        NaN         0-4  \n",
       "1        NaN         0-4  \n",
       "2        NaN         0-4  "
      ]
     },
     "metadata": {},
     "output_type": "display_data"
    }
   ],
   "source": [
    "# load the source training set\n",
    "df_source = pd.read_csv('data/train.csv.gz', compression='gzip', index_col=1)\n",
    "\n",
    "print(df_source.shape)\n",
    "with pd.option_context('display.max_columns', None):\n",
    "    display(df_source.head(3))"
   ]
  },
  {
   "cell_type": "code",
   "execution_count": 8,
   "metadata": {},
   "outputs": [
    {
     "name": "stdout",
     "output_type": "stream",
     "text": [
      "(212022, 2)\n"
     ]
    },
    {
     "data": {
      "text/html": [
       "<div>\n",
       "<style scoped>\n",
       "    .dataframe tbody tr th:only-of-type {\n",
       "        vertical-align: middle;\n",
       "    }\n",
       "\n",
       "    .dataframe tbody tr th {\n",
       "        vertical-align: top;\n",
       "    }\n",
       "\n",
       "    .dataframe thead th {\n",
       "        text-align: right;\n",
       "    }\n",
       "</style>\n",
       "<table border=\"1\" class=\"dataframe\">\n",
       "  <thead>\n",
       "    <tr style=\"text-align: right;\">\n",
       "      <th></th>\n",
       "      <th>session_id</th>\n",
       "      <th>correct</th>\n",
       "    </tr>\n",
       "  </thead>\n",
       "  <tbody>\n",
       "    <tr>\n",
       "      <th>0</th>\n",
       "      <td>20090312431273200_q1</td>\n",
       "      <td>1</td>\n",
       "    </tr>\n",
       "    <tr>\n",
       "      <th>1</th>\n",
       "      <td>20090312433251036_q1</td>\n",
       "      <td>0</td>\n",
       "    </tr>\n",
       "    <tr>\n",
       "      <th>2</th>\n",
       "      <td>20090314121766812_q1</td>\n",
       "      <td>1</td>\n",
       "    </tr>\n",
       "  </tbody>\n",
       "</table>\n",
       "</div>"
      ],
      "text/plain": [
       "             session_id  correct\n",
       "0  20090312431273200_q1        1\n",
       "1  20090312433251036_q1        0\n",
       "2  20090314121766812_q1        1"
      ]
     },
     "metadata": {},
     "output_type": "display_data"
    }
   ],
   "source": [
    "# load the source training labels\n",
    "df_source_labels = pd.read_csv('data/train_labels.csv')\n",
    "\n",
    "print(df_source_labels.shape)\n",
    "with pd.option_context('display.max_columns', None):\n",
    "    display(df_source_labels.head(3))"
   ]
  },
  {
   "cell_type": "markdown",
   "metadata": {},
   "source": [
    "## Functions"
   ]
  },
  {
   "cell_type": "markdown",
   "metadata": {},
   "source": [
    "### Functions to prepare the data"
   ]
  },
  {
   "cell_type": "code",
   "execution_count": 9,
   "metadata": {},
   "outputs": [],
   "source": [
    "def map_question_to_level_group(question_number):\n",
    "    \"\"\"\n",
    "    Maps the question number to the level group.\n",
    "\n",
    "    Parameters\n",
    "    ----------\n",
    "    question_number : int\n",
    "        The question number.\n",
    "\n",
    "    Returns\n",
    "    -------\n",
    "    str\n",
    "        The level group.\n",
    "    \"\"\"\n",
    "    if question_number in [1, 2, 3]:\n",
    "        return '0-4'\n",
    "    elif question_number in [4, 5, 6, 7, 8, 9, 10, 11, 12, 13]:\n",
    "        return '5-12'\n",
    "    elif question_number in [14, 15, 16, 17, 18]:\n",
    "        return '13-22'\n",
    "    else:\n",
    "        return None\n",
    "\n",
    "def prepare_label_dataset(data : pd.DataFrame) -> pd.DataFrame:\n",
    "    \"\"\"\n",
    "    Prepares the label dataset and add columns for the level group \n",
    "    and the question number.\n",
    "\n",
    "    Parameters\n",
    "    ----------\n",
    "    data : pd.DataFrame\n",
    "        The label dataset.\n",
    "\n",
    "    Returns\n",
    "    -------\n",
    "    pd.DataFrame\n",
    "        The prepared label dataset.\n",
    "    \"\"\"\n",
    "    # add the columns to determine the level group\n",
    "    df_labels = data \\\n",
    "        .rename(columns={'session_id': 'id'}) \\\n",
    "        .assign(session_id=lambda df: df['id'].str.split('_').str[0].astype(int)) \\\n",
    "        .assign(question_id=lambda df: df['id'].str.split('_').str[1]) \\\n",
    "        .assign(question_num=lambda df: df['question_id'].str[1:].astype(int)) \\\n",
    "        [['session_id', 'question_num', 'correct']]\n",
    "    \n",
    "    # add the level group column\n",
    "    df_labels['level_group'] = df_labels['question_num'].apply(map_question_to_level_group) \n",
    "        \n",
    "    return df_labels"
   ]
  },
  {
   "cell_type": "code",
   "execution_count": 10,
   "metadata": {},
   "outputs": [],
   "source": [
    "def prepare_main_dataset(data : pd.DataFrame) -> pd.DataFrame:\n",
    "    \"\"\"\n",
    "    Prepares the main dataset by removing duplicates and removing \n",
    "    columns that are not needed.\n",
    "\n",
    "    Parameters\n",
    "    ----------\n",
    "    data : pd.DataFrame\n",
    "        The main dataset.\n",
    "\n",
    "    Returns\n",
    "    -------\n",
    "    pd.DataFrame\n",
    "        The prepared main dataset.\n",
    "    \"\"\"\n",
    "    empty_columns = ['fullscreen', 'hq', 'music', 'page', 'hover_duration']\n",
    "\n",
    "    df_main = data \\\n",
    "        .drop_duplicates() \\\n",
    "        .reset_index(drop=True) \\\n",
    "        .drop(empty_columns, axis=1) \\\n",
    "        .drop('text', axis=1)\n",
    "\n",
    "    return df_main"
   ]
  },
  {
   "cell_type": "code",
   "execution_count": 11,
   "metadata": {},
   "outputs": [],
   "source": [
    "def select_sessions(\n",
    "        y: pd.DataFrame,\n",
    "        sample_size: int,\n",
    "        random_state: int=1337) -> Tuple[np.ndarray, np.ndarray, np.ndarray]:\n",
    "    \"\"\"\n",
    "    Selects a sample of sessions from the dataset.\n",
    "\n",
    "    Parameters\n",
    "    ----------\n",
    "    y : pd.DataFrame\n",
    "        The label dataset.\n",
    "    sample_size : int\n",
    "        The number of sessions to select.\n",
    "    random_state : int\n",
    "        The random state to use.\n",
    "\n",
    "    Returns\n",
    "    -------\n",
    "    Tuple[np.ndarray, np.ndarray, np.ndarray]\n",
    "        The selected session ids, the main dataset and the label dataset.\n",
    "    \"\"\"\n",
    "    # select all the unique session ids\n",
    "    all_session_ids = y['session_id'].unique()\n",
    "\n",
    "    # create a sample for testing\n",
    "    session_ids = np.random.choice(all_session_ids, size=sample_size, replace=False)\n",
    "\n",
    "    # split the dataset into train, validation and test sets\n",
    "    train, test = train_test_split(session_ids, test_size=0.3)\n",
    "    test, val = train_test_split(test, test_size=0.5)\n",
    "\n",
    "    # print the number of sessions in each set\n",
    "    print(f'Train: {len(train)}')\n",
    "    print(f'Validation: {len(val)}')\n",
    "    print(f'Test: {len(test)}')\n",
    "\n",
    "    return train, val, test"
   ]
  },
  {
   "cell_type": "markdown",
   "metadata": {},
   "source": [
    "### Functions for Model Training"
   ]
  },
  {
   "cell_type": "code",
   "execution_count": 12,
   "metadata": {},
   "outputs": [],
   "source": [
    "def plot_loss(history: callbacks.History, figsize: Tuple[int, int] = (5, 3)) -> None:\n",
    "    \"\"\"\n",
    "    Plot the loss and validation loss.\n",
    "\n",
    "    Parameters\n",
    "    ----------\n",
    "    history : keras.callbacks.History\n",
    "        The history of the model training.\n",
    "    \"\"\"\n",
    "    epochs = range(1, len(history.history['accuracy']) + 1)\n",
    "\n",
    "    # summarize history for loss\n",
    "    plt.figure(figsize=figsize)\n",
    "    plt.plot(epochs, history.history['loss'])\n",
    "    \n",
    "    if ('val_loss' in history.history):\n",
    "        plt.plot(epochs, history.history['val_loss'])\n",
    "        plt.legend(['Training loss', 'Validation loss'], loc='upper left')\n",
    "        plt.title('Training and validation loss')\n",
    "    else:\n",
    "        plt.title('Training loss')\n",
    "\n",
    "    plt.xlabel('Epochs')\n",
    "    plt.ylabel('Loss')\n",
    "\n",
    "    plt.show()"
   ]
  },
  {
   "cell_type": "code",
   "execution_count": 13,
   "metadata": {},
   "outputs": [],
   "source": [
    "def plot_accuracy(history: callbacks.History, figsize: Tuple[int, int] = (5, 3)) -> None:\n",
    "    \"\"\"\n",
    "    Plot the accuracy and validation accuracy.\n",
    "\n",
    "    Parameters\n",
    "    ----------\n",
    "    history : keras.callbacks.History\n",
    "        The history of the model training.\n",
    "    \"\"\"\n",
    "    epochs = range(1, len(history.history['accuracy']) + 1)\n",
    "\n",
    "    # summarize history for accuracy\n",
    "    plt.figure(figsize=figsize)\n",
    "    plt.plot(epochs, history.history['accuracy'])\n",
    "\n",
    "    if ('val_accuracy' in history.history):\n",
    "        plt.plot(epochs, history.history['val_accuracy'])\n",
    "        plt.legend(['Training acc', 'Validation acc'], loc='upper left')\n",
    "        plt.title('Training and validation accuracy')\n",
    "    else:\n",
    "        plt.title('Training accuracy')\n",
    "\n",
    "    plt.xlabel('Epochs')\n",
    "    plt.ylabel('Accuracy')\n",
    "\n",
    "    plt.show()"
   ]
  },
  {
   "cell_type": "code",
   "execution_count": 14,
   "metadata": {},
   "outputs": [],
   "source": [
    "def test_model(\n",
    "        model,\n",
    "        history: callbacks.History,\n",
    "        X_test: np.ndarray,\n",
    "        y_test: np.ndarray) -> float:\n",
    "    \"\"\"\n",
    "    Test the model based on the test data.\n",
    "\n",
    "    Parameters\n",
    "    ----------\n",
    "    model : keras.models\n",
    "        The model to test.\n",
    "    history : keras.callbacks.History\n",
    "        The history of the training.\n",
    "    X_test : np.ndarray\n",
    "        The test data.\n",
    "    y_test : np.ndarray\n",
    "        The test labels.\n",
    "\n",
    "    Returns\n",
    "    -------\n",
    "    float\n",
    "        The optimized threshold for the best F1 score.\n",
    "    \"\"\"\n",
    "    \n",
    "    plot_loss(history)\n",
    "    plot_accuracy(history)\n",
    "\n",
    "    y_test_score = model.predict(X_test)\n",
    "    threshold, _, _ = optimize_f1(y_test, y_test_score)\n",
    "\n",
    "    print(classification_report(y_test, y_test_score > threshold))\n",
    "    print(f'Optimized threshold for best F1: {threshold:.2f}')\n",
    "\n",
    "    gc.collect()\n",
    "\n",
    "    return threshold"
   ]
  },
  {
   "cell_type": "code",
   "execution_count": 15,
   "metadata": {},
   "outputs": [],
   "source": [
    "def optimize_f1(y_true: np.ndarray, y_score: np.ndarray) -> Tuple[float, float, float]:\n",
    "    \"\"\"\n",
    "    Optimize the F1 score.\n",
    "\n",
    "    Parameters\n",
    "    ----------\n",
    "    y_true : np.ndarray\n",
    "        The true labels.\n",
    "    y_score : np.ndarray\n",
    "        The predicted labels.\n",
    "\n",
    "    Returns\n",
    "    -------\n",
    "    Tuple[float, float, float]\n",
    "        The optimized threshold, precision, and recall.\n",
    "    \"\"\"\n",
    "    best_f1 = 0\n",
    "    best_threshold = 0\n",
    "    best_precision = 0\n",
    "    best_recall = 0\n",
    "\n",
    "    for threshold in np.arange(0, 1, 0.01):\n",
    "        y_pred = (y_score > threshold).astype(int)\n",
    "        precision, recall, f1, _ = precision_recall_fscore_support(y_true, y_pred, average='macro', zero_division=1)\n",
    "\n",
    "        if f1 > best_f1:\n",
    "            best_f1 = f1\n",
    "            best_threshold = threshold\n",
    "            best_precision = precision\n",
    "            best_recall = recall\n",
    "\n",
    "    return best_threshold, best_precision, best_recall"
   ]
  },
  {
   "cell_type": "code",
   "execution_count": 16,
   "metadata": {},
   "outputs": [],
   "source": [
    "def train_model(\n",
    "        model,\n",
    "        X_train: np.ndarray,\n",
    "        y_train: np.ndarray,\n",
    "        X_val : np.ndarray,\n",
    "        y_val: np.ndarray,\n",
    "        epochs: int,\n",
    "        batch_size: int,\n",
    "        optimizer,\n",
    "        loss: str,\n",
    "        metrics: list,\n",
    "        class_weight: dict=None) -> callbacks.History:\n",
    "    \"\"\"\n",
    "    Train the keras model based on the parameters.\n",
    "\n",
    "    Parameters\n",
    "    ----------\n",
    "    model : keras.models\n",
    "        The model to train.\n",
    "    X_train : np.ndarray\n",
    "        The training data.\n",
    "    y_train : np.ndarray\n",
    "        The training labels.\n",
    "    X_val : np.ndarray\n",
    "        The validation data.\n",
    "    y_val : np.ndarray\n",
    "        The validation labels.\n",
    "    epochs : int\n",
    "        The number of epochs.\n",
    "    batch_size : int\n",
    "        The batch size.\n",
    "    optimizer : keras.optimizers\n",
    "        The optimizer.\n",
    "    loss : str\n",
    "        The loss function.\n",
    "    metrics : list\n",
    "        The metrics.\n",
    "    class_weight : dict, optional\n",
    "        The class weights, by default None\n",
    "    \n",
    "    Returns\n",
    "    -------\n",
    "    keras.callbacks.History\n",
    "        The history of the training.\n",
    "    \"\"\"\n",
    "    # compile the model\n",
    "    model.compile(\n",
    "        optimizer=optimizer,\n",
    "        loss=loss,\n",
    "        metrics=metrics)\n",
    "    \n",
    "    # fit the model\n",
    "    history = model.fit(\n",
    "        x=X_train,\n",
    "        y=y_train,\n",
    "        epochs=epochs,\n",
    "        batch_size=batch_size,\n",
    "        validation_data=(X_val, y_val),\n",
    "        class_weight=class_weight)\n",
    "    \n",
    "    return history"
   ]
  },
  {
   "cell_type": "code",
   "execution_count": 17,
   "metadata": {},
   "outputs": [],
   "source": [
    "def test_model(\n",
    "        model,\n",
    "        history: callbacks.History,\n",
    "        X_test: np.ndarray,\n",
    "        y_test: np.ndarray) -> float:\n",
    "    \"\"\"\n",
    "    Test the model based on the test data.\n",
    "\n",
    "    Parameters\n",
    "    ----------\n",
    "    model : keras.models\n",
    "        The model to test.\n",
    "    history : keras.callbacks.History\n",
    "        The history of the training.\n",
    "    X_test : np.ndarray\n",
    "        The test data.\n",
    "    y_test : np.ndarray\n",
    "        The test labels.\n",
    "\n",
    "    Returns\n",
    "    -------\n",
    "    float\n",
    "        The optimized threshold for the best F1 score.\n",
    "    \"\"\"\n",
    "    \n",
    "    plot_loss(history)\n",
    "    plot_accuracy(history)\n",
    "\n",
    "    y_test_score = model.predict(X_test)\n",
    "    #print(y_test_score[1], y_test[1])\n",
    "    threshold, _, _ = optimize_f1(y_test, y_test_score)\n",
    "    \n",
    "    threshold = 0.5\n",
    "    y_test_pred = (y_test_score > threshold).astype(float)\n",
    "    print(y_test[1])\n",
    "    print(y_test_pred[1])\n",
    "\n",
    "    print(classification_report(y_test, y_test_score > threshold))\n",
    "    #print(classification_report(y_test, y_test_score))\n",
    "    print(f'Optimized threshold for best F1: {threshold:.2f}')\n",
    "\n",
    "    gc.collect()\n",
    "\n",
    "    return threshold"
   ]
  },
  {
   "cell_type": "code",
   "execution_count": 18,
   "metadata": {},
   "outputs": [],
   "source": [
    "def train_and_test_model(\n",
    "        model,\n",
    "        X_train: np.ndarray,\n",
    "        y_train: np.ndarray,\n",
    "        X_val : np.ndarray,\n",
    "        y_val: np.ndarray,\n",
    "        X_test: np.ndarray,\n",
    "        y_test: np.ndarray,\n",
    "        epochs: int,\n",
    "        batch_size: int,\n",
    "        optimizer,\n",
    "        loss: str,\n",
    "        metrics: list,\n",
    "        class_weight: dict=None) -> float:\n",
    "    \"\"\"\n",
    "    Train and test the model.\n",
    "\n",
    "    Parameters\n",
    "    ----------\n",
    "    model : keras.models\n",
    "        The model to train and test.\n",
    "    X_train : np.ndarray\n",
    "        The training data.\n",
    "    y_train : np.ndarray\n",
    "        The training labels.\n",
    "    X_val : np.ndarray\n",
    "        The validation data.\n",
    "    y_val : np.ndarray\n",
    "        The validation labels.\n",
    "    X_test : np.ndarray\n",
    "        The test data.\n",
    "    y_test : np.ndarray\n",
    "        The test labels.\n",
    "    epochs : int\n",
    "        The number of epochs.\n",
    "    batch_size : int\n",
    "        The batch size.\n",
    "    optimizer : keras.optimizers\n",
    "        The optimizer.\n",
    "    loss : str\n",
    "        The loss function.\n",
    "    metrics : list\n",
    "        The metrics.\n",
    "    class_weight : dict, optional\n",
    "        The class weights, by default None\n",
    "\n",
    "    Returns\n",
    "    -------\n",
    "    float\n",
    "        The optimized threshold for the best F1 score.\n",
    "    \"\"\"\n",
    "    history = train_model(\n",
    "        model=model,\n",
    "        X_train=X_train,\n",
    "        y_train=y_train,\n",
    "        X_val=X_val,\n",
    "        y_val=y_val,\n",
    "        epochs=epochs,\n",
    "        batch_size=batch_size,\n",
    "        optimizer=optimizer,\n",
    "        loss=loss,\n",
    "        metrics=metrics,\n",
    "        class_weight=class_weight)\n",
    "    \n",
    "    gc.collect()\n",
    "\n",
    "    return test_model(model, history, X_test, y_test)"
   ]
  },
  {
   "attachments": {},
   "cell_type": "markdown",
   "metadata": {},
   "source": [
    "## Value Ranges"
   ]
  },
  {
   "cell_type": "markdown",
   "metadata": {},
   "source": [
    "event_name - the name of the event type"
   ]
  },
  {
   "cell_type": "code",
   "execution_count": 19,
   "metadata": {},
   "outputs": [
    {
     "data": {
      "text/plain": [
       "navigate_click        5687896\n",
       "person_click          3024847\n",
       "cutscene_click        1351732\n",
       "object_click          1099670\n",
       "object_hover           529116\n",
       "map_hover              471621\n",
       "notification_click     324106\n",
       "notebook_click         284746\n",
       "map_click              258714\n",
       "observation_click      106260\n",
       "checkpoint              35503\n",
       "Name: event_name, dtype: int64"
      ]
     },
     "execution_count": 19,
     "metadata": {},
     "output_type": "execute_result"
    }
   ],
   "source": [
    "df_source.event_name.value_counts()"
   ]
  },
  {
   "cell_type": "markdown",
   "metadata": {},
   "source": [
    "name - the event name (e.g. identifies whether a notebook_click is is opening or closing the notebook)"
   ]
  },
  {
   "cell_type": "code",
   "execution_count": 20,
   "metadata": {},
   "outputs": [
    {
     "data": {
      "text/plain": [
       "undefined    6377305\n",
       "basic        6324016\n",
       "close         339093\n",
       "open          118125\n",
       "prev            9834\n",
       "next            5838\n",
       "Name: name, dtype: int64"
      ]
     },
     "execution_count": 20,
     "metadata": {},
     "output_type": "execute_result"
    }
   ],
   "source": [
    "df_source.name.value_counts()"
   ]
  },
  {
   "cell_type": "markdown",
   "metadata": {},
   "source": [
    "fqid - the fully qualified ID of the event"
   ]
  },
  {
   "cell_type": "code",
   "execution_count": 21,
   "metadata": {},
   "outputs": [
    {
     "data": {
      "text/plain": [
       "worker           939555\n",
       "archivist        563259\n",
       "gramps           561000\n",
       "wells            394234\n",
       "toentry          392221\n",
       "                  ...  \n",
       "block_badge         854\n",
       "need_glasses        675\n",
       "block_badge_2       508\n",
       "fox                 166\n",
       "block_1              25\n",
       "Name: fqid, Length: 127, dtype: int64"
      ]
     },
     "execution_count": 21,
     "metadata": {},
     "output_type": "execute_result"
    }
   ],
   "source": [
    "df_source.fqid.value_counts()"
   ]
  },
  {
   "cell_type": "markdown",
   "metadata": {},
   "source": [
    "room_fqid - the fully qualified ID of the room the event took place in"
   ]
  },
  {
   "cell_type": "code",
   "execution_count": 22,
   "metadata": {},
   "outputs": [
    {
     "data": {
      "text/plain": [
       "tunic.historicalsociety.entry              1816202\n",
       "tunic.wildlife.center                      1510888\n",
       "tunic.historicalsociety.cage               1178391\n",
       "tunic.library.frontdesk                    1075322\n",
       "tunic.historicalsociety.frontdesk           972235\n",
       "tunic.historicalsociety.stacks              900673\n",
       "tunic.historicalsociety.closet_dirty        788096\n",
       "tunic.humanecology.frontdesk                662645\n",
       "tunic.historicalsociety.basement            585058\n",
       "tunic.kohlcenter.halloffame                 547779\n",
       "tunic.library.microfiche                    497924\n",
       "tunic.drycleaner.frontdesk                  492050\n",
       "tunic.historicalsociety.collection          478700\n",
       "tunic.historicalsociety.closet              429854\n",
       "tunic.flaghouse.entry                       416942\n",
       "tunic.historicalsociety.collection_flag     227017\n",
       "tunic.capitol_1.hall                        223793\n",
       "tunic.capitol_0.hall                        208670\n",
       "tunic.capitol_2.hall                        161972\n",
       "Name: room_fqid, dtype: int64"
      ]
     },
     "execution_count": 22,
     "metadata": {},
     "output_type": "execute_result"
    }
   ],
   "source": [
    "df_source.room_fqid.value_counts()"
   ]
  },
  {
   "cell_type": "markdown",
   "metadata": {},
   "source": [
    "text_fqid - the fully qualified ID of the"
   ]
  },
  {
   "cell_type": "code",
   "execution_count": 23,
   "metadata": {},
   "outputs": [
    {
     "data": {
      "text/plain": [
       "tunic.historicalsociety.cage.confrontation               333363\n",
       "tunic.wildlife.center.crane_ranger.crane                 235368\n",
       "tunic.historicalsociety.frontdesk.archivist.newspaper    214637\n",
       "tunic.historicalsociety.entry.groupconvo                 213592\n",
       "tunic.wildlife.center.wells.nodeer                       199978\n",
       "                                                          ...  \n",
       "tunic.wildlife.center.fox.concern                           111\n",
       "tunic.drycleaner.frontdesk.block_0                          106\n",
       "tunic.historicalsociety.entry.gramps.hub                     21\n",
       "tunic.humanecology.frontdesk.block_1                          8\n",
       "tunic.drycleaner.frontdesk.block_1                            3\n",
       "Name: text_fqid, Length: 126, dtype: int64"
      ]
     },
     "execution_count": 23,
     "metadata": {},
     "output_type": "execute_result"
    }
   ],
   "source": [
    "df_source.text_fqid.value_counts()"
   ]
  },
  {
   "attachments": {},
   "cell_type": "markdown",
   "metadata": {},
   "source": [
    "## Checkpoint Events"
   ]
  },
  {
   "cell_type": "code",
   "execution_count": 24,
   "metadata": {},
   "outputs": [
    {
     "data": {
      "text/html": [
       "<div>\n",
       "<style scoped>\n",
       "    .dataframe tbody tr th:only-of-type {\n",
       "        vertical-align: middle;\n",
       "    }\n",
       "\n",
       "    .dataframe tbody tr th {\n",
       "        vertical-align: top;\n",
       "    }\n",
       "\n",
       "    .dataframe thead th {\n",
       "        text-align: right;\n",
       "    }\n",
       "</style>\n",
       "<table border=\"1\" class=\"dataframe\">\n",
       "  <thead>\n",
       "    <tr style=\"text-align: right;\">\n",
       "      <th></th>\n",
       "      <th></th>\n",
       "      <th></th>\n",
       "      <th></th>\n",
       "      <th></th>\n",
       "      <th>event_name</th>\n",
       "    </tr>\n",
       "    <tr>\n",
       "      <th>name</th>\n",
       "      <th>level</th>\n",
       "      <th>fqid</th>\n",
       "      <th>room_fqid</th>\n",
       "      <th>level_group</th>\n",
       "      <th></th>\n",
       "    </tr>\n",
       "  </thead>\n",
       "  <tbody>\n",
       "    <tr>\n",
       "      <th rowspan=\"3\" valign=\"top\">basic</th>\n",
       "      <th>4</th>\n",
       "      <th>chap1_finale_c</th>\n",
       "      <th>tunic.capitol_0.hall</th>\n",
       "      <th>0-4</th>\n",
       "      <td>11851</td>\n",
       "    </tr>\n",
       "    <tr>\n",
       "      <th>12</th>\n",
       "      <th>chap2_finale_c</th>\n",
       "      <th>tunic.capitol_1.hall</th>\n",
       "      <th>5-12</th>\n",
       "      <td>11838</td>\n",
       "    </tr>\n",
       "    <tr>\n",
       "      <th>22</th>\n",
       "      <th>chap4_finale_c</th>\n",
       "      <th>tunic.capitol_2.hall</th>\n",
       "      <th>13-22</th>\n",
       "      <td>11814</td>\n",
       "    </tr>\n",
       "  </tbody>\n",
       "</table>\n",
       "</div>"
      ],
      "text/plain": [
       "                                                             event_name\n",
       "name  level fqid           room_fqid            level_group            \n",
       "basic 4     chap1_finale_c tunic.capitol_0.hall 0-4               11851\n",
       "      12    chap2_finale_c tunic.capitol_1.hall 5-12              11838\n",
       "      22    chap4_finale_c tunic.capitol_2.hall 13-22             11814"
      ]
     },
     "execution_count": 24,
     "metadata": {},
     "output_type": "execute_result"
    }
   ],
   "source": [
    "df_source[df_source['event_name'] == 'checkpoint'] \\\n",
    "    .groupby(['name', 'level', 'fqid', 'room_fqid', 'level_group']) \\\n",
    "    .agg({'event_name': 'count'})"
   ]
  },
  {
   "cell_type": "code",
   "execution_count": 25,
   "metadata": {},
   "outputs": [
    {
     "name": "stdout",
     "output_type": "stream",
     "text": [
      "(488, 19)\n"
     ]
    }
   ],
   "source": [
    "session_id = 20090314121766812\n",
    "level_group = '13-22'\n",
    "\n",
    "df_session = df_source.query('session_id == @session_id and level_group == @level_group')\n",
    "\n",
    "print(df_session.shape)\n",
    "with pd.option_context('display.max_columns', None):\n",
    "    with pd.option_context('display.max_rows', None):\n",
    "        #display(df_session)\n",
    "        pass"
   ]
  },
  {
   "cell_type": "code",
   "execution_count": 26,
   "metadata": {},
   "outputs": [
    {
     "data": {
      "text/html": [
       "<div>\n",
       "<style scoped>\n",
       "    .dataframe tbody tr th:only-of-type {\n",
       "        vertical-align: middle;\n",
       "    }\n",
       "\n",
       "    .dataframe tbody tr th {\n",
       "        vertical-align: top;\n",
       "    }\n",
       "\n",
       "    .dataframe thead th {\n",
       "        text-align: right;\n",
       "    }\n",
       "</style>\n",
       "<table border=\"1\" class=\"dataframe\">\n",
       "  <thead>\n",
       "    <tr style=\"text-align: right;\">\n",
       "      <th></th>\n",
       "      <th></th>\n",
       "      <th>event_name</th>\n",
       "    </tr>\n",
       "    <tr>\n",
       "      <th>fqid</th>\n",
       "      <th>level</th>\n",
       "      <th></th>\n",
       "    </tr>\n",
       "  </thead>\n",
       "  <tbody>\n",
       "    <tr>\n",
       "      <th>wells</th>\n",
       "      <th>18</th>\n",
       "      <td>29</td>\n",
       "    </tr>\n",
       "    <tr>\n",
       "      <th>confrontation</th>\n",
       "      <th>16</th>\n",
       "      <td>21</td>\n",
       "    </tr>\n",
       "    <tr>\n",
       "      <th>flag_girl</th>\n",
       "      <th>19</th>\n",
       "      <td>19</td>\n",
       "    </tr>\n",
       "    <tr>\n",
       "      <th>crane_ranger</th>\n",
       "      <th>18</th>\n",
       "      <td>16</td>\n",
       "    </tr>\n",
       "    <tr>\n",
       "      <th>expert</th>\n",
       "      <th>18</th>\n",
       "      <td>15</td>\n",
       "    </tr>\n",
       "    <tr>\n",
       "      <th>...</th>\n",
       "      <th>...</th>\n",
       "      <td>...</td>\n",
       "    </tr>\n",
       "    <tr>\n",
       "      <th rowspan=\"2\" valign=\"top\">tomap</th>\n",
       "      <th>19</th>\n",
       "      <td>1</td>\n",
       "    </tr>\n",
       "    <tr>\n",
       "      <th>20</th>\n",
       "      <td>1</td>\n",
       "    </tr>\n",
       "    <tr>\n",
       "      <th>tomicrofiche</th>\n",
       "      <th>20</th>\n",
       "      <td>1</td>\n",
       "    </tr>\n",
       "    <tr>\n",
       "      <th>tostacks</th>\n",
       "      <th>16</th>\n",
       "      <td>1</td>\n",
       "    </tr>\n",
       "    <tr>\n",
       "      <th>toentry</th>\n",
       "      <th>13</th>\n",
       "      <td>1</td>\n",
       "    </tr>\n",
       "  </tbody>\n",
       "</table>\n",
       "<p>91 rows × 1 columns</p>\n",
       "</div>"
      ],
      "text/plain": [
       "                     event_name\n",
       "fqid          level            \n",
       "wells         18             29\n",
       "confrontation 16             21\n",
       "flag_girl     19             19\n",
       "crane_ranger  18             16\n",
       "expert        18             15\n",
       "...                         ...\n",
       "tomap         19              1\n",
       "              20              1\n",
       "tomicrofiche  20              1\n",
       "tostacks      16              1\n",
       "toentry       13              1\n",
       "\n",
       "[91 rows x 1 columns]"
      ]
     },
     "execution_count": 26,
     "metadata": {},
     "output_type": "execute_result"
    }
   ],
   "source": [
    "df_session \\\n",
    "    .groupby(['fqid', 'level']) \\\n",
    "    .agg({'event_name': 'count'}) \\\n",
    "    .sort_values(by='event_name', ascending=False)"
   ]
  },
  {
   "cell_type": "code",
   "execution_count": 27,
   "metadata": {},
   "outputs": [
    {
     "data": {
      "text/plain": [
       "wells                           29\n",
       "confrontation                   21\n",
       "flag_girl                       19\n",
       "crane_ranger                    16\n",
       "worker                          16\n",
       "expert                          15\n",
       "groupconvo_flag                 13\n",
       "seescratches                    12\n",
       "archivist_glasses               10\n",
       "tomap                            9\n",
       "gramps                           9\n",
       "toentry                          9\n",
       "glasses                          9\n",
       "tunic.drycleaner                 8\n",
       "tunic.capitol_2                  8\n",
       "ch3start                         8\n",
       "savedteddy                       7\n",
       "journals_flag.pic_0.next         6\n",
       "tunic.wildlife                   6\n",
       "lockeddoor                       6\n",
       "tunic.historicalsociety          5\n",
       "tostacks                         5\n",
       "journals_flag.pic_0.bingo        5\n",
       "tobasement                       5\n",
       "tunic.library                    5\n",
       "boss                             5\n",
       "tunic.kohlcenter                 4\n",
       "unlockdoor                       4\n",
       "tocollectionflag                 4\n",
       "directory                        3\n",
       "reader_flag                      3\n",
       "directory.closeup.archivist      3\n",
       "journals_flag.hub.topics         3\n",
       "journals_flag                    3\n",
       "tracks.hub.deer                  3\n",
       "chap4_finale_c                   3\n",
       "tracks                           3\n",
       "tofrontdesk                      3\n",
       "teddy                            3\n",
       "tocage                           3\n",
       "journals_flag.pic_2.next         2\n",
       "journals_flag.pic_2.bingo        2\n",
       "journals_flag.pic_1.next         2\n",
       "journals_flag.pic_1.bingo        2\n",
       "key                              2\n",
       "tunic.capitol_1                  2\n",
       "reader_flag.paper2.bingo         2\n",
       "reader_flag.paper0.next          2\n",
       "remove_cup                       2\n",
       "coffee                           2\n",
       "colorbook                        2\n",
       "tunic.humanecology               1\n",
       "reader_flag.paper2.next          1\n",
       "journals_flag.hub.topics_old     1\n",
       "reader_flag.paper1.next          1\n",
       "tomicrofiche                     1\n",
       "tunic.flaghouse                  1\n",
       "Name: fqid, dtype: int64"
      ]
     },
     "execution_count": 27,
     "metadata": {},
     "output_type": "execute_result"
    }
   ],
   "source": [
    "df_session.fqid.value_counts()"
   ]
  },
  {
   "cell_type": "code",
   "execution_count": 28,
   "metadata": {},
   "outputs": [
    {
     "data": {
      "text/plain": [
       "18    160\n",
       "21     76\n",
       "15     58\n",
       "20     38\n",
       "16     35\n",
       "13     33\n",
       "19     33\n",
       "17     30\n",
       "14     15\n",
       "22     10\n",
       "Name: level, dtype: int64"
      ]
     },
     "execution_count": 28,
     "metadata": {},
     "output_type": "execute_result"
    }
   ],
   "source": [
    "df_session.level.value_counts()"
   ]
  },
  {
   "cell_type": "code",
   "execution_count": 29,
   "metadata": {},
   "outputs": [
    {
     "data": {
      "image/png": "[encoded data removed]",
      "text/plain": [
       "<Figure size 640x480 with 1 Axes>"
      ]
     },
     "metadata": {},
     "output_type": "display_data"
    }
   ],
   "source": [
    "def create_heatmap(screen_coor_x, screen_coor_y):\n",
    "    # Create the 2D histogram\n",
    "    heatmap, xedges, yedges = np.histogram2d(\n",
    "        x=screen_coor_y, \n",
    "        y=screen_coor_x, \n",
    "        bins=5)\n",
    "\n",
    "    # Apply logarithmic transformation\n",
    "    heatmap = np.log(heatmap + 1)\n",
    "\n",
    "    # Normalize the heatmap\n",
    "    normalized_heatmap = (heatmap - np.min(heatmap)) / (np.max(heatmap) - np.min(heatmap))\n",
    "\n",
    "    # Scale the heatmap to the range 0-255\n",
    "    scaled_heatmap = (normalized_heatmap * 255).astype(np.uint8)\n",
    "\n",
    "    return scaled_heatmap\n",
    "\n",
    "# test the heatmap function\n",
    "df_plot = df_session[['room_coor_x', 'room_coor_y']].dropna()\n",
    "x = df_plot.room_coor_x\n",
    "y = df_plot.room_coor_y\n",
    "\n",
    "heatmap = create_heatmap(x, y)\n",
    "plt.imshow(heatmap, cmap='hot', origin='lower')\n",
    "plt.axis('off')\n",
    "plt.show()"
   ]
  },
  {
   "cell_type": "code",
   "execution_count": 30,
   "metadata": {},
   "outputs": [
    {
     "name": "stdout",
     "output_type": "stream",
     "text": [
      "X  max: 1261.7737454550663 min: -1992.3545688360275\n",
      "Y max: 543.616424379599 min: -918.1586870421452\n"
     ]
    }
   ],
   "source": [
    "print('X  max:', df_source.room_coor_x.max(), 'min:', df_source.room_coor_x.min())\n",
    "print('Y max:', df_source.room_coor_y.max(), 'min:', df_source.room_coor_y.min())\n"
   ]
  },
  {
   "cell_type": "code",
   "execution_count": 31,
   "metadata": {},
   "outputs": [
    {
     "data": {
      "image/png": "[encoded data removed]",
      "text/plain": [
       "<Figure size 640x480 with 1 Axes>"
      ]
     },
     "metadata": {},
     "output_type": "display_data"
    },
    {
     "data": {
      "image/png": "[encoded data removed]",
      "text/plain": [
       "<Figure size 640x480 with 1 Axes>"
      ]
     },
     "metadata": {},
     "output_type": "display_data"
    },
    {
     "data": {
      "image/png": "[encoded data removed]",
      "text/plain": [
       "<Figure size 640x480 with 1 Axes>"
      ]
     },
     "metadata": {},
     "output_type": "display_data"
    },
    {
     "data": {
      "image/png": "[encoded data removed]",
      "text/plain": [
       "<Figure size 640x480 with 1 Axes>"
      ]
     },
     "metadata": {},
     "output_type": "display_data"
    }
   ],
   "source": [
    "def show_clicks(data:pd.DataFrame, fqid: list, level:int):\n",
    "    df_plot = data.query('fqid in @fqid and level == @level and event_name != \"navigate_click\"')\n",
    "    df_plot = df_plot[['room_coor_x', 'room_coor_y']].dropna()    \n",
    "    \n",
    "    plt.scatter(\n",
    "        x = df_plot.room_coor_x,\n",
    "        y = df_plot.room_coor_y, \n",
    "        s=1)\n",
    "\n",
    "    plt.show()\n",
    "\n",
    "    x = df_plot.room_coor_x\n",
    "    y = df_plot.room_coor_y\n",
    "\n",
    "    normalized_x = (x - (-1992.3545688360275)) / (1261.7737454550663 - (-1992.3545688360275))\n",
    "    normalized_y = (y - (-918.1586870421452)) / (543.616424379599 - (-918.1586870421452))    \n",
    "\n",
    "    heatmap = create_heatmap(normalized_x, normalized_y)\n",
    "    plt.imshow(heatmap, cmap='hot', origin='lower')\n",
    "    plt.axis('off')\n",
    "    plt.show()    \n",
    "\n",
    "show_clicks(df_source, ['directory'], 15)\n",
    "show_clicks(df_session, ['directory'], 15)"
   ]
  },
  {
   "cell_type": "code",
   "execution_count": 32,
   "metadata": {},
   "outputs": [
    {
     "data": {
      "image/png": "[encoded data removed]",
      "text/plain": [
       "<Figure size 640x480 with 1 Axes>"
      ]
     },
     "metadata": {},
     "output_type": "display_data"
    },
    {
     "data": {
      "image/png": "[encoded data removed]",
      "text/plain": [
       "<Figure size 640x480 with 1 Axes>"
      ]
     },
     "metadata": {},
     "output_type": "display_data"
    },
    {
     "data": {
      "image/png": "[encoded data removed]",
      "text/plain": [
       "<Figure size 640x480 with 1 Axes>"
      ]
     },
     "metadata": {},
     "output_type": "display_data"
    },
    {
     "data": {
      "image/png": "[encoded data removed]",
      "text/plain": [
       "<Figure size 640x480 with 1 Axes>"
      ]
     },
     "metadata": {},
     "output_type": "display_data"
    }
   ],
   "source": [
    "show_clicks(df_source, ['confrontation'], 16)\n",
    "show_clicks(df_session, ['confrontation'], 16)"
   ]
  },
  {
   "cell_type": "code",
   "execution_count": 33,
   "metadata": {},
   "outputs": [
    {
     "data": {
      "text/plain": [
       "<matplotlib.collections.PathCollection at 0x7f9342662310>"
      ]
     },
     "execution_count": 33,
     "metadata": {},
     "output_type": "execute_result"
    },
    {
     "data": {
      "image/png": "[encoded data removed]",
      "text/plain": [
       "<Figure size 640x480 with 1 Axes>"
      ]
     },
     "metadata": {},
     "output_type": "display_data"
    }
   ],
   "source": [
    "IDX = ((df_source.fqid=='directory.closeup.archivist')|(df_source.fqid=='directory'))&(df_source.level==15)\\\n",
    "    &(df_source.event_name!='navigate_click')\n",
    "tmp = df_source.loc[IDX]\n",
    "\n",
    "# plot datapoints as one pixel per click\n",
    "plt.scatter(tmp.room_coor_x,tmp.room_coor_y, s=1)"
   ]
  },
  {
   "cell_type": "code",
   "execution_count": 34,
   "metadata": {},
   "outputs": [
    {
     "name": "stdout",
     "output_type": "stream",
     "text": [
      "tunic.historicalsociety.entry    46282\n",
      "Name: room_fqid, dtype: int64\n",
      "tunic.historicalsociety.entry    80666\n",
      "Name: room_fqid, dtype: int64\n"
     ]
    },
    {
     "data": {
      "text/plain": [
       "<matplotlib.collections.PathCollection at 0x7f9342b1fb20>"
      ]
     },
     "execution_count": 34,
     "metadata": {},
     "output_type": "execute_result"
    },
    {
     "data": {
      "image/png": "[encoded data removed]",
      "text/plain": [
       "<Figure size 640x480 with 1 Axes>"
      ]
     },
     "metadata": {},
     "output_type": "display_data"
    }
   ],
   "source": [
    "IDX = ((df_source.fqid=='directory.closeup.archivist')|(df_source.fqid=='directory'))&(df_source.level==15)\\\n",
    "    &(df_source.event_name!='navigate_click')\n",
    "tmp = df_source.loc[IDX]\n",
    "\n",
    "print(tmp.room_fqid.value_counts())\n",
    "\n",
    "IDX = (df_source.room_fqid=='tunic.historicalsociety.entry')&(df_source.level==15)\\\n",
    "    &(df_source.event_name!='navigate_click')\n",
    "tmp = df_source.loc[IDX]\n",
    "\n",
    "print(tmp.room_fqid.value_counts())\n",
    "plt.scatter(tmp.room_coor_x,tmp.room_coor_y, s=1)"
   ]
  },
  {
   "attachments": {},
   "cell_type": "markdown",
   "metadata": {},
   "source": [
    "## Try and find the first question"
   ]
  },
  {
   "cell_type": "code",
   "execution_count": 35,
   "metadata": {},
   "outputs": [
    {
     "data": {
      "text/plain": [
       "array(['undefined', 'Whatcha doing over there, Jo?',\n",
       "       'Just talking to Teddy.', 'I gotta run to my meeting!',\n",
       "       'Can I come, Gramps?',\n",
       "       'Sure thing, Jo. Grab your notebook and come upstairs!',\n",
       "       'See you later, Teddy.', \"I get to go to Gramps's meeting!\",\n",
       "       'Now where did I put my notebook?', '\\\\u00f0\\\\u0178\\\\u02dc\\\\u00b4',\n",
       "       nan, 'I love these photos of me and Teddy!', 'Found it!',\n",
       "       'Gramps is in trouble for losing papers?', \"This can't be right!\",\n",
       "       'Gramps is a great historian!', \"Hmm. Button's still not working.\",\n",
       "       \"Let's get started. The Wisconsin Wonders exhibit opens tomorrow!\",\n",
       "       'Who wants to investigate the shirt artifact?',\n",
       "       \"Not Leopold here. He's been losing papers lately.\", 'Hey!',\n",
       "       \"It's true, they do keep going missing lately.\", 'See?',\n",
       "       'Besides, I already figured out the shirt.',\n",
       "       \"It's a women's basketball jersey!\", 'That settles it.',\n",
       "       'Wells, finish up your report.',\n",
       "       \"Leopold, why don't you help me set up in the Capitol?\",\n",
       "       'We need to talk about that missing paperwork.', 'Will do, Boss.',\n",
       "       \"Hey Jo, let's take a look at the shirt!\",\n",
       "       'Your grampa is waiting for you in the collection room.',\n",
       "       \"Why don't you go catch up with your grampa?\",\n",
       "       'What a fascinating artifact!', \"Wow, that's so cool, Gramps!\",\n",
       "       'Can I take a closer look?',\n",
       "       \"Hmmm. Shouldn't you be doing your homework?\",\n",
       "       \"It's already all done!\",\n",
       "       'Plus, my teacher said I could help you out for extra credit!',\n",
       "       \"Well, that's good enough for me.\",\n",
       "       'Go ahead, take a peek at the shirt!', 'This looks like a clue!',\n",
       "       \"I'll record this in my notebook.\", 'Find anything?',\n",
       "       'Yes! This old slip from 1916.', 'I knew it!',\n",
       "       \"I'm not so sure that this is a basketball jersey.\",\n",
       "       'Wait, you mean Wells is wrong?!',\n",
       "       'Could be. But we need evidence!',\n",
       "       \"Why don't you head to the Basketball Center and rustle up some clues?\",\n",
       "       'Sure!',\n",
       "       \"I'll be at the Capitol. Let me know if you find anything!\",\n",
       "       'Better check back later.', \"That's it!\",\n",
       "       \"The slip is from 1916 but the team didn't start until 1974!\",\n",
       "       'Our shirt is too old to be a basketball jersey!',\n",
       "       'I need to get to the Capitol and tell Gramps!',\n",
       "       'What are you still doing here,  Jolie?',\n",
       "       'Go find your grampa and get to work!', 'Oh no!',\n",
       "       'What happened here?!', \"I don't know!\",\n",
       "       'I got here and the whole place was a mess!',\n",
       "       'Can you help me tidy up?',\n",
       "       \"Teddy's scarf! Somebody must've taken him!\",\n",
       "       'Try not to panic, Jo.', 'Maybe he just got scared and ran off.',\n",
       "       'But he never goes anywhere without his scarf!',\n",
       "       \"I think he's in trouble!\", 'Is this your coffee, Gramps?',\n",
       "       \"Nope, that's from Bean Town. I only drink Holdgers!\",\n",
       "       \"Who could've done this?\", \"It must've been Wells.\",\n",
       "       \"He's always trying to get you in trouble, and he doesn't like animals!\",\n",
       "       'Slow down, Jo.', 'But what if Wells kidnapped Teddy?',\n",
       "       'Then we need evidence.',\n",
       "       \"You're right, Gramps. Let's investigate!\",\n",
       "       \"I'm afraid my papers have gone missing in this mess.\",\n",
       "       \"You'll have to get started without me.\", \"Okay. I'll find Teddy!\",\n",
       "       \"And I'll figure out the shirt, too.\",\n",
       "       'I knew I could count on you, Jo!',\n",
       "       \"Why don't you go upstairs and see the archivist?\",\n",
       "       \"He's our expert record keeper.\", 'I need your help!',\n",
       "       'Who are you?', \"I'm Leopold's grandkid!\",\n",
       "       \"Sorry, I'm too busy for kids right now.\",\n",
       "       'Now if only I could read this thing.',\n",
       "       \"Can't believe I lost my reading glasses.\",\n",
       "       'I bet the archivist could use this!', \"Ah, that's better!\",\n",
       "       'Did you have a question?', 'Yes! I was wondering-',\n",
       "       'Wait a minute!', 'Where did you get that coffee?',\n",
       "       \"Oh, that's from Bean Town.\",\n",
       "       'I ran into Wells there this morning.', 'Wells? I knew it!',\n",
       "       'Do you know anything about this slip?',\n",
       "       'I found it on an old shirt.', 'An old shirt? Try the university.',\n",
       "       'You can talk to a textile expert there.',\n",
       "       \"What's a textile expert?\", 'They study clothes and fabric.',\n",
       "       'Great! Thanks for the help!', 'Head over to the university.',\n",
       "       'Hello there!', 'Wow! What is all this stuff?',\n",
       "       \"It's our Norwegian Craft exhibit!\", 'Can I give you the tour?',\n",
       "       \"Sorry, I'm in a hurry.\", 'Do you know what this slip is?',\n",
       "       'Looks like a dry cleaning receipt.', 'Thanks.',\n",
       "       'Now I Just need to find all the cleaners from way back in 1916.',\n",
       "       'Maybe I can help!',\n",
       "       \"I've got a stack of business cards from my favorite cleaners.\",\n",
       "       \"Why don't you take a look?\",\n",
       "       'This place was around in 1916! I can start there!',\n",
       "       \"You haven't seen any badgers around here, have you?\",\n",
       "       'Badgers? No.', 'Okay. Thanks anyway.', 'Hi! How can I help you?',\n",
       "       'I need to find the owner of this slip.',\n",
       "       \"Well, I can't show our log books to just anybody.\", 'Please?',\n",
       "       \"It's for Grampa Leo. He's a historian!\",\n",
       "       'Leo... you mean Leopold?',\n",
       "       'Your gramps is awesome! Always full of stories.',\n",
       "       \"Guess it couldn't hurt to let you take a look.\",\n",
       "       \"Here's the log book.\", \"It's a match!\",\n",
       "       'Theodora Youmans must be the owner!',\n",
       "       'Do you know who Theodora Youmans is?',\n",
       "       \"Hmmm... not sure. Why don't you try the library?\",\n",
       "       'Thanks for the help!', 'Oh, hello there!', 'How can I help you?',\n",
       "       'Have you seen a badger around here?', \"I'm afraid not.\",\n",
       "       'Please let me know if you do.',\n",
       "       \"I'm also looking for Theodora Youmans. Have you heard of her?\",\n",
       "       'Theodora Youmans? Of course!',\n",
       "       \"Check out our microfiche. It's right through that door.\",\n",
       "       'Youmans was a suffragist!', 'She helped get votes for women!',\n",
       "       'Wells! What was he doing here? I should ask the librarian.',\n",
       "       'What was Wells doing here?', 'He was looking for a taxidermist.',\n",
       "       \"What's a taxidermist?\", 'Not sure. Here, let me look it up.',\n",
       "       '\\\\Taxidermy: the art of preparing, stuffing, and mounting the skins of animals.\\\\',\n",
       "       'Oh no... Teddy!', 'Can you help me find Wells?',\n",
       "       'You could ask the archivist. He knows everybody!',\n",
       "       \"Jolie! I was hoping you'd stop by. Any news on the shirt artifact?\",\n",
       "       \"I haven't quite figured it out just yet...\",\n",
       "       \"Well, get on it. I'm counting on you and your gramps to figure this out!\",\n",
       "       'Can you help me? I need to find Wells!', \"I haven't seen him.\",\n",
       "       'Please? This is really important.', \"Sorry, can't help you.\",\n",
       "       'Do you have any info on Theodora Youmans?',\n",
       "       'Theodora Youmans? Is that who owned the shirt?', 'Yep.',\n",
       "       \"Why didn't you say so?\",\n",
       "       'Youmans was a suffragist here in Wisconsin.',\n",
       "       'She led marches and helped women get the right to vote!',\n",
       "       \"Wait a sec. Women couldn't vote?!\",\n",
       "       'Nope. But Youmans and other suffragists worked hard to change that.',\n",
       "       'Thanks to them, Wisconsin was the first state to approve votes for women!',\n",
       "       'Wow!', \"Here's a call number to find more info in the Stacks.\",\n",
       "       'Where are the Stacks?', 'Right outside the door.',\n",
       "       'Hey, this is Youmans!', \"And look! She's wearing the shirt!\",\n",
       "       'I should go to the Capitol and tell everyone!', 'Jo!',\n",
       "       'Check out the next artifact!', 'What is it?',\n",
       "       \"I think it's a flag! Pretty interesting, huh?\",\n",
       "       \"It's really cool, Gramps. But I'm worried about Teddy.\",\n",
       "       \"He's still missing!\", \"We'll find him, Jo.\",\n",
       "       'Want to look for more clues?', \"We'll find Teddy.\",\n",
       "       'We just have to keep our eyes open!',\n",
       "       'Hey, look at those scratches!',\n",
       "       'The kidnapper probably took Teddy on the elevator!',\n",
       "       \"You're right, Jo!\", \"Why isn't the button working?\",\n",
       "       \"We'll need a key card.\", 'I had one, but Teddy chewed it up.',\n",
       "       \"I've got Wells's ID!\", 'What should we do next?',\n",
       "       \"I need to take the artifact upstairs. Why don't you investigate those scratch marks?\",\n",
       "       \"Okay. I'll try.\", 'Teddy, here I come!',\n",
       "       'I wonder whose glasses these are.', 'Teddy!!!',\n",
       "       \"Hang on. I'll get you out of there!\",\n",
       "       'Whoever lost these glasses probably took Teddy!',\n",
       "       'How can I find out whose glasses these are?',\n",
       "       'Oh! There was a staff directory in the entryway!',\n",
       "       \"I'll go look at everyone's pictures!\",\n",
       "       'Those are the same glasses!',\n",
       "       \"The archivist must've taken Teddy!\",\n",
       "       \"Yes! It's the key for Teddy's cage!\", 'I found the key!',\n",
       "       \"Come on, let's get out of here!\", \"Here's your scarf back!\",\n",
       "       'What are you doing down here?',\n",
       "       'And how did that badger get free?',\n",
       "       \"I'm here to rescue my friend!\", \"What's going on here?\",\n",
       "       'Thanks for coming, Boss.', 'I told you!',\n",
       "       'I captured a badger in our museum!',\n",
       "       \"He's been eating my lunch every day this week!\", 'He has??',\n",
       "       \"I've seen him eating homework and important papers, too.\",\n",
       "       \"Jolie- keep your badger under control, or he'll have to go.\",\n",
       "       'And you, Frank-', \"You can't just steal Jolie's pet.\",\n",
       "       'Ugh. Fine.', 'Alright, Jolie. Back to work.',\n",
       "       \"Come on, Teddy. Let's go help Gramps!\", \"Let's go help Gramps!\",\n",
       "       'Gramps must be up in the collection room.', \"Let's go find him!\",\n",
       "       \"Teddy! I'm glad to see you.\", 'The archivist had him locked up!',\n",
       "       'Poor badger.', \"You're becoming quite the detective, Jo.\",\n",
       "       'Notice any clues about this flag?',\n",
       "       'Well... it looks hand-stitched.', 'Good catch!',\n",
       "       'Go on, tell the boss what you found!',\n",
       "       \"I'm telling you, Boss. Taxidermy is the way to go!\",\n",
       "       'Nonsense. I want live animals at the exhibit, not stuffed ones.',\n",
       "       \"Ah, Jolie! I'm glad you're here.\",\n",
       "       \"I'm putting you in charge of the flag case.\",\n",
       "       'Make sure to get some old photos for the exhibit, like last time!',\n",
       "       \"Wait! Can't I do it?\",\n",
       "       'The symbol on the flag looks sort of like a deer hoof.',\n",
       "       'It could be an early design for the Wisconsin state flag!',\n",
       "       'Wells, you already have a job to do.', 'What now, kid?',\n",
       "       'Do you really think that symbol is a deer hoof?', 'Not sure.',\n",
       "       'Do you know where I can find a deer expert?',\n",
       "       'Hmm. You could try the Aldo Leopold Wildlife Center.',\n",
       "       'I have to head over there and check out the animals.',\n",
       "       \"I'll ride with you!\", \"Come on, kid. Let's go.\",\n",
       "       'Head over to the Wildlife Center!',\n",
       "       \"I'm sure they'll be able to help.\",\n",
       "       'People sure drink a lot of coffee around here.',\n",
       "       \"I can't believe this.\", 'Ugh...',\n",
       "       'Oh no! What happened to that crane?',\n",
       "       'Her beak is stuck in a coffee cup.', \"It's lucky we found her.\",\n",
       "       'Ugh! Those cups are all over the place.',\n",
       "       \"I need to get her free. She won't hold still!\",\n",
       "       'Can Teddy and I help?', 'Sure! Give it a try.',\n",
       "       'Careful. That beak is sharp!', 'We need to calm her down, Teddy.',\n",
       "       'Any ideas?', '\\\\u00f0\\\\u0178\\\\u00a6\\\\u2014',\n",
       "       'Oh yeah, cranes eat insects!',\n",
       "       'Luckily there are tons of insects around here...', 'Got one!',\n",
       "       \"Maybe she'll let me take off the cup!\",\n",
       "       \"It's OK, girl! Look, I found you a cricket!\",\n",
       "       'You did it! Thanks, kid.', 'Can I help you with anything?',\n",
       "       \"I'm investigating this symbol.\", 'Does it look like a deer hoof?',\n",
       "       \"There's a diagram of animal tracks over there.\",\n",
       "       'Go take a look!', \"That hoofprint doesn't match the flag!\",\n",
       "       'Thanks for your help, kid!', \"So? What'd you find out?\",\n",
       "       \"Looks like it's not a deer hoof.\",\n",
       "       \"Oh no. If I don't impress the boss soon,  I'm gonna get fired!\",\n",
       "       'Hey, Wells...', 'I think I might be able to help you.',\n",
       "       \"No thanks. I don't need help from kids.\",\n",
       "       'Are you sure? I know where you can find a real, live badger for the exhibit!',\n",
       "       'Wait! What?! Really?', 'Wells, meet Teddy.',\n",
       "       '\\\\u00f0\\\\u0178\\\\u02dc\\\\u0160',\n",
       "       \"He says he'd be willing to help out.\", 'Yes!!!',\n",
       "       'We still need to figure out that flag. Do you know anyone who could help?',\n",
       "       \"Hmm. Let's see...\",\n",
       "       'Actually, I went to school with somebody who LOVES old flags.',\n",
       "       \"Why don't you go talk to her? I'll let her know you're coming.\",\n",
       "       'Hey, nice dog! What breed is he?', \"Actually, he's a badger.\",\n",
       "       \"Oh, cool! I've never seen a badger in real life.\",\n",
       "       \"You've got a million flags here!\", \"Yep. I'm a vexillophile!\",\n",
       "       \"What's a vexillophile? \",\n",
       "       'It just means flag expert. How can I help?',\n",
       "       \"I'm investigating this flag.\", 'Can you take a look?',\n",
       "       \"Hey, I've seen that symbol before! Check it out!\",\n",
       "       '\\\\Ecology flag, by Ron Cobb.\\\\', \"It's an ecology flag!\",\n",
       "       'Do you know what this flag was used for?', \"I'm not sure.\",\n",
       "       \"If I were you, I'd go to the library and do some digging.\",\n",
       "       'Good idea. Thanks!', 'Welcome back, Dear! How can I help you?',\n",
       "       'I need to learn more about this flag!',\n",
       "       'It has something to do with ecology.',\n",
       "       'Hmm... those stripes remind me of the American flag.',\n",
       "       'Your flag must have been part of a national movement!',\n",
       "       \"Go check the microfiche. Maybe you'll find something!\",\n",
       "       \"Hey! That's Governor Nelson in front of our flag!\",\n",
       "       'I found the flag! Governor Nelson used it on the first Earth Day!',\n",
       "       'Wow! You figured it out!',\n",
       "       'Now I just need some old photos, like last time.',\n",
       "       'The boss is gonna love it!', 'You could try the archives.',\n",
       "       'Though the archivist might be too busy to help...',\n",
       "       'Okay. Thanks!', 'What are you doing here?',\n",
       "       \"We're looking for some photos.\", \"It's for the flag display!\",\n",
       "       'Wait a minute...',\n",
       "       \"YOU'RE the new history detective everybody's talking about?\",\n",
       "       \"Teddy's helping too.\", 'What kind of photos do you need?',\n",
       "       'Something to do with ecology and Wisconsin.',\n",
       "       \"Here's a call number for the Stacks. Go find some photos.\",\n",
       "       'Look at all those activists!', 'This is perfect for the exhibit.',\n",
       "       'I should go to the Capitol and tell Mrs. M!',\n",
       "       'I should see what Grampa is up to!', 'What should I do first?',\n",
       "       'Head upstairs and talk to the archivist. He might be able to help!',\n",
       "       \"It's locked!\",\n",
       "       \"Jolie! I was hoping you'd stop by. Any news on the flag artifact?\",\n",
       "       \"Well, get on it. I'm counting on you to figure this out!\",\n",
       "       'Nice seeing you, Jolie!', \"It's such a nice fall day.\",\n",
       "       'I love these photos of me and Teddy.',\n",
       "       \"Why don't you go talk to the boss?\", \"She's right outside.\",\n",
       "       'My friend is a flag expert.',\n",
       "       'She should be able to help you out.',\n",
       "       'There are some old newspapers loaded up in the microfiche.',\n",
       "       'The Stacks are right outside the door. Go find some photos!',\n",
       "       'I should help Gramps clean.',\n",
       "       \"Maybe there's a clue in this mess!\",\n",
       "       \"Poor Gramps! I should make sure he's okay.\",\n",
       "       'The archivist said I should look in the stacks.',\n",
       "       'There should be some info about that symbol in my book.',\n",
       "       'Meetings are BORING!', 'Grab your notebook and come upstairs!',\n",
       "       'Hang tight, Teddy.',\n",
       "       \"I'll hurry back and then we can go exploring!\",\n",
       "       'Well, Leopold here is always losing papers...',\n",
       "       'Ha. Told you so!', \"Look at that! It's the bee's knees!\",\n",
       "       'Can we hurry up, Gramps?',\n",
       "       'Teddy and I were gonna go climb that huge tree out back!',\n",
       "       \"Hmmm. Don't forget about your homework.\",\n",
       "       'Your teacher said you missed 7 assignments in a row!',\n",
       "       \"Well, I did SOME of those. I just couldn't find them!\",\n",
       "       'Did you do all of them?', 'No... because history is boring!',\n",
       "       'I suppose historians are boring, too?',\n",
       "       \"No way, Gramps. You're the best!\", 'Then do it for me!',\n",
       "       'Your teacher said you could help me for extra credit.',\n",
       "       'Hooray, a boring old shirt.', 'Just this old slip from 1916.',\n",
       "       'Hot Dog! I knew it!', 'Ooh, I like clues!', 'What the-',\n",
       "       'I got here and the whole place was ransacked!', 'I have an idea.',\n",
       "       \"He's wrong about old shirts and his name rhymes with \\\\smells\\\\...\",\n",
       "       'Hold your horses, Jo.', 'BUT WELLS STOLE TEDDY!',\n",
       "       'Could be. But we need evidence.', \"Fine. Let's investigate!\",\n",
       "       \"Don't worry, Gramps. I'll find Teddy!\",\n",
       "       'This button never works!', '*grumble grumble*', 'And you are?',\n",
       "       \"I don't have time for kids.\",\n",
       "       'Now if only I could read this thing. Blasted tiny letters...',\n",
       "       'Knew what?', 'Did you have a question or not?', 'Yes!',\n",
       "       'Ooh, thanks!',\n",
       "       'Now I just need to find all the cleaners from wayyyy back in 1916.',\n",
       "       'Yikes... this could take a while.', 'Hi! *cough*',\n",
       "       'Can you help-', '*cough cough*', 'Can you help me-',\n",
       "       '*COUGH COUGH COUGH*', 'Um, are you okay?',\n",
       "       \"Oh, I'm fine! Just a little hoarse.\",\n",
       "       'Ha! What do you call a pony with a sore throat?', 'Huh?',\n",
       "       'A little horse!', \"Ha! You're funny.\",\n",
       "       'I got that one from my Gramps!',\n",
       "       'Can you help me? I need to find the owner of this slip.',\n",
       "       \"Yup, that's him!\", \"Unless you're too busy horsing around.\",\n",
       "       'Ha! Good one.', \"You look like you're on a mission.\",\n",
       "       'Two missions, actually!',\n",
       "       \"Please let me know if you do. It's important!\", 'Oh my!',\n",
       "       'I need to find Wells right away!! Do you know where he is?',\n",
       "       'I need to find Wells!!!', \"Calm down, kid. I haven't seen him.\",\n",
       "       \"I can't calm down. This is important!\",\n",
       "       \"I think it's a flag! Pretty spiffy, eh?\",\n",
       "       \"I don't have time for this, Gramps.\", 'Teddy is still missing!',\n",
       "       \"Great Scott, you're right!\", \"Let's follow those scratch marks!\",\n",
       "       \"Jo! I can't go with you. I need to take the artifact upstairs.\",\n",
       "       \"It's okay, Gramps. I'll go by myself.\",\n",
       "       '\\\\u00f0\\\\u0178\\\\u02dc\\\\u00ad',\n",
       "       '\\\\u00e2\\\\u009d\\\\u00a4\\\\u00ef\\\\u00b8\\\\u008f', 'GRRRRRRR',\n",
       "       'GAH! And what is THAT doing out of its cage?!',\n",
       "       'You stole Teddy! How could you?!', \"No he hasn't!\",\n",
       "       '\\\\u00f0\\\\u0178\\\\u02dc\\\\u0090',\n",
       "       'Teddy! Did you really eat his lunch?',\n",
       "       \"Did you steal Gramps's paperwork too?!\", 'And my homework?!?!',\n",
       "       'See?!', \"That thing's a monster!\", \"I don't have time for this.\",\n",
       "       'YEAH!', 'Wait- me?',\n",
       "       \"You can't just steal Jolie's pet. Don't you know badgers are protected animals?\",\n",
       "       'Besides, he looks friendly to me.', 'Wha?!',\n",
       "       '\\\\u00f0\\\\u0178\\\\u02dc\\\\u009d', 'Come on, Teddy.',\n",
       "       \"Let's go find Gramps!\", \"Teddy! I'm sure glad to see you.\",\n",
       "       'Gadzooks! Poor critter.', 'Aha! Good catch, Jo.',\n",
       "       'Not sure. Do I look like a deer expert to you?',\n",
       "       'Ugh. I have to head over there and check out the animals.',\n",
       "       'FINE. That possum better not scratch my leather seats...',\n",
       "       \"He's a badger!\", '\\\\u00f0\\\\u0178\\\\u00a7\\\\u02dc',\n",
       "       'Yoga does sound nice.', \"But cranes can't do yoga, Teddy!\",\n",
       "       '\\\\u00f0\\\\u0178\\\\u008d\\\\u00a9', \"Cranes don't eat donuts!\",\n",
       "       'Besides, you just ate my last snack.',\n",
       "       \"Gah. I can't believe this.\", \"I'm a historian, not a zookeeper!\",\n",
       "       'And this place is dirty, and itchy, and-', 'I love it!',\n",
       "       \"Of course you do. You've got a rodent following you around.\",\n",
       "       \"Actually, badgers aren't rodents-\", 'Whatever.',\n",
       "       'Great. Just great. Could this day get any worse?!',\n",
       "       'I think I can help with your animal problem.',\n",
       "       \"Ha! I don't need your help.\",\n",
       "       \"Fine. Then I guess you don't want a real, live badger for the exhibit.\",\n",
       "       \"Yes!!! I'm saved!\", 'A real, live ferret!', \"He's. A. Badger.\",\n",
       "       'And we still need to figure out that flag!',\n",
       "       \"Fine, fine. Let's see...\", 'A vexy-wha?',\n",
       "       'Ooh... \\\\Ecology flag, by Ron Cobb.\\\\',\n",
       "       'The boss is gonna love it!!!', \"Oh, trust me. He'll make time.\",\n",
       "       \"You again! Don't let him hurt me!\",\n",
       "       '\\\\u00f0\\\\u0178\\\\u2122\\\\u201e',\n",
       "       \"Actually, we're just here for some photos.\", 'Guess so!', 'YOU?!',\n",
       "       \"Just please, don't let your badger eat them!\",\n",
       "       'Ugh. Meetings are so boring.', 'So? History is boring!',\n",
       "       'A boring old shirt.', 'Do I have to?',\n",
       "       'I need to find Wells right away! Do you know where he is?',\n",
       "       'Where should I go again?',\n",
       "       'You could try the archivist. Maybe he can help you find Wells!',\n",
       "       \"I can't go with you. I need to take the artifact upstairs.\",\n",
       "       \"Yes, he has. I've seen him eating homework and important papers, too.\",\n",
       "       'Yeah. Thanks anyway.', \"I don't need that right now.\",\n",
       "       'Yes! This cool old slip from 1916.',\n",
       "       'I should stay and look for clues!', 'Are you okay?',\n",
       "       \"I'll be in the collection room. Come find me when you're ready to check out the artifact.\",\n",
       "       'Good luck!', 'What?!', 'Can I ride with you?',\n",
       "       \"Don't worry, he won't! (And he's a badger, by the way.)\",\n",
       "       'Ugh... I think that lynx is looking at me funny.',\n",
       "       \"Don't worry, Teddy won't eat your lunch anymore!\",\n",
       "       \"We're just looking for photos for the flag display.\",\n",
       "       'Gramps is the best historian ever!',\n",
       "       'I used to have a magnifying glass around here\\\\u00e2\\\\u20ac\\\\u00a6',\n",
       "       \"You're still here? I'm trying to work!\",\n",
       "       'Run along to the university.',\n",
       "       \"But I hear the museum's got one on the loose!\",\n",
       "       \"Come on, kid. You're slowing me down.\",\n",
       "       \"I feel like I'm forgetting something.\",\n",
       "       \"Did you drop something, Dear? There's a card on the floor.\",\n",
       "       \"Weren't you going to check out our microfiche?\",\n",
       "       \"I'm sure you'll find Theodora in there somewhere!\",\n",
       "       'Head back to the museum. Your gramps is waiting for you.',\n",
       "       'I should see what Gramps is up to!',\n",
       "       'I should go talk to Gramps!',\n",
       "       'Um... what did you want me to do again?',\n",
       "       'Head over to the Basketball Center.',\n",
       "       'Hopefully you can rustle up some clues!',\n",
       "       'Well? What are you still doing here?',\n",
       "       'So much cleaning to do...', 'Take a look!', 'I found it!',\n",
       "       'Theodora wearing the shirt!', 'You better get to the capitol!',\n",
       "       'I should check out that pair of glasses.',\n",
       "       \"Check out the archives. They've got tons of old photos!\",\n",
       "       'Did you drop something, Dear?',\n",
       "       'Hopefully you can find some clues!',\n",
       "       'What are you waiting for? The Stacks are right outside the door.',\n",
       "       \"Why don't you go play with your grampa?\",\n",
       "       'Gramps said to look for clues. Better look around.',\n",
       "       'I should ask the librarian where to go next.',\n",
       "       'Ooh, nice decorations!',\n",
       "       'The libarian said I could find some information on Youmans in here...',\n",
       "       'I should ask the librarian why Wells was here.',\n",
       "       'Have a look at the artifact!',\n",
       "       \"I wonder if there's a clue in those business cards...\",\n",
       "       'Hi, Mrs. M.', 'Thanks. Did you figure out the shirt?',\n",
       "       'I should find out if she can help me!', 'What is it, Teddy?',\n",
       "       'Oh no... they got sick from polluted water?', 'Poor foxes!',\n",
       "       'Jolie! Where have you been?', 'The exhibit opens tomorrow.',\n",
       "       'Welcome back, Jolie. Did you figure out the shirt?',\n",
       "       'Nice decorations.',\n",
       "       'Wells got in trouble for littering at the Wildlife Center.',\n",
       "       'I should check that logbook to see who owned this slip...',\n",
       "       'AND I know who took Teddy!', 'Who is Teddy?',\n",
       "       \"And where's your grampa?\", 'Sorry for the delay, Boss.',\n",
       "       'I had some cleaning up to do in my office.',\n",
       "       'Mrs. M, I think Wells kidnapped Teddy.',\n",
       "       \"And he messed up Gramps's office, too!\",\n",
       "       'One step at a time, Jo.', 'Did you figure out the shirt?',\n",
       "       'I knew you could do it, Jo!',\n",
       "       'Now can I tell you what happened to Teddy?', 'He needs our help!',\n",
       "       \"Sorry I'm late.\", \"Wells! Where's Teddy? Is he okay?\",\n",
       "       'I figured out that you kidnapped him!', 'Easy, Jo.',\n",
       "       \"Why don't you prove your case?\",\n",
       "       \"It'll be okay, Jo. We'll find Teddy!\",\n",
       "       'Nice work on the shirt, Jolie!',\n",
       "       'Leopold, can you run back to the museum?', 'Sounds good, Boss.',\n",
       "       'Jo, meet me back at my office.',\n",
       "       'I hope you find your badger, kid.', 'Thanks!',\n",
       "       \"Are you going home now? Tomorrow's the big day!\",\n",
       "       'He got a park named after him? Cool!', 'Come on, Jo!',\n",
       "       \"Meet me back in my office and we'll get started!\"], dtype=object)"
      ]
     },
     "execution_count": 35,
     "metadata": {},
     "output_type": "execute_result"
    }
   ],
   "source": [
    "df_source.text.unique()"
   ]
  },
  {
   "cell_type": "code",
   "execution_count": 36,
   "metadata": {},
   "outputs": [
    {
     "data": {
      "text/html": [
       "<div>\n",
       "<style scoped>\n",
       "    .dataframe tbody tr th:only-of-type {\n",
       "        vertical-align: middle;\n",
       "    }\n",
       "\n",
       "    .dataframe tbody tr th {\n",
       "        vertical-align: top;\n",
       "    }\n",
       "\n",
       "    .dataframe thead th {\n",
       "        text-align: right;\n",
       "    }\n",
       "</style>\n",
       "<table border=\"1\" class=\"dataframe\">\n",
       "  <thead>\n",
       "    <tr style=\"text-align: right;\">\n",
       "      <th></th>\n",
       "      <th>session_id</th>\n",
       "      <th>elapsed_time</th>\n",
       "      <th>event_name</th>\n",
       "      <th>name</th>\n",
       "      <th>level</th>\n",
       "      <th>page</th>\n",
       "      <th>room_coor_x</th>\n",
       "      <th>room_coor_y</th>\n",
       "      <th>screen_coor_x</th>\n",
       "      <th>screen_coor_y</th>\n",
       "      <th>hover_duration</th>\n",
       "      <th>text</th>\n",
       "      <th>fqid</th>\n",
       "      <th>room_fqid</th>\n",
       "      <th>text_fqid</th>\n",
       "      <th>fullscreen</th>\n",
       "      <th>hq</th>\n",
       "      <th>music</th>\n",
       "      <th>level_group</th>\n",
       "    </tr>\n",
       "    <tr>\n",
       "      <th>index</th>\n",
       "      <th></th>\n",
       "      <th></th>\n",
       "      <th></th>\n",
       "      <th></th>\n",
       "      <th></th>\n",
       "      <th></th>\n",
       "      <th></th>\n",
       "      <th></th>\n",
       "      <th></th>\n",
       "      <th></th>\n",
       "      <th></th>\n",
       "      <th></th>\n",
       "      <th></th>\n",
       "      <th></th>\n",
       "      <th></th>\n",
       "      <th></th>\n",
       "      <th></th>\n",
       "      <th></th>\n",
       "      <th></th>\n",
       "    </tr>\n",
       "  </thead>\n",
       "  <tbody>\n",
       "    <tr>\n",
       "      <th>146</th>\n",
       "      <td>20090312431273200</td>\n",
       "      <td>152721</td>\n",
       "      <td>notification_click</td>\n",
       "      <td>basic</td>\n",
       "      <td>3</td>\n",
       "      <td>NaN</td>\n",
       "      <td>523.732308</td>\n",
       "      <td>-112.0</td>\n",
       "      <td>534.0</td>\n",
       "      <td>442.0</td>\n",
       "      <td>NaN</td>\n",
       "      <td>The slip is from 1916 but the team didn't star...</td>\n",
       "      <td>NaN</td>\n",
       "      <td>tunic.kohlcenter.halloffame</td>\n",
       "      <td>tunic.kohlcenter.halloffame.plaque.face.date</td>\n",
       "      <td>NaN</td>\n",
       "      <td>NaN</td>\n",
       "      <td>NaN</td>\n",
       "      <td>0-4</td>\n",
       "    </tr>\n",
       "    <tr>\n",
       "      <th>122</th>\n",
       "      <td>20090312433251036</td>\n",
       "      <td>181962</td>\n",
       "      <td>notification_click</td>\n",
       "      <td>basic</td>\n",
       "      <td>3</td>\n",
       "      <td>NaN</td>\n",
       "      <td>269.732329</td>\n",
       "      <td>-267.0</td>\n",
       "      <td>280.0</td>\n",
       "      <td>597.0</td>\n",
       "      <td>NaN</td>\n",
       "      <td>The slip is from 1916 but the team didn't star...</td>\n",
       "      <td>NaN</td>\n",
       "      <td>tunic.kohlcenter.halloffame</td>\n",
       "      <td>tunic.kohlcenter.halloffame.plaque.face.date</td>\n",
       "      <td>NaN</td>\n",
       "      <td>NaN</td>\n",
       "      <td>NaN</td>\n",
       "      <td>0-4</td>\n",
       "    </tr>\n",
       "  </tbody>\n",
       "</table>\n",
       "</div>"
      ],
      "text/plain": [
       "              session_id  elapsed_time          event_name   name  level  \\\n",
       "index                                                                      \n",
       "146    20090312431273200        152721  notification_click  basic      3   \n",
       "122    20090312433251036        181962  notification_click  basic      3   \n",
       "\n",
       "       page  room_coor_x  room_coor_y  screen_coor_x  screen_coor_y  \\\n",
       "index                                                                 \n",
       "146     NaN   523.732308       -112.0          534.0          442.0   \n",
       "122     NaN   269.732329       -267.0          280.0          597.0   \n",
       "\n",
       "       hover_duration                                               text fqid  \\\n",
       "index                                                                           \n",
       "146               NaN  The slip is from 1916 but the team didn't star...  NaN   \n",
       "122               NaN  The slip is from 1916 but the team didn't star...  NaN   \n",
       "\n",
       "                         room_fqid  \\\n",
       "index                                \n",
       "146    tunic.kohlcenter.halloffame   \n",
       "122    tunic.kohlcenter.halloffame   \n",
       "\n",
       "                                          text_fqid  fullscreen  hq  music  \\\n",
       "index                                                                        \n",
       "146    tunic.kohlcenter.halloffame.plaque.face.date         NaN NaN    NaN   \n",
       "122    tunic.kohlcenter.halloffame.plaque.face.date         NaN NaN    NaN   \n",
       "\n",
       "      level_group  \n",
       "index              \n",
       "146           0-4  \n",
       "122           0-4  "
      ]
     },
     "execution_count": 36,
     "metadata": {},
     "output_type": "execute_result"
    }
   ],
   "source": [
    "df_source[df_source['text'] == 'The slip is from 1916 but the team didn\\'t start until 1974!'].head(2)"
   ]
  },
  {
   "cell_type": "code",
   "execution_count": 37,
   "metadata": {},
   "outputs": [
    {
     "data": {
      "text/html": [
       "<div>\n",
       "<style scoped>\n",
       "    .dataframe tbody tr th:only-of-type {\n",
       "        vertical-align: middle;\n",
       "    }\n",
       "\n",
       "    .dataframe tbody tr th {\n",
       "        vertical-align: top;\n",
       "    }\n",
       "\n",
       "    .dataframe thead th {\n",
       "        text-align: right;\n",
       "    }\n",
       "</style>\n",
       "<table border=\"1\" class=\"dataframe\">\n",
       "  <thead>\n",
       "    <tr style=\"text-align: right;\">\n",
       "      <th></th>\n",
       "      <th>session_id</th>\n",
       "      <th>level_group</th>\n",
       "      <th>fqid_level</th>\n",
       "    </tr>\n",
       "  </thead>\n",
       "  <tbody>\n",
       "    <tr>\n",
       "      <th>0</th>\n",
       "      <td>20090312431273200</td>\n",
       "      <td>0-4</td>\n",
       "      <td>42</td>\n",
       "    </tr>\n",
       "    <tr>\n",
       "      <th>1</th>\n",
       "      <td>20090312431273200</td>\n",
       "      <td>13-22</td>\n",
       "      <td>88</td>\n",
       "    </tr>\n",
       "    <tr>\n",
       "      <th>2</th>\n",
       "      <td>20090312431273200</td>\n",
       "      <td>5-12</td>\n",
       "      <td>72</td>\n",
       "    </tr>\n",
       "    <tr>\n",
       "      <th>3</th>\n",
       "      <td>20090312433251036</td>\n",
       "      <td>0-4</td>\n",
       "      <td>30</td>\n",
       "    </tr>\n",
       "    <tr>\n",
       "      <th>4</th>\n",
       "      <td>20090312433251036</td>\n",
       "      <td>13-22</td>\n",
       "      <td>142</td>\n",
       "    </tr>\n",
       "    <tr>\n",
       "      <th>...</th>\n",
       "      <td>...</td>\n",
       "      <td>...</td>\n",
       "      <td>...</td>\n",
       "    </tr>\n",
       "    <tr>\n",
       "      <th>35332</th>\n",
       "      <td>22100219442786200</td>\n",
       "      <td>13-22</td>\n",
       "      <td>91</td>\n",
       "    </tr>\n",
       "    <tr>\n",
       "      <th>35333</th>\n",
       "      <td>22100219442786200</td>\n",
       "      <td>5-12</td>\n",
       "      <td>70</td>\n",
       "    </tr>\n",
       "    <tr>\n",
       "      <th>35334</th>\n",
       "      <td>22100221145014656</td>\n",
       "      <td>0-4</td>\n",
       "      <td>37</td>\n",
       "    </tr>\n",
       "    <tr>\n",
       "      <th>35335</th>\n",
       "      <td>22100221145014656</td>\n",
       "      <td>13-22</td>\n",
       "      <td>121</td>\n",
       "    </tr>\n",
       "    <tr>\n",
       "      <th>35336</th>\n",
       "      <td>22100221145014656</td>\n",
       "      <td>5-12</td>\n",
       "      <td>77</td>\n",
       "    </tr>\n",
       "  </tbody>\n",
       "</table>\n",
       "<p>35337 rows × 3 columns</p>\n",
       "</div>"
      ],
      "text/plain": [
       "              session_id level_group  fqid_level\n",
       "0      20090312431273200         0-4          42\n",
       "1      20090312431273200       13-22          88\n",
       "2      20090312431273200        5-12          72\n",
       "3      20090312433251036         0-4          30\n",
       "4      20090312433251036       13-22         142\n",
       "...                  ...         ...         ...\n",
       "35332  22100219442786200       13-22          91\n",
       "35333  22100219442786200        5-12          70\n",
       "35334  22100221145014656         0-4          37\n",
       "35335  22100221145014656       13-22         121\n",
       "35336  22100221145014656        5-12          77\n",
       "\n",
       "[35337 rows x 3 columns]"
      ]
     },
     "metadata": {},
     "output_type": "display_data"
    }
   ],
   "source": [
    "df_group = df_source \\\n",
    "    .assign(fqid_level=df_source['fqid'].astype(str) + '_' + df_source['level'].astype(str)) \\\n",
    "    .groupby(['session_id', 'level_group']) \\\n",
    "    .agg({'fqid_level': 'nunique'}) \\\n",
    "    .reset_index()\n",
    "\n",
    "display(df_group)\n"
   ]
  },
  {
   "cell_type": "code",
   "execution_count": 38,
   "metadata": {},
   "outputs": [
    {
     "name": "stdout",
     "output_type": "stream",
     "text": [
      "level_group: 0-4\n"
     ]
    },
    {
     "data": {
      "text/plain": [
       "count    11779.000000\n",
       "mean        33.099414\n",
       "std          3.677787\n",
       "min         25.000000\n",
       "25%         30.000000\n",
       "50%         32.000000\n",
       "75%         35.000000\n",
       "max         56.000000\n",
       "Name: fqid_level, dtype: float64"
      ]
     },
     "metadata": {},
     "output_type": "display_data"
    },
    {
     "name": "stdout",
     "output_type": "stream",
     "text": [
      "level_group: 5-12\n"
     ]
    },
    {
     "data": {
      "text/plain": [
       "count    11779.000000\n",
       "mean        75.608371\n",
       "std          7.708821\n",
       "min         54.000000\n",
       "25%         70.000000\n",
       "50%         74.000000\n",
       "75%         79.000000\n",
       "max        128.000000\n",
       "Name: fqid_level, dtype: float64"
      ]
     },
     "metadata": {},
     "output_type": "display_data"
    },
    {
     "name": "stdout",
     "output_type": "stream",
     "text": [
      "level_group: 13-22\n"
     ]
    },
    {
     "data": {
      "text/plain": [
       "count    11779.000000\n",
       "mean        99.607097\n",
       "std         12.937890\n",
       "min         71.000000\n",
       "25%         91.000000\n",
       "50%         97.000000\n",
       "75%        105.000000\n",
       "max        208.000000\n",
       "Name: fqid_level, dtype: float64"
      ]
     },
     "metadata": {},
     "output_type": "display_data"
    }
   ],
   "source": [
    "for level_group in df_source.level_group.unique():\n",
    "    df_group_level = df_group.query('level_group == @level_group')\n",
    "\n",
    "    print('level_group:', level_group)\n",
    "    display(df_group_level.fqid_level.describe())"
   ]
  },
  {
   "attachments": {},
   "cell_type": "markdown",
   "metadata": {},
   "source": [
    "## Bring Some Sanity"
   ]
  },
  {
   "cell_type": "code",
   "execution_count": 39,
   "metadata": {},
   "outputs": [
    {
     "name": "stdout",
     "output_type": "stream",
     "text": [
      "uint8\n"
     ]
    },
    {
     "data": {
      "image/png": "[encoded data removed]",
      "text/plain": [
       "<Figure size 640x480 with 1 Axes>"
      ]
     },
     "metadata": {},
     "output_type": "display_data"
    }
   ],
   "source": [
    "def create_room_heatmap(data: pd.DataFrame, fqid: str, level: int, \n",
    "                        bins:int = 10):\n",
    "                        \n",
    "    # select the data point to plot\n",
    "    df_plot = data.query('fqid in @fqid and level == @level and event_name != \"navigate_click\"')\n",
    "    df_plot = df_plot[['room_coor_x', 'room_coor_y']].dropna()    \n",
    "\n",
    "    if (df_plot.shape[0] == 0):\n",
    "        return np.zeros((bins, bins), dtype=np.uint8)\n",
    "\n",
    "    # normalize the data points\n",
    "    normalized_x = (df_plot.room_coor_x - (-1992.3545688360275)) / (1261.7737454550663 - (-1992.3545688360275))\n",
    "    normalized_y = (df_plot.room_coor_y - (-918.1586870421452)) / (543.616424379599 - (-918.1586870421452))    \n",
    "\n",
    "    # create the heatmap\n",
    "    heatmap, xedges, yedges = np.histogram2d(\n",
    "        x=normalized_y, \n",
    "        y=normalized_x, \n",
    "        bins=bins)\n",
    "    \n",
    "    # Apply logarithmic transformation\n",
    "    heatmap = np.log(heatmap + 1)\n",
    "\n",
    "    # Normalize the heatmap\n",
    "    normalized_heatmap = (heatmap - np.min(heatmap)) / (np.max(heatmap) - np.min(heatmap))\n",
    "\n",
    "    # Scale the heatmap to the range 0-255\n",
    "    scaled_heatmap = (normalized_heatmap * 255).astype(np.uint8)\n",
    "\n",
    "    return scaled_heatmap\n",
    "    \n",
    "# test the function\n",
    "heatmap = create_room_heatmap(df_source, 'directory', 15)\n",
    "print(heatmap.dtype)\n",
    "plt.imshow(heatmap, cmap='hot', origin='lower')\n",
    "plt.axis('off')\n",
    "plt.show()"
   ]
  },
  {
   "attachments": {},
   "cell_type": "markdown",
   "metadata": {},
   "source": [
    "### Create Session Heatmaps\n",
    "\n",
    "Tes creating a heatmap for each unique fqid and level."
   ]
  },
  {
   "cell_type": "code",
   "execution_count": 40,
   "metadata": {},
   "outputs": [
    {
     "data": {
      "text/html": [
       "<div>\n",
       "<style scoped>\n",
       "    .dataframe tbody tr th:only-of-type {\n",
       "        vertical-align: middle;\n",
       "    }\n",
       "\n",
       "    .dataframe tbody tr th {\n",
       "        vertical-align: top;\n",
       "    }\n",
       "\n",
       "    .dataframe thead th {\n",
       "        text-align: right;\n",
       "    }\n",
       "</style>\n",
       "<table border=\"1\" class=\"dataframe\">\n",
       "  <thead>\n",
       "    <tr style=\"text-align: right;\">\n",
       "      <th></th>\n",
       "      <th>level_group</th>\n",
       "      <th>fqid</th>\n",
       "      <th>level</th>\n",
       "      <th>session_id</th>\n",
       "    </tr>\n",
       "  </thead>\n",
       "  <tbody>\n",
       "    <tr>\n",
       "      <th>6</th>\n",
       "      <td>0-4</td>\n",
       "      <td>chap1_finale_c</td>\n",
       "      <td>4</td>\n",
       "      <td>11779</td>\n",
       "    </tr>\n",
       "    <tr>\n",
       "      <th>7</th>\n",
       "      <td>0-4</td>\n",
       "      <td>cs</td>\n",
       "      <td>2</td>\n",
       "      <td>11779</td>\n",
       "    </tr>\n",
       "    <tr>\n",
       "      <th>12</th>\n",
       "      <td>0-4</td>\n",
       "      <td>gramps</td>\n",
       "      <td>0</td>\n",
       "      <td>11773</td>\n",
       "    </tr>\n",
       "    <tr>\n",
       "      <th>14</th>\n",
       "      <td>0-4</td>\n",
       "      <td>gramps</td>\n",
       "      <td>2</td>\n",
       "      <td>11779</td>\n",
       "    </tr>\n",
       "    <tr>\n",
       "      <th>16</th>\n",
       "      <td>0-4</td>\n",
       "      <td>groupconvo</td>\n",
       "      <td>1</td>\n",
       "      <td>11779</td>\n",
       "    </tr>\n",
       "    <tr>\n",
       "      <th>...</th>\n",
       "      <td>...</td>\n",
       "      <td>...</td>\n",
       "      <td>...</td>\n",
       "      <td>...</td>\n",
       "    </tr>\n",
       "    <tr>\n",
       "      <th>740</th>\n",
       "      <td>5-12</td>\n",
       "      <td>what_happened</td>\n",
       "      <td>5</td>\n",
       "      <td>11779</td>\n",
       "    </tr>\n",
       "    <tr>\n",
       "      <th>741</th>\n",
       "      <td>5-12</td>\n",
       "      <td>worker</td>\n",
       "      <td>7</td>\n",
       "      <td>11778</td>\n",
       "    </tr>\n",
       "    <tr>\n",
       "      <th>742</th>\n",
       "      <td>5-12</td>\n",
       "      <td>worker</td>\n",
       "      <td>8</td>\n",
       "      <td>11779</td>\n",
       "    </tr>\n",
       "    <tr>\n",
       "      <th>743</th>\n",
       "      <td>5-12</td>\n",
       "      <td>worker</td>\n",
       "      <td>9</td>\n",
       "      <td>11779</td>\n",
       "    </tr>\n",
       "    <tr>\n",
       "      <th>744</th>\n",
       "      <td>5-12</td>\n",
       "      <td>worker</td>\n",
       "      <td>10</td>\n",
       "      <td>11779</td>\n",
       "    </tr>\n",
       "  </tbody>\n",
       "</table>\n",
       "<p>118 rows × 4 columns</p>\n",
       "</div>"
      ],
      "text/plain": [
       "    level_group            fqid  level  session_id\n",
       "6           0-4  chap1_finale_c      4       11779\n",
       "7           0-4              cs      2       11779\n",
       "12          0-4          gramps      0       11773\n",
       "14          0-4          gramps      2       11779\n",
       "16          0-4      groupconvo      1       11779\n",
       "..          ...             ...    ...         ...\n",
       "740        5-12   what_happened      5       11779\n",
       "741        5-12          worker      7       11778\n",
       "742        5-12          worker      8       11779\n",
       "743        5-12          worker      9       11779\n",
       "744        5-12          worker     10       11779\n",
       "\n",
       "[118 rows x 4 columns]"
      ]
     },
     "metadata": {},
     "output_type": "display_data"
    }
   ],
   "source": [
    "# get a list of the unique combinations for each level group\n",
    "df_combinations = df_source \\\n",
    "    .query('event_name != \"navigate_click\"') \\\n",
    "    .groupby(['level_group', 'fqid', 'level']) \\\n",
    "    .agg({'session_id': 'nunique'}) \\\n",
    "    .reset_index() \\\n",
    "    .loc[lambda x: x['session_id'] > 5000]\n",
    "\n",
    "display(df_combinations)"
   ]
  },
  {
   "cell_type": "code",
   "execution_count": 41,
   "metadata": {},
   "outputs": [
    {
     "name": "stdout",
     "output_type": "stream",
     "text": [
      "level_group: 0-4\n",
      "number of combinations: 17\n"
     ]
    },
    {
     "data": {
      "image/png": "[encoded data removed]",
      "text/plain": [
       "<Figure size 640x480 with 1 Axes>"
      ]
     },
     "metadata": {},
     "output_type": "display_data"
    }
   ],
   "source": [
    "for level_group in df_source.level_group.unique():\n",
    "    df_group_level = df_combinations \\\n",
    "        .drop(columns=['session_id']) \\\n",
    "        .query('level_group == @level_group') \\\n",
    "        .drop_duplicates() \\\n",
    "        .reset_index(drop=True)\n",
    "\n",
    "    print('level_group:', level_group)\n",
    "    print('number of combinations:', df_group_level.shape[0])\n",
    "\n",
    "    # create a heatmap for each combination\n",
    "    for i, row in df_group_level.iterrows():\n",
    "        fqid = row.fqid\n",
    "        level = row.level\n",
    "        heatmap = create_room_heatmap(df_source, fqid, level)\n",
    "        \n",
    "        plt.imshow(heatmap, cmap='hot', origin='lower')\n",
    "        plt.axis('off')\n",
    "        plt.title(fqid + ' ' + str(level))\n",
    "        plt.show()\n",
    "\n",
    "        break\n",
    "\n",
    "    break"
   ]
  },
  {
   "cell_type": "markdown",
   "metadata": {},
   "source": [
    "## Pre-process Data"
   ]
  },
  {
   "cell_type": "markdown",
   "metadata": {},
   "source": [
    "### Perform Pre-Processing"
   ]
  },
  {
   "cell_type": "code",
   "execution_count": 42,
   "metadata": {},
   "outputs": [
    {
     "name": "stdout",
     "output_type": "stream",
     "text": [
      "(13173445, 13)\n"
     ]
    },
    {
     "data": {
      "text/html": [
       "<div>\n",
       "<style scoped>\n",
       "    .dataframe tbody tr th:only-of-type {\n",
       "        vertical-align: middle;\n",
       "    }\n",
       "\n",
       "    .dataframe tbody tr th {\n",
       "        vertical-align: top;\n",
       "    }\n",
       "\n",
       "    .dataframe thead th {\n",
       "        text-align: right;\n",
       "    }\n",
       "</style>\n",
       "<table border=\"1\" class=\"dataframe\">\n",
       "  <thead>\n",
       "    <tr style=\"text-align: right;\">\n",
       "      <th></th>\n",
       "      <th>session_id</th>\n",
       "      <th>elapsed_time</th>\n",
       "      <th>event_name</th>\n",
       "      <th>name</th>\n",
       "      <th>level</th>\n",
       "      <th>room_coor_x</th>\n",
       "      <th>room_coor_y</th>\n",
       "      <th>screen_coor_x</th>\n",
       "      <th>screen_coor_y</th>\n",
       "      <th>fqid</th>\n",
       "      <th>room_fqid</th>\n",
       "      <th>text_fqid</th>\n",
       "      <th>level_group</th>\n",
       "    </tr>\n",
       "  </thead>\n",
       "  <tbody>\n",
       "    <tr>\n",
       "      <th>0</th>\n",
       "      <td>20090312431273200</td>\n",
       "      <td>0</td>\n",
       "      <td>cutscene_click</td>\n",
       "      <td>basic</td>\n",
       "      <td>0</td>\n",
       "      <td>-413.991405</td>\n",
       "      <td>-159.314686</td>\n",
       "      <td>380.0</td>\n",
       "      <td>494.0</td>\n",
       "      <td>intro</td>\n",
       "      <td>tunic.historicalsociety.closet</td>\n",
       "      <td>tunic.historicalsociety.closet.intro</td>\n",
       "      <td>0-4</td>\n",
       "    </tr>\n",
       "    <tr>\n",
       "      <th>1</th>\n",
       "      <td>20090312431273200</td>\n",
       "      <td>1323</td>\n",
       "      <td>person_click</td>\n",
       "      <td>basic</td>\n",
       "      <td>0</td>\n",
       "      <td>-413.991405</td>\n",
       "      <td>-159.314686</td>\n",
       "      <td>380.0</td>\n",
       "      <td>494.0</td>\n",
       "      <td>gramps</td>\n",
       "      <td>tunic.historicalsociety.closet</td>\n",
       "      <td>tunic.historicalsociety.closet.gramps.intro_0_...</td>\n",
       "      <td>0-4</td>\n",
       "    </tr>\n",
       "    <tr>\n",
       "      <th>2</th>\n",
       "      <td>20090312431273200</td>\n",
       "      <td>831</td>\n",
       "      <td>person_click</td>\n",
       "      <td>basic</td>\n",
       "      <td>0</td>\n",
       "      <td>-413.991405</td>\n",
       "      <td>-159.314686</td>\n",
       "      <td>380.0</td>\n",
       "      <td>494.0</td>\n",
       "      <td>gramps</td>\n",
       "      <td>tunic.historicalsociety.closet</td>\n",
       "      <td>tunic.historicalsociety.closet.gramps.intro_0_...</td>\n",
       "      <td>0-4</td>\n",
       "    </tr>\n",
       "  </tbody>\n",
       "</table>\n",
       "</div>"
      ],
      "text/plain": [
       "          session_id  elapsed_time      event_name   name  level  room_coor_x  \\\n",
       "0  20090312431273200             0  cutscene_click  basic      0  -413.991405   \n",
       "1  20090312431273200          1323    person_click  basic      0  -413.991405   \n",
       "2  20090312431273200           831    person_click  basic      0  -413.991405   \n",
       "\n",
       "   room_coor_y  screen_coor_x  screen_coor_y    fqid  \\\n",
       "0  -159.314686          380.0          494.0   intro   \n",
       "1  -159.314686          380.0          494.0  gramps   \n",
       "2  -159.314686          380.0          494.0  gramps   \n",
       "\n",
       "                        room_fqid  \\\n",
       "0  tunic.historicalsociety.closet   \n",
       "1  tunic.historicalsociety.closet   \n",
       "2  tunic.historicalsociety.closet   \n",
       "\n",
       "                                           text_fqid level_group  \n",
       "0               tunic.historicalsociety.closet.intro         0-4  \n",
       "1  tunic.historicalsociety.closet.gramps.intro_0_...         0-4  \n",
       "2  tunic.historicalsociety.closet.gramps.intro_0_...         0-4  "
      ]
     },
     "metadata": {},
     "output_type": "display_data"
    }
   ],
   "source": [
    "# prepare the main dataset\n",
    "df_source = prepare_main_dataset(df_source)\n",
    "\n",
    "with pd.option_context('display.max_columns', None):\n",
    "    print(df_source.shape)\n",
    "    display(df_source.head(3))  "
   ]
  },
  {
   "cell_type": "code",
   "execution_count": 43,
   "metadata": {},
   "outputs": [
    {
     "data": {
      "text/html": [
       "<div>\n",
       "<style scoped>\n",
       "    .dataframe tbody tr th:only-of-type {\n",
       "        vertical-align: middle;\n",
       "    }\n",
       "\n",
       "    .dataframe tbody tr th {\n",
       "        vertical-align: top;\n",
       "    }\n",
       "\n",
       "    .dataframe thead th {\n",
       "        text-align: right;\n",
       "    }\n",
       "</style>\n",
       "<table border=\"1\" class=\"dataframe\">\n",
       "  <thead>\n",
       "    <tr style=\"text-align: right;\">\n",
       "      <th></th>\n",
       "      <th>session_id</th>\n",
       "      <th>question_num</th>\n",
       "      <th>correct</th>\n",
       "      <th>level_group</th>\n",
       "    </tr>\n",
       "  </thead>\n",
       "  <tbody>\n",
       "    <tr>\n",
       "      <th>21476</th>\n",
       "      <td>22010116250792520</td>\n",
       "      <td>2</td>\n",
       "      <td>1</td>\n",
       "      <td>0-4</td>\n",
       "    </tr>\n",
       "    <tr>\n",
       "      <th>84068</th>\n",
       "      <td>21000111433937450</td>\n",
       "      <td>8</td>\n",
       "      <td>1</td>\n",
       "      <td>5-12</td>\n",
       "    </tr>\n",
       "    <tr>\n",
       "      <th>171219</th>\n",
       "      <td>21040510125933256</td>\n",
       "      <td>15</td>\n",
       "      <td>0</td>\n",
       "      <td>13-22</td>\n",
       "    </tr>\n",
       "  </tbody>\n",
       "</table>\n",
       "</div>"
      ],
      "text/plain": [
       "               session_id  question_num  correct level_group\n",
       "21476   22010116250792520             2        1         0-4\n",
       "84068   21000111433937450             8        1        5-12\n",
       "171219  21040510125933256            15        0       13-22"
      ]
     },
     "metadata": {},
     "output_type": "display_data"
    }
   ],
   "source": [
    "# prepare the label dataset\n",
    "df_source_labels = prepare_label_dataset(df_source_labels)\n",
    "\n",
    "with pd.option_context('display.max_columns', None):\n",
    "    display(df_source_labels.sample(n=3, random_state=51))"
   ]
  },
  {
   "cell_type": "code",
   "execution_count": 44,
   "metadata": {},
   "outputs": [
    {
     "data": {
      "text/plain": [
       "19"
      ]
     },
     "execution_count": 44,
     "metadata": {},
     "output_type": "execute_result"
    }
   ],
   "source": [
    "gc.collect()"
   ]
  },
  {
   "attachments": {},
   "cell_type": "markdown",
   "metadata": {},
   "source": [
    "## Create Dataset"
   ]
  },
  {
   "cell_type": "code",
   "execution_count": 45,
   "metadata": {},
   "outputs": [],
   "source": [
    "def create_session_heatmap_dataset(X: pd.DataFrame,\n",
    "                                   y: pd.DataFrame,\n",
    "                                   level_group: str,\n",
    "                                   df_combinations: pd.DataFrame,\n",
    "                                   pbar: tqdm,\n",
    "                                   session_list: list):\n",
    "    \n",
    "    #logging.info('create_session_heatmap_dataset')\n",
    "    X_features = []\n",
    "    y_dataset = []\n",
    "    \n",
    "    for session_id in session_list:\n",
    "        # get the data for the session\n",
    "        df_session_labels = y.query('session_id == @session_id and level_group == @level_group')\n",
    "        df_session = X.query('session_id == @session_id and level_group == @level_group')\n",
    "\n",
    "        # create the answer array\n",
    "        index_offset = 0\n",
    "        answer_array = []\n",
    "        if (level_group == '0-4'):\n",
    "            index_offset = 1\n",
    "            answer_array = np.zeros(3)\n",
    "        elif (level_group == '5-12'):\n",
    "            index_offset = 4\n",
    "            answer_array = np.zeros(10)\n",
    "        elif (level_group == '13-22'):\n",
    "            index_offset = 14\n",
    "            answer_array = np.zeros(5)\n",
    "        else:\n",
    "            raise ValueError('level_group not supported')\n",
    "\n",
    "        # iterate over all the questions answered in the session\n",
    "        heatmap_array = []\n",
    "        for _, row in df_session_labels.iterrows():\n",
    "            question_number = row['question_num']\n",
    "            correct = row['correct']\n",
    "\n",
    "            # update the answer array\n",
    "            answer_array[question_number - index_offset] = correct\n",
    "\n",
    "        # iterate over all the combinations\n",
    "        for i, row in df_combinations.iterrows():\n",
    "            fqid = row.fqid\n",
    "            level = row.level\n",
    "\n",
    "            heatmap_array.append(create_room_heatmap(df_session, fqid, level))\n",
    "\n",
    "        # add the features and labels to the dataset\n",
    "        X_features.append(heatmap_array)\n",
    "        y_dataset.append(answer_array)\n",
    "\n",
    "        # update the progress bar\n",
    "        pbar.update(1)\n",
    "\n",
    "\n",
    "    # add the features and labels to the dataset\n",
    "    return X_features, y_dataset\n"
   ]
  },
  {
   "cell_type": "code",
   "execution_count": 46,
   "metadata": {},
   "outputs": [],
   "source": [
    "# def create_heatmap_dataset(X: pd.DataFrame,\n",
    "#                            y: pd.DataFrame,\n",
    "#                            session_list: list,\n",
    "#                            level_group: str):\n",
    "\n",
    "#     X_features = []\n",
    "#     y_dataset = []\n",
    "\n",
    "#     # get the unique combinations for the level group     \n",
    "#     df_combinations = X \\\n",
    "#         .query('event_name != \"navigate_click\" and level_group == @level_group') \\\n",
    "#         .groupby(['level_group', 'fqid', 'level']) \\\n",
    "#         .agg({'session_id': 'nunique'}) \\\n",
    "#         .reset_index() \\\n",
    "#         .loc[lambda x: x['session_id'] > 5000] \\\n",
    "#         .drop(columns=['session_id']) \\\n",
    "#         .drop_duplicates() \\\n",
    "#         .reset_index(drop=True)\n",
    "    \n",
    "#     pbar = tqdm(total=len(session_list))\n",
    "\n",
    "#     # create the partial function\n",
    "#     create_session_heatmap_dataset_partial = partial(\n",
    "#         create_session_heatmap_dataset, X, y, level_group, df_combinations, pbar)\n",
    "\n",
    "#     pool_size = os.cpu_count() * 4\n",
    "#     with multiprocessing.pool.ThreadPool(processes=pool_size) as pool:\n",
    "#         session_results = pool.map(create_session_heatmap_dataset_partial, np.array_split(session_list, math.ceil(len(session_list)/pool_size) * 4))\n",
    "\n",
    "#         logging.info('Concatenating results')\n",
    "#         X_features = np.concatenate([x[0] for x in session_results], axis=0)\n",
    "#         y_dataset = np.concatenate([x[1] for x in session_results], axis=0)\n",
    "\n",
    "#     pbar.close()\n",
    "#     X_out = np.array(X_features, dtype=np.float64)\n",
    "#     y_out = np.array(y_dataset)\n",
    "\n",
    "#     return X_out, y_out\n",
    "\n",
    "# # test the function\n",
    "# X_out, y_out = create_heatmap_dataset(\n",
    "#     X=df_source, \n",
    "#     y=df_source_labels, \n",
    "#     session_list=df_source.session_id.unique()[:30],\n",
    "#     level_group='5-12')\n",
    "\n",
    "# print(X_out.shape, y_out.shape)"
   ]
  },
  {
   "attachments": {},
   "cell_type": "markdown",
   "metadata": {},
   "source": [
    "### Old School"
   ]
  },
  {
   "cell_type": "code",
   "execution_count": 48,
   "metadata": {},
   "outputs": [
    {
     "data": {
      "application/vnd.jupyter.widget-view+json": {
       "model_id": "83811b436ac64de18da6ff974f99831f",
       "version_major": 2,
       "version_minor": 0
      },
      "text/plain": [
       "  0%|          | 0/3 [00:00<?, ?it/s]"
      ]
     },
     "metadata": {},
     "output_type": "display_data"
    },
    {
     "name": "stdout",
     "output_type": "stream",
     "text": [
      "(3, 56, 10, 10) (3, 5)\n"
     ]
    }
   ],
   "source": [
    "def create_heatmap_dataset(X: pd.DataFrame,\n",
    "                           y: pd.DataFrame,\n",
    "                           session_list: list,\n",
    "                           level_group: str):\n",
    "\n",
    "    X_features = []\n",
    "    y_dataset = []\n",
    "\n",
    "    # get the unique combinations for the level group     \n",
    "    df_combinations = X \\\n",
    "        .query('event_name != \"navigate_click\" and level_group == @level_group') \\\n",
    "        .groupby(['level_group', 'fqid', 'level']) \\\n",
    "        .agg({'session_id': 'nunique'}) \\\n",
    "        .reset_index() \\\n",
    "        .loc[lambda x: x['session_id'] > 5000] \\\n",
    "        .drop(columns=['session_id']) \\\n",
    "        .drop_duplicates() \\\n",
    "        .reset_index(drop=True)\n",
    "\n",
    "    for session_id in tqdm(session_list):\n",
    "        df_session_labels = y.query('session_id == @session_id and level_group == @level_group')\n",
    "        df_session = X.query('session_id == @session_id and level_group == @level_group')\n",
    "        \n",
    "        # create the answer array\n",
    "        index_offset = 0\n",
    "        answer_array = []\n",
    "        if (level_group == '0-4'):\n",
    "            index_offset = 1\n",
    "            answer_array = np.zeros(3)\n",
    "        elif (level_group == '5-12'):\n",
    "            index_offset = 4\n",
    "            answer_array = np.zeros(10)\n",
    "        elif (level_group == '13-22'):\n",
    "            index_offset = 14\n",
    "            answer_array = np.zeros(5)\n",
    "        else:\n",
    "            raise ValueError('level_group not supported')\n",
    "\n",
    "        # iterate over all the questions answered in the session\n",
    "        heatmap_array = []\n",
    "        for _, row in df_session_labels.iterrows():\n",
    "            question_number = row['question_num']\n",
    "            correct = row['correct']\n",
    "\n",
    "            # update the answer array\n",
    "            answer_array[question_number - index_offset] = correct\n",
    "\n",
    "        # iterate over all the combinations\n",
    "        for i, row in df_combinations.iterrows():\n",
    "            fqid = row.fqid\n",
    "            level = row.level\n",
    "\n",
    "            heatmap_array.append(create_room_heatmap(df_session, fqid, level))   \n",
    "    \n",
    "        # add the features and labels to the dataset\n",
    "        X_features.append(heatmap_array)\n",
    "        y_dataset.append(answer_array)\n",
    "\n",
    "    X_out = np.array(X_features, dtype=np.float64)\n",
    "    y_out = np.array(y_dataset)\n",
    "\n",
    "    return X_out, y_out\n",
    "# test the function\n",
    "X_out, y_out = create_heatmap_dataset(\n",
    "    X=df_source, \n",
    "    y=df_source_labels, \n",
    "    session_list=df_source.session_id.unique()[:3],\n",
    "    level_group='13-22')\n",
    "\n",
    "print(X_out.shape, y_out.shape)"
   ]
  },
  {
   "cell_type": "markdown",
   "metadata": {},
   "source": [
    "## Parameters"
   ]
  },
  {
   "cell_type": "code",
   "execution_count": 49,
   "metadata": {},
   "outputs": [],
   "source": [
    "random_state = 51\n",
    "sample_size = df_source_labels['session_id'].nunique()\n",
    "#sample_size = 4000\n",
    "#sample_size = 1000\n",
    "#sample_size = 500\n"
   ]
  },
  {
   "cell_type": "markdown",
   "metadata": {},
   "source": [
    "## Data Selection"
   ]
  },
  {
   "cell_type": "code",
   "execution_count": 50,
   "metadata": {},
   "outputs": [
    {
     "name": "stdout",
     "output_type": "stream",
     "text": [
      "Train: 8245\n",
      "Validation: 1767\n",
      "Test: 1767\n"
     ]
    }
   ],
   "source": [
    "train, val, test = select_sessions(\n",
    "    y=df_source_labels,\n",
    "    sample_size=sample_size,\n",
    "    random_state=random_state)"
   ]
  },
  {
   "cell_type": "markdown",
   "metadata": {},
   "source": [
    "## Create Datasets"
   ]
  },
  {
   "cell_type": "code",
   "execution_count": 51,
   "metadata": {},
   "outputs": [
    {
     "data": {
      "application/vnd.jupyter.widget-view+json": {
       "model_id": "10521151de944a29b4cbac382cfb34f1",
       "version_major": 2,
       "version_minor": 0
      },
      "text/plain": [
       "  0%|          | 0/8245 [00:00<?, ?it/s]"
      ]
     },
     "metadata": {},
     "output_type": "display_data"
    }
   ],
   "source": [
    "# create the training dataset\n",
    "X_train_5_12, y_train_5_12 = create_heatmap_dataset(\n",
    "    X=df_source, \n",
    "    y=df_source_labels, \n",
    "    session_list=train,\n",
    "    level_group='5-12',)"
   ]
  },
  {
   "cell_type": "code",
   "execution_count": null,
   "metadata": {},
   "outputs": [],
   "source": [
    "# create the validation dataset\n",
    "X_val_5_12, y_val_5_12 = create_heatmap_dataset(\n",
    "    X=df_source, \n",
    "    y=df_source_labels, \n",
    "    session_list=val,\n",
    "    level_group='5-12')"
   ]
  },
  {
   "cell_type": "code",
   "execution_count": null,
   "metadata": {},
   "outputs": [],
   "source": [
    "# create the testing dataset\n",
    "X_test_5_12, y_test_5_12 = create_heatmap_dataset(\n",
    "    X=df_source, \n",
    "    y=df_source_labels, \n",
    "    session_list=test,\n",
    "    level_group='5-12')"
   ]
  },
  {
   "cell_type": "markdown",
   "metadata": {},
   "source": [
    "## Model Training"
   ]
  },
  {
   "cell_type": "code",
   "execution_count": null,
   "metadata": {},
   "outputs": [],
   "source": [
    "model = Sequential()\n",
    "model.add(Conv2D(64, (3, 3), activation='relu', input_shape=(X_train_5_12.shape[1], X_train_5_12.shape[2], X_train_5_12.shape[3])))\n",
    "#model.add(MaxPooling2D((2, 2)))\n",
    "#model.add(Conv2D(64, (3, 3), activation='relu'))\n",
    "# model.add(MaxPooling2D((2, 2)))\n",
    "# model.add(Conv2D(128, (3, 3), activation='relu'))\n",
    "# model.add(MaxPooling2D((2, 2)))\n",
    "model.add(Flatten())\n",
    "model.add(Dense(128, activation='relu'))\n",
    "model.add(Dense(64, activation='relu'))\n",
    "model.add(Dense(y_train_5_12.shape[1], activation='sigmoid'))\n",
    "\n",
    "model.summary()"
   ]
  },
  {
   "cell_type": "code",
   "execution_count": null,
   "metadata": {},
   "outputs": [],
   "source": [
    "train_and_test_model(\n",
    "    model=model,\n",
    "    X_train=X_train_5_12,\n",
    "    y_train=y_train_5_12,\n",
    "    X_val=X_val_5_12,\n",
    "    y_val=y_val_5_12,\n",
    "    X_test=X_test_5_12,\n",
    "    y_test=y_test_5_12,\n",
    "    epochs=10,\n",
    "    batch_size=64,\n",
    "    optimizer=optimizers.Adam(lr=0.0001),\n",
    "    loss='binary_crossentropy',\n",
    "    metrics=['accuracy'])"
   ]
  },
  {
   "cell_type": "code",
   "execution_count": null,
   "metadata": {},
   "outputs": [],
   "source": [
    "model = Sequential()\n",
    "model.add(Dense(128, input_shape=(X_train_5_12.shape[1], X_train_5_12.shape[2], X_train_5_12.shape[3]), activation='relu'))\n",
    "model.add(Flatten())\n",
    "model.add(Dense(128, activation='relu'))\n",
    "model.add(Dense(64, activation='relu'))\n",
    "model.add(Dropout(0.5))\n",
    "model.add(Dense(32, activation='relu'))\n",
    "model.add(Dense(y_train_5_12.shape[1], activation='sigmoid'))\n",
    "model.summary()"
   ]
  },
  {
   "cell_type": "code",
   "execution_count": null,
   "metadata": {},
   "outputs": [],
   "source": [
    "train_and_test_model(\n",
    "    model=model,\n",
    "    X_train=X_train_5_12,\n",
    "    y_train=y_train_5_12,\n",
    "    X_val=X_val_5_12,\n",
    "    y_val=y_val_5_12,\n",
    "    X_test=X_test_5_12,\n",
    "    y_test=y_test_5_12,\n",
    "    epochs=10,\n",
    "    batch_size=64,\n",
    "    optimizer=optimizers.Adam(lr=0.0001),\n",
    "    loss='binary_crossentropy',\n",
    "    metrics=['accuracy'])"
   ]
  },
  {
   "attachments": {},
   "cell_type": "markdown",
   "metadata": {},
   "source": [
    "### This seems to be working well?"
   ]
  },
  {
   "cell_type": "code",
   "execution_count": null,
   "metadata": {},
   "outputs": [],
   "source": [
    "model = Sequential()\n",
    "model.add(Dense(128, input_shape=(X_train_5_12.shape[1], X_train_5_12.shape[2], X_train_5_12.shape[3]), activation='relu'))\n",
    "model.add(Flatten())\n",
    "model.add(Dense(64, activation='relu'))\n",
    "model.add(Dense(y_train_5_12.shape[1], activation='sigmoid'))\n",
    "model.summary()"
   ]
  },
  {
   "cell_type": "code",
   "execution_count": null,
   "metadata": {},
   "outputs": [],
   "source": [
    "train_and_test_model(\n",
    "    model=model,\n",
    "    X_train=X_train_5_12,\n",
    "    y_train=y_train_5_12,\n",
    "    X_val=X_val_5_12,\n",
    "    y_val=y_val_5_12,\n",
    "    X_test=X_test_5_12,\n",
    "    y_test=y_test_5_12,\n",
    "    epochs=10,\n",
    "    batch_size=64,\n",
    "    optimizer=optimizers.Adam(lr=0.0001),\n",
    "    loss='binary_crossentropy',\n",
    "    metrics=['accuracy'])"
   ]
  }
 ],
 "metadata": {
  "kernelspec": {
   "display_name": "dsm010",
   "language": "python",
   "name": "python3"
  },
  "language_info": {
   "codemirror_mode": {
    "name": "ipython",
    "version": 3
   },
   "file_extension": ".py",
   "mimetype": "text/x-python",
   "name": "python",
   "nbconvert_exporter": "python",
   "pygments_lexer": "ipython3",
   "version": "3.8.10"
  },
  "orig_nbformat": 4
 },
 "nbformat": 4,
 "nbformat_minor": 2
}
