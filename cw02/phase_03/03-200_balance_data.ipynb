{
 "cells": [
  {
   "attachments": {},
   "cell_type": "markdown",
   "metadata": {},
   "source": [
    "Pre-process the data by performing manual balancing the training data:\n",
    "\n",
    "1. There must be the same amount of records for each question.\n",
    "2. For each question, there must be the same amount of positive and negative records.\n",
    "\n",
    "What data to use.\n",
    "\n",
    "1. All records in the original training set prior to the data leak can be used for training and validation.\n",
    "2. The test set can use all the new data from the training set after the leak with all sessions removed that appears in original training set."
   ]
  }
 ],
 "metadata": {
  "language_info": {
   "name": "python"
  },
  "orig_nbformat": 4
 },
 "nbformat": 4,
 "nbformat_minor": 2
}
