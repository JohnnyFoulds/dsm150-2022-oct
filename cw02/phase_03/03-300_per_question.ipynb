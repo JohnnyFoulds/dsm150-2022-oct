{
 "cells": [
  {
   "attachments": {},
   "cell_type": "markdown",
   "metadata": {},
   "source": [
    "- Using the same networks from 02-04 train a separate model for each question and optimize the f1 score for each.\n",
    "- Start by focusing just on the first basic dense layer network.\n",
    "- Also start looking at the Keras hyperparameter tuning tools.\n",
    "- Experiment with k-fold cross validation."
   ]
  }
 ],
 "metadata": {
  "language_info": {
   "name": "python"
  },
  "orig_nbformat": 4
 },
 "nbformat": 4,
 "nbformat_minor": 2
}
