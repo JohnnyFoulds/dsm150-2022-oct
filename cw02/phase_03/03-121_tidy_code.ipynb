{
 "cells": [
  {
   "attachments": {},
   "cell_type": "markdown",
   "metadata": {},
   "source": [
    "# 30-121 : Tidy up the Hyperparameter code\n",
    "\n",
    "## Web References\n",
    "\n",
    "- [Getting started with KerasTuner](https://keras.io/guides/keras_tuner/getting_started/)\n",
    "- [Hyper parameter optimisation with Hyperopt and MLflow](https://www.youtube.com/watch?v=W_mJxQupJ4I)\n",
    "- [hyperopt_logistic_regression.ipynb](https://github.com/amoat7/mlflow_tutorial/blob/master/notebooks/hyperopt_logistic_regression.ipynb)"
   ]
  },
  {
   "cell_type": "code",
   "execution_count": 1,
   "metadata": {},
   "outputs": [],
   "source": [
    "%load_ext autoreload\n",
    "%autoreload 2"
   ]
  },
  {
   "cell_type": "code",
   "execution_count": 2,
   "metadata": {},
   "outputs": [
    {
     "name": "stderr",
     "output_type": "stream",
     "text": [
      "<ipython-input-2-b0e74d1bd85b>:8: DeprecationWarning: `import kerastuner` is deprecated, please use `import keras_tuner`.\n",
      "  import kerastuner as kt\n"
     ]
    }
   ],
   "source": [
    "import sys\n",
    "import logging\n",
    "from functools import partial\n",
    "\n",
    "import pandas as pd\n",
    "import tensorflow as tf\n",
    "import keras as k\n",
    "import kerastuner as kt\n",
    "\n",
    "from competition import source_data as sd\n",
    "from competition import data_preparation as dp\n",
    "from competition import feature_engineering as fe\n",
    "from competition import model_data as md\n",
    "from competition import model_training as mt\n",
    "from competition import model_layers as ml\n",
    "from competition import model_definitions as mm\n",
    "\n",
    "import mlflow\n",
    "import mlflow.keras"
   ]
  },
  {
   "cell_type": "code",
   "execution_count": 3,
   "metadata": {},
   "outputs": [
    {
     "name": "stdout",
     "output_type": "stream",
     "text": [
      "[PhysicalDevice(name='/physical_device:GPU:0', device_type='GPU')]\n"
     ]
    }
   ],
   "source": [
    "# Set the GPU memory for growth\n",
    "gpus = tf.config.experimental.list_physical_devices('GPU')\n",
    "print(gpus)\n",
    "for gpu in gpus:\n",
    "    tf.config.experimental.set_memory_growth(gpu, True)"
   ]
  },
  {
   "cell_type": "markdown",
   "metadata": {},
   "source": [
    "### Configure Logging"
   ]
  },
  {
   "cell_type": "code",
   "execution_count": 4,
   "metadata": {},
   "outputs": [
    {
     "name": "stdout",
     "output_type": "stream",
     "text": [
      "2023-03-27 02:57:41 INFO     Started\n"
     ]
    }
   ],
   "source": [
    "logging.basicConfig(\n",
    "    format='%(asctime)s %(levelname)-8s %(message)s',\n",
    "    level=logging.INFO,\n",
    "    datefmt='%Y-%m-%d %H:%M:%S',\n",
    "        handlers=[\n",
    "        logging.StreamHandler(sys.stdout)\n",
    "    ])\n",
    "\n",
    "logging.info(\"Started\")"
   ]
  },
  {
   "cell_type": "markdown",
   "metadata": {},
   "source": [
    "## Data Collection"
   ]
  },
  {
   "cell_type": "code",
   "execution_count": 5,
   "metadata": {},
   "outputs": [
    {
     "name": "stdout",
     "output_type": "stream",
     "text": [
      "(13174211, 20)\n"
     ]
    },
    {
     "data": {
      "text/html": [
       "<div>\n",
       "<style scoped>\n",
       "    .dataframe tbody tr th:only-of-type {\n",
       "        vertical-align: middle;\n",
       "    }\n",
       "\n",
       "    .dataframe tbody tr th {\n",
       "        vertical-align: top;\n",
       "    }\n",
       "\n",
       "    .dataframe thead th {\n",
       "        text-align: right;\n",
       "    }\n",
       "</style>\n",
       "<table border=\"1\" class=\"dataframe\">\n",
       "  <thead>\n",
       "    <tr style=\"text-align: right;\">\n",
       "      <th></th>\n",
       "      <th>session_id</th>\n",
       "      <th>index</th>\n",
       "      <th>elapsed_time</th>\n",
       "      <th>event_name</th>\n",
       "      <th>name</th>\n",
       "      <th>level</th>\n",
       "      <th>page</th>\n",
       "      <th>room_coor_x</th>\n",
       "      <th>room_coor_y</th>\n",
       "      <th>screen_coor_x</th>\n",
       "      <th>screen_coor_y</th>\n",
       "      <th>hover_duration</th>\n",
       "      <th>text</th>\n",
       "      <th>fqid</th>\n",
       "      <th>room_fqid</th>\n",
       "      <th>text_fqid</th>\n",
       "      <th>fullscreen</th>\n",
       "      <th>hq</th>\n",
       "      <th>music</th>\n",
       "      <th>level_group</th>\n",
       "    </tr>\n",
       "  </thead>\n",
       "  <tbody>\n",
       "    <tr>\n",
       "      <th>0</th>\n",
       "      <td>20090312431273200</td>\n",
       "      <td>0</td>\n",
       "      <td>0</td>\n",
       "      <td>cutscene_click</td>\n",
       "      <td>basic</td>\n",
       "      <td>0</td>\n",
       "      <td>NaN</td>\n",
       "      <td>-413.991394</td>\n",
       "      <td>-159.314682</td>\n",
       "      <td>380.0</td>\n",
       "      <td>494.0</td>\n",
       "      <td>NaN</td>\n",
       "      <td>undefined</td>\n",
       "      <td>intro</td>\n",
       "      <td>tunic.historicalsociety.closet</td>\n",
       "      <td>tunic.historicalsociety.closet.intro</td>\n",
       "      <td>NaN</td>\n",
       "      <td>NaN</td>\n",
       "      <td>NaN</td>\n",
       "      <td>0-4</td>\n",
       "    </tr>\n",
       "    <tr>\n",
       "      <th>1</th>\n",
       "      <td>20090312431273200</td>\n",
       "      <td>1</td>\n",
       "      <td>1323</td>\n",
       "      <td>person_click</td>\n",
       "      <td>basic</td>\n",
       "      <td>0</td>\n",
       "      <td>NaN</td>\n",
       "      <td>-413.991394</td>\n",
       "      <td>-159.314682</td>\n",
       "      <td>380.0</td>\n",
       "      <td>494.0</td>\n",
       "      <td>NaN</td>\n",
       "      <td>Whatcha doing over there, Jo?</td>\n",
       "      <td>gramps</td>\n",
       "      <td>tunic.historicalsociety.closet</td>\n",
       "      <td>tunic.historicalsociety.closet.gramps.intro_0_...</td>\n",
       "      <td>NaN</td>\n",
       "      <td>NaN</td>\n",
       "      <td>NaN</td>\n",
       "      <td>0-4</td>\n",
       "    </tr>\n",
       "    <tr>\n",
       "      <th>2</th>\n",
       "      <td>20090312431273200</td>\n",
       "      <td>2</td>\n",
       "      <td>831</td>\n",
       "      <td>person_click</td>\n",
       "      <td>basic</td>\n",
       "      <td>0</td>\n",
       "      <td>NaN</td>\n",
       "      <td>-413.991394</td>\n",
       "      <td>-159.314682</td>\n",
       "      <td>380.0</td>\n",
       "      <td>494.0</td>\n",
       "      <td>NaN</td>\n",
       "      <td>Just talking to Teddy.</td>\n",
       "      <td>gramps</td>\n",
       "      <td>tunic.historicalsociety.closet</td>\n",
       "      <td>tunic.historicalsociety.closet.gramps.intro_0_...</td>\n",
       "      <td>NaN</td>\n",
       "      <td>NaN</td>\n",
       "      <td>NaN</td>\n",
       "      <td>0-4</td>\n",
       "    </tr>\n",
       "  </tbody>\n",
       "</table>\n",
       "</div>"
      ],
      "text/plain": [
       "          session_id  index  elapsed_time      event_name   name  level page  \\\n",
       "0  20090312431273200      0             0  cutscene_click  basic      0  NaN   \n",
       "1  20090312431273200      1          1323    person_click  basic      0  NaN   \n",
       "2  20090312431273200      2           831    person_click  basic      0  NaN   \n",
       "\n",
       "   room_coor_x  room_coor_y  screen_coor_x  screen_coor_y  hover_duration  \\\n",
       "0  -413.991394  -159.314682          380.0          494.0             NaN   \n",
       "1  -413.991394  -159.314682          380.0          494.0             NaN   \n",
       "2  -413.991394  -159.314682          380.0          494.0             NaN   \n",
       "\n",
       "                            text    fqid                       room_fqid  \\\n",
       "0                      undefined   intro  tunic.historicalsociety.closet   \n",
       "1  Whatcha doing over there, Jo?  gramps  tunic.historicalsociety.closet   \n",
       "2         Just talking to Teddy.  gramps  tunic.historicalsociety.closet   \n",
       "\n",
       "                                           text_fqid fullscreen   hq music  \\\n",
       "0               tunic.historicalsociety.closet.intro        NaN  NaN   NaN   \n",
       "1  tunic.historicalsociety.closet.gramps.intro_0_...        NaN  NaN   NaN   \n",
       "2  tunic.historicalsociety.closet.gramps.intro_0_...        NaN  NaN   NaN   \n",
       "\n",
       "  level_group  \n",
       "0         0-4  \n",
       "1         0-4  \n",
       "2         0-4  "
      ]
     },
     "metadata": {},
     "output_type": "display_data"
    }
   ],
   "source": [
    "# load the source training set\n",
    "df_source = sd.read_csv('../data/train.csv.gz',\n",
    "                        compression='gzip',\n",
    "                        dtype=sd.source_dtype)"
   ]
  },
  {
   "cell_type": "code",
   "execution_count": 6,
   "metadata": {},
   "outputs": [
    {
     "name": "stdout",
     "output_type": "stream",
     "text": [
      "(212022, 2)\n"
     ]
    },
    {
     "data": {
      "text/html": [
       "<div>\n",
       "<style scoped>\n",
       "    .dataframe tbody tr th:only-of-type {\n",
       "        vertical-align: middle;\n",
       "    }\n",
       "\n",
       "    .dataframe tbody tr th {\n",
       "        vertical-align: top;\n",
       "    }\n",
       "\n",
       "    .dataframe thead th {\n",
       "        text-align: right;\n",
       "    }\n",
       "</style>\n",
       "<table border=\"1\" class=\"dataframe\">\n",
       "  <thead>\n",
       "    <tr style=\"text-align: right;\">\n",
       "      <th></th>\n",
       "      <th>session_id</th>\n",
       "      <th>correct</th>\n",
       "    </tr>\n",
       "  </thead>\n",
       "  <tbody>\n",
       "    <tr>\n",
       "      <th>0</th>\n",
       "      <td>20090312431273200_q1</td>\n",
       "      <td>1</td>\n",
       "    </tr>\n",
       "    <tr>\n",
       "      <th>1</th>\n",
       "      <td>20090312433251036_q1</td>\n",
       "      <td>0</td>\n",
       "    </tr>\n",
       "    <tr>\n",
       "      <th>2</th>\n",
       "      <td>20090314121766812_q1</td>\n",
       "      <td>1</td>\n",
       "    </tr>\n",
       "  </tbody>\n",
       "</table>\n",
       "</div>"
      ],
      "text/plain": [
       "             session_id  correct\n",
       "0  20090312431273200_q1        1\n",
       "1  20090312433251036_q1        0\n",
       "2  20090314121766812_q1        1"
      ]
     },
     "metadata": {},
     "output_type": "display_data"
    }
   ],
   "source": [
    "# load the source training labels\n",
    "df_source_labels = sd.read_csv('../data/train_labels.csv')"
   ]
  },
  {
   "cell_type": "markdown",
   "metadata": {},
   "source": [
    "## Data Preparation & Cleaning"
   ]
  },
  {
   "cell_type": "code",
   "execution_count": 7,
   "metadata": {},
   "outputs": [],
   "source": [
    "# prepare the main dataset\n",
    "df_source = dp.prepare_main_dataset(df_source,\n",
    "                                    elapsed_time_min_clip=0,\n",
    "                                    elapsed_time_max_clip=3691298)\n",
    "\n",
    "# remove sessions with problems\n",
    "problem_sessions = dp.find_problem_sessions(df_source)\n",
    "df_source = df_source[~df_source['session_id'].isin(problem_sessions)]"
   ]
  },
  {
   "cell_type": "code",
   "execution_count": 8,
   "metadata": {},
   "outputs": [],
   "source": [
    "# prepare the label dataset\n",
    "df_source_labels = dp.prepare_label_dataset(df_source_labels)\n",
    "\n",
    "# remove sessions with problems\n",
    "df_source_labels = df_source_labels[~df_source_labels['session_id'].isin(problem_sessions)]"
   ]
  },
  {
   "cell_type": "markdown",
   "metadata": {},
   "source": [
    "## Feature Engineering"
   ]
  },
  {
   "cell_type": "code",
   "execution_count": 9,
   "metadata": {},
   "outputs": [],
   "source": [
    "# create the initial features\n",
    "df_features = fe.create_initial_features(df_source, df_source_labels)"
   ]
  },
  {
   "cell_type": "code",
   "execution_count": 10,
   "metadata": {},
   "outputs": [],
   "source": [
    "# add the feature to the features dataset\n",
    "df_features = fe.add_elapsed_time_features(\n",
    "    features=df_features,\n",
    "    X=df_source)"
   ]
  },
  {
   "cell_type": "code",
   "execution_count": 11,
   "metadata": {},
   "outputs": [],
   "source": [
    "# add the total count features to the features dataset\n",
    "df_features = fe.add_count_total_features(\n",
    "    features=df_features,\n",
    "    X=df_source)"
   ]
  },
  {
   "cell_type": "code",
   "execution_count": 12,
   "metadata": {},
   "outputs": [],
   "source": [
    "# add the unique count features to the features dataset\n",
    "df_features = fe.add_count_unique_features(\n",
    "    features=df_features,\n",
    "    X=df_source)"
   ]
  },
  {
   "cell_type": "code",
   "execution_count": 13,
   "metadata": {},
   "outputs": [],
   "source": [
    "# # add the screen heatmap feature to the features dataset\n",
    "# df_features = fe.add_screen_heatmap_feature(df_features, df_source)\n",
    "\n",
    "# with pd.option_context('display.max_columns', None):\n",
    "#     display(df_features.head(6))"
   ]
  },
  {
   "cell_type": "markdown",
   "metadata": {},
   "source": [
    "## Data Selection"
   ]
  },
  {
   "cell_type": "code",
   "execution_count": 14,
   "metadata": {},
   "outputs": [],
   "source": [
    "random_state = 51"
   ]
  },
  {
   "cell_type": "code",
   "execution_count": 15,
   "metadata": {},
   "outputs": [
    {
     "name": "stdout",
     "output_type": "stream",
     "text": [
      "Train: 3495\n",
      "Validation: 1165\n",
      "Test: 6988\n"
     ]
    }
   ],
   "source": [
    "\n",
    "# split the dataset into train, validation and test sets\n",
    "train, val, test = md.select_sessions(\n",
    "    y=df_source_labels,\n",
    "    random_state=random_state,\n",
    "    test_size=0.60,\n",
    "    train_size=0.75)"
   ]
  },
  {
   "cell_type": "markdown",
   "metadata": {},
   "source": [
    "## Model Training"
   ]
  },
  {
   "attachments": {},
   "cell_type": "markdown",
   "metadata": {},
   "source": [
    "### Create Datasets"
   ]
  },
  {
   "cell_type": "code",
   "execution_count": 16,
   "metadata": {},
   "outputs": [
    {
     "name": "stdout",
     "output_type": "stream",
     "text": [
      "2023-03-27 02:58:22 INFO     -- Creating the train dataset\n",
      "2023-03-27 02:58:22 INFO     Creating the dataset for all level groups\n"
     ]
    },
    {
     "data": {
      "application/vnd.jupyter.widget-view+json": {
       "model_id": "0670dd7216e447f7b2b9ac4449110638",
       "version_major": 2,
       "version_minor": 0
      },
      "text/plain": [
       "  0%|          | 0/62910 [00:00<?, ?it/s]"
      ]
     },
     "metadata": {},
     "output_type": "display_data"
    },
    {
     "name": "stdout",
     "output_type": "stream",
     "text": [
      "2023-03-27 02:59:07 INFO     -- Creating the val dataset\n",
      "2023-03-27 02:59:07 INFO     Creating the dataset for all level groups\n"
     ]
    },
    {
     "data": {
      "application/vnd.jupyter.widget-view+json": {
       "model_id": "4f1add7fd64f4e3ba52e39c72161ecd0",
       "version_major": 2,
       "version_minor": 0
      },
      "text/plain": [
       "  0%|          | 0/20970 [00:00<?, ?it/s]"
      ]
     },
     "metadata": {},
     "output_type": "display_data"
    },
    {
     "name": "stdout",
     "output_type": "stream",
     "text": [
      "2023-03-27 02:59:23 INFO     -- Creating the test dataset\n",
      "2023-03-27 02:59:23 INFO     Creating the dataset for all level groups\n"
     ]
    },
    {
     "data": {
      "application/vnd.jupyter.widget-view+json": {
       "model_id": "9ea858cd57a94364b582d5fd2f178dfb",
       "version_major": 2,
       "version_minor": 0
      },
      "text/plain": [
       "  0%|          | 0/125784 [00:00<?, ?it/s]"
      ]
     },
     "metadata": {},
     "output_type": "display_data"
    }
   ],
   "source": [
    "# set the feature list\n",
    "feature_list = ['elapsed_time_sum', 'elapsed_time_max', 'elapsed_time_min', 'elapsed_time_mean', 'elapsed_time_mode']\n",
    "\n",
    "# create the simple model dataset\n",
    "simple_model_dataset = md.get_feature_dataset(\n",
    "    features=df_features,\n",
    "    y=df_source_labels,\n",
    "    feature_list=feature_list,\n",
    "    train=train,\n",
    "    val=val,\n",
    "    test=test,\n",
    "    include_question=True,\n",
    "    expand_question=False)"
   ]
  },
  {
   "cell_type": "code",
   "execution_count": 17,
   "metadata": {},
   "outputs": [
    {
     "name": "stdout",
     "output_type": "stream",
     "text": [
      "simple_model_shape: 23\n",
      "output_shape 1\n"
     ]
    }
   ],
   "source": [
    "# define the simple model input shape\n",
    "input_data = simple_model_dataset['train']['X']\n",
    "simple_model_shape = input_data.shape[1]\n",
    "print('simple_model_shape:', simple_model_shape)\n",
    "\n",
    "# define the output shape\n",
    "output_data = simple_model_dataset['train']['y']\n",
    "simple_model_output_shape = 1\n",
    "print('output_shape', simple_model_output_shape)"
   ]
  },
  {
   "attachments": {},
   "cell_type": "markdown",
   "metadata": {},
   "source": [
    "### Training"
   ]
  },
  {
   "cell_type": "code",
   "execution_count": 18,
   "metadata": {},
   "outputs": [
    {
     "data": {
      "text/plain": [
       "<Experiment: artifact_location='file:///workspaces/dsm150-2022-oct/cw02/phase_03/mlruns/374822169439579470', creation_time=1679850916112, experiment_id='374822169439579470', last_update_time=1679850916112, lifecycle_stage='active', name='params_02', tags={}>"
      ]
     },
     "execution_count": 18,
     "metadata": {},
     "output_type": "execute_result"
    }
   ],
   "source": [
    "# create the experiment\n",
    "mlflow.set_experiment(\"params_02\")"
   ]
  },
  {
   "cell_type": "markdown",
   "metadata": {},
   "source": [
    "#### Simple Dense"
   ]
  },
  {
   "cell_type": "code",
   "execution_count": 19,
   "metadata": {},
   "outputs": [],
   "source": [
    "mlflow.end_run()"
   ]
  },
  {
   "cell_type": "code",
   "execution_count": 20,
   "metadata": {},
   "outputs": [
    {
     "name": "stdout",
     "output_type": "stream",
     "text": [
      "Trial 4 Complete [00h 01m 25s]\n",
      "val_accuracy: 0.7084883451461792\n",
      "\n",
      "Best val_accuracy So Far: 0.7084883451461792\n",
      "Total elapsed time: 00h 04m 04s\n",
      "2023-03-27 03:05:01 INFO     on_trial_begin\n",
      "\n",
      "Search: Running Trial #5\n",
      "\n",
      "Value             |Best Value So Far |Hyperparameter\n",
      "18                |7                 |dense_layer_count\n",
      "704               |736               |dense_units\n",
      "relu              |LeakyReLU         |dense_activation\n",
      "0.00036           |0.00043           |dense_l1_regulization\n",
      "0.0002            |0.0007            |dense_l2_regulization\n",
      "0.035             |0.045             |dense_dropout\n",
      "0.001             |0.0001            |learning_rate\n",
      "\n",
      "2023-03-27 03:05:02 INFO     Creating simple dense model\n",
      "Epoch 1/400\n",
      " 4/16 [======>.......................] - ETA: 0s - loss: 97.8035 - accuracy: 0.6216  WARNING:tensorflow:Callback method `on_train_batch_end` is slow compared to the batch time (batch time: 0.0098s vs `on_train_batch_end` time: 0.0139s). Check your callbacks.\n",
      "2023-03-27 03:05:03 WARNING  Callback method `on_train_batch_end` is slow compared to the batch time (batch time: 0.0098s vs `on_train_batch_end` time: 0.0139s). Check your callbacks.\n",
      "16/16 [==============================] - 2s 48ms/step - loss: 81.3869 - accuracy: 0.6833 - val_loss: 59.2236 - val_accuracy: 0.7085\n",
      "Epoch 2/400\n",
      "16/16 [==============================] - 0s 22ms/step - loss: 44.1289 - accuracy: 0.7051 - val_loss: 28.6417 - val_accuracy: 0.7085\n",
      "Epoch 3/400\n",
      "16/16 [==============================] - 0s 22ms/step - loss: 19.0418 - accuracy: 0.7051 - val_loss: 9.9094 - val_accuracy: 0.7085\n",
      "Epoch 4/400\n",
      "16/16 [==============================] - 0s 21ms/step - loss: 5.7034 - accuracy: 0.7051 - val_loss: 2.8529 - val_accuracy: 0.7085\n",
      "Epoch 5/400\n",
      "16/16 [==============================] - 0s 21ms/step - loss: 2.3096 - accuracy: 0.7051 - val_loss: 1.5548 - val_accuracy: 0.7085\n",
      "Epoch 6/400\n",
      "16/16 [==============================] - 0s 21ms/step - loss: 1.3614 - accuracy: 0.7051 - val_loss: 1.1582 - val_accuracy: 0.7085\n",
      "Epoch 7/400\n",
      "16/16 [==============================] - 0s 20ms/step - loss: 1.0906 - accuracy: 0.7051 - val_loss: 1.0326 - val_accuracy: 0.7085\n",
      "Epoch 8/400\n",
      "16/16 [==============================] - 0s 21ms/step - loss: 1.0144 - accuracy: 0.7051 - val_loss: 0.9945 - val_accuracy: 0.7085\n",
      "Epoch 9/400\n",
      "16/16 [==============================] - 0s 20ms/step - loss: 0.9943 - accuracy: 0.7051 - val_loss: 0.9868 - val_accuracy: 0.7085\n",
      "Epoch 10/400\n",
      "16/16 [==============================] - 0s 21ms/step - loss: 0.9889 - accuracy: 0.7051 - val_loss: 0.9843 - val_accuracy: 0.7085\n",
      "Epoch 11/400\n",
      "16/16 [==============================] - 0s 21ms/step - loss: 0.9892 - accuracy: 0.7051 - val_loss: 0.9824 - val_accuracy: 0.7085\n",
      "Epoch 12/400\n",
      "16/16 [==============================] - 0s 21ms/step - loss: 0.9875 - accuracy: 0.7051 - val_loss: 0.9870 - val_accuracy: 0.7085\n",
      "Epoch 13/400\n",
      "16/16 [==============================] - 0s 21ms/step - loss: 0.9877 - accuracy: 0.7051 - val_loss: 0.9830 - val_accuracy: 0.7085\n",
      "Epoch 14/400\n",
      "16/16 [==============================] - 0s 21ms/step - loss: 0.9884 - accuracy: 0.7051 - val_loss: 0.9834 - val_accuracy: 0.7085\n",
      "Epoch 15/400\n",
      "16/16 [==============================] - 0s 21ms/step - loss: 0.9867 - accuracy: 0.7051 - val_loss: 0.9856 - val_accuracy: 0.7085\n",
      "Epoch 16/400\n",
      "16/16 [==============================] - 0s 21ms/step - loss: 0.9875 - accuracy: 0.7051 - val_loss: 0.9864 - val_accuracy: 0.7085\n",
      "Epoch 17/400\n",
      "16/16 [==============================] - 0s 20ms/step - loss: 0.9874 - accuracy: 0.7051 - val_loss: 0.9802 - val_accuracy: 0.7085\n",
      "Epoch 18/400\n",
      "16/16 [==============================] - 0s 20ms/step - loss: 0.9874 - accuracy: 0.7051 - val_loss: 0.9850 - val_accuracy: 0.7085\n",
      "Epoch 19/400\n",
      "16/16 [==============================] - 0s 21ms/step - loss: 0.9869 - accuracy: 0.7051 - val_loss: 0.9834 - val_accuracy: 0.7085\n",
      "Epoch 20/400\n",
      "16/16 [==============================] - 0s 22ms/step - loss: 0.9868 - accuracy: 0.7051 - val_loss: 0.9795 - val_accuracy: 0.7085\n",
      "Epoch 21/400\n",
      "16/16 [==============================] - 0s 21ms/step - loss: 0.9866 - accuracy: 0.7051 - val_loss: 0.9828 - val_accuracy: 0.7085\n",
      "Epoch 22/400\n",
      "16/16 [==============================] - 0s 21ms/step - loss: 0.9856 - accuracy: 0.7051 - val_loss: 0.9829 - val_accuracy: 0.7085\n",
      "Epoch 23/400\n",
      "16/16 [==============================] - 0s 20ms/step - loss: 0.9857 - accuracy: 0.7051 - val_loss: 0.9819 - val_accuracy: 0.7085\n",
      "Epoch 24/400\n",
      "16/16 [==============================] - 0s 20ms/step - loss: 0.9855 - accuracy: 0.7051 - val_loss: 0.9833 - val_accuracy: 0.7085\n",
      "Epoch 25/400\n",
      "16/16 [==============================] - 0s 21ms/step - loss: 0.9848 - accuracy: 0.7051 - val_loss: 0.9819 - val_accuracy: 0.7085\n",
      "Epoch 26/400\n",
      "16/16 [==============================] - 0s 21ms/step - loss: 0.9857 - accuracy: 0.7051 - val_loss: 0.9798 - val_accuracy: 0.7085\n",
      "Epoch 27/400\n",
      "16/16 [==============================] - 0s 21ms/step - loss: 0.9839 - accuracy: 0.7051 - val_loss: 0.9822 - val_accuracy: 0.7085\n",
      "Epoch 28/400\n",
      "16/16 [==============================] - 0s 21ms/step - loss: 0.9852 - accuracy: 0.7051 - val_loss: 0.9790 - val_accuracy: 0.7085\n",
      "Epoch 29/400\n",
      "16/16 [==============================] - 0s 21ms/step - loss: 0.9850 - accuracy: 0.7051 - val_loss: 0.9805 - val_accuracy: 0.7085\n",
      "Epoch 30/400\n",
      "16/16 [==============================] - 0s 24ms/step - loss: 0.9843 - accuracy: 0.7051 - val_loss: 0.9791 - val_accuracy: 0.7085\n",
      "Epoch 31/400\n",
      "16/16 [==============================] - 0s 21ms/step - loss: 0.9832 - accuracy: 0.7051 - val_loss: 0.9812 - val_accuracy: 0.7085\n",
      "Epoch 32/400\n",
      "16/16 [==============================] - 0s 22ms/step - loss: 0.9832 - accuracy: 0.7051 - val_loss: 0.9782 - val_accuracy: 0.7085\n",
      "Epoch 33/400\n",
      "16/16 [==============================] - 0s 21ms/step - loss: 0.9832 - accuracy: 0.7051 - val_loss: 0.9824 - val_accuracy: 0.7085\n",
      "Epoch 34/400\n",
      "16/16 [==============================] - 0s 22ms/step - loss: 0.9825 - accuracy: 0.7051 - val_loss: 0.9795 - val_accuracy: 0.7085\n",
      "Epoch 35/400\n",
      "16/16 [==============================] - 0s 21ms/step - loss: 0.9829 - accuracy: 0.7051 - val_loss: 0.9749 - val_accuracy: 0.7085\n",
      "Epoch 36/400\n",
      "16/16 [==============================] - 0s 21ms/step - loss: 0.9812 - accuracy: 0.7051 - val_loss: 0.9788 - val_accuracy: 0.7085\n",
      "Epoch 37/400\n",
      "16/16 [==============================] - 0s 21ms/step - loss: 0.9816 - accuracy: 0.7051 - val_loss: 0.9775 - val_accuracy: 0.7085\n",
      "Epoch 38/400\n",
      "16/16 [==============================] - 0s 21ms/step - loss: 0.9813 - accuracy: 0.7051 - val_loss: 0.9745 - val_accuracy: 0.7085\n",
      "Epoch 39/400\n",
      "16/16 [==============================] - 0s 21ms/step - loss: 0.9808 - accuracy: 0.7051 - val_loss: 0.9777 - val_accuracy: 0.7085\n",
      "Epoch 40/400\n",
      "16/16 [==============================] - 0s 20ms/step - loss: 0.9808 - accuracy: 0.7051 - val_loss: 0.9768 - val_accuracy: 0.7085\n",
      "Epoch 41/400\n",
      "16/16 [==============================] - 0s 21ms/step - loss: 0.9800 - accuracy: 0.7051 - val_loss: 0.9760 - val_accuracy: 0.7085\n",
      "Epoch 42/400\n",
      "16/16 [==============================] - 0s 21ms/step - loss: 0.9794 - accuracy: 0.7051 - val_loss: 0.9788 - val_accuracy: 0.7085\n",
      "Epoch 43/400\n",
      "16/16 [==============================] - 0s 21ms/step - loss: 0.9804 - accuracy: 0.7051 - val_loss: 0.9766 - val_accuracy: 0.7085\n",
      "Epoch 44/400\n",
      "16/16 [==============================] - 0s 21ms/step - loss: 0.9800 - accuracy: 0.7051 - val_loss: 0.9745 - val_accuracy: 0.7085\n",
      "Epoch 45/400\n",
      "16/16 [==============================] - 0s 22ms/step - loss: 0.9791 - accuracy: 0.7051 - val_loss: 0.9743 - val_accuracy: 0.7085\n",
      "Epoch 46/400\n",
      "16/16 [==============================] - 0s 21ms/step - loss: 0.9787 - accuracy: 0.7051 - val_loss: 0.9758 - val_accuracy: 0.7085\n",
      "Epoch 47/400\n",
      "16/16 [==============================] - 0s 21ms/step - loss: 0.9794 - accuracy: 0.7051 - val_loss: 0.9727 - val_accuracy: 0.7085\n",
      "Epoch 48/400\n",
      "16/16 [==============================] - 0s 20ms/step - loss: 0.9783 - accuracy: 0.7051 - val_loss: 0.9753 - val_accuracy: 0.7085\n",
      "Epoch 49/400\n",
      "16/16 [==============================] - 0s 20ms/step - loss: 0.9782 - accuracy: 0.7051 - val_loss: 0.9743 - val_accuracy: 0.7085\n",
      "Epoch 50/400\n",
      "16/16 [==============================] - 0s 21ms/step - loss: 0.9782 - accuracy: 0.7051 - val_loss: 0.9735 - val_accuracy: 0.7085\n",
      "Epoch 51/400\n",
      "16/16 [==============================] - 0s 21ms/step - loss: 0.9777 - accuracy: 0.7051 - val_loss: 0.9757 - val_accuracy: 0.7085\n",
      "Epoch 52/400\n",
      "16/16 [==============================] - 0s 21ms/step - loss: 0.9773 - accuracy: 0.7051 - val_loss: 0.9735 - val_accuracy: 0.7085\n",
      "Epoch 53/400\n",
      "16/16 [==============================] - 0s 21ms/step - loss: 0.9776 - accuracy: 0.7051 - val_loss: 0.9728 - val_accuracy: 0.7085\n",
      "Epoch 54/400\n",
      "16/16 [==============================] - 0s 21ms/step - loss: 0.9770 - accuracy: 0.7051 - val_loss: 0.9737 - val_accuracy: 0.7085\n",
      "Epoch 55/400\n",
      "16/16 [==============================] - 0s 21ms/step - loss: 0.9769 - accuracy: 0.7051 - val_loss: 0.9709 - val_accuracy: 0.7085\n",
      "Epoch 56/400\n",
      "16/16 [==============================] - 0s 20ms/step - loss: 0.9767 - accuracy: 0.7051 - val_loss: 0.9713 - val_accuracy: 0.7085\n",
      "Epoch 57/400\n",
      "16/16 [==============================] - 0s 20ms/step - loss: 0.9761 - accuracy: 0.7051 - val_loss: 0.9738 - val_accuracy: 0.7085\n",
      "Epoch 58/400\n",
      "16/16 [==============================] - 0s 21ms/step - loss: 0.9766 - accuracy: 0.7051 - val_loss: 0.9737 - val_accuracy: 0.7085\n",
      "Epoch 59/400\n",
      "16/16 [==============================] - 0s 21ms/step - loss: 0.9768 - accuracy: 0.7051 - val_loss: 0.9712 - val_accuracy: 0.7085\n",
      "Epoch 60/400\n",
      "16/16 [==============================] - 0s 21ms/step - loss: 0.9755 - accuracy: 0.7051 - val_loss: 0.9739 - val_accuracy: 0.7085\n",
      "Epoch 61/400\n",
      "16/16 [==============================] - 0s 21ms/step - loss: 0.9761 - accuracy: 0.7051 - val_loss: 0.9724 - val_accuracy: 0.7085\n",
      "Epoch 62/400\n",
      "16/16 [==============================] - 0s 21ms/step - loss: 0.9760 - accuracy: 0.7051 - val_loss: 0.9697 - val_accuracy: 0.7085\n",
      "Epoch 63/400\n",
      "16/16 [==============================] - 0s 21ms/step - loss: 0.9752 - accuracy: 0.7051 - val_loss: 0.9730 - val_accuracy: 0.7085\n",
      "Epoch 64/400\n",
      "16/16 [==============================] - 0s 21ms/step - loss: 0.9761 - accuracy: 0.7051 - val_loss: 0.9729 - val_accuracy: 0.7085\n",
      "Epoch 65/400\n",
      "16/16 [==============================] - 0s 22ms/step - loss: 0.9763 - accuracy: 0.7051 - val_loss: 0.9688 - val_accuracy: 0.7085\n",
      "Epoch 66/400\n",
      "16/16 [==============================] - 0s 22ms/step - loss: 0.9751 - accuracy: 0.7051 - val_loss: 0.9709 - val_accuracy: 0.7085\n",
      "Epoch 67/400\n",
      "16/16 [==============================] - 0s 22ms/step - loss: 0.9750 - accuracy: 0.7051 - val_loss: 0.9738 - val_accuracy: 0.7085\n",
      "Epoch 68/400\n",
      "16/16 [==============================] - 0s 22ms/step - loss: 0.9754 - accuracy: 0.7051 - val_loss: 0.9709 - val_accuracy: 0.7085\n",
      "Epoch 69/400\n",
      "16/16 [==============================] - 0s 22ms/step - loss: 0.9753 - accuracy: 0.7051 - val_loss: 0.9725 - val_accuracy: 0.7085\n",
      "Epoch 70/400\n",
      "16/16 [==============================] - 0s 22ms/step - loss: 0.9750 - accuracy: 0.7051 - val_loss: 0.9710 - val_accuracy: 0.7085\n",
      "Epoch 71/400\n",
      "16/16 [==============================] - 0s 22ms/step - loss: 0.9754 - accuracy: 0.7051 - val_loss: 0.9709 - val_accuracy: 0.7085\n",
      "Epoch 72/400\n",
      "16/16 [==============================] - 0s 22ms/step - loss: 0.9747 - accuracy: 0.7051 - val_loss: 0.9719 - val_accuracy: 0.7085\n",
      "Epoch 73/400\n",
      "16/16 [==============================] - 0s 21ms/step - loss: 0.9754 - accuracy: 0.7051 - val_loss: 0.9693 - val_accuracy: 0.7085\n",
      "Epoch 74/400\n",
      "16/16 [==============================] - 0s 22ms/step - loss: 0.9749 - accuracy: 0.7051 - val_loss: 0.9707 - val_accuracy: 0.7085\n",
      "Epoch 75/400\n",
      "16/16 [==============================] - 0s 21ms/step - loss: 0.9744 - accuracy: 0.7051 - val_loss: 0.9702 - val_accuracy: 0.7085\n",
      "Epoch 76/400\n",
      "16/16 [==============================] - 0s 21ms/step - loss: 0.9746 - accuracy: 0.7051 - val_loss: 0.9706 - val_accuracy: 0.7085\n",
      "Epoch 77/400\n",
      "16/16 [==============================] - 0s 21ms/step - loss: 0.9742 - accuracy: 0.7051 - val_loss: 0.9691 - val_accuracy: 0.7085\n",
      "Epoch 78/400\n",
      "16/16 [==============================] - 0s 21ms/step - loss: 0.9737 - accuracy: 0.7051 - val_loss: 0.9744 - val_accuracy: 0.7085\n",
      "Epoch 79/400\n",
      "16/16 [==============================] - 0s 21ms/step - loss: 0.9742 - accuracy: 0.7051 - val_loss: 0.9714 - val_accuracy: 0.7085\n",
      "Epoch 80/400\n",
      "16/16 [==============================] - 0s 21ms/step - loss: 0.9744 - accuracy: 0.7051 - val_loss: 0.9658 - val_accuracy: 0.7085\n",
      "Epoch 81/400\n",
      "16/16 [==============================] - 0s 22ms/step - loss: 0.9731 - accuracy: 0.7051 - val_loss: 0.9715 - val_accuracy: 0.7085\n",
      "Epoch 82/400\n",
      "16/16 [==============================] - 0s 21ms/step - loss: 0.9739 - accuracy: 0.7051 - val_loss: 0.9694 - val_accuracy: 0.7085\n",
      "Epoch 83/400\n",
      "16/16 [==============================] - 0s 21ms/step - loss: 0.9737 - accuracy: 0.7051 - val_loss: 0.9676 - val_accuracy: 0.7085\n",
      "Epoch 84/400\n",
      "16/16 [==============================] - 0s 21ms/step - loss: 0.9730 - accuracy: 0.7051 - val_loss: 0.9695 - val_accuracy: 0.7085\n",
      "Epoch 85/400\n",
      "16/16 [==============================] - 0s 21ms/step - loss: 0.9728 - accuracy: 0.7051 - val_loss: 0.9704 - val_accuracy: 0.7085\n",
      "Epoch 86/400\n",
      "16/16 [==============================] - 0s 21ms/step - loss: 0.9726 - accuracy: 0.7051 - val_loss: 0.9679 - val_accuracy: 0.7085\n",
      "Epoch 87/400\n",
      "16/16 [==============================] - 0s 21ms/step - loss: 0.9722 - accuracy: 0.7051 - val_loss: 0.9684 - val_accuracy: 0.7085\n",
      "Epoch 88/400\n",
      "16/16 [==============================] - 0s 21ms/step - loss: 0.9724 - accuracy: 0.7051 - val_loss: 0.9713 - val_accuracy: 0.7085\n",
      "Epoch 89/400\n",
      "16/16 [==============================] - 0s 21ms/step - loss: 0.9724 - accuracy: 0.7051 - val_loss: 0.9674 - val_accuracy: 0.7085\n",
      "Epoch 90/400\n",
      "13/16 [=======================>......] - ETA: 0s - loss: 0.9723 - accuracy: 0.7043"
     ]
    }
   ],
   "source": [
    "# create the hyperparameter object\n",
    "def define_tune_parameters(hp):\n",
    "    hp.Int('dense_layer_count', min_value=1, max_value=20, step=1)\n",
    "    hp.Int('dense_units', min_value=640, max_value=1700, step=32)\n",
    "    hp.Choice('dense_activation', values=['relu', 'tanh', 'LeakyReLU', 'PReLU', 'ELU', 'Swish'])\n",
    "    hp.Float('dense_l1_regulization', min_value=0.0, max_value=0.0005, step=0.00001)\n",
    "    hp.Float('dense_l2_regulization', min_value=0.0, max_value=0.001, step=0.0001)\n",
    "    hp.Float('dense_dropout', min_value=0.005, max_value=0.1, step=0.005)\n",
    "    hp.Choice('learning_rate', [1e-2, 1e-3, 1e-4, 1e-5])\n",
    "\n",
    "# find the best model\n",
    "model = mm.tune_simple_dense_model(\n",
    "    define_tune_parameters=define_tune_parameters,\n",
    "    dataset=simple_model_dataset,\n",
    "    max_trials=2000,\n",
    "    input_shape=simple_model_shape,\n",
    "    output_shape=simple_model_output_shape,\n",
    "    dense_layer_count='dense_layer_count',\n",
    "    dense_units='dense_units',\n",
    "    dense_activation='dense_activation',\n",
    "    dense_l1_regulization='dense_l1_regulization',\n",
    "    dense_l2_regulization='dense_l2_regulization',\n",
    "    dense_dropout='dense_dropout',\n",
    "    train_epochs=400,\n",
    "    train_batch_size=4000,\n",
    "    train_optimizer=k.optimizers.Adam,\n",
    "    train_learning_rate='learning_rate',\n",
    "    train_loss='binary_crossentropy',\n",
    "    train_metrics=['accuracy'],\n",
    "    train_class_weight=None)\n",
    "\n",
    "model.summary()\n"
   ]
  }
 ],
 "metadata": {
  "kernelspec": {
   "display_name": "pycaret",
   "language": "python",
   "name": "python3"
  },
  "language_info": {
   "codemirror_mode": {
    "name": "ipython",
    "version": 3
   },
   "file_extension": ".py",
   "mimetype": "text/x-python",
   "name": "python",
   "nbconvert_exporter": "python",
   "pygments_lexer": "ipython3",
   "version": "3.8.16"
  },
  "orig_nbformat": 4,
  "vscode": {
   "interpreter": {
    "hash": "8ccd5d0ac8155e415534e4a3fa63dae6febf91ec88901d75be48b34bb32be8ae"
   }
  }
 },
 "nbformat": 4,
 "nbformat_minor": 2
}
