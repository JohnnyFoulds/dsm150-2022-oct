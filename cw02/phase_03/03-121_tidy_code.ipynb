{
 "cells": [
  {
   "attachments": {},
   "cell_type": "markdown",
   "metadata": {},
   "source": [
    "# 30-121 : Tidy up the Hyperparameter code\n",
    "\n",
    "## Web References\n",
    "\n",
    "- [Getting started with KerasTuner](https://keras.io/guides/keras_tuner/getting_started/)\n",
    "- [Hyper parameter optimisation with Hyperopt and MLflow](https://www.youtube.com/watch?v=W_mJxQupJ4I)\n",
    "- [hyperopt_logistic_regression.ipynb](https://github.com/amoat7/mlflow_tutorial/blob/master/notebooks/hyperopt_logistic_regression.ipynb)"
   ]
  },
  {
   "cell_type": "code",
   "execution_count": 1,
   "metadata": {},
   "outputs": [],
   "source": [
    "%load_ext autoreload\n",
    "%autoreload 2"
   ]
  },
  {
   "cell_type": "code",
   "execution_count": 2,
   "metadata": {},
   "outputs": [
    {
     "name": "stderr",
     "output_type": "stream",
     "text": [
      "<ipython-input-2-b0e74d1bd85b>:8: DeprecationWarning: `import kerastuner` is deprecated, please use `import keras_tuner`.\n",
      "  import kerastuner as kt\n"
     ]
    }
   ],
   "source": [
    "import sys\n",
    "import logging\n",
    "from functools import partial\n",
    "\n",
    "import pandas as pd\n",
    "import tensorflow as tf\n",
    "import keras as k\n",
    "import kerastuner as kt\n",
    "\n",
    "from competition import source_data as sd\n",
    "from competition import data_preparation as dp\n",
    "from competition import feature_engineering as fe\n",
    "from competition import model_data as md\n",
    "from competition import model_training as mt\n",
    "from competition import model_layers as ml\n",
    "from competition import model_definitions as mm\n",
    "\n",
    "import mlflow\n",
    "import mlflow.keras"
   ]
  },
  {
   "cell_type": "code",
   "execution_count": 3,
   "metadata": {},
   "outputs": [
    {
     "name": "stdout",
     "output_type": "stream",
     "text": [
      "[PhysicalDevice(name='/physical_device:GPU:0', device_type='GPU')]\n"
     ]
    }
   ],
   "source": [
    "# Set the GPU memory for growth\n",
    "gpus = tf.config.experimental.list_physical_devices('GPU')\n",
    "print(gpus)\n",
    "for gpu in gpus:\n",
    "    tf.config.experimental.set_memory_growth(gpu, True)"
   ]
  },
  {
   "cell_type": "markdown",
   "metadata": {},
   "source": [
    "### Configure Logging"
   ]
  },
  {
   "cell_type": "code",
   "execution_count": 4,
   "metadata": {},
   "outputs": [
    {
     "name": "stdout",
     "output_type": "stream",
     "text": [
      "2023-03-27 03:12:28 INFO     Started\n"
     ]
    }
   ],
   "source": [
    "logging.basicConfig(\n",
    "    format='%(asctime)s %(levelname)-8s %(message)s',\n",
    "    level=logging.INFO,\n",
    "    datefmt='%Y-%m-%d %H:%M:%S',\n",
    "        handlers=[\n",
    "        logging.StreamHandler(sys.stdout)\n",
    "    ])\n",
    "\n",
    "logging.info(\"Started\")"
   ]
  },
  {
   "cell_type": "markdown",
   "metadata": {},
   "source": [
    "## Data Collection"
   ]
  },
  {
   "cell_type": "code",
   "execution_count": 5,
   "metadata": {},
   "outputs": [
    {
     "name": "stdout",
     "output_type": "stream",
     "text": [
      "(13174211, 20)\n"
     ]
    },
    {
     "data": {
      "text/html": [
       "<div>\n",
       "<style scoped>\n",
       "    .dataframe tbody tr th:only-of-type {\n",
       "        vertical-align: middle;\n",
       "    }\n",
       "\n",
       "    .dataframe tbody tr th {\n",
       "        vertical-align: top;\n",
       "    }\n",
       "\n",
       "    .dataframe thead th {\n",
       "        text-align: right;\n",
       "    }\n",
       "</style>\n",
       "<table border=\"1\" class=\"dataframe\">\n",
       "  <thead>\n",
       "    <tr style=\"text-align: right;\">\n",
       "      <th></th>\n",
       "      <th>session_id</th>\n",
       "      <th>index</th>\n",
       "      <th>elapsed_time</th>\n",
       "      <th>event_name</th>\n",
       "      <th>name</th>\n",
       "      <th>level</th>\n",
       "      <th>page</th>\n",
       "      <th>room_coor_x</th>\n",
       "      <th>room_coor_y</th>\n",
       "      <th>screen_coor_x</th>\n",
       "      <th>screen_coor_y</th>\n",
       "      <th>hover_duration</th>\n",
       "      <th>text</th>\n",
       "      <th>fqid</th>\n",
       "      <th>room_fqid</th>\n",
       "      <th>text_fqid</th>\n",
       "      <th>fullscreen</th>\n",
       "      <th>hq</th>\n",
       "      <th>music</th>\n",
       "      <th>level_group</th>\n",
       "    </tr>\n",
       "  </thead>\n",
       "  <tbody>\n",
       "    <tr>\n",
       "      <th>0</th>\n",
       "      <td>20090312431273200</td>\n",
       "      <td>0</td>\n",
       "      <td>0</td>\n",
       "      <td>cutscene_click</td>\n",
       "      <td>basic</td>\n",
       "      <td>0</td>\n",
       "      <td>NaN</td>\n",
       "      <td>-413.991394</td>\n",
       "      <td>-159.314682</td>\n",
       "      <td>380.0</td>\n",
       "      <td>494.0</td>\n",
       "      <td>NaN</td>\n",
       "      <td>undefined</td>\n",
       "      <td>intro</td>\n",
       "      <td>tunic.historicalsociety.closet</td>\n",
       "      <td>tunic.historicalsociety.closet.intro</td>\n",
       "      <td>NaN</td>\n",
       "      <td>NaN</td>\n",
       "      <td>NaN</td>\n",
       "      <td>0-4</td>\n",
       "    </tr>\n",
       "    <tr>\n",
       "      <th>1</th>\n",
       "      <td>20090312431273200</td>\n",
       "      <td>1</td>\n",
       "      <td>1323</td>\n",
       "      <td>person_click</td>\n",
       "      <td>basic</td>\n",
       "      <td>0</td>\n",
       "      <td>NaN</td>\n",
       "      <td>-413.991394</td>\n",
       "      <td>-159.314682</td>\n",
       "      <td>380.0</td>\n",
       "      <td>494.0</td>\n",
       "      <td>NaN</td>\n",
       "      <td>Whatcha doing over there, Jo?</td>\n",
       "      <td>gramps</td>\n",
       "      <td>tunic.historicalsociety.closet</td>\n",
       "      <td>tunic.historicalsociety.closet.gramps.intro_0_...</td>\n",
       "      <td>NaN</td>\n",
       "      <td>NaN</td>\n",
       "      <td>NaN</td>\n",
       "      <td>0-4</td>\n",
       "    </tr>\n",
       "    <tr>\n",
       "      <th>2</th>\n",
       "      <td>20090312431273200</td>\n",
       "      <td>2</td>\n",
       "      <td>831</td>\n",
       "      <td>person_click</td>\n",
       "      <td>basic</td>\n",
       "      <td>0</td>\n",
       "      <td>NaN</td>\n",
       "      <td>-413.991394</td>\n",
       "      <td>-159.314682</td>\n",
       "      <td>380.0</td>\n",
       "      <td>494.0</td>\n",
       "      <td>NaN</td>\n",
       "      <td>Just talking to Teddy.</td>\n",
       "      <td>gramps</td>\n",
       "      <td>tunic.historicalsociety.closet</td>\n",
       "      <td>tunic.historicalsociety.closet.gramps.intro_0_...</td>\n",
       "      <td>NaN</td>\n",
       "      <td>NaN</td>\n",
       "      <td>NaN</td>\n",
       "      <td>0-4</td>\n",
       "    </tr>\n",
       "  </tbody>\n",
       "</table>\n",
       "</div>"
      ],
      "text/plain": [
       "          session_id  index  elapsed_time      event_name   name  level page  \\\n",
       "0  20090312431273200      0             0  cutscene_click  basic      0  NaN   \n",
       "1  20090312431273200      1          1323    person_click  basic      0  NaN   \n",
       "2  20090312431273200      2           831    person_click  basic      0  NaN   \n",
       "\n",
       "   room_coor_x  room_coor_y  screen_coor_x  screen_coor_y  hover_duration  \\\n",
       "0  -413.991394  -159.314682          380.0          494.0             NaN   \n",
       "1  -413.991394  -159.314682          380.0          494.0             NaN   \n",
       "2  -413.991394  -159.314682          380.0          494.0             NaN   \n",
       "\n",
       "                            text    fqid                       room_fqid  \\\n",
       "0                      undefined   intro  tunic.historicalsociety.closet   \n",
       "1  Whatcha doing over there, Jo?  gramps  tunic.historicalsociety.closet   \n",
       "2         Just talking to Teddy.  gramps  tunic.historicalsociety.closet   \n",
       "\n",
       "                                           text_fqid fullscreen   hq music  \\\n",
       "0               tunic.historicalsociety.closet.intro        NaN  NaN   NaN   \n",
       "1  tunic.historicalsociety.closet.gramps.intro_0_...        NaN  NaN   NaN   \n",
       "2  tunic.historicalsociety.closet.gramps.intro_0_...        NaN  NaN   NaN   \n",
       "\n",
       "  level_group  \n",
       "0         0-4  \n",
       "1         0-4  \n",
       "2         0-4  "
      ]
     },
     "metadata": {},
     "output_type": "display_data"
    }
   ],
   "source": [
    "# load the source training set\n",
    "df_source = sd.read_csv('../data/train.csv.gz',\n",
    "                        compression='gzip',\n",
    "                        dtype=sd.source_dtype)"
   ]
  },
  {
   "cell_type": "code",
   "execution_count": 6,
   "metadata": {},
   "outputs": [
    {
     "name": "stdout",
     "output_type": "stream",
     "text": [
      "(212022, 2)\n"
     ]
    },
    {
     "data": {
      "text/html": [
       "<div>\n",
       "<style scoped>\n",
       "    .dataframe tbody tr th:only-of-type {\n",
       "        vertical-align: middle;\n",
       "    }\n",
       "\n",
       "    .dataframe tbody tr th {\n",
       "        vertical-align: top;\n",
       "    }\n",
       "\n",
       "    .dataframe thead th {\n",
       "        text-align: right;\n",
       "    }\n",
       "</style>\n",
       "<table border=\"1\" class=\"dataframe\">\n",
       "  <thead>\n",
       "    <tr style=\"text-align: right;\">\n",
       "      <th></th>\n",
       "      <th>session_id</th>\n",
       "      <th>correct</th>\n",
       "    </tr>\n",
       "  </thead>\n",
       "  <tbody>\n",
       "    <tr>\n",
       "      <th>0</th>\n",
       "      <td>20090312431273200_q1</td>\n",
       "      <td>1</td>\n",
       "    </tr>\n",
       "    <tr>\n",
       "      <th>1</th>\n",
       "      <td>20090312433251036_q1</td>\n",
       "      <td>0</td>\n",
       "    </tr>\n",
       "    <tr>\n",
       "      <th>2</th>\n",
       "      <td>20090314121766812_q1</td>\n",
       "      <td>1</td>\n",
       "    </tr>\n",
       "  </tbody>\n",
       "</table>\n",
       "</div>"
      ],
      "text/plain": [
       "             session_id  correct\n",
       "0  20090312431273200_q1        1\n",
       "1  20090312433251036_q1        0\n",
       "2  20090314121766812_q1        1"
      ]
     },
     "metadata": {},
     "output_type": "display_data"
    }
   ],
   "source": [
    "# load the source training labels\n",
    "df_source_labels = sd.read_csv('../data/train_labels.csv')"
   ]
  },
  {
   "cell_type": "markdown",
   "metadata": {},
   "source": [
    "## Data Preparation & Cleaning"
   ]
  },
  {
   "cell_type": "code",
   "execution_count": 7,
   "metadata": {},
   "outputs": [],
   "source": [
    "# prepare the main dataset\n",
    "df_source = dp.prepare_main_dataset(df_source,\n",
    "                                    elapsed_time_min_clip=0,\n",
    "                                    elapsed_time_max_clip=3691298)\n",
    "\n",
    "# remove sessions with problems\n",
    "problem_sessions = dp.find_problem_sessions(df_source)\n",
    "df_source = df_source[~df_source['session_id'].isin(problem_sessions)]"
   ]
  },
  {
   "cell_type": "code",
   "execution_count": 8,
   "metadata": {},
   "outputs": [],
   "source": [
    "# prepare the label dataset\n",
    "df_source_labels = dp.prepare_label_dataset(df_source_labels)\n",
    "\n",
    "# remove sessions with problems\n",
    "df_source_labels = df_source_labels[~df_source_labels['session_id'].isin(problem_sessions)]"
   ]
  },
  {
   "cell_type": "markdown",
   "metadata": {},
   "source": [
    "## Feature Engineering"
   ]
  },
  {
   "cell_type": "code",
   "execution_count": 9,
   "metadata": {},
   "outputs": [],
   "source": [
    "# create the initial features\n",
    "df_features = fe.create_initial_features(df_source, df_source_labels)"
   ]
  },
  {
   "cell_type": "code",
   "execution_count": 10,
   "metadata": {},
   "outputs": [],
   "source": [
    "# add the feature to the features dataset\n",
    "df_features = fe.add_elapsed_time_features(\n",
    "    features=df_features,\n",
    "    X=df_source)"
   ]
  },
  {
   "cell_type": "code",
   "execution_count": 11,
   "metadata": {},
   "outputs": [],
   "source": [
    "# add the total count features to the features dataset\n",
    "df_features = fe.add_count_total_features(\n",
    "    features=df_features,\n",
    "    X=df_source)"
   ]
  },
  {
   "cell_type": "code",
   "execution_count": 12,
   "metadata": {},
   "outputs": [],
   "source": [
    "# add the unique count features to the features dataset\n",
    "df_features = fe.add_count_unique_features(\n",
    "    features=df_features,\n",
    "    X=df_source)"
   ]
  },
  {
   "cell_type": "code",
   "execution_count": 13,
   "metadata": {},
   "outputs": [],
   "source": [
    "# # add the screen heatmap feature to the features dataset\n",
    "# df_features = fe.add_screen_heatmap_feature(df_features, df_source)\n",
    "\n",
    "# with pd.option_context('display.max_columns', None):\n",
    "#     display(df_features.head(6))"
   ]
  },
  {
   "cell_type": "markdown",
   "metadata": {},
   "source": [
    "## Data Selection"
   ]
  },
  {
   "cell_type": "code",
   "execution_count": 14,
   "metadata": {},
   "outputs": [],
   "source": [
    "random_state = 51"
   ]
  },
  {
   "cell_type": "code",
   "execution_count": 15,
   "metadata": {},
   "outputs": [
    {
     "name": "stdout",
     "output_type": "stream",
     "text": [
      "Train: 3495\n",
      "Validation: 1165\n",
      "Test: 6988\n"
     ]
    }
   ],
   "source": [
    "\n",
    "# split the dataset into train, validation and test sets\n",
    "train, val, test = md.select_sessions(\n",
    "    y=df_source_labels,\n",
    "    random_state=random_state,\n",
    "    test_size=0.60,\n",
    "    train_size=0.75)"
   ]
  },
  {
   "cell_type": "markdown",
   "metadata": {},
   "source": [
    "## Model Training"
   ]
  },
  {
   "attachments": {},
   "cell_type": "markdown",
   "metadata": {},
   "source": [
    "### Create Datasets"
   ]
  },
  {
   "cell_type": "code",
   "execution_count": 16,
   "metadata": {},
   "outputs": [
    {
     "name": "stdout",
     "output_type": "stream",
     "text": [
      "2023-03-27 03:13:10 INFO     -- Creating the train dataset\n",
      "2023-03-27 03:13:10 INFO     Creating the dataset for all level groups\n"
     ]
    },
    {
     "data": {
      "application/vnd.jupyter.widget-view+json": {
       "model_id": "0f90d597c7b74c3ab41de8606d59815e",
       "version_major": 2,
       "version_minor": 0
      },
      "text/plain": [
       "  0%|          | 0/62910 [00:00<?, ?it/s]"
      ]
     },
     "metadata": {},
     "output_type": "display_data"
    },
    {
     "name": "stdout",
     "output_type": "stream",
     "text": [
      "2023-03-27 03:13:57 INFO     -- Creating the val dataset\n",
      "2023-03-27 03:13:57 INFO     Creating the dataset for all level groups\n"
     ]
    },
    {
     "data": {
      "application/vnd.jupyter.widget-view+json": {
       "model_id": "0c13813d1ccc4fb29ea622a5da9af03c",
       "version_major": 2,
       "version_minor": 0
      },
      "text/plain": [
       "  0%|          | 0/20970 [00:00<?, ?it/s]"
      ]
     },
     "metadata": {},
     "output_type": "display_data"
    },
    {
     "name": "stdout",
     "output_type": "stream",
     "text": [
      "2023-03-27 03:14:12 INFO     -- Creating the test dataset\n",
      "2023-03-27 03:14:12 INFO     Creating the dataset for all level groups\n"
     ]
    },
    {
     "data": {
      "application/vnd.jupyter.widget-view+json": {
       "model_id": "786e3298eafb47d6a7c17706824626df",
       "version_major": 2,
       "version_minor": 0
      },
      "text/plain": [
       "  0%|          | 0/125784 [00:00<?, ?it/s]"
      ]
     },
     "metadata": {},
     "output_type": "display_data"
    }
   ],
   "source": [
    "# set the feature list\n",
    "feature_list = ['elapsed_time_sum', 'elapsed_time_max', 'elapsed_time_min', 'elapsed_time_mean', 'elapsed_time_mode']\n",
    "\n",
    "# create the simple model dataset\n",
    "simple_model_dataset = md.get_feature_dataset(\n",
    "    features=df_features,\n",
    "    y=df_source_labels,\n",
    "    feature_list=feature_list,\n",
    "    train=train,\n",
    "    val=val,\n",
    "    test=test,\n",
    "    include_question=True,\n",
    "    expand_question=False)"
   ]
  },
  {
   "cell_type": "code",
   "execution_count": 17,
   "metadata": {},
   "outputs": [
    {
     "name": "stdout",
     "output_type": "stream",
     "text": [
      "simple_model_shape: 23\n",
      "output_shape 1\n"
     ]
    }
   ],
   "source": [
    "# define the simple model input shape\n",
    "input_data = simple_model_dataset['train']['X']\n",
    "simple_model_shape = input_data.shape[1]\n",
    "print('simple_model_shape:', simple_model_shape)\n",
    "\n",
    "# define the output shape\n",
    "output_data = simple_model_dataset['train']['y']\n",
    "simple_model_output_shape = 1\n",
    "print('output_shape', simple_model_output_shape)"
   ]
  },
  {
   "attachments": {},
   "cell_type": "markdown",
   "metadata": {},
   "source": [
    "### Training"
   ]
  },
  {
   "cell_type": "code",
   "execution_count": 39,
   "metadata": {},
   "outputs": [
    {
     "data": {
      "text/plain": [
       "<Experiment: artifact_location='file:///workspaces/dsm150-2022-oct/cw02/phase_03/mlruns/260316474676758529', creation_time=1679886945984, experiment_id='260316474676758529', last_update_time=1679886945984, lifecycle_stage='active', name='params_03', tags={}>"
      ]
     },
     "execution_count": 39,
     "metadata": {},
     "output_type": "execute_result"
    }
   ],
   "source": [
    "# create the experiment\n",
    "mlflow.set_experiment(\"params_03\")"
   ]
  },
  {
   "cell_type": "markdown",
   "metadata": {},
   "source": [
    "#### Simple Dense"
   ]
  },
  {
   "cell_type": "code",
   "execution_count": 41,
   "metadata": {},
   "outputs": [],
   "source": [
    "mlflow.end_run()"
   ]
  },
  {
   "cell_type": "code",
   "execution_count": 42,
   "metadata": {},
   "outputs": [
    {
     "name": "stdout",
     "output_type": "stream",
     "text": [
      "Trial 232 Complete [00h 00m 45s]\n",
      "val_accuracy: 0.7425369620323181\n",
      "\n",
      "Best val_accuracy So Far: 0.7476394772529602\n",
      "Total elapsed time: 02h 33m 27s\n",
      "2023-03-27 06:09:55 INFO     on_trial_begin\n"
     ]
    },
    {
     "name": "stdout",
     "output_type": "stream",
     "text": [
      "\n",
      "Search: Running Trial #233\n",
      "\n",
      "Value             |Best Value So Far |Hyperparameter\n",
      "16                |4                 |dense_layer_count\n",
      "1696              |1056              |dense_units\n",
      "tanh              |relu              |dense_activation\n",
      "0.00049           |2e-05             |dense_l1_regulization\n",
      "0.0002            |0.0005            |dense_l2_regulization\n",
      "0.06              |0.055             |dense_dropout\n",
      "1e-05             |0.001             |learning_rate\n",
      "\n",
      "2023-03-27 06:09:55 INFO     Creating simple dense model\n",
      "Epoch 1/50\n",
      " 6/16 [==========>...................] - ETA: 0s - loss: 450.3367 - accuracy: 0.5590WARNING:tensorflow:Callback method `on_train_batch_end` is slow compared to the batch time (batch time: 0.0270s vs `on_train_batch_end` time: 0.0462s). Check your callbacks.\n",
      "2023-03-27 06:09:57 WARNING  Callback method `on_train_batch_end` is slow compared to the batch time (batch time: 0.0270s vs `on_train_batch_end` time: 0.0462s). Check your callbacks.\n",
      "16/16 [==============================] - 3s 113ms/step - loss: 449.2865 - accuracy: 0.6359 - val_loss: 447.4262 - val_accuracy: 0.7085\n",
      "Epoch 2/50\n",
      "16/16 [==============================] - 1s 69ms/step - loss: 445.8461 - accuracy: 0.7046 - val_loss: 443.9943 - val_accuracy: 0.7085\n",
      "Epoch 3/50\n",
      "16/16 [==============================] - 1s 70ms/step - loss: 442.4208 - accuracy: 0.7049 - val_loss: 440.5763 - val_accuracy: 0.7085\n",
      "Epoch 4/50\n",
      "16/16 [==============================] - 1s 70ms/step - loss: 439.0084 - accuracy: 0.7051 - val_loss: 437.1699 - val_accuracy: 0.7085\n",
      "Epoch 5/50\n",
      "16/16 [==============================] - 1s 69ms/step - loss: 435.6072 - accuracy: 0.7055 - val_loss: 433.7731 - val_accuracy: 0.7085\n",
      "Epoch 6/50\n",
      "16/16 [==============================] - 2s 141ms/step - loss: 432.2140 - accuracy: 0.7054 - val_loss: 430.3837 - val_accuracy: 0.7087\n",
      "Epoch 7/50\n",
      "16/16 [==============================] - 2s 122ms/step - loss: 428.8289 - accuracy: 0.7063 - val_loss: 427.0029 - val_accuracy: 0.7106\n",
      "Epoch 8/50\n",
      "16/16 [==============================] - 2s 134ms/step - loss: 425.4540 - accuracy: 0.7101 - val_loss: 423.6342 - val_accuracy: 0.7172\n",
      "Epoch 9/50\n",
      "16/16 [==============================] - 2s 122ms/step - loss: 422.0926 - accuracy: 0.7240 - val_loss: 420.2816 - val_accuracy: 0.7354\n",
      "Epoch 10/50\n",
      "16/16 [==============================] - 4s 286ms/step - loss: 418.7485 - accuracy: 0.7325 - val_loss: 416.9472 - val_accuracy: 0.7357\n",
      "Epoch 11/50\n",
      "16/16 [==============================] - 1s 70ms/step - loss: 415.4225 - accuracy: 0.7335 - val_loss: 413.6307 - val_accuracy: 0.7353\n",
      "Epoch 12/50\n",
      "16/16 [==============================] - 1s 69ms/step - loss: 412.1137 - accuracy: 0.7342 - val_loss: 410.3318 - val_accuracy: 0.7357\n",
      "Epoch 13/50\n",
      "16/16 [==============================] - 2s 158ms/step - loss: 408.8230 - accuracy: 0.7343 - val_loss: 407.0496 - val_accuracy: 0.7360\n",
      "Epoch 14/50\n",
      "16/16 [==============================] - 1s 71ms/step - loss: 405.5485 - accuracy: 0.7337 - val_loss: 403.7838 - val_accuracy: 0.7354\n",
      "Epoch 15/50\n",
      "16/16 [==============================] - 4s 245ms/step - loss: 402.2896 - accuracy: 0.7336 - val_loss: 400.5338 - val_accuracy: 0.7364\n",
      "Epoch 16/50\n",
      "16/16 [==============================] - 1s 70ms/step - loss: 399.0466 - accuracy: 0.7341 - val_loss: 397.2992 - val_accuracy: 0.7358\n",
      "Epoch 17/50\n",
      "16/16 [==============================] - 1s 70ms/step - loss: 395.8194 - accuracy: 0.7333 - val_loss: 394.0797 - val_accuracy: 0.7358\n",
      "Epoch 18/50\n",
      "16/16 [==============================] - 1s 70ms/step - loss: 392.6061 - accuracy: 0.7339 - val_loss: 390.8749 - val_accuracy: 0.7358\n",
      "Epoch 19/50\n",
      "16/16 [==============================] - 1s 71ms/step - loss: 389.4082 - accuracy: 0.7339 - val_loss: 387.6848 - val_accuracy: 0.7356\n",
      "Epoch 20/50\n",
      "16/16 [==============================] - 1s 74ms/step - loss: 386.2248 - accuracy: 0.7335 - val_loss: 384.5090 - val_accuracy: 0.7356\n",
      "Epoch 21/50\n",
      "16/16 [==============================] - 1s 70ms/step - loss: 383.0551 - accuracy: 0.7333 - val_loss: 381.3474 - val_accuracy: 0.7356\n",
      "Epoch 22/50\n",
      "16/16 [==============================] - 1s 70ms/step - loss: 379.9005 - accuracy: 0.7343 - val_loss: 378.1998 - val_accuracy: 0.7358\n",
      "Epoch 23/50\n",
      "16/16 [==============================] - 1s 70ms/step - loss: 376.7591 - accuracy: 0.7336 - val_loss: 375.0661 - val_accuracy: 0.7364\n",
      "Epoch 24/50\n",
      "16/16 [==============================] - 1s 71ms/step - loss: 373.6315 - accuracy: 0.7336 - val_loss: 371.9464 - val_accuracy: 0.7363\n",
      "Epoch 25/50\n",
      "16/16 [==============================] - 1s 70ms/step - loss: 370.5181 - accuracy: 0.7332 - val_loss: 368.8403 - val_accuracy: 0.7358\n",
      "Epoch 26/50\n",
      "16/16 [==============================] - 1s 72ms/step - loss: 367.4185 - accuracy: 0.7325 - val_loss: 365.7479 - val_accuracy: 0.7359\n",
      "Epoch 27/50\n",
      "16/16 [==============================] - 1s 70ms/step - loss: 364.3322 - accuracy: 0.7328 - val_loss: 362.6691 - val_accuracy: 0.7360\n",
      "Epoch 28/50\n",
      "16/16 [==============================] - 1s 70ms/step - loss: 361.2598 - accuracy: 0.7327 - val_loss: 359.6038 - val_accuracy: 0.7361\n",
      "Epoch 29/50\n",
      "16/16 [==============================] - 1s 73ms/step - loss: 358.2005 - accuracy: 0.7326 - val_loss: 356.5520 - val_accuracy: 0.7358\n",
      "Epoch 30/50\n",
      "16/16 [==============================] - 1s 73ms/step - loss: 355.1549 - accuracy: 0.7326 - val_loss: 353.5138 - val_accuracy: 0.7358\n",
      "Epoch 31/50\n",
      "16/16 [==============================] - 1s 72ms/step - loss: 352.1228 - accuracy: 0.7326 - val_loss: 350.4889 - val_accuracy: 0.7359\n",
      "Epoch 32/50\n",
      "16/16 [==============================] - 1s 73ms/step - loss: 349.1042 - accuracy: 0.7325 - val_loss: 347.4775 - val_accuracy: 0.7361\n",
      "Epoch 33/50\n",
      "16/16 [==============================] - 1s 73ms/step - loss: 346.0988 - accuracy: 0.7320 - val_loss: 344.4794 - val_accuracy: 0.7354\n",
      "Epoch 34/50\n",
      "16/16 [==============================] - 1s 73ms/step - loss: 343.1068 - accuracy: 0.7322 - val_loss: 341.4947 - val_accuracy: 0.7354\n",
      "Epoch 35/50\n",
      "16/16 [==============================] - 1s 72ms/step - loss: 340.1284 - accuracy: 0.7326 - val_loss: 338.5234 - val_accuracy: 0.7349\n",
      "Epoch 36/50\n",
      "16/16 [==============================] - 1s 73ms/step - loss: 337.1630 - accuracy: 0.7316 - val_loss: 335.5653 - val_accuracy: 0.7347\n",
      "Epoch 37/50\n",
      "16/16 [==============================] - 1s 74ms/step - loss: 334.2112 - accuracy: 0.7320 - val_loss: 332.6206 - val_accuracy: 0.7350\n",
      "Epoch 38/50\n",
      "16/16 [==============================] - 1s 72ms/step - loss: 331.2726 - accuracy: 0.7311 - val_loss: 329.6892 - val_accuracy: 0.7346\n",
      "Epoch 39/50\n",
      "16/16 [==============================] - 1s 72ms/step - loss: 328.3473 - accuracy: 0.7314 - val_loss: 326.7711 - val_accuracy: 0.7348\n",
      "Epoch 40/50\n",
      "16/16 [==============================] - 1s 73ms/step - loss: 325.4355 - accuracy: 0.7313 - val_loss: 323.8663 - val_accuracy: 0.7348\n",
      "Epoch 41/50\n",
      "16/16 [==============================] - 1s 73ms/step - loss: 322.5367 - accuracy: 0.7312 - val_loss: 320.9748 - val_accuracy: 0.7347\n",
      "Epoch 42/50\n",
      " 9/16 [===============>..............] - ETA: 0s - loss: 320.2577 - accuracy: 0.7313"
     ]
    }
   ],
   "source": [
    "# create the hyperparameter object\n",
    "def define_tune_parameters(hp):\n",
    "    hp.Int('dense_layer_count', min_value=1, max_value=20, step=1)\n",
    "    hp.Int('dense_units', min_value=640, max_value=1700, step=32)\n",
    "    #hp.Choice('dense_activation', values=['relu', 'tanh', 'LeakyReLU', 'PReLU', 'Swish'])\n",
    "    hp.Choice('dense_activation', values=['relu', 'tanh', 'LeakyReLU'])\n",
    "    hp.Float('dense_l1_regulization', min_value=0.0, max_value=0.0005, step=0.00001)\n",
    "    hp.Float('dense_l2_regulization', min_value=0.0, max_value=0.001, step=0.0001)\n",
    "    hp.Float('dense_dropout', min_value=0.005, max_value=0.1, step=0.005)\n",
    "    hp.Choice('learning_rate', [1e-2, 1e-3, 1e-4, 1e-5])\n",
    "\n",
    "# find the best model\n",
    "model = mm.tune_simple_dense_model(\n",
    "    define_tune_parameters=define_tune_parameters,\n",
    "    dataset=simple_model_dataset,\n",
    "    max_trials=2000,\n",
    "    input_shape=simple_model_shape,\n",
    "    output_shape=simple_model_output_shape,\n",
    "    dense_layer_count='dense_layer_count',\n",
    "    dense_units='dense_units',\n",
    "    dense_activation='dense_activation',\n",
    "    dense_l1_regulization='dense_l1_regulization',\n",
    "    dense_l2_regulization='dense_l2_regulization',\n",
    "    dense_dropout='dense_dropout',\n",
    "    train_epochs=50,\n",
    "    train_batch_size=4000,\n",
    "    train_optimizer=k.optimizers.Adam,\n",
    "    train_learning_rate='learning_rate',\n",
    "    train_loss='binary_crossentropy',\n",
    "    train_metrics=['accuracy'],\n",
    "    train_class_weight=None)\n",
    "\n",
    "model.summary()\n"
   ]
  }
 ],
 "metadata": {
  "kernelspec": {
   "display_name": "pycaret",
   "language": "python",
   "name": "python3"
  },
  "language_info": {
   "codemirror_mode": {
    "name": "ipython",
    "version": 3
   },
   "file_extension": ".py",
   "mimetype": "text/x-python",
   "name": "python",
   "nbconvert_exporter": "python",
   "pygments_lexer": "ipython3",
   "version": "3.8.16"
  },
  "orig_nbformat": 4,
  "vscode": {
   "interpreter": {
    "hash": "8ccd5d0ac8155e415534e4a3fa63dae6febf91ec88901d75be48b34bb32be8ae"
   }
  }
 },
 "nbformat": 4,
 "nbformat_minor": 2
}
