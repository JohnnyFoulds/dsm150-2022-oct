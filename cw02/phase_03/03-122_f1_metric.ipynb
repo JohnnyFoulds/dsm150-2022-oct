{
 "cells": [
  {
   "attachments": {},
   "cell_type": "markdown",
   "metadata": {},
   "source": [
    "# 03-122 : F1 metric\n",
    "\n",
    "Building on the work from `03-201` do the set of experiments again, but instead of using `accuracy` as the metric, use `tfa.metrics.F1Score(name='f1_score', num_classes=2, threshold=0.5, average='macro')` which finally allows us to get scores inline to that used in the competition."
   ]
  },
  {
   "cell_type": "code",
   "execution_count": 1,
   "metadata": {},
   "outputs": [],
   "source": [
    "%load_ext autoreload\n",
    "%autoreload 2"
   ]
  },
  {
   "cell_type": "code",
   "execution_count": 2,
   "metadata": {},
   "outputs": [
    {
     "name": "stderr",
     "output_type": "stream",
     "text": [
      "2023-03-28 07:07:37.747868: I tensorflow/core/platform/cpu_feature_guard.cc:193] This TensorFlow binary is optimized with oneAPI Deep Neural Network Library (oneDNN) to use the following CPU instructions in performance-critical operations:  AVX2 AVX512F AVX512_VNNI FMA\n",
      "To enable them in other operations, rebuild TensorFlow with the appropriate compiler flags.\n",
      "2023-03-28 07:07:37.990313: I tensorflow/core/util/port.cc:104] oneDNN custom operations are on. You may see slightly different numerical results due to floating-point round-off errors from different computation orders. To turn them off, set the environment variable `TF_ENABLE_ONEDNN_OPTS=0`.\n",
      "2023-03-28 07:07:37.994224: W tensorflow/compiler/xla/stream_executor/platform/default/dso_loader.cc:64] Could not load dynamic library 'libcudart.so.11.0'; dlerror: libcudart.so.11.0: cannot open shared object file: No such file or directory; LD_LIBRARY_PATH: /opt/hadoop/current/lib/native:/opt/hadoop/current/lib/native\n",
      "2023-03-28 07:07:37.994237: I tensorflow/compiler/xla/stream_executor/cuda/cudart_stub.cc:29] Ignore above cudart dlerror if you do not have a GPU set up on your machine.\n",
      "2023-03-28 07:07:38.601922: W tensorflow/compiler/xla/stream_executor/platform/default/dso_loader.cc:64] Could not load dynamic library 'libnvinfer.so.7'; dlerror: libnvinfer.so.7: cannot open shared object file: No such file or directory; LD_LIBRARY_PATH: /opt/hadoop/current/lib/native:/opt/hadoop/current/lib/native\n",
      "2023-03-28 07:07:38.601993: W tensorflow/compiler/xla/stream_executor/platform/default/dso_loader.cc:64] Could not load dynamic library 'libnvinfer_plugin.so.7'; dlerror: libnvinfer_plugin.so.7: cannot open shared object file: No such file or directory; LD_LIBRARY_PATH: /opt/hadoop/current/lib/native:/opt/hadoop/current/lib/native\n",
      "2023-03-28 07:07:38.602000: W tensorflow/compiler/tf2tensorrt/utils/py_utils.cc:38] TF-TRT Warning: Cannot dlopen some TensorRT libraries. If you would like to use Nvidia GPU with TensorRT, please make sure the missing libraries mentioned above are installed properly.\n"
     ]
    }
   ],
   "source": [
    "import sys\n",
    "import logging\n",
    "from typing import Tuple\n",
    "import copy\n",
    "\n",
    "import pandas as pd\n",
    "\n",
    "import mlflow\n",
    "import mlflow.keras\n",
    "\n",
    "import tensorflow as tf\n",
    "import tensorflow_addons as tfa\n",
    "import keras as k\n",
    "\n",
    "from competition import source_data as sd\n",
    "from competition import data_preparation as dp\n",
    "from competition import feature_engineering as fe\n",
    "from competition import model_data as md\n",
    "from competition import model_training as mt\n",
    "from competition import model_layers as ml\n",
    "from competition import model_definitions as mm\n",
    "\n",
    "import seaborn as sns\n",
    "import matplotlib.pyplot as plt"
   ]
  },
  {
   "cell_type": "markdown",
   "metadata": {},
   "source": [
    "### Configure Logging"
   ]
  },
  {
   "cell_type": "code",
   "execution_count": 3,
   "metadata": {},
   "outputs": [
    {
     "name": "stdout",
     "output_type": "stream",
     "text": [
      "2023-03-28 07:07:40 INFO     Started\n"
     ]
    }
   ],
   "source": [
    "logging.basicConfig(\n",
    "    format='%(asctime)s %(levelname)-8s %(message)s',\n",
    "    level=logging.INFO,\n",
    "    datefmt='%Y-%m-%d %H:%M:%S',\n",
    "        handlers=[\n",
    "        logging.StreamHandler(sys.stdout)\n",
    "    ])\n",
    "\n",
    "logging.info(\"Started\")"
   ]
  },
  {
   "cell_type": "markdown",
   "metadata": {},
   "source": [
    "## Data Collection"
   ]
  },
  {
   "cell_type": "code",
   "execution_count": 4,
   "metadata": {},
   "outputs": [
    {
     "name": "stdout",
     "output_type": "stream",
     "text": [
      "(13174211, 20)\n"
     ]
    },
    {
     "data": {
      "text/html": [
       "<div>\n",
       "<style scoped>\n",
       "    .dataframe tbody tr th:only-of-type {\n",
       "        vertical-align: middle;\n",
       "    }\n",
       "\n",
       "    .dataframe tbody tr th {\n",
       "        vertical-align: top;\n",
       "    }\n",
       "\n",
       "    .dataframe thead th {\n",
       "        text-align: right;\n",
       "    }\n",
       "</style>\n",
       "<table border=\"1\" class=\"dataframe\">\n",
       "  <thead>\n",
       "    <tr style=\"text-align: right;\">\n",
       "      <th></th>\n",
       "      <th>session_id</th>\n",
       "      <th>index</th>\n",
       "      <th>elapsed_time</th>\n",
       "      <th>event_name</th>\n",
       "      <th>name</th>\n",
       "      <th>level</th>\n",
       "      <th>page</th>\n",
       "      <th>room_coor_x</th>\n",
       "      <th>room_coor_y</th>\n",
       "      <th>screen_coor_x</th>\n",
       "      <th>screen_coor_y</th>\n",
       "      <th>hover_duration</th>\n",
       "      <th>text</th>\n",
       "      <th>fqid</th>\n",
       "      <th>room_fqid</th>\n",
       "      <th>text_fqid</th>\n",
       "      <th>fullscreen</th>\n",
       "      <th>hq</th>\n",
       "      <th>music</th>\n",
       "      <th>level_group</th>\n",
       "    </tr>\n",
       "  </thead>\n",
       "  <tbody>\n",
       "    <tr>\n",
       "      <th>0</th>\n",
       "      <td>20090312431273200</td>\n",
       "      <td>0</td>\n",
       "      <td>0</td>\n",
       "      <td>cutscene_click</td>\n",
       "      <td>basic</td>\n",
       "      <td>0</td>\n",
       "      <td>NaN</td>\n",
       "      <td>-413.991394</td>\n",
       "      <td>-159.314682</td>\n",
       "      <td>380.0</td>\n",
       "      <td>494.0</td>\n",
       "      <td>NaN</td>\n",
       "      <td>undefined</td>\n",
       "      <td>intro</td>\n",
       "      <td>tunic.historicalsociety.closet</td>\n",
       "      <td>tunic.historicalsociety.closet.intro</td>\n",
       "      <td>NaN</td>\n",
       "      <td>NaN</td>\n",
       "      <td>NaN</td>\n",
       "      <td>0-4</td>\n",
       "    </tr>\n",
       "    <tr>\n",
       "      <th>1</th>\n",
       "      <td>20090312431273200</td>\n",
       "      <td>1</td>\n",
       "      <td>1323</td>\n",
       "      <td>person_click</td>\n",
       "      <td>basic</td>\n",
       "      <td>0</td>\n",
       "      <td>NaN</td>\n",
       "      <td>-413.991394</td>\n",
       "      <td>-159.314682</td>\n",
       "      <td>380.0</td>\n",
       "      <td>494.0</td>\n",
       "      <td>NaN</td>\n",
       "      <td>Whatcha doing over there, Jo?</td>\n",
       "      <td>gramps</td>\n",
       "      <td>tunic.historicalsociety.closet</td>\n",
       "      <td>tunic.historicalsociety.closet.gramps.intro_0_...</td>\n",
       "      <td>NaN</td>\n",
       "      <td>NaN</td>\n",
       "      <td>NaN</td>\n",
       "      <td>0-4</td>\n",
       "    </tr>\n",
       "    <tr>\n",
       "      <th>2</th>\n",
       "      <td>20090312431273200</td>\n",
       "      <td>2</td>\n",
       "      <td>831</td>\n",
       "      <td>person_click</td>\n",
       "      <td>basic</td>\n",
       "      <td>0</td>\n",
       "      <td>NaN</td>\n",
       "      <td>-413.991394</td>\n",
       "      <td>-159.314682</td>\n",
       "      <td>380.0</td>\n",
       "      <td>494.0</td>\n",
       "      <td>NaN</td>\n",
       "      <td>Just talking to Teddy.</td>\n",
       "      <td>gramps</td>\n",
       "      <td>tunic.historicalsociety.closet</td>\n",
       "      <td>tunic.historicalsociety.closet.gramps.intro_0_...</td>\n",
       "      <td>NaN</td>\n",
       "      <td>NaN</td>\n",
       "      <td>NaN</td>\n",
       "      <td>0-4</td>\n",
       "    </tr>\n",
       "  </tbody>\n",
       "</table>\n",
       "</div>"
      ],
      "text/plain": [
       "          session_id  index  elapsed_time      event_name   name  level page  \\\n",
       "0  20090312431273200      0             0  cutscene_click  basic      0  NaN   \n",
       "1  20090312431273200      1          1323    person_click  basic      0  NaN   \n",
       "2  20090312431273200      2           831    person_click  basic      0  NaN   \n",
       "\n",
       "   room_coor_x  room_coor_y  screen_coor_x  screen_coor_y  hover_duration  \\\n",
       "0  -413.991394  -159.314682          380.0          494.0             NaN   \n",
       "1  -413.991394  -159.314682          380.0          494.0             NaN   \n",
       "2  -413.991394  -159.314682          380.0          494.0             NaN   \n",
       "\n",
       "                            text    fqid                       room_fqid  \\\n",
       "0                      undefined   intro  tunic.historicalsociety.closet   \n",
       "1  Whatcha doing over there, Jo?  gramps  tunic.historicalsociety.closet   \n",
       "2         Just talking to Teddy.  gramps  tunic.historicalsociety.closet   \n",
       "\n",
       "                                           text_fqid fullscreen   hq music  \\\n",
       "0               tunic.historicalsociety.closet.intro        NaN  NaN   NaN   \n",
       "1  tunic.historicalsociety.closet.gramps.intro_0_...        NaN  NaN   NaN   \n",
       "2  tunic.historicalsociety.closet.gramps.intro_0_...        NaN  NaN   NaN   \n",
       "\n",
       "  level_group  \n",
       "0         0-4  \n",
       "1         0-4  \n",
       "2         0-4  "
      ]
     },
     "metadata": {},
     "output_type": "display_data"
    }
   ],
   "source": [
    "# load the source training set\n",
    "df_source = sd.read_csv('../data/train.csv.gz',\n",
    "                        compression='gzip',\n",
    "                        dtype=sd.source_dtype)"
   ]
  },
  {
   "cell_type": "code",
   "execution_count": 5,
   "metadata": {},
   "outputs": [
    {
     "name": "stdout",
     "output_type": "stream",
     "text": [
      "(212022, 2)\n"
     ]
    },
    {
     "data": {
      "text/html": [
       "<div>\n",
       "<style scoped>\n",
       "    .dataframe tbody tr th:only-of-type {\n",
       "        vertical-align: middle;\n",
       "    }\n",
       "\n",
       "    .dataframe tbody tr th {\n",
       "        vertical-align: top;\n",
       "    }\n",
       "\n",
       "    .dataframe thead th {\n",
       "        text-align: right;\n",
       "    }\n",
       "</style>\n",
       "<table border=\"1\" class=\"dataframe\">\n",
       "  <thead>\n",
       "    <tr style=\"text-align: right;\">\n",
       "      <th></th>\n",
       "      <th>session_id</th>\n",
       "      <th>correct</th>\n",
       "    </tr>\n",
       "  </thead>\n",
       "  <tbody>\n",
       "    <tr>\n",
       "      <th>0</th>\n",
       "      <td>20090312431273200_q1</td>\n",
       "      <td>1</td>\n",
       "    </tr>\n",
       "    <tr>\n",
       "      <th>1</th>\n",
       "      <td>20090312433251036_q1</td>\n",
       "      <td>0</td>\n",
       "    </tr>\n",
       "    <tr>\n",
       "      <th>2</th>\n",
       "      <td>20090314121766812_q1</td>\n",
       "      <td>1</td>\n",
       "    </tr>\n",
       "  </tbody>\n",
       "</table>\n",
       "</div>"
      ],
      "text/plain": [
       "             session_id  correct\n",
       "0  20090312431273200_q1        1\n",
       "1  20090312433251036_q1        0\n",
       "2  20090314121766812_q1        1"
      ]
     },
     "metadata": {},
     "output_type": "display_data"
    }
   ],
   "source": [
    "# load the source training labels\n",
    "df_source_labels = sd.read_csv('../data/train_labels.csv')"
   ]
  },
  {
   "cell_type": "markdown",
   "metadata": {},
   "source": [
    "## Data Preparation & Cleaning"
   ]
  },
  {
   "cell_type": "code",
   "execution_count": 6,
   "metadata": {},
   "outputs": [],
   "source": [
    "# prepare the main dataset\n",
    "df_source = dp.prepare_main_dataset(df_source,\n",
    "                                    elapsed_time_min_clip=0,\n",
    "                                    elapsed_time_max_clip=3691298)\n",
    "\n",
    "# remove sessions with problems\n",
    "problem_sessions = dp.find_problem_sessions(df_source)\n",
    "df_source = df_source[~df_source['session_id'].isin(problem_sessions)]"
   ]
  },
  {
   "cell_type": "code",
   "execution_count": 7,
   "metadata": {},
   "outputs": [],
   "source": [
    "# prepare the label dataset\n",
    "df_source_labels = dp.prepare_label_dataset(df_source_labels)\n",
    "\n",
    "# remove sessions with problems\n",
    "df_source_labels = df_source_labels[~df_source_labels['session_id'].isin(problem_sessions)]"
   ]
  },
  {
   "cell_type": "markdown",
   "metadata": {},
   "source": [
    "## Feature Engineering"
   ]
  },
  {
   "cell_type": "code",
   "execution_count": 8,
   "metadata": {},
   "outputs": [],
   "source": [
    "# create the initial features\n",
    "df_features = fe.create_initial_features(df_source, df_source_labels)"
   ]
  },
  {
   "cell_type": "code",
   "execution_count": 9,
   "metadata": {},
   "outputs": [],
   "source": [
    "# add the feature to the features dataset\n",
    "df_features = fe.add_elapsed_time_features(\n",
    "    features=df_features,\n",
    "    X=df_source)"
   ]
  },
  {
   "cell_type": "code",
   "execution_count": 10,
   "metadata": {},
   "outputs": [],
   "source": [
    "# add the total count features to the features dataset\n",
    "df_features = fe.add_count_total_features(\n",
    "    features=df_features,\n",
    "    X=df_source)"
   ]
  },
  {
   "cell_type": "code",
   "execution_count": 11,
   "metadata": {},
   "outputs": [],
   "source": [
    "# add the unique count features to the features dataset\n",
    "df_features = fe.add_count_unique_features(\n",
    "    features=df_features,\n",
    "    X=df_source)"
   ]
  },
  {
   "cell_type": "markdown",
   "metadata": {},
   "source": [
    "## Data Selection"
   ]
  },
  {
   "cell_type": "code",
   "execution_count": 12,
   "metadata": {},
   "outputs": [],
   "source": [
    "random_state = 51"
   ]
  },
  {
   "cell_type": "code",
   "execution_count": 13,
   "metadata": {},
   "outputs": [
    {
     "name": "stdout",
     "output_type": "stream",
     "text": [
      "Train: 3495\n",
      "Validation: 1165\n",
      "Test: 6988\n"
     ]
    }
   ],
   "source": [
    "# split the dataset into train, validation and test sets\n",
    "train, val, test = md.select_sessions(\n",
    "    y=df_source_labels,\n",
    "    random_state=random_state,\n",
    "    test_size=0.60,\n",
    "    train_size=0.75)"
   ]
  },
  {
   "cell_type": "markdown",
   "metadata": {},
   "source": [
    "## Model Training"
   ]
  },
  {
   "cell_type": "markdown",
   "metadata": {},
   "source": [
    "### Create Datasets"
   ]
  },
  {
   "cell_type": "code",
   "execution_count": 14,
   "metadata": {},
   "outputs": [
    {
     "name": "stdout",
     "output_type": "stream",
     "text": [
      "2023-03-28 07:08:59 INFO     -- Creating the train dataset\n",
      "2023-03-28 07:08:59 INFO     Creating the dataset for all level groups\n"
     ]
    },
    {
     "data": {
      "application/vnd.jupyter.widget-view+json": {
       "model_id": "47244dc9b49b41f4bca17853fee9cdf5",
       "version_major": 2,
       "version_minor": 0
      },
      "text/plain": [
       "  0%|          | 0/62910 [00:00<?, ?it/s]"
      ]
     },
     "metadata": {},
     "output_type": "display_data"
    },
    {
     "name": "stdout",
     "output_type": "stream",
     "text": [
      "2023-03-28 07:10:15 INFO     -- Creating the val dataset\n",
      "2023-03-28 07:10:15 INFO     Creating the dataset for all level groups\n"
     ]
    },
    {
     "data": {
      "application/vnd.jupyter.widget-view+json": {
       "model_id": "225cf558b6ec4ae9a4054111177a9fbe",
       "version_major": 2,
       "version_minor": 0
      },
      "text/plain": [
       "  0%|          | 0/20970 [00:00<?, ?it/s]"
      ]
     },
     "metadata": {},
     "output_type": "display_data"
    },
    {
     "name": "stdout",
     "output_type": "stream",
     "text": [
      "2023-03-28 07:10:42 INFO     -- Creating the test dataset\n",
      "2023-03-28 07:10:42 INFO     Creating the dataset for all level groups\n"
     ]
    },
    {
     "data": {
      "application/vnd.jupyter.widget-view+json": {
       "model_id": "78cc4e7a5b084cf6823b48fd761e2496",
       "version_major": 2,
       "version_minor": 0
      },
      "text/plain": [
       "  0%|          | 0/125784 [00:00<?, ?it/s]"
      ]
     },
     "metadata": {},
     "output_type": "display_data"
    }
   ],
   "source": [
    "# set the feature list\n",
    "feature_list = ['elapsed_time_sum', 'elapsed_time_max', 'elapsed_time_min', 'elapsed_time_mean', 'elapsed_time_mode']\n",
    "\n",
    "# create the simple model dataset\n",
    "simple_model_dataset = md.get_feature_dataset(\n",
    "    features=df_features,\n",
    "    y=df_source_labels,\n",
    "    feature_list=feature_list,\n",
    "    train=train,\n",
    "    val=val,\n",
    "    test=test,\n",
    "    include_question=True,\n",
    "    expand_question=False)"
   ]
  },
  {
   "cell_type": "code",
   "execution_count": 15,
   "metadata": {},
   "outputs": [],
   "source": [
    "# convert the labels for multi-label classification\n",
    "cat_simple_model_dataset = md.labels_to_categorical(simple_model_dataset)"
   ]
  },
  {
   "cell_type": "code",
   "execution_count": 16,
   "metadata": {},
   "outputs": [
    {
     "name": "stdout",
     "output_type": "stream",
     "text": [
      "simple_model_shape: 23\n",
      "output_shape 2\n"
     ]
    }
   ],
   "source": [
    "# define the simple model input shape\n",
    "input_data = cat_simple_model_dataset['train']['X']\n",
    "simple_model_shape = input_data.shape[1]\n",
    "print('simple_model_shape:', simple_model_shape)\n",
    "\n",
    "# define the output shape\n",
    "output_data = cat_simple_model_dataset['train']['y']\n",
    "simple_model_output_shape = 2\n",
    "print('output_shape', simple_model_output_shape)"
   ]
  },
  {
   "cell_type": "markdown",
   "metadata": {},
   "source": [
    "### Training"
   ]
  },
  {
   "cell_type": "code",
   "execution_count": 17,
   "metadata": {},
   "outputs": [
    {
     "data": {
      "text/plain": [
       "<Experiment: artifact_location='file:///home/jfoul001/code/dsm150-2022-oct/cw02/phase_03/mlruns/430002631076462435', creation_time=1679986632923, experiment_id='430002631076462435', last_update_time=1679986632923, lifecycle_stage='active', name='f1_trial_01', tags={}>"
      ]
     },
     "execution_count": 17,
     "metadata": {},
     "output_type": "execute_result"
    }
   ],
   "source": [
    "# create the experiment\n",
    "mlflow.set_experiment(\"f1_trial_01\")"
   ]
  },
  {
   "cell_type": "code",
   "execution_count": 19,
   "metadata": {},
   "outputs": [
    {
     "name": "stdout",
     "output_type": "stream",
     "text": [
      "Trial 2 Complete [00h 03m 13s]\n",
      "\n",
      "Best val_accuracy So Far: None\n",
      "Total elapsed time: 00h 05m 17s\n",
      "2023-03-28 07:31:01 INFO     on_trial_begin\n",
      "\n",
      "Search: Running Trial #3\n",
      "\n",
      "Value             |Best Value So Far |Hyperparameter\n",
      "17                |?                 |dense_layer_count\n",
      "1280              |?                 |dense_units\n",
      "relu              |?                 |dense_activation\n",
      "0.00036           |?                 |dense_l1_regulization\n",
      "0                 |?                 |dense_l2_regulization\n",
      "0.035             |?                 |dense_dropout\n",
      "0.0001            |?                 |learning_rate\n",
      "\n",
      "2023-03-28 07:31:02 INFO     Creating simple dense model\n",
      "Epoch 1/50\n",
      "16/16 [==============================] - 10s 535ms/step - loss: 222.6316 - f1_score: 0.4931 - val_loss: 214.6907 - val_f1_score: 0.4147\n",
      "Epoch 2/50\n",
      "16/16 [==============================] - 8s 520ms/step - loss: 208.0542 - f1_score: 0.4135 - val_loss: 200.3682 - val_f1_score: 0.4147\n",
      "Epoch 3/50\n",
      "16/16 [==============================] - 8s 514ms/step - loss: 193.9510 - f1_score: 0.4135 - val_loss: 186.5213 - val_f1_score: 0.4147\n",
      "Epoch 4/50\n",
      "16/16 [==============================] - 8s 511ms/step - loss: 180.3284 - f1_score: 0.4135 - val_loss: 173.1633 - val_f1_score: 0.4147\n",
      "Epoch 5/50\n",
      "16/16 [==============================] - 8s 508ms/step - loss: 167.1976 - f1_score: 0.4135 - val_loss: 160.2994 - val_f1_score: 0.4147\n",
      "Epoch 6/50\n",
      "16/16 [==============================] - 8s 510ms/step - loss: 154.5642 - f1_score: 0.4135 - val_loss: 147.9352 - val_f1_score: 0.4147\n",
      "Epoch 7/50\n",
      "16/16 [==============================] - 8s 517ms/step - loss: 142.4306 - f1_score: 0.4135 - val_loss: 136.0715 - val_f1_score: 0.4147\n",
      "Epoch 8/50\n",
      "16/16 [==============================] - 8s 506ms/step - loss: 130.7972 - f1_score: 0.4135 - val_loss: 124.7073 - val_f1_score: 0.4147\n",
      "Epoch 9/50\n",
      "16/16 [==============================] - 8s 511ms/step - loss: 119.6626 - f1_score: 0.4135 - val_loss: 113.8414 - val_f1_score: 0.4147\n",
      "Epoch 10/50\n",
      "16/16 [==============================] - 8s 508ms/step - loss: 109.0263 - f1_score: 0.4135 - val_loss: 103.4739 - val_f1_score: 0.4147\n",
      "Epoch 11/50\n",
      "16/16 [==============================] - 8s 503ms/step - loss: 98.8886 - f1_score: 0.4135 - val_loss: 93.6047 - val_f1_score: 0.4147\n",
      "Epoch 12/50\n",
      "16/16 [==============================] - 8s 499ms/step - loss: 89.2487 - f1_score: 0.4135 - val_loss: 84.2337 - val_f1_score: 0.4147\n",
      "Epoch 13/50\n",
      "16/16 [==============================] - 8s 478ms/step - loss: 80.1071 - f1_score: 0.4135 - val_loss: 75.3609 - val_f1_score: 0.4147\n",
      "Epoch 14/50\n",
      "16/16 [==============================] - 8s 485ms/step - loss: 71.4644 - f1_score: 0.4135 - val_loss: 66.9870 - val_f1_score: 0.4147\n",
      "Epoch 15/50\n",
      "16/16 [==============================] - 8s 477ms/step - loss: 63.3201 - f1_score: 0.4135 - val_loss: 59.1118 - val_f1_score: 0.4147\n",
      "Epoch 16/50\n",
      "16/16 [==============================] - 7s 469ms/step - loss: 55.6748 - f1_score: 0.4135 - val_loss: 51.7355 - val_f1_score: 0.4147\n",
      "Epoch 17/50\n",
      "16/16 [==============================] - 8s 516ms/step - loss: 48.5282 - f1_score: 0.4135 - val_loss: 44.8577 - val_f1_score: 0.4147\n",
      "Epoch 18/50\n",
      "16/16 [==============================] - 8s 520ms/step - loss: 41.8804 - f1_score: 0.4135 - val_loss: 38.4790 - val_f1_score: 0.4147\n",
      "Epoch 19/50\n",
      "16/16 [==============================] - 8s 517ms/step - loss: 35.7310 - f1_score: 0.4135 - val_loss: 32.5982 - val_f1_score: 0.4147\n",
      "Epoch 20/50\n",
      "16/16 [==============================] - 8s 521ms/step - loss: 30.0801 - f1_score: 0.4135 - val_loss: 27.2163 - val_f1_score: 0.4147\n",
      "Epoch 21/50\n",
      "16/16 [==============================] - 8s 518ms/step - loss: 24.9283 - f1_score: 0.4135 - val_loss: 22.3341 - val_f1_score: 0.4147\n",
      "Epoch 22/50\n",
      "16/16 [==============================] - 8s 517ms/step - loss: 20.2757 - f1_score: 0.4135 - val_loss: 17.9506 - val_f1_score: 0.4147\n",
      "Epoch 23/50\n",
      "16/16 [==============================] - 8s 513ms/step - loss: 16.1225 - f1_score: 0.4135 - val_loss: 14.0670 - val_f1_score: 0.4147\n",
      "Epoch 24/50\n",
      "16/16 [==============================] - 8s 514ms/step - loss: 12.4689 - f1_score: 0.4135 - val_loss: 10.6822 - val_f1_score: 0.4147\n",
      "Epoch 25/50\n",
      "16/16 [==============================] - 8s 524ms/step - loss: 9.3138 - f1_score: 0.4135 - val_loss: 7.7961 - val_f1_score: 0.4147\n",
      "Epoch 26/50\n",
      "16/16 [==============================] - 8s 520ms/step - loss: 6.6577 - f1_score: 0.4135 - val_loss: 5.4091 - val_f1_score: 0.4147\n",
      "Epoch 27/50\n",
      "16/16 [==============================] - 8s 518ms/step - loss: 4.5009 - f1_score: 0.4135 - val_loss: 3.5218 - val_f1_score: 0.4147\n",
      "Epoch 28/50\n",
      "16/16 [==============================] - 8s 517ms/step - loss: 2.8435 - f1_score: 0.4135 - val_loss: 2.1338 - val_f1_score: 0.4147\n",
      "Epoch 29/50\n",
      "16/16 [==============================] - 8s 515ms/step - loss: 1.6858 - f1_score: 0.4135 - val_loss: 1.2454 - val_f1_score: 0.4147\n",
      "Epoch 30/50\n",
      "16/16 [==============================] - 8s 514ms/step - loss: 1.0266 - f1_score: 0.4135 - val_loss: 0.8543 - val_f1_score: 0.4147\n",
      "Epoch 31/50\n",
      "16/16 [==============================] - 8s 528ms/step - loss: 0.8243 - f1_score: 0.4135 - val_loss: 0.7816 - val_f1_score: 0.4147\n",
      "Epoch 32/50\n",
      "16/16 [==============================] - 8s 513ms/step - loss: 0.7707 - f1_score: 0.4135 - val_loss: 0.7552 - val_f1_score: 0.4147\n",
      "Epoch 33/50\n",
      "16/16 [==============================] - 8s 523ms/step - loss: 0.7522 - f1_score: 0.4135 - val_loss: 0.7440 - val_f1_score: 0.4147\n",
      "Epoch 34/50\n",
      "16/16 [==============================] - 8s 514ms/step - loss: 0.7443 - f1_score: 0.4135 - val_loss: 0.7386 - val_f1_score: 0.4147\n",
      "Epoch 35/50\n",
      "16/16 [==============================] - 8s 516ms/step - loss: 0.7398 - f1_score: 0.4135 - val_loss: 0.7349 - val_f1_score: 0.4147\n",
      "Epoch 36/50\n",
      "16/16 [==============================] - 8s 515ms/step - loss: 0.7366 - f1_score: 0.4135 - val_loss: 0.7322 - val_f1_score: 0.4147\n",
      "Epoch 37/50\n",
      "16/16 [==============================] - 8s 519ms/step - loss: 0.7339 - f1_score: 0.4135 - val_loss: 0.7296 - val_f1_score: 0.4147\n",
      "Epoch 38/50\n",
      "16/16 [==============================] - 8s 517ms/step - loss: 0.7317 - f1_score: 0.4135 - val_loss: 0.7276 - val_f1_score: 0.4147\n",
      "Epoch 39/50\n",
      "16/16 [==============================] - 8s 515ms/step - loss: 0.7299 - f1_score: 0.4135 - val_loss: 0.7262 - val_f1_score: 0.4147\n",
      "Epoch 40/50\n",
      "16/16 [==============================] - 8s 516ms/step - loss: 0.7286 - f1_score: 0.4135 - val_loss: 0.7250 - val_f1_score: 0.4147\n",
      "Epoch 41/50\n",
      "16/16 [==============================] - 8s 517ms/step - loss: 0.7276 - f1_score: 0.4135 - val_loss: 0.7242 - val_f1_score: 0.4147\n",
      "Epoch 42/50\n",
      "16/16 [==============================] - 8s 518ms/step - loss: 0.7270 - f1_score: 0.4135 - val_loss: 0.7239 - val_f1_score: 0.4147\n",
      "Epoch 43/50\n",
      "16/16 [==============================] - 8s 522ms/step - loss: 0.7268 - f1_score: 0.4135 - val_loss: 0.7237 - val_f1_score: 0.4147\n",
      "Epoch 44/50\n",
      "16/16 [==============================] - 8s 521ms/step - loss: 0.7268 - f1_score: 0.4135 - val_loss: 0.7237 - val_f1_score: 0.4147\n",
      "Epoch 45/50\n",
      "16/16 [==============================] - 8s 520ms/step - loss: 0.7267 - f1_score: 0.4135 - val_loss: 0.7238 - val_f1_score: 0.4147\n",
      "Epoch 46/50\n",
      "16/16 [==============================] - 8s 515ms/step - loss: 0.7268 - f1_score: 0.4135 - val_loss: 0.7238 - val_f1_score: 0.4147\n",
      "Epoch 47/50\n",
      "16/16 [==============================] - 8s 521ms/step - loss: 0.7267 - f1_score: 0.4135 - val_loss: 0.7237 - val_f1_score: 0.4147\n",
      "Epoch 48/50\n",
      "16/16 [==============================] - 8s 519ms/step - loss: 0.7267 - f1_score: 0.4135 - val_loss: 0.7237 - val_f1_score: 0.4147\n",
      "Epoch 49/50\n",
      "16/16 [==============================] - 8s 521ms/step - loss: 0.7267 - f1_score: 0.4135 - val_loss: 0.7238 - val_f1_score: 0.4147\n",
      "Epoch 50/50\n",
      "16/16 [==============================] - 8s 532ms/step - loss: 0.7268 - f1_score: 0.4135 - val_loss: 0.7238 - val_f1_score: 0.4147\n",
      "2023-03-28 07:37:51 INFO     TestModelCallback::Testing the model\n"
     ]
    },
    {
     "data": {
      "image/png": "[encoded data removed]",
      "text/plain": [
       "<Figure size 360x216 with 1 Axes>"
      ]
     },
     "metadata": {
      "needs_background": "light"
     },
     "output_type": "display_data"
    },
    {
     "data": {
      "image/png": "[encoded data removed]",
      "text/plain": [
       "<Figure size 360x216 with 1 Axes>"
      ]
     },
     "metadata": {
      "needs_background": "light"
     },
     "output_type": "display_data"
    },
    {
     "name": "stdout",
     "output_type": "stream",
     "text": [
      "3931/3931 [==============================] - 65s 17ms/step\n",
      "2622/2622 [==============================] - 44s 17ms/step\n"
     ]
    },
    {
     "data": {
      "text/markdown": [
       "#### Threshold: 0.5\n",
       "```\n",
       "              precision    recall  f1-score   support\n",
       "\n",
       "         0.0       1.00      0.00      0.00     37388\n",
       "         1.0       0.70      1.00      0.83     88396\n",
       "\n",
       "    accuracy                           0.70    125784\n",
       "   macro avg       0.85      0.50      0.41    125784\n",
       "weighted avg       0.79      0.70      0.58    125784\n",
       "\n",
       "```"
      ],
      "text/plain": [
       "<IPython.core.display.Markdown object>"
      ]
     },
     "metadata": {},
     "output_type": "display_data"
    },
    {
     "data": {
      "image/png": "[encoded data removed]",
      "text/plain": [
       "<Figure size 432x288 with 2 Axes>"
      ]
     },
     "metadata": {
      "needs_background": "light"
     },
     "output_type": "display_data"
    },
    {
     "data": {
      "text/markdown": [
       "#### Optimal Threshold: 0.00\n",
       "```\n",
       "              precision    recall  f1-score   support\n",
       "\n",
       "         0.0       1.00      0.00      0.00     37388\n",
       "         1.0       0.70      1.00      0.83     88396\n",
       "\n",
       "    accuracy                           0.70    125784\n",
       "   macro avg       0.85      0.50      0.41    125784\n",
       "weighted avg       0.79      0.70      0.58    125784\n",
       "\n",
       "```"
      ],
      "text/plain": [
       "<IPython.core.display.Markdown object>"
      ]
     },
     "metadata": {},
     "output_type": "display_data"
    },
    {
     "data": {
      "image/png": "[encoded data removed]",
      "text/plain": [
       "<Figure size 432x288 with 2 Axes>"
      ]
     },
     "metadata": {
      "needs_background": "light"
     },
     "output_type": "display_data"
    },
    {
     "name": "stdout",
     "output_type": "stream",
     "text": [
      "1/1 [==============================] - 0s 176ms/step\n",
      "INFO:tensorflow:Assets written to: /tmp/tmp7hrnhhvc/model/data/model/assets\n",
      "2023-03-28 07:39:51 INFO     Assets written to: /tmp/tmp7hrnhhvc/model/data/model/assets\n"
     ]
    },
    {
     "name": "stderr",
     "output_type": "stream",
     "text": [
      "2023/03/28 07:39:55 WARNING mlflow.utils.environment: Encountered an unexpected error while inferring pip requirements (model URI: /tmp/tmp7hrnhhvc/model, flavor: tensorflow), fall back to return ['tensorflow==2.11.0']. Set logging level to DEBUG to see the full traceback.\n"
     ]
    },
    {
     "name": "stdout",
     "output_type": "stream",
     "text": [
      "2023-03-28 07:39:55 INFO     on_trial_end\n"
     ]
    },
    {
     "name": "stderr",
     "output_type": "stream",
     "text": [
      "Traceback (most recent call last):\n",
      "  File \"/home/jfoul001/.conda/envs/dsm010/lib/python3.8/site-packages/keras_tuner/engine/base_tuner.py\", line 266, in _try_run_and_update_trial\n",
      "    self._run_and_update_trial(trial, *fit_args, **fit_kwargs)\n",
      "  File \"/home/jfoul001/.conda/envs/dsm010/lib/python3.8/site-packages/keras_tuner/engine/base_tuner.py\", line 257, in _run_and_update_trial\n",
      "    tuner_utils.convert_to_metrics_dict(\n",
      "  File \"/home/jfoul001/.conda/envs/dsm010/lib/python3.8/site-packages/keras_tuner/engine/tuner_utils.py\", line 270, in convert_to_metrics_dict\n",
      "    [convert_to_metrics_dict(elem, objective) for elem in results]\n",
      "  File \"/home/jfoul001/.conda/envs/dsm010/lib/python3.8/site-packages/keras_tuner/engine/tuner_utils.py\", line 270, in <listcomp>\n",
      "    [convert_to_metrics_dict(elem, objective) for elem in results]\n",
      "  File \"/home/jfoul001/.conda/envs/dsm010/lib/python3.8/site-packages/keras_tuner/engine/tuner_utils.py\", line 283, in convert_to_metrics_dict\n",
      "    best_value, _ = _get_best_value_and_best_epoch_from_history(\n",
      "  File \"/home/jfoul001/.conda/envs/dsm010/lib/python3.8/site-packages/keras_tuner/engine/tuner_utils.py\", line 254, in _get_best_value_and_best_epoch_from_history\n",
      "    objective_value = objective.get_value(metrics)\n",
      "  File \"/home/jfoul001/.conda/envs/dsm010/lib/python3.8/site-packages/keras_tuner/engine/objective.py\", line 57, in get_value\n",
      "    return logs[self.name]\n",
      "KeyError: 'val_accuracy'\n"
     ]
    },
    {
     "ename": "RuntimeError",
     "evalue": "Number of consecutive failures excceeded the limit of 3.\nTraceback (most recent call last):\n  File \"/home/jfoul001/.conda/envs/dsm010/lib/python3.8/site-packages/keras_tuner/engine/base_tuner.py\", line 266, in _try_run_and_update_trial\n    self._run_and_update_trial(trial, *fit_args, **fit_kwargs)\n  File \"/home/jfoul001/.conda/envs/dsm010/lib/python3.8/site-packages/keras_tuner/engine/base_tuner.py\", line 257, in _run_and_update_trial\n    tuner_utils.convert_to_metrics_dict(\n  File \"/home/jfoul001/.conda/envs/dsm010/lib/python3.8/site-packages/keras_tuner/engine/tuner_utils.py\", line 270, in convert_to_metrics_dict\n    [convert_to_metrics_dict(elem, objective) for elem in results]\n  File \"/home/jfoul001/.conda/envs/dsm010/lib/python3.8/site-packages/keras_tuner/engine/tuner_utils.py\", line 270, in <listcomp>\n    [convert_to_metrics_dict(elem, objective) for elem in results]\n  File \"/home/jfoul001/.conda/envs/dsm010/lib/python3.8/site-packages/keras_tuner/engine/tuner_utils.py\", line 283, in convert_to_metrics_dict\n    best_value, _ = _get_best_value_and_best_epoch_from_history(\n  File \"/home/jfoul001/.conda/envs/dsm010/lib/python3.8/site-packages/keras_tuner/engine/tuner_utils.py\", line 254, in _get_best_value_and_best_epoch_from_history\n    objective_value = objective.get_value(metrics)\n  File \"/home/jfoul001/.conda/envs/dsm010/lib/python3.8/site-packages/keras_tuner/engine/objective.py\", line 57, in get_value\n    return logs[self.name]\nKeyError: 'val_accuracy'\n",
     "output_type": "error",
     "traceback": [
      "\u001b[0;31m---------------------------------------------------------------------------\u001b[0m",
      "\u001b[0;31mRuntimeError\u001b[0m                              Traceback (most recent call last)",
      "\u001b[1;32m/home/jfoul001/code/dsm150-2022-oct/cw02/phase_03/03-122_f1_metric.ipynb Cell 27\u001b[0m in \u001b[0;36m<cell line: 12>\u001b[0;34m()\u001b[0m\n\u001b[1;32m      <a href='vscode-notebook-cell://ssh-remote%2Blena.doc.gold.ac.uk/home/jfoul001/code/dsm150-2022-oct/cw02/phase_03/03-122_f1_metric.ipynb#X45sdnNjb2RlLXJlbW90ZQ%3D%3D?line=8'>9</a>\u001b[0m     hp\u001b[39m.\u001b[39mChoice(\u001b[39m'\u001b[39m\u001b[39mlearning_rate\u001b[39m\u001b[39m'\u001b[39m, [\u001b[39m1e-2\u001b[39m, \u001b[39m1e-3\u001b[39m, \u001b[39m1e-4\u001b[39m, \u001b[39m1e-5\u001b[39m])\n\u001b[1;32m     <a href='vscode-notebook-cell://ssh-remote%2Blena.doc.gold.ac.uk/home/jfoul001/code/dsm150-2022-oct/cw02/phase_03/03-122_f1_metric.ipynb#X45sdnNjb2RlLXJlbW90ZQ%3D%3D?line=10'>11</a>\u001b[0m \u001b[39m# find the best model\u001b[39;00m\n\u001b[0;32m---> <a href='vscode-notebook-cell://ssh-remote%2Blena.doc.gold.ac.uk/home/jfoul001/code/dsm150-2022-oct/cw02/phase_03/03-122_f1_metric.ipynb#X45sdnNjb2RlLXJlbW90ZQ%3D%3D?line=11'>12</a>\u001b[0m model \u001b[39m=\u001b[39m mm\u001b[39m.\u001b[39;49mtune_simple_dense_model(\n\u001b[1;32m     <a href='vscode-notebook-cell://ssh-remote%2Blena.doc.gold.ac.uk/home/jfoul001/code/dsm150-2022-oct/cw02/phase_03/03-122_f1_metric.ipynb#X45sdnNjb2RlLXJlbW90ZQ%3D%3D?line=12'>13</a>\u001b[0m     define_tune_parameters\u001b[39m=\u001b[39;49mdefine_tune_parameters,\n\u001b[1;32m     <a href='vscode-notebook-cell://ssh-remote%2Blena.doc.gold.ac.uk/home/jfoul001/code/dsm150-2022-oct/cw02/phase_03/03-122_f1_metric.ipynb#X45sdnNjb2RlLXJlbW90ZQ%3D%3D?line=13'>14</a>\u001b[0m     dataset\u001b[39m=\u001b[39;49mcat_simple_model_dataset,\n\u001b[1;32m     <a href='vscode-notebook-cell://ssh-remote%2Blena.doc.gold.ac.uk/home/jfoul001/code/dsm150-2022-oct/cw02/phase_03/03-122_f1_metric.ipynb#X45sdnNjb2RlLXJlbW90ZQ%3D%3D?line=14'>15</a>\u001b[0m     max_trials\u001b[39m=\u001b[39;49m\u001b[39m1000\u001b[39;49m,\n\u001b[1;32m     <a href='vscode-notebook-cell://ssh-remote%2Blena.doc.gold.ac.uk/home/jfoul001/code/dsm150-2022-oct/cw02/phase_03/03-122_f1_metric.ipynb#X45sdnNjb2RlLXJlbW90ZQ%3D%3D?line=15'>16</a>\u001b[0m     input_shape\u001b[39m=\u001b[39;49msimple_model_shape,\n\u001b[1;32m     <a href='vscode-notebook-cell://ssh-remote%2Blena.doc.gold.ac.uk/home/jfoul001/code/dsm150-2022-oct/cw02/phase_03/03-122_f1_metric.ipynb#X45sdnNjb2RlLXJlbW90ZQ%3D%3D?line=16'>17</a>\u001b[0m     output_shape\u001b[39m=\u001b[39;49msimple_model_output_shape,\n\u001b[1;32m     <a href='vscode-notebook-cell://ssh-remote%2Blena.doc.gold.ac.uk/home/jfoul001/code/dsm150-2022-oct/cw02/phase_03/03-122_f1_metric.ipynb#X45sdnNjb2RlLXJlbW90ZQ%3D%3D?line=17'>18</a>\u001b[0m     dense_layer_count\u001b[39m=\u001b[39;49m\u001b[39m'\u001b[39;49m\u001b[39mdense_layer_count\u001b[39;49m\u001b[39m'\u001b[39;49m,\n\u001b[1;32m     <a href='vscode-notebook-cell://ssh-remote%2Blena.doc.gold.ac.uk/home/jfoul001/code/dsm150-2022-oct/cw02/phase_03/03-122_f1_metric.ipynb#X45sdnNjb2RlLXJlbW90ZQ%3D%3D?line=18'>19</a>\u001b[0m     dense_units\u001b[39m=\u001b[39;49m\u001b[39m'\u001b[39;49m\u001b[39mdense_units\u001b[39;49m\u001b[39m'\u001b[39;49m,\n\u001b[1;32m     <a href='vscode-notebook-cell://ssh-remote%2Blena.doc.gold.ac.uk/home/jfoul001/code/dsm150-2022-oct/cw02/phase_03/03-122_f1_metric.ipynb#X45sdnNjb2RlLXJlbW90ZQ%3D%3D?line=19'>20</a>\u001b[0m     dense_activation\u001b[39m=\u001b[39;49m\u001b[39m'\u001b[39;49m\u001b[39mdense_activation\u001b[39;49m\u001b[39m'\u001b[39;49m,\n\u001b[1;32m     <a href='vscode-notebook-cell://ssh-remote%2Blena.doc.gold.ac.uk/home/jfoul001/code/dsm150-2022-oct/cw02/phase_03/03-122_f1_metric.ipynb#X45sdnNjb2RlLXJlbW90ZQ%3D%3D?line=20'>21</a>\u001b[0m     dense_l1_regulization\u001b[39m=\u001b[39;49m\u001b[39m'\u001b[39;49m\u001b[39mdense_l1_regulization\u001b[39;49m\u001b[39m'\u001b[39;49m,\n\u001b[1;32m     <a href='vscode-notebook-cell://ssh-remote%2Blena.doc.gold.ac.uk/home/jfoul001/code/dsm150-2022-oct/cw02/phase_03/03-122_f1_metric.ipynb#X45sdnNjb2RlLXJlbW90ZQ%3D%3D?line=21'>22</a>\u001b[0m     dense_l2_regulization\u001b[39m=\u001b[39;49m\u001b[39m'\u001b[39;49m\u001b[39mdense_l2_regulization\u001b[39;49m\u001b[39m'\u001b[39;49m,\n\u001b[1;32m     <a href='vscode-notebook-cell://ssh-remote%2Blena.doc.gold.ac.uk/home/jfoul001/code/dsm150-2022-oct/cw02/phase_03/03-122_f1_metric.ipynb#X45sdnNjb2RlLXJlbW90ZQ%3D%3D?line=22'>23</a>\u001b[0m     dense_dropout\u001b[39m=\u001b[39;49m\u001b[39m'\u001b[39;49m\u001b[39mdense_dropout\u001b[39;49m\u001b[39m'\u001b[39;49m,\n\u001b[1;32m     <a href='vscode-notebook-cell://ssh-remote%2Blena.doc.gold.ac.uk/home/jfoul001/code/dsm150-2022-oct/cw02/phase_03/03-122_f1_metric.ipynb#X45sdnNjb2RlLXJlbW90ZQ%3D%3D?line=23'>24</a>\u001b[0m     train_epochs\u001b[39m=\u001b[39;49m\u001b[39m50\u001b[39;49m,\n\u001b[1;32m     <a href='vscode-notebook-cell://ssh-remote%2Blena.doc.gold.ac.uk/home/jfoul001/code/dsm150-2022-oct/cw02/phase_03/03-122_f1_metric.ipynb#X45sdnNjb2RlLXJlbW90ZQ%3D%3D?line=24'>25</a>\u001b[0m     train_batch_size\u001b[39m=\u001b[39;49m\u001b[39m4000\u001b[39;49m,\n\u001b[1;32m     <a href='vscode-notebook-cell://ssh-remote%2Blena.doc.gold.ac.uk/home/jfoul001/code/dsm150-2022-oct/cw02/phase_03/03-122_f1_metric.ipynb#X45sdnNjb2RlLXJlbW90ZQ%3D%3D?line=25'>26</a>\u001b[0m     train_optimizer\u001b[39m=\u001b[39;49mk\u001b[39m.\u001b[39;49moptimizers\u001b[39m.\u001b[39;49mAdam,\n\u001b[1;32m     <a href='vscode-notebook-cell://ssh-remote%2Blena.doc.gold.ac.uk/home/jfoul001/code/dsm150-2022-oct/cw02/phase_03/03-122_f1_metric.ipynb#X45sdnNjb2RlLXJlbW90ZQ%3D%3D?line=26'>27</a>\u001b[0m     train_learning_rate\u001b[39m=\u001b[39;49m\u001b[39m'\u001b[39;49m\u001b[39mlearning_rate\u001b[39;49m\u001b[39m'\u001b[39;49m,\n\u001b[1;32m     <a href='vscode-notebook-cell://ssh-remote%2Blena.doc.gold.ac.uk/home/jfoul001/code/dsm150-2022-oct/cw02/phase_03/03-122_f1_metric.ipynb#X45sdnNjb2RlLXJlbW90ZQ%3D%3D?line=27'>28</a>\u001b[0m     train_loss\u001b[39m=\u001b[39;49m\u001b[39m'\u001b[39;49m\u001b[39mbinary_crossentropy\u001b[39;49m\u001b[39m'\u001b[39;49m,\n\u001b[1;32m     <a href='vscode-notebook-cell://ssh-remote%2Blena.doc.gold.ac.uk/home/jfoul001/code/dsm150-2022-oct/cw02/phase_03/03-122_f1_metric.ipynb#X45sdnNjb2RlLXJlbW90ZQ%3D%3D?line=28'>29</a>\u001b[0m     train_metrics\u001b[39m=\u001b[39;49m[tfa\u001b[39m.\u001b[39;49mmetrics\u001b[39m.\u001b[39;49mF1Score(name\u001b[39m=\u001b[39;49m\u001b[39m'\u001b[39;49m\u001b[39mf1_score\u001b[39;49m\u001b[39m'\u001b[39;49m, num_classes\u001b[39m=\u001b[39;49m\u001b[39m2\u001b[39;49m, threshold\u001b[39m=\u001b[39;49m\u001b[39m0.5\u001b[39;49m, average\u001b[39m=\u001b[39;49m\u001b[39m'\u001b[39;49m\u001b[39mmacro\u001b[39;49m\u001b[39m'\u001b[39;49m)],\n\u001b[1;32m     <a href='vscode-notebook-cell://ssh-remote%2Blena.doc.gold.ac.uk/home/jfoul001/code/dsm150-2022-oct/cw02/phase_03/03-122_f1_metric.ipynb#X45sdnNjb2RlLXJlbW90ZQ%3D%3D?line=29'>30</a>\u001b[0m     train_class_weight\u001b[39m=\u001b[39;49m\u001b[39mNone\u001b[39;49;00m)\n\u001b[1;32m     <a href='vscode-notebook-cell://ssh-remote%2Blena.doc.gold.ac.uk/home/jfoul001/code/dsm150-2022-oct/cw02/phase_03/03-122_f1_metric.ipynb#X45sdnNjb2RlLXJlbW90ZQ%3D%3D?line=31'>32</a>\u001b[0m model\u001b[39m.\u001b[39msummary()\n",
      "File \u001b[0;32m~/code/dsm150-2022-oct/cw02/phase_03/competition/model_definitions.py:227\u001b[0m, in \u001b[0;36mtune_simple_dense_model\u001b[0;34m(define_tune_parameters, dataset, max_trials, input_shape, output_shape, dense_layer_count, dense_units, dense_activation, dense_l1_regulization, dense_l2_regulization, dense_dropout, train_epochs, train_batch_size, train_optimizer, train_learning_rate, train_loss, train_metrics, train_class_weight)\u001b[0m\n\u001b[1;32m    224\u001b[0m mlflow\u001b[39m.\u001b[39mkeras\u001b[39m.\u001b[39mautolog()\n\u001b[1;32m    226\u001b[0m \u001b[39m# search for the best hyperparameters\u001b[39;00m\n\u001b[0;32m--> 227\u001b[0m tuner\u001b[39m.\u001b[39;49msearch(\n\u001b[1;32m    228\u001b[0m     dataset[\u001b[39m'\u001b[39;49m\u001b[39mtrain\u001b[39;49m\u001b[39m'\u001b[39;49m][\u001b[39m'\u001b[39;49m\u001b[39mX\u001b[39;49m\u001b[39m'\u001b[39;49m],\n\u001b[1;32m    229\u001b[0m     dataset[\u001b[39m'\u001b[39;49m\u001b[39mtrain\u001b[39;49m\u001b[39m'\u001b[39;49m][\u001b[39m'\u001b[39;49m\u001b[39my\u001b[39;49m\u001b[39m'\u001b[39;49m],\n\u001b[1;32m    230\u001b[0m     validation_data\u001b[39m=\u001b[39;49m(dataset[\u001b[39m'\u001b[39;49m\u001b[39mval\u001b[39;49m\u001b[39m'\u001b[39;49m][\u001b[39m'\u001b[39;49m\u001b[39mX\u001b[39;49m\u001b[39m'\u001b[39;49m], dataset[\u001b[39m'\u001b[39;49m\u001b[39mval\u001b[39;49m\u001b[39m'\u001b[39;49m][\u001b[39m'\u001b[39;49m\u001b[39my\u001b[39;49m\u001b[39m'\u001b[39;49m]),\n\u001b[1;32m    231\u001b[0m     epochs\u001b[39m=\u001b[39;49mtrain_epochs,\n\u001b[1;32m    232\u001b[0m     batch_size\u001b[39m=\u001b[39;49mtrain_batch_size,\n\u001b[1;32m    233\u001b[0m     class_weight\u001b[39m=\u001b[39;49mtrain_class_weight,\n\u001b[1;32m    234\u001b[0m     callbacks\u001b[39m=\u001b[39;49m[test_callback, tf\u001b[39m.\u001b[39;49mkeras\u001b[39m.\u001b[39;49mcallbacks\u001b[39m.\u001b[39;49mEarlyStopping(patience\u001b[39m=\u001b[39;49m\u001b[39m100\u001b[39;49m)])\n\u001b[1;32m    235\u001b[0m     \u001b[39m#callbacks=[test_callback, tf.keras.callbacks.EarlyStopping(patience=2)])\u001b[39;00m\n\u001b[1;32m    236\u001b[0m \n\u001b[1;32m    237\u001b[0m \u001b[39m# log the best hyperparameters\u001b[39;00m\n\u001b[1;32m    238\u001b[0m best_hp \u001b[39m=\u001b[39m tuner\u001b[39m.\u001b[39mget_best_hyperparameters()[\u001b[39m0\u001b[39m]\u001b[39m.\u001b[39mvalues\n",
      "File \u001b[0;32m~/.conda/envs/dsm010/lib/python3.8/site-packages/keras_tuner/engine/base_tuner.py:227\u001b[0m, in \u001b[0;36mBaseTuner.search\u001b[0;34m(self, *fit_args, **fit_kwargs)\u001b[0m\n\u001b[1;32m    225\u001b[0m     \u001b[39mself\u001b[39m\u001b[39m.\u001b[39mon_trial_begin(trial)\n\u001b[1;32m    226\u001b[0m     \u001b[39mself\u001b[39m\u001b[39m.\u001b[39m_try_run_and_update_trial(trial, \u001b[39m*\u001b[39mfit_args, \u001b[39m*\u001b[39m\u001b[39m*\u001b[39mfit_kwargs)\n\u001b[0;32m--> 227\u001b[0m     \u001b[39mself\u001b[39;49m\u001b[39m.\u001b[39;49mon_trial_end(trial)\n\u001b[1;32m    228\u001b[0m \u001b[39mself\u001b[39m\u001b[39m.\u001b[39mon_search_end()\n",
      "File \u001b[0;32m~/code/dsm150-2022-oct/cw02/phase_03/competition/model_definitions.py:207\u001b[0m, in \u001b[0;36mtune_simple_dense_model.<locals>.CustomSearch.on_trial_end\u001b[0;34m(self, trial)\u001b[0m\n\u001b[1;32m    204\u001b[0m logging\u001b[39m.\u001b[39minfo(\u001b[39m'\u001b[39m\u001b[39mon_trial_end\u001b[39m\u001b[39m'\u001b[39m)\n\u001b[1;32m    205\u001b[0m mlflow\u001b[39m.\u001b[39mend_run()\n\u001b[0;32m--> 207\u001b[0m \u001b[39msuper\u001b[39;49m(CustomSearch, \u001b[39mself\u001b[39;49m)\u001b[39m.\u001b[39;49mon_trial_end(trial)\n",
      "File \u001b[0;32m~/.conda/envs/dsm010/lib/python3.8/site-packages/keras_tuner/engine/base_tuner.py:331\u001b[0m, in \u001b[0;36mBaseTuner.on_trial_end\u001b[0;34m(self, trial)\u001b[0m\n\u001b[1;32m    325\u001b[0m \u001b[39mdef\u001b[39;00m \u001b[39mon_trial_end\u001b[39m(\u001b[39mself\u001b[39m, trial):\n\u001b[1;32m    326\u001b[0m     \u001b[39m\"\"\"Called at the end of a trial.\u001b[39;00m\n\u001b[1;32m    327\u001b[0m \n\u001b[1;32m    328\u001b[0m \u001b[39m    Args:\u001b[39;00m\n\u001b[1;32m    329\u001b[0m \u001b[39m        trial: A `Trial` instance.\u001b[39;00m\n\u001b[1;32m    330\u001b[0m \u001b[39m    \"\"\"\u001b[39;00m\n\u001b[0;32m--> 331\u001b[0m     \u001b[39mself\u001b[39;49m\u001b[39m.\u001b[39;49moracle\u001b[39m.\u001b[39;49mend_trial(trial)\n\u001b[1;32m    332\u001b[0m     \u001b[39m# Display needs the updated trial scored by the Oracle.\u001b[39;00m\n\u001b[1;32m    333\u001b[0m     \u001b[39mself\u001b[39m\u001b[39m.\u001b[39m_display\u001b[39m.\u001b[39mon_trial_end(\u001b[39mself\u001b[39m\u001b[39m.\u001b[39moracle\u001b[39m.\u001b[39mget_trial(trial\u001b[39m.\u001b[39mtrial_id))\n",
      "File \u001b[0;32m~/.conda/envs/dsm010/lib/python3.8/site-packages/keras_tuner/engine/oracle.py:108\u001b[0m, in \u001b[0;36msynchronized.<locals>.wrapped_func\u001b[0;34m(*args, **kwargs)\u001b[0m\n\u001b[1;32m    106\u001b[0m     LOCKS[oracle]\u001b[39m.\u001b[39macquire()\n\u001b[1;32m    107\u001b[0m     THREADS[oracle] \u001b[39m=\u001b[39m thread_name\n\u001b[0;32m--> 108\u001b[0m ret_val \u001b[39m=\u001b[39m func(\u001b[39m*\u001b[39;49margs, \u001b[39m*\u001b[39;49m\u001b[39m*\u001b[39;49mkwargs)\n\u001b[1;32m    109\u001b[0m \u001b[39mif\u001b[39;00m need_acquire:\n\u001b[1;32m    110\u001b[0m     THREADS[oracle] \u001b[39m=\u001b[39m \u001b[39mNone\u001b[39;00m\n",
      "File \u001b[0;32m~/.conda/envs/dsm010/lib/python3.8/site-packages/keras_tuner/engine/oracle.py:435\u001b[0m, in \u001b[0;36mOracle.end_trial\u001b[0;34m(self, trial)\u001b[0m\n\u001b[1;32m    433\u001b[0m \u001b[39mif\u001b[39;00m \u001b[39mnot\u001b[39;00m \u001b[39mself\u001b[39m\u001b[39m.\u001b[39m_retry(trial):\n\u001b[1;32m    434\u001b[0m     \u001b[39mself\u001b[39m\u001b[39m.\u001b[39mend_order\u001b[39m.\u001b[39mappend(trial\u001b[39m.\u001b[39mtrial_id)\n\u001b[0;32m--> 435\u001b[0m     \u001b[39mself\u001b[39;49m\u001b[39m.\u001b[39;49m_check_consecutive_failures()\n\u001b[1;32m    437\u001b[0m \u001b[39mself\u001b[39m\u001b[39m.\u001b[39m_save_trial(trial)\n\u001b[1;32m    438\u001b[0m \u001b[39mself\u001b[39m\u001b[39m.\u001b[39msave()\n",
      "File \u001b[0;32m~/.conda/envs/dsm010/lib/python3.8/site-packages/keras_tuner/engine/oracle.py:387\u001b[0m, in \u001b[0;36mOracle._check_consecutive_failures\u001b[0;34m(self)\u001b[0m\n\u001b[1;32m    385\u001b[0m     consecutive_failures \u001b[39m=\u001b[39m \u001b[39m0\u001b[39m\n\u001b[1;32m    386\u001b[0m \u001b[39mif\u001b[39;00m consecutive_failures \u001b[39m==\u001b[39m \u001b[39mself\u001b[39m\u001b[39m.\u001b[39mmax_consecutive_failed_trials:\n\u001b[0;32m--> 387\u001b[0m     \u001b[39mraise\u001b[39;00m \u001b[39mRuntimeError\u001b[39;00m(\n\u001b[1;32m    388\u001b[0m         \u001b[39m\"\u001b[39m\u001b[39mNumber of consecutive failures excceeded the limit \u001b[39m\u001b[39m\"\u001b[39m\n\u001b[1;32m    389\u001b[0m         \u001b[39mf\u001b[39m\u001b[39m\"\u001b[39m\u001b[39mof \u001b[39m\u001b[39m{\u001b[39;00m\u001b[39mself\u001b[39m\u001b[39m.\u001b[39mmax_consecutive_failed_trials\u001b[39m}\u001b[39;00m\u001b[39m.\u001b[39m\u001b[39m\\n\u001b[39;00m\u001b[39m\"\u001b[39m\n\u001b[1;32m    390\u001b[0m         \u001b[39m+\u001b[39m trial\u001b[39m.\u001b[39mmessage\n\u001b[1;32m    391\u001b[0m     )\n",
      "\u001b[0;31mRuntimeError\u001b[0m: Number of consecutive failures excceeded the limit of 3.\nTraceback (most recent call last):\n  File \"/home/jfoul001/.conda/envs/dsm010/lib/python3.8/site-packages/keras_tuner/engine/base_tuner.py\", line 266, in _try_run_and_update_trial\n    self._run_and_update_trial(trial, *fit_args, **fit_kwargs)\n  File \"/home/jfoul001/.conda/envs/dsm010/lib/python3.8/site-packages/keras_tuner/engine/base_tuner.py\", line 257, in _run_and_update_trial\n    tuner_utils.convert_to_metrics_dict(\n  File \"/home/jfoul001/.conda/envs/dsm010/lib/python3.8/site-packages/keras_tuner/engine/tuner_utils.py\", line 270, in convert_to_metrics_dict\n    [convert_to_metrics_dict(elem, objective) for elem in results]\n  File \"/home/jfoul001/.conda/envs/dsm010/lib/python3.8/site-packages/keras_tuner/engine/tuner_utils.py\", line 270, in <listcomp>\n    [convert_to_metrics_dict(elem, objective) for elem in results]\n  File \"/home/jfoul001/.conda/envs/dsm010/lib/python3.8/site-packages/keras_tuner/engine/tuner_utils.py\", line 283, in convert_to_metrics_dict\n    best_value, _ = _get_best_value_and_best_epoch_from_history(\n  File \"/home/jfoul001/.conda/envs/dsm010/lib/python3.8/site-packages/keras_tuner/engine/tuner_utils.py\", line 254, in _get_best_value_and_best_epoch_from_history\n    objective_value = objective.get_value(metrics)\n  File \"/home/jfoul001/.conda/envs/dsm010/lib/python3.8/site-packages/keras_tuner/engine/objective.py\", line 57, in get_value\n    return logs[self.name]\nKeyError: 'val_accuracy'\n"
     ]
    }
   ],
   "source": [
    "# create the hyperparameter object\n",
    "def define_tune_parameters(hp):\n",
    "    hp.Int('dense_layer_count', min_value=1, max_value=20, step=1)\n",
    "    hp.Int('dense_units', min_value=640, max_value=1700, step=32)\n",
    "    hp.Choice('dense_activation', values=['relu', 'tanh', 'LeakyReLU'])\n",
    "    hp.Float('dense_l1_regulization', min_value=0.0, max_value=0.0005, step=0.00001)\n",
    "    hp.Float('dense_l2_regulization', min_value=0.0, max_value=0.001, step=0.0001)\n",
    "    hp.Float('dense_dropout', min_value=0.005, max_value=0.1, step=0.005)\n",
    "    hp.Choice('learning_rate', [1e-2, 1e-3, 1e-4, 1e-5])\n",
    "\n",
    "# find the best model\n",
    "model = mm.tune_simple_dense_model(\n",
    "    define_tune_parameters=define_tune_parameters,\n",
    "    dataset=cat_simple_model_dataset,\n",
    "    max_trials=1000,\n",
    "    input_shape=simple_model_shape,\n",
    "    output_shape=simple_model_output_shape,\n",
    "    dense_layer_count='dense_layer_count',\n",
    "    dense_units='dense_units',\n",
    "    dense_activation='dense_activation',\n",
    "    dense_l1_regulization='dense_l1_regulization',\n",
    "    dense_l2_regulization='dense_l2_regulization',\n",
    "    dense_dropout='dense_dropout',\n",
    "    train_epochs=50,\n",
    "    train_batch_size=4000,\n",
    "    train_optimizer=k.optimizers.Adam,\n",
    "    train_learning_rate='learning_rate',\n",
    "    train_loss='binary_crossentropy',\n",
    "    train_metrics=[tfa.metrics.F1Score(name='f1_score', num_classes=2, threshold=0.5, average='macro')],\n",
    "    train_class_weight=None)\n",
    "\n",
    "model.summary()\n"
   ]
  }
 ],
 "metadata": {
  "kernelspec": {
   "display_name": "dsm010",
   "language": "python",
   "name": "python3"
  },
  "language_info": {
   "codemirror_mode": {
    "name": "ipython",
    "version": 3
   },
   "file_extension": ".py",
   "mimetype": "text/x-python",
   "name": "python",
   "nbconvert_exporter": "python",
   "pygments_lexer": "ipython3",
   "version": "3.8.12"
  },
  "orig_nbformat": 4
 },
 "nbformat": 4,
 "nbformat_minor": 2
}
