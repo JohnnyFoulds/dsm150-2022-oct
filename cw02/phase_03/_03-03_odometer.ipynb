{
 "cells": [
  {
   "cell_type": "code",
   "execution_count": 1,
   "metadata": {},
   "outputs": [
    {
     "name": "stdout",
     "output_type": "stream",
     "text": [
      "[0, 0, 0, 0, 0, 0, 0, 0, 0, 0, 0, 0, 0, 0, 0, 0, 0, 0]\n"
     ]
    }
   ],
   "source": [
    "class Odometer:\n",
    "    def __init__(self, num_digits=18, step_size=0.01):\n",
    "        self.num_digits = num_digits\n",
    "        self.step_size = step_size\n",
    "        self.odometer = [0] * self.num_digits\n",
    "\n",
    "    def increment(self):\n",
    "        for i in reversed(range(self.num_digits)):\n",
    "            self.odometer[i] += self.step_size\n",
    "            if self.odometer[i] > 1:\n",
    "                self.odometer[i] = 0\n",
    "                if i == 0:\n",
    "                    return False  # The odometer has reached its maximum value\n",
    "            else:\n",
    "                break\n",
    "        return True\n",
    "\n",
    "    def display(self):\n",
    "        return [round(d, 2) for d in self.odometer]\n",
    "\n",
    "    def is_full(self):\n",
    "        return all(d == 1 for d in self.odometer)\n",
    "\n",
    "    def reset(self):\n",
    "        self.odometer = [0] * self.num_digits\n",
    "\n",
    "# Example usage\n",
    "odometer = Odometer()\n",
    "\n",
    "while not odometer.is_full():\n",
    "    print(odometer.display())\n",
    "    odometer.increment()\n",
    "    break"
   ]
  }
 ],
 "metadata": {
  "kernelspec": {
   "display_name": "Python 3",
   "language": "python",
   "name": "python3"
  },
  "language_info": {
   "codemirror_mode": {
    "name": "ipython",
    "version": 3
   },
   "file_extension": ".py",
   "mimetype": "text/x-python",
   "name": "python",
   "nbconvert_exporter": "python",
   "pygments_lexer": "ipython3",
   "version": "3.8.16"
  },
  "orig_nbformat": 4
 },
 "nbformat": 4,
 "nbformat_minor": 2
}
