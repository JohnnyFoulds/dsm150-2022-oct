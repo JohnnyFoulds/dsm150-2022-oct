{
 "cells": [
  {
   "attachments": {},
   "cell_type": "markdown",
   "metadata": {},
   "source": [
    "# 12. Small and Fast Training\n",
    "\n",
    "Find a way to do fast training based on previous methods. The main speed comes from not using a generator and using smaller datasets."
   ]
  },
  {
   "cell_type": "code",
   "execution_count": null,
   "metadata": {},
   "outputs": [
    {
     "name": "stderr",
     "output_type": "stream",
     "text": [
      "2023-02-27 13:28:21.822016: I tensorflow/core/platform/cpu_feature_guard.cc:193] This TensorFlow binary is optimized with oneAPI Deep Neural Network Library (oneDNN) to use the following CPU instructions in performance-critical operations:  AVX2 FMA\n",
      "To enable them in other operations, rebuild TensorFlow with the appropriate compiler flags.\n",
      "2023-02-27 13:28:22.655258: W tensorflow/compiler/xla/stream_executor/platform/default/dso_loader.cc:64] Could not load dynamic library 'libnvinfer.so.7'; dlerror: libnvinfer.so.7: cannot open shared object file: No such file or directory\n",
      "2023-02-27 13:28:22.655332: W tensorflow/compiler/xla/stream_executor/platform/default/dso_loader.cc:64] Could not load dynamic library 'libnvinfer_plugin.so.7'; dlerror: libnvinfer_plugin.so.7: cannot open shared object file: No such file or directory\n",
      "2023-02-27 13:28:22.655338: W tensorflow/compiler/tf2tensorrt/utils/py_utils.cc:38] TF-TRT Warning: Cannot dlopen some TensorRT libraries. If you would like to use Nvidia GPU with TensorRT, please make sure the missing libraries mentioned above are installed properly.\n"
     ]
    }
   ],
   "source": [
    "import sys\n",
    "import os\n",
    "import pandas as pd\n",
    "import numpy as np\n",
    "\n",
    "import math\n",
    "import logging\n",
    "import gc\n",
    "import multiprocessing\n",
    "from functools import partial\n",
    "\n",
    "from tqdm.notebook import tqdm\n",
    "from typing import Tuple\n",
    "from sklearn.model_selection import train_test_split\n",
    "\n",
    "from tensorflow.keras.models import Sequential\n",
    "from tensorflow.keras import layers\n",
    "from tensorflow.keras.optimizers import RMSprop\n",
    "from keras import optimizers\n",
    "from keras import callbacks\n",
    "\n",
    "from sklearn.metrics import f1_score\n",
    "from sklearn.metrics import classification_report, precision_recall_fscore_support\n",
    "\n",
    "import matplotlib.pyplot as plt"
   ]
  },
  {
   "cell_type": "code",
   "execution_count": 2,
   "metadata": {},
   "outputs": [],
   "source": [
    "logging.getLogger('matplotlib.font_manager').setLevel(logging.ERROR)"
   ]
  },
  {
   "cell_type": "markdown",
   "metadata": {},
   "source": [
    "## Load Source Data"
   ]
  },
  {
   "cell_type": "code",
   "execution_count": 3,
   "metadata": {},
   "outputs": [
    {
     "name": "stdout",
     "output_type": "stream",
     "text": [
      "(13174211, 19)\n"
     ]
    },
    {
     "data": {
      "text/html": [
       "<div>\n",
       "<style scoped>\n",
       "    .dataframe tbody tr th:only-of-type {\n",
       "        vertical-align: middle;\n",
       "    }\n",
       "\n",
       "    .dataframe tbody tr th {\n",
       "        vertical-align: top;\n",
       "    }\n",
       "\n",
       "    .dataframe thead th {\n",
       "        text-align: right;\n",
       "    }\n",
       "</style>\n",
       "<table border=\"1\" class=\"dataframe\">\n",
       "  <thead>\n",
       "    <tr style=\"text-align: right;\">\n",
       "      <th></th>\n",
       "      <th>session_id</th>\n",
       "      <th>elapsed_time</th>\n",
       "      <th>event_name</th>\n",
       "      <th>name</th>\n",
       "      <th>level</th>\n",
       "      <th>page</th>\n",
       "      <th>room_coor_x</th>\n",
       "      <th>room_coor_y</th>\n",
       "      <th>screen_coor_x</th>\n",
       "      <th>screen_coor_y</th>\n",
       "      <th>hover_duration</th>\n",
       "      <th>text</th>\n",
       "      <th>fqid</th>\n",
       "      <th>room_fqid</th>\n",
       "      <th>text_fqid</th>\n",
       "      <th>fullscreen</th>\n",
       "      <th>hq</th>\n",
       "      <th>music</th>\n",
       "      <th>level_group</th>\n",
       "    </tr>\n",
       "    <tr>\n",
       "      <th>index</th>\n",
       "      <th></th>\n",
       "      <th></th>\n",
       "      <th></th>\n",
       "      <th></th>\n",
       "      <th></th>\n",
       "      <th></th>\n",
       "      <th></th>\n",
       "      <th></th>\n",
       "      <th></th>\n",
       "      <th></th>\n",
       "      <th></th>\n",
       "      <th></th>\n",
       "      <th></th>\n",
       "      <th></th>\n",
       "      <th></th>\n",
       "      <th></th>\n",
       "      <th></th>\n",
       "      <th></th>\n",
       "      <th></th>\n",
       "    </tr>\n",
       "  </thead>\n",
       "  <tbody>\n",
       "    <tr>\n",
       "      <th>0</th>\n",
       "      <td>20090312431273200</td>\n",
       "      <td>0</td>\n",
       "      <td>cutscene_click</td>\n",
       "      <td>basic</td>\n",
       "      <td>0</td>\n",
       "      <td>NaN</td>\n",
       "      <td>-413.991405</td>\n",
       "      <td>-159.314686</td>\n",
       "      <td>380.0</td>\n",
       "      <td>494.0</td>\n",
       "      <td>NaN</td>\n",
       "      <td>undefined</td>\n",
       "      <td>intro</td>\n",
       "      <td>tunic.historicalsociety.closet</td>\n",
       "      <td>tunic.historicalsociety.closet.intro</td>\n",
       "      <td>NaN</td>\n",
       "      <td>NaN</td>\n",
       "      <td>NaN</td>\n",
       "      <td>0-4</td>\n",
       "    </tr>\n",
       "    <tr>\n",
       "      <th>1</th>\n",
       "      <td>20090312431273200</td>\n",
       "      <td>1323</td>\n",
       "      <td>person_click</td>\n",
       "      <td>basic</td>\n",
       "      <td>0</td>\n",
       "      <td>NaN</td>\n",
       "      <td>-413.991405</td>\n",
       "      <td>-159.314686</td>\n",
       "      <td>380.0</td>\n",
       "      <td>494.0</td>\n",
       "      <td>NaN</td>\n",
       "      <td>Whatcha doing over there, Jo?</td>\n",
       "      <td>gramps</td>\n",
       "      <td>tunic.historicalsociety.closet</td>\n",
       "      <td>tunic.historicalsociety.closet.gramps.intro_0_...</td>\n",
       "      <td>NaN</td>\n",
       "      <td>NaN</td>\n",
       "      <td>NaN</td>\n",
       "      <td>0-4</td>\n",
       "    </tr>\n",
       "    <tr>\n",
       "      <th>2</th>\n",
       "      <td>20090312431273200</td>\n",
       "      <td>831</td>\n",
       "      <td>person_click</td>\n",
       "      <td>basic</td>\n",
       "      <td>0</td>\n",
       "      <td>NaN</td>\n",
       "      <td>-413.991405</td>\n",
       "      <td>-159.314686</td>\n",
       "      <td>380.0</td>\n",
       "      <td>494.0</td>\n",
       "      <td>NaN</td>\n",
       "      <td>Just talking to Teddy.</td>\n",
       "      <td>gramps</td>\n",
       "      <td>tunic.historicalsociety.closet</td>\n",
       "      <td>tunic.historicalsociety.closet.gramps.intro_0_...</td>\n",
       "      <td>NaN</td>\n",
       "      <td>NaN</td>\n",
       "      <td>NaN</td>\n",
       "      <td>0-4</td>\n",
       "    </tr>\n",
       "  </tbody>\n",
       "</table>\n",
       "</div>"
      ],
      "text/plain": [
       "              session_id  elapsed_time      event_name   name  level  page  \\\n",
       "index                                                                        \n",
       "0      20090312431273200             0  cutscene_click  basic      0   NaN   \n",
       "1      20090312431273200          1323    person_click  basic      0   NaN   \n",
       "2      20090312431273200           831    person_click  basic      0   NaN   \n",
       "\n",
       "       room_coor_x  room_coor_y  screen_coor_x  screen_coor_y  hover_duration  \\\n",
       "index                                                                           \n",
       "0      -413.991405  -159.314686          380.0          494.0             NaN   \n",
       "1      -413.991405  -159.314686          380.0          494.0             NaN   \n",
       "2      -413.991405  -159.314686          380.0          494.0             NaN   \n",
       "\n",
       "                                text    fqid                       room_fqid  \\\n",
       "index                                                                          \n",
       "0                          undefined   intro  tunic.historicalsociety.closet   \n",
       "1      Whatcha doing over there, Jo?  gramps  tunic.historicalsociety.closet   \n",
       "2             Just talking to Teddy.  gramps  tunic.historicalsociety.closet   \n",
       "\n",
       "                                               text_fqid  fullscreen  hq  \\\n",
       "index                                                                      \n",
       "0                   tunic.historicalsociety.closet.intro         NaN NaN   \n",
       "1      tunic.historicalsociety.closet.gramps.intro_0_...         NaN NaN   \n",
       "2      tunic.historicalsociety.closet.gramps.intro_0_...         NaN NaN   \n",
       "\n",
       "       music level_group  \n",
       "index                     \n",
       "0        NaN         0-4  \n",
       "1        NaN         0-4  \n",
       "2        NaN         0-4  "
      ]
     },
     "metadata": {},
     "output_type": "display_data"
    }
   ],
   "source": [
    "# load the source training set\n",
    "df_source = pd.read_csv('data/train.csv.gz', compression='gzip', index_col=1)\n",
    "\n",
    "print(df_source.shape)\n",
    "with pd.option_context('display.max_columns', None):\n",
    "    display(df_source.head(3))"
   ]
  },
  {
   "cell_type": "code",
   "execution_count": 4,
   "metadata": {},
   "outputs": [
    {
     "name": "stdout",
     "output_type": "stream",
     "text": [
      "(212022, 2)\n"
     ]
    },
    {
     "data": {
      "text/html": [
       "<div>\n",
       "<style scoped>\n",
       "    .dataframe tbody tr th:only-of-type {\n",
       "        vertical-align: middle;\n",
       "    }\n",
       "\n",
       "    .dataframe tbody tr th {\n",
       "        vertical-align: top;\n",
       "    }\n",
       "\n",
       "    .dataframe thead th {\n",
       "        text-align: right;\n",
       "    }\n",
       "</style>\n",
       "<table border=\"1\" class=\"dataframe\">\n",
       "  <thead>\n",
       "    <tr style=\"text-align: right;\">\n",
       "      <th></th>\n",
       "      <th>session_id</th>\n",
       "      <th>correct</th>\n",
       "    </tr>\n",
       "  </thead>\n",
       "  <tbody>\n",
       "    <tr>\n",
       "      <th>0</th>\n",
       "      <td>20090312431273200_q1</td>\n",
       "      <td>1</td>\n",
       "    </tr>\n",
       "    <tr>\n",
       "      <th>1</th>\n",
       "      <td>20090312433251036_q1</td>\n",
       "      <td>0</td>\n",
       "    </tr>\n",
       "    <tr>\n",
       "      <th>2</th>\n",
       "      <td>20090314121766812_q1</td>\n",
       "      <td>1</td>\n",
       "    </tr>\n",
       "  </tbody>\n",
       "</table>\n",
       "</div>"
      ],
      "text/plain": [
       "             session_id  correct\n",
       "0  20090312431273200_q1        1\n",
       "1  20090312433251036_q1        0\n",
       "2  20090314121766812_q1        1"
      ]
     },
     "metadata": {},
     "output_type": "display_data"
    }
   ],
   "source": [
    "# load the source training labels\n",
    "df_source_labels = pd.read_csv('data/train_labels.csv')\n",
    "\n",
    "print(df_source_labels.shape)\n",
    "with pd.option_context('display.max_columns', None):\n",
    "    display(df_source_labels.head(3))"
   ]
  },
  {
   "attachments": {},
   "cell_type": "markdown",
   "metadata": {},
   "source": [
    "## Functions"
   ]
  },
  {
   "cell_type": "markdown",
   "metadata": {},
   "source": [
    "### Functions to prepare the data"
   ]
  },
  {
   "cell_type": "code",
   "execution_count": 5,
   "metadata": {},
   "outputs": [],
   "source": [
    "def map_question_to_level_group(question_number):\n",
    "    \"\"\"\n",
    "    Maps the question number to the level group.\n",
    "\n",
    "    Parameters\n",
    "    ----------\n",
    "    question_number : int\n",
    "        The question number.\n",
    "\n",
    "    Returns\n",
    "    -------\n",
    "    str\n",
    "        The level group.\n",
    "    \"\"\"\n",
    "    if question_number in [1, 2, 3]:\n",
    "        return '0-4'\n",
    "    elif question_number in [4, 5, 6, 7, 8, 9, 10, 11, 12, 13]:\n",
    "        return '5-12'\n",
    "    elif question_number in [14, 15, 16, 17, 18]:\n",
    "        return '13-22'\n",
    "    else:\n",
    "        return None\n",
    "\n",
    "def prepare_label_dataset(data : pd.DataFrame) -> pd.DataFrame:\n",
    "    \"\"\"\n",
    "    Prepares the label dataset and add columns for the level group \n",
    "    and the question number.\n",
    "\n",
    "    Parameters\n",
    "    ----------\n",
    "    data : pd.DataFrame\n",
    "        The label dataset.\n",
    "\n",
    "    Returns\n",
    "    -------\n",
    "    pd.DataFrame\n",
    "        The prepared label dataset.\n",
    "    \"\"\"\n",
    "    # add the columns to determine the level group\n",
    "    df_labels = data \\\n",
    "        .rename(columns={'session_id': 'id'}) \\\n",
    "        .assign(session_id=lambda df: df['id'].str.split('_').str[0].astype(int)) \\\n",
    "        .assign(question_id=lambda df: df['id'].str.split('_').str[1]) \\\n",
    "        .assign(question_num=lambda df: df['question_id'].str[1:].astype(int)) \\\n",
    "        [['session_id', 'question_num', 'correct']]\n",
    "    \n",
    "    # add the level group column\n",
    "    df_labels['level_group'] = df_labels['question_num'].apply(map_question_to_level_group) \n",
    "\n",
    "        \n",
    "    return df_labels"
   ]
  },
  {
   "cell_type": "code",
   "execution_count": 6,
   "metadata": {},
   "outputs": [],
   "source": [
    "def prepare_main_dataset(data : pd.DataFrame) -> pd.DataFrame:\n",
    "    \"\"\"\n",
    "    Prepares the main dataset by removing duplicates and removing \n",
    "    columns that are not needed.\n",
    "\n",
    "    Parameters\n",
    "    ----------\n",
    "    data : pd.DataFrame\n",
    "        The main dataset.\n",
    "\n",
    "    Returns\n",
    "    -------\n",
    "    pd.DataFrame\n",
    "        The prepared main dataset.\n",
    "    \"\"\"\n",
    "    empty_columns = ['fullscreen', 'hq', 'music', 'page', 'hover_duration']\n",
    "\n",
    "    df_main = data \\\n",
    "        .drop_duplicates() \\\n",
    "        .reset_index(drop=True) \\\n",
    "        .drop(empty_columns, axis=1) \\\n",
    "        .drop('text', axis=1)\n",
    "\n",
    "    return df_main"
   ]
  },
  {
   "cell_type": "code",
   "execution_count": 7,
   "metadata": {},
   "outputs": [],
   "source": [
    "def vectorize_dataset(data: pd.DataFrame, standardize_coordinates: bool=True) -> pd.DataFrame:\n",
    "    \"\"\"\n",
    "    Vectorizes the dataset for deep learning by one-hot encoding and standardizing.\n",
    "    \n",
    "    Parameters\n",
    "    ----------\n",
    "    data : pd.DataFrame\n",
    "        The dataset to prepare.\n",
    "\n",
    "    Returns\n",
    "    -------\n",
    "    pd.DataFrame\n",
    "        The vectorized dataset.\n",
    "    \"\"\"\n",
    "    categorical_cols = ['event_name', 'name', 'level', 'fqid', 'room_fqid', 'text_fqid', 'level_group']\n",
    "    numerical_cols = ['elapsed_time']    \n",
    "    coordinates_cols = ['room_coor_x', 'room_coor_y', 'screen_coor_x', 'screen_coor_y']\n",
    "\n",
    "    df_vectorized = data \\\n",
    "        .drop('session_id', axis=1) \\\n",
    "        .fillna(0)\n",
    "\n",
    "    # standardize the numerical variables\n",
    "    df_vectorized[numerical_cols] = (df_vectorized[numerical_cols] - df_vectorized[numerical_cols].mean()) / df_vectorized[numerical_cols].std()\n",
    "\n",
    "    # standardize the coordinates\n",
    "    if standardize_coordinates:\n",
    "        df_vectorized[coordinates_cols] = (df_vectorized[coordinates_cols] - df_vectorized[coordinates_cols].mean()) / df_vectorized[coordinates_cols].std()\n",
    "\n",
    "    # one-hot encode the categorical variables\n",
    "    df_vectorized = pd.get_dummies(df_vectorized, columns=categorical_cols)\n",
    "    \n",
    "    return df_vectorized"
   ]
  },
  {
   "cell_type": "code",
   "execution_count": 8,
   "metadata": {},
   "outputs": [],
   "source": [
    "def prepare_sequence_matrix(data: pd.DataFrame, vector_columns: list, standardize_coordinates: bool=True) -> pd.DataFrame:\n",
    "    \"\"\"\n",
    "    Prepare a sequence matrix from a DataFrame for a specific session and level group.\n",
    "\n",
    "    Parameters\n",
    "    ----------\n",
    "    data : pd.DataFrame\n",
    "        The dataframe containing the data.\n",
    "\n",
    "    vector_columns : list\n",
    "        The columns that should appear in the sequence matrix.\n",
    "\n",
    "    standardize_coordinates : bool, optional\n",
    "        Whether to standardize the coordinates.\n",
    "\n",
    "    Returns\n",
    "    -------\n",
    "    pd.DataFrame\n",
    "        The sequence matrix.\n",
    "    \"\"\"\n",
    "    df_sequence_matrix = vectorize_dataset(data, standardize_coordinates=standardize_coordinates)\n",
    "\n",
    "    # add the missing columns\n",
    "    missing_columns = [column for column in vector_columns if column not in df_sequence_matrix.columns]\n",
    "    df_sequence_matrix = pd.concat([\n",
    "        df_sequence_matrix, \n",
    "        pd.DataFrame(columns=missing_columns)], axis=1).fillna(0)\n",
    "\n",
    "    return df_sequence_matrix[vector_columns]"
   ]
  },
  {
   "cell_type": "markdown",
   "metadata": {},
   "source": [
    "### Functions to create datasets"
   ]
  },
  {
   "cell_type": "code",
   "execution_count": 9,
   "metadata": {},
   "outputs": [],
   "source": [
    "def create_vector_array(session_data: pd.DataFrame, \n",
    "                        level_group: int,\n",
    "                        event_count:int = 1000) -> np.array:\n",
    "    \"\"\"\n",
    "    Creates a vector array for a specific session and question number.\n",
    "    \"\"\"\n",
    "    # get the data for the session and level group\n",
    "    df_session = session_data.query('level_group == @level_group')\n",
    "\n",
    "    # prepare the sequence matrix\n",
    "    df_sequence_matrix = prepare_sequence_matrix(df_session, vector_columns)\n",
    "\n",
    "    # convert it to a numpy array\n",
    "    vector_array = df_sequence_matrix.to_numpy()\n",
    "\n",
    "    # the array cannot have more events than the event count\n",
    "    vector_array = vector_array[:event_count]\n",
    "\n",
    "    # pad the array with zeros if it has less events than the event count\n",
    "    if vector_array.shape[0] < event_count:\n",
    "        vector_array = np.pad(vector_array, ((0, event_count - vector_array.shape[0]), (0, 0)), 'constant')\n",
    "\n",
    "    del df_session\n",
    "    del df_sequence_matrix\n",
    "\n",
    "    return vector_array"
   ]
  },
  {
   "cell_type": "code",
   "execution_count": 10,
   "metadata": {},
   "outputs": [],
   "source": [
    "def create_dataset(X: pd.DataFrame,\n",
    "                   y: pd.DataFrame,\n",
    "                   event_count:int,\n",
    "                   session_list: list) -> Tuple[np.array, np.array]:\n",
    "    \"\"\"\n",
    "    Creates a dataset for a specific set of sessions and question numbers.\n",
    "\n",
    "    Parameters\n",
    "    ----------\n",
    "    X : pd.DataFrame\n",
    "        The main dataset.\n",
    "\n",
    "    y : pd.DataFrame\n",
    "        The label dataset.\n",
    "\n",
    "    event_count : int\n",
    "        The number of events to include in the dataset.\n",
    "\n",
    "    session_ids : list\n",
    "        The list of session ids.\n",
    "\n",
    "    Returns\n",
    "    -------\n",
    "    Tuple[np.array, np.array]\n",
    "        The dataset and the labels.\n",
    "    \"\"\"\n",
    "    X_dataset = []\n",
    "    y_dataset = []\n",
    "\n",
    "    for session_id in session_list:\n",
    "        # get the session labels\n",
    "        df_session_labels = y.query('session_id == @session_id')\n",
    "        df_session = X.query('session_id == @session_id')\n",
    "\n",
    "        # create the level groups\n",
    "        vector_arrays = {\n",
    "            '0-4': create_vector_array(df_session, '0-4', event_count),\n",
    "            '5-12': create_vector_array(df_session, '5-12', event_count),\n",
    "            '13-22': create_vector_array(df_session, '13-22', event_count),\n",
    "        }\n",
    "\n",
    "        # iterate over all the questions answered in the session\n",
    "        for _, row in df_session_labels.iterrows():\n",
    "            question_number = row['question_num']\n",
    "            correct = row['correct']\n",
    "            level_group = map_question_to_level_group(question_number)\n",
    "\n",
    "            # get the vector array\n",
    "            vector_array = vector_arrays[level_group].copy()\n",
    "\n",
    "            # set the question number value\n",
    "            column_index = vector_columns.index(f'question_{question_number}')\n",
    "            #print(f'Question: {question_number}, Column: {column_index}')\n",
    "            vector_array[:, column_index] = 1\n",
    "\n",
    "            # add the vector array to the dataset\n",
    "            X_dataset.append(vector_array)\n",
    "            del vector_array\n",
    "\n",
    "            # add the label to the dataset\n",
    "            y_dataset.append(correct)\n",
    "\n",
    "    X_out = np.array(X_dataset, dtype=np.float64)\n",
    "    y_out = np.array(y_dataset)\n",
    "\n",
    "    return X_out, y_out"
   ]
  },
  {
   "cell_type": "markdown",
   "metadata": {},
   "source": [
    "### Functions for Model Training"
   ]
  },
  {
   "cell_type": "code",
   "execution_count": 11,
   "metadata": {},
   "outputs": [],
   "source": [
    "def plot_loss(history: callbacks.History, figsize: Tuple[int, int] = (5, 3)) -> None:\n",
    "    \"\"\"\n",
    "    Plot the loss and validation loss.\n",
    "\n",
    "    Parameters\n",
    "    ----------\n",
    "    history : keras.callbacks.History\n",
    "        The history of the model training.\n",
    "    \"\"\"\n",
    "    epochs = range(1, len(history.history['accuracy']) + 1)\n",
    "\n",
    "    # summarize history for loss\n",
    "    plt.figure(figsize=figsize)\n",
    "    plt.plot(epochs, history.history['loss'])\n",
    "    \n",
    "    if ('val_loss' in history.history):\n",
    "        plt.plot(epochs, history.history['val_loss'])\n",
    "        plt.legend(['Training loss', 'Validation loss'], loc='upper left')\n",
    "        plt.title('Training and validation loss')\n",
    "    else:\n",
    "        plt.title('Training loss')\n",
    "\n",
    "    plt.xlabel('Epochs')\n",
    "    plt.ylabel('Loss')\n",
    "\n",
    "    plt.show()"
   ]
  },
  {
   "cell_type": "code",
   "execution_count": 12,
   "metadata": {},
   "outputs": [],
   "source": [
    "def plot_accuracy(history: callbacks.History, figsize: Tuple[int, int] = (5, 3)) -> None:\n",
    "    \"\"\"\n",
    "    Plot the accuracy and validation accuracy.\n",
    "\n",
    "    Parameters\n",
    "    ----------\n",
    "    history : keras.callbacks.History\n",
    "        The history of the model training.\n",
    "    \"\"\"\n",
    "    epochs = range(1, len(history.history['accuracy']) + 1)\n",
    "\n",
    "    # summarize history for accuracy\n",
    "    plt.figure(figsize=figsize)\n",
    "    plt.plot(epochs, history.history['accuracy'])\n",
    "\n",
    "    if ('val_accuracy' in history.history):\n",
    "        plt.plot(epochs, history.history['val_accuracy'])\n",
    "        plt.legend(['Training acc', 'Validation acc'], loc='upper left')\n",
    "        plt.title('Training and validation accuracy')\n",
    "    else:\n",
    "        plt.title('Training accuracy')\n",
    "\n",
    "    plt.xlabel('Epochs')\n",
    "    plt.ylabel('Accuracy')\n",
    "\n",
    "    plt.show()from sklearn.metrics import f1_score"
   ]
  },
  {
   "cell_type": "code",
   "execution_count": 13,
   "metadata": {},
   "outputs": [],
   "source": [
    "def optimize_f1(y_true: np.ndarray, y_score: np.ndarray) -> Tuple[float, float, float]:\n",
    "    \"\"\"\n",
    "    Optimize the F1 score.\n",
    "\n",
    "    Parameters\n",
    "    ----------\n",
    "    y_true : np.ndarray\n",
    "        The true labels.\n",
    "    y_score : np.ndarray\n",
    "        The predicted labels.\n",
    "\n",
    "    Returns\n",
    "    -------\n",
    "    Tuple[float, float, float]\n",
    "        The optimized threshold, precision, and recall.\n",
    "    \"\"\"\n",
    "    best_f1 = 0\n",
    "    best_threshold = 0\n",
    "    best_precision = 0\n",
    "    best_recall = 0\n",
    "\n",
    "    for threshold in np.arange(0, 1, 0.01):\n",
    "        y_pred = (y_score > threshold).astype(int)\n",
    "        precision, recall, f1, _ = precision_recall_fscore_support(y_true, y_pred, average='macro', zero_division=1)\n",
    "\n",
    "        if f1 > best_f1:\n",
    "            best_f1 = f1\n",
    "            best_threshold = threshold\n",
    "            best_precision = precision\n",
    "            best_recall = recall\n",
    "\n",
    "    return best_threshold, best_precision, best_recall"
   ]
  },
  {
   "cell_type": "code",
   "execution_count": 14,
   "metadata": {},
   "outputs": [],
   "source": [
    "def train_model(\n",
    "        model,\n",
    "        X_train: np.ndarray,\n",
    "        y_train: np.ndarray,\n",
    "        X_val : np.ndarray,\n",
    "        y_val: np.ndarray,\n",
    "        epochs: int,\n",
    "        batch_size: int,\n",
    "        optimizer,\n",
    "        loss: str,\n",
    "        metrics: list,\n",
    "        class_weight: dict=None) -> callbacks.History:\n",
    "    \"\"\"\n",
    "    Train the keras model based on the parameters.\n",
    "\n",
    "    Parameters\n",
    "    ----------\n",
    "    model : keras.models\n",
    "        The model to train.\n",
    "    X_train : np.ndarray\n",
    "        The training data.\n",
    "    y_train : np.ndarray\n",
    "        The training labels.\n",
    "    X_val : np.ndarray\n",
    "        The validation data.\n",
    "    y_val : np.ndarray\n",
    "        The validation labels.\n",
    "    epochs : int\n",
    "        The number of epochs.\n",
    "    batch_size : int\n",
    "        The batch size.\n",
    "    optimizer : keras.optimizers\n",
    "        The optimizer.\n",
    "    loss : str\n",
    "        The loss function.\n",
    "    metrics : list\n",
    "        The metrics.\n",
    "    class_weight : dict, optional\n",
    "        The class weights, by default None\n",
    "    \n",
    "    Returns\n",
    "    -------\n",
    "    keras.callbacks.History\n",
    "        The history of the training.\n",
    "    \"\"\"\n",
    "    # compile the model\n",
    "    model.compile(\n",
    "        optimizer=optimizer,\n",
    "        loss=loss,\n",
    "        metrics=metrics)\n",
    "    \n",
    "    # fit the model\n",
    "    history = model.fit(\n",
    "        x=X_train,\n",
    "        y=y_train,\n",
    "        epochs=epochs,\n",
    "        batch_size=batch_size,\n",
    "        validation_data=(X_val, y_val),\n",
    "        class_weight=class_weight)\n",
    "    \n",
    "    return history"
   ]
  },
  {
   "cell_type": "code",
   "execution_count": 15,
   "metadata": {},
   "outputs": [],
   "source": [
    "def test_model(\n",
    "        model,\n",
    "        history: callbacks.History,\n",
    "        X_test: np.ndarray,\n",
    "        y_test: np.ndarray) -> float:\n",
    "    \"\"\"\n",
    "    Test the model based on the test data.\n",
    "\n",
    "    Parameters\n",
    "    ----------\n",
    "    model : keras.models\n",
    "        The model to test.\n",
    "    history : keras.callbacks.History\n",
    "        The history of the training.\n",
    "    X_test : np.ndarray\n",
    "        The test data.\n",
    "    y_test : np.ndarray\n",
    "        The test labels.\n",
    "\n",
    "    Returns\n",
    "    -------\n",
    "    float\n",
    "        The optimized threshold for the best F1 score.\n",
    "    \"\"\"\n",
    "    \n",
    "    plot_loss(history)\n",
    "    plot_accuracy(history)\n",
    "\n",
    "    y_test_score = model.predict(X_test)\n",
    "    threshold, _, _ = optimize_f1(y_test, y_test_score)\n",
    "\n",
    "    print(classification_report(y_test, y_test_score > threshold))\n",
    "    print(f'Optimized threshold for best F1: {threshold:.2f}')\n",
    "\n",
    "    gc.collect()\n",
    "\n",
    "    return threshold"
   ]
  },
  {
   "cell_type": "code",
   "execution_count": 16,
   "metadata": {},
   "outputs": [],
   "source": [
    "def train_and_test_model(\n",
    "        model,\n",
    "        X_train: np.ndarray,\n",
    "        y_train: np.ndarray,\n",
    "        X_val : np.ndarray,\n",
    "        y_val: np.ndarray,\n",
    "        X_test: np.ndarray,\n",
    "        y_test: np.ndarray,\n",
    "        epochs: int,\n",
    "        batch_size: int,\n",
    "        optimizer,\n",
    "        loss: str,\n",
    "        metrics: list,\n",
    "        class_weight: dict=None) -> float:\n",
    "    \"\"\"\n",
    "    Train and test the model.\n",
    "\n",
    "    Parameters\n",
    "    ----------\n",
    "    model : keras.models\n",
    "        The model to train and test.\n",
    "    X_train : np.ndarray\n",
    "        The training data.\n",
    "    y_train : np.ndarray\n",
    "        The training labels.\n",
    "    X_val : np.ndarray\n",
    "        The validation data.\n",
    "    y_val : np.ndarray\n",
    "        The validation labels.\n",
    "    X_test : np.ndarray\n",
    "        The test data.\n",
    "    y_test : np.ndarray\n",
    "        The test labels.\n",
    "    epochs : int\n",
    "        The number of epochs.\n",
    "    batch_size : int\n",
    "        The batch size.\n",
    "    optimizer : keras.optimizers\n",
    "        The optimizer.\n",
    "    loss : str\n",
    "        The loss function.\n",
    "    metrics : list\n",
    "        The metrics.\n",
    "    class_weight : dict, optional\n",
    "        The class weights, by default None\n",
    "\n",
    "    Returns\n",
    "    -------\n",
    "    float\n",
    "        The optimized threshold for the best F1 score.\n",
    "    \"\"\"\n",
    "    history = train_model(\n",
    "        model=model,\n",
    "        X_train=X_train,\n",
    "        y_train=y_train,\n",
    "        X_val=X_val,\n",
    "        y_val=y_val,\n",
    "        epochs=epochs,\n",
    "        batch_size=batch_size,\n",
    "        optimizer=optimizer,\n",
    "        loss=loss,\n",
    "        metrics=metrics,\n",
    "        class_weight=class_weight)\n",
    "    \n",
    "    gc.collect()\n",
    "\n",
    "    return test_model(model, history, X_test, y_test)"
   ]
  },
  {
   "cell_type": "code",
   "execution_count": 17,
   "metadata": {},
   "outputs": [],
   "source": [
    "def global_train_model(model,\n",
    "                       epochs: int,\n",
    "                       batch_size: int,\n",
    "                       optimizer,\n",
    "                       loss: str,\n",
    "                       metrics: list,\n",
    "                       class_weight: dict=None) -> float:\n",
    "        \"\"\"\n",
    "        Train the model using the global data.\n",
    "\n",
    "        Parameters\n",
    "        ----------\n",
    "        model : keras.models\n",
    "                The model to train.\n",
    "        epochs : int\n",
    "                The number of epochs.\n",
    "        batch_size : int\n",
    "                The batch size.\n",
    "        optimizer : keras.optimizers\n",
    "                The optimizer.\n",
    "        loss : str\n",
    "                The loss function.\n",
    "        metrics : list\n",
    "                The metrics.\n",
    "        class_weight : dict\n",
    "                The class weights.\n",
    "\n",
    "        Returns\n",
    "        -------\n",
    "        float\n",
    "                The optimized threshold for the best F1 score.\n",
    "        \"\"\"\n",
    "        global X_train\n",
    "        global y_train\n",
    "        global X_val\n",
    "        global y_val\n",
    "        global X_test\n",
    "        global y_test\n",
    "\n",
    "        return train_and_test_model(\n",
    "                model=model,\n",
    "                X_train=X_train,\n",
    "                y_train=y_train,\n",
    "                X_val=X_val,\n",
    "                y_val=y_val,\n",
    "                X_test=X_test,\n",
    "                y_test=y_test,\n",
    "                epochs=epochs,\n",
    "                batch_size=batch_size,\n",
    "                optimizer=optimizer,\n",
    "                loss=loss,\n",
    "                metrics=metrics,\n",
    "                class_weight=class_weight)"
   ]
  },
  {
   "cell_type": "markdown",
   "metadata": {},
   "source": [
    "## Pre-process Data"
   ]
  },
  {
   "cell_type": "markdown",
   "metadata": {},
   "source": [
    "### Pre-defined Values"
   ]
  },
  {
   "cell_type": "code",
   "execution_count": 18,
   "metadata": {},
   "outputs": [],
   "source": [
    "vector_columns = [\n",
    "    'elapsed_time', \n",
    "    'room_coor_x', \n",
    "    'room_coor_y', \n",
    "    'screen_coor_x', \n",
    "    'screen_coor_y', \n",
    "    'event_name_checkpoint', \n",
    "    'event_name_cutscene_click', \n",
    "    'event_name_map_click', \n",
    "    'event_name_map_hover', \n",
    "    'event_name_navigate_click', \n",
    "    'event_name_notebook_click', \n",
    "    'event_name_notification_click', \n",
    "    'event_name_object_click', \n",
    "    'event_name_object_hover', \n",
    "    'event_name_observation_click', \n",
    "    'event_name_person_click', \n",
    "    'name_basic', \n",
    "    'name_close', \n",
    "    'name_next', \n",
    "    'name_open', \n",
    "    'name_prev', \n",
    "    'name_undefined', \n",
    "    'level_0', \n",
    "    'level_1', \n",
    "    'level_2', \n",
    "    'level_3', \n",
    "    'level_4', \n",
    "    'level_5', \n",
    "    'level_6', \n",
    "    'level_7', \n",
    "    'level_8', \n",
    "    'level_9', \n",
    "    'level_10', \n",
    "    'level_11', \n",
    "    'level_12', \n",
    "    'level_13', \n",
    "    'level_14', \n",
    "    'level_15', \n",
    "    'level_16', \n",
    "    'level_17', \n",
    "    'level_18', \n",
    "    'level_19', \n",
    "    'level_20', \n",
    "    'level_21', \n",
    "    'level_22', \n",
    "    'level_group_0-4', \n",
    "    'level_group_13-22', \n",
    "    'level_group_5-12', \n",
    "    'question_1',\n",
    "    'question_2',\n",
    "    'question_3',\n",
    "    'question_4',\n",
    "    'question_5',\n",
    "    'question_6',\n",
    "    'question_7',\n",
    "    'question_8',\n",
    "    'question_9',\n",
    "    'question_10',\n",
    "    'question_11',\n",
    "    'question_12',\n",
    "    'question_13',\n",
    "    'question_14',\n",
    "    'question_15',\n",
    "    'question_16',\n",
    "    'question_17',\n",
    "    'question_18',    \n",
    "]"
   ]
  },
  {
   "cell_type": "markdown",
   "metadata": {},
   "source": [
    "### Perform Pre-Processing"
   ]
  },
  {
   "cell_type": "code",
   "execution_count": 19,
   "metadata": {},
   "outputs": [
    {
     "name": "stdout",
     "output_type": "stream",
     "text": [
      "(13173445, 13)\n"
     ]
    },
    {
     "data": {
      "text/html": [
       "<div>\n",
       "<style scoped>\n",
       "    .dataframe tbody tr th:only-of-type {\n",
       "        vertical-align: middle;\n",
       "    }\n",
       "\n",
       "    .dataframe tbody tr th {\n",
       "        vertical-align: top;\n",
       "    }\n",
       "\n",
       "    .dataframe thead th {\n",
       "        text-align: right;\n",
       "    }\n",
       "</style>\n",
       "<table border=\"1\" class=\"dataframe\">\n",
       "  <thead>\n",
       "    <tr style=\"text-align: right;\">\n",
       "      <th></th>\n",
       "      <th>session_id</th>\n",
       "      <th>elapsed_time</th>\n",
       "      <th>event_name</th>\n",
       "      <th>name</th>\n",
       "      <th>level</th>\n",
       "      <th>room_coor_x</th>\n",
       "      <th>room_coor_y</th>\n",
       "      <th>screen_coor_x</th>\n",
       "      <th>screen_coor_y</th>\n",
       "      <th>fqid</th>\n",
       "      <th>room_fqid</th>\n",
       "      <th>text_fqid</th>\n",
       "      <th>level_group</th>\n",
       "    </tr>\n",
       "  </thead>\n",
       "  <tbody>\n",
       "    <tr>\n",
       "      <th>0</th>\n",
       "      <td>20090312431273200</td>\n",
       "      <td>0</td>\n",
       "      <td>cutscene_click</td>\n",
       "      <td>basic</td>\n",
       "      <td>0</td>\n",
       "      <td>-413.991405</td>\n",
       "      <td>-159.314686</td>\n",
       "      <td>380.0</td>\n",
       "      <td>494.0</td>\n",
       "      <td>intro</td>\n",
       "      <td>tunic.historicalsociety.closet</td>\n",
       "      <td>tunic.historicalsociety.closet.intro</td>\n",
       "      <td>0-4</td>\n",
       "    </tr>\n",
       "    <tr>\n",
       "      <th>1</th>\n",
       "      <td>20090312431273200</td>\n",
       "      <td>1323</td>\n",
       "      <td>person_click</td>\n",
       "      <td>basic</td>\n",
       "      <td>0</td>\n",
       "      <td>-413.991405</td>\n",
       "      <td>-159.314686</td>\n",
       "      <td>380.0</td>\n",
       "      <td>494.0</td>\n",
       "      <td>gramps</td>\n",
       "      <td>tunic.historicalsociety.closet</td>\n",
       "      <td>tunic.historicalsociety.closet.gramps.intro_0_...</td>\n",
       "      <td>0-4</td>\n",
       "    </tr>\n",
       "    <tr>\n",
       "      <th>2</th>\n",
       "      <td>20090312431273200</td>\n",
       "      <td>831</td>\n",
       "      <td>person_click</td>\n",
       "      <td>basic</td>\n",
       "      <td>0</td>\n",
       "      <td>-413.991405</td>\n",
       "      <td>-159.314686</td>\n",
       "      <td>380.0</td>\n",
       "      <td>494.0</td>\n",
       "      <td>gramps</td>\n",
       "      <td>tunic.historicalsociety.closet</td>\n",
       "      <td>tunic.historicalsociety.closet.gramps.intro_0_...</td>\n",
       "      <td>0-4</td>\n",
       "    </tr>\n",
       "  </tbody>\n",
       "</table>\n",
       "</div>"
      ],
      "text/plain": [
       "          session_id  elapsed_time      event_name   name  level  room_coor_x  \\\n",
       "0  20090312431273200             0  cutscene_click  basic      0  -413.991405   \n",
       "1  20090312431273200          1323    person_click  basic      0  -413.991405   \n",
       "2  20090312431273200           831    person_click  basic      0  -413.991405   \n",
       "\n",
       "   room_coor_y  screen_coor_x  screen_coor_y    fqid  \\\n",
       "0  -159.314686          380.0          494.0   intro   \n",
       "1  -159.314686          380.0          494.0  gramps   \n",
       "2  -159.314686          380.0          494.0  gramps   \n",
       "\n",
       "                        room_fqid  \\\n",
       "0  tunic.historicalsociety.closet   \n",
       "1  tunic.historicalsociety.closet   \n",
       "2  tunic.historicalsociety.closet   \n",
       "\n",
       "                                           text_fqid level_group  \n",
       "0               tunic.historicalsociety.closet.intro         0-4  \n",
       "1  tunic.historicalsociety.closet.gramps.intro_0_...         0-4  \n",
       "2  tunic.historicalsociety.closet.gramps.intro_0_...         0-4  "
      ]
     },
     "metadata": {},
     "output_type": "display_data"
    }
   ],
   "source": [
    "# prepare the main dataset\n",
    "df_source = prepare_main_dataset(df_source)\n",
    "\n",
    "with pd.option_context('display.max_columns', None):\n",
    "    print(df_source.shape)\n",
    "    display(df_source.head(3))  "
   ]
  },
  {
   "cell_type": "code",
   "execution_count": 20,
   "metadata": {},
   "outputs": [
    {
     "data": {
      "text/html": [
       "<div>\n",
       "<style scoped>\n",
       "    .dataframe tbody tr th:only-of-type {\n",
       "        vertical-align: middle;\n",
       "    }\n",
       "\n",
       "    .dataframe tbody tr th {\n",
       "        vertical-align: top;\n",
       "    }\n",
       "\n",
       "    .dataframe thead th {\n",
       "        text-align: right;\n",
       "    }\n",
       "</style>\n",
       "<table border=\"1\" class=\"dataframe\">\n",
       "  <thead>\n",
       "    <tr style=\"text-align: right;\">\n",
       "      <th></th>\n",
       "      <th>session_id</th>\n",
       "      <th>question_num</th>\n",
       "      <th>correct</th>\n",
       "      <th>level_group</th>\n",
       "    </tr>\n",
       "  </thead>\n",
       "  <tbody>\n",
       "    <tr>\n",
       "      <th>21476</th>\n",
       "      <td>22010116250792520</td>\n",
       "      <td>2</td>\n",
       "      <td>1</td>\n",
       "      <td>0-4</td>\n",
       "    </tr>\n",
       "    <tr>\n",
       "      <th>84068</th>\n",
       "      <td>21000111433937450</td>\n",
       "      <td>8</td>\n",
       "      <td>1</td>\n",
       "      <td>5-12</td>\n",
       "    </tr>\n",
       "    <tr>\n",
       "      <th>171219</th>\n",
       "      <td>21040510125933256</td>\n",
       "      <td>15</td>\n",
       "      <td>0</td>\n",
       "      <td>13-22</td>\n",
       "    </tr>\n",
       "  </tbody>\n",
       "</table>\n",
       "</div>"
      ],
      "text/plain": [
       "               session_id  question_num  correct level_group\n",
       "21476   22010116250792520             2        1         0-4\n",
       "84068   21000111433937450             8        1        5-12\n",
       "171219  21040510125933256            15        0       13-22"
      ]
     },
     "metadata": {},
     "output_type": "display_data"
    }
   ],
   "source": [
    "# prepare the label dataset\n",
    "df_source_labels = prepare_label_dataset(df_source_labels)\n",
    "\n",
    "with pd.option_context('display.max_columns', None):\n",
    "    display(df_source_labels.sample(n=3, random_state=51))"
   ]
  },
  {
   "cell_type": "code",
   "execution_count": 21,
   "metadata": {},
   "outputs": [
    {
     "data": {
      "text/plain": [
       "50"
      ]
     },
     "execution_count": 21,
     "metadata": {},
     "output_type": "execute_result"
    }
   ],
   "source": [
    "gc.collect()"
   ]
  },
  {
   "cell_type": "markdown",
   "metadata": {},
   "source": [
    "## Parameters"
   ]
  },
  {
   "cell_type": "code",
   "execution_count": 22,
   "metadata": {},
   "outputs": [],
   "source": [
    "epochs = 20\n",
    "\n",
    "loss = 'binary_crossentropy'\n",
    "metrics = ['accuracy']"
   ]
  },
  {
   "cell_type": "code",
   "execution_count": 23,
   "metadata": {},
   "outputs": [],
   "source": [
    "random_state = 51\n",
    "\n",
    "sample_size = 2000\n",
    "event_count = 200\n",
    "batch_size = 64"
   ]
  },
  {
   "cell_type": "markdown",
   "metadata": {},
   "source": [
    "## Data Selection"
   ]
  },
  {
   "cell_type": "code",
   "execution_count": 24,
   "metadata": {},
   "outputs": [
    {
     "name": "stdout",
     "output_type": "stream",
     "text": [
      "All Session IDs: 11779\n",
      "Sample Session IDs: 2000\n"
     ]
    }
   ],
   "source": [
    "# select all the unique session ids\n",
    "all_session_ids = df_source_labels['session_id'].unique()\n",
    "print('All Session IDs:', len(all_session_ids))\n",
    "\n",
    "# create a sample for testing\n",
    "session_ids = np.random.choice(all_session_ids, size=sample_size, replace=False)\n",
    "print('Sample Session IDs:', len(session_ids))"
   ]
  },
  {
   "cell_type": "code",
   "execution_count": 25,
   "metadata": {},
   "outputs": [
    {
     "name": "stdout",
     "output_type": "stream",
     "text": [
      "Train: 1400\n",
      "Validation: 300\n",
      "Test: 300\n"
     ]
    }
   ],
   "source": [
    "# split the dataset into train, validation and test sets\n",
    "train, test = train_test_split(session_ids, test_size=0.3)\n",
    "test, val = train_test_split(test, test_size=0.5)\n",
    "\n",
    "# print the number of sessions in each set\n",
    "print(f'Train: {len(train)}')\n",
    "print(f'Validation: {len(val)}')\n",
    "print(f'Test: {len(test)}')"
   ]
  },
  {
   "attachments": {},
   "cell_type": "markdown",
   "metadata": {},
   "source": [
    "## Create Datasets"
   ]
  },
  {
   "cell_type": "code",
   "execution_count": 26,
   "metadata": {},
   "outputs": [
    {
     "data": {
      "text/plain": [
       "45"
      ]
     },
     "execution_count": 26,
     "metadata": {},
     "output_type": "execute_result"
    }
   ],
   "source": [
    "# create the training dataset\n",
    "X_train, y_train = create_dataset(\n",
    "    X=df_source, y=df_source_labels, session_list=train, event_count=event_count)\n",
    "gc.collect()"
   ]
  },
  {
   "cell_type": "code",
   "execution_count": 27,
   "metadata": {},
   "outputs": [
    {
     "data": {
      "text/plain": [
       "90"
      ]
     },
     "execution_count": 27,
     "metadata": {},
     "output_type": "execute_result"
    }
   ],
   "source": [
    "# create the validation dataset\n",
    "X_val, y_val = create_dataset(\n",
    "    X=df_source, y=df_source_labels, session_list=val, event_count=event_count)\n",
    "gc.collect()"
   ]
  },
  {
   "cell_type": "code",
   "execution_count": 28,
   "metadata": {},
   "outputs": [
    {
     "data": {
      "text/plain": [
       "90"
      ]
     },
     "execution_count": 28,
     "metadata": {},
     "output_type": "execute_result"
    }
   ],
   "source": [
    "# create the test dataset\n",
    "X_test, y_test = create_dataset(\n",
    "    X=df_source, y=df_source_labels, session_list=test, event_count=event_count)\n",
    "gc.collect()"
   ]
  },
  {
   "cell_type": "markdown",
   "metadata": {},
   "source": [
    "## Model Training"
   ]
  },
  {
   "cell_type": "code",
   "execution_count": 29,
   "metadata": {},
   "outputs": [
    {
     "name": "stderr",
     "output_type": "stream",
     "text": [
      "2023-02-27 12:59:44.805288: I tensorflow/compiler/xla/stream_executor/cuda/cuda_gpu_executor.cc:981] successful NUMA node read from SysFS had negative value (-1), but there must be at least one NUMA node, so returning NUMA node zero\n",
      "2023-02-27 12:59:44.818068: I tensorflow/compiler/xla/stream_executor/cuda/cuda_gpu_executor.cc:981] successful NUMA node read from SysFS had negative value (-1), but there must be at least one NUMA node, so returning NUMA node zero\n",
      "2023-02-27 12:59:44.818222: I tensorflow/compiler/xla/stream_executor/cuda/cuda_gpu_executor.cc:981] successful NUMA node read from SysFS had negative value (-1), but there must be at least one NUMA node, so returning NUMA node zero\n",
      "2023-02-27 12:59:44.818839: I tensorflow/core/platform/cpu_feature_guard.cc:193] This TensorFlow binary is optimized with oneAPI Deep Neural Network Library (oneDNN) to use the following CPU instructions in performance-critical operations:  AVX2 FMA\n",
      "To enable them in other operations, rebuild TensorFlow with the appropriate compiler flags.\n",
      "2023-02-27 12:59:44.819345: I tensorflow/compiler/xla/stream_executor/cuda/cuda_gpu_executor.cc:981] successful NUMA node read from SysFS had negative value (-1), but there must be at least one NUMA node, so returning NUMA node zero\n",
      "2023-02-27 12:59:44.819471: I tensorflow/compiler/xla/stream_executor/cuda/cuda_gpu_executor.cc:981] successful NUMA node read from SysFS had negative value (-1), but there must be at least one NUMA node, so returning NUMA node zero\n",
      "2023-02-27 12:59:44.819583: I tensorflow/compiler/xla/stream_executor/cuda/cuda_gpu_executor.cc:981] successful NUMA node read from SysFS had negative value (-1), but there must be at least one NUMA node, so returning NUMA node zero\n",
      "2023-02-27 12:59:45.047112: I tensorflow/compiler/xla/stream_executor/cuda/cuda_gpu_executor.cc:981] successful NUMA node read from SysFS had negative value (-1), but there must be at least one NUMA node, so returning NUMA node zero\n",
      "2023-02-27 12:59:45.047251: I tensorflow/compiler/xla/stream_executor/cuda/cuda_gpu_executor.cc:981] successful NUMA node read from SysFS had negative value (-1), but there must be at least one NUMA node, so returning NUMA node zero\n",
      "2023-02-27 12:59:45.047360: I tensorflow/compiler/xla/stream_executor/cuda/cuda_gpu_executor.cc:981] successful NUMA node read from SysFS had negative value (-1), but there must be at least one NUMA node, so returning NUMA node zero\n",
      "2023-02-27 12:59:45.047445: I tensorflow/core/common_runtime/gpu/gpu_device.cc:1613] Created device /job:localhost/replica:0/task:0/device:GPU:0 with 9704 MB memory:  -> device: 0, name: NVIDIA GeForce RTX 3080 Ti, pci bus id: 0000:07:00.0, compute capability: 8.6\n"
     ]
    }
   ],
   "source": [
    "model = Sequential()\n",
    "model.add(layers.LSTM(32, input_shape=(event_count, len(vector_columns))))\n",
    "model.add(layers.Dropout(0.5))\n",
    "model.add(layers.Dense(1, activation='sigmoid'))"
   ]
  },
  {
   "cell_type": "code",
   "execution_count": 30,
   "metadata": {},
   "outputs": [
    {
     "name": "stdout",
     "output_type": "stream",
     "text": [
      "Epoch 1/20\n"
     ]
    },
    {
     "name": "stderr",
     "output_type": "stream",
     "text": [
      "2023-02-27 12:59:47.961513: I tensorflow/compiler/xla/stream_executor/cuda/cuda_dnn.cc:428] Loaded cuDNN version 8800\n"
     ]
    },
    {
     "name": "stdout",
     "output_type": "stream",
     "text": [
      " 10/394 [..............................] - ETA: 2s - loss: 0.7025 - accuracy: 0.5125   "
     ]
    },
    {
     "name": "stderr",
     "output_type": "stream",
     "text": [
      "2023-02-27 12:59:48.440934: I tensorflow/compiler/xla/stream_executor/cuda/cuda_blas.cc:630] TensorFloat-32 will be used for the matrix multiplication. This will only be logged once.\n"
     ]
    },
    {
     "name": "stdout",
     "output_type": "stream",
     "text": [
      "394/394 [==============================] - 5s 8ms/step - loss: 0.6263 - accuracy: 0.6628 - val_loss: 0.5636 - val_accuracy: 0.7091\n",
      "Epoch 2/20\n",
      "394/394 [==============================] - 3s 7ms/step - loss: 0.5519 - accuracy: 0.7248 - val_loss: 0.5239 - val_accuracy: 0.7404\n",
      "Epoch 3/20\n",
      "394/394 [==============================] - 3s 7ms/step - loss: 0.5357 - accuracy: 0.7342 - val_loss: 0.5150 - val_accuracy: 0.7426\n",
      "Epoch 4/20\n",
      "394/394 [==============================] - 2s 6ms/step - loss: 0.5303 - accuracy: 0.7371 - val_loss: 0.5122 - val_accuracy: 0.7467\n",
      "Epoch 5/20\n",
      "394/394 [==============================] - 3s 7ms/step - loss: 0.5271 - accuracy: 0.7381 - val_loss: 0.5102 - val_accuracy: 0.7441\n",
      "Epoch 6/20\n",
      "394/394 [==============================] - 3s 6ms/step - loss: 0.5243 - accuracy: 0.7401 - val_loss: 0.5095 - val_accuracy: 0.7439\n",
      "Epoch 7/20\n",
      "394/394 [==============================] - 3s 7ms/step - loss: 0.5246 - accuracy: 0.7418 - val_loss: 0.5091 - val_accuracy: 0.7443\n",
      "Epoch 8/20\n",
      "394/394 [==============================] - 3s 7ms/step - loss: 0.5234 - accuracy: 0.7407 - val_loss: 0.5079 - val_accuracy: 0.7443\n",
      "Epoch 9/20\n",
      "394/394 [==============================] - 3s 7ms/step - loss: 0.5214 - accuracy: 0.7413 - val_loss: 0.5073 - val_accuracy: 0.7444\n",
      "Epoch 10/20\n",
      "394/394 [==============================] - 2s 6ms/step - loss: 0.5214 - accuracy: 0.7418 - val_loss: 0.5074 - val_accuracy: 0.7459\n",
      "Epoch 11/20\n",
      "394/394 [==============================] - 3s 7ms/step - loss: 0.5202 - accuracy: 0.7439 - val_loss: 0.5066 - val_accuracy: 0.7448\n",
      "Epoch 12/20\n",
      "394/394 [==============================] - 3s 6ms/step - loss: 0.5218 - accuracy: 0.7431 - val_loss: 0.5070 - val_accuracy: 0.7441\n",
      "Epoch 13/20\n",
      "394/394 [==============================] - 3s 7ms/step - loss: 0.5203 - accuracy: 0.7427 - val_loss: 0.5069 - val_accuracy: 0.7443\n",
      "Epoch 14/20\n",
      "394/394 [==============================] - 2s 6ms/step - loss: 0.5198 - accuracy: 0.7449 - val_loss: 0.5059 - val_accuracy: 0.7461\n",
      "Epoch 15/20\n",
      "394/394 [==============================] - 2s 6ms/step - loss: 0.5203 - accuracy: 0.7460 - val_loss: 0.5063 - val_accuracy: 0.7452\n",
      "Epoch 16/20\n",
      "394/394 [==============================] - 3s 6ms/step - loss: 0.5177 - accuracy: 0.7451 - val_loss: 0.5061 - val_accuracy: 0.7446\n",
      "Epoch 17/20\n",
      "394/394 [==============================] - 2s 6ms/step - loss: 0.5190 - accuracy: 0.7454 - val_loss: 0.5064 - val_accuracy: 0.7433\n",
      "Epoch 18/20\n",
      "394/394 [==============================] - 3s 7ms/step - loss: 0.5172 - accuracy: 0.7458 - val_loss: 0.5059 - val_accuracy: 0.7433\n",
      "Epoch 19/20\n",
      "394/394 [==============================] - 3s 6ms/step - loss: 0.5186 - accuracy: 0.7440 - val_loss: 0.5064 - val_accuracy: 0.7428\n",
      "Epoch 20/20\n",
      "394/394 [==============================] - 3s 7ms/step - loss: 0.5182 - accuracy: 0.7477 - val_loss: 0.5060 - val_accuracy: 0.7450\n"
     ]
    },
    {
     "data": {
      "image/png": "[encoded data removed]",
      "text/plain": [
       "<Figure size 500x300 with 1 Axes>"
      ]
     },
     "metadata": {},
     "output_type": "display_data"
    },
    {
     "data": {
      "image/png": "[encoded data removed]",
      "text/plain": [
       "<Figure size 500x300 with 1 Axes>"
      ]
     },
     "metadata": {},
     "output_type": "display_data"
    },
    {
     "name": "stdout",
     "output_type": "stream",
     "text": [
      "169/169 [==============================] - 1s 2ms/step\n",
      "              precision    recall  f1-score   support\n",
      "\n",
      "           0       0.49      0.63      0.55      1573\n",
      "           1       0.83      0.73      0.77      3827\n",
      "\n",
      "    accuracy                           0.70      5400\n",
      "   macro avg       0.66      0.68      0.66      5400\n",
      "weighted avg       0.73      0.70      0.71      5400\n",
      "\n",
      "Optimized threshold for best F1: 0.69\n"
     ]
    },
    {
     "data": {
      "text/plain": [
       "0.6900000000000001"
      ]
     },
     "execution_count": 30,
     "metadata": {},
     "output_type": "execute_result"
    }
   ],
   "source": [
    "global_train_model(\n",
    "    model=model,\n",
    "    epochs=epochs,\n",
    "    batch_size=batch_size,\n",
    "    optimizer=optimizers.RMSprop(learning_rate=0.0001),\n",
    "    loss=loss,\n",
    "    metrics=metrics)"
   ]
  },
  {
   "attachments": {},
   "cell_type": "markdown",
   "metadata": {},
   "source": [
    "### Increase model complexity (first layer units)"
   ]
  },
  {
   "cell_type": "markdown",
   "metadata": {},
   "source": [
    "#### 64 Units"
   ]
  },
  {
   "cell_type": "code",
   "execution_count": 31,
   "metadata": {},
   "outputs": [],
   "source": [
    "model = Sequential()\n",
    "model.add(layers.LSTM(64, input_shape=(event_count, len(vector_columns))))\n",
    "model.add(layers.Dropout(0.5))\n",
    "model.add(layers.Dense(1, activation='sigmoid'))"
   ]
  },
  {
   "cell_type": "code",
   "execution_count": 32,
   "metadata": {},
   "outputs": [
    {
     "name": "stdout",
     "output_type": "stream",
     "text": [
      "Epoch 1/20\n",
      "394/394 [==============================] - 4s 8ms/step - loss: 0.6000 - accuracy: 0.6893 - val_loss: 0.5307 - val_accuracy: 0.7320\n",
      "Epoch 2/20\n",
      "394/394 [==============================] - 3s 7ms/step - loss: 0.5322 - accuracy: 0.7339 - val_loss: 0.5122 - val_accuracy: 0.7435\n",
      "Epoch 3/20\n",
      "394/394 [==============================] - 3s 7ms/step - loss: 0.5242 - accuracy: 0.7385 - val_loss: 0.5094 - val_accuracy: 0.7457\n",
      "Epoch 4/20\n",
      "394/394 [==============================] - 3s 7ms/step - loss: 0.5232 - accuracy: 0.7398 - val_loss: 0.5072 - val_accuracy: 0.7452\n",
      "Epoch 5/20\n",
      "394/394 [==============================] - 3s 7ms/step - loss: 0.5229 - accuracy: 0.7419 - val_loss: 0.5064 - val_accuracy: 0.7452\n",
      "Epoch 6/20\n",
      "394/394 [==============================] - 3s 7ms/step - loss: 0.5204 - accuracy: 0.7431 - val_loss: 0.5060 - val_accuracy: 0.7457\n",
      "Epoch 7/20\n",
      "394/394 [==============================] - 3s 7ms/step - loss: 0.5200 - accuracy: 0.7414 - val_loss: 0.5055 - val_accuracy: 0.7452\n",
      "Epoch 8/20\n",
      "394/394 [==============================] - 3s 7ms/step - loss: 0.5214 - accuracy: 0.7421 - val_loss: 0.5068 - val_accuracy: 0.7454\n",
      "Epoch 9/20\n",
      "394/394 [==============================] - 3s 7ms/step - loss: 0.5186 - accuracy: 0.7452 - val_loss: 0.5062 - val_accuracy: 0.7474\n",
      "Epoch 10/20\n",
      "394/394 [==============================] - 3s 7ms/step - loss: 0.5191 - accuracy: 0.7444 - val_loss: 0.5053 - val_accuracy: 0.7457\n",
      "Epoch 11/20\n",
      "394/394 [==============================] - 3s 7ms/step - loss: 0.5184 - accuracy: 0.7452 - val_loss: 0.5053 - val_accuracy: 0.7472\n",
      "Epoch 12/20\n",
      "394/394 [==============================] - 3s 7ms/step - loss: 0.5180 - accuracy: 0.7456 - val_loss: 0.5051 - val_accuracy: 0.7467\n",
      "Epoch 13/20\n",
      "394/394 [==============================] - 3s 7ms/step - loss: 0.5169 - accuracy: 0.7449 - val_loss: 0.5045 - val_accuracy: 0.7465\n",
      "Epoch 14/20\n",
      "394/394 [==============================] - 3s 7ms/step - loss: 0.5161 - accuracy: 0.7449 - val_loss: 0.5053 - val_accuracy: 0.7461\n",
      "Epoch 15/20\n",
      "394/394 [==============================] - 3s 7ms/step - loss: 0.5163 - accuracy: 0.7468 - val_loss: 0.5046 - val_accuracy: 0.7450\n",
      "Epoch 16/20\n",
      "394/394 [==============================] - 3s 7ms/step - loss: 0.5166 - accuracy: 0.7461 - val_loss: 0.5055 - val_accuracy: 0.7448\n",
      "Epoch 17/20\n",
      "394/394 [==============================] - 3s 7ms/step - loss: 0.5168 - accuracy: 0.7468 - val_loss: 0.5047 - val_accuracy: 0.7461\n",
      "Epoch 18/20\n",
      "394/394 [==============================] - 3s 7ms/step - loss: 0.5153 - accuracy: 0.7470 - val_loss: 0.5045 - val_accuracy: 0.7457\n",
      "Epoch 19/20\n",
      "394/394 [==============================] - 3s 7ms/step - loss: 0.5166 - accuracy: 0.7473 - val_loss: 0.5061 - val_accuracy: 0.7456\n",
      "Epoch 20/20\n",
      "394/394 [==============================] - 3s 7ms/step - loss: 0.5155 - accuracy: 0.7463 - val_loss: 0.5044 - val_accuracy: 0.7474\n"
     ]
    },
    {
     "data": {
      "image/png": "[encoded data removed]",
      "text/plain": [
       "<Figure size 500x300 with 1 Axes>"
      ]
     },
     "metadata": {},
     "output_type": "display_data"
    },
    {
     "data": {
      "image/png": "[encoded data removed]",
      "text/plain": [
       "<Figure size 500x300 with 1 Axes>"
      ]
     },
     "metadata": {},
     "output_type": "display_data"
    },
    {
     "name": "stdout",
     "output_type": "stream",
     "text": [
      "169/169 [==============================] - 1s 3ms/step\n",
      "              precision    recall  f1-score   support\n",
      "\n",
      "           0       0.50      0.59      0.54      1573\n",
      "           1       0.82      0.76      0.79      3827\n",
      "\n",
      "    accuracy                           0.71      5400\n",
      "   macro avg       0.66      0.67      0.66      5400\n",
      "weighted avg       0.73      0.71      0.72      5400\n",
      "\n",
      "Optimized threshold for best F1: 0.66\n"
     ]
    },
    {
     "data": {
      "text/plain": [
       "0.66"
      ]
     },
     "execution_count": 32,
     "metadata": {},
     "output_type": "execute_result"
    }
   ],
   "source": [
    "global_train_model(\n",
    "    model=model,\n",
    "    epochs=epochs,\n",
    "    batch_size=batch_size,\n",
    "    optimizer=optimizers.RMSprop(learning_rate=0.0001),\n",
    "    loss=loss,\n",
    "    metrics=metrics)"
   ]
  },
  {
   "attachments": {},
   "cell_type": "markdown",
   "metadata": {},
   "source": [
    "### Try a diffeten optimizer"
   ]
  },
  {
   "cell_type": "code",
   "execution_count": 33,
   "metadata": {},
   "outputs": [],
   "source": [
    "model = Sequential()\n",
    "model.add(layers.LSTM(64, input_shape=(event_count, len(vector_columns))))\n",
    "model.add(layers.Dropout(0.5))\n",
    "model.add(layers.Dense(1, activation='sigmoid'))"
   ]
  },
  {
   "cell_type": "code",
   "execution_count": 34,
   "metadata": {},
   "outputs": [
    {
     "name": "stdout",
     "output_type": "stream",
     "text": [
      "Epoch 1/30\n",
      "394/394 [==============================] - 4s 8ms/step - loss: 0.5851 - accuracy: 0.7070 - val_loss: 0.5167 - val_accuracy: 0.7448\n",
      "Epoch 2/30\n",
      "394/394 [==============================] - 3s 7ms/step - loss: 0.5258 - accuracy: 0.7383 - val_loss: 0.5087 - val_accuracy: 0.7457\n",
      "Epoch 3/30\n",
      "394/394 [==============================] - 3s 7ms/step - loss: 0.5226 - accuracy: 0.7404 - val_loss: 0.5060 - val_accuracy: 0.7467\n",
      "Epoch 4/30\n",
      "394/394 [==============================] - 3s 7ms/step - loss: 0.5215 - accuracy: 0.7401 - val_loss: 0.5062 - val_accuracy: 0.7474\n",
      "Epoch 5/30\n",
      "394/394 [==============================] - 3s 7ms/step - loss: 0.5214 - accuracy: 0.7425 - val_loss: 0.5059 - val_accuracy: 0.7467\n",
      "Epoch 6/30\n",
      "394/394 [==============================] - 3s 7ms/step - loss: 0.5205 - accuracy: 0.7441 - val_loss: 0.5066 - val_accuracy: 0.7496\n",
      "Epoch 7/30\n",
      "394/394 [==============================] - 3s 7ms/step - loss: 0.5190 - accuracy: 0.7464 - val_loss: 0.5054 - val_accuracy: 0.7481\n",
      "Epoch 8/30\n",
      "394/394 [==============================] - 3s 7ms/step - loss: 0.5187 - accuracy: 0.7428 - val_loss: 0.5056 - val_accuracy: 0.7472\n",
      "Epoch 9/30\n",
      "394/394 [==============================] - 3s 7ms/step - loss: 0.5172 - accuracy: 0.7452 - val_loss: 0.5047 - val_accuracy: 0.7489\n",
      "Epoch 10/30\n",
      "394/394 [==============================] - 3s 7ms/step - loss: 0.5175 - accuracy: 0.7457 - val_loss: 0.5043 - val_accuracy: 0.7491\n",
      "Epoch 11/30\n",
      "394/394 [==============================] - 3s 7ms/step - loss: 0.5170 - accuracy: 0.7449 - val_loss: 0.5047 - val_accuracy: 0.7493\n",
      "Epoch 12/30\n",
      "394/394 [==============================] - 3s 7ms/step - loss: 0.5171 - accuracy: 0.7452 - val_loss: 0.5043 - val_accuracy: 0.7496\n",
      "Epoch 13/30\n",
      "394/394 [==============================] - 3s 7ms/step - loss: 0.5165 - accuracy: 0.7443 - val_loss: 0.5044 - val_accuracy: 0.7481\n",
      "Epoch 14/30\n",
      "394/394 [==============================] - 3s 7ms/step - loss: 0.5173 - accuracy: 0.7460 - val_loss: 0.5054 - val_accuracy: 0.7474\n",
      "Epoch 15/30\n",
      "394/394 [==============================] - 3s 7ms/step - loss: 0.5162 - accuracy: 0.7446 - val_loss: 0.5053 - val_accuracy: 0.7476\n",
      "Epoch 16/30\n",
      "394/394 [==============================] - 3s 7ms/step - loss: 0.5161 - accuracy: 0.7463 - val_loss: 0.5048 - val_accuracy: 0.7476\n",
      "Epoch 17/30\n",
      "394/394 [==============================] - 3s 7ms/step - loss: 0.5144 - accuracy: 0.7472 - val_loss: 0.5049 - val_accuracy: 0.7487\n",
      "Epoch 18/30\n",
      "394/394 [==============================] - 3s 7ms/step - loss: 0.5144 - accuracy: 0.7491 - val_loss: 0.5046 - val_accuracy: 0.7474\n",
      "Epoch 19/30\n",
      "394/394 [==============================] - 3s 7ms/step - loss: 0.5142 - accuracy: 0.7484 - val_loss: 0.5040 - val_accuracy: 0.7478\n",
      "Epoch 20/30\n",
      "394/394 [==============================] - 3s 7ms/step - loss: 0.5144 - accuracy: 0.7477 - val_loss: 0.5037 - val_accuracy: 0.7476\n",
      "Epoch 21/30\n",
      "394/394 [==============================] - 3s 7ms/step - loss: 0.5143 - accuracy: 0.7474 - val_loss: 0.5047 - val_accuracy: 0.7487\n",
      "Epoch 22/30\n",
      "394/394 [==============================] - 3s 7ms/step - loss: 0.5127 - accuracy: 0.7480 - val_loss: 0.5043 - val_accuracy: 0.7472\n",
      "Epoch 23/30\n",
      "394/394 [==============================] - 3s 7ms/step - loss: 0.5128 - accuracy: 0.7482 - val_loss: 0.5037 - val_accuracy: 0.7489\n",
      "Epoch 24/30\n",
      "394/394 [==============================] - 3s 7ms/step - loss: 0.5141 - accuracy: 0.7494 - val_loss: 0.5045 - val_accuracy: 0.7476\n",
      "Epoch 25/30\n",
      "394/394 [==============================] - 3s 7ms/step - loss: 0.5128 - accuracy: 0.7478 - val_loss: 0.5045 - val_accuracy: 0.7465\n",
      "Epoch 26/30\n",
      "394/394 [==============================] - 3s 7ms/step - loss: 0.5114 - accuracy: 0.7482 - val_loss: 0.5042 - val_accuracy: 0.7470\n",
      "Epoch 27/30\n",
      "394/394 [==============================] - 3s 7ms/step - loss: 0.5123 - accuracy: 0.7480 - val_loss: 0.5055 - val_accuracy: 0.7467\n",
      "Epoch 28/30\n",
      "394/394 [==============================] - 3s 7ms/step - loss: 0.5118 - accuracy: 0.7496 - val_loss: 0.5047 - val_accuracy: 0.7478\n",
      "Epoch 29/30\n",
      "394/394 [==============================] - 3s 7ms/step - loss: 0.5118 - accuracy: 0.7491 - val_loss: 0.5055 - val_accuracy: 0.7456\n",
      "Epoch 30/30\n",
      "394/394 [==============================] - 3s 7ms/step - loss: 0.5114 - accuracy: 0.7495 - val_loss: 0.5048 - val_accuracy: 0.7498\n"
     ]
    },
    {
     "data": {
      "image/png": "[encoded data removed]",
      "text/plain": [
       "<Figure size 500x300 with 1 Axes>"
      ]
     },
     "metadata": {},
     "output_type": "display_data"
    },
    {
     "data": {
      "image/png": "[encoded data removed]",
      "text/plain": [
       "<Figure size 500x300 with 1 Axes>"
      ]
     },
     "metadata": {},
     "output_type": "display_data"
    },
    {
     "name": "stdout",
     "output_type": "stream",
     "text": [
      "169/169 [==============================] - 1s 2ms/step\n",
      "              precision    recall  f1-score   support\n",
      "\n",
      "           0       0.50      0.59      0.54      1573\n",
      "           1       0.82      0.76      0.79      3827\n",
      "\n",
      "    accuracy                           0.71      5400\n",
      "   macro avg       0.66      0.67      0.67      5400\n",
      "weighted avg       0.73      0.71      0.72      5400\n",
      "\n",
      "Optimized threshold for best F1: 0.65\n"
     ]
    },
    {
     "data": {
      "text/plain": [
       "0.65"
      ]
     },
     "execution_count": 34,
     "metadata": {},
     "output_type": "execute_result"
    }
   ],
   "source": [
    "global_train_model(\n",
    "    model=model,\n",
    "    epochs=30,\n",
    "    batch_size=batch_size,\n",
    "    optimizer=optimizers.Adam(learning_rate=0.0001),\n",
    "    loss=loss,\n",
    "    metrics=metrics)"
   ]
  },
  {
   "attachments": {},
   "cell_type": "markdown",
   "metadata": {},
   "source": [
    "## Increase Data Size"
   ]
  },
  {
   "cell_type": "code",
   "execution_count": 25,
   "metadata": {},
   "outputs": [],
   "source": [
    "def select_sessions(\n",
    "        y: pd.DataFrame,\n",
    "        sample_size: int,\n",
    "        random_state: int=1337) -> Tuple[np.ndarray, np.ndarray, np.ndarray]:\n",
    "    \"\"\"\n",
    "    Selects a sample of sessions from the dataset.\n",
    "\n",
    "    Parameters\n",
    "    ----------\n",
    "    y : pd.DataFrame\n",
    "        The label dataset.\n",
    "    sample_size : int\n",
    "        The number of sessions to select.\n",
    "    random_state : int\n",
    "        The random state to use.\n",
    "\n",
    "    Returns\n",
    "    -------\n",
    "    Tuple[np.ndarray, np.ndarray, np.ndarray]\n",
    "        The selected session ids, the main dataset and the label dataset.\n",
    "    \"\"\"\n",
    "    # select all the unique session ids\n",
    "    all_session_ids = y['session_id'].unique()\n",
    "\n",
    "    # create a sample for testing\n",
    "    session_ids = np.random.choice(all_session_ids, size=sample_size, replace=False)\n",
    "\n",
    "    # split the dataset into train, validation and test sets\n",
    "    train, test = train_test_split(session_ids, test_size=0.3)\n",
    "    test, val = train_test_split(test, test_size=0.5)\n",
    "\n",
    "    # print the number of sessions in each set\n",
    "    print(f'Train: {len(train)}')\n",
    "    print(f'Validation: {len(val)}')\n",
    "    print(f'Test: {len(test)}')\n",
    "\n",
    "    return train, val, test"
   ]
  },
  {
   "cell_type": "code",
   "execution_count": 26,
   "metadata": {},
   "outputs": [
    {
     "name": "stdout",
     "output_type": "stream",
     "text": [
      "Train: 2800\n",
      "Validation: 600\n",
      "Test: 600\n"
     ]
    },
    {
     "data": {
      "text/plain": [
       "45"
      ]
     },
     "execution_count": 26,
     "metadata": {},
     "output_type": "execute_result"
    }
   ],
   "source": [
    "# select a sample of sessions\n",
    "train, val, test = select_sessions(y=df_source_labels, sample_size=4000, random_state=random_state)\n",
    "\n",
    "# create the training dataset\n",
    "X_train, y_train = create_dataset(\n",
    "    X=df_source, y=df_source_labels, session_list=train, event_count=event_count)\n",
    "gc.collect()\n",
    "\n",
    "# create the validation dataset\n",
    "X_val, y_val = create_dataset(\n",
    "    X=df_source, y=df_source_labels, session_list=val, event_count=event_count)\n",
    "gc.collect()\n",
    "\n",
    "# create the test dataset\n",
    "X_test, y_test = create_dataset(\n",
    "    X=df_source, y=df_source_labels, session_list=test, event_count=event_count)\n",
    "gc.collect()"
   ]
  },
  {
   "attachments": {},
   "cell_type": "markdown",
   "metadata": {},
   "source": [
    "### Retry Last Model"
   ]
  },
  {
   "cell_type": "code",
   "execution_count": 27,
   "metadata": {},
   "outputs": [
    {
     "name": "stderr",
     "output_type": "stream",
     "text": [
      "2023-02-27 13:33:14.322122: I tensorflow/compiler/xla/stream_executor/cuda/cuda_gpu_executor.cc:981] successful NUMA node read from SysFS had negative value (-1), but there must be at least one NUMA node, so returning NUMA node zero\n",
      "2023-02-27 13:33:14.383632: I tensorflow/compiler/xla/stream_executor/cuda/cuda_gpu_executor.cc:981] successful NUMA node read from SysFS had negative value (-1), but there must be at least one NUMA node, so returning NUMA node zero\n",
      "2023-02-27 13:33:14.383769: I tensorflow/compiler/xla/stream_executor/cuda/cuda_gpu_executor.cc:981] successful NUMA node read from SysFS had negative value (-1), but there must be at least one NUMA node, so returning NUMA node zero\n",
      "2023-02-27 13:33:14.384444: I tensorflow/core/platform/cpu_feature_guard.cc:193] This TensorFlow binary is optimized with oneAPI Deep Neural Network Library (oneDNN) to use the following CPU instructions in performance-critical operations:  AVX2 FMA\n",
      "To enable them in other operations, rebuild TensorFlow with the appropriate compiler flags.\n",
      "2023-02-27 13:33:14.384817: I tensorflow/compiler/xla/stream_executor/cuda/cuda_gpu_executor.cc:981] successful NUMA node read from SysFS had negative value (-1), but there must be at least one NUMA node, so returning NUMA node zero\n",
      "2023-02-27 13:33:14.384931: I tensorflow/compiler/xla/stream_executor/cuda/cuda_gpu_executor.cc:981] successful NUMA node read from SysFS had negative value (-1), but there must be at least one NUMA node, so returning NUMA node zero\n",
      "2023-02-27 13:33:14.385029: I tensorflow/compiler/xla/stream_executor/cuda/cuda_gpu_executor.cc:981] successful NUMA node read from SysFS had negative value (-1), but there must be at least one NUMA node, so returning NUMA node zero\n",
      "2023-02-27 13:33:14.847398: I tensorflow/compiler/xla/stream_executor/cuda/cuda_gpu_executor.cc:981] successful NUMA node read from SysFS had negative value (-1), but there must be at least one NUMA node, so returning NUMA node zero\n",
      "2023-02-27 13:33:14.847715: I tensorflow/compiler/xla/stream_executor/cuda/cuda_gpu_executor.cc:981] successful NUMA node read from SysFS had negative value (-1), but there must be at least one NUMA node, so returning NUMA node zero\n",
      "2023-02-27 13:33:14.847824: I tensorflow/compiler/xla/stream_executor/cuda/cuda_gpu_executor.cc:981] successful NUMA node read from SysFS had negative value (-1), but there must be at least one NUMA node, so returning NUMA node zero\n",
      "2023-02-27 13:33:14.848073: I tensorflow/core/common_runtime/gpu/gpu_device.cc:1613] Created device /job:localhost/replica:0/task:0/device:GPU:0 with 9750 MB memory:  -> device: 0, name: NVIDIA GeForce RTX 3080 Ti, pci bus id: 0000:07:00.0, compute capability: 8.6\n"
     ]
    }
   ],
   "source": [
    "model = Sequential()\n",
    "model.add(layers.LSTM(64, input_shape=(event_count, len(vector_columns))))\n",
    "model.add(layers.Dropout(0.5))\n",
    "model.add(layers.Dense(1, activation='sigmoid'))"
   ]
  },
  {
   "cell_type": "code",
   "execution_count": 28,
   "metadata": {},
   "outputs": [
    {
     "name": "stderr",
     "output_type": "stream",
     "text": [
      "2023-02-27 13:33:15.475154: W tensorflow/tsl/framework/cpu_allocator_impl.cc:82] Allocation of 2661120000 exceeds 10% of free system memory.\n",
      "2023-02-27 13:33:16.627989: W tensorflow/tsl/framework/cpu_allocator_impl.cc:82] Allocation of 2661120000 exceeds 10% of free system memory.\n"
     ]
    },
    {
     "name": "stdout",
     "output_type": "stream",
     "text": [
      "Epoch 1/30\n"
     ]
    },
    {
     "name": "stderr",
     "output_type": "stream",
     "text": [
      "2023-02-27 13:33:19.361411: I tensorflow/compiler/xla/stream_executor/cuda/cuda_dnn.cc:428] Loaded cuDNN version 8800\n"
     ]
    },
    {
     "name": "stdout",
     "output_type": "stream",
     "text": [
      "  9/788 [..............................] - ETA: 5s - loss: 0.6758 - accuracy: 0.5781   "
     ]
    },
    {
     "name": "stderr",
     "output_type": "stream",
     "text": [
      "2023-02-27 13:33:20.253252: I tensorflow/compiler/xla/stream_executor/cuda/cuda_blas.cc:630] TensorFloat-32 will be used for the matrix multiplication. This will only be logged once.\n"
     ]
    },
    {
     "name": "stdout",
     "output_type": "stream",
     "text": [
      "788/788 [==============================] - 9s 7ms/step - loss: 0.5598 - accuracy: 0.7128 - val_loss: 0.5273 - val_accuracy: 0.7336\n",
      "Epoch 2/30\n",
      "648/788 [=======================>......] - ETA: 0s - loss: 0.5267 - accuracy: 0.7336"
     ]
    },
    {
     "ename": "KeyboardInterrupt",
     "evalue": "",
     "output_type": "error",
     "traceback": [
      "\u001b[0;31m---------------------------------------------------------------------------\u001b[0m",
      "\u001b[0;31mKeyboardInterrupt\u001b[0m                         Traceback (most recent call last)",
      "Cell \u001b[0;32mIn[28], line 1\u001b[0m\n\u001b[0;32m----> 1\u001b[0m global_train_model(\n\u001b[1;32m      2\u001b[0m     model\u001b[39m=\u001b[39;49mmodel,\n\u001b[1;32m      3\u001b[0m     epochs\u001b[39m=\u001b[39;49m\u001b[39m30\u001b[39;49m,\n\u001b[1;32m      4\u001b[0m     batch_size\u001b[39m=\u001b[39;49mbatch_size,\n\u001b[1;32m      5\u001b[0m     optimizer\u001b[39m=\u001b[39;49moptimizers\u001b[39m.\u001b[39;49mAdam(learning_rate\u001b[39m=\u001b[39;49m\u001b[39m0.0001\u001b[39;49m),\n\u001b[1;32m      6\u001b[0m     loss\u001b[39m=\u001b[39;49mloss,\n\u001b[1;32m      7\u001b[0m     metrics\u001b[39m=\u001b[39;49mmetrics)\n",
      "Cell \u001b[0;32mIn[17], line 40\u001b[0m, in \u001b[0;36mglobal_train_model\u001b[0;34m(model, epochs, batch_size, optimizer, loss, metrics, class_weight)\u001b[0m\n\u001b[1;32m     37\u001b[0m \u001b[39mglobal\u001b[39;00m X_test\n\u001b[1;32m     38\u001b[0m \u001b[39mglobal\u001b[39;00m y_test\n\u001b[0;32m---> 40\u001b[0m \u001b[39mreturn\u001b[39;00m train_and_test_model(\n\u001b[1;32m     41\u001b[0m         model\u001b[39m=\u001b[39;49mmodel,\n\u001b[1;32m     42\u001b[0m         X_train\u001b[39m=\u001b[39;49mX_train,\n\u001b[1;32m     43\u001b[0m         y_train\u001b[39m=\u001b[39;49my_train,\n\u001b[1;32m     44\u001b[0m         X_val\u001b[39m=\u001b[39;49mX_val,\n\u001b[1;32m     45\u001b[0m         y_val\u001b[39m=\u001b[39;49my_val,\n\u001b[1;32m     46\u001b[0m         X_test\u001b[39m=\u001b[39;49mX_test,\n\u001b[1;32m     47\u001b[0m         y_test\u001b[39m=\u001b[39;49my_test,\n\u001b[1;32m     48\u001b[0m         epochs\u001b[39m=\u001b[39;49mepochs,\n\u001b[1;32m     49\u001b[0m         batch_size\u001b[39m=\u001b[39;49mbatch_size,\n\u001b[1;32m     50\u001b[0m         optimizer\u001b[39m=\u001b[39;49moptimizer,\n\u001b[1;32m     51\u001b[0m         loss\u001b[39m=\u001b[39;49mloss,\n\u001b[1;32m     52\u001b[0m         metrics\u001b[39m=\u001b[39;49mmetrics,\n\u001b[1;32m     53\u001b[0m         class_weight\u001b[39m=\u001b[39;49mclass_weight)\n",
      "Cell \u001b[0;32mIn[16], line 52\u001b[0m, in \u001b[0;36mtrain_and_test_model\u001b[0;34m(model, X_train, y_train, X_val, y_val, X_test, y_test, epochs, batch_size, optimizer, loss, metrics, class_weight)\u001b[0m\n\u001b[1;32m      1\u001b[0m \u001b[39mdef\u001b[39;00m \u001b[39mtrain_and_test_model\u001b[39m(\n\u001b[1;32m      2\u001b[0m         model,\n\u001b[1;32m      3\u001b[0m         X_train: np\u001b[39m.\u001b[39mndarray,\n\u001b[0;32m   (...)\u001b[0m\n\u001b[1;32m     13\u001b[0m         metrics: \u001b[39mlist\u001b[39m,\n\u001b[1;32m     14\u001b[0m         class_weight: \u001b[39mdict\u001b[39m\u001b[39m=\u001b[39m\u001b[39mNone\u001b[39;00m) \u001b[39m-\u001b[39m\u001b[39m>\u001b[39m \u001b[39mfloat\u001b[39m:\n\u001b[1;32m     15\u001b[0m \u001b[39m    \u001b[39m\u001b[39m\"\"\"\u001b[39;00m\n\u001b[1;32m     16\u001b[0m \u001b[39m    Train and test the model.\u001b[39;00m\n\u001b[1;32m     17\u001b[0m \n\u001b[0;32m   (...)\u001b[0m\n\u001b[1;32m     50\u001b[0m \u001b[39m        The optimized threshold for the best F1 score.\u001b[39;00m\n\u001b[1;32m     51\u001b[0m \u001b[39m    \"\"\"\u001b[39;00m\n\u001b[0;32m---> 52\u001b[0m     history \u001b[39m=\u001b[39m train_model(\n\u001b[1;32m     53\u001b[0m         model\u001b[39m=\u001b[39;49mmodel,\n\u001b[1;32m     54\u001b[0m         X_train\u001b[39m=\u001b[39;49mX_train,\n\u001b[1;32m     55\u001b[0m         y_train\u001b[39m=\u001b[39;49my_train,\n\u001b[1;32m     56\u001b[0m         X_val\u001b[39m=\u001b[39;49mX_val,\n\u001b[1;32m     57\u001b[0m         y_val\u001b[39m=\u001b[39;49my_val,\n\u001b[1;32m     58\u001b[0m         epochs\u001b[39m=\u001b[39;49mepochs,\n\u001b[1;32m     59\u001b[0m         batch_size\u001b[39m=\u001b[39;49mbatch_size,\n\u001b[1;32m     60\u001b[0m         optimizer\u001b[39m=\u001b[39;49moptimizer,\n\u001b[1;32m     61\u001b[0m         loss\u001b[39m=\u001b[39;49mloss,\n\u001b[1;32m     62\u001b[0m         metrics\u001b[39m=\u001b[39;49mmetrics,\n\u001b[1;32m     63\u001b[0m         class_weight\u001b[39m=\u001b[39;49mclass_weight)\n\u001b[1;32m     65\u001b[0m     gc\u001b[39m.\u001b[39mcollect()\n\u001b[1;32m     67\u001b[0m     \u001b[39mreturn\u001b[39;00m test_model(model, history, X_test, y_test)\n",
      "Cell \u001b[0;32mIn[14], line 53\u001b[0m, in \u001b[0;36mtrain_model\u001b[0;34m(model, X_train, y_train, X_val, y_val, epochs, batch_size, optimizer, loss, metrics, class_weight)\u001b[0m\n\u001b[1;32m     47\u001b[0m model\u001b[39m.\u001b[39mcompile(\n\u001b[1;32m     48\u001b[0m     optimizer\u001b[39m=\u001b[39moptimizer,\n\u001b[1;32m     49\u001b[0m     loss\u001b[39m=\u001b[39mloss,\n\u001b[1;32m     50\u001b[0m     metrics\u001b[39m=\u001b[39mmetrics)\n\u001b[1;32m     52\u001b[0m \u001b[39m# fit the model\u001b[39;00m\n\u001b[0;32m---> 53\u001b[0m history \u001b[39m=\u001b[39m model\u001b[39m.\u001b[39;49mfit(\n\u001b[1;32m     54\u001b[0m     x\u001b[39m=\u001b[39;49mX_train,\n\u001b[1;32m     55\u001b[0m     y\u001b[39m=\u001b[39;49my_train,\n\u001b[1;32m     56\u001b[0m     epochs\u001b[39m=\u001b[39;49mepochs,\n\u001b[1;32m     57\u001b[0m     batch_size\u001b[39m=\u001b[39;49mbatch_size,\n\u001b[1;32m     58\u001b[0m     validation_data\u001b[39m=\u001b[39;49m(X_val, y_val),\n\u001b[1;32m     59\u001b[0m     class_weight\u001b[39m=\u001b[39;49mclass_weight)\n\u001b[1;32m     61\u001b[0m \u001b[39mreturn\u001b[39;00m history\n",
      "File \u001b[0;32m~/.local/lib/python3.10/site-packages/keras/utils/traceback_utils.py:65\u001b[0m, in \u001b[0;36mfilter_traceback.<locals>.error_handler\u001b[0;34m(*args, **kwargs)\u001b[0m\n\u001b[1;32m     63\u001b[0m filtered_tb \u001b[39m=\u001b[39m \u001b[39mNone\u001b[39;00m\n\u001b[1;32m     64\u001b[0m \u001b[39mtry\u001b[39;00m:\n\u001b[0;32m---> 65\u001b[0m     \u001b[39mreturn\u001b[39;00m fn(\u001b[39m*\u001b[39;49margs, \u001b[39m*\u001b[39;49m\u001b[39m*\u001b[39;49mkwargs)\n\u001b[1;32m     66\u001b[0m \u001b[39mexcept\u001b[39;00m \u001b[39mException\u001b[39;00m \u001b[39mas\u001b[39;00m e:\n\u001b[1;32m     67\u001b[0m     filtered_tb \u001b[39m=\u001b[39m _process_traceback_frames(e\u001b[39m.\u001b[39m__traceback__)\n",
      "File \u001b[0;32m~/.local/lib/python3.10/site-packages/keras/engine/training.py:1650\u001b[0m, in \u001b[0;36mModel.fit\u001b[0;34m(self, x, y, batch_size, epochs, verbose, callbacks, validation_split, validation_data, shuffle, class_weight, sample_weight, initial_epoch, steps_per_epoch, validation_steps, validation_batch_size, validation_freq, max_queue_size, workers, use_multiprocessing)\u001b[0m\n\u001b[1;32m   1642\u001b[0m \u001b[39mwith\u001b[39;00m tf\u001b[39m.\u001b[39mprofiler\u001b[39m.\u001b[39mexperimental\u001b[39m.\u001b[39mTrace(\n\u001b[1;32m   1643\u001b[0m     \u001b[39m\"\u001b[39m\u001b[39mtrain\u001b[39m\u001b[39m\"\u001b[39m,\n\u001b[1;32m   1644\u001b[0m     epoch_num\u001b[39m=\u001b[39mepoch,\n\u001b[0;32m   (...)\u001b[0m\n\u001b[1;32m   1647\u001b[0m     _r\u001b[39m=\u001b[39m\u001b[39m1\u001b[39m,\n\u001b[1;32m   1648\u001b[0m ):\n\u001b[1;32m   1649\u001b[0m     callbacks\u001b[39m.\u001b[39mon_train_batch_begin(step)\n\u001b[0;32m-> 1650\u001b[0m     tmp_logs \u001b[39m=\u001b[39m \u001b[39mself\u001b[39;49m\u001b[39m.\u001b[39;49mtrain_function(iterator)\n\u001b[1;32m   1651\u001b[0m     \u001b[39mif\u001b[39;00m data_handler\u001b[39m.\u001b[39mshould_sync:\n\u001b[1;32m   1652\u001b[0m         context\u001b[39m.\u001b[39masync_wait()\n",
      "File \u001b[0;32m~/.local/lib/python3.10/site-packages/tensorflow/python/util/traceback_utils.py:150\u001b[0m, in \u001b[0;36mfilter_traceback.<locals>.error_handler\u001b[0;34m(*args, **kwargs)\u001b[0m\n\u001b[1;32m    148\u001b[0m filtered_tb \u001b[39m=\u001b[39m \u001b[39mNone\u001b[39;00m\n\u001b[1;32m    149\u001b[0m \u001b[39mtry\u001b[39;00m:\n\u001b[0;32m--> 150\u001b[0m   \u001b[39mreturn\u001b[39;00m fn(\u001b[39m*\u001b[39;49margs, \u001b[39m*\u001b[39;49m\u001b[39m*\u001b[39;49mkwargs)\n\u001b[1;32m    151\u001b[0m \u001b[39mexcept\u001b[39;00m \u001b[39mException\u001b[39;00m \u001b[39mas\u001b[39;00m e:\n\u001b[1;32m    152\u001b[0m   filtered_tb \u001b[39m=\u001b[39m _process_traceback_frames(e\u001b[39m.\u001b[39m__traceback__)\n",
      "File \u001b[0;32m~/.local/lib/python3.10/site-packages/tensorflow/python/eager/polymorphic_function/polymorphic_function.py:880\u001b[0m, in \u001b[0;36mFunction.__call__\u001b[0;34m(self, *args, **kwds)\u001b[0m\n\u001b[1;32m    877\u001b[0m compiler \u001b[39m=\u001b[39m \u001b[39m\"\u001b[39m\u001b[39mxla\u001b[39m\u001b[39m\"\u001b[39m \u001b[39mif\u001b[39;00m \u001b[39mself\u001b[39m\u001b[39m.\u001b[39m_jit_compile \u001b[39melse\u001b[39;00m \u001b[39m\"\u001b[39m\u001b[39mnonXla\u001b[39m\u001b[39m\"\u001b[39m\n\u001b[1;32m    879\u001b[0m \u001b[39mwith\u001b[39;00m OptionalXlaContext(\u001b[39mself\u001b[39m\u001b[39m.\u001b[39m_jit_compile):\n\u001b[0;32m--> 880\u001b[0m   result \u001b[39m=\u001b[39m \u001b[39mself\u001b[39;49m\u001b[39m.\u001b[39;49m_call(\u001b[39m*\u001b[39;49margs, \u001b[39m*\u001b[39;49m\u001b[39m*\u001b[39;49mkwds)\n\u001b[1;32m    882\u001b[0m new_tracing_count \u001b[39m=\u001b[39m \u001b[39mself\u001b[39m\u001b[39m.\u001b[39mexperimental_get_tracing_count()\n\u001b[1;32m    883\u001b[0m without_tracing \u001b[39m=\u001b[39m (tracing_count \u001b[39m==\u001b[39m new_tracing_count)\n",
      "File \u001b[0;32m~/.local/lib/python3.10/site-packages/tensorflow/python/eager/polymorphic_function/polymorphic_function.py:912\u001b[0m, in \u001b[0;36mFunction._call\u001b[0;34m(self, *args, **kwds)\u001b[0m\n\u001b[1;32m    909\u001b[0m   \u001b[39mself\u001b[39m\u001b[39m.\u001b[39m_lock\u001b[39m.\u001b[39mrelease()\n\u001b[1;32m    910\u001b[0m   \u001b[39m# In this case we have created variables on the first call, so we run the\u001b[39;00m\n\u001b[1;32m    911\u001b[0m   \u001b[39m# defunned version which is guaranteed to never create variables.\u001b[39;00m\n\u001b[0;32m--> 912\u001b[0m   \u001b[39mreturn\u001b[39;00m \u001b[39mself\u001b[39;49m\u001b[39m.\u001b[39;49m_no_variable_creation_fn(\u001b[39m*\u001b[39;49margs, \u001b[39m*\u001b[39;49m\u001b[39m*\u001b[39;49mkwds)  \u001b[39m# pylint: disable=not-callable\u001b[39;00m\n\u001b[1;32m    913\u001b[0m \u001b[39melif\u001b[39;00m \u001b[39mself\u001b[39m\u001b[39m.\u001b[39m_variable_creation_fn \u001b[39mis\u001b[39;00m \u001b[39mnot\u001b[39;00m \u001b[39mNone\u001b[39;00m:\n\u001b[1;32m    914\u001b[0m   \u001b[39m# Release the lock early so that multiple threads can perform the call\u001b[39;00m\n\u001b[1;32m    915\u001b[0m   \u001b[39m# in parallel.\u001b[39;00m\n\u001b[1;32m    916\u001b[0m   \u001b[39mself\u001b[39m\u001b[39m.\u001b[39m_lock\u001b[39m.\u001b[39mrelease()\n",
      "File \u001b[0;32m~/.local/lib/python3.10/site-packages/tensorflow/python/eager/polymorphic_function/tracing_compiler.py:134\u001b[0m, in \u001b[0;36mTracingCompiler.__call__\u001b[0;34m(self, *args, **kwargs)\u001b[0m\n\u001b[1;32m    131\u001b[0m \u001b[39mwith\u001b[39;00m \u001b[39mself\u001b[39m\u001b[39m.\u001b[39m_lock:\n\u001b[1;32m    132\u001b[0m   (concrete_function,\n\u001b[1;32m    133\u001b[0m    filtered_flat_args) \u001b[39m=\u001b[39m \u001b[39mself\u001b[39m\u001b[39m.\u001b[39m_maybe_define_function(args, kwargs)\n\u001b[0;32m--> 134\u001b[0m \u001b[39mreturn\u001b[39;00m concrete_function\u001b[39m.\u001b[39;49m_call_flat(\n\u001b[1;32m    135\u001b[0m     filtered_flat_args, captured_inputs\u001b[39m=\u001b[39;49mconcrete_function\u001b[39m.\u001b[39;49mcaptured_inputs)\n",
      "File \u001b[0;32m~/.local/lib/python3.10/site-packages/tensorflow/python/eager/polymorphic_function/monomorphic_function.py:1745\u001b[0m, in \u001b[0;36mConcreteFunction._call_flat\u001b[0;34m(self, args, captured_inputs, cancellation_manager)\u001b[0m\n\u001b[1;32m   1741\u001b[0m possible_gradient_type \u001b[39m=\u001b[39m gradients_util\u001b[39m.\u001b[39mPossibleTapeGradientTypes(args)\n\u001b[1;32m   1742\u001b[0m \u001b[39mif\u001b[39;00m (possible_gradient_type \u001b[39m==\u001b[39m gradients_util\u001b[39m.\u001b[39mPOSSIBLE_GRADIENT_TYPES_NONE\n\u001b[1;32m   1743\u001b[0m     \u001b[39mand\u001b[39;00m executing_eagerly):\n\u001b[1;32m   1744\u001b[0m   \u001b[39m# No tape is watching; skip to running the function.\u001b[39;00m\n\u001b[0;32m-> 1745\u001b[0m   \u001b[39mreturn\u001b[39;00m \u001b[39mself\u001b[39m\u001b[39m.\u001b[39m_build_call_outputs(\u001b[39mself\u001b[39;49m\u001b[39m.\u001b[39;49m_inference_function\u001b[39m.\u001b[39;49mcall(\n\u001b[1;32m   1746\u001b[0m       ctx, args, cancellation_manager\u001b[39m=\u001b[39;49mcancellation_manager))\n\u001b[1;32m   1747\u001b[0m forward_backward \u001b[39m=\u001b[39m \u001b[39mself\u001b[39m\u001b[39m.\u001b[39m_select_forward_and_backward_functions(\n\u001b[1;32m   1748\u001b[0m     args,\n\u001b[1;32m   1749\u001b[0m     possible_gradient_type,\n\u001b[1;32m   1750\u001b[0m     executing_eagerly)\n\u001b[1;32m   1751\u001b[0m forward_function, args_with_tangents \u001b[39m=\u001b[39m forward_backward\u001b[39m.\u001b[39mforward()\n",
      "File \u001b[0;32m~/.local/lib/python3.10/site-packages/tensorflow/python/eager/polymorphic_function/monomorphic_function.py:378\u001b[0m, in \u001b[0;36m_EagerDefinedFunction.call\u001b[0;34m(self, ctx, args, cancellation_manager)\u001b[0m\n\u001b[1;32m    376\u001b[0m \u001b[39mwith\u001b[39;00m _InterpolateFunctionError(\u001b[39mself\u001b[39m):\n\u001b[1;32m    377\u001b[0m   \u001b[39mif\u001b[39;00m cancellation_manager \u001b[39mis\u001b[39;00m \u001b[39mNone\u001b[39;00m:\n\u001b[0;32m--> 378\u001b[0m     outputs \u001b[39m=\u001b[39m execute\u001b[39m.\u001b[39;49mexecute(\n\u001b[1;32m    379\u001b[0m         \u001b[39mstr\u001b[39;49m(\u001b[39mself\u001b[39;49m\u001b[39m.\u001b[39;49msignature\u001b[39m.\u001b[39;49mname),\n\u001b[1;32m    380\u001b[0m         num_outputs\u001b[39m=\u001b[39;49m\u001b[39mself\u001b[39;49m\u001b[39m.\u001b[39;49m_num_outputs,\n\u001b[1;32m    381\u001b[0m         inputs\u001b[39m=\u001b[39;49margs,\n\u001b[1;32m    382\u001b[0m         attrs\u001b[39m=\u001b[39;49mattrs,\n\u001b[1;32m    383\u001b[0m         ctx\u001b[39m=\u001b[39;49mctx)\n\u001b[1;32m    384\u001b[0m   \u001b[39melse\u001b[39;00m:\n\u001b[1;32m    385\u001b[0m     outputs \u001b[39m=\u001b[39m execute\u001b[39m.\u001b[39mexecute_with_cancellation(\n\u001b[1;32m    386\u001b[0m         \u001b[39mstr\u001b[39m(\u001b[39mself\u001b[39m\u001b[39m.\u001b[39msignature\u001b[39m.\u001b[39mname),\n\u001b[1;32m    387\u001b[0m         num_outputs\u001b[39m=\u001b[39m\u001b[39mself\u001b[39m\u001b[39m.\u001b[39m_num_outputs,\n\u001b[0;32m   (...)\u001b[0m\n\u001b[1;32m    390\u001b[0m         ctx\u001b[39m=\u001b[39mctx,\n\u001b[1;32m    391\u001b[0m         cancellation_manager\u001b[39m=\u001b[39mcancellation_manager)\n",
      "File \u001b[0;32m~/.local/lib/python3.10/site-packages/tensorflow/python/eager/execute.py:52\u001b[0m, in \u001b[0;36mquick_execute\u001b[0;34m(op_name, num_outputs, inputs, attrs, ctx, name)\u001b[0m\n\u001b[1;32m     50\u001b[0m \u001b[39mtry\u001b[39;00m:\n\u001b[1;32m     51\u001b[0m   ctx\u001b[39m.\u001b[39mensure_initialized()\n\u001b[0;32m---> 52\u001b[0m   tensors \u001b[39m=\u001b[39m pywrap_tfe\u001b[39m.\u001b[39;49mTFE_Py_Execute(ctx\u001b[39m.\u001b[39;49m_handle, device_name, op_name,\n\u001b[1;32m     53\u001b[0m                                       inputs, attrs, num_outputs)\n\u001b[1;32m     54\u001b[0m \u001b[39mexcept\u001b[39;00m core\u001b[39m.\u001b[39m_NotOkStatusException \u001b[39mas\u001b[39;00m e:\n\u001b[1;32m     55\u001b[0m   \u001b[39mif\u001b[39;00m name \u001b[39mis\u001b[39;00m \u001b[39mnot\u001b[39;00m \u001b[39mNone\u001b[39;00m:\n",
      "\u001b[0;31mKeyboardInterrupt\u001b[0m: "
     ]
    }
   ],
   "source": [
    "global_train_model(\n",
    "    model=model,\n",
    "    epochs=30,\n",
    "    batch_size=batch_size,\n",
    "    optimizer=optimizers.Adam(learning_rate=0.0001),\n",
    "    loss=loss,\n",
    "    metrics=metrics)"
   ]
  },
  {
   "cell_type": "markdown",
   "metadata": {},
   "source": [
    "### Try Class Weights"
   ]
  },
  {
   "cell_type": "code",
   "execution_count": null,
   "metadata": {},
   "outputs": [],
   "source": [
    "model = Sequential()\n",
    "model.add(layers.LSTM(64, input_shape=(event_count, len(vector_columns))))\n",
    "model.add(layers.Dropout(0.5))\n",
    "model.add(layers.Dense(1, activation='sigmoid'))"
   ]
  },
  {
   "cell_type": "code",
   "execution_count": null,
   "metadata": {},
   "outputs": [
    {
     "name": "stderr",
     "output_type": "stream",
     "text": [
      "2023-02-27 13:27:43.656212: W tensorflow/tsl/framework/bfc_allocator.cc:479] Allocator (GPU_0_bfc) ran out of memory trying to allocate 2.48GiB (rounded to 2661120000)requested by op _EagerConst\n",
      "If the cause is memory fragmentation maybe the environment variable 'TF_GPU_ALLOCATOR=cuda_malloc_async' will improve the situation. \n",
      "Current allocation summary follows.\n",
      "Current allocation summary follows.\n",
      "2023-02-27 13:27:43.656259: I tensorflow/tsl/framework/bfc_allocator.cc:1034] BFCAllocator dump for GPU_0_bfc\n",
      "2023-02-27 13:27:43.656272: I tensorflow/tsl/framework/bfc_allocator.cc:1041] Bin (256): \tTotal Chunks: 93, Chunks in use: 93. 23.2KiB allocated for chunks. 23.2KiB in use in bin. 3.9KiB client-requested in use in bin.\n",
      "2023-02-27 13:27:43.656279: I tensorflow/tsl/framework/bfc_allocator.cc:1041] Bin (512): \tTotal Chunks: 1, Chunks in use: 0. 512B allocated for chunks. 0B in use in bin. 0B client-requested in use in bin.\n",
      "2023-02-27 13:27:43.656286: I tensorflow/tsl/framework/bfc_allocator.cc:1041] Bin (1024): \tTotal Chunks: 21, Chunks in use: 21. 23.0KiB allocated for chunks. 23.0KiB in use in bin. 20.1KiB client-requested in use in bin.\n",
      "2023-02-27 13:27:43.656292: I tensorflow/tsl/framework/bfc_allocator.cc:1041] Bin (2048): \tTotal Chunks: 1, Chunks in use: 0. 2.0KiB allocated for chunks. 0B in use in bin. 0B client-requested in use in bin.\n",
      "2023-02-27 13:27:43.656298: I tensorflow/tsl/framework/bfc_allocator.cc:1041] Bin (4096): \tTotal Chunks: 1, Chunks in use: 0. 4.8KiB allocated for chunks. 0B in use in bin. 0B client-requested in use in bin.\n",
      "2023-02-27 13:27:43.656303: I tensorflow/tsl/framework/bfc_allocator.cc:1041] Bin (8192): \tTotal Chunks: 0, Chunks in use: 0. 0B allocated for chunks. 0B in use in bin. 0B client-requested in use in bin.\n",
      "2023-02-27 13:27:43.656309: I tensorflow/tsl/framework/bfc_allocator.cc:1041] Bin (16384): \tTotal Chunks: 1, Chunks in use: 0. 16.0KiB allocated for chunks. 0B in use in bin. 0B client-requested in use in bin.\n",
      "2023-02-27 13:27:43.656314: I tensorflow/tsl/framework/bfc_allocator.cc:1041] Bin (32768): \tTotal Chunks: 0, Chunks in use: 0. 0B allocated for chunks. 0B in use in bin. 0B client-requested in use in bin.\n",
      "2023-02-27 13:27:43.656320: I tensorflow/tsl/framework/bfc_allocator.cc:1041] Bin (65536): \tTotal Chunks: 30, Chunks in use: 29. 1.98MiB allocated for chunks. 1.91MiB in use in bin. 1.86MiB client-requested in use in bin.\n",
      "2023-02-27 13:27:43.656325: I tensorflow/tsl/framework/bfc_allocator.cc:1041] Bin (131072): \tTotal Chunks: 0, Chunks in use: 0. 0B allocated for chunks. 0B in use in bin. 0B client-requested in use in bin.\n",
      "2023-02-27 13:27:43.656331: I tensorflow/tsl/framework/bfc_allocator.cc:1041] Bin (262144): \tTotal Chunks: 3, Chunks in use: 3. 1.15MiB allocated for chunks. 1.15MiB in use in bin. 1.15MiB client-requested in use in bin.\n",
      "2023-02-27 13:27:43.656337: I tensorflow/tsl/framework/bfc_allocator.cc:1041] Bin (524288): \tTotal Chunks: 1, Chunks in use: 0. 829.5KiB allocated for chunks. 0B in use in bin. 0B client-requested in use in bin.\n",
      "2023-02-27 13:27:43.656342: I tensorflow/tsl/framework/bfc_allocator.cc:1041] Bin (1048576): \tTotal Chunks: 1, Chunks in use: 0. 1.64MiB allocated for chunks. 0B in use in bin. 0B client-requested in use in bin.\n",
      "2023-02-27 13:27:43.656348: I tensorflow/tsl/framework/bfc_allocator.cc:1041] Bin (2097152): \tTotal Chunks: 0, Chunks in use: 0. 0B allocated for chunks. 0B in use in bin. 0B client-requested in use in bin.\n",
      "2023-02-27 13:27:43.656353: I tensorflow/tsl/framework/bfc_allocator.cc:1041] Bin (4194304): \tTotal Chunks: 0, Chunks in use: 0. 0B allocated for chunks. 0B in use in bin. 0B client-requested in use in bin.\n",
      "2023-02-27 13:27:43.656358: I tensorflow/tsl/framework/bfc_allocator.cc:1041] Bin (8388608): \tTotal Chunks: 0, Chunks in use: 0. 0B allocated for chunks. 0B in use in bin. 0B client-requested in use in bin.\n",
      "2023-02-27 13:27:43.656363: I tensorflow/tsl/framework/bfc_allocator.cc:1041] Bin (16777216): \tTotal Chunks: 0, Chunks in use: 0. 0B allocated for chunks. 0B in use in bin. 0B client-requested in use in bin.\n",
      "2023-02-27 13:27:43.656368: I tensorflow/tsl/framework/bfc_allocator.cc:1041] Bin (33554432): \tTotal Chunks: 0, Chunks in use: 0. 0B allocated for chunks. 0B in use in bin. 0B client-requested in use in bin.\n",
      "2023-02-27 13:27:43.656373: I tensorflow/tsl/framework/bfc_allocator.cc:1041] Bin (67108864): \tTotal Chunks: 0, Chunks in use: 0. 0B allocated for chunks. 0B in use in bin. 0B client-requested in use in bin.\n",
      "2023-02-27 13:27:43.656378: I tensorflow/tsl/framework/bfc_allocator.cc:1041] Bin (134217728): \tTotal Chunks: 0, Chunks in use: 0. 0B allocated for chunks. 0B in use in bin. 0B client-requested in use in bin.\n",
      "2023-02-27 13:27:43.656387: I tensorflow/tsl/framework/bfc_allocator.cc:1041] Bin (268435456): \tTotal Chunks: 6, Chunks in use: 4. 9.47GiB allocated for chunks. 7.97GiB in use in bin. 7.97GiB client-requested in use in bin.\n",
      "2023-02-27 13:27:43.656394: I tensorflow/tsl/framework/bfc_allocator.cc:1057] Bin for 2.48GiB was 256.00MiB, Chunk State: \n",
      "2023-02-27 13:27:43.656404: I tensorflow/tsl/framework/bfc_allocator.cc:1063]   Size: 272.93MiB | Requested Size: 3.12MiB | in_use: 0 | bin_num: 20, prev:   Size: 543.82MiB | Requested Size: 543.82MiB | in_use: 1 | bin_num: -1\n",
      "2023-02-27 13:27:43.656412: I tensorflow/tsl/framework/bfc_allocator.cc:1063]   Size: 1.24GiB | Requested Size: 4B | in_use: 0 | bin_num: 20, prev:   Size: 2.48GiB | Requested Size: 2.48GiB | in_use: 1 | bin_num: -1, next:   Size: 2.48GiB | Requested Size: 2.48GiB | in_use: 1 | bin_num: -1\n",
      "2023-02-27 13:27:43.656416: I tensorflow/tsl/framework/bfc_allocator.cc:1070] Next region of size 10175578112\n",
      "2023-02-27 13:27:43.656423: I tensorflow/tsl/framework/bfc_allocator.cc:1090] InUse at 7f3638000000 of size 256 next 1\n",
      "2023-02-27 13:27:43.656428: I tensorflow/tsl/framework/bfc_allocator.cc:1090] InUse at 7f3638000100 of size 1280 next 2\n",
      "2023-02-27 13:27:43.656433: I tensorflow/tsl/framework/bfc_allocator.cc:1090] InUse at 7f3638000600 of size 256 next 3\n",
      "2023-02-27 13:27:43.656437: I tensorflow/tsl/framework/bfc_allocator.cc:1090] InUse at 7f3638000700 of size 256 next 4\n",
      "2023-02-27 13:27:43.656442: I tensorflow/tsl/framework/bfc_allocator.cc:1090] InUse at 7f3638000800 of size 256 next 6\n",
      "2023-02-27 13:27:43.656446: I tensorflow/tsl/framework/bfc_allocator.cc:1090] InUse at 7f3638000900 of size 256 next 7\n",
      "2023-02-27 13:27:43.656451: I tensorflow/tsl/framework/bfc_allocator.cc:1090] InUse at 7f3638000a00 of size 256 next 8\n",
      "2023-02-27 13:27:43.656455: I tensorflow/tsl/framework/bfc_allocator.cc:1090] InUse at 7f3638000b00 of size 256 next 13\n",
      "2023-02-27 13:27:43.656460: I tensorflow/tsl/framework/bfc_allocator.cc:1090] InUse at 7f3638000c00 of size 256 next 5\n",
      "2023-02-27 13:27:43.656464: I tensorflow/tsl/framework/bfc_allocator.cc:1090] InUse at 7f3638000d00 of size 256 next 14\n",
      "2023-02-27 13:27:43.656469: I tensorflow/tsl/framework/bfc_allocator.cc:1090] InUse at 7f3638000e00 of size 256 next 166\n",
      "2023-02-27 13:27:43.656473: I tensorflow/tsl/framework/bfc_allocator.cc:1090] InUse at 7f3638000f00 of size 256 next 68\n",
      "2023-02-27 13:27:43.656478: I tensorflow/tsl/framework/bfc_allocator.cc:1090] InUse at 7f3638001000 of size 1024 next 19\n",
      "2023-02-27 13:27:43.656482: I tensorflow/tsl/framework/bfc_allocator.cc:1090] InUse at 7f3638001400 of size 256 next 20\n",
      "2023-02-27 13:27:43.656487: I tensorflow/tsl/framework/bfc_allocator.cc:1090] InUse at 7f3638001500 of size 256 next 23\n",
      "2023-02-27 13:27:43.656492: I tensorflow/tsl/framework/bfc_allocator.cc:1090] InUse at 7f3638001600 of size 256 next 24\n",
      "2023-02-27 13:27:43.656496: I tensorflow/tsl/framework/bfc_allocator.cc:1090] InUse at 7f3638001700 of size 256 next 25\n",
      "2023-02-27 13:27:43.656500: I tensorflow/tsl/framework/bfc_allocator.cc:1090] InUse at 7f3638001800 of size 256 next 26\n",
      "2023-02-27 13:27:43.656505: I tensorflow/tsl/framework/bfc_allocator.cc:1090] InUse at 7f3638001900 of size 256 next 27\n",
      "2023-02-27 13:27:43.656509: I tensorflow/tsl/framework/bfc_allocator.cc:1090] InUse at 7f3638001a00 of size 256 next 11\n",
      "2023-02-27 13:27:43.656514: I tensorflow/tsl/framework/bfc_allocator.cc:1090] InUse at 7f3638001b00 of size 256 next 79\n",
      "2023-02-27 13:27:43.656518: I tensorflow/tsl/framework/bfc_allocator.cc:1090] InUse at 7f3638001c00 of size 256 next 67\n",
      "2023-02-27 13:27:43.656523: I tensorflow/tsl/framework/bfc_allocator.cc:1090] InUse at 7f3638001d00 of size 256 next 35\n",
      "2023-02-27 13:27:43.656527: I tensorflow/tsl/framework/bfc_allocator.cc:1090] InUse at 7f3638001e00 of size 256 next 36\n",
      "2023-02-27 13:27:43.656531: I tensorflow/tsl/framework/bfc_allocator.cc:1090] InUse at 7f3638001f00 of size 256 next 97\n",
      "2023-02-27 13:27:43.656537: I tensorflow/tsl/framework/bfc_allocator.cc:1090] InUse at 7f3638002000 of size 256 next 243\n",
      "2023-02-27 13:27:43.656541: I tensorflow/tsl/framework/bfc_allocator.cc:1090] InUse at 7f3638002100 of size 1024 next 115\n",
      "2023-02-27 13:27:43.656546: I tensorflow/tsl/framework/bfc_allocator.cc:1090] InUse at 7f3638002500 of size 256 next 53\n",
      "2023-02-27 13:27:43.656550: I tensorflow/tsl/framework/bfc_allocator.cc:1090] InUse at 7f3638002600 of size 256 next 71\n",
      "2023-02-27 13:27:43.656555: I tensorflow/tsl/framework/bfc_allocator.cc:1090] InUse at 7f3638002700 of size 256 next 165\n",
      "2023-02-27 13:27:43.656559: I tensorflow/tsl/framework/bfc_allocator.cc:1090] InUse at 7f3638002800 of size 256 next 136\n",
      "2023-02-27 13:27:43.656564: I tensorflow/tsl/framework/bfc_allocator.cc:1090] InUse at 7f3638002900 of size 256 next 139\n",
      "2023-02-27 13:27:43.656568: I tensorflow/tsl/framework/bfc_allocator.cc:1090] InUse at 7f3638002a00 of size 256 next 144\n",
      "2023-02-27 13:27:43.656572: I tensorflow/tsl/framework/bfc_allocator.cc:1090] InUse at 7f3638002b00 of size 1024 next 214\n",
      "2023-02-27 13:27:43.656577: I tensorflow/tsl/framework/bfc_allocator.cc:1090] Free  at 7f3638002f00 of size 2048 next 33\n",
      "2023-02-27 13:27:43.656581: I tensorflow/tsl/framework/bfc_allocator.cc:1090] InUse at 7f3638003700 of size 256 next 86\n",
      "2023-02-27 13:27:43.656586: I tensorflow/tsl/framework/bfc_allocator.cc:1090] InUse at 7f3638003800 of size 1280 next 239\n",
      "2023-02-27 13:27:43.656590: I tensorflow/tsl/framework/bfc_allocator.cc:1090] InUse at 7f3638003d00 of size 256 next 152\n",
      "2023-02-27 13:27:43.656595: I tensorflow/tsl/framework/bfc_allocator.cc:1090] InUse at 7f3638003e00 of size 256 next 173\n",
      "2023-02-27 13:27:43.656599: I tensorflow/tsl/framework/bfc_allocator.cc:1090] InUse at 7f3638003f00 of size 256 next 83\n",
      "2023-02-27 13:27:43.656604: I tensorflow/tsl/framework/bfc_allocator.cc:1090] InUse at 7f3638004000 of size 256 next 114\n",
      "2023-02-27 13:27:43.656608: I tensorflow/tsl/framework/bfc_allocator.cc:1090] InUse at 7f3638004100 of size 256 next 132\n",
      "2023-02-27 13:27:43.656612: I tensorflow/tsl/framework/bfc_allocator.cc:1090] InUse at 7f3638004200 of size 256 next 88\n",
      "2023-02-27 13:27:43.656617: I tensorflow/tsl/framework/bfc_allocator.cc:1090] InUse at 7f3638004300 of size 256 next 91\n",
      "2023-02-27 13:27:43.656621: I tensorflow/tsl/framework/bfc_allocator.cc:1090] InUse at 7f3638004400 of size 256 next 428\n",
      "2023-02-27 13:27:43.656626: I tensorflow/tsl/framework/bfc_allocator.cc:1090] InUse at 7f3638004500 of size 256 next 112\n",
      "2023-02-27 13:27:43.656630: I tensorflow/tsl/framework/bfc_allocator.cc:1090] InUse at 7f3638004600 of size 256 next 95\n",
      "2023-02-27 13:27:43.656635: I tensorflow/tsl/framework/bfc_allocator.cc:1090] InUse at 7f3638004700 of size 256 next 130\n",
      "2023-02-27 13:27:43.656639: I tensorflow/tsl/framework/bfc_allocator.cc:1090] InUse at 7f3638004800 of size 256 next 123\n",
      "2023-02-27 13:27:43.656643: I tensorflow/tsl/framework/bfc_allocator.cc:1090] InUse at 7f3638004900 of size 256 next 163\n",
      "2023-02-27 13:27:43.656648: I tensorflow/tsl/framework/bfc_allocator.cc:1090] InUse at 7f3638004a00 of size 256 next 64\n",
      "2023-02-27 13:27:43.656652: I tensorflow/tsl/framework/bfc_allocator.cc:1090] Free  at 7f3638004b00 of size 512 next 61\n",
      "2023-02-27 13:27:43.656657: I tensorflow/tsl/framework/bfc_allocator.cc:1090] InUse at 7f3638004d00 of size 256 next 147\n",
      "2023-02-27 13:27:43.656661: I tensorflow/tsl/framework/bfc_allocator.cc:1090] InUse at 7f3638004e00 of size 256 next 120\n",
      "2023-02-27 13:27:43.656666: I tensorflow/tsl/framework/bfc_allocator.cc:1090] InUse at 7f3638004f00 of size 256 next 31\n",
      "2023-02-27 13:27:43.656670: I tensorflow/tsl/framework/bfc_allocator.cc:1090] InUse at 7f3638005000 of size 1024 next 42\n",
      "2023-02-27 13:27:43.656674: I tensorflow/tsl/framework/bfc_allocator.cc:1090] InUse at 7f3638005400 of size 256 next 169\n",
      "2023-02-27 13:27:43.656679: I tensorflow/tsl/framework/bfc_allocator.cc:1090] InUse at 7f3638005500 of size 256 next 125\n",
      "2023-02-27 13:27:43.656684: I tensorflow/tsl/framework/bfc_allocator.cc:1090] InUse at 7f3638005600 of size 1024 next 78\n",
      "2023-02-27 13:27:43.656688: I tensorflow/tsl/framework/bfc_allocator.cc:1090] InUse at 7f3638005a00 of size 256 next 87\n",
      "2023-02-27 13:27:43.656693: I tensorflow/tsl/framework/bfc_allocator.cc:1090] InUse at 7f3638005b00 of size 256 next 160\n",
      "2023-02-27 13:27:43.656697: I tensorflow/tsl/framework/bfc_allocator.cc:1090] InUse at 7f3638005c00 of size 1536 next 167\n",
      "2023-02-27 13:27:43.656702: I tensorflow/tsl/framework/bfc_allocator.cc:1090] InUse at 7f3638006200 of size 256 next 63\n",
      "2023-02-27 13:27:43.656706: I tensorflow/tsl/framework/bfc_allocator.cc:1090] InUse at 7f3638006300 of size 256 next 49\n",
      "2023-02-27 13:27:43.656711: I tensorflow/tsl/framework/bfc_allocator.cc:1090] InUse at 7f3638006400 of size 256 next 374\n",
      "2023-02-27 13:27:43.656715: I tensorflow/tsl/framework/bfc_allocator.cc:1090] InUse at 7f3638006500 of size 256 next 404\n",
      "2023-02-27 13:27:43.656719: I tensorflow/tsl/framework/bfc_allocator.cc:1090] InUse at 7f3638006600 of size 1024 next 66\n",
      "2023-02-27 13:27:43.656724: I tensorflow/tsl/framework/bfc_allocator.cc:1090] InUse at 7f3638006a00 of size 256 next 76\n",
      "2023-02-27 13:27:43.656728: I tensorflow/tsl/framework/bfc_allocator.cc:1090] InUse at 7f3638006b00 of size 256 next 82\n",
      "2023-02-27 13:27:43.656733: I tensorflow/tsl/framework/bfc_allocator.cc:1090] InUse at 7f3638006c00 of size 256 next 149\n",
      "2023-02-27 13:27:43.656737: I tensorflow/tsl/framework/bfc_allocator.cc:1090] InUse at 7f3638006d00 of size 1280 next 55\n",
      "2023-02-27 13:27:43.656742: I tensorflow/tsl/framework/bfc_allocator.cc:1090] InUse at 7f3638007200 of size 256 next 48\n",
      "2023-02-27 13:27:43.656746: I tensorflow/tsl/framework/bfc_allocator.cc:1090] InUse at 7f3638007300 of size 256 next 148\n",
      "2023-02-27 13:27:43.656750: I tensorflow/tsl/framework/bfc_allocator.cc:1090] InUse at 7f3638007400 of size 256 next 172\n",
      "2023-02-27 13:27:43.656755: I tensorflow/tsl/framework/bfc_allocator.cc:1090] InUse at 7f3638007500 of size 256 next 106\n",
      "2023-02-27 13:27:43.656759: I tensorflow/tsl/framework/bfc_allocator.cc:1090] InUse at 7f3638007600 of size 256 next 121\n",
      "2023-02-27 13:27:43.656764: I tensorflow/tsl/framework/bfc_allocator.cc:1090] InUse at 7f3638007700 of size 256 next 89\n",
      "2023-02-27 13:27:43.656768: I tensorflow/tsl/framework/bfc_allocator.cc:1090] InUse at 7f3638007800 of size 1024 next 58\n",
      "2023-02-27 13:27:43.656772: I tensorflow/tsl/framework/bfc_allocator.cc:1090] InUse at 7f3638007c00 of size 256 next 419\n",
      "2023-02-27 13:27:43.656777: I tensorflow/tsl/framework/bfc_allocator.cc:1090] InUse at 7f3638007d00 of size 256 next 56\n",
      "2023-02-27 13:27:43.656781: I tensorflow/tsl/framework/bfc_allocator.cc:1090] InUse at 7f3638007e00 of size 1536 next 77\n",
      "2023-02-27 13:27:43.656786: I tensorflow/tsl/framework/bfc_allocator.cc:1090] InUse at 7f3638008400 of size 1024 next 400\n",
      "2023-02-27 13:27:43.656790: I tensorflow/tsl/framework/bfc_allocator.cc:1090] InUse at 7f3638008800 of size 1024 next 12\n",
      "2023-02-27 13:27:43.656795: I tensorflow/tsl/framework/bfc_allocator.cc:1090] InUse at 7f3638008c00 of size 256 next 28\n",
      "2023-02-27 13:27:43.656799: I tensorflow/tsl/framework/bfc_allocator.cc:1090] InUse at 7f3638008d00 of size 67584 next 390\n",
      "2023-02-27 13:27:43.656804: I tensorflow/tsl/framework/bfc_allocator.cc:1090] InUse at 7f3638019500 of size 67584 next 397\n",
      "2023-02-27 13:27:43.656808: I tensorflow/tsl/framework/bfc_allocator.cc:1090] InUse at 7f3638029d00 of size 65536 next 389\n",
      "2023-02-27 13:27:43.656814: I tensorflow/tsl/framework/bfc_allocator.cc:1090] InUse at 7f3638039d00 of size 65536 next 16\n",
      "2023-02-27 13:27:43.656818: I tensorflow/tsl/framework/bfc_allocator.cc:1090] InUse at 7f3638049d00 of size 67584 next 22\n",
      "2023-02-27 13:27:43.656822: I tensorflow/tsl/framework/bfc_allocator.cc:1090] InUse at 7f363805a500 of size 65536 next 73\n",
      "2023-02-27 13:27:43.656826: I tensorflow/tsl/framework/bfc_allocator.cc:1090] InUse at 7f363806a500 of size 67584 next 108\n",
      "2023-02-27 13:27:43.656830: I tensorflow/tsl/framework/bfc_allocator.cc:1090] InUse at 7f363807ad00 of size 67584 next 39\n",
      "2023-02-27 13:27:43.656834: I tensorflow/tsl/framework/bfc_allocator.cc:1090] InUse at 7f363808b500 of size 67584 next 40\n",
      "2023-02-27 13:27:43.656837: I tensorflow/tsl/framework/bfc_allocator.cc:1090] Free  at 7f363809bd00 of size 16384 next 122\n",
      "2023-02-27 13:27:43.656840: I tensorflow/tsl/framework/bfc_allocator.cc:1090] InUse at 7f363809fd00 of size 116480 next 168\n",
      "2023-02-27 13:27:43.656842: I tensorflow/tsl/framework/bfc_allocator.cc:1090] InUse at 7f36380bc400 of size 67584 next 205\n",
      "2023-02-27 13:27:43.656845: I tensorflow/tsl/framework/bfc_allocator.cc:1090] InUse at 7f36380ccc00 of size 65536 next 17\n",
      "2023-02-27 13:27:43.656848: I tensorflow/tsl/framework/bfc_allocator.cc:1090] InUse at 7f36380dcc00 of size 67584 next 43\n",
      "2023-02-27 13:27:43.656850: I tensorflow/tsl/framework/bfc_allocator.cc:1090] InUse at 7f36380ed400 of size 65536 next 150\n",
      "2023-02-27 13:27:43.656853: I tensorflow/tsl/framework/bfc_allocator.cc:1090] InUse at 7f36380fd400 of size 403200 next 247\n",
      "2023-02-27 13:27:43.656856: I tensorflow/tsl/framework/bfc_allocator.cc:1090] InUse at 7f363815fb00 of size 67584 next 426\n",
      "2023-02-27 13:27:43.656858: I tensorflow/tsl/framework/bfc_allocator.cc:1090] InUse at 7f3638170300 of size 65536 next 101\n",
      "2023-02-27 13:27:43.656861: I tensorflow/tsl/framework/bfc_allocator.cc:1090] InUse at 7f3638180300 of size 67584 next 164\n",
      "2023-02-27 13:27:43.656864: I tensorflow/tsl/framework/bfc_allocator.cc:1090] InUse at 7f3638190b00 of size 65536 next 47\n",
      "2023-02-27 13:27:43.656866: I tensorflow/tsl/framework/bfc_allocator.cc:1090] InUse at 7f36381a0b00 of size 67584 next 44\n",
      "2023-02-27 13:27:43.656869: I tensorflow/tsl/framework/bfc_allocator.cc:1090] InUse at 7f36381b1300 of size 67584 next 59\n",
      "2023-02-27 13:27:43.656872: I tensorflow/tsl/framework/bfc_allocator.cc:1090] InUse at 7f36381c1b00 of size 67584 next 54\n",
      "2023-02-27 13:27:43.656874: I tensorflow/tsl/framework/bfc_allocator.cc:1090] InUse at 7f36381d2300 of size 65536 next 29\n",
      "2023-02-27 13:27:43.656877: I tensorflow/tsl/framework/bfc_allocator.cc:1090] InUse at 7f36381e2300 of size 65536 next 15\n",
      "2023-02-27 13:27:43.656880: I tensorflow/tsl/framework/bfc_allocator.cc:1090] InUse at 7f36381f2300 of size 2661120000 next 69\n",
      "2023-02-27 13:27:43.656883: I tensorflow/tsl/framework/bfc_allocator.cc:1090] InUse at 7f36d6bc9b00 of size 2661120000 next 81\n",
      "2023-02-27 13:27:43.656885: I tensorflow/tsl/framework/bfc_allocator.cc:1090] Free  at 7f37755a1300 of size 1329863424 next 124\n",
      "2023-02-27 13:27:43.656888: I tensorflow/tsl/framework/bfc_allocator.cc:1090] InUse at 7f37c49e2e00 of size 2661120000 next 133\n",
      "2023-02-27 13:27:43.656891: I tensorflow/tsl/framework/bfc_allocator.cc:1090] InUse at 7f38633ba600 of size 403200 next 75\n",
      "2023-02-27 13:27:43.656893: I tensorflow/tsl/framework/bfc_allocator.cc:1090] InUse at 7f386341cd00 of size 65536 next 188\n",
      "2023-02-27 13:27:43.656896: I tensorflow/tsl/framework/bfc_allocator.cc:1090] InUse at 7f386342cd00 of size 256 next 103\n",
      "2023-02-27 13:27:43.656899: I tensorflow/tsl/framework/bfc_allocator.cc:1090] InUse at 7f386342ce00 of size 256 next 90\n",
      "2023-02-27 13:27:43.656901: I tensorflow/tsl/framework/bfc_allocator.cc:1090] InUse at 7f386342cf00 of size 1024 next 100\n",
      "2023-02-27 13:27:43.656904: I tensorflow/tsl/framework/bfc_allocator.cc:1090] InUse at 7f386342d300 of size 1024 next 45\n",
      "2023-02-27 13:27:43.656906: I tensorflow/tsl/framework/bfc_allocator.cc:1090] InUse at 7f386342d700 of size 1024 next 128\n",
      "2023-02-27 13:27:43.656909: I tensorflow/tsl/framework/bfc_allocator.cc:1090] InUse at 7f386342db00 of size 256 next 423\n",
      "2023-02-27 13:27:43.656912: I tensorflow/tsl/framework/bfc_allocator.cc:1090] InUse at 7f386342dc00 of size 256 next 179\n",
      "2023-02-27 13:27:43.656914: I tensorflow/tsl/framework/bfc_allocator.cc:1090] InUse at 7f386342dd00 of size 256 next 30\n",
      "2023-02-27 13:27:43.656917: I tensorflow/tsl/framework/bfc_allocator.cc:1090] InUse at 7f386342de00 of size 256 next 65\n",
      "2023-02-27 13:27:43.656920: I tensorflow/tsl/framework/bfc_allocator.cc:1090] InUse at 7f386342df00 of size 256 next 129\n",
      "2023-02-27 13:27:43.656923: I tensorflow/tsl/framework/bfc_allocator.cc:1090] InUse at 7f386342e000 of size 256 next 113\n",
      "2023-02-27 13:27:43.656925: I tensorflow/tsl/framework/bfc_allocator.cc:1090] InUse at 7f386342e100 of size 256 next 141\n",
      "2023-02-27 13:27:43.656928: I tensorflow/tsl/framework/bfc_allocator.cc:1090] InUse at 7f386342e200 of size 256 next 70\n",
      "2023-02-27 13:27:43.656931: I tensorflow/tsl/framework/bfc_allocator.cc:1090] InUse at 7f386342e300 of size 256 next 174\n",
      "2023-02-27 13:27:43.656933: I tensorflow/tsl/framework/bfc_allocator.cc:1090] InUse at 7f386342e400 of size 256 next 99\n",
      "2023-02-27 13:27:43.656936: I tensorflow/tsl/framework/bfc_allocator.cc:1090] InUse at 7f386342e500 of size 256 next 127\n",
      "2023-02-27 13:27:43.656939: I tensorflow/tsl/framework/bfc_allocator.cc:1090] InUse at 7f386342e600 of size 256 next 161\n",
      "2023-02-27 13:27:43.656941: I tensorflow/tsl/framework/bfc_allocator.cc:1090] InUse at 7f386342e700 of size 256 next 109\n",
      "2023-02-27 13:27:43.656944: I tensorflow/tsl/framework/bfc_allocator.cc:1090] InUse at 7f386342e800 of size 256 next 134\n",
      "2023-02-27 13:27:43.656946: I tensorflow/tsl/framework/bfc_allocator.cc:1090] InUse at 7f386342e900 of size 256 next 51\n",
      "2023-02-27 13:27:43.656949: I tensorflow/tsl/framework/bfc_allocator.cc:1090] Free  at 7f386342ea00 of size 1722880 next 191\n",
      "2023-02-27 13:27:43.656952: I tensorflow/tsl/framework/bfc_allocator.cc:1090] InUse at 7f38635d3400 of size 86528 next 204\n",
      "2023-02-27 13:27:43.656954: I tensorflow/tsl/framework/bfc_allocator.cc:1090] InUse at 7f38635e8600 of size 403200 next 46\n",
      "2023-02-27 13:27:43.656957: I tensorflow/tsl/framework/bfc_allocator.cc:1090] InUse at 7f386364ad00 of size 67584 next 93\n",
      "2023-02-27 13:27:43.656960: I tensorflow/tsl/framework/bfc_allocator.cc:1090] InUse at 7f386365b500 of size 65536 next 424\n",
      "2023-02-27 13:27:43.656962: I tensorflow/tsl/framework/bfc_allocator.cc:1090] Free  at 7f386366b500 of size 65536 next 32\n",
      "2023-02-27 13:27:43.656965: I tensorflow/tsl/framework/bfc_allocator.cc:1090] InUse at 7f386367b500 of size 69632 next 203\n",
      "2023-02-27 13:27:43.656968: I tensorflow/tsl/framework/bfc_allocator.cc:1090] InUse at 7f386368c500 of size 67584 next 126\n",
      "2023-02-27 13:27:43.656970: I tensorflow/tsl/framework/bfc_allocator.cc:1090] Free  at 7f386369cd00 of size 849408 next 181\n",
      "2023-02-27 13:27:43.656973: I tensorflow/tsl/framework/bfc_allocator.cc:1090] InUse at 7f386376c300 of size 1024 next 182\n",
      "2023-02-27 13:27:43.656976: I tensorflow/tsl/framework/bfc_allocator.cc:1090] InUse at 7f386376c700 of size 256 next 184\n",
      "2023-02-27 13:27:43.656978: I tensorflow/tsl/framework/bfc_allocator.cc:1090] InUse at 7f386376c800 of size 256 next 21\n",
      "2023-02-27 13:27:43.656981: I tensorflow/tsl/framework/bfc_allocator.cc:1090] InUse at 7f386376c900 of size 256 next 196\n",
      "2023-02-27 13:27:43.656984: I tensorflow/tsl/framework/bfc_allocator.cc:1090] InUse at 7f386376ca00 of size 1280 next 192\n",
      "2023-02-27 13:27:43.656986: I tensorflow/tsl/framework/bfc_allocator.cc:1090] InUse at 7f386376cf00 of size 256 next 178\n",
      "2023-02-27 13:27:43.656989: I tensorflow/tsl/framework/bfc_allocator.cc:1090] InUse at 7f386376d000 of size 256 next 145\n",
      "2023-02-27 13:27:43.656991: I tensorflow/tsl/framework/bfc_allocator.cc:1090] InUse at 7f386376d100 of size 256 next 177\n",
      "2023-02-27 13:27:43.656994: I tensorflow/tsl/framework/bfc_allocator.cc:1090] InUse at 7f386376d200 of size 1024 next 200\n",
      "2023-02-27 13:27:43.656997: I tensorflow/tsl/framework/bfc_allocator.cc:1090] InUse at 7f386376d600 of size 1024 next 135\n",
      "2023-02-27 13:27:43.656999: I tensorflow/tsl/framework/bfc_allocator.cc:1090] InUse at 7f386376da00 of size 256 next 193\n",
      "2023-02-27 13:27:43.657002: I tensorflow/tsl/framework/bfc_allocator.cc:1090] InUse at 7f386376db00 of size 256 next 140\n",
      "2023-02-27 13:27:43.657005: I tensorflow/tsl/framework/bfc_allocator.cc:1090] Free  at 7f386376dc00 of size 4864 next 180\n",
      "2023-02-27 13:27:43.657008: I tensorflow/tsl/framework/bfc_allocator.cc:1090] InUse at 7f386376ef00 of size 570240000 next 131\n",
      "2023-02-27 13:27:43.657010: I tensorflow/tsl/framework/bfc_allocator.cc:1090] Free  at 7f3885741b00 of size 286188800 next 18446744073709551615\n",
      "2023-02-27 13:27:43.657013: I tensorflow/tsl/framework/bfc_allocator.cc:1095]      Summary of in-use Chunks by size: \n",
      "2023-02-27 13:27:43.657017: I tensorflow/tsl/framework/bfc_allocator.cc:1098] 93 Chunks of size 256 totalling 23.2KiB\n",
      "2023-02-27 13:27:43.657020: I tensorflow/tsl/framework/bfc_allocator.cc:1098] 15 Chunks of size 1024 totalling 15.0KiB\n",
      "2023-02-27 13:27:43.657023: I tensorflow/tsl/framework/bfc_allocator.cc:1098] 4 Chunks of size 1280 totalling 5.0KiB\n",
      "2023-02-27 13:27:43.657026: I tensorflow/tsl/framework/bfc_allocator.cc:1098] 2 Chunks of size 1536 totalling 3.0KiB\n",
      "2023-02-27 13:27:43.657029: I tensorflow/tsl/framework/bfc_allocator.cc:1098] 11 Chunks of size 65536 totalling 704.0KiB\n",
      "2023-02-27 13:27:43.657032: I tensorflow/tsl/framework/bfc_allocator.cc:1098] 15 Chunks of size 67584 totalling 990.0KiB\n",
      "2023-02-27 13:27:43.657035: I tensorflow/tsl/framework/bfc_allocator.cc:1098] 1 Chunks of size 69632 totalling 68.0KiB\n",
      "2023-02-27 13:27:43.657038: I tensorflow/tsl/framework/bfc_allocator.cc:1098] 1 Chunks of size 86528 totalling 84.5KiB\n",
      "2023-02-27 13:27:43.657041: I tensorflow/tsl/framework/bfc_allocator.cc:1098] 1 Chunks of size 116480 totalling 113.8KiB\n",
      "2023-02-27 13:27:43.657044: I tensorflow/tsl/framework/bfc_allocator.cc:1098] 3 Chunks of size 403200 totalling 1.15MiB\n",
      "2023-02-27 13:27:43.657047: I tensorflow/tsl/framework/bfc_allocator.cc:1098] 1 Chunks of size 570240000 totalling 543.82MiB\n",
      "2023-02-27 13:27:43.657050: I tensorflow/tsl/framework/bfc_allocator.cc:1098] 3 Chunks of size 2661120000 totalling 7.43GiB\n",
      "2023-02-27 13:27:43.657053: I tensorflow/tsl/framework/bfc_allocator.cc:1102] Sum Total of in-use chunks: 7.97GiB\n",
      "2023-02-27 13:27:43.657056: I tensorflow/tsl/framework/bfc_allocator.cc:1104] total_region_allocated_bytes_: 10175578112 memory_limit_: 10175578112 available bytes: 0 curr_region_allocation_bytes_: 20351156224\n",
      "2023-02-27 13:27:43.657061: I tensorflow/tsl/framework/bfc_allocator.cc:1110] Stats: \n",
      "Limit:                     10175578112\n",
      "InUse:                      8556864256\n",
      "MaxInUse:                   8608242176\n",
      "NumAllocs:                    14346367\n",
      "MaxAllocSize:               2661120000\n",
      "Reserved:                            0\n",
      "PeakReserved:                        0\n",
      "LargestFreeBlock:                    0\n",
      "\n",
      "2023-02-27 13:27:43.657067: W tensorflow/tsl/framework/bfc_allocator.cc:492] *****************************************************____________*********************************__\n"
     ]
    },
    {
     "ename": "InternalError",
     "evalue": "Failed copying input tensor from /job:localhost/replica:0/task:0/device:CPU:0 to /job:localhost/replica:0/task:0/device:GPU:0 in order to run _EagerConst: Dst tensor is not initialized.",
     "output_type": "error",
     "traceback": [
      "\u001b[0;31m---------------------------------------------------------------------------\u001b[0m",
      "\u001b[0;31mInternalError\u001b[0m                             Traceback (most recent call last)",
      "Cell \u001b[0;32mIn[62], line 3\u001b[0m\n\u001b[1;32m      1\u001b[0m class_weight \u001b[39m=\u001b[39m {\u001b[39m0\u001b[39m: \u001b[39m1.5\u001b[39m, \u001b[39m1\u001b[39m: \u001b[39m1.0\u001b[39m}\n\u001b[0;32m----> 3\u001b[0m global_train_model(\n\u001b[1;32m      4\u001b[0m     model\u001b[39m=\u001b[39;49mmodel,\n\u001b[1;32m      5\u001b[0m     epochs\u001b[39m=\u001b[39;49m\u001b[39m30\u001b[39;49m,\n\u001b[1;32m      6\u001b[0m     batch_size\u001b[39m=\u001b[39;49mbatch_size,\n\u001b[1;32m      7\u001b[0m     optimizer\u001b[39m=\u001b[39;49moptimizers\u001b[39m.\u001b[39;49mAdam(learning_rate\u001b[39m=\u001b[39;49m\u001b[39m0.0001\u001b[39;49m),\n\u001b[1;32m      8\u001b[0m     loss\u001b[39m=\u001b[39;49mloss,\n\u001b[1;32m      9\u001b[0m     metrics\u001b[39m=\u001b[39;49mmetrics,\n\u001b[1;32m     10\u001b[0m     class_weight\u001b[39m=\u001b[39;49mclass_weight)\n",
      "Cell \u001b[0;32mIn[47], line 40\u001b[0m, in \u001b[0;36mglobal_train_model\u001b[0;34m(model, epochs, batch_size, optimizer, loss, metrics, class_weight)\u001b[0m\n\u001b[1;32m     37\u001b[0m \u001b[39mglobal\u001b[39;00m X_test\n\u001b[1;32m     38\u001b[0m \u001b[39mglobal\u001b[39;00m y_test\n\u001b[0;32m---> 40\u001b[0m \u001b[39mreturn\u001b[39;00m train_and_test_model(\n\u001b[1;32m     41\u001b[0m         model\u001b[39m=\u001b[39;49mmodel,\n\u001b[1;32m     42\u001b[0m         X_train\u001b[39m=\u001b[39;49mX_train,\n\u001b[1;32m     43\u001b[0m         y_train\u001b[39m=\u001b[39;49my_train,\n\u001b[1;32m     44\u001b[0m         X_val\u001b[39m=\u001b[39;49mX_val,\n\u001b[1;32m     45\u001b[0m         y_val\u001b[39m=\u001b[39;49my_val,\n\u001b[1;32m     46\u001b[0m         X_test\u001b[39m=\u001b[39;49mX_test,\n\u001b[1;32m     47\u001b[0m         y_test\u001b[39m=\u001b[39;49my_test,\n\u001b[1;32m     48\u001b[0m         epochs\u001b[39m=\u001b[39;49mepochs,\n\u001b[1;32m     49\u001b[0m         batch_size\u001b[39m=\u001b[39;49mbatch_size,\n\u001b[1;32m     50\u001b[0m         optimizer\u001b[39m=\u001b[39;49moptimizer,\n\u001b[1;32m     51\u001b[0m         loss\u001b[39m=\u001b[39;49mloss,\n\u001b[1;32m     52\u001b[0m         metrics\u001b[39m=\u001b[39;49mmetrics,\n\u001b[1;32m     53\u001b[0m         class_weight\u001b[39m=\u001b[39;49mclass_weight)\n",
      "Cell \u001b[0;32mIn[46], line 52\u001b[0m, in \u001b[0;36mtrain_and_test_model\u001b[0;34m(model, X_train, y_train, X_val, y_val, X_test, y_test, epochs, batch_size, optimizer, loss, metrics, class_weight)\u001b[0m\n\u001b[1;32m      1\u001b[0m \u001b[39mdef\u001b[39;00m \u001b[39mtrain_and_test_model\u001b[39m(\n\u001b[1;32m      2\u001b[0m         model,\n\u001b[1;32m      3\u001b[0m         X_train: np\u001b[39m.\u001b[39mndarray,\n\u001b[0;32m   (...)\u001b[0m\n\u001b[1;32m     13\u001b[0m         metrics: \u001b[39mlist\u001b[39m,\n\u001b[1;32m     14\u001b[0m         class_weight: \u001b[39mdict\u001b[39m\u001b[39m=\u001b[39m\u001b[39mNone\u001b[39;00m) \u001b[39m-\u001b[39m\u001b[39m>\u001b[39m \u001b[39mfloat\u001b[39m:\n\u001b[1;32m     15\u001b[0m \u001b[39m    \u001b[39m\u001b[39m\"\"\"\u001b[39;00m\n\u001b[1;32m     16\u001b[0m \u001b[39m    Train and test the model.\u001b[39;00m\n\u001b[1;32m     17\u001b[0m \n\u001b[0;32m   (...)\u001b[0m\n\u001b[1;32m     50\u001b[0m \u001b[39m        The optimized threshold for the best F1 score.\u001b[39;00m\n\u001b[1;32m     51\u001b[0m \u001b[39m    \"\"\"\u001b[39;00m\n\u001b[0;32m---> 52\u001b[0m     history \u001b[39m=\u001b[39m train_model(\n\u001b[1;32m     53\u001b[0m         model\u001b[39m=\u001b[39;49mmodel,\n\u001b[1;32m     54\u001b[0m         X_train\u001b[39m=\u001b[39;49mX_train,\n\u001b[1;32m     55\u001b[0m         y_train\u001b[39m=\u001b[39;49my_train,\n\u001b[1;32m     56\u001b[0m         X_val\u001b[39m=\u001b[39;49mX_val,\n\u001b[1;32m     57\u001b[0m         y_val\u001b[39m=\u001b[39;49my_val,\n\u001b[1;32m     58\u001b[0m         epochs\u001b[39m=\u001b[39;49mepochs,\n\u001b[1;32m     59\u001b[0m         batch_size\u001b[39m=\u001b[39;49mbatch_size,\n\u001b[1;32m     60\u001b[0m         optimizer\u001b[39m=\u001b[39;49moptimizer,\n\u001b[1;32m     61\u001b[0m         loss\u001b[39m=\u001b[39;49mloss,\n\u001b[1;32m     62\u001b[0m         metrics\u001b[39m=\u001b[39;49mmetrics,\n\u001b[1;32m     63\u001b[0m         class_weight\u001b[39m=\u001b[39;49mclass_weight)\n\u001b[1;32m     65\u001b[0m     gc\u001b[39m.\u001b[39mcollect()\n\u001b[1;32m     67\u001b[0m     \u001b[39mreturn\u001b[39;00m test_model(model, history, X_test, y_test)\n",
      "Cell \u001b[0;32mIn[44], line 53\u001b[0m, in \u001b[0;36mtrain_model\u001b[0;34m(model, X_train, y_train, X_val, y_val, epochs, batch_size, optimizer, loss, metrics, class_weight)\u001b[0m\n\u001b[1;32m     47\u001b[0m model\u001b[39m.\u001b[39mcompile(\n\u001b[1;32m     48\u001b[0m     optimizer\u001b[39m=\u001b[39moptimizer,\n\u001b[1;32m     49\u001b[0m     loss\u001b[39m=\u001b[39mloss,\n\u001b[1;32m     50\u001b[0m     metrics\u001b[39m=\u001b[39mmetrics)\n\u001b[1;32m     52\u001b[0m \u001b[39m# fit the model\u001b[39;00m\n\u001b[0;32m---> 53\u001b[0m history \u001b[39m=\u001b[39m model\u001b[39m.\u001b[39;49mfit(\n\u001b[1;32m     54\u001b[0m     x\u001b[39m=\u001b[39;49mX_train,\n\u001b[1;32m     55\u001b[0m     y\u001b[39m=\u001b[39;49my_train,\n\u001b[1;32m     56\u001b[0m     epochs\u001b[39m=\u001b[39;49mepochs,\n\u001b[1;32m     57\u001b[0m     batch_size\u001b[39m=\u001b[39;49mbatch_size,\n\u001b[1;32m     58\u001b[0m     validation_data\u001b[39m=\u001b[39;49m(X_val, y_val),\n\u001b[1;32m     59\u001b[0m     class_weight\u001b[39m=\u001b[39;49mclass_weight)\n\u001b[1;32m     61\u001b[0m \u001b[39mreturn\u001b[39;00m history\n",
      "File \u001b[0;32m~/.local/lib/python3.10/site-packages/keras/utils/traceback_utils.py:70\u001b[0m, in \u001b[0;36mfilter_traceback.<locals>.error_handler\u001b[0;34m(*args, **kwargs)\u001b[0m\n\u001b[1;32m     67\u001b[0m     filtered_tb \u001b[39m=\u001b[39m _process_traceback_frames(e\u001b[39m.\u001b[39m__traceback__)\n\u001b[1;32m     68\u001b[0m     \u001b[39m# To get the full stack trace, call:\u001b[39;00m\n\u001b[1;32m     69\u001b[0m     \u001b[39m# `tf.debugging.disable_traceback_filtering()`\u001b[39;00m\n\u001b[0;32m---> 70\u001b[0m     \u001b[39mraise\u001b[39;00m e\u001b[39m.\u001b[39mwith_traceback(filtered_tb) \u001b[39mfrom\u001b[39;00m \u001b[39mNone\u001b[39m\n\u001b[1;32m     71\u001b[0m \u001b[39mfinally\u001b[39;00m:\n\u001b[1;32m     72\u001b[0m     \u001b[39mdel\u001b[39;00m filtered_tb\n",
      "File \u001b[0;32m~/.local/lib/python3.10/site-packages/tensorflow/python/framework/constant_op.py:102\u001b[0m, in \u001b[0;36mconvert_to_eager_tensor\u001b[0;34m(value, ctx, dtype)\u001b[0m\n\u001b[1;32m    100\u001b[0m     dtype \u001b[39m=\u001b[39m dtypes\u001b[39m.\u001b[39mas_dtype(dtype)\u001b[39m.\u001b[39mas_datatype_enum\n\u001b[1;32m    101\u001b[0m ctx\u001b[39m.\u001b[39mensure_initialized()\n\u001b[0;32m--> 102\u001b[0m \u001b[39mreturn\u001b[39;00m ops\u001b[39m.\u001b[39;49mEagerTensor(value, ctx\u001b[39m.\u001b[39;49mdevice_name, dtype)\n",
      "\u001b[0;31mInternalError\u001b[0m: Failed copying input tensor from /job:localhost/replica:0/task:0/device:CPU:0 to /job:localhost/replica:0/task:0/device:GPU:0 in order to run _EagerConst: Dst tensor is not initialized."
     ]
    }
   ],
   "source": [
    "class_weight = {0: 1.5, 1: 1.0}\n",
    "\n",
    "global_train_model(\n",
    "    model=model,\n",
    "    epochs=30,\n",
    "    batch_size=batch_size,\n",
    "    optimizer=optimizers.Adam(learning_rate=0.0001),\n",
    "    loss=loss,\n",
    "    metrics=metrics,\n",
    "    class_weight=class_weight)"
   ]
  }
 ],
 "metadata": {
  "kernelspec": {
   "display_name": "Python 3",
   "language": "python",
   "name": "python3"
  },
  "language_info": {
   "codemirror_mode": {
    "name": "ipython",
    "version": 3
   },
   "file_extension": ".py",
   "mimetype": "text/x-python",
   "name": "python",
   "nbconvert_exporter": "python",
   "pygments_lexer": "ipython3",
   "version": "3.10.10"
  },
  "orig_nbformat": 4,
  "vscode": {
   "interpreter": {
    "hash": "949777d72b0d2535278d3dc13498b2535136f6dfe0678499012e853ee9abcab1"
   }
  }
 },
 "nbformat": 4,
 "nbformat_minor": 2
}
