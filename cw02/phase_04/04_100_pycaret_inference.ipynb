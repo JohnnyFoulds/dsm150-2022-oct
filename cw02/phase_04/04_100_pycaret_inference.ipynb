{
 "cells": [
  {
   "attachments": {},
   "cell_type": "markdown",
   "metadata": {},
   "source": [
    "- https://openscoring.io/blog/2023/01/12/converting_sklearn_pycaret3_pipeline_pmml/\n",
    "- https://www.kaggle.com/code/yuichihiguchi/install-pycaret-without-internet/notebook"
   ]
  },
  {
   "cell_type": "code",
   "execution_count": 6,
   "metadata": {},
   "outputs": [],
   "source": [
    "#!pip install sklearn2pmml==0.92.0"
   ]
  },
  {
   "cell_type": "code",
   "execution_count": 7,
   "metadata": {},
   "outputs": [],
   "source": [
    "from pycaret.classification import *\n",
    "from sklearn2pmml import sklearn2pmml\n",
    "from sklearn2pmml.pycaret import make_pmml_pipeline as pycaret_make_pmml_pipeline"
   ]
  },
  {
   "cell_type": "code",
   "execution_count": 9,
   "metadata": {},
   "outputs": [
    {
     "name": "stdout",
     "output_type": "stream",
     "text": [
      "Transformation Pipeline and Model Successfully Loaded\n"
     ]
    }
   ],
   "source": [
    "pycaret_pipeline = load_model('stack_001')"
   ]
  },
  {
   "cell_type": "code",
   "execution_count": 17,
   "metadata": {},
   "outputs": [],
   "source": [
    "pmml_pipeline = pycaret_make_pmml_pipeline(pycaret_pipeline, target_fields=['correct'])"
   ]
  },
  {
   "cell_type": "code",
   "execution_count": 18,
   "metadata": {},
   "outputs": [
    {
     "name": "stdout",
     "output_type": "stream",
     "text": [
      "Standard output is empty\n",
      "Standard error:\n",
      "Exception in thread \"main\" java.lang.IllegalArgumentException: List attribute 'sklearn.ensemble._bagging.BaggingClassifier.estimators_' contains an unsupported value (Python class catboost.core.CatBoostClassifier)\n",
      "\tat org.jpmml.python.CastFunction.apply(CastFunction.java:47)\n",
      "\tat com.google.common.collect.Lists$TransformingRandomAccessList$1.transform(Lists.java:651)\n",
      "\tat com.google.common.collect.TransformedIterator.next(TransformedIterator.java:47)\n",
      "\tat sklearn.ensemble.bagging.BaggingClassifier.encodeModel(BaggingClassifier.java:48)\n",
      "\tat sklearn.ensemble.bagging.BaggingClassifier.encodeModel(BaggingClassifier.java:35)\n",
      "\tat sklearn.Estimator.encode(Estimator.java:118)\n",
      "\tat sklearn.ensemble.voting.VotingClassifier.encodeModel(VotingClassifier.java:60)\n",
      "\tat sklearn.Estimator.encode(Estimator.java:118)\n",
      "\tat sklearn.ensemble.stacking.StackingUtil.encodeStacking(StackingUtil.java:56)\n",
      "\tat sklearn.ensemble.stacking.StackingClassifier.encodeModel(StackingClassifier.java:119)\n",
      "\tat sklearn.ensemble.stacking.StackingClassifier.encodeModel(StackingClassifier.java:42)\n",
      "\tat sklearn.Estimator.encode(Estimator.java:118)\n",
      "\tat sklearn2pmml.pipeline.PMMLPipeline.encodePMML(PMMLPipeline.java:177)\n",
      "\tat com.sklearn2pmml.Main.run(Main.java:91)\n",
      "\tat com.sklearn2pmml.Main.main(Main.java:66)\n",
      "Caused by: java.lang.ClassCastException: Cannot cast net.razorvine.pickle.objects.ClassDict to sklearn.Classifier\n",
      "\tat java.base/java.lang.Class.cast(Class.java:3605)\n",
      "\tat org.jpmml.python.CastFunction.apply(CastFunction.java:45)\n",
      "\t... 14 more\n",
      "\n"
     ]
    },
    {
     "ename": "RuntimeError",
     "evalue": "The SkLearn2PMML application has failed. The Java executable should have printed more information about the failure into its standard output and/or standard error streams",
     "output_type": "error",
     "traceback": [
      "\u001b[0;31m---------------------------------------------------------------------------\u001b[0m",
      "\u001b[0;31mRuntimeError\u001b[0m                              Traceback (most recent call last)",
      "\u001b[1;32m/home/jfoul001/code/dsm150-2022-oct/cw02/phase_04/04_100_pycaret_inference.ipynb Cell 6\u001b[0m in \u001b[0;36m<cell line: 1>\u001b[0;34m()\u001b[0m\n\u001b[0;32m----> <a href='vscode-notebook-cell://ssh-remote%2Blena.doc.gold.ac.uk/home/jfoul001/code/dsm150-2022-oct/cw02/phase_04/04_100_pycaret_inference.ipynb#X15sdnNjb2RlLXJlbW90ZQ%3D%3D?line=0'>1</a>\u001b[0m sklearn2pmml(pmml_pipeline, \u001b[39m\"\u001b[39;49m\u001b[39mstack_001.pmml\u001b[39;49m\u001b[39m\"\u001b[39;49m)\n",
      "File \u001b[0;32m~/.conda/envs/dsm010/lib/python3.8/site-packages/sklearn2pmml/__init__.py:286\u001b[0m, in \u001b[0;36msklearn2pmml\u001b[0;34m(pipeline, pmml, with_repr, java_home, java_opts, user_classpath, debug)\u001b[0m\n\u001b[1;32m    284\u001b[0m \t\t\t\u001b[39mprint\u001b[39m(\u001b[39m\"\u001b[39m\u001b[39mStandard error is empty\u001b[39m\u001b[39m\"\u001b[39m)\n\u001b[1;32m    285\u001b[0m \t\u001b[39mif\u001b[39;00m retcode:\n\u001b[0;32m--> 286\u001b[0m \t\t\u001b[39mraise\u001b[39;00m \u001b[39mRuntimeError\u001b[39;00m(\u001b[39m\"\u001b[39m\u001b[39mThe SkLearn2PMML application has failed. The Java executable should have printed more information about the failure into its standard output and/or standard error streams\u001b[39m\u001b[39m\"\u001b[39m)\n\u001b[1;32m    287\u001b[0m \u001b[39mfinally\u001b[39;00m:\n\u001b[1;32m    288\u001b[0m \t\u001b[39mif\u001b[39;00m debug:\n",
      "\u001b[0;31mRuntimeError\u001b[0m: The SkLearn2PMML application has failed. The Java executable should have printed more information about the failure into its standard output and/or standard error streams"
     ]
    }
   ],
   "source": [
    "sklearn2pmml(pmml_pipeline, \"stack_001.pmml\")"
   ]
  }
 ],
 "metadata": {
  "kernelspec": {
   "display_name": "dsm010",
   "language": "python",
   "name": "python3"
  },
  "language_info": {
   "codemirror_mode": {
    "name": "ipython",
    "version": 3
   },
   "file_extension": ".py",
   "mimetype": "text/x-python",
   "name": "python",
   "nbconvert_exporter": "python",
   "pygments_lexer": "ipython3",
   "version": "3.8.12"
  },
  "orig_nbformat": 4,
  "vscode": {
   "interpreter": {
    "hash": "429f3e8d45833d845e6e031dbf3e229703adf0bd2129019c99d8da7ba46dd29e"
   }
  }
 },
 "nbformat": 4,
 "nbformat_minor": 2
}
