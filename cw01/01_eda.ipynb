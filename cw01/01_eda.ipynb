{
 "cells": [
  {
   "attachments": {},
   "cell_type": "markdown",
   "metadata": {},
   "source": [
    "# 1. Exploratory Data Analysis\n",
    "\n",
    "Data Source:\n",
    "\n",
    "- Constante, Fabian; Silva, Fernando; Pereira, António (2019), “DataCo SMART SUPPLY CHAIN FOR BIG DATA ANALYSIS”, Mendeley Data, V5, doi: 10.17632/8gx2fvg2k6.5"
   ]
  },
  {
   "cell_type": "code",
   "execution_count": 1,
   "metadata": {},
   "outputs": [],
   "source": [
    "import pandas as pd\n",
    "import numpy as np\n",
    "import seaborn as sns\n",
    "import matplotlib.pyplot as plt\n",
    "\n",
    "from sklearn.preprocessing import StandardScaler, normalize\n",
    "from pycaret.classification import *\n"
   ]
  },
  {
   "attachments": {},
   "cell_type": "markdown",
   "metadata": {},
   "source": [
    "## 1.1 Data Description"
   ]
  },
  {
   "cell_type": "code",
   "execution_count": 2,
   "metadata": {},
   "outputs": [
    {
     "name": "stdout",
     "output_type": "stream",
     "text": [
      "(180519, 53)\n"
     ]
    },
    {
     "data": {
      "text/html": [
       "<div>\n",
       "<style scoped>\n",
       "    .dataframe tbody tr th:only-of-type {\n",
       "        vertical-align: middle;\n",
       "    }\n",
       "\n",
       "    .dataframe tbody tr th {\n",
       "        vertical-align: top;\n",
       "    }\n",
       "\n",
       "    .dataframe thead th {\n",
       "        text-align: right;\n",
       "    }\n",
       "</style>\n",
       "<table border=\"1\" class=\"dataframe\">\n",
       "  <thead>\n",
       "    <tr style=\"text-align: right;\">\n",
       "      <th></th>\n",
       "      <th>Type</th>\n",
       "      <th>Days for shipping (real)</th>\n",
       "      <th>Days for shipment (scheduled)</th>\n",
       "      <th>Benefit per order</th>\n",
       "      <th>Sales per customer</th>\n",
       "      <th>Delivery Status</th>\n",
       "      <th>Late_delivery_risk</th>\n",
       "      <th>Category Id</th>\n",
       "      <th>Category Name</th>\n",
       "      <th>Customer City</th>\n",
       "      <th>Customer Country</th>\n",
       "      <th>Customer Email</th>\n",
       "      <th>Customer Fname</th>\n",
       "      <th>Customer Id</th>\n",
       "      <th>Customer Lname</th>\n",
       "      <th>Customer Password</th>\n",
       "      <th>Customer Segment</th>\n",
       "      <th>Customer State</th>\n",
       "      <th>Customer Street</th>\n",
       "      <th>Customer Zipcode</th>\n",
       "      <th>Department Id</th>\n",
       "      <th>Department Name</th>\n",
       "      <th>Latitude</th>\n",
       "      <th>Longitude</th>\n",
       "      <th>Market</th>\n",
       "      <th>Order City</th>\n",
       "      <th>Order Country</th>\n",
       "      <th>Order Customer Id</th>\n",
       "      <th>order date (DateOrders)</th>\n",
       "      <th>Order Id</th>\n",
       "      <th>Order Item Cardprod Id</th>\n",
       "      <th>Order Item Discount</th>\n",
       "      <th>Order Item Discount Rate</th>\n",
       "      <th>Order Item Id</th>\n",
       "      <th>Order Item Product Price</th>\n",
       "      <th>Order Item Profit Ratio</th>\n",
       "      <th>Order Item Quantity</th>\n",
       "      <th>Sales</th>\n",
       "      <th>Order Item Total</th>\n",
       "      <th>Order Profit Per Order</th>\n",
       "      <th>Order Region</th>\n",
       "      <th>Order State</th>\n",
       "      <th>Order Status</th>\n",
       "      <th>Order Zipcode</th>\n",
       "      <th>Product Card Id</th>\n",
       "      <th>Product Category Id</th>\n",
       "      <th>Product Description</th>\n",
       "      <th>Product Image</th>\n",
       "      <th>Product Name</th>\n",
       "      <th>Product Price</th>\n",
       "      <th>Product Status</th>\n",
       "      <th>shipping date (DateOrders)</th>\n",
       "      <th>Shipping Mode</th>\n",
       "    </tr>\n",
       "  </thead>\n",
       "  <tbody>\n",
       "    <tr>\n",
       "      <th>0</th>\n",
       "      <td>DEBIT</td>\n",
       "      <td>3</td>\n",
       "      <td>4</td>\n",
       "      <td>91.250000</td>\n",
       "      <td>314.640015</td>\n",
       "      <td>Advance shipping</td>\n",
       "      <td>0</td>\n",
       "      <td>73</td>\n",
       "      <td>Sporting Goods</td>\n",
       "      <td>Caguas</td>\n",
       "      <td>Puerto Rico</td>\n",
       "      <td>XXXXXXXXX</td>\n",
       "      <td>Cally</td>\n",
       "      <td>20755</td>\n",
       "      <td>Holloway</td>\n",
       "      <td>XXXXXXXXX</td>\n",
       "      <td>Consumer</td>\n",
       "      <td>PR</td>\n",
       "      <td>5365 Noble Nectar Island</td>\n",
       "      <td>725.0</td>\n",
       "      <td>2</td>\n",
       "      <td>Fitness</td>\n",
       "      <td>18.251453</td>\n",
       "      <td>-66.037056</td>\n",
       "      <td>Pacific Asia</td>\n",
       "      <td>Bekasi</td>\n",
       "      <td>Indonesia</td>\n",
       "      <td>20755</td>\n",
       "      <td>2018-01-31 22:56:00</td>\n",
       "      <td>77202</td>\n",
       "      <td>1360</td>\n",
       "      <td>13.110000</td>\n",
       "      <td>0.04</td>\n",
       "      <td>180517</td>\n",
       "      <td>327.75</td>\n",
       "      <td>0.29</td>\n",
       "      <td>1</td>\n",
       "      <td>327.75</td>\n",
       "      <td>314.640015</td>\n",
       "      <td>91.250000</td>\n",
       "      <td>Southeast Asia</td>\n",
       "      <td>Java Occidental</td>\n",
       "      <td>COMPLETE</td>\n",
       "      <td>NaN</td>\n",
       "      <td>1360</td>\n",
       "      <td>73</td>\n",
       "      <td>NaN</td>\n",
       "      <td>http://images.acmesports.sports/Smart+watch</td>\n",
       "      <td>Smart watch</td>\n",
       "      <td>327.75</td>\n",
       "      <td>0</td>\n",
       "      <td>2/3/2018 22:56</td>\n",
       "      <td>Standard Class</td>\n",
       "    </tr>\n",
       "    <tr>\n",
       "      <th>1</th>\n",
       "      <td>TRANSFER</td>\n",
       "      <td>5</td>\n",
       "      <td>4</td>\n",
       "      <td>-249.089996</td>\n",
       "      <td>311.359985</td>\n",
       "      <td>Late delivery</td>\n",
       "      <td>1</td>\n",
       "      <td>73</td>\n",
       "      <td>Sporting Goods</td>\n",
       "      <td>Caguas</td>\n",
       "      <td>Puerto Rico</td>\n",
       "      <td>XXXXXXXXX</td>\n",
       "      <td>Irene</td>\n",
       "      <td>19492</td>\n",
       "      <td>Luna</td>\n",
       "      <td>XXXXXXXXX</td>\n",
       "      <td>Consumer</td>\n",
       "      <td>PR</td>\n",
       "      <td>2679 Rustic Loop</td>\n",
       "      <td>725.0</td>\n",
       "      <td>2</td>\n",
       "      <td>Fitness</td>\n",
       "      <td>18.279451</td>\n",
       "      <td>-66.037064</td>\n",
       "      <td>Pacific Asia</td>\n",
       "      <td>Bikaner</td>\n",
       "      <td>India</td>\n",
       "      <td>19492</td>\n",
       "      <td>2018-01-13 12:27:00</td>\n",
       "      <td>75939</td>\n",
       "      <td>1360</td>\n",
       "      <td>16.389999</td>\n",
       "      <td>0.05</td>\n",
       "      <td>179254</td>\n",
       "      <td>327.75</td>\n",
       "      <td>-0.80</td>\n",
       "      <td>1</td>\n",
       "      <td>327.75</td>\n",
       "      <td>311.359985</td>\n",
       "      <td>-249.089996</td>\n",
       "      <td>South Asia</td>\n",
       "      <td>Rajastán</td>\n",
       "      <td>PENDING</td>\n",
       "      <td>NaN</td>\n",
       "      <td>1360</td>\n",
       "      <td>73</td>\n",
       "      <td>NaN</td>\n",
       "      <td>http://images.acmesports.sports/Smart+watch</td>\n",
       "      <td>Smart watch</td>\n",
       "      <td>327.75</td>\n",
       "      <td>0</td>\n",
       "      <td>1/18/2018 12:27</td>\n",
       "      <td>Standard Class</td>\n",
       "    </tr>\n",
       "    <tr>\n",
       "      <th>2</th>\n",
       "      <td>CASH</td>\n",
       "      <td>4</td>\n",
       "      <td>4</td>\n",
       "      <td>-247.779999</td>\n",
       "      <td>309.720001</td>\n",
       "      <td>Shipping on time</td>\n",
       "      <td>0</td>\n",
       "      <td>73</td>\n",
       "      <td>Sporting Goods</td>\n",
       "      <td>San Jose</td>\n",
       "      <td>EE. UU.</td>\n",
       "      <td>XXXXXXXXX</td>\n",
       "      <td>Gillian</td>\n",
       "      <td>19491</td>\n",
       "      <td>Maldonado</td>\n",
       "      <td>XXXXXXXXX</td>\n",
       "      <td>Consumer</td>\n",
       "      <td>CA</td>\n",
       "      <td>8510 Round Bear Gate</td>\n",
       "      <td>95125.0</td>\n",
       "      <td>2</td>\n",
       "      <td>Fitness</td>\n",
       "      <td>37.292233</td>\n",
       "      <td>-121.881279</td>\n",
       "      <td>Pacific Asia</td>\n",
       "      <td>Bikaner</td>\n",
       "      <td>India</td>\n",
       "      <td>19491</td>\n",
       "      <td>2018-01-13 12:06:00</td>\n",
       "      <td>75938</td>\n",
       "      <td>1360</td>\n",
       "      <td>18.030001</td>\n",
       "      <td>0.06</td>\n",
       "      <td>179253</td>\n",
       "      <td>327.75</td>\n",
       "      <td>-0.80</td>\n",
       "      <td>1</td>\n",
       "      <td>327.75</td>\n",
       "      <td>309.720001</td>\n",
       "      <td>-247.779999</td>\n",
       "      <td>South Asia</td>\n",
       "      <td>Rajastán</td>\n",
       "      <td>CLOSED</td>\n",
       "      <td>NaN</td>\n",
       "      <td>1360</td>\n",
       "      <td>73</td>\n",
       "      <td>NaN</td>\n",
       "      <td>http://images.acmesports.sports/Smart+watch</td>\n",
       "      <td>Smart watch</td>\n",
       "      <td>327.75</td>\n",
       "      <td>0</td>\n",
       "      <td>1/17/2018 12:06</td>\n",
       "      <td>Standard Class</td>\n",
       "    </tr>\n",
       "    <tr>\n",
       "      <th>3</th>\n",
       "      <td>DEBIT</td>\n",
       "      <td>3</td>\n",
       "      <td>4</td>\n",
       "      <td>22.860001</td>\n",
       "      <td>304.809998</td>\n",
       "      <td>Advance shipping</td>\n",
       "      <td>0</td>\n",
       "      <td>73</td>\n",
       "      <td>Sporting Goods</td>\n",
       "      <td>Los Angeles</td>\n",
       "      <td>EE. UU.</td>\n",
       "      <td>XXXXXXXXX</td>\n",
       "      <td>Tana</td>\n",
       "      <td>19490</td>\n",
       "      <td>Tate</td>\n",
       "      <td>XXXXXXXXX</td>\n",
       "      <td>Home Office</td>\n",
       "      <td>CA</td>\n",
       "      <td>3200 Amber Bend</td>\n",
       "      <td>90027.0</td>\n",
       "      <td>2</td>\n",
       "      <td>Fitness</td>\n",
       "      <td>34.125946</td>\n",
       "      <td>-118.291016</td>\n",
       "      <td>Pacific Asia</td>\n",
       "      <td>Townsville</td>\n",
       "      <td>Australia</td>\n",
       "      <td>19490</td>\n",
       "      <td>2018-01-13 11:45:00</td>\n",
       "      <td>75937</td>\n",
       "      <td>1360</td>\n",
       "      <td>22.940001</td>\n",
       "      <td>0.07</td>\n",
       "      <td>179252</td>\n",
       "      <td>327.75</td>\n",
       "      <td>0.08</td>\n",
       "      <td>1</td>\n",
       "      <td>327.75</td>\n",
       "      <td>304.809998</td>\n",
       "      <td>22.860001</td>\n",
       "      <td>Oceania</td>\n",
       "      <td>Queensland</td>\n",
       "      <td>COMPLETE</td>\n",
       "      <td>NaN</td>\n",
       "      <td>1360</td>\n",
       "      <td>73</td>\n",
       "      <td>NaN</td>\n",
       "      <td>http://images.acmesports.sports/Smart+watch</td>\n",
       "      <td>Smart watch</td>\n",
       "      <td>327.75</td>\n",
       "      <td>0</td>\n",
       "      <td>1/16/2018 11:45</td>\n",
       "      <td>Standard Class</td>\n",
       "    </tr>\n",
       "    <tr>\n",
       "      <th>4</th>\n",
       "      <td>PAYMENT</td>\n",
       "      <td>2</td>\n",
       "      <td>4</td>\n",
       "      <td>134.210007</td>\n",
       "      <td>298.250000</td>\n",
       "      <td>Advance shipping</td>\n",
       "      <td>0</td>\n",
       "      <td>73</td>\n",
       "      <td>Sporting Goods</td>\n",
       "      <td>Caguas</td>\n",
       "      <td>Puerto Rico</td>\n",
       "      <td>XXXXXXXXX</td>\n",
       "      <td>Orli</td>\n",
       "      <td>19489</td>\n",
       "      <td>Hendricks</td>\n",
       "      <td>XXXXXXXXX</td>\n",
       "      <td>Corporate</td>\n",
       "      <td>PR</td>\n",
       "      <td>8671 Iron Anchor Corners</td>\n",
       "      <td>725.0</td>\n",
       "      <td>2</td>\n",
       "      <td>Fitness</td>\n",
       "      <td>18.253769</td>\n",
       "      <td>-66.037048</td>\n",
       "      <td>Pacific Asia</td>\n",
       "      <td>Townsville</td>\n",
       "      <td>Australia</td>\n",
       "      <td>19489</td>\n",
       "      <td>2018-01-13 11:24:00</td>\n",
       "      <td>75936</td>\n",
       "      <td>1360</td>\n",
       "      <td>29.500000</td>\n",
       "      <td>0.09</td>\n",
       "      <td>179251</td>\n",
       "      <td>327.75</td>\n",
       "      <td>0.45</td>\n",
       "      <td>1</td>\n",
       "      <td>327.75</td>\n",
       "      <td>298.250000</td>\n",
       "      <td>134.210007</td>\n",
       "      <td>Oceania</td>\n",
       "      <td>Queensland</td>\n",
       "      <td>PENDING_PAYMENT</td>\n",
       "      <td>NaN</td>\n",
       "      <td>1360</td>\n",
       "      <td>73</td>\n",
       "      <td>NaN</td>\n",
       "      <td>http://images.acmesports.sports/Smart+watch</td>\n",
       "      <td>Smart watch</td>\n",
       "      <td>327.75</td>\n",
       "      <td>0</td>\n",
       "      <td>1/15/2018 11:24</td>\n",
       "      <td>Standard Class</td>\n",
       "    </tr>\n",
       "  </tbody>\n",
       "</table>\n",
       "</div>"
      ],
      "text/plain": [
       "       Type  Days for shipping (real)  Days for shipment (scheduled)  \\\n",
       "0     DEBIT                         3                              4   \n",
       "1  TRANSFER                         5                              4   \n",
       "2      CASH                         4                              4   \n",
       "3     DEBIT                         3                              4   \n",
       "4   PAYMENT                         2                              4   \n",
       "\n",
       "   Benefit per order  Sales per customer   Delivery Status  \\\n",
       "0          91.250000          314.640015  Advance shipping   \n",
       "1        -249.089996          311.359985     Late delivery   \n",
       "2        -247.779999          309.720001  Shipping on time   \n",
       "3          22.860001          304.809998  Advance shipping   \n",
       "4         134.210007          298.250000  Advance shipping   \n",
       "\n",
       "   Late_delivery_risk  Category Id   Category Name Customer City  \\\n",
       "0                   0           73  Sporting Goods        Caguas   \n",
       "1                   1           73  Sporting Goods        Caguas   \n",
       "2                   0           73  Sporting Goods      San Jose   \n",
       "3                   0           73  Sporting Goods   Los Angeles   \n",
       "4                   0           73  Sporting Goods        Caguas   \n",
       "\n",
       "  Customer Country Customer Email Customer Fname  Customer Id Customer Lname  \\\n",
       "0      Puerto Rico      XXXXXXXXX          Cally        20755       Holloway   \n",
       "1      Puerto Rico      XXXXXXXXX          Irene        19492           Luna   \n",
       "2          EE. UU.      XXXXXXXXX        Gillian        19491      Maldonado   \n",
       "3          EE. UU.      XXXXXXXXX           Tana        19490           Tate   \n",
       "4      Puerto Rico      XXXXXXXXX           Orli        19489      Hendricks   \n",
       "\n",
       "  Customer Password Customer Segment Customer State           Customer Street  \\\n",
       "0         XXXXXXXXX         Consumer             PR  5365 Noble Nectar Island   \n",
       "1         XXXXXXXXX         Consumer             PR          2679 Rustic Loop   \n",
       "2         XXXXXXXXX         Consumer             CA      8510 Round Bear Gate   \n",
       "3         XXXXXXXXX      Home Office             CA           3200 Amber Bend   \n",
       "4         XXXXXXXXX        Corporate             PR  8671 Iron Anchor Corners   \n",
       "\n",
       "   Customer Zipcode  Department Id Department Name   Latitude   Longitude  \\\n",
       "0             725.0              2         Fitness  18.251453  -66.037056   \n",
       "1             725.0              2         Fitness  18.279451  -66.037064   \n",
       "2           95125.0              2         Fitness  37.292233 -121.881279   \n",
       "3           90027.0              2         Fitness  34.125946 -118.291016   \n",
       "4             725.0              2         Fitness  18.253769  -66.037048   \n",
       "\n",
       "         Market  Order City Order Country  Order Customer Id  \\\n",
       "0  Pacific Asia      Bekasi     Indonesia              20755   \n",
       "1  Pacific Asia     Bikaner         India              19492   \n",
       "2  Pacific Asia     Bikaner         India              19491   \n",
       "3  Pacific Asia  Townsville     Australia              19490   \n",
       "4  Pacific Asia  Townsville     Australia              19489   \n",
       "\n",
       "  order date (DateOrders)  Order Id  Order Item Cardprod Id  \\\n",
       "0     2018-01-31 22:56:00     77202                    1360   \n",
       "1     2018-01-13 12:27:00     75939                    1360   \n",
       "2     2018-01-13 12:06:00     75938                    1360   \n",
       "3     2018-01-13 11:45:00     75937                    1360   \n",
       "4     2018-01-13 11:24:00     75936                    1360   \n",
       "\n",
       "   Order Item Discount  Order Item Discount Rate  Order Item Id  \\\n",
       "0            13.110000                      0.04         180517   \n",
       "1            16.389999                      0.05         179254   \n",
       "2            18.030001                      0.06         179253   \n",
       "3            22.940001                      0.07         179252   \n",
       "4            29.500000                      0.09         179251   \n",
       "\n",
       "   Order Item Product Price  Order Item Profit Ratio  Order Item Quantity  \\\n",
       "0                    327.75                     0.29                    1   \n",
       "1                    327.75                    -0.80                    1   \n",
       "2                    327.75                    -0.80                    1   \n",
       "3                    327.75                     0.08                    1   \n",
       "4                    327.75                     0.45                    1   \n",
       "\n",
       "    Sales  Order Item Total  Order Profit Per Order    Order Region  \\\n",
       "0  327.75        314.640015               91.250000  Southeast Asia   \n",
       "1  327.75        311.359985             -249.089996      South Asia   \n",
       "2  327.75        309.720001             -247.779999      South Asia   \n",
       "3  327.75        304.809998               22.860001         Oceania   \n",
       "4  327.75        298.250000              134.210007         Oceania   \n",
       "\n",
       "       Order State     Order Status  Order Zipcode  Product Card Id  \\\n",
       "0  Java Occidental         COMPLETE            NaN             1360   \n",
       "1         Rajastán          PENDING            NaN             1360   \n",
       "2         Rajastán           CLOSED            NaN             1360   \n",
       "3       Queensland         COMPLETE            NaN             1360   \n",
       "4       Queensland  PENDING_PAYMENT            NaN             1360   \n",
       "\n",
       "   Product Category Id  Product Description  \\\n",
       "0                   73                  NaN   \n",
       "1                   73                  NaN   \n",
       "2                   73                  NaN   \n",
       "3                   73                  NaN   \n",
       "4                   73                  NaN   \n",
       "\n",
       "                                  Product Image  Product Name  Product Price  \\\n",
       "0  http://images.acmesports.sports/Smart+watch   Smart watch          327.75   \n",
       "1  http://images.acmesports.sports/Smart+watch   Smart watch          327.75   \n",
       "2  http://images.acmesports.sports/Smart+watch   Smart watch          327.75   \n",
       "3  http://images.acmesports.sports/Smart+watch   Smart watch          327.75   \n",
       "4  http://images.acmesports.sports/Smart+watch   Smart watch          327.75   \n",
       "\n",
       "   Product Status shipping date (DateOrders)   Shipping Mode  \n",
       "0               0             2/3/2018 22:56  Standard Class  \n",
       "1               0            1/18/2018 12:27  Standard Class  \n",
       "2               0            1/17/2018 12:06  Standard Class  \n",
       "3               0            1/16/2018 11:45  Standard Class  \n",
       "4               0            1/15/2018 11:24  Standard Class  "
      ]
     },
     "metadata": {},
     "output_type": "display_data"
    }
   ],
   "source": [
    "# load the source data\n",
    "df_source = pd.read_csv('data/raw/DataCoSupplyChainDataset.csv', encoding='unicode_escape')\n",
    "\n",
    "# convert the date columns to datetime\n",
    "df_source['order date (DateOrders)']= pd.to_datetime(df_source['order date (DateOrders)'])\n",
    "\n",
    "print(df_source.shape)\n",
    "with pd.option_context('display.max_columns', None):\n",
    "    display(df_source.head())\n"
   ]
  },
  {
   "cell_type": "code",
   "execution_count": 3,
   "metadata": {},
   "outputs": [
    {
     "data": {
      "text/html": [
       "<style type=\"text/css\">\n",
       "#T_12deb_row0_col0, #T_12deb_row0_col1, #T_12deb_row1_col0, #T_12deb_row1_col1, #T_12deb_row2_col0, #T_12deb_row2_col1, #T_12deb_row3_col0, #T_12deb_row3_col1, #T_12deb_row4_col0, #T_12deb_row4_col1, #T_12deb_row5_col0, #T_12deb_row5_col1, #T_12deb_row6_col0, #T_12deb_row6_col1, #T_12deb_row7_col0, #T_12deb_row7_col1, #T_12deb_row8_col0, #T_12deb_row8_col1, #T_12deb_row9_col0, #T_12deb_row9_col1, #T_12deb_row10_col0, #T_12deb_row10_col1, #T_12deb_row11_col0, #T_12deb_row11_col1, #T_12deb_row12_col0, #T_12deb_row12_col1, #T_12deb_row13_col0, #T_12deb_row13_col1, #T_12deb_row14_col0, #T_12deb_row14_col1, #T_12deb_row15_col0, #T_12deb_row15_col1, #T_12deb_row16_col0, #T_12deb_row16_col1, #T_12deb_row17_col0, #T_12deb_row17_col1, #T_12deb_row18_col0, #T_12deb_row18_col1, #T_12deb_row19_col0, #T_12deb_row19_col1, #T_12deb_row20_col0, #T_12deb_row20_col1, #T_12deb_row21_col0, #T_12deb_row21_col1, #T_12deb_row22_col0, #T_12deb_row22_col1, #T_12deb_row23_col0, #T_12deb_row23_col1, #T_12deb_row24_col0, #T_12deb_row24_col1, #T_12deb_row25_col0, #T_12deb_row25_col1, #T_12deb_row26_col0, #T_12deb_row26_col1, #T_12deb_row27_col0, #T_12deb_row27_col1, #T_12deb_row28_col0, #T_12deb_row28_col1, #T_12deb_row29_col0, #T_12deb_row29_col1, #T_12deb_row30_col0, #T_12deb_row30_col1, #T_12deb_row31_col0, #T_12deb_row31_col1, #T_12deb_row32_col0, #T_12deb_row32_col1, #T_12deb_row33_col0, #T_12deb_row33_col1, #T_12deb_row34_col0, #T_12deb_row34_col1, #T_12deb_row35_col0, #T_12deb_row35_col1, #T_12deb_row36_col0, #T_12deb_row36_col1, #T_12deb_row37_col0, #T_12deb_row37_col1, #T_12deb_row38_col0, #T_12deb_row38_col1, #T_12deb_row39_col0, #T_12deb_row39_col1, #T_12deb_row40_col0, #T_12deb_row40_col1, #T_12deb_row41_col0, #T_12deb_row41_col1, #T_12deb_row42_col0, #T_12deb_row42_col1, #T_12deb_row43_col0, #T_12deb_row43_col1, #T_12deb_row44_col0, #T_12deb_row44_col1, #T_12deb_row45_col0, #T_12deb_row45_col1, #T_12deb_row46_col0, #T_12deb_row46_col1, #T_12deb_row47_col0, #T_12deb_row47_col1, #T_12deb_row48_col0, #T_12deb_row48_col1, #T_12deb_row49_col0, #T_12deb_row49_col1, #T_12deb_row50_col0, #T_12deb_row50_col1, #T_12deb_row51_col0, #T_12deb_row51_col1 {\n",
       "  text-align: left;\n",
       "}\n",
       "</style>\n",
       "<table id=\"T_12deb_\">\n",
       "  <thead>\n",
       "    <tr>\n",
       "      <th class=\"blank level0\" >&nbsp;</th>\n",
       "      <th class=\"col_heading level0 col0\" >FIELDS</th>\n",
       "      <th class=\"col_heading level0 col1\" >DESCRIPTION</th>\n",
       "    </tr>\n",
       "  </thead>\n",
       "  <tbody>\n",
       "    <tr>\n",
       "      <th id=\"T_12deb_level0_row0\" class=\"row_heading level0 row0\" >0</th>\n",
       "      <td id=\"T_12deb_row0_col0\" class=\"data row0 col0\" >Type</td>\n",
       "      <td id=\"T_12deb_row0_col1\" class=\"data row0 col1\" >  Type of transaction made</td>\n",
       "    </tr>\n",
       "    <tr>\n",
       "      <th id=\"T_12deb_level0_row1\" class=\"row_heading level0 row1\" >1</th>\n",
       "      <td id=\"T_12deb_row1_col0\" class=\"data row1 col0\" >Days for shipping (real)     </td>\n",
       "      <td id=\"T_12deb_row1_col1\" class=\"data row1 col1\" >  Actual shipping days of the purchased product</td>\n",
       "    </tr>\n",
       "    <tr>\n",
       "      <th id=\"T_12deb_level0_row2\" class=\"row_heading level0 row2\" >2</th>\n",
       "      <td id=\"T_12deb_row2_col0\" class=\"data row2 col0\" >Days for shipment (scheduled)</td>\n",
       "      <td id=\"T_12deb_row2_col1\" class=\"data row2 col1\" >  Days of scheduled delivery of the purchased product</td>\n",
       "    </tr>\n",
       "    <tr>\n",
       "      <th id=\"T_12deb_level0_row3\" class=\"row_heading level0 row3\" >3</th>\n",
       "      <td id=\"T_12deb_row3_col0\" class=\"data row3 col0\" >Benefit per order</td>\n",
       "      <td id=\"T_12deb_row3_col1\" class=\"data row3 col1\" >  Earnings per order placed</td>\n",
       "    </tr>\n",
       "    <tr>\n",
       "      <th id=\"T_12deb_level0_row4\" class=\"row_heading level0 row4\" >4</th>\n",
       "      <td id=\"T_12deb_row4_col0\" class=\"data row4 col0\" >Sales per customer</td>\n",
       "      <td id=\"T_12deb_row4_col1\" class=\"data row4 col1\" >  Total sales per customer made per customer</td>\n",
       "    </tr>\n",
       "    <tr>\n",
       "      <th id=\"T_12deb_level0_row5\" class=\"row_heading level0 row5\" >5</th>\n",
       "      <td id=\"T_12deb_row5_col0\" class=\"data row5 col0\" >Delivery Status</td>\n",
       "      <td id=\"T_12deb_row5_col1\" class=\"data row5 col1\" >  Delivery status of orders Advance shipping , Late delivery , Shipping canceled , Shipping on time</td>\n",
       "    </tr>\n",
       "    <tr>\n",
       "      <th id=\"T_12deb_level0_row6\" class=\"row_heading level0 row6\" >6</th>\n",
       "      <td id=\"T_12deb_row6_col0\" class=\"data row6 col0\" >Late_delivery_risk           </td>\n",
       "      <td id=\"T_12deb_row6_col1\" class=\"data row6 col1\" >  Categorical variable that indicates if sending is late (1), it is not late (0).</td>\n",
       "    </tr>\n",
       "    <tr>\n",
       "      <th id=\"T_12deb_level0_row7\" class=\"row_heading level0 row7\" >7</th>\n",
       "      <td id=\"T_12deb_row7_col0\" class=\"data row7 col0\" >Category Id</td>\n",
       "      <td id=\"T_12deb_row7_col1\" class=\"data row7 col1\" >  Product category code</td>\n",
       "    </tr>\n",
       "    <tr>\n",
       "      <th id=\"T_12deb_level0_row8\" class=\"row_heading level0 row8\" >8</th>\n",
       "      <td id=\"T_12deb_row8_col0\" class=\"data row8 col0\" >Category Name</td>\n",
       "      <td id=\"T_12deb_row8_col1\" class=\"data row8 col1\" >  Description of the product category</td>\n",
       "    </tr>\n",
       "    <tr>\n",
       "      <th id=\"T_12deb_level0_row9\" class=\"row_heading level0 row9\" >9</th>\n",
       "      <td id=\"T_12deb_row9_col0\" class=\"data row9 col0\" >Customer City</td>\n",
       "      <td id=\"T_12deb_row9_col1\" class=\"data row9 col1\" >  City where the customer made the purchase</td>\n",
       "    </tr>\n",
       "    <tr>\n",
       "      <th id=\"T_12deb_level0_row10\" class=\"row_heading level0 row10\" >10</th>\n",
       "      <td id=\"T_12deb_row10_col0\" class=\"data row10 col0\" >Customer Country</td>\n",
       "      <td id=\"T_12deb_row10_col1\" class=\"data row10 col1\" >  Country where the customer made the purchase</td>\n",
       "    </tr>\n",
       "    <tr>\n",
       "      <th id=\"T_12deb_level0_row11\" class=\"row_heading level0 row11\" >11</th>\n",
       "      <td id=\"T_12deb_row11_col0\" class=\"data row11 col0\" >Customer Email</td>\n",
       "      <td id=\"T_12deb_row11_col1\" class=\"data row11 col1\" >  Customer's email</td>\n",
       "    </tr>\n",
       "    <tr>\n",
       "      <th id=\"T_12deb_level0_row12\" class=\"row_heading level0 row12\" >12</th>\n",
       "      <td id=\"T_12deb_row12_col0\" class=\"data row12 col0\" >Customer Fname</td>\n",
       "      <td id=\"T_12deb_row12_col1\" class=\"data row12 col1\" >  Customer name</td>\n",
       "    </tr>\n",
       "    <tr>\n",
       "      <th id=\"T_12deb_level0_row13\" class=\"row_heading level0 row13\" >13</th>\n",
       "      <td id=\"T_12deb_row13_col0\" class=\"data row13 col0\" >Customer Id</td>\n",
       "      <td id=\"T_12deb_row13_col1\" class=\"data row13 col1\" >  Customer ID</td>\n",
       "    </tr>\n",
       "    <tr>\n",
       "      <th id=\"T_12deb_level0_row14\" class=\"row_heading level0 row14\" >14</th>\n",
       "      <td id=\"T_12deb_row14_col0\" class=\"data row14 col0\" >Customer Lname</td>\n",
       "      <td id=\"T_12deb_row14_col1\" class=\"data row14 col1\" >  Customer lastname</td>\n",
       "    </tr>\n",
       "    <tr>\n",
       "      <th id=\"T_12deb_level0_row15\" class=\"row_heading level0 row15\" >15</th>\n",
       "      <td id=\"T_12deb_row15_col0\" class=\"data row15 col0\" >Customer Password</td>\n",
       "      <td id=\"T_12deb_row15_col1\" class=\"data row15 col1\" >  Masked customer key</td>\n",
       "    </tr>\n",
       "    <tr>\n",
       "      <th id=\"T_12deb_level0_row16\" class=\"row_heading level0 row16\" >16</th>\n",
       "      <td id=\"T_12deb_row16_col0\" class=\"data row16 col0\" >Customer Segment</td>\n",
       "      <td id=\"T_12deb_row16_col1\" class=\"data row16 col1\" >  Types of Customers Consumer , Corporate , Home Office</td>\n",
       "    </tr>\n",
       "    <tr>\n",
       "      <th id=\"T_12deb_level0_row17\" class=\"row_heading level0 row17\" >17</th>\n",
       "      <td id=\"T_12deb_row17_col0\" class=\"data row17 col0\" >Customer State</td>\n",
       "      <td id=\"T_12deb_row17_col1\" class=\"data row17 col1\" >  State to which the store where the purchase is registered belongs</td>\n",
       "    </tr>\n",
       "    <tr>\n",
       "      <th id=\"T_12deb_level0_row18\" class=\"row_heading level0 row18\" >18</th>\n",
       "      <td id=\"T_12deb_row18_col0\" class=\"data row18 col0\" >Customer Street</td>\n",
       "      <td id=\"T_12deb_row18_col1\" class=\"data row18 col1\" >  Street to which the store where the purchase is registered belongs</td>\n",
       "    </tr>\n",
       "    <tr>\n",
       "      <th id=\"T_12deb_level0_row19\" class=\"row_heading level0 row19\" >19</th>\n",
       "      <td id=\"T_12deb_row19_col0\" class=\"data row19 col0\" >Customer Zipcode</td>\n",
       "      <td id=\"T_12deb_row19_col1\" class=\"data row19 col1\" >  Customer Zipcode</td>\n",
       "    </tr>\n",
       "    <tr>\n",
       "      <th id=\"T_12deb_level0_row20\" class=\"row_heading level0 row20\" >20</th>\n",
       "      <td id=\"T_12deb_row20_col0\" class=\"data row20 col0\" >Department Id</td>\n",
       "      <td id=\"T_12deb_row20_col1\" class=\"data row20 col1\" >  Department code of store</td>\n",
       "    </tr>\n",
       "    <tr>\n",
       "      <th id=\"T_12deb_level0_row21\" class=\"row_heading level0 row21\" >21</th>\n",
       "      <td id=\"T_12deb_row21_col0\" class=\"data row21 col0\" >Department Name</td>\n",
       "      <td id=\"T_12deb_row21_col1\" class=\"data row21 col1\" >  Department name of store</td>\n",
       "    </tr>\n",
       "    <tr>\n",
       "      <th id=\"T_12deb_level0_row22\" class=\"row_heading level0 row22\" >22</th>\n",
       "      <td id=\"T_12deb_row22_col0\" class=\"data row22 col0\" >Latitude</td>\n",
       "      <td id=\"T_12deb_row22_col1\" class=\"data row22 col1\" >  Latitude corresponding to location of store</td>\n",
       "    </tr>\n",
       "    <tr>\n",
       "      <th id=\"T_12deb_level0_row23\" class=\"row_heading level0 row23\" >23</th>\n",
       "      <td id=\"T_12deb_row23_col0\" class=\"data row23 col0\" >Longitude</td>\n",
       "      <td id=\"T_12deb_row23_col1\" class=\"data row23 col1\" >  Longitude corresponding to location of store</td>\n",
       "    </tr>\n",
       "    <tr>\n",
       "      <th id=\"T_12deb_level0_row24\" class=\"row_heading level0 row24\" >24</th>\n",
       "      <td id=\"T_12deb_row24_col0\" class=\"data row24 col0\" >Market</td>\n",
       "      <td id=\"T_12deb_row24_col1\" class=\"data row24 col1\" >  Market to where the order is delivered  Africa , Europe , LATAM , Pacific Asia , USCA</td>\n",
       "    </tr>\n",
       "    <tr>\n",
       "      <th id=\"T_12deb_level0_row25\" class=\"row_heading level0 row25\" >25</th>\n",
       "      <td id=\"T_12deb_row25_col0\" class=\"data row25 col0\" >Order City</td>\n",
       "      <td id=\"T_12deb_row25_col1\" class=\"data row25 col1\" >  Destination city of the order</td>\n",
       "    </tr>\n",
       "    <tr>\n",
       "      <th id=\"T_12deb_level0_row26\" class=\"row_heading level0 row26\" >26</th>\n",
       "      <td id=\"T_12deb_row26_col0\" class=\"data row26 col0\" >Order Country</td>\n",
       "      <td id=\"T_12deb_row26_col1\" class=\"data row26 col1\" >  Destination country of the order</td>\n",
       "    </tr>\n",
       "    <tr>\n",
       "      <th id=\"T_12deb_level0_row27\" class=\"row_heading level0 row27\" >27</th>\n",
       "      <td id=\"T_12deb_row27_col0\" class=\"data row27 col0\" >Order Customer Id</td>\n",
       "      <td id=\"T_12deb_row27_col1\" class=\"data row27 col1\" >  Customer order code</td>\n",
       "    </tr>\n",
       "    <tr>\n",
       "      <th id=\"T_12deb_level0_row28\" class=\"row_heading level0 row28\" >28</th>\n",
       "      <td id=\"T_12deb_row28_col0\" class=\"data row28 col0\" >order date (DateOrders)</td>\n",
       "      <td id=\"T_12deb_row28_col1\" class=\"data row28 col1\" >  Date on which the order is made</td>\n",
       "    </tr>\n",
       "    <tr>\n",
       "      <th id=\"T_12deb_level0_row29\" class=\"row_heading level0 row29\" >29</th>\n",
       "      <td id=\"T_12deb_row29_col0\" class=\"data row29 col0\" >Order Id</td>\n",
       "      <td id=\"T_12deb_row29_col1\" class=\"data row29 col1\" >  Order code</td>\n",
       "    </tr>\n",
       "    <tr>\n",
       "      <th id=\"T_12deb_level0_row30\" class=\"row_heading level0 row30\" >30</th>\n",
       "      <td id=\"T_12deb_row30_col0\" class=\"data row30 col0\" >Order Item Cardprod Id</td>\n",
       "      <td id=\"T_12deb_row30_col1\" class=\"data row30 col1\" >  Product code generated through the RFID reader</td>\n",
       "    </tr>\n",
       "    <tr>\n",
       "      <th id=\"T_12deb_level0_row31\" class=\"row_heading level0 row31\" >31</th>\n",
       "      <td id=\"T_12deb_row31_col0\" class=\"data row31 col0\" >Order Item Discount</td>\n",
       "      <td id=\"T_12deb_row31_col1\" class=\"data row31 col1\" >  Order item discount value</td>\n",
       "    </tr>\n",
       "    <tr>\n",
       "      <th id=\"T_12deb_level0_row32\" class=\"row_heading level0 row32\" >32</th>\n",
       "      <td id=\"T_12deb_row32_col0\" class=\"data row32 col0\" >Order Item Discount Rate     </td>\n",
       "      <td id=\"T_12deb_row32_col1\" class=\"data row32 col1\" >  Order item discount percentage</td>\n",
       "    </tr>\n",
       "    <tr>\n",
       "      <th id=\"T_12deb_level0_row33\" class=\"row_heading level0 row33\" >33</th>\n",
       "      <td id=\"T_12deb_row33_col0\" class=\"data row33 col0\" >Order Item Id</td>\n",
       "      <td id=\"T_12deb_row33_col1\" class=\"data row33 col1\" >  Order item code</td>\n",
       "    </tr>\n",
       "    <tr>\n",
       "      <th id=\"T_12deb_level0_row34\" class=\"row_heading level0 row34\" >34</th>\n",
       "      <td id=\"T_12deb_row34_col0\" class=\"data row34 col0\" >Order Item Product Price     </td>\n",
       "      <td id=\"T_12deb_row34_col1\" class=\"data row34 col1\" >  Price of products without discount</td>\n",
       "    </tr>\n",
       "    <tr>\n",
       "      <th id=\"T_12deb_level0_row35\" class=\"row_heading level0 row35\" >35</th>\n",
       "      <td id=\"T_12deb_row35_col0\" class=\"data row35 col0\" >Order Item Profit Ratio</td>\n",
       "      <td id=\"T_12deb_row35_col1\" class=\"data row35 col1\" >  Order Item Profit Ratio</td>\n",
       "    </tr>\n",
       "    <tr>\n",
       "      <th id=\"T_12deb_level0_row36\" class=\"row_heading level0 row36\" >36</th>\n",
       "      <td id=\"T_12deb_row36_col0\" class=\"data row36 col0\" >Order Item Quantity</td>\n",
       "      <td id=\"T_12deb_row36_col1\" class=\"data row36 col1\" >  Number of products per order</td>\n",
       "    </tr>\n",
       "    <tr>\n",
       "      <th id=\"T_12deb_level0_row37\" class=\"row_heading level0 row37\" >37</th>\n",
       "      <td id=\"T_12deb_row37_col0\" class=\"data row37 col0\" >Sales</td>\n",
       "      <td id=\"T_12deb_row37_col1\" class=\"data row37 col1\" >  Value in sales</td>\n",
       "    </tr>\n",
       "    <tr>\n",
       "      <th id=\"T_12deb_level0_row38\" class=\"row_heading level0 row38\" >38</th>\n",
       "      <td id=\"T_12deb_row38_col0\" class=\"data row38 col0\" >Order Item Total  </td>\n",
       "      <td id=\"T_12deb_row38_col1\" class=\"data row38 col1\" >  Total amount per order</td>\n",
       "    </tr>\n",
       "    <tr>\n",
       "      <th id=\"T_12deb_level0_row39\" class=\"row_heading level0 row39\" >39</th>\n",
       "      <td id=\"T_12deb_row39_col0\" class=\"data row39 col0\" >Order Profit Per Order</td>\n",
       "      <td id=\"T_12deb_row39_col1\" class=\"data row39 col1\" >  Order Profit Per Order</td>\n",
       "    </tr>\n",
       "    <tr>\n",
       "      <th id=\"T_12deb_level0_row40\" class=\"row_heading level0 row40\" >40</th>\n",
       "      <td id=\"T_12deb_row40_col0\" class=\"data row40 col0\" >Order Region</td>\n",
       "      <td id=\"T_12deb_row40_col1\" class=\"data row40 col1\" >  Region of the world where the order is delivered   Southeast Asia ,South Asia ,Oceania ,Eastern Asia, West Asia , West of USA , US Center , West Africa, Central Africa ,North Africa ,Western Europe ,Northern , Caribbean , South America ,East Africa ,Southern Europe , East of USA ,Canada ,Southern Africa , Central Asia ,  Europe , Central America, Eastern Europe , South of  USA </td>\n",
       "    </tr>\n",
       "    <tr>\n",
       "      <th id=\"T_12deb_level0_row41\" class=\"row_heading level0 row41\" >41</th>\n",
       "      <td id=\"T_12deb_row41_col0\" class=\"data row41 col0\" >Order State</td>\n",
       "      <td id=\"T_12deb_row41_col1\" class=\"data row41 col1\" >  State of the region where the order is delivered</td>\n",
       "    </tr>\n",
       "    <tr>\n",
       "      <th id=\"T_12deb_level0_row42\" class=\"row_heading level0 row42\" >42</th>\n",
       "      <td id=\"T_12deb_row42_col0\" class=\"data row42 col0\" >Order Status</td>\n",
       "      <td id=\"T_12deb_row42_col1\" class=\"data row42 col1\" >  Order Status  COMPLETE , PENDING , CLOSED , PENDING_PAYMENT ,CANCELED , PROCESSING ,SUSPECTED_FRAUD ,ON_HOLD ,PAYMENT_REVIEW</td>\n",
       "    </tr>\n",
       "    <tr>\n",
       "      <th id=\"T_12deb_level0_row43\" class=\"row_heading level0 row43\" >43</th>\n",
       "      <td id=\"T_12deb_row43_col0\" class=\"data row43 col0\" >Product Card Id</td>\n",
       "      <td id=\"T_12deb_row43_col1\" class=\"data row43 col1\" >  Product code</td>\n",
       "    </tr>\n",
       "    <tr>\n",
       "      <th id=\"T_12deb_level0_row44\" class=\"row_heading level0 row44\" >44</th>\n",
       "      <td id=\"T_12deb_row44_col0\" class=\"data row44 col0\" >Product Category Id</td>\n",
       "      <td id=\"T_12deb_row44_col1\" class=\"data row44 col1\" >  Product category code</td>\n",
       "    </tr>\n",
       "    <tr>\n",
       "      <th id=\"T_12deb_level0_row45\" class=\"row_heading level0 row45\" >45</th>\n",
       "      <td id=\"T_12deb_row45_col0\" class=\"data row45 col0\" >Product Description</td>\n",
       "      <td id=\"T_12deb_row45_col1\" class=\"data row45 col1\" >  Product Description</td>\n",
       "    </tr>\n",
       "    <tr>\n",
       "      <th id=\"T_12deb_level0_row46\" class=\"row_heading level0 row46\" >46</th>\n",
       "      <td id=\"T_12deb_row46_col0\" class=\"data row46 col0\" >Product Image</td>\n",
       "      <td id=\"T_12deb_row46_col1\" class=\"data row46 col1\" >  Link of visit and purchase of the product</td>\n",
       "    </tr>\n",
       "    <tr>\n",
       "      <th id=\"T_12deb_level0_row47\" class=\"row_heading level0 row47\" >47</th>\n",
       "      <td id=\"T_12deb_row47_col0\" class=\"data row47 col0\" >Product Name</td>\n",
       "      <td id=\"T_12deb_row47_col1\" class=\"data row47 col1\" >  Product Name</td>\n",
       "    </tr>\n",
       "    <tr>\n",
       "      <th id=\"T_12deb_level0_row48\" class=\"row_heading level0 row48\" >48</th>\n",
       "      <td id=\"T_12deb_row48_col0\" class=\"data row48 col0\" >Product Price</td>\n",
       "      <td id=\"T_12deb_row48_col1\" class=\"data row48 col1\" >  Product Price</td>\n",
       "    </tr>\n",
       "    <tr>\n",
       "      <th id=\"T_12deb_level0_row49\" class=\"row_heading level0 row49\" >49</th>\n",
       "      <td id=\"T_12deb_row49_col0\" class=\"data row49 col0\" >Product Status</td>\n",
       "      <td id=\"T_12deb_row49_col1\" class=\"data row49 col1\" >  Status of the product stock If it is 1 not available , 0 the product is available </td>\n",
       "    </tr>\n",
       "    <tr>\n",
       "      <th id=\"T_12deb_level0_row50\" class=\"row_heading level0 row50\" >50</th>\n",
       "      <td id=\"T_12deb_row50_col0\" class=\"data row50 col0\" >Shipping date (DateOrders)   </td>\n",
       "      <td id=\"T_12deb_row50_col1\" class=\"data row50 col1\" >  Exact date and time of shipment</td>\n",
       "    </tr>\n",
       "    <tr>\n",
       "      <th id=\"T_12deb_level0_row51\" class=\"row_heading level0 row51\" >51</th>\n",
       "      <td id=\"T_12deb_row51_col0\" class=\"data row51 col0\" >Shipping Mode</td>\n",
       "      <td id=\"T_12deb_row51_col1\" class=\"data row51 col1\" >  The following shipping modes are presented  Standard Class , First Class , Second Class , Same Day</td>\n",
       "    </tr>\n",
       "  </tbody>\n",
       "</table>\n"
      ],
      "text/plain": [
       "<pandas.io.formats.style.Styler at 0x7f69e070aad0>"
      ]
     },
     "execution_count": 3,
     "metadata": {},
     "output_type": "execute_result"
    }
   ],
   "source": [
    "# show the data description\n",
    "df_description = pd.read_csv('data/raw/DescriptionDataCoSupplyChain.csv')\n",
    "df_description.DESCRIPTION = df_description.DESCRIPTION.str.replace(':', '')\n",
    "\n",
    "df_description.style.set_properties(**{'text-align': 'left'})"
   ]
  },
  {
   "attachments": {},
   "cell_type": "markdown",
   "metadata": {},
   "source": [
    "## 1.2 Correlation\n",
    "\n",
    "References:\n",
    "- [Plotting a diagonal correlation matrix](https://seaborn.pydata.org/examples/many_pairwise_correlations.html)"
   ]
  },
  {
   "cell_type": "code",
   "execution_count": 4,
   "metadata": {},
   "outputs": [
    {
     "name": "stderr",
     "output_type": "stream",
     "text": [
      "findfont: Font family ['sans-serif'] not found. Falling back to DejaVu Sans.\n",
      "findfont: Generic family 'sans-serif' not found because none of the following families were found: Arial, Liberation Sans, Bitstream Vera Sans, sans-serif\n"
     ]
    },
    {
     "data": {
      "text/plain": [
       "<AxesSubplot:>"
      ]
     },
     "execution_count": 4,
     "metadata": {},
     "output_type": "execute_result"
    },
    {
     "data": {
      "image/png": "[encoded data removed]",
      "text/plain": [
       "<Figure size 800x600 with 2 Axes>"
      ]
     },
     "metadata": {},
     "output_type": "display_data"
    }
   ],
   "source": [
    "# Compute the correlation matrix\n",
    "corr = df_source.corr()\n",
    "\n",
    "# Generate a mask for the upper triangle\n",
    "mask = np.triu(np.ones_like(corr, dtype=bool))\n",
    "\n",
    "# Set up the matplotlib figure\n",
    "f, ax = plt.subplots(figsize=(8, 6))\n",
    "\n",
    "# Generate a custom diverging colormap\n",
    "cmap = sns.diverging_palette(230, 20, as_cmap=True)\n",
    "\n",
    "# Draw the heatmap with the mask and correct aspect ratio\n",
    "sns.heatmap(corr, mask=mask, cmap=cmap, center=0,\n",
    "            square=True, linewidths=.5, cbar_kws={\"shrink\": .5})"
   ]
  },
  {
   "attachments": {},
   "cell_type": "markdown",
   "metadata": {},
   "source": [
    "## 1.3 Fraud\n",
    "\n",
    "References:\n",
    "- <div class=\"csl-entry\">Constante-Nicolalde, F.-V., Guerra-Terán, P., &#38; Pérez-Medina, J.-L. (2020). <i>Fraud Prediction in Smart Supply Chains Using Machine Learning Techniques</i> (M. Botto-Tobar, M. Zambrano Vizuete, P. Torres-Carrión, S. Montes León, G. Pizarro Vásquez, &#38; B. Durakovic, Eds.; Vol. 1194, pp. 145–159). Springer International Publishing. https://doi.org/10.1007/978-3-030-42520-3_12</div>"
   ]
  },
  {
   "attachments": {},
   "cell_type": "markdown",
   "metadata": {},
   "source": [
    "### 1.3.1 Source Columns"
   ]
  },
  {
   "attachments": {},
   "cell_type": "markdown",
   "metadata": {},
   "source": [
    "#### 1.3.1.1 Order Date"
   ]
  },
  {
   "cell_type": "code",
   "execution_count": 5,
   "metadata": {},
   "outputs": [
    {
     "data": {
      "text/plain": [
       "count                  180519\n",
       "unique                  65752\n",
       "top       2016-12-14 12:29:00\n",
       "freq                        5\n",
       "first     2015-01-01 00:00:00\n",
       "last      2018-01-31 23:38:00\n",
       "Name: order date (DateOrders), dtype: object"
      ]
     },
     "execution_count": 5,
     "metadata": {},
     "output_type": "execute_result"
    }
   ],
   "source": [
    "df_source['order date (DateOrders)'].describe()"
   ]
  },
  {
   "attachments": {},
   "cell_type": "markdown",
   "metadata": {},
   "source": [
    "#### 1.3.1.2 Payment Type"
   ]
  },
  {
   "cell_type": "code",
   "execution_count": 6,
   "metadata": {},
   "outputs": [
    {
     "data": {
      "text/plain": [
       "DEBIT       69295\n",
       "TRANSFER    49883\n",
       "PAYMENT     41725\n",
       "CASH        19616\n",
       "Name: Type, dtype: int64"
      ]
     },
     "execution_count": 6,
     "metadata": {},
     "output_type": "execute_result"
    }
   ],
   "source": [
    "df_source['Type'].value_counts()"
   ]
  },
  {
   "cell_type": "markdown",
   "metadata": {},
   "source": [
    "#### 1.3.1.3 Sales per customer"
   ]
  },
  {
   "cell_type": "code",
   "execution_count": 7,
   "metadata": {},
   "outputs": [
    {
     "data": {
      "text/plain": [
       "count    180519.000000\n",
       "mean        183.107609\n",
       "std         120.043670\n",
       "min           7.490000\n",
       "25%         104.379997\n",
       "50%         163.990005\n",
       "75%         247.399994\n",
       "max        1939.989990\n",
       "Name: Sales per customer, dtype: float64"
      ]
     },
     "execution_count": 7,
     "metadata": {},
     "output_type": "execute_result"
    }
   ],
   "source": [
    "df_source['Sales per customer'].describe()"
   ]
  },
  {
   "attachments": {},
   "cell_type": "markdown",
   "metadata": {},
   "source": [
    "#### 1.3.1.4 Customer State"
   ]
  },
  {
   "cell_type": "code",
   "execution_count": 8,
   "metadata": {},
   "outputs": [
    {
     "data": {
      "text/plain": [
       "PR    69373\n",
       "CA    29223\n",
       "NY    11327\n",
       "TX     9103\n",
       "IL     7631\n",
       "FL     5456\n",
       "OH     4095\n",
       "PA     3824\n",
       "MI     3804\n",
       "NJ     3191\n",
       "Name: Customer State, dtype: int64"
      ]
     },
     "execution_count": 8,
     "metadata": {},
     "output_type": "execute_result"
    }
   ],
   "source": [
    "df_source['Customer State'].value_counts().head(10)"
   ]
  },
  {
   "attachments": {},
   "cell_type": "markdown",
   "metadata": {},
   "source": [
    "#### 1.3.1.5 Order State"
   ]
  },
  {
   "cell_type": "code",
   "execution_count": 9,
   "metadata": {},
   "outputs": [
    {
     "data": {
      "text/plain": [
       "Inglaterra                     6722\n",
       "California                     4966\n",
       "Isla de Francia                4580\n",
       "Renania del Norte-Westfalia    3303\n",
       "San Salvador                   3055\n",
       "Nueva York                     2753\n",
       "Distrito Federal               2559\n",
       "Texas                          2446\n",
       "Nueva Gales del Sur            2370\n",
       "Santo Domingo                  2211\n",
       "Name: Order State, dtype: int64"
      ]
     },
     "execution_count": 9,
     "metadata": {},
     "output_type": "execute_result"
    }
   ],
   "source": [
    "df_source['Order State'].value_counts().head(10)"
   ]
  },
  {
   "attachments": {},
   "cell_type": "markdown",
   "metadata": {},
   "source": [
    "#### 1.3.1.6 Order Status"
   ]
  },
  {
   "cell_type": "code",
   "execution_count": 10,
   "metadata": {},
   "outputs": [
    {
     "data": {
      "text/plain": [
       "COMPLETE           59491\n",
       "PENDING_PAYMENT    39832\n",
       "PROCESSING         21902\n",
       "PENDING            20227\n",
       "CLOSED             19616\n",
       "ON_HOLD             9804\n",
       "SUSPECTED_FRAUD     4062\n",
       "CANCELED            3692\n",
       "PAYMENT_REVIEW      1893\n",
       "Name: Order Status, dtype: int64"
      ]
     },
     "execution_count": 10,
     "metadata": {},
     "output_type": "execute_result"
    }
   ],
   "source": [
    "df_source['Order Status'].value_counts()"
   ]
  },
  {
   "attachments": {},
   "cell_type": "markdown",
   "metadata": {},
   "source": [
    "### 1.3.2 Feature Engineering"
   ]
  },
  {
   "attachments": {},
   "cell_type": "markdown",
   "metadata": {},
   "source": [
    "#### 1.3.2.1 Hour-Month\n",
    "\n",
    " this variable is calculated based on the variable “order-date”"
   ]
  },
  {
   "cell_type": "code",
   "execution_count": 11,
   "metadata": {},
   "outputs": [
    {
     "data": {
      "text/plain": [
       "count    180519.000000\n",
       "mean        389.227993\n",
       "std         211.850418\n",
       "min          24.000000\n",
       "25%         206.000000\n",
       "50%         390.000000\n",
       "75%         572.000000\n",
       "max         767.000000\n",
       "Name: hour-month, dtype: float64"
      ]
     },
     "execution_count": 11,
     "metadata": {},
     "output_type": "execute_result"
    }
   ],
   "source": [
    "def add_hour_month(df_source: pd.DataFrame) -> pd.DataFrame:\n",
    "    \"\"\"\n",
    "    Add a new column to the dataframe that indicates the time of the\n",
    "    month in which this data was captured.\n",
    "\n",
    "    Parameters\n",
    "    ----------\n",
    "    df_source : pd.DataFrame\n",
    "        The source dataframe\n",
    "    \"\"\"\n",
    "    df_source['hour-month'] = (df_source['order date (DateOrders)'].dt.day * 24) + df_source['order date (DateOrders)'].dt.hour\n",
    "    return df_source\n",
    "\n",
    "add_hour_month(df_source)\n",
    "df_source['hour-month'].describe()\n",
    "\n",
    "#(df_source['hour-month'] / df_source['hour-month'].mean()).describe()"
   ]
  },
  {
   "cell_type": "code",
   "execution_count": 12,
   "metadata": {},
   "outputs": [
    {
     "name": "stdout",
     "output_type": "stream",
     "text": [
      "Mean: -0.0 | Std: 1.0 | Median: 0.003644 | Min: -1.723995 | Max: 1.783207\n"
     ]
    },
    {
     "data": {
      "text/html": [
       "<div>\n",
       "<style scoped>\n",
       "    .dataframe tbody tr th:only-of-type {\n",
       "        vertical-align: middle;\n",
       "    }\n",
       "\n",
       "    .dataframe tbody tr th {\n",
       "        vertical-align: top;\n",
       "    }\n",
       "\n",
       "    .dataframe thead th {\n",
       "        text-align: right;\n",
       "    }\n",
       "</style>\n",
       "<table border=\"1\" class=\"dataframe\">\n",
       "  <thead>\n",
       "    <tr style=\"text-align: right;\">\n",
       "      <th></th>\n",
       "      <th>0</th>\n",
       "    </tr>\n",
       "  </thead>\n",
       "  <tbody>\n",
       "    <tr>\n",
       "      <th>count</th>\n",
       "      <td>180519.000000</td>\n",
       "    </tr>\n",
       "    <tr>\n",
       "      <th>mean</th>\n",
       "      <td>-0.000001</td>\n",
       "    </tr>\n",
       "    <tr>\n",
       "      <th>std</th>\n",
       "      <td>1.000003</td>\n",
       "    </tr>\n",
       "    <tr>\n",
       "      <th>min</th>\n",
       "      <td>-1.724000</td>\n",
       "    </tr>\n",
       "    <tr>\n",
       "      <th>25%</th>\n",
       "      <td>-0.865000</td>\n",
       "    </tr>\n",
       "    <tr>\n",
       "      <th>50%</th>\n",
       "      <td>0.004000</td>\n",
       "    </tr>\n",
       "    <tr>\n",
       "      <th>75%</th>\n",
       "      <td>0.863000</td>\n",
       "    </tr>\n",
       "    <tr>\n",
       "      <th>max</th>\n",
       "      <td>1.783000</td>\n",
       "    </tr>\n",
       "  </tbody>\n",
       "</table>\n",
       "</div>"
      ],
      "text/plain": [
       "                   0\n",
       "count  180519.000000\n",
       "mean       -0.000001\n",
       "std         1.000003\n",
       "min        -1.724000\n",
       "25%        -0.865000\n",
       "50%         0.004000\n",
       "75%         0.863000\n",
       "max         1.783000"
      ]
     },
     "execution_count": 12,
     "metadata": {},
     "output_type": "execute_result"
    }
   ],
   "source": [
    "# show the standardized data\n",
    "scaler = StandardScaler()\n",
    "scaled = scaler.fit_transform(df_source[['hour-month']].sample(frac=1))\n",
    "print(f'Mean: {scaled.mean().round()} | Std: {scaled.std().round()} | Median: {np.median(scaled).round(6)} | Min: {scaled.min().round(6)} | Max: {scaled.max().round(6)}')\n",
    "pd.DataFrame(scaled.round(decimals=3)).describe()"
   ]
  },
  {
   "attachments": {},
   "cell_type": "markdown",
   "metadata": {},
   "source": [
    "#### 1.3.2.2 Is Fraud\n",
    "\n",
    "Calculated binary categorical variable that indicates 0: No Fraud and 1: Fraud"
   ]
  },
  {
   "cell_type": "code",
   "execution_count": 13,
   "metadata": {},
   "outputs": [
    {
     "data": {
      "text/plain": [
       "0    176457\n",
       "1      4062\n",
       "Name: is_fraud, dtype: int64"
      ]
     },
     "execution_count": 13,
     "metadata": {},
     "output_type": "execute_result"
    }
   ],
   "source": [
    "def add_is_fraud(df_source: pd.DataFrame) -> pd.DataFrame:\n",
    "    \"\"\"\n",
    "    Add a new column to the dataframe that indicates\n",
    "    0: No Fraud and 1: Fraud\n",
    "\n",
    "    Parameters\n",
    "    ----------\n",
    "    df_source : pd.DataFrame\n",
    "        The source dataframe\n",
    "    \"\"\"\n",
    "    df_source['is_fraud'] = df_source['Order Status'].apply(lambda x: 1 if x == 'SUSPECTED_FRAUD' else 0)\n",
    "    return df_source\n",
    "\n",
    "add_is_fraud(df_source)\n",
    "df_source['is_fraud'].value_counts()"
   ]
  },
  {
   "attachments": {},
   "cell_type": "markdown",
   "metadata": {},
   "source": [
    "### 1.3.3 AutoML Model\n",
    "\n",
    "Use AutoML to get an idea of the best model for this problem."
   ]
  },
  {
   "attachments": {},
   "cell_type": "markdown",
   "metadata": {},
   "source": [
    "#### 1.3.3.1 Data Selection"
   ]
  },
  {
   "cell_type": "code",
   "execution_count": 14,
   "metadata": {},
   "outputs": [
    {
     "name": "stdout",
     "output_type": "stream",
     "text": [
      "['Customer Lname', 'Customer Zipcode', 'Order Zipcode', 'Product Description']\n"
     ]
    }
   ],
   "source": [
    "# find columns with null values\n",
    "has_nulls = df_source.columns[df_source.isna().any()].tolist()\n",
    "print(has_nulls)"
   ]
  },
  {
   "cell_type": "code",
   "execution_count": 15,
   "metadata": {},
   "outputs": [
    {
     "name": "stdout",
     "output_type": "stream",
     "text": [
      "['Customer Lname', 'Customer Zipcode', 'Order Zipcode', 'Product Description', 'Order Status', 'Order Id', 'Delivery Status', 'Customer Fname', 'shipping date (DateOrders)']\n"
     ]
    }
   ],
   "source": [
    "remove_columns = [\n",
    "    *has_nulls,\n",
    "    'Order Status',     # the target value is derived from this column\n",
    "    'Order Id',         # data leakage\n",
    "    'Delivery Status',  # data leakage: suspected fraud orders are often cancelled\n",
    "    'Customer Fname',\n",
    "    'shipping date (DateOrders)',\n",
    "]\n",
    "\n",
    "print(remove_columns)"
   ]
  },
  {
   "cell_type": "code",
   "execution_count": 16,
   "metadata": {},
   "outputs": [
    {
     "name": "stdout",
     "output_type": "stream",
     "text": [
      "Training dataset shape : (126363, 46)\n",
      "Unseen dataset shape   : (54156, 46)\n"
     ]
    }
   ],
   "source": [
    "random_state = 42\n",
    "\n",
    "df_sample = df_source.sample(frac=1, random_state=random_state) \\\n",
    "    .drop(columns=remove_columns) \\\n",
    "    .drop(columns=[]) \\\n",
    "\n",
    "# create the training dataset\n",
    "df_unseen = df_sample.sample(frac=0.3, random_state=random_state)\n",
    "df_train = df_sample.drop(df_unseen.index)\n",
    "\n",
    "# reset the index of both datasets\n",
    "df_train.reset_index(drop=True, inplace=True)\n",
    "df_unseen.reset_index(drop=True, inplace=True)\n",
    "\n",
    "print(f'Training dataset shape : {df_train.shape}')\n",
    "print(f'Unseen dataset shape   : {df_unseen.shape}')"
   ]
  },
  {
   "cell_type": "code",
   "execution_count": 17,
   "metadata": {},
   "outputs": [
    {
     "data": {
      "text/plain": [
       "0    123477\n",
       "1      2886\n",
       "Name: is_fraud, dtype: int64"
      ]
     },
     "execution_count": 17,
     "metadata": {},
     "output_type": "execute_result"
    }
   ],
   "source": [
    "df_train.is_fraud.value_counts()"
   ]
  },
  {
   "cell_type": "markdown",
   "metadata": {},
   "source": [
    "#### 1.3.3.2 Classifier Setup"
   ]
  },
  {
   "cell_type": "code",
   "execution_count": 18,
   "metadata": {},
   "outputs": [],
   "source": [
    "# the list of features used in the paper\n",
    "paper_features = [\n",
    "    'hour-month',\n",
    "    'Type',\n",
    "    'Sales per customer',\n",
    "    'Customer State',\n",
    "    'Order State',\n",
    "    'is_fraud'\n",
    "]"
   ]
  },
  {
   "cell_type": "code",
   "execution_count": 19,
   "metadata": {},
   "outputs": [],
   "source": [
    "classifier = setup(\n",
    "    data=df_train,\n",
    "    target='is_fraud',\n",
    "    train_size=0.7,\n",
    "    session_id=random_state,\n",
    "    verbose=False)"
   ]
  },
  {
   "attachments": {},
   "cell_type": "markdown",
   "metadata": {},
   "source": [
    "#### 1.3.3.3 Random Forest\n",
    "\n",
    "Create A Random Forest Classifier to get idea of feature importance."
   ]
  },
  {
   "cell_type": "code",
   "execution_count": 20,
   "metadata": {},
   "outputs": [
    {
     "data": {
      "text/html": [],
      "text/plain": [
       "<IPython.core.display.HTML object>"
      ]
     },
     "metadata": {},
     "output_type": "display_data"
    },
    {
     "data": {
      "text/html": [
       "<style type=\"text/css\">\n",
       "#T_fc654_row10_col0, #T_fc654_row10_col1, #T_fc654_row10_col2, #T_fc654_row10_col3, #T_fc654_row10_col4, #T_fc654_row10_col5, #T_fc654_row10_col6 {\n",
       "  background: yellow;\n",
       "}\n",
       "</style>\n",
       "<table id=\"T_fc654_\">\n",
       "  <thead>\n",
       "    <tr>\n",
       "      <th class=\"blank level0\" >&nbsp;</th>\n",
       "      <th class=\"col_heading level0 col0\" >Accuracy</th>\n",
       "      <th class=\"col_heading level0 col1\" >AUC</th>\n",
       "      <th class=\"col_heading level0 col2\" >Recall</th>\n",
       "      <th class=\"col_heading level0 col3\" >Prec.</th>\n",
       "      <th class=\"col_heading level0 col4\" >F1</th>\n",
       "      <th class=\"col_heading level0 col5\" >Kappa</th>\n",
       "      <th class=\"col_heading level0 col6\" >MCC</th>\n",
       "    </tr>\n",
       "    <tr>\n",
       "      <th class=\"index_name level0\" >Fold</th>\n",
       "      <th class=\"blank col0\" >&nbsp;</th>\n",
       "      <th class=\"blank col1\" >&nbsp;</th>\n",
       "      <th class=\"blank col2\" >&nbsp;</th>\n",
       "      <th class=\"blank col3\" >&nbsp;</th>\n",
       "      <th class=\"blank col4\" >&nbsp;</th>\n",
       "      <th class=\"blank col5\" >&nbsp;</th>\n",
       "      <th class=\"blank col6\" >&nbsp;</th>\n",
       "    </tr>\n",
       "  </thead>\n",
       "  <tbody>\n",
       "    <tr>\n",
       "      <th id=\"T_fc654_level0_row0\" class=\"row_heading level0 row0\" >0</th>\n",
       "      <td id=\"T_fc654_row0_col0\" class=\"data row0 col0\" >0.9781</td>\n",
       "      <td id=\"T_fc654_row0_col1\" class=\"data row0 col1\" >0.9508</td>\n",
       "      <td id=\"T_fc654_row0_col2\" class=\"data row0 col2\" >0.0396</td>\n",
       "      <td id=\"T_fc654_row0_col3\" class=\"data row0 col3\" >1.0000</td>\n",
       "      <td id=\"T_fc654_row0_col4\" class=\"data row0 col4\" >0.0762</td>\n",
       "      <td id=\"T_fc654_row0_col5\" class=\"data row0 col5\" >0.0746</td>\n",
       "      <td id=\"T_fc654_row0_col6\" class=\"data row0 col6\" >0.1968</td>\n",
       "    </tr>\n",
       "    <tr>\n",
       "      <th id=\"T_fc654_level0_row1\" class=\"row_heading level0 row1\" >1</th>\n",
       "      <td id=\"T_fc654_row1_col0\" class=\"data row1 col0\" >0.9785</td>\n",
       "      <td id=\"T_fc654_row1_col1\" class=\"data row1 col1\" >0.9401</td>\n",
       "      <td id=\"T_fc654_row1_col2\" class=\"data row1 col2\" >0.0594</td>\n",
       "      <td id=\"T_fc654_row1_col3\" class=\"data row1 col3\" >1.0000</td>\n",
       "      <td id=\"T_fc654_row1_col4\" class=\"data row1 col4\" >0.1121</td>\n",
       "      <td id=\"T_fc654_row1_col5\" class=\"data row1 col5\" >0.1099</td>\n",
       "      <td id=\"T_fc654_row1_col6\" class=\"data row1 col6\" >0.2411</td>\n",
       "    </tr>\n",
       "    <tr>\n",
       "      <th id=\"T_fc654_level0_row2\" class=\"row_heading level0 row2\" >2</th>\n",
       "      <td id=\"T_fc654_row2_col0\" class=\"data row2 col0\" >0.9777</td>\n",
       "      <td id=\"T_fc654_row2_col1\" class=\"data row2 col1\" >0.9445</td>\n",
       "      <td id=\"T_fc654_row2_col2\" class=\"data row2 col2\" >0.0248</td>\n",
       "      <td id=\"T_fc654_row2_col3\" class=\"data row2 col3\" >1.0000</td>\n",
       "      <td id=\"T_fc654_row2_col4\" class=\"data row2 col4\" >0.0483</td>\n",
       "      <td id=\"T_fc654_row2_col5\" class=\"data row2 col5\" >0.0473</td>\n",
       "      <td id=\"T_fc654_row2_col6\" class=\"data row2 col6\" >0.1556</td>\n",
       "    </tr>\n",
       "    <tr>\n",
       "      <th id=\"T_fc654_level0_row3\" class=\"row_heading level0 row3\" >3</th>\n",
       "      <td id=\"T_fc654_row3_col0\" class=\"data row3 col0\" >0.9777</td>\n",
       "      <td id=\"T_fc654_row3_col1\" class=\"data row3 col1\" >0.9559</td>\n",
       "      <td id=\"T_fc654_row3_col2\" class=\"data row3 col2\" >0.0248</td>\n",
       "      <td id=\"T_fc654_row3_col3\" class=\"data row3 col3\" >1.0000</td>\n",
       "      <td id=\"T_fc654_row3_col4\" class=\"data row3 col4\" >0.0483</td>\n",
       "      <td id=\"T_fc654_row3_col5\" class=\"data row3 col5\" >0.0473</td>\n",
       "      <td id=\"T_fc654_row3_col6\" class=\"data row3 col6\" >0.1556</td>\n",
       "    </tr>\n",
       "    <tr>\n",
       "      <th id=\"T_fc654_level0_row4\" class=\"row_heading level0 row4\" >4</th>\n",
       "      <td id=\"T_fc654_row4_col0\" class=\"data row4 col0\" >0.9781</td>\n",
       "      <td id=\"T_fc654_row4_col1\" class=\"data row4 col1\" >0.9327</td>\n",
       "      <td id=\"T_fc654_row4_col2\" class=\"data row4 col2\" >0.0446</td>\n",
       "      <td id=\"T_fc654_row4_col3\" class=\"data row4 col3\" >0.9000</td>\n",
       "      <td id=\"T_fc654_row4_col4\" class=\"data row4 col4\" >0.0849</td>\n",
       "      <td id=\"T_fc654_row4_col5\" class=\"data row4 col5\" >0.0829</td>\n",
       "      <td id=\"T_fc654_row4_col6\" class=\"data row4 col6\" >0.1975</td>\n",
       "    </tr>\n",
       "    <tr>\n",
       "      <th id=\"T_fc654_level0_row5\" class=\"row_heading level0 row5\" >5</th>\n",
       "      <td id=\"T_fc654_row5_col0\" class=\"data row5 col0\" >0.9791</td>\n",
       "      <td id=\"T_fc654_row5_col1\" class=\"data row5 col1\" >0.9507</td>\n",
       "      <td id=\"T_fc654_row5_col2\" class=\"data row5 col2\" >0.0842</td>\n",
       "      <td id=\"T_fc654_row5_col3\" class=\"data row5 col3\" >1.0000</td>\n",
       "      <td id=\"T_fc654_row5_col4\" class=\"data row5 col4\" >0.1553</td>\n",
       "      <td id=\"T_fc654_row5_col5\" class=\"data row5 col5\" >0.1522</td>\n",
       "      <td id=\"T_fc654_row5_col6\" class=\"data row5 col6\" >0.2870</td>\n",
       "    </tr>\n",
       "    <tr>\n",
       "      <th id=\"T_fc654_level0_row6\" class=\"row_heading level0 row6\" >6</th>\n",
       "      <td id=\"T_fc654_row6_col0\" class=\"data row6 col0\" >0.9778</td>\n",
       "      <td id=\"T_fc654_row6_col1\" class=\"data row6 col1\" >0.9446</td>\n",
       "      <td id=\"T_fc654_row6_col2\" class=\"data row6 col2\" >0.0297</td>\n",
       "      <td id=\"T_fc654_row6_col3\" class=\"data row6 col3\" >1.0000</td>\n",
       "      <td id=\"T_fc654_row6_col4\" class=\"data row6 col4\" >0.0577</td>\n",
       "      <td id=\"T_fc654_row6_col5\" class=\"data row6 col5\" >0.0564</td>\n",
       "      <td id=\"T_fc654_row6_col6\" class=\"data row6 col6\" >0.1704</td>\n",
       "    </tr>\n",
       "    <tr>\n",
       "      <th id=\"T_fc654_level0_row7\" class=\"row_heading level0 row7\" >7</th>\n",
       "      <td id=\"T_fc654_row7_col0\" class=\"data row7 col0\" >0.9790</td>\n",
       "      <td id=\"T_fc654_row7_col1\" class=\"data row7 col1\" >0.9463</td>\n",
       "      <td id=\"T_fc654_row7_col2\" class=\"data row7 col2\" >0.0792</td>\n",
       "      <td id=\"T_fc654_row7_col3\" class=\"data row7 col3\" >1.0000</td>\n",
       "      <td id=\"T_fc654_row7_col4\" class=\"data row7 col4\" >0.1468</td>\n",
       "      <td id=\"T_fc654_row7_col5\" class=\"data row7 col5\" >0.1439</td>\n",
       "      <td id=\"T_fc654_row7_col6\" class=\"data row7 col6\" >0.2785</td>\n",
       "    </tr>\n",
       "    <tr>\n",
       "      <th id=\"T_fc654_level0_row8\" class=\"row_heading level0 row8\" >8</th>\n",
       "      <td id=\"T_fc654_row8_col0\" class=\"data row8 col0\" >0.9781</td>\n",
       "      <td id=\"T_fc654_row8_col1\" class=\"data row8 col1\" >0.9341</td>\n",
       "      <td id=\"T_fc654_row8_col2\" class=\"data row8 col2\" >0.0396</td>\n",
       "      <td id=\"T_fc654_row8_col3\" class=\"data row8 col3\" >1.0000</td>\n",
       "      <td id=\"T_fc654_row8_col4\" class=\"data row8 col4\" >0.0762</td>\n",
       "      <td id=\"T_fc654_row8_col5\" class=\"data row8 col5\" >0.0746</td>\n",
       "      <td id=\"T_fc654_row8_col6\" class=\"data row8 col6\" >0.1968</td>\n",
       "    </tr>\n",
       "    <tr>\n",
       "      <th id=\"T_fc654_level0_row9\" class=\"row_heading level0 row9\" >9</th>\n",
       "      <td id=\"T_fc654_row9_col0\" class=\"data row9 col0\" >0.9785</td>\n",
       "      <td id=\"T_fc654_row9_col1\" class=\"data row9 col1\" >0.9430</td>\n",
       "      <td id=\"T_fc654_row9_col2\" class=\"data row9 col2\" >0.0594</td>\n",
       "      <td id=\"T_fc654_row9_col3\" class=\"data row9 col3\" >1.0000</td>\n",
       "      <td id=\"T_fc654_row9_col4\" class=\"data row9 col4\" >0.1121</td>\n",
       "      <td id=\"T_fc654_row9_col5\" class=\"data row9 col5\" >0.1099</td>\n",
       "      <td id=\"T_fc654_row9_col6\" class=\"data row9 col6\" >0.2411</td>\n",
       "    </tr>\n",
       "    <tr>\n",
       "      <th id=\"T_fc654_level0_row10\" class=\"row_heading level0 row10\" >Mean</th>\n",
       "      <td id=\"T_fc654_row10_col0\" class=\"data row10 col0\" >0.9783</td>\n",
       "      <td id=\"T_fc654_row10_col1\" class=\"data row10 col1\" >0.9443</td>\n",
       "      <td id=\"T_fc654_row10_col2\" class=\"data row10 col2\" >0.0485</td>\n",
       "      <td id=\"T_fc654_row10_col3\" class=\"data row10 col3\" >0.9900</td>\n",
       "      <td id=\"T_fc654_row10_col4\" class=\"data row10 col4\" >0.0918</td>\n",
       "      <td id=\"T_fc654_row10_col5\" class=\"data row10 col5\" >0.0899</td>\n",
       "      <td id=\"T_fc654_row10_col6\" class=\"data row10 col6\" >0.2120</td>\n",
       "    </tr>\n",
       "    <tr>\n",
       "      <th id=\"T_fc654_level0_row11\" class=\"row_heading level0 row11\" >Std</th>\n",
       "      <td id=\"T_fc654_row11_col0\" class=\"data row11 col0\" >0.0005</td>\n",
       "      <td id=\"T_fc654_row11_col1\" class=\"data row11 col1\" >0.0069</td>\n",
       "      <td id=\"T_fc654_row11_col2\" class=\"data row11 col2\" >0.0203</td>\n",
       "      <td id=\"T_fc654_row11_col3\" class=\"data row11 col3\" >0.0300</td>\n",
       "      <td id=\"T_fc654_row11_col4\" class=\"data row11 col4\" >0.0366</td>\n",
       "      <td id=\"T_fc654_row11_col5\" class=\"data row11 col5\" >0.0359</td>\n",
       "      <td id=\"T_fc654_row11_col6\" class=\"data row11 col6\" >0.0453</td>\n",
       "    </tr>\n",
       "  </tbody>\n",
       "</table>\n"
      ],
      "text/plain": [
       "<pandas.io.formats.style.Styler at 0x7f698d5c8dd0>"
      ]
     },
     "metadata": {},
     "output_type": "display_data"
    },
    {
     "data": {
      "text/html": [],
      "text/plain": [
       "<IPython.core.display.HTML object>"
      ]
     },
     "metadata": {},
     "output_type": "display_data"
    }
   ],
   "source": [
    "rf_classifier = create_model('rf')"
   ]
  },
  {
   "cell_type": "code",
   "execution_count": 21,
   "metadata": {},
   "outputs": [
    {
     "data": {
      "text/html": [],
      "text/plain": [
       "<IPython.core.display.HTML object>"
      ]
     },
     "metadata": {},
     "output_type": "display_data"
    },
    {
     "data": {
      "image/png": "[encoded data removed]",
      "text/plain": [
       "<Figure size 800x550 with 1 Axes>"
      ]
     },
     "metadata": {},
     "output_type": "display_data"
    }
   ],
   "source": [
    "plot_model(rf_classifier, plot='confusion_matrix')"
   ]
  },
  {
   "cell_type": "code",
   "execution_count": 22,
   "metadata": {},
   "outputs": [
    {
     "data": {
      "text/html": [],
      "text/plain": [
       "<IPython.core.display.HTML object>"
      ]
     },
     "metadata": {},
     "output_type": "display_data"
    },
    {
     "data": {
      "image/png": "[encoded data removed]",
      "text/plain": [
       "<Figure size 800x550 with 1 Axes>"
      ]
     },
     "metadata": {},
     "output_type": "display_data"
    }
   ],
   "source": [
    "plot_model(rf_classifier, plot='auc')"
   ]
  },
  {
   "cell_type": "code",
   "execution_count": 23,
   "metadata": {},
   "outputs": [
    {
     "data": {
      "text/html": [],
      "text/plain": [
       "<IPython.core.display.HTML object>"
      ]
     },
     "metadata": {},
     "output_type": "display_data"
    },
    {
     "data": {
      "image/png": "[encoded data removed]",
      "text/plain": [
       "<Figure size 800x500 with 1 Axes>"
      ]
     },
     "metadata": {},
     "output_type": "display_data"
    }
   ],
   "source": [
    "plot_model(rf_classifier, plot='feature')"
   ]
  },
  {
   "cell_type": "markdown",
   "metadata": {},
   "source": [
    "#### 1.3.3.4 Find Top Models"
   ]
  },
  {
   "cell_type": "code",
   "execution_count": 24,
   "metadata": {},
   "outputs": [
    {
     "data": {
      "text/html": [],
      "text/plain": [
       "<IPython.core.display.HTML object>"
      ]
     },
     "metadata": {},
     "output_type": "display_data"
    },
    {
     "data": {
      "text/html": [
       "<style type=\"text/css\">\n",
       "#T_e88e2_ th {\n",
       "  text-align: left;\n",
       "}\n",
       "#T_e88e2_row0_col0, #T_e88e2_row0_col3, #T_e88e2_row0_col4, #T_e88e2_row0_col5, #T_e88e2_row0_col6, #T_e88e2_row1_col0, #T_e88e2_row1_col1, #T_e88e2_row1_col2, #T_e88e2_row1_col3, #T_e88e2_row1_col4, #T_e88e2_row1_col5, #T_e88e2_row1_col6, #T_e88e2_row1_col7, #T_e88e2_row2_col0, #T_e88e2_row2_col1, #T_e88e2_row2_col2, #T_e88e2_row2_col3, #T_e88e2_row2_col4, #T_e88e2_row2_col5, #T_e88e2_row2_col6, #T_e88e2_row2_col7, #T_e88e2_row3_col0, #T_e88e2_row3_col1, #T_e88e2_row3_col2, #T_e88e2_row3_col3, #T_e88e2_row3_col5, #T_e88e2_row3_col6, #T_e88e2_row3_col7, #T_e88e2_row4_col0, #T_e88e2_row4_col1, #T_e88e2_row4_col2, #T_e88e2_row4_col3, #T_e88e2_row4_col4, #T_e88e2_row4_col5, #T_e88e2_row4_col6, #T_e88e2_row4_col7, #T_e88e2_row5_col0, #T_e88e2_row5_col1, #T_e88e2_row5_col2, #T_e88e2_row5_col3, #T_e88e2_row5_col4, #T_e88e2_row5_col5, #T_e88e2_row5_col6, #T_e88e2_row5_col7, #T_e88e2_row6_col0, #T_e88e2_row6_col1, #T_e88e2_row6_col2, #T_e88e2_row6_col3, #T_e88e2_row6_col4, #T_e88e2_row6_col5, #T_e88e2_row6_col6, #T_e88e2_row6_col7, #T_e88e2_row7_col0, #T_e88e2_row7_col1, #T_e88e2_row7_col2, #T_e88e2_row7_col3, #T_e88e2_row7_col4, #T_e88e2_row7_col5, #T_e88e2_row7_col6, #T_e88e2_row7_col7, #T_e88e2_row8_col0, #T_e88e2_row8_col1, #T_e88e2_row8_col2, #T_e88e2_row8_col3, #T_e88e2_row8_col4, #T_e88e2_row8_col5, #T_e88e2_row8_col6, #T_e88e2_row8_col7, #T_e88e2_row9_col0, #T_e88e2_row9_col1, #T_e88e2_row9_col2, #T_e88e2_row9_col3, #T_e88e2_row9_col4, #T_e88e2_row9_col7, #T_e88e2_row10_col0, #T_e88e2_row10_col1, #T_e88e2_row10_col2, #T_e88e2_row10_col3, #T_e88e2_row10_col4, #T_e88e2_row10_col5, #T_e88e2_row10_col6, #T_e88e2_row10_col7, #T_e88e2_row11_col0, #T_e88e2_row11_col1, #T_e88e2_row11_col2, #T_e88e2_row11_col3, #T_e88e2_row11_col4, #T_e88e2_row11_col5, #T_e88e2_row11_col6, #T_e88e2_row11_col7, #T_e88e2_row12_col0, #T_e88e2_row12_col1, #T_e88e2_row12_col2, #T_e88e2_row12_col3, #T_e88e2_row12_col4, #T_e88e2_row12_col5, #T_e88e2_row12_col6, #T_e88e2_row12_col7, #T_e88e2_row13_col0, #T_e88e2_row13_col1, #T_e88e2_row13_col2, #T_e88e2_row13_col4, #T_e88e2_row13_col5, #T_e88e2_row13_col6, #T_e88e2_row13_col7 {\n",
       "  text-align: left;\n",
       "}\n",
       "#T_e88e2_row0_col1, #T_e88e2_row0_col2, #T_e88e2_row0_col7, #T_e88e2_row3_col4, #T_e88e2_row9_col5, #T_e88e2_row9_col6, #T_e88e2_row13_col3 {\n",
       "  text-align: left;\n",
       "  background-color: yellow;\n",
       "}\n",
       "#T_e88e2_row0_col8, #T_e88e2_row1_col8, #T_e88e2_row2_col8, #T_e88e2_row3_col8, #T_e88e2_row4_col8, #T_e88e2_row6_col8, #T_e88e2_row7_col8, #T_e88e2_row8_col8, #T_e88e2_row9_col8, #T_e88e2_row10_col8, #T_e88e2_row11_col8, #T_e88e2_row12_col8, #T_e88e2_row13_col8 {\n",
       "  text-align: left;\n",
       "  background-color: lightgrey;\n",
       "}\n",
       "#T_e88e2_row5_col8 {\n",
       "  text-align: left;\n",
       "  background-color: yellow;\n",
       "  background-color: lightgrey;\n",
       "}\n",
       "</style>\n",
       "<table id=\"T_e88e2_\">\n",
       "  <thead>\n",
       "    <tr>\n",
       "      <th class=\"blank level0\" >&nbsp;</th>\n",
       "      <th class=\"col_heading level0 col0\" >Model</th>\n",
       "      <th class=\"col_heading level0 col1\" >Accuracy</th>\n",
       "      <th class=\"col_heading level0 col2\" >AUC</th>\n",
       "      <th class=\"col_heading level0 col3\" >Recall</th>\n",
       "      <th class=\"col_heading level0 col4\" >Prec.</th>\n",
       "      <th class=\"col_heading level0 col5\" >F1</th>\n",
       "      <th class=\"col_heading level0 col6\" >Kappa</th>\n",
       "      <th class=\"col_heading level0 col7\" >MCC</th>\n",
       "      <th class=\"col_heading level0 col8\" >TT (Sec)</th>\n",
       "    </tr>\n",
       "  </thead>\n",
       "  <tbody>\n",
       "    <tr>\n",
       "      <th id=\"T_e88e2_level0_row0\" class=\"row_heading level0 row0\" >et</th>\n",
       "      <td id=\"T_e88e2_row0_col0\" class=\"data row0 col0\" >Extra Trees Classifier</td>\n",
       "      <td id=\"T_e88e2_row0_col1\" class=\"data row0 col1\" >0.9836</td>\n",
       "      <td id=\"T_e88e2_row0_col2\" class=\"data row0 col2\" >0.9874</td>\n",
       "      <td id=\"T_e88e2_row0_col3\" class=\"data row0 col3\" >0.2876</td>\n",
       "      <td id=\"T_e88e2_row0_col4\" class=\"data row0 col4\" >0.9817</td>\n",
       "      <td id=\"T_e88e2_row0_col5\" class=\"data row0 col5\" >0.4443</td>\n",
       "      <td id=\"T_e88e2_row0_col6\" class=\"data row0 col6\" >0.4386</td>\n",
       "      <td id=\"T_e88e2_row0_col7\" class=\"data row0 col7\" >0.5263</td>\n",
       "      <td id=\"T_e88e2_row0_col8\" class=\"data row0 col8\" >2.9610</td>\n",
       "    </tr>\n",
       "    <tr>\n",
       "      <th id=\"T_e88e2_level0_row1\" class=\"row_heading level0 row1\" >ada</th>\n",
       "      <td id=\"T_e88e2_row1_col0\" class=\"data row1 col0\" >Ada Boost Classifier</td>\n",
       "      <td id=\"T_e88e2_row1_col1\" class=\"data row1 col1\" >0.9800</td>\n",
       "      <td id=\"T_e88e2_row1_col2\" class=\"data row1 col2\" >0.9746</td>\n",
       "      <td id=\"T_e88e2_row1_col3\" class=\"data row1 col3\" >0.1559</td>\n",
       "      <td id=\"T_e88e2_row1_col4\" class=\"data row1 col4\" >0.8368</td>\n",
       "      <td id=\"T_e88e2_row1_col5\" class=\"data row1 col5\" >0.2613</td>\n",
       "      <td id=\"T_e88e2_row1_col6\" class=\"data row1 col6\" >0.2561</td>\n",
       "      <td id=\"T_e88e2_row1_col7\" class=\"data row1 col7\" >0.3541</td>\n",
       "      <td id=\"T_e88e2_row1_col8\" class=\"data row1 col8\" >3.4120</td>\n",
       "    </tr>\n",
       "    <tr>\n",
       "      <th id=\"T_e88e2_level0_row2\" class=\"row_heading level0 row2\" >gbc</th>\n",
       "      <td id=\"T_e88e2_row2_col0\" class=\"data row2 col0\" >Gradient Boosting Classifier</td>\n",
       "      <td id=\"T_e88e2_row2_col1\" class=\"data row2 col1\" >0.9787</td>\n",
       "      <td id=\"T_e88e2_row2_col2\" class=\"data row2 col2\" >0.9774</td>\n",
       "      <td id=\"T_e88e2_row2_col3\" class=\"data row2 col3\" >0.0728</td>\n",
       "      <td id=\"T_e88e2_row2_col4\" class=\"data row2 col4\" >0.9579</td>\n",
       "      <td id=\"T_e88e2_row2_col5\" class=\"data row2 col5\" >0.1338</td>\n",
       "      <td id=\"T_e88e2_row2_col6\" class=\"data row2 col6\" >0.1311</td>\n",
       "      <td id=\"T_e88e2_row2_col7\" class=\"data row2 col7\" >0.2541</td>\n",
       "      <td id=\"T_e88e2_row2_col8\" class=\"data row2 col8\" >6.5670</td>\n",
       "    </tr>\n",
       "    <tr>\n",
       "      <th id=\"T_e88e2_level0_row3\" class=\"row_heading level0 row3\" >rf</th>\n",
       "      <td id=\"T_e88e2_row3_col0\" class=\"data row3 col0\" >Random Forest Classifier</td>\n",
       "      <td id=\"T_e88e2_row3_col1\" class=\"data row3 col1\" >0.9783</td>\n",
       "      <td id=\"T_e88e2_row3_col2\" class=\"data row3 col2\" >0.9443</td>\n",
       "      <td id=\"T_e88e2_row3_col3\" class=\"data row3 col3\" >0.0485</td>\n",
       "      <td id=\"T_e88e2_row3_col4\" class=\"data row3 col4\" >0.9900</td>\n",
       "      <td id=\"T_e88e2_row3_col5\" class=\"data row3 col5\" >0.0918</td>\n",
       "      <td id=\"T_e88e2_row3_col6\" class=\"data row3 col6\" >0.0899</td>\n",
       "      <td id=\"T_e88e2_row3_col7\" class=\"data row3 col7\" >0.2120</td>\n",
       "      <td id=\"T_e88e2_row3_col8\" class=\"data row3 col8\" >3.1290</td>\n",
       "    </tr>\n",
       "    <tr>\n",
       "      <th id=\"T_e88e2_level0_row4\" class=\"row_heading level0 row4\" >dt</th>\n",
       "      <td id=\"T_e88e2_row4_col0\" class=\"data row4 col0\" >Decision Tree Classifier</td>\n",
       "      <td id=\"T_e88e2_row4_col1\" class=\"data row4 col1\" >0.9779</td>\n",
       "      <td id=\"T_e88e2_row4_col2\" class=\"data row4 col2\" >0.5676</td>\n",
       "      <td id=\"T_e88e2_row4_col3\" class=\"data row4 col3\" >0.1376</td>\n",
       "      <td id=\"T_e88e2_row4_col4\" class=\"data row4 col4\" >0.5723</td>\n",
       "      <td id=\"T_e88e2_row4_col5\" class=\"data row4 col5\" >0.2203</td>\n",
       "      <td id=\"T_e88e2_row4_col6\" class=\"data row4 col6\" >0.2133</td>\n",
       "      <td id=\"T_e88e2_row4_col7\" class=\"data row4 col7\" >0.2717</td>\n",
       "      <td id=\"T_e88e2_row4_col8\" class=\"data row4 col8\" >2.2030</td>\n",
       "    </tr>\n",
       "    <tr>\n",
       "      <th id=\"T_e88e2_level0_row5\" class=\"row_heading level0 row5\" >ridge</th>\n",
       "      <td id=\"T_e88e2_row5_col0\" class=\"data row5 col0\" >Ridge Classifier</td>\n",
       "      <td id=\"T_e88e2_row5_col1\" class=\"data row5 col1\" >0.9775</td>\n",
       "      <td id=\"T_e88e2_row5_col2\" class=\"data row5 col2\" >0.0000</td>\n",
       "      <td id=\"T_e88e2_row5_col3\" class=\"data row5 col3\" >0.0144</td>\n",
       "      <td id=\"T_e88e2_row5_col4\" class=\"data row5 col4\" >0.9300</td>\n",
       "      <td id=\"T_e88e2_row5_col5\" class=\"data row5 col5\" >0.0281</td>\n",
       "      <td id=\"T_e88e2_row5_col6\" class=\"data row5 col6\" >0.0275</td>\n",
       "      <td id=\"T_e88e2_row5_col7\" class=\"data row5 col7\" >0.1087</td>\n",
       "      <td id=\"T_e88e2_row5_col8\" class=\"data row5 col8\" >1.9000</td>\n",
       "    </tr>\n",
       "    <tr>\n",
       "      <th id=\"T_e88e2_level0_row6\" class=\"row_heading level0 row6\" >lr</th>\n",
       "      <td id=\"T_e88e2_row6_col0\" class=\"data row6 col0\" >Logistic Regression</td>\n",
       "      <td id=\"T_e88e2_row6_col1\" class=\"data row6 col1\" >0.9772</td>\n",
       "      <td id=\"T_e88e2_row6_col2\" class=\"data row6 col2\" >0.5171</td>\n",
       "      <td id=\"T_e88e2_row6_col3\" class=\"data row6 col3\" >0.0000</td>\n",
       "      <td id=\"T_e88e2_row6_col4\" class=\"data row6 col4\" >0.0000</td>\n",
       "      <td id=\"T_e88e2_row6_col5\" class=\"data row6 col5\" >0.0000</td>\n",
       "      <td id=\"T_e88e2_row6_col6\" class=\"data row6 col6\" >0.0000</td>\n",
       "      <td id=\"T_e88e2_row6_col7\" class=\"data row6 col7\" >0.0000</td>\n",
       "      <td id=\"T_e88e2_row6_col8\" class=\"data row6 col8\" >2.9260</td>\n",
       "    </tr>\n",
       "    <tr>\n",
       "      <th id=\"T_e88e2_level0_row7\" class=\"row_heading level0 row7\" >lightgbm</th>\n",
       "      <td id=\"T_e88e2_row7_col0\" class=\"data row7 col0\" >Light Gradient Boosting Machine</td>\n",
       "      <td id=\"T_e88e2_row7_col1\" class=\"data row7 col1\" >0.9772</td>\n",
       "      <td id=\"T_e88e2_row7_col2\" class=\"data row7 col2\" >0.9657</td>\n",
       "      <td id=\"T_e88e2_row7_col3\" class=\"data row7 col3\" >0.0064</td>\n",
       "      <td id=\"T_e88e2_row7_col4\" class=\"data row7 col4\" >0.4222</td>\n",
       "      <td id=\"T_e88e2_row7_col5\" class=\"data row7 col5\" >0.0126</td>\n",
       "      <td id=\"T_e88e2_row7_col6\" class=\"data row7 col6\" >0.0120</td>\n",
       "      <td id=\"T_e88e2_row7_col7\" class=\"data row7 col7\" >0.0487</td>\n",
       "      <td id=\"T_e88e2_row7_col8\" class=\"data row7 col8\" >2.4440</td>\n",
       "    </tr>\n",
       "    <tr>\n",
       "      <th id=\"T_e88e2_level0_row8\" class=\"row_heading level0 row8\" >dummy</th>\n",
       "      <td id=\"T_e88e2_row8_col0\" class=\"data row8 col0\" >Dummy Classifier</td>\n",
       "      <td id=\"T_e88e2_row8_col1\" class=\"data row8 col1\" >0.9772</td>\n",
       "      <td id=\"T_e88e2_row8_col2\" class=\"data row8 col2\" >0.5000</td>\n",
       "      <td id=\"T_e88e2_row8_col3\" class=\"data row8 col3\" >0.0000</td>\n",
       "      <td id=\"T_e88e2_row8_col4\" class=\"data row8 col4\" >0.0000</td>\n",
       "      <td id=\"T_e88e2_row8_col5\" class=\"data row8 col5\" >0.0000</td>\n",
       "      <td id=\"T_e88e2_row8_col6\" class=\"data row8 col6\" >0.0000</td>\n",
       "      <td id=\"T_e88e2_row8_col7\" class=\"data row8 col7\" >0.0000</td>\n",
       "      <td id=\"T_e88e2_row8_col8\" class=\"data row8 col8\" >2.0880</td>\n",
       "    </tr>\n",
       "    <tr>\n",
       "      <th id=\"T_e88e2_level0_row9\" class=\"row_heading level0 row9\" >lda</th>\n",
       "      <td id=\"T_e88e2_row9_col0\" class=\"data row9 col0\" >Linear Discriminant Analysis</td>\n",
       "      <td id=\"T_e88e2_row9_col1\" class=\"data row9 col1\" >0.9765</td>\n",
       "      <td id=\"T_e88e2_row9_col2\" class=\"data row9 col2\" >0.9653</td>\n",
       "      <td id=\"T_e88e2_row9_col3\" class=\"data row9 col3\" >0.5901</td>\n",
       "      <td id=\"T_e88e2_row9_col4\" class=\"data row9 col4\" >0.4877</td>\n",
       "      <td id=\"T_e88e2_row9_col5\" class=\"data row9 col5\" >0.5338</td>\n",
       "      <td id=\"T_e88e2_row9_col6\" class=\"data row9 col6\" >0.5219</td>\n",
       "      <td id=\"T_e88e2_row9_col7\" class=\"data row9 col7\" >0.5245</td>\n",
       "      <td id=\"T_e88e2_row9_col8\" class=\"data row9 col8\" >2.5640</td>\n",
       "    </tr>\n",
       "    <tr>\n",
       "      <th id=\"T_e88e2_level0_row10\" class=\"row_heading level0 row10\" >knn</th>\n",
       "      <td id=\"T_e88e2_row10_col0\" class=\"data row10 col0\" >K Neighbors Classifier</td>\n",
       "      <td id=\"T_e88e2_row10_col1\" class=\"data row10 col1\" >0.9759</td>\n",
       "      <td id=\"T_e88e2_row10_col2\" class=\"data row10 col2\" >0.6836</td>\n",
       "      <td id=\"T_e88e2_row10_col3\" class=\"data row10 col3\" >0.0168</td>\n",
       "      <td id=\"T_e88e2_row10_col4\" class=\"data row10 col4\" >0.1957</td>\n",
       "      <td id=\"T_e88e2_row10_col5\" class=\"data row10 col5\" >0.0309</td>\n",
       "      <td id=\"T_e88e2_row10_col6\" class=\"data row10 col6\" >0.0273</td>\n",
       "      <td id=\"T_e88e2_row10_col7\" class=\"data row10 col7\" >0.0511</td>\n",
       "      <td id=\"T_e88e2_row10_col8\" class=\"data row10 col8\" >52.9530</td>\n",
       "    </tr>\n",
       "    <tr>\n",
       "      <th id=\"T_e88e2_level0_row11\" class=\"row_heading level0 row11\" >nb</th>\n",
       "      <td id=\"T_e88e2_row11_col0\" class=\"data row11 col0\" >Naive Bayes</td>\n",
       "      <td id=\"T_e88e2_row11_col1\" class=\"data row11 col1\" >0.9756</td>\n",
       "      <td id=\"T_e88e2_row11_col2\" class=\"data row11 col2\" >0.8206</td>\n",
       "      <td id=\"T_e88e2_row11_col3\" class=\"data row11 col3\" >0.0005</td>\n",
       "      <td id=\"T_e88e2_row11_col4\" class=\"data row11 col4\" >0.0067</td>\n",
       "      <td id=\"T_e88e2_row11_col5\" class=\"data row11 col5\" >0.0009</td>\n",
       "      <td id=\"T_e88e2_row11_col6\" class=\"data row11 col6\" >-0.0019</td>\n",
       "      <td id=\"T_e88e2_row11_col7\" class=\"data row11 col7\" >-0.0034</td>\n",
       "      <td id=\"T_e88e2_row11_col8\" class=\"data row11 col8\" >2.4920</td>\n",
       "    </tr>\n",
       "    <tr>\n",
       "      <th id=\"T_e88e2_level0_row12\" class=\"row_heading level0 row12\" >svm</th>\n",
       "      <td id=\"T_e88e2_row12_col0\" class=\"data row12 col0\" >SVM - Linear Kernel</td>\n",
       "      <td id=\"T_e88e2_row12_col1\" class=\"data row12 col1\" >0.8824</td>\n",
       "      <td id=\"T_e88e2_row12_col2\" class=\"data row12 col2\" >0.0000</td>\n",
       "      <td id=\"T_e88e2_row12_col3\" class=\"data row12 col3\" >0.0990</td>\n",
       "      <td id=\"T_e88e2_row12_col4\" class=\"data row12 col4\" >0.0082</td>\n",
       "      <td id=\"T_e88e2_row12_col5\" class=\"data row12 col5\" >0.0054</td>\n",
       "      <td id=\"T_e88e2_row12_col6\" class=\"data row12 col6\" >0.0002</td>\n",
       "      <td id=\"T_e88e2_row12_col7\" class=\"data row12 col7\" >-0.0002</td>\n",
       "      <td id=\"T_e88e2_row12_col8\" class=\"data row12 col8\" >3.2230</td>\n",
       "    </tr>\n",
       "    <tr>\n",
       "      <th id=\"T_e88e2_level0_row13\" class=\"row_heading level0 row13\" >qda</th>\n",
       "      <td id=\"T_e88e2_row13_col0\" class=\"data row13 col0\" >Quadratic Discriminant Analysis</td>\n",
       "      <td id=\"T_e88e2_row13_col1\" class=\"data row13 col1\" >0.8791</td>\n",
       "      <td id=\"T_e88e2_row13_col2\" class=\"data row13 col2\" >0.9381</td>\n",
       "      <td id=\"T_e88e2_row13_col3\" class=\"data row13 col3\" >1.0000</td>\n",
       "      <td id=\"T_e88e2_row13_col4\" class=\"data row13 col4\" >0.1590</td>\n",
       "      <td id=\"T_e88e2_row13_col5\" class=\"data row13 col5\" >0.2744</td>\n",
       "      <td id=\"T_e88e2_row13_col6\" class=\"data row13 col6\" >0.2446</td>\n",
       "      <td id=\"T_e88e2_row13_col7\" class=\"data row13 col7\" >0.3733</td>\n",
       "      <td id=\"T_e88e2_row13_col8\" class=\"data row13 col8\" >2.4380</td>\n",
       "    </tr>\n",
       "  </tbody>\n",
       "</table>\n"
      ],
      "text/plain": [
       "<pandas.io.formats.style.Styler at 0x7f698d4bfa50>"
      ]
     },
     "metadata": {},
     "output_type": "display_data"
    },
    {
     "data": {
      "text/html": [],
      "text/plain": [
       "<IPython.core.display.HTML object>"
      ]
     },
     "metadata": {},
     "output_type": "display_data"
    }
   ],
   "source": [
    "# perform a model comparison\n",
    "models = compare_models(n_select=3)"
   ]
  },
  {
   "attachments": {},
   "cell_type": "markdown",
   "metadata": {},
   "source": [
    "### 1.3.4 Visualization"
   ]
  },
  {
   "cell_type": "code",
   "execution_count": 25,
   "metadata": {},
   "outputs": [],
   "source": [
    "# define plotting function\n",
    "def myplotGrid(X:np.ndarray, y:np.ndarray, features:list, target:str='class', diag_kind:str='kde') -> None:\n",
    "    \"\"\"\n",
    "    Plot a grid of the interaction between features.\n",
    "\n",
    "    Parameters\n",
    "    ----------\n",
    "    X : ndarray\n",
    "        The independent (predictory) variables to plot interactions for.\n",
    "    y : ndarray\n",
    "        The one dimensional array containing the values of the dependant (target) variable.\n",
    "    features : list\n",
    "        The feature names of the independent variables in `X`.\n",
    "    target : str, optional\n",
    "        The display name of the target variable.\n",
    "    diag_kind : {'auto', 'hist', 'kde', None}, optional\n",
    "        Kind of plot for the diagonal subplots.\n",
    "    \"\"\"\n",
    "    # create a dataframe that can be processed by the seaborne library\n",
    "    data = pd.DataFrame(X, columns=features)    # create the dataframe from the independent variables\n",
    "    data[target] = y                            # add the dependant variable to the dataframe\n",
    "\n",
    "    # use the seaborne library to create a pairplot\n",
    "    sns.set_theme(style=\"ticks\")\n",
    "    sns.pairplot(data=data, hue=target, palette='pastel', diag_kind=diag_kind)\n",
    "    plt.draw()"
   ]
  },
  {
   "cell_type": "code",
   "execution_count": 26,
   "metadata": {},
   "outputs": [],
   "source": [
    "# a list of columns to remove from the feature list\n",
    "remove_columns = [\n",
    "\n",
    "]\n",
    "\n",
    "selected_features = df_source.columns.to_list()\n"
   ]
  }
 ],
 "metadata": {
  "kernelspec": {
   "display_name": "Python 3.7.15 64-bit",
   "language": "python",
   "name": "python3"
  },
  "language_info": {
   "codemirror_mode": {
    "name": "ipython",
    "version": 3
   },
   "file_extension": ".py",
   "mimetype": "text/x-python",
   "name": "python",
   "nbconvert_exporter": "python",
   "pygments_lexer": "ipython3",
   "version": "3.7.16"
  },
  "orig_nbformat": 4,
  "vscode": {
   "interpreter": {
    "hash": "949777d72b0d2535278d3dc13498b2535136f6dfe0678499012e853ee9abcab1"
   }
  }
 },
 "nbformat": 4,
 "nbformat_minor": 2
}
