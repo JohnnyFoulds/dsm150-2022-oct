{
 "cells": [
  {
   "cell_type": "markdown",
   "metadata": {},
   "source": [
    "1. Compile and run DLWP Listing 5.5\n",
    "2. Use a callback to automatically stop training once overfitting has set in (validation accuracy stops improving)\n",
    "3. Rewrite 5.5 using functional code\n",
    "4. Add an extra conv layer of 128 filters and a (3x3) local receptive field\n",
    "5. Add a residual connection between the two 128 filter layers. Hint: specify `padding='same'` to ease tensor compatibility \n",
    "6. Compile and train\n",
    "7. Experiment with batch normalisation"
   ]
  }
 ],
 "metadata": {
  "kernelspec": {
   "display_name": "Python 3",
   "language": "python",
   "name": "python3"
  },
  "language_info": {
   "codemirror_mode": {
    "name": "ipython",
    "version": 3
   },
   "file_extension": ".py",
   "mimetype": "text/x-python",
   "name": "python",
   "nbconvert_exporter": "python",
   "pygments_lexer": "ipython3",
   "version": "3.8.5"
  }
 },
 "nbformat": 4,
 "nbformat_minor": 2
}
